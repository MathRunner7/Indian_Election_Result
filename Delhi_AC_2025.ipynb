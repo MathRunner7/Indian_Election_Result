{
  "cells": [
    {
      "cell_type": "markdown",
      "metadata": {},
      "source": [
        "# Import basic libraries and Create functions to fetch data"
      ]
    },
    {
      "cell_type": "code",
      "execution_count": 143,
      "metadata": {
        "id": "9Cm3kbuK0hUa"
      },
      "outputs": [],
      "source": [
        "#@title Import necessary libraries\n",
        "# Data Manipulation\n",
        "import pandas as pd\n",
        "\n",
        "#Visualization\n",
        "import plotly.graph_objects as go\n",
        "from plotly.subplots import make_subplots\n",
        "\n",
        "# Web Scrapping\n",
        "from bs4 import BeautifulSoup\n",
        "import requests"
      ]
    },
    {
      "cell_type": "code",
      "execution_count": 393,
      "metadata": {},
      "outputs": [],
      "source": [
        "# Gloabl color codes for printing messages\n",
        "blue_text = '\\033[34m'\n",
        "green_text = '\\033[32m'\n",
        "red_text = '\\033[31m'\n",
        "yellow_text = '\\033[33m'\n",
        "reset_text = '\\033[0m'"
      ]
    },
    {
      "cell_type": "code",
      "execution_count": 4,
      "metadata": {},
      "outputs": [],
      "source": [
        "#@title Function to check validity of webpage \n",
        "def check_valid(seat_code):\n",
        "  url = 'https://results.eci.gov.in/ResultAcGenFeb2025/ConstituencywiseU05'+str(seat_code)+'.htm'\n",
        "  headers = {\n",
        "    \"User-Agent\": \"Mozilla/5.0 (Windows NT 10.0; Win64; x64)\",\n",
        "    \"Referer\": \"https://results.eci.gov.in\"\n",
        "    }\n",
        "  # Step 1: Fetch the webpage content\n",
        "  response = requests.get(url, headers=headers)\n",
        "  if response.status_code == 200:\n",
        "    return True\n",
        "  else:\n",
        "    return False"
      ]
    },
    {
      "cell_type": "code",
      "execution_count": 6,
      "metadata": {},
      "outputs": [],
      "source": [
        "#@title Function to fetch data from webpage and convert the table into standard pandas dataframe\n",
        "def get_table(seat_code):\n",
        "  url = 'https://results.eci.gov.in/ResultAcGenFeb2025/ConstituencywiseU05'+str(seat_code)+'.htm'\n",
        "  headers = {\n",
        "    \"User-Agent\": \"Mozilla/5.0 (Windows NT 10.0; Win64; x64)\",\n",
        "    \"Referer\": \"https://results.eci.gov.in\"\n",
        "    }\n",
        "  # Step 1: Fetch the webpage content\n",
        "  response = requests.get(url, headers=headers)\n",
        "  webpage = response.content\n",
        "  # Step 2: Parse the HTML\n",
        "  soup = BeautifulSoup(webpage, 'html.parser')\n",
        "  # Step 3: Find the specific table (adjust the class name or other attributes as necessary)\n",
        "  table = soup.find('table', {'class': 'table table-striped table-bordered'})\n",
        "  # Step 4: Define the headers\n",
        "  headers = ['S.N.', 'Candidate', 'Party', 'EVM Votes', 'Postal Votes', 'Total Votes', '% of Votes']\n",
        "  # Step 5: Extract the rows\n",
        "  rows = []\n",
        "  for tr in table.find_all('tr')[1:-1]:  # Skip the header row and last total row\n",
        "      cells = tr.find_all('td')\n",
        "      row = [cell.get_text().strip() for cell in cells]\n",
        "      rows.append(row)\n",
        "  # Step 6: Create a DataFrame and return it\n",
        "  data = pd.DataFrame(rows, columns=headers)\n",
        "  data['Constituency'] = seat_code\n",
        "  return data\n"
      ]
    },
    {
      "cell_type": "markdown",
      "metadata": {
        "id": "OAEEzxeULdf3"
      },
      "source": [
        "# Fetch data from webpage"
      ]
    },
    {
      "cell_type": "markdown",
      "metadata": {},
      "source": [
        "For delhi election result URL is in form of `https://results.eci.gov.in/ResultAcGenFeb2025/ConstituencywiseU05<constituency_number>.htm`\n",
        "\n",
        "Where constuitency number is from 1 to 70"
      ]
    },
    {
      "cell_type": "code",
      "execution_count": 84,
      "metadata": {},
      "outputs": [
        {
          "name": "stdout",
          "output_type": "stream",
          "text": [
            "<class 'pandas.core.frame.DataFrame'>\n",
            "RangeIndex: 769 entries, 0 to 768\n",
            "Data columns (total 8 columns):\n",
            " #   Column        Non-Null Count  Dtype \n",
            "---  ------        --------------  ----- \n",
            " 0   S.N.          769 non-null    object\n",
            " 1   Candidate     769 non-null    object\n",
            " 2   Party         769 non-null    object\n",
            " 3   EVM Votes     769 non-null    object\n",
            " 4   Postal Votes  769 non-null    object\n",
            " 5   Total Votes   769 non-null    object\n",
            " 6   % of Votes    769 non-null    object\n",
            " 7   Constituency  769 non-null    object\n",
            "dtypes: object(8)\n",
            "memory usage: 48.2+ KB\n"
          ]
        }
      ],
      "source": [
        "# Extracting election result data for all seats\n",
        "last_constuitency = 70\n",
        "table = pd.DataFrame(columns=['S.N.', 'Candidate', 'Party', 'EVM Votes', 'Postal Votes', 'Total Votes', '% of Votes', 'Constituency'])\n",
        "for constituency in range(1,last_constuitency+1):\n",
        "  if check_valid(constituency):\n",
        "      table = pd.concat([table, get_table(constituency)], ignore_index=True)\n",
        "# Save table as CSV file for further use\n",
        "table.to_csv('files/delhi_2025_raw_data.csv', index=False)\n",
        "table.info()"
      ]
    },
    {
      "cell_type": "markdown",
      "metadata": {},
      "source": [
        "# Read and merge files for further processing"
      ]
    },
    {
      "cell_type": "code",
      "execution_count": 235,
      "metadata": {},
      "outputs": [],
      "source": [
        "# Fetch data and merge it with party codes and colors\n",
        "parties = pd.read_csv('files/Indian_Political_Party_List.csv')\n",
        "result = pd.read_csv('files/delhi_2025_raw_data.csv')\n",
        "constituency = pd.read_csv('files/Delhi_Constituency_List.csv')\n",
        "# Remove unnecessary spaces from party names\n",
        "result[\"Party\"] = result[\"Party\"].str.strip().replace(r\"\\s+\", \" \", regex=True)\n",
        "\n",
        "result = pd.merge(result, parties, left_on='Party', right_on='Name', how='left')\n",
        "result = pd.merge(result, constituency, on='Constituency', how='left')"
      ]
    },
    {
      "cell_type": "code",
      "execution_count": 236,
      "metadata": {},
      "outputs": [],
      "source": [
        "# Change datatypes of columns\n",
        "result['S.N.'] = result['S.N.'].astype(int)\n",
        "result['EVM Votes'] = result['EVM Votes'].astype(int)\n",
        "result['Postal Votes'] = result['Postal Votes'].astype(int)\n",
        "result['Total Votes'] = result['Total Votes'].astype(int)\n",
        "result['% of Votes'] = result['% of Votes'].astype(float)\n",
        "result['Constituency'] = result['Constituency'].astype(int)"
      ]
    },
    {
      "cell_type": "code",
      "execution_count": 237,
      "metadata": {},
      "outputs": [],
      "source": [
        "result['Rank']=result.groupby(by='Constituency')['Total Votes'].rank('first', ascending=False)\n",
        "result['WinnerVotes'] = result.groupby('Constituency')['Total Votes'].transform('max')\n",
        "result['RunnerUpVotes'] = result.groupby('Constituency')['Total Votes'].transform(lambda x: x.nlargest().iloc[1])\n",
        "result['Margin'] = result.apply(lambda row: row['Total Votes'] - row['RunnerUpVotes'] if row['Rank'] == 1 else row['Total Votes']-row['WinnerVotes'], axis=1)\n",
        "result.sort_values(by=['Constituency', 'Rank'], inplace=True)\n",
        "result.reset_index(drop=True, inplace=True)\n",
        "result.fillna({'Color':'#000000'},inplace=True)\n",
        "result.fillna('Other', inplace=True)\n",
        "#sorted(result[result.Abb=='Other'].Party.unique())"
      ]
    },
    {
      "cell_type": "markdown",
      "metadata": {},
      "source": [
        "# Party wise analysis"
      ]
    },
    {
      "cell_type": "code",
      "execution_count": null,
      "metadata": {},
      "outputs": [
        {
          "data": {
            "application/vnd.plotly.v1+json": {
              "config": {
                "plotlyServerURL": "https://plot.ly"
              },
              "data": [
                {
                  "domain": {
                    "x": [
                      0,
                      0.45
                    ],
                    "y": [
                      0,
                      1
                    ]
                  },
                  "hole": 0.5,
                  "labels": [
                    "Other",
                    "AAP",
                    "Other",
                    "Other",
                    "Other",
                    "Other",
                    "Other",
                    "Other",
                    "Other",
                    "AIMIM",
                    "BSP",
                    "BJP",
                    "Other",
                    "Other",
                    "Other",
                    "Other",
                    "Other",
                    "Other",
                    "INC",
                    "Other",
                    "JD(U)",
                    "Other",
                    "Other",
                    "Other",
                    "Other",
                    "NOTA",
                    "Other",
                    "Other",
                    "Other",
                    "Other",
                    "Other",
                    "Other",
                    "Other",
                    "Other",
                    "Other"
                  ],
                  "marker": {
                    "colors": [
                      "#000000",
                      "#0072B0",
                      "#000000",
                      "#000000",
                      "#000000",
                      "#000000",
                      "#003597",
                      "#000000",
                      "#AC1313",
                      "#0C6B4B",
                      "#22409A",
                      "#FF9933",
                      "#000000",
                      "#000000",
                      "#CB0922",
                      "#CC0D0D",
                      "#C41301",
                      "#DCDCDC",
                      "#19AAED",
                      "#000000",
                      "#003366",
                      "#908484",
                      "#000000",
                      "#00B2B2",
                      "#000000",
                      "#FFFFFF",
                      "#000000",
                      "#000000",
                      "#000000",
                      "#000000",
                      "#000000",
                      "#000000",
                      "#000000",
                      "#F5D50A",
                      "#000000"
                    ]
                  },
                  "type": "pie",
                  "values": [
                    773,
                    4133898,
                    569,
                    70,
                    85,
                    1252,
                    8727,
                    370,
                    94,
                    73032,
                    55066,
                    4323110,
                    670,
                    2782,
                    1595,
                    824,
                    428,
                    43833,
                    601922,
                    1406,
                    100580,
                    166,
                    553,
                    5414,
                    135,
                    53738,
                    68845,
                    435,
                    2312,
                    589,
                    1163,
                    842,
                    1779,
                    349,
                    970
                  ]
                },
                {
                  "domain": {
                    "x": [
                      0.55,
                      1
                    ],
                    "y": [
                      0,
                      1
                    ]
                  },
                  "hole": 0.5,
                  "labels": [
                    "AAP",
                    "BJP"
                  ],
                  "marker": {
                    "colors": [
                      "#0072B0",
                      "#FF9933"
                    ]
                  },
                  "type": "pie",
                  "values": [
                    22,
                    48
                  ]
                }
              ],
              "layout": {
                "annotations": [
                  {
                    "font": {
                      "size": 16
                    },
                    "showarrow": false,
                    "text": "Vote Share",
                    "x": 0.225,
                    "xanchor": "center",
                    "xref": "paper",
                    "y": 1,
                    "yanchor": "bottom",
                    "yref": "paper"
                  },
                  {
                    "font": {
                      "size": 16
                    },
                    "showarrow": false,
                    "text": "Seat Share",
                    "x": 0.775,
                    "xanchor": "center",
                    "xref": "paper",
                    "y": 1,
                    "yanchor": "bottom",
                    "yref": "paper"
                  }
                ],
                "height": 500,
                "showlegend": true,
                "template": {
                  "data": {
                    "bar": [
                      {
                        "error_x": {
                          "color": "#2a3f5f"
                        },
                        "error_y": {
                          "color": "#2a3f5f"
                        },
                        "marker": {
                          "line": {
                            "color": "#E5ECF6",
                            "width": 0.5
                          },
                          "pattern": {
                            "fillmode": "overlay",
                            "size": 10,
                            "solidity": 0.2
                          }
                        },
                        "type": "bar"
                      }
                    ],
                    "barpolar": [
                      {
                        "marker": {
                          "line": {
                            "color": "#E5ECF6",
                            "width": 0.5
                          },
                          "pattern": {
                            "fillmode": "overlay",
                            "size": 10,
                            "solidity": 0.2
                          }
                        },
                        "type": "barpolar"
                      }
                    ],
                    "carpet": [
                      {
                        "aaxis": {
                          "endlinecolor": "#2a3f5f",
                          "gridcolor": "white",
                          "linecolor": "white",
                          "minorgridcolor": "white",
                          "startlinecolor": "#2a3f5f"
                        },
                        "baxis": {
                          "endlinecolor": "#2a3f5f",
                          "gridcolor": "white",
                          "linecolor": "white",
                          "minorgridcolor": "white",
                          "startlinecolor": "#2a3f5f"
                        },
                        "type": "carpet"
                      }
                    ],
                    "choropleth": [
                      {
                        "colorbar": {
                          "outlinewidth": 0,
                          "ticks": ""
                        },
                        "type": "choropleth"
                      }
                    ],
                    "contour": [
                      {
                        "colorbar": {
                          "outlinewidth": 0,
                          "ticks": ""
                        },
                        "colorscale": [
                          [
                            0,
                            "#0d0887"
                          ],
                          [
                            0.1111111111111111,
                            "#46039f"
                          ],
                          [
                            0.2222222222222222,
                            "#7201a8"
                          ],
                          [
                            0.3333333333333333,
                            "#9c179e"
                          ],
                          [
                            0.4444444444444444,
                            "#bd3786"
                          ],
                          [
                            0.5555555555555556,
                            "#d8576b"
                          ],
                          [
                            0.6666666666666666,
                            "#ed7953"
                          ],
                          [
                            0.7777777777777778,
                            "#fb9f3a"
                          ],
                          [
                            0.8888888888888888,
                            "#fdca26"
                          ],
                          [
                            1,
                            "#f0f921"
                          ]
                        ],
                        "type": "contour"
                      }
                    ],
                    "contourcarpet": [
                      {
                        "colorbar": {
                          "outlinewidth": 0,
                          "ticks": ""
                        },
                        "type": "contourcarpet"
                      }
                    ],
                    "heatmap": [
                      {
                        "colorbar": {
                          "outlinewidth": 0,
                          "ticks": ""
                        },
                        "colorscale": [
                          [
                            0,
                            "#0d0887"
                          ],
                          [
                            0.1111111111111111,
                            "#46039f"
                          ],
                          [
                            0.2222222222222222,
                            "#7201a8"
                          ],
                          [
                            0.3333333333333333,
                            "#9c179e"
                          ],
                          [
                            0.4444444444444444,
                            "#bd3786"
                          ],
                          [
                            0.5555555555555556,
                            "#d8576b"
                          ],
                          [
                            0.6666666666666666,
                            "#ed7953"
                          ],
                          [
                            0.7777777777777778,
                            "#fb9f3a"
                          ],
                          [
                            0.8888888888888888,
                            "#fdca26"
                          ],
                          [
                            1,
                            "#f0f921"
                          ]
                        ],
                        "type": "heatmap"
                      }
                    ],
                    "heatmapgl": [
                      {
                        "colorbar": {
                          "outlinewidth": 0,
                          "ticks": ""
                        },
                        "colorscale": [
                          [
                            0,
                            "#0d0887"
                          ],
                          [
                            0.1111111111111111,
                            "#46039f"
                          ],
                          [
                            0.2222222222222222,
                            "#7201a8"
                          ],
                          [
                            0.3333333333333333,
                            "#9c179e"
                          ],
                          [
                            0.4444444444444444,
                            "#bd3786"
                          ],
                          [
                            0.5555555555555556,
                            "#d8576b"
                          ],
                          [
                            0.6666666666666666,
                            "#ed7953"
                          ],
                          [
                            0.7777777777777778,
                            "#fb9f3a"
                          ],
                          [
                            0.8888888888888888,
                            "#fdca26"
                          ],
                          [
                            1,
                            "#f0f921"
                          ]
                        ],
                        "type": "heatmapgl"
                      }
                    ],
                    "histogram": [
                      {
                        "marker": {
                          "pattern": {
                            "fillmode": "overlay",
                            "size": 10,
                            "solidity": 0.2
                          }
                        },
                        "type": "histogram"
                      }
                    ],
                    "histogram2d": [
                      {
                        "colorbar": {
                          "outlinewidth": 0,
                          "ticks": ""
                        },
                        "colorscale": [
                          [
                            0,
                            "#0d0887"
                          ],
                          [
                            0.1111111111111111,
                            "#46039f"
                          ],
                          [
                            0.2222222222222222,
                            "#7201a8"
                          ],
                          [
                            0.3333333333333333,
                            "#9c179e"
                          ],
                          [
                            0.4444444444444444,
                            "#bd3786"
                          ],
                          [
                            0.5555555555555556,
                            "#d8576b"
                          ],
                          [
                            0.6666666666666666,
                            "#ed7953"
                          ],
                          [
                            0.7777777777777778,
                            "#fb9f3a"
                          ],
                          [
                            0.8888888888888888,
                            "#fdca26"
                          ],
                          [
                            1,
                            "#f0f921"
                          ]
                        ],
                        "type": "histogram2d"
                      }
                    ],
                    "histogram2dcontour": [
                      {
                        "colorbar": {
                          "outlinewidth": 0,
                          "ticks": ""
                        },
                        "colorscale": [
                          [
                            0,
                            "#0d0887"
                          ],
                          [
                            0.1111111111111111,
                            "#46039f"
                          ],
                          [
                            0.2222222222222222,
                            "#7201a8"
                          ],
                          [
                            0.3333333333333333,
                            "#9c179e"
                          ],
                          [
                            0.4444444444444444,
                            "#bd3786"
                          ],
                          [
                            0.5555555555555556,
                            "#d8576b"
                          ],
                          [
                            0.6666666666666666,
                            "#ed7953"
                          ],
                          [
                            0.7777777777777778,
                            "#fb9f3a"
                          ],
                          [
                            0.8888888888888888,
                            "#fdca26"
                          ],
                          [
                            1,
                            "#f0f921"
                          ]
                        ],
                        "type": "histogram2dcontour"
                      }
                    ],
                    "mesh3d": [
                      {
                        "colorbar": {
                          "outlinewidth": 0,
                          "ticks": ""
                        },
                        "type": "mesh3d"
                      }
                    ],
                    "parcoords": [
                      {
                        "line": {
                          "colorbar": {
                            "outlinewidth": 0,
                            "ticks": ""
                          }
                        },
                        "type": "parcoords"
                      }
                    ],
                    "pie": [
                      {
                        "automargin": true,
                        "type": "pie"
                      }
                    ],
                    "scatter": [
                      {
                        "fillpattern": {
                          "fillmode": "overlay",
                          "size": 10,
                          "solidity": 0.2
                        },
                        "type": "scatter"
                      }
                    ],
                    "scatter3d": [
                      {
                        "line": {
                          "colorbar": {
                            "outlinewidth": 0,
                            "ticks": ""
                          }
                        },
                        "marker": {
                          "colorbar": {
                            "outlinewidth": 0,
                            "ticks": ""
                          }
                        },
                        "type": "scatter3d"
                      }
                    ],
                    "scattercarpet": [
                      {
                        "marker": {
                          "colorbar": {
                            "outlinewidth": 0,
                            "ticks": ""
                          }
                        },
                        "type": "scattercarpet"
                      }
                    ],
                    "scattergeo": [
                      {
                        "marker": {
                          "colorbar": {
                            "outlinewidth": 0,
                            "ticks": ""
                          }
                        },
                        "type": "scattergeo"
                      }
                    ],
                    "scattergl": [
                      {
                        "marker": {
                          "colorbar": {
                            "outlinewidth": 0,
                            "ticks": ""
                          }
                        },
                        "type": "scattergl"
                      }
                    ],
                    "scattermapbox": [
                      {
                        "marker": {
                          "colorbar": {
                            "outlinewidth": 0,
                            "ticks": ""
                          }
                        },
                        "type": "scattermapbox"
                      }
                    ],
                    "scatterpolar": [
                      {
                        "marker": {
                          "colorbar": {
                            "outlinewidth": 0,
                            "ticks": ""
                          }
                        },
                        "type": "scatterpolar"
                      }
                    ],
                    "scatterpolargl": [
                      {
                        "marker": {
                          "colorbar": {
                            "outlinewidth": 0,
                            "ticks": ""
                          }
                        },
                        "type": "scatterpolargl"
                      }
                    ],
                    "scatterternary": [
                      {
                        "marker": {
                          "colorbar": {
                            "outlinewidth": 0,
                            "ticks": ""
                          }
                        },
                        "type": "scatterternary"
                      }
                    ],
                    "surface": [
                      {
                        "colorbar": {
                          "outlinewidth": 0,
                          "ticks": ""
                        },
                        "colorscale": [
                          [
                            0,
                            "#0d0887"
                          ],
                          [
                            0.1111111111111111,
                            "#46039f"
                          ],
                          [
                            0.2222222222222222,
                            "#7201a8"
                          ],
                          [
                            0.3333333333333333,
                            "#9c179e"
                          ],
                          [
                            0.4444444444444444,
                            "#bd3786"
                          ],
                          [
                            0.5555555555555556,
                            "#d8576b"
                          ],
                          [
                            0.6666666666666666,
                            "#ed7953"
                          ],
                          [
                            0.7777777777777778,
                            "#fb9f3a"
                          ],
                          [
                            0.8888888888888888,
                            "#fdca26"
                          ],
                          [
                            1,
                            "#f0f921"
                          ]
                        ],
                        "type": "surface"
                      }
                    ],
                    "table": [
                      {
                        "cells": {
                          "fill": {
                            "color": "#EBF0F8"
                          },
                          "line": {
                            "color": "white"
                          }
                        },
                        "header": {
                          "fill": {
                            "color": "#C8D4E3"
                          },
                          "line": {
                            "color": "white"
                          }
                        },
                        "type": "table"
                      }
                    ]
                  },
                  "layout": {
                    "annotationdefaults": {
                      "arrowcolor": "#2a3f5f",
                      "arrowhead": 0,
                      "arrowwidth": 1
                    },
                    "autotypenumbers": "strict",
                    "coloraxis": {
                      "colorbar": {
                        "outlinewidth": 0,
                        "ticks": ""
                      }
                    },
                    "colorscale": {
                      "diverging": [
                        [
                          0,
                          "#8e0152"
                        ],
                        [
                          0.1,
                          "#c51b7d"
                        ],
                        [
                          0.2,
                          "#de77ae"
                        ],
                        [
                          0.3,
                          "#f1b6da"
                        ],
                        [
                          0.4,
                          "#fde0ef"
                        ],
                        [
                          0.5,
                          "#f7f7f7"
                        ],
                        [
                          0.6,
                          "#e6f5d0"
                        ],
                        [
                          0.7,
                          "#b8e186"
                        ],
                        [
                          0.8,
                          "#7fbc41"
                        ],
                        [
                          0.9,
                          "#4d9221"
                        ],
                        [
                          1,
                          "#276419"
                        ]
                      ],
                      "sequential": [
                        [
                          0,
                          "#0d0887"
                        ],
                        [
                          0.1111111111111111,
                          "#46039f"
                        ],
                        [
                          0.2222222222222222,
                          "#7201a8"
                        ],
                        [
                          0.3333333333333333,
                          "#9c179e"
                        ],
                        [
                          0.4444444444444444,
                          "#bd3786"
                        ],
                        [
                          0.5555555555555556,
                          "#d8576b"
                        ],
                        [
                          0.6666666666666666,
                          "#ed7953"
                        ],
                        [
                          0.7777777777777778,
                          "#fb9f3a"
                        ],
                        [
                          0.8888888888888888,
                          "#fdca26"
                        ],
                        [
                          1,
                          "#f0f921"
                        ]
                      ],
                      "sequentialminus": [
                        [
                          0,
                          "#0d0887"
                        ],
                        [
                          0.1111111111111111,
                          "#46039f"
                        ],
                        [
                          0.2222222222222222,
                          "#7201a8"
                        ],
                        [
                          0.3333333333333333,
                          "#9c179e"
                        ],
                        [
                          0.4444444444444444,
                          "#bd3786"
                        ],
                        [
                          0.5555555555555556,
                          "#d8576b"
                        ],
                        [
                          0.6666666666666666,
                          "#ed7953"
                        ],
                        [
                          0.7777777777777778,
                          "#fb9f3a"
                        ],
                        [
                          0.8888888888888888,
                          "#fdca26"
                        ],
                        [
                          1,
                          "#f0f921"
                        ]
                      ]
                    },
                    "colorway": [
                      "#636efa",
                      "#EF553B",
                      "#00cc96",
                      "#ab63fa",
                      "#FFA15A",
                      "#19d3f3",
                      "#FF6692",
                      "#B6E880",
                      "#FF97FF",
                      "#FECB52"
                    ],
                    "font": {
                      "color": "#2a3f5f"
                    },
                    "geo": {
                      "bgcolor": "white",
                      "lakecolor": "white",
                      "landcolor": "#E5ECF6",
                      "showlakes": true,
                      "showland": true,
                      "subunitcolor": "white"
                    },
                    "hoverlabel": {
                      "align": "left"
                    },
                    "hovermode": "closest",
                    "mapbox": {
                      "style": "light"
                    },
                    "paper_bgcolor": "white",
                    "plot_bgcolor": "#E5ECF6",
                    "polar": {
                      "angularaxis": {
                        "gridcolor": "white",
                        "linecolor": "white",
                        "ticks": ""
                      },
                      "bgcolor": "#E5ECF6",
                      "radialaxis": {
                        "gridcolor": "white",
                        "linecolor": "white",
                        "ticks": ""
                      }
                    },
                    "scene": {
                      "xaxis": {
                        "backgroundcolor": "#E5ECF6",
                        "gridcolor": "white",
                        "gridwidth": 2,
                        "linecolor": "white",
                        "showbackground": true,
                        "ticks": "",
                        "zerolinecolor": "white"
                      },
                      "yaxis": {
                        "backgroundcolor": "#E5ECF6",
                        "gridcolor": "white",
                        "gridwidth": 2,
                        "linecolor": "white",
                        "showbackground": true,
                        "ticks": "",
                        "zerolinecolor": "white"
                      },
                      "zaxis": {
                        "backgroundcolor": "#E5ECF6",
                        "gridcolor": "white",
                        "gridwidth": 2,
                        "linecolor": "white",
                        "showbackground": true,
                        "ticks": "",
                        "zerolinecolor": "white"
                      }
                    },
                    "shapedefaults": {
                      "line": {
                        "color": "#2a3f5f"
                      }
                    },
                    "ternary": {
                      "aaxis": {
                        "gridcolor": "white",
                        "linecolor": "white",
                        "ticks": ""
                      },
                      "baxis": {
                        "gridcolor": "white",
                        "linecolor": "white",
                        "ticks": ""
                      },
                      "bgcolor": "#E5ECF6",
                      "caxis": {
                        "gridcolor": "white",
                        "linecolor": "white",
                        "ticks": ""
                      }
                    },
                    "title": {
                      "x": 0.05
                    },
                    "xaxis": {
                      "automargin": true,
                      "gridcolor": "white",
                      "linecolor": "white",
                      "ticks": "",
                      "title": {
                        "standoff": 15
                      },
                      "zerolinecolor": "white",
                      "zerolinewidth": 2
                    },
                    "yaxis": {
                      "automargin": true,
                      "gridcolor": "white",
                      "linecolor": "white",
                      "ticks": "",
                      "title": {
                        "standoff": 15
                      },
                      "zerolinecolor": "white",
                      "zerolinewidth": 2
                    }
                  }
                },
                "width": 1000
              }
            }
          },
          "metadata": {},
          "output_type": "display_data"
        }
      ],
      "source": [
        "party_wise = result.groupby(by=['Name','Abb','Color']).agg({'EVM Votes':'sum','Postal Votes':'sum','Total Votes':'sum'}).reset_index()\n",
        "party_wise['Rank']=party_wise['Total Votes'].rank(ascending=False)\n",
        "party_wise.loc[party_wise.Rank > 8, 'Name'] = 'Other'\n",
        "party_wise.loc[party_wise.Rank > 8, 'Abb'] = 'Other'\n",
        "\n",
        "winner = result[result.Rank==1][['Party','Color','Abb']]\n",
        "winner = winner.groupby(['Party','Color','Abb']).size().reset_index()\n",
        "\n",
        "# Define the figure with a 1x2 layout\n",
        "fig = make_subplots(rows=1, cols=2, subplot_titles=[\"Vote Share\", \"Seat Share\"], specs=[[{\"type\": \"domain\"}, {\"type\": \"domain\"}]])\n",
        "\n",
        "# First Pie Chart\n",
        "fig.add_trace(go.Pie(labels=party_wise.Abb, values=party_wise['Total Votes'],\n",
        "                     marker=dict(colors=party_wise['Color']), hole=0.5), row=1, col=1)\n",
        "\n",
        "# Second Pie Chart\n",
        "fig.add_trace(go.Pie(labels=winner.Abb, values=winner[0],\n",
        "                     marker=dict(colors=winner['Color']), hole=0.5), row=1, col=2)\n",
        "\n",
        "# Adjust layout for better spacing\n",
        "fig.update_layout(height=500, width=1000, showlegend=True)\n",
        "\n",
        "fig.show()"
      ]
    },
    {
      "cell_type": "markdown",
      "metadata": {},
      "source": [
        "# Constuitency wise analysis"
      ]
    },
    {
      "cell_type": "code",
      "execution_count": 306,
      "metadata": {},
      "outputs": [
        {
          "data": {
            "application/vnd.plotly.v1+json": {
              "config": {
                "plotlyServerURL": "https://plot.ly"
              },
              "data": [
                {
                  "customdata": [
                    [
                      "BJP",
                      "RAJ KARAN KHATRI"
                    ],
                    [
                      "AAP",
                      "SHARAD KUMAR"
                    ],
                    [
                      "INC",
                      "ARUNA"
                    ],
                    [
                      "NOTA",
                      "NOTA"
                    ],
                    [
                      "CPI(ML)L",
                      "ANIL KUMAR SINGH"
                    ],
                    [
                      "IND",
                      "VIKAS BHARDWAJ"
                    ],
                    [
                      "ASP(KR)",
                      "MD KHALID"
                    ],
                    [
                      "IND",
                      "BUDIYA"
                    ],
                    [
                      "AAP",
                      "SANJEEV JHA"
                    ],
                    [
                      "JD(U)",
                      "SHAILENDRA KUMAR"
                    ],
                    [
                      "INC",
                      "MANGESH TYAGI"
                    ],
                    [
                      "NCP",
                      "RATAN TYAGI"
                    ],
                    [
                      "NOTA",
                      "NOTA"
                    ],
                    [
                      "BSP",
                      "GANGA RAM"
                    ],
                    [
                      "Other",
                      "ANIL KAPOOR"
                    ],
                    [
                      "AAP(P)",
                      "SONU KAUSHIK"
                    ],
                    [
                      "RJM",
                      "VIJAY KUMAR JHA"
                    ],
                    [
                      "AASP(S)\t",
                      "SUNIL KUMAR VYATHIT"
                    ],
                    [
                      "RJP(S)",
                      "ABHISHEK KUMAR SINGH (MASTER JI)"
                    ],
                    [
                      "Other",
                      "GULAB SINGHAL"
                    ],
                    [
                      "Other",
                      "PRAMOD"
                    ],
                    [
                      "Other",
                      "MUKESH PRASAD"
                    ],
                    [
                      "RRP",
                      "DHURVA KUMAR"
                    ],
                    [
                      "BJP",
                      "SURYA PRAKASH KHATRI"
                    ],
                    [
                      "AAP",
                      "SURINDER PAL SINGH (BITTOO)"
                    ],
                    [
                      "INC",
                      "LOKENDRA KALYAN SINGH"
                    ],
                    [
                      "BSP",
                      "SURENDER PAL"
                    ],
                    [
                      "NOTA",
                      "NOTA"
                    ],
                    [
                      "Other",
                      "TARUN KUMAR"
                    ],
                    [
                      "Other",
                      "DEEPAK CHAWLA"
                    ],
                    [
                      "PPI(D)",
                      "RAJKUMAR BHARTI"
                    ],
                    [
                      "RJP(S)",
                      "RAM RAJ SINGH"
                    ],
                    [
                      "Other",
                      "SANGH PRIYA SIDDHARTHA"
                    ],
                    [
                      "Other",
                      "RAKESH RANJAN SHRIVASTAV"
                    ],
                    [
                      "Other",
                      "WASIM AKRAM"
                    ],
                    [
                      "Other",
                      "BIJENDER KUMAR"
                    ],
                    [
                      "BJP",
                      "RAJ KUMAR BHATIA"
                    ],
                    [
                      "AAP",
                      "MUKESH KUMAR GOEL"
                    ],
                    [
                      "INC",
                      "SHIVANK SINGAL"
                    ],
                    [
                      "NOTA",
                      "NOTA"
                    ],
                    [
                      "BSP",
                      "ABDUL ZABBAR"
                    ],
                    [
                      "IND",
                      "RAM NIWAS"
                    ],
                    [
                      "CPI",
                      "SANJEEV KUMAR RANA"
                    ],
                    [
                      "IND",
                      "VIJAY KR. AGGARWAL"
                    ],
                    [
                      "IND",
                      "NEETU SINGH"
                    ],
                    [
                      "IND",
                      "AYUSH GUPTA"
                    ],
                    [
                      "Other",
                      "PRIYA"
                    ],
                    [
                      "Other",
                      "PREM CHAND"
                    ],
                    [
                      "PPI(D)",
                      "SANJAY YADAV ADVOCATE"
                    ],
                    [
                      "NYP",
                      "VISHAL SINGH"
                    ],
                    [
                      "Other",
                      "MD: RAHMAT ALI"
                    ],
                    [
                      "BJP",
                      "AAHIR DEEPAK CHAUDHARYY"
                    ],
                    [
                      "AAP",
                      "AJESH YADAV"
                    ],
                    [
                      "INC",
                      "DEVENDER YADAV"
                    ],
                    [
                      "BSP",
                      "RAVINDER KUMAR"
                    ],
                    [
                      "NOTA",
                      "NOTA"
                    ],
                    [
                      "Other",
                      "PARMOD KUMAR"
                    ],
                    [
                      "IND",
                      "DEVENDER KUMAR YADAV"
                    ],
                    [
                      "IND",
                      "JAI PAL"
                    ],
                    [
                      "IND",
                      "ARUN KUMAR"
                    ],
                    [
                      "NCP",
                      "MULAYAM SINGH"
                    ],
                    [
                      "BSKP",
                      "GOPAL KUMAR SINHA"
                    ],
                    [
                      "Other",
                      "RAJENDER"
                    ],
                    [
                      "Other",
                      "R. C. SHARMA"
                    ],
                    [
                      "BJP",
                      "KULWANT RANA"
                    ],
                    [
                      "AAP",
                      "MOHINDER GOYAL"
                    ],
                    [
                      "INC",
                      "SUSHANT MISHRA"
                    ],
                    [
                      "NOTA",
                      "NOTA"
                    ],
                    [
                      "BSP",
                      "NEYAZ KHAN"
                    ],
                    [
                      "YBRP",
                      "ASHOK JAIN"
                    ],
                    [
                      "IND",
                      "VIDYA PATTI"
                    ],
                    [
                      "JMBP",
                      "NISHTHA"
                    ],
                    [
                      "IND",
                      "VISHAL GUPTA"
                    ],
                    [
                      "PPI(D)",
                      "AYASHA KHATOON"
                    ],
                    [
                      "IND",
                      "AJAY KUMAR SINGH"
                    ],
                    [
                      "Other",
                      "JITANDER SINGH"
                    ],
                    [
                      "BJP",
                      "RAVINDER INDRAJ SINGH"
                    ],
                    [
                      "AAP",
                      "JAI BHAGWAN UPKAR"
                    ],
                    [
                      "INC",
                      "SURENDER KUMAR"
                    ],
                    [
                      "BSP",
                      "HEERA LAL"
                    ],
                    [
                      "NOTA",
                      "NOTA"
                    ],
                    [
                      "IND",
                      "HARI KISHAN MECHANIC"
                    ],
                    [
                      "PPI(D)",
                      "DHEERAJ KUMAR"
                    ],
                    [
                      "Other",
                      "BABITA"
                    ],
                    [
                      "BJP",
                      "GAJENDER DRALL"
                    ],
                    [
                      "AAP",
                      "JASBIR KARALA"
                    ],
                    [
                      "INC",
                      "DHARAMPAL LAKRA"
                    ],
                    [
                      "IND",
                      "RAMBIR SHOKEEN"
                    ],
                    [
                      "NOTA",
                      "NOTA"
                    ],
                    [
                      "BSP",
                      "SUMAN LATA SEHRAWAT"
                    ],
                    [
                      "IND",
                      "SUNITA SHEKHAR CHAWARIYA"
                    ],
                    [
                      "NLP",
                      "SUNIL KUMAR"
                    ],
                    [
                      "IND",
                      "RAJNI"
                    ],
                    [
                      "IND",
                      "ANDEEP DRALL"
                    ],
                    [
                      "AIFB",
                      "MAHAVIR"
                    ],
                    [
                      "ABSP",
                      "YOGENDER SINGH ALIAS YOGI MATHUR"
                    ],
                    [
                      "Other",
                      "SANTOSH"
                    ],
                    [
                      "RRP",
                      "SANJAYA KUMAR YADAV"
                    ],
                    [
                      "AAP",
                      "ANIL JHA"
                    ],
                    [
                      "BJP",
                      "BAJRANG SHUKLA"
                    ],
                    [
                      "INC",
                      "RAJESH KUMAR GUPTA"
                    ],
                    [
                      "BSP",
                      "JUGBIR SINGH"
                    ],
                    [
                      "NOTA",
                      "NOTA"
                    ],
                    [
                      "ASP(KR)",
                      "MALIK NEYAZ AHMAD"
                    ],
                    [
                      "IND",
                      "PRAKASH SRIVASTAV"
                    ],
                    [
                      "IND",
                      "RAKESH"
                    ],
                    [
                      "RMP",
                      "SUDESH SHARMA"
                    ],
                    [
                      "PP",
                      "AFSANA SARWAR"
                    ],
                    [
                      "AAP",
                      "MUKESH KUMAR AHLAWAT"
                    ],
                    [
                      "BJP",
                      "KARAM SINGH KARMA"
                    ],
                    [
                      "INC",
                      "JAI KISHAN"
                    ],
                    [
                      "BSP",
                      "KULWANT RANA"
                    ],
                    [
                      "JMBP",
                      "JITENDER"
                    ],
                    [
                      "NOTA",
                      "NOTA"
                    ],
                    [
                      "IND",
                      "DEEPAK KUMAR"
                    ],
                    [
                      "IND",
                      "RAMSWAROOP SAMRIA"
                    ],
                    [
                      "Other",
                      "KARAN SINGH"
                    ],
                    [
                      "BSKP",
                      "BABU LAL"
                    ],
                    [
                      "YBRP",
                      "PREETI"
                    ],
                    [
                      "Other",
                      "SANGEETA"
                    ],
                    [
                      "Other",
                      "LAXMI"
                    ],
                    [
                      "BJP",
                      "MANOJ KUMAR SHOKEEN"
                    ],
                    [
                      "AAP",
                      "RAGHUVINDER SHOKEEN"
                    ],
                    [
                      "INC",
                      "ROHIT CHOUDHARY"
                    ],
                    [
                      "NOTA",
                      "NOTA"
                    ],
                    [
                      "BSP",
                      "MUKESH KUMAR"
                    ],
                    [
                      "Other",
                      "YATENDER SHARMA"
                    ],
                    [
                      "IND",
                      "DILIP KUMAR SHARMA"
                    ],
                    [
                      "PPI(D)",
                      "RAM SAJIVAN"
                    ],
                    [
                      "RMP",
                      "KANCHAN SHARMA"
                    ],
                    [
                      "Other",
                      "MAHENDER SINGH RATHOR"
                    ],
                    [
                      "BJP",
                      "RAJ KUMAR CHAUHAN"
                    ],
                    [
                      "AAP",
                      "DHARAM RAKSHAK ALIAS RAKESH JATAV"
                    ],
                    [
                      "INC",
                      "HANUMAN SAHAY ALIAS HANUMAN CHAUHAN"
                    ],
                    [
                      "NOTA",
                      "NOTA"
                    ],
                    [
                      "BSP",
                      "MUKESH KUMAR"
                    ],
                    [
                      "IND",
                      "JAI BHAGWAN"
                    ],
                    [
                      "Other",
                      "KHILKHILAKAR"
                    ],
                    [
                      "BJP",
                      "VIJENDER GUPTA"
                    ],
                    [
                      "AAP",
                      "PARDEEP MITTAL"
                    ],
                    [
                      "INC",
                      "SUMESH GUPTA"
                    ],
                    [
                      "NOTA",
                      "NOTA"
                    ],
                    [
                      "BSP",
                      "HARSHAD CHADHA"
                    ],
                    [
                      "JMBP",
                      "ABHISHEK"
                    ],
                    [
                      "Other",
                      "AMIT SAINI"
                    ],
                    [
                      "IND",
                      "RAJBIR"
                    ],
                    [
                      "IND",
                      "NARENDER SINGH PANWAR"
                    ],
                    [
                      "BJP",
                      "REKHA GUPTA"
                    ],
                    [
                      "AAP",
                      "BANDANA KUMARI"
                    ],
                    [
                      "INC",
                      "PARVEEN KUMAR JAIN"
                    ],
                    [
                      "NOTA",
                      "NOTA"
                    ],
                    [
                      "BSP",
                      "SHYAM KUMAR"
                    ],
                    [
                      "IND",
                      "SAURABH GUPTA"
                    ],
                    [
                      "IND",
                      "RINA DEVI"
                    ],
                    [
                      "IND",
                      "RAJESH KUMAR"
                    ],
                    [
                      "IND",
                      "MOHD. USMAN"
                    ],
                    [
                      "NIUP",
                      "RANJEET VERMA"
                    ],
                    [
                      "BJP",
                      "KARNAIL SINGH"
                    ],
                    [
                      "AAP",
                      "SATYENDAR JAIN"
                    ],
                    [
                      "INC",
                      "SATISH KUMAR LUTHRA"
                    ],
                    [
                      "NOTA",
                      "NOTA"
                    ],
                    [
                      "BSP",
                      "VIJAY KUMAR"
                    ],
                    [
                      "YBRP",
                      "TAMANA"
                    ],
                    [
                      "Other",
                      "RAJESH GUPTA"
                    ],
                    [
                      "IND",
                      "JUGAL CHAWLA"
                    ],
                    [
                      "BJP",
                      "TILAK RAM GUPTA"
                    ],
                    [
                      "AAP",
                      "PREETI JITENDER TOMAR"
                    ],
                    [
                      "INC",
                      "SATENDER SHARMA"
                    ],
                    [
                      "NOTA",
                      "NOTA"
                    ],
                    [
                      "BSP",
                      "PAWAN GARG"
                    ],
                    [
                      "Other",
                      "SUBHASH"
                    ],
                    [
                      "PPI(D)",
                      "SURENDRA SINGH BASOYA"
                    ],
                    [
                      "BJP",
                      "POONAM SHARMA"
                    ],
                    [
                      "AAP",
                      "RAJESH GUPTA"
                    ],
                    [
                      "INC",
                      "RAGINI NAYAK"
                    ],
                    [
                      "BSP",
                      "HIRA LAL"
                    ],
                    [
                      "NOTA",
                      "NOTA"
                    ],
                    [
                      "IND",
                      "AAKASH GOEL"
                    ],
                    [
                      "CPI",
                      "DEVENDER KUMAR"
                    ],
                    [
                      "IND",
                      "MUKESH JAIN"
                    ],
                    [
                      "RRP",
                      "MAHESH BANSAL"
                    ],
                    [
                      "Other",
                      "SHEELA DEVI"
                    ],
                    [
                      "BJP",
                      "ASHOK GOEL"
                    ],
                    [
                      "AAP",
                      "AKHILESH PATI TRIPATHI"
                    ],
                    [
                      "INC",
                      "KANWAR KARAN SINGH"
                    ],
                    [
                      "NOTA",
                      "NOTA"
                    ],
                    [
                      "BSP",
                      "CHUNNI LAL"
                    ],
                    [
                      "IND",
                      "ROMAN RASHID"
                    ],
                    [
                      "IND",
                      "CHANDER PAL"
                    ],
                    [
                      "AAP(P)",
                      "VIVEK GIRI"
                    ],
                    [
                      "Other",
                      "PANKAJ KUMAR"
                    ],
                    [
                      "RRP",
                      "AWDHESH KUMAR JHA"
                    ],
                    [
                      "AAP",
                      "SOM DUTT"
                    ],
                    [
                      "BJP",
                      "MANOJ KUMAR JINDAL"
                    ],
                    [
                      "INC",
                      "ANIL BHARDWAJ"
                    ],
                    [
                      "BSP",
                      "SHAIL KUMARI"
                    ],
                    [
                      "NOTA",
                      "NOTA"
                    ],
                    [
                      "Other",
                      "MEENAKSHI KUMARI"
                    ],
                    [
                      "JMBP",
                      "MADHU BALA"
                    ],
                    [
                      "Other",
                      "ASHA RANI"
                    ],
                    [
                      "Other",
                      "ANITA BANSAL"
                    ],
                    [
                      "Other",
                      "CA SOHARSH GULGULIA JAIN"
                    ],
                    [
                      "Other",
                      "LAXMI THAKUR SINGHAL"
                    ],
                    [
                      "Other",
                      "UMESH RATHOR"
                    ],
                    [
                      "AAP",
                      "PUNARDEEP SINGH SAWHNEY (SABBY)"
                    ],
                    [
                      "BJP",
                      "SATISH JAIN"
                    ],
                    [
                      "INC",
                      "MUDIT AGARWAL"
                    ],
                    [
                      "NOTA",
                      "NOTA"
                    ],
                    [
                      "BSP",
                      "KALI CHARAN"
                    ],
                    [
                      "NCP",
                      "KHALID UR REHMAN"
                    ],
                    [
                      "RRP",
                      "RAHUL TIWARI"
                    ],
                    [
                      "Other",
                      "MOHAMMAD MURSALEEN"
                    ],
                    [
                      "AAP",
                      "AALEY MOHAMMED IQBAL"
                    ],
                    [
                      "BJP",
                      "DEEPTI INDORA"
                    ],
                    [
                      "INC",
                      "ASIM AHMED KHAN"
                    ],
                    [
                      "NOTA",
                      "NOTA"
                    ],
                    [
                      "BSP",
                      "TEJ RAM"
                    ],
                    [
                      "IND",
                      "AMAR NATH"
                    ],
                    [
                      "IND",
                      "MOHAMMAD AHMED SAIFI"
                    ],
                    [
                      "NCP",
                      "MOHD JAVED"
                    ],
                    [
                      "IND",
                      "BHAGWAN DASS"
                    ],
                    [
                      "IND",
                      "FIRDOUS AHMAD"
                    ],
                    [
                      "IND",
                      "MOAZAM KHAN"
                    ],
                    [
                      "IND",
                      "ZAINUDDIN"
                    ],
                    [
                      "AAP",
                      "IMRAN HUSSAIN"
                    ],
                    [
                      "BJP",
                      "KAMAL BAGRI"
                    ],
                    [
                      "INC",
                      "HAROON YUSUF"
                    ],
                    [
                      "NOTA",
                      "NOTA"
                    ],
                    [
                      "AAPP",
                      "ABRAR"
                    ],
                    [
                      "BSP",
                      "SONU"
                    ],
                    [
                      "IND",
                      "BABU LAL"
                    ],
                    [
                      "IND",
                      "HANSA"
                    ],
                    [
                      "IND",
                      "MOHD. SHADAB"
                    ],
                    [
                      "NCP",
                      "MD HAROON"
                    ],
                    [
                      "AAP",
                      "VISHESH RAVI"
                    ],
                    [
                      "BJP",
                      "DUSHYANT GAUTAM"
                    ],
                    [
                      "INC",
                      "RAHUL KUMAR"
                    ],
                    [
                      "BSP",
                      "RANJEET"
                    ],
                    [
                      "NOTA",
                      "NOTA"
                    ],
                    [
                      "Other",
                      "SHIV KUMAR"
                    ],
                    [
                      "IND",
                      "DEEPAK KUMAR"
                    ],
                    [
                      "AAP",
                      "PRAVESH RATN"
                    ],
                    [
                      "BJP",
                      "RAAJ KUMAR ANAND"
                    ],
                    [
                      "INC",
                      "KRISHNA TIRATH"
                    ],
                    [
                      "NOTA",
                      "NOTA"
                    ],
                    [
                      "BSP",
                      "RAM AVTAR"
                    ],
                    [
                      "ASP(KR)",
                      "ASHOK KUMAR"
                    ],
                    [
                      "BJP",
                      "HARISH KHURANA"
                    ],
                    [
                      "AAP",
                      "SHIVCHARAN GOEL"
                    ],
                    [
                      "INC",
                      "RAJENDER SINGH"
                    ],
                    [
                      "BSP",
                      "AVINASH GUPTA"
                    ],
                    [
                      "NOTA",
                      "NOTA"
                    ],
                    [
                      "IND",
                      "SADRE ALAM"
                    ],
                    [
                      "IND",
                      "GAURI SHANKAR"
                    ],
                    [
                      "RRP",
                      "GOURAV BOTHRA"
                    ],
                    [
                      "IND",
                      "HARISH"
                    ],
                    [
                      "Other",
                      "VISHAL SAHNI"
                    ],
                    [
                      "RMP",
                      "VIJAY KUMAR SHARMA"
                    ],
                    [
                      "NCP",
                      "SANAULLAH"
                    ],
                    [
                      "Other",
                      "MAHESH DUBEY"
                    ],
                    [
                      "BJP",
                      "KAILASH GANGWAL"
                    ],
                    [
                      "AAP",
                      "RAKHI BIRLA"
                    ],
                    [
                      "INC",
                      "J. P. PANWAR"
                    ],
                    [
                      "NOTA",
                      "NOTA"
                    ],
                    [
                      "BSP",
                      "ROOP SINGH AHIRWAR"
                    ],
                    [
                      "IND",
                      "DHARAMVEER"
                    ],
                    [
                      "JMBP",
                      "RANDHIR SINGH TANDI"
                    ],
                    [
                      "IND",
                      "RAVI"
                    ],
                    [
                      "Other",
                      "ROHIT KASHYAP"
                    ],
                    [
                      "Other",
                      "RANDHIR KUMAR"
                    ],
                    [
                      "BJP",
                      "MANJINDER SINGH SIRSA"
                    ],
                    [
                      "AAP",
                      "A DHANWATI CHANDELA A"
                    ],
                    [
                      "INC",
                      "DHARAM PAL CHANDELA"
                    ],
                    [
                      "NOTA",
                      "NOTA"
                    ],
                    [
                      "BSP",
                      "SHASHI PABHA"
                    ],
                    [
                      "AAPP",
                      "KARAN TALWAR"
                    ],
                    [
                      "Other",
                      "JAYA RAMAN"
                    ],
                    [
                      "RRP",
                      "VISHAL SANGWAN"
                    ],
                    [
                      "AAP(P)",
                      "KAMLA DEVI"
                    ],
                    [
                      "BJP",
                      "SHYAM SHARMA"
                    ],
                    [
                      "AAP",
                      "SURINDER KUMAR SETIA"
                    ],
                    [
                      "INC",
                      "PREM BALLABH"
                    ],
                    [
                      "IND",
                      "RAJ KUMARI DHILLON"
                    ],
                    [
                      "NOTA",
                      "NOTA"
                    ],
                    [
                      "BSP",
                      "BINDU KUMAR"
                    ],
                    [
                      "IND",
                      "MAYANK MEHTA"
                    ],
                    [
                      "IND",
                      "SABIR KHAN"
                    ],
                    [
                      "Other",
                      "MOHAN LAL BHARDWAJ"
                    ],
                    [
                      "RJP(S)",
                      "PREETAM CHAND"
                    ],
                    [
                      "IND",
                      "ASHOK KUMAR"
                    ],
                    [
                      "AAP",
                      "JARNAIL SINGH"
                    ],
                    [
                      "BJP",
                      "SHVETA SAINI"
                    ],
                    [
                      "INC",
                      "PARVINDER SINGH ALIAS P S BAWA"
                    ],
                    [
                      "NOTA",
                      "NOTA"
                    ],
                    [
                      "BSP",
                      "ASHOK KUMAR GAUTAM"
                    ],
                    [
                      "IND",
                      "SHWETA"
                    ],
                    [
                      "IND",
                      "RAJIV KUMAR BABBAR"
                    ],
                    [
                      "BJP",
                      "ASHISH SOOD"
                    ],
                    [
                      "AAP",
                      "PARVEEN KUMAR"
                    ],
                    [
                      "INC",
                      "HARBANI KAUR"
                    ],
                    [
                      "NOTA",
                      "NOTA"
                    ],
                    [
                      "BSP",
                      "RAVI PARTAP RAO"
                    ],
                    [
                      "IND",
                      "PRAVEEN KUMAR"
                    ],
                    [
                      "IND",
                      "PRAVEEN KUMAR"
                    ],
                    [
                      "IND",
                      "ALTAF AHMAD"
                    ],
                    [
                      "Other",
                      "MOHD OJER"
                    ],
                    [
                      "NCP",
                      "MD NAVEEN"
                    ],
                    [
                      "AJSP",
                      "CHAMAN LAL VERMA"
                    ],
                    [
                      "SBSP",
                      "DHARAM VEER"
                    ],
                    [
                      "IND",
                      "TARUN KUMAR SHARMA"
                    ],
                    [
                      "IND",
                      "ASHISH SOOD"
                    ],
                    [
                      "Other",
                      "KASHMIR CHAND"
                    ],
                    [
                      "Other",
                      "NIZAMUDDIN KHAN"
                    ],
                    [
                      "Other",
                      "RAJ KUMAR"
                    ],
                    [
                      "BJP",
                      "PANKAJ KUMAR SINGH"
                    ],
                    [
                      "AAP",
                      "MAHINDER YADAV"
                    ],
                    [
                      "INC",
                      "JITENDER SOLANKI"
                    ],
                    [
                      "BSP",
                      "KRISHNA THAKUR"
                    ],
                    [
                      "NOTA",
                      "NOTA"
                    ],
                    [
                      "CPI",
                      "SHEJO VARGHESE"
                    ],
                    [
                      "ASP(KR)",
                      "UMESH CHAUHAN"
                    ],
                    [
                      "Other",
                      "SHARDA DIXIT"
                    ],
                    [
                      "IND",
                      "HIRA LAL SAH"
                    ],
                    [
                      "Other",
                      "LALA RAM"
                    ],
                    [
                      "IND",
                      "AMAN SAINI"
                    ],
                    [
                      "RMP",
                      "RANJEET KUMAR"
                    ],
                    [
                      "RJP(S)",
                      "PREM PAL SINGH"
                    ],
                    [
                      "Other",
                      "RAJU RICHARIYA"
                    ],
                    [
                      "BJP",
                      "PAWAN SHARMA"
                    ],
                    [
                      "AAP",
                      "POSH BALYAN"
                    ],
                    [
                      "INC",
                      "MUKESH SHARMA"
                    ],
                    [
                      "NOTA",
                      "NOTA"
                    ],
                    [
                      "BSP",
                      "MANI RAM"
                    ],
                    [
                      "IND",
                      "DINESH KUMAR SAH"
                    ],
                    [
                      "IND",
                      "JOURNALIST RAMESH KUMAR JAIN @ NIRBHIK"
                    ],
                    [
                      "YBRP",
                      "DUSHYANT THAKUR"
                    ],
                    [
                      "Other",
                      "SHYAM BABU"
                    ],
                    [
                      "Other",
                      "RAJIV BHRIGUKUMAR"
                    ],
                    [
                      "BJP",
                      "PARDUYMN SINGH RAJPUT"
                    ],
                    [
                      "AAP",
                      "VINAY MISHRA"
                    ],
                    [
                      "INC",
                      "ADARSH SHASTRI"
                    ],
                    [
                      "NOTA",
                      "NOTA"
                    ],
                    [
                      "BSP",
                      "PARDEEP KUMAR"
                    ],
                    [
                      "RMP",
                      "RAMESHWAR MAHTO"
                    ],
                    [
                      "IND",
                      "ASHOK JINDAL"
                    ],
                    [
                      "SBSP",
                      "ARAVENDRA KUMAR"
                    ],
                    [
                      "NYP",
                      "RAJNEESH KUMAR JHA"
                    ],
                    [
                      "IND",
                      "GAUTAM SINGH BIHARI"
                    ],
                    [
                      "Other",
                      "MEHAR CHARAN"
                    ],
                    [
                      "Other",
                      "RAVI RATHORE"
                    ],
                    [
                      "Other",
                      "G. THULASEEDHARAN"
                    ],
                    [
                      "RRP",
                      "YOGESH SWAMI"
                    ],
                    [
                      "BJP",
                      "SANDEEP SEHRAWAT"
                    ],
                    [
                      "AAP",
                      "SUMESH SHOKEEN"
                    ],
                    [
                      "INC",
                      "RAGHVINDER SINGH"
                    ],
                    [
                      "NOTA",
                      "NOTA"
                    ],
                    [
                      "BSP",
                      "KAMLESH KUMAR"
                    ],
                    [
                      "IND",
                      "YOGESH KUMAR"
                    ],
                    [
                      "IND",
                      "PUNAM PANDEY"
                    ],
                    [
                      "RJP(S)",
                      "ARVIND KUMAR PANDEY"
                    ],
                    [
                      "IND",
                      "RAJNI SHARMA"
                    ],
                    [
                      "Other",
                      "PRABHAT KUMAR"
                    ],
                    [
                      "SBSP",
                      "VINOD KUMAR CHAUHAN"
                    ],
                    [
                      "RRP",
                      "YOGESH KUMAR SHARMA"
                    ],
                    [
                      "Other",
                      "MOHINDER SINGH"
                    ],
                    [
                      "NYP",
                      "NIRAJ KUMAR"
                    ],
                    [
                      "BJP",
                      "NEELAM PAHALWAN"
                    ],
                    [
                      "AAP",
                      "TARUN KUMAR"
                    ],
                    [
                      "INC",
                      "SUSHMA DEVI YADAV"
                    ],
                    [
                      "NOTA",
                      "NOTA"
                    ],
                    [
                      "BSP",
                      "ROHIT"
                    ],
                    [
                      "IND",
                      "MANGE RAM SANGWAN"
                    ],
                    [
                      "Other",
                      "JALANDHAR PANDIT"
                    ],
                    [
                      "IND",
                      "MANOJ KUMAR"
                    ],
                    [
                      "PPI(D)",
                      "BHARAT SINGH"
                    ],
                    [
                      "RRP",
                      "RAHUL KUMAR"
                    ],
                    [
                      "BJP",
                      "KAILASH GAHLOT"
                    ],
                    [
                      "AAP",
                      "SURENDER BHARDWAJ"
                    ],
                    [
                      "INC",
                      "COL DEVINDER KUMAR SEHRAWAT"
                    ],
                    [
                      "NOTA",
                      "NOTA"
                    ],
                    [
                      "BSP",
                      "KAMAL SINGH"
                    ],
                    [
                      "IND",
                      "MONIS KURESHI"
                    ],
                    [
                      "IND",
                      "NISHANT SEHRAWAT"
                    ],
                    [
                      "Other",
                      "PUNAM PANDEY"
                    ],
                    [
                      "IND",
                      "AMRINA"
                    ],
                    [
                      "Other",
                      "NARENDER SINGH"
                    ],
                    [
                      "IND",
                      "SOM DUTT SHARMA"
                    ],
                    [
                      "Other",
                      "NAVEEN KUMAR"
                    ],
                    [
                      "Other",
                      "LALITA TRIVEDI"
                    ],
                    [
                      "BJP",
                      "KULDEEP SOLANKI"
                    ],
                    [
                      "AAP",
                      "JOGINDER SOLANKI"
                    ],
                    [
                      "INC",
                      "MANGE RAM"
                    ],
                    [
                      "NOTA",
                      "NOTA"
                    ],
                    [
                      "BSP",
                      "GEETA"
                    ],
                    [
                      "CPI",
                      "DILIP KUMAR"
                    ],
                    [
                      "IND",
                      "PRASHANT CHAUHAN"
                    ],
                    [
                      "PPI(D)",
                      "MANU GAUTAM"
                    ],
                    [
                      "AAP",
                      "VIRENDER SINGH KADIAN"
                    ],
                    [
                      "BJP",
                      "BHUVAN TANWAR"
                    ],
                    [
                      "INC",
                      "PRADEEP KUMAR UPMANYU"
                    ],
                    [
                      "NOTA",
                      "NOTA"
                    ],
                    [
                      "BSP",
                      "NAMIT KUMAR GAUTAM"
                    ],
                    [
                      "IND",
                      "ASHOK AGYANI"
                    ],
                    [
                      "PPI(D)",
                      "SURENDER KUMAR"
                    ],
                    [
                      "BSKP",
                      "SACHIN"
                    ],
                    [
                      "BJP",
                      "UMANG BAJAJ"
                    ],
                    [
                      "AAP",
                      "DURGESH PATHAK"
                    ],
                    [
                      "INC",
                      "VINEET YADAV"
                    ],
                    [
                      "NOTA",
                      "NOTA"
                    ],
                    [
                      "ASP(KR)",
                      "PRAVEEN KUMAR BHARTI"
                    ],
                    [
                      "BSP",
                      "SHIV PRASAD VERMA"
                    ],
                    [
                      "IND",
                      "UMANG"
                    ],
                    [
                      "Other",
                      "PANKAJ JAGYA"
                    ],
                    [
                      "BJP",
                      "PARVESH SAHIB SINGH"
                    ],
                    [
                      "AAP",
                      "ARVIND KEJRIWAL"
                    ],
                    [
                      "INC",
                      "SANDEEP DIKSHIT"
                    ],
                    [
                      "NOTA",
                      "NOTA"
                    ],
                    [
                      "BSP",
                      "VIRENDER"
                    ],
                    [
                      "Other",
                      "DR. MUNISH KUMAR RAIZADA"
                    ],
                    [
                      "IND",
                      "ANURADHA RANA"
                    ],
                    [
                      "IND",
                      "ANITA"
                    ],
                    [
                      "Other",
                      "SANTOSH RAI"
                    ],
                    [
                      "Other",
                      "DUGGIRALA NAGESWARA RAO"
                    ],
                    [
                      "AAP(P)",
                      "NARESH KUMAR"
                    ],
                    [
                      "IND",
                      "DR. ABHILASHA"
                    ],
                    [
                      "RRP",
                      "SANTOSH KUMAR"
                    ],
                    [
                      "Other",
                      "JAGDEESH PRASAD"
                    ],
                    [
                      "Other",
                      "ARUN KUMAR SHARMA"
                    ],
                    [
                      "IND",
                      "SANJAY RAWAT"
                    ],
                    [
                      "Other",
                      "RAVINDER SINGH RAWAT"
                    ],
                    [
                      "IND",
                      "BHAWANA"
                    ],
                    [
                      "IND",
                      "PANKAJ SHARMA"
                    ],
                    [
                      "IND",
                      "HAIDER ALI"
                    ],
                    [
                      "RMP",
                      "NITYA NAND SINGH"
                    ],
                    [
                      "Other",
                      "MUKESH JAIN"
                    ],
                    [
                      "Other",
                      "SANGHA NAND BAUDDH"
                    ],
                    [
                      "Other",
                      "ISHWAR CHAND"
                    ],
                    [
                      "BJP",
                      "TARVINDER SINGH MARWAH"
                    ],
                    [
                      "AAP",
                      "MANISH SISODIA"
                    ],
                    [
                      "INC",
                      "FARHAD SURI"
                    ],
                    [
                      "NOTA",
                      "NOTA"
                    ],
                    [
                      "IND",
                      "ASHOK BAMBANI"
                    ],
                    [
                      "BSP",
                      "RAVINDRA SINGH RAVIYODAYA"
                    ],
                    [
                      "Other",
                      "BIJENDER"
                    ],
                    [
                      "IND",
                      "SUNIL KUMAR KUKREJA"
                    ],
                    [
                      "Other",
                      "RAKESH SAGAR"
                    ],
                    [
                      "BRP",
                      "ANIL KUMAR"
                    ],
                    [
                      "BJP",
                      "NEERAJ BASOYA"
                    ],
                    [
                      "INC",
                      "ABHISHEK DUTT"
                    ],
                    [
                      "AAP",
                      "RAMESH PAHELWAN"
                    ],
                    [
                      "NOTA",
                      "NOTA"
                    ],
                    [
                      "IND",
                      "PARTEEK GUPTA"
                    ],
                    [
                      "BSP",
                      "MAHESH KUMAR"
                    ],
                    [
                      "BJP",
                      "SATISH UPADHYAY"
                    ],
                    [
                      "AAP",
                      "SOMNATH BHARTI"
                    ],
                    [
                      "INC",
                      "JITENDER KUMAR KOCHAR"
                    ],
                    [
                      "NOTA",
                      "NOTA"
                    ],
                    [
                      "BSP",
                      "CHARANJEET KAUR"
                    ],
                    [
                      "IND",
                      "MEGHNAD S."
                    ],
                    [
                      "YBRP",
                      "DR. BHUPENDRA CHAURASIYA"
                    ],
                    [
                      "Other",
                      "BHAVISH DHANKAR"
                    ],
                    [
                      "BJP",
                      "ANIL KUMAR SHARMA"
                    ],
                    [
                      "AAP",
                      "PRAMILA TOKAS"
                    ],
                    [
                      "INC",
                      "VISHESH KUMAR"
                    ],
                    [
                      "NOTA",
                      "NOTA"
                    ],
                    [
                      "BSP",
                      "SUNIL KAIN"
                    ],
                    [
                      "IND",
                      "RAMESH ADVOCATE"
                    ],
                    [
                      "YBRP",
                      "NEERAJ CHOURASIYA"
                    ],
                    [
                      "IND",
                      "PERMILA"
                    ],
                    [
                      "Other",
                      "LOKESH KUMAR MASTERJI"
                    ],
                    [
                      "IND",
                      "RAI SINGH"
                    ],
                    [
                      "IND",
                      "KULDEEP SINGH AHLAWAT"
                    ],
                    [
                      "PPI(D)",
                      "VIJAY KUMAR"
                    ],
                    [
                      "RMP",
                      "SARAVANAN"
                    ],
                    [
                      "Other",
                      "ABHA JHA"
                    ],
                    [
                      "BJP",
                      "GAJENDER SINGH YADAV"
                    ],
                    [
                      "AAP",
                      "MAHENDER CHAUDHARY"
                    ],
                    [
                      "IND",
                      "BALYOGI BABA BALAKNATH"
                    ],
                    [
                      "INC",
                      "PUSHPA SINGH"
                    ],
                    [
                      "NOTA",
                      "NOTA"
                    ],
                    [
                      "BSP",
                      "YOGESHWAR SINGH BISHT"
                    ],
                    [
                      "Other",
                      "MAHAVIR SINGH"
                    ],
                    [
                      "RRP",
                      "SHARDA SINGH"
                    ],
                    [
                      "PPI(D)",
                      "VIJAY LAL TAMTA"
                    ],
                    [
                      "BJP",
                      "KARTAR SINGH TANWAR"
                    ],
                    [
                      "AAP",
                      "BRAHM SINGH TANWAR"
                    ],
                    [
                      "INC",
                      "RAJENDER SINGH TANWAR"
                    ],
                    [
                      "NOTA",
                      "NOTA"
                    ],
                    [
                      "BSP",
                      "BRIJ LAL"
                    ],
                    [
                      "AAP(P)",
                      "DINESH TANWAR"
                    ],
                    [
                      "IND",
                      "DHARMENDER"
                    ],
                    [
                      "IND",
                      "SANJAY NEGI"
                    ],
                    [
                      "ASP(KR)",
                      "ISLAM ALI"
                    ],
                    [
                      "NCP",
                      "NARENDER"
                    ],
                    [
                      "IND",
                      "DAYA RAM GURJAR"
                    ],
                    [
                      "Other",
                      "RICHA KUMARI"
                    ],
                    [
                      "AAP",
                      "PREM CHAUHAN"
                    ],
                    [
                      "Other",
                      "DEEPAK TANWAR"
                    ],
                    [
                      "INC",
                      "RAJESH CHAUHAN"
                    ],
                    [
                      "BSP",
                      "ASMITA"
                    ],
                    [
                      "BRP",
                      "RAJA RAM"
                    ],
                    [
                      "NOTA",
                      "NOTA"
                    ],
                    [
                      "Other",
                      "BACHAN RAM"
                    ],
                    [
                      "Other",
                      "DEVIKA"
                    ],
                    [
                      "AAP",
                      "DR. AJAY DUTT"
                    ],
                    [
                      "BJP",
                      "KHUSHI RAM CHUNAR"
                    ],
                    [
                      "INC",
                      "JAI PRAKASH"
                    ],
                    [
                      "NOTA",
                      "NOTA"
                    ],
                    [
                      "BSP",
                      "SEWA DASS"
                    ],
                    [
                      "Other",
                      "ARUN"
                    ],
                    [
                      "ASP(KR)",
                      "DARSAN SINGH"
                    ],
                    [
                      "IND",
                      "ASHOK KUMAR"
                    ],
                    [
                      "BRP",
                      "RAJIV KUMAR"
                    ],
                    [
                      "RRP",
                      "GULSHAN BHARTI"
                    ],
                    [
                      "BJP",
                      "CHANDAN KUMAR CHOUDHARY"
                    ],
                    [
                      "AAP",
                      "DINESH MOHANIYA"
                    ],
                    [
                      "INC",
                      "HARSH CHOUDHARY"
                    ],
                    [
                      "BSP",
                      "MOHD ZAKIULLAH"
                    ],
                    [
                      "NOTA",
                      "NOTA"
                    ],
                    [
                      "IND",
                      "JAGDISH KUMAR VERMA"
                    ],
                    [
                      "Other",
                      "SUDHIR NEGI"
                    ],
                    [
                      "IND",
                      "MAHENDER KUMAR"
                    ],
                    [
                      "ASP(KR)",
                      "SIRAJUDDIN"
                    ],
                    [
                      "NCP",
                      "QAMAR ALI"
                    ],
                    [
                      "Other",
                      "RAVINDER SINGH"
                    ],
                    [
                      "IND",
                      "SATPAL"
                    ],
                    [
                      "BJP",
                      "SHIKHA ROY"
                    ],
                    [
                      "AAP",
                      "SAURABH BHARADWAJ"
                    ],
                    [
                      "INC",
                      "GARVIT SINGHVI"
                    ],
                    [
                      "NOTA",
                      "NOTA"
                    ],
                    [
                      "BSP",
                      "NIYATI CHOUDHARY"
                    ],
                    [
                      "BRP",
                      "SATISH KUMAR GULLIYA"
                    ],
                    [
                      "Other",
                      "RAMESH JAGANNATH SHAH"
                    ],
                    [
                      "AAP",
                      "ATISHI"
                    ],
                    [
                      "BJP",
                      "RAMESH BIDHURI"
                    ],
                    [
                      "INC",
                      "ALKA LAMBA"
                    ],
                    [
                      "NOTA",
                      "NOTA"
                    ],
                    [
                      "BSP",
                      "PRITAM SINGH"
                    ],
                    [
                      "BRP",
                      "TANYA SINGH"
                    ],
                    [
                      "Other",
                      "DEEPAK KAPILA"
                    ],
                    [
                      "IND",
                      "SANJAY"
                    ],
                    [
                      "AJP(I)",
                      "RAJAN SINGH"
                    ],
                    [
                      "IND",
                      "PARVEEN CHOUDHRY"
                    ],
                    [
                      "IND",
                      "RAVI"
                    ],
                    [
                      "IND",
                      "IQBAL AHMED SIDDIQUI"
                    ],
                    [
                      "Other",
                      "SANGH MITRA"
                    ],
                    [
                      "Other",
                      "RAJESH KUMAR"
                    ],
                    [
                      "AAP",
                      "SAHI RAM"
                    ],
                    [
                      "BJP",
                      "ROHTASH KUMAR"
                    ],
                    [
                      "INC",
                      "VIRENDER SINGH"
                    ],
                    [
                      "BSP",
                      "AMJAD HASAN"
                    ],
                    [
                      "NOTA",
                      "NOTA"
                    ],
                    [
                      "Other",
                      "PARVEEN CHAUHAN"
                    ],
                    [
                      "RRP",
                      "NARESH KUMAR"
                    ],
                    [
                      "IND",
                      "REKHA SINGH"
                    ],
                    [
                      "Other",
                      "KHURSHEED ABBAS ZAIDI"
                    ],
                    [
                      "PPI(D)",
                      "CHAMAN LAL"
                    ],
                    [
                      "AAP",
                      "RAM SINGH NETAJI"
                    ],
                    [
                      "BJP",
                      "NARAYAN DUTT SHARMA"
                    ],
                    [
                      "INC",
                      "ARJUN SINGH BHADANA"
                    ],
                    [
                      "BSP",
                      "PARDEEP"
                    ],
                    [
                      "NOTA",
                      "NOTA"
                    ],
                    [
                      "Other",
                      "RAHUL RAI"
                    ],
                    [
                      "CPI(M)",
                      "JAGDISH CHAND"
                    ],
                    [
                      "NCP",
                      "IMRAN SAIFI"
                    ],
                    [
                      "IND",
                      "DEEPAK RAWAT"
                    ],
                    [
                      "Other",
                      "HARI RAM"
                    ],
                    [
                      "IND",
                      "OM PRAKASH GUPTA"
                    ],
                    [
                      "Other",
                      "RAM BAHADUR"
                    ],
                    [
                      "BSKP",
                      "BRIJPAL"
                    ],
                    [
                      "AAP",
                      "AMANATULLAH KHAN"
                    ],
                    [
                      "BJP",
                      "MANISH CHAUDHARY"
                    ],
                    [
                      "AIMIM",
                      "SHIFA UR REHMAN KHAN"
                    ],
                    [
                      "INC",
                      "ARIBA KHAN"
                    ],
                    [
                      "BSP",
                      "SATISH KUMAR"
                    ],
                    [
                      "NOTA",
                      "NOTA"
                    ],
                    [
                      "Other",
                      "SHER MOHAMMAD"
                    ],
                    [
                      "IND",
                      "SHEIKH ARSALAN ULLAH CHISHTI"
                    ],
                    [
                      "CPI",
                      "MD INJAMAMUL HASSAN"
                    ],
                    [
                      "Other",
                      "RIZWANA KHATOON"
                    ],
                    [
                      "IND",
                      "HAMMAD KHAN"
                    ],
                    [
                      "Other",
                      "FIRDOS ALAM"
                    ],
                    [
                      "Other",
                      "KANEEZ FATIMA"
                    ],
                    [
                      "RRP",
                      "MOHD ISLAM"
                    ],
                    [
                      "Other",
                      "JAMALUDDIN"
                    ],
                    [
                      "BJP",
                      "RAVI KANT"
                    ],
                    [
                      "AAP",
                      "ANJANA PARCHA"
                    ],
                    [
                      "INC",
                      "AMARDEEP"
                    ],
                    [
                      "ASP(KR)",
                      "VICKY"
                    ],
                    [
                      "BSP",
                      "NAND LAL"
                    ],
                    [
                      "NOTA",
                      "NOTA"
                    ],
                    [
                      "IND",
                      "NAVEEN RAM"
                    ],
                    [
                      "ABSP",
                      "SARITA SINGH"
                    ],
                    [
                      "AAP",
                      "KULDEEP KUMAR (MONU)"
                    ],
                    [
                      "BJP",
                      "PRIYANKA GAUTAM"
                    ],
                    [
                      "INC",
                      "AKSHAY KUMAR"
                    ],
                    [
                      "BSP",
                      "MUKESH KUMAR"
                    ],
                    [
                      "NOTA",
                      "NOTA"
                    ],
                    [
                      "ASP(KR)",
                      "SUNNY KUMAR"
                    ],
                    [
                      "Other",
                      "ASHA KAMBLE"
                    ],
                    [
                      "Other",
                      "SURENDER SINGH"
                    ],
                    [
                      "RRP",
                      "NIKHIL KUMAR PIPAL"
                    ],
                    [
                      "CPI(ML)L",
                      "AMARJEET PRASAD"
                    ],
                    [
                      "BJP",
                      "Ravinder Singh Negi (Ravi Negi)"
                    ],
                    [
                      "AAP",
                      "AVADH OJHA"
                    ],
                    [
                      "INC",
                      "ANIL KUMAR"
                    ],
                    [
                      "BSP",
                      "OM SHANKAR PANDEY"
                    ],
                    [
                      "NOTA",
                      "NOTA"
                    ],
                    [
                      "Other",
                      "PRAKASH CHANDRA JOSHI"
                    ],
                    [
                      "Other",
                      "GOPAL PRASAD"
                    ],
                    [
                      "IND",
                      "DIBLU SINGH"
                    ],
                    [
                      "IND",
                      "JAGDISH  OJHA"
                    ],
                    [
                      "Other",
                      "DEEPA DEVI"
                    ],
                    [
                      "BJP",
                      "ABHAY VERMA"
                    ],
                    [
                      "AAP",
                      "B B TYAGI"
                    ],
                    [
                      "INC",
                      "SUMIT SHARMA"
                    ],
                    [
                      "NOTA",
                      "NOTA"
                    ],
                    [
                      "BSP",
                      "MOHD WAQAR CHOUDHARY"
                    ],
                    [
                      "ASP(KR)",
                      "GANDHI GAUTAM"
                    ],
                    [
                      "Other",
                      "VIKAS"
                    ],
                    [
                      "Other",
                      "DEEPAK PANDEY"
                    ],
                    [
                      "IND",
                      "JAGDISH KUMAR GARG"
                    ],
                    [
                      "IND",
                      "VIMAL KUMAR SAXENA"
                    ],
                    [
                      "NCP",
                      "NAMAHA"
                    ],
                    [
                      "IND",
                      "ANURAG KUMAR"
                    ],
                    [
                      "PPI(D)",
                      "KUSUM LATA"
                    ],
                    [
                      "RRP",
                      "ANIMA OJHA"
                    ],
                    [
                      "Other",
                      "DANVEER VIDYALANKAR"
                    ],
                    [
                      "Other",
                      "ISMAIL"
                    ],
                    [
                      "BJP",
                      "OM PRAKASH SHARMA"
                    ],
                    [
                      "AAP",
                      "DEEPAK SINGHAL"
                    ],
                    [
                      "INC",
                      "RAJIV CHAUDHARY"
                    ],
                    [
                      "NOTA",
                      "NOTA"
                    ],
                    [
                      "BSP",
                      "RAJESH KUMAR YADAV"
                    ],
                    [
                      "Other",
                      "BHAWANA BOTHRA"
                    ],
                    [
                      "JMBP",
                      "GURMEET SINGH"
                    ],
                    [
                      "AAPP",
                      "PARAG JAIN"
                    ],
                    [
                      "Other",
                      "DEEPAK KUMAR"
                    ],
                    [
                      "PPI(D)",
                      "NEELAM SINGH"
                    ],
                    [
                      "NYP",
                      "ANIL KUMAR"
                    ],
                    [
                      "BJP",
                      "DR ANIL GOYAL"
                    ],
                    [
                      "AAP",
                      "VIKAS BAGGA CA"
                    ],
                    [
                      "INC",
                      "GURCHARAN SINGH (RAJU)"
                    ],
                    [
                      "NOTA",
                      "NOTA"
                    ],
                    [
                      "BSP",
                      "AMAR SINGH"
                    ],
                    [
                      "IND",
                      "VINOD KAPOOR"
                    ],
                    [
                      "NYP",
                      "POONAM MAINI"
                    ],
                    [
                      "Other",
                      "VIDHAYAK VIRENDRA PRADHAN GURJAR"
                    ],
                    [
                      "BJP",
                      "ARVINDER SINGH LOVELY"
                    ],
                    [
                      "AAP",
                      "NAVEEN CHAUDHARY (DEEPU)"
                    ],
                    [
                      "INC",
                      "KAMAL ARORA (DABBU)"
                    ],
                    [
                      "NOTA",
                      "NOTA"
                    ],
                    [
                      "BSP",
                      "TIKRAJ SINGH"
                    ],
                    [
                      "Other",
                      "PAWAN CHOUDHRY"
                    ],
                    [
                      "IND",
                      "GULFAM"
                    ],
                    [
                      "BJP",
                      "SANJAY GOYAL"
                    ],
                    [
                      "AAP",
                      "JITENDER SINGH SHUNTY"
                    ],
                    [
                      "INC",
                      "JAGAT SINGH"
                    ],
                    [
                      "BSP",
                      "DHARMINDRA KUMAR KAIM"
                    ],
                    [
                      "IND",
                      "VINAY CHAUDHARI"
                    ],
                    [
                      "NOTA",
                      "NOTA"
                    ],
                    [
                      "AAPP",
                      "NITIN GARG"
                    ],
                    [
                      "NYP",
                      "KAMAL KISHORE"
                    ],
                    [
                      "IND",
                      "ASHOK SURANA"
                    ],
                    [
                      "NCP",
                      "RAJENDRA KUMAR PAL"
                    ],
                    [
                      "IND",
                      "DILIP BANERJEE"
                    ],
                    [
                      "AAP",
                      "VEER SINGH DHINGAN"
                    ],
                    [
                      "BJP",
                      "KU. RINKU"
                    ],
                    [
                      "INC",
                      "RAJESH LILOTHIA"
                    ],
                    [
                      "BSP",
                      "MANOJ"
                    ],
                    [
                      "ASP(KR)",
                      "ANIL KUMAR"
                    ],
                    [
                      "NOTA",
                      "NOTA"
                    ],
                    [
                      "PPI(D)",
                      "AJAY KUMAR"
                    ],
                    [
                      "Other",
                      "SAROJ BALA"
                    ],
                    [
                      "IND",
                      "ASHISH KUMAR"
                    ],
                    [
                      "NCP",
                      "RAJESH KUMAR LOHIYA"
                    ],
                    [
                      "RRP",
                      "CHARAN SINGH MALIYAN"
                    ],
                    [
                      "Other",
                      "RAJESH"
                    ],
                    [
                      "BJP",
                      "JITENDER MAHAJAN"
                    ],
                    [
                      "AAP",
                      "SARITA SINGH"
                    ],
                    [
                      "INC",
                      "SURESHVATI"
                    ],
                    [
                      "BSP",
                      "ASHOK KUMAR"
                    ],
                    [
                      "NOTA",
                      "NOTA"
                    ],
                    [
                      "IND",
                      "VIKAS TYAGI"
                    ],
                    [
                      "ASP(KR)",
                      "SURENDER SINGH VISHWAKARMA"
                    ],
                    [
                      "NCP",
                      "ABHISHEK"
                    ],
                    [
                      "IND",
                      "SURESH PAL JAINTH"
                    ],
                    [
                      "Other",
                      "NASEEM USMAN"
                    ],
                    [
                      "Other",
                      "PANKAJ GUPTA"
                    ],
                    [
                      "Other",
                      "AKESHAN DUT"
                    ],
                    [
                      "IND",
                      "NITIN MITTAL"
                    ],
                    [
                      "Other",
                      "AMIT KUMAR SHARMA"
                    ],
                    [
                      "Other",
                      "SANJEEV KUMAR"
                    ],
                    [
                      "BRP",
                      "SUBHASH CHAND GUPTA"
                    ],
                    [
                      "AAP",
                      "CHAUDHARY ZUBAIR AHMAD"
                    ],
                    [
                      "BJP",
                      "ANIL KUMAR SHARMA (GAUR)"
                    ],
                    [
                      "INC",
                      "ABDUL REHMAN"
                    ],
                    [
                      "BSP",
                      "DEEPAK KUMAR"
                    ],
                    [
                      "NOTA",
                      "NOTA"
                    ],
                    [
                      "Other",
                      "SHABANA"
                    ],
                    [
                      "Other",
                      "MOHD NAZIR"
                    ],
                    [
                      "IND",
                      "MOHD SHAFI"
                    ],
                    [
                      "Other",
                      "SUMAN SHARMA"
                    ],
                    [
                      "IND",
                      "SYED MUNEEB"
                    ],
                    [
                      "IND",
                      "RAHISUDDIN AHMAD"
                    ],
                    [
                      "IND",
                      "MOHD ZUBAIR MALIK"
                    ],
                    [
                      "IND",
                      "S. M. AQIF"
                    ],
                    [
                      "IND",
                      "ISLAUDDIN"
                    ],
                    [
                      "BJP",
                      "AJAY MAHAWAR"
                    ],
                    [
                      "AAP",
                      "GAURAV SHARMA"
                    ],
                    [
                      "INC",
                      "BHISHAM SHARMA"
                    ],
                    [
                      "NOTA",
                      "NOTA"
                    ],
                    [
                      "BSP",
                      "SUNDER LOHIYA"
                    ],
                    [
                      "IND",
                      "GAURAV SHARMA"
                    ],
                    [
                      "YBRP",
                      "BABITA"
                    ],
                    [
                      "RRP",
                      "SHUBHAM"
                    ],
                    [
                      "Other",
                      "ANIL SINGH"
                    ],
                    [
                      "NCP",
                      "ADVOCATE MEHAK DOGRA"
                    ],
                    [
                      "AAP",
                      "GOPAL RAI"
                    ],
                    [
                      "BJP",
                      "ANIL KUMAR VASHISHT"
                    ],
                    [
                      "INC",
                      "MOHD ISHRAQ KHAN"
                    ],
                    [
                      "NOTA",
                      "NOTA"
                    ],
                    [
                      "Other",
                      "MD NAZIR"
                    ],
                    [
                      "IND",
                      "MOHAMMAD ABDULLAH ANSARI"
                    ],
                    [
                      "Other",
                      "BHUPENDER YADAV"
                    ],
                    [
                      "Other",
                      "SHIV KUMAR(KAKE)"
                    ],
                    [
                      "ABSP",
                      "MANOJ KUMAR"
                    ],
                    [
                      "AAP",
                      "SURENDRA KUMAR"
                    ],
                    [
                      "BJP",
                      "PRAVEEN NIMESH"
                    ],
                    [
                      "INC",
                      "ISHWAR SINGH"
                    ],
                    [
                      "ASP(KR)",
                      "ARVIND KUMAR"
                    ],
                    [
                      "BSP",
                      "LAL SINGH"
                    ],
                    [
                      "NOTA",
                      "NOTA"
                    ],
                    [
                      "Other",
                      "ATUL KUMAR"
                    ],
                    [
                      "PPI(D)",
                      "DHARAMVIR SINGH"
                    ],
                    [
                      "Other",
                      "BIR SAIN"
                    ],
                    [
                      "IND",
                      "SURESHPAL JAINTH"
                    ],
                    [
                      "Other",
                      "MANJEET SINGH"
                    ],
                    [
                      "RRP",
                      "CHARAN SINGH MALIYAN"
                    ],
                    [
                      "NCP",
                      "JAGDISH"
                    ],
                    [
                      "BJP",
                      "MOHAN SINGH BISHT"
                    ],
                    [
                      "AAP",
                      "ADEEL AHMAD KHAN"
                    ],
                    [
                      "AIMIM",
                      "MOHD. TAHIR HUSSAIN"
                    ],
                    [
                      "INC",
                      "ALI MEHDI"
                    ],
                    [
                      "BSP",
                      "ASHOK KUMAR"
                    ],
                    [
                      "NOTA",
                      "NOTA"
                    ],
                    [
                      "Other",
                      "DHARAM PAL"
                    ],
                    [
                      "BSKP",
                      "ASHA CHAUDHARY"
                    ],
                    [
                      "PP",
                      "SAGAR TANHA"
                    ],
                    [
                      "PPI(D)",
                      "VISHAL"
                    ],
                    [
                      "Other",
                      "MOHD USMAN BAKHSH"
                    ],
                    [
                      "IND",
                      "JITENDER KUMAR"
                    ],
                    [
                      "Other",
                      "NASIRUDDIN GAURI"
                    ],
                    [
                      "BJP",
                      "KAPIL MISHRA"
                    ],
                    [
                      "AAP",
                      "MANOJ KUMAR TYAGI"
                    ],
                    [
                      "INC",
                      "DR. P.K. MISHRA"
                    ],
                    [
                      "BSP",
                      "DEVENDRA BHAIYA"
                    ],
                    [
                      "IND",
                      "AJAY SINGH NEGI"
                    ],
                    [
                      "NOTA",
                      "NOTA"
                    ],
                    [
                      "Other",
                      "H.M. HASHIM MALIK"
                    ],
                    [
                      "CPI(M)",
                      "ASHOK AGARWAL"
                    ],
                    [
                      "Other",
                      "PRAKASH CHAND"
                    ],
                    [
                      "IND",
                      "YOGESH SWAMY"
                    ],
                    [
                      "IND",
                      "VISHAL SHARMA"
                    ],
                    [
                      "NCP",
                      "SANJAY MISHRA (SITARAM)"
                    ],
                    [
                      "PPI(D)",
                      "SEEMA"
                    ],
                    [
                      "NIUP",
                      "NEERAJ"
                    ],
                    [
                      "BSKP",
                      "YOGENDER"
                    ],
                    [
                      "ABSP",
                      "SANDHIYA TIWARI"
                    ]
                  ],
                  "hovertemplate": "%{y}<br>%{customdata[1]}<br>%{customdata[0]} %{x} votes",
                  "hovertext": [
                    "('BJP', 'RAJ KARAN KHATRI')",
                    "('AAP', 'SHARAD KUMAR')",
                    "('INC', 'ARUNA')",
                    "('NOTA', 'NOTA')",
                    "('CPI(ML)L', 'ANIL KUMAR SINGH')",
                    "('IND', 'VIKAS BHARDWAJ')",
                    "('ASP(KR)', 'MD KHALID')",
                    "('IND', 'BUDIYA')",
                    "('AAP', 'SANJEEV JHA')",
                    "('JD(U)', 'SHAILENDRA KUMAR')",
                    "('INC', 'MANGESH TYAGI')",
                    "('NCP', 'RATAN TYAGI')",
                    "('NOTA', 'NOTA')",
                    "('BSP', 'GANGA RAM')",
                    "('Other', 'ANIL KAPOOR')",
                    "('AAP(P)', 'SONU KAUSHIK')",
                    "('RJM', 'VIJAY KUMAR JHA')",
                    "('AASP(S)\\t', 'SUNIL KUMAR VYATHIT')",
                    "('RJP(S)', 'ABHISHEK KUMAR SINGH (MASTER JI)')",
                    "('Other', 'GULAB SINGHAL')",
                    "('Other', 'PRAMOD')",
                    "('Other', 'MUKESH PRASAD')",
                    "('RRP', 'DHURVA KUMAR')",
                    "('BJP', 'SURYA PRAKASH KHATRI')",
                    "('AAP', 'SURINDER PAL SINGH (BITTOO)')",
                    "('INC', 'LOKENDRA KALYAN SINGH')",
                    "('BSP', 'SURENDER PAL')",
                    "('NOTA', 'NOTA')",
                    "('Other', 'TARUN KUMAR')",
                    "('Other', 'DEEPAK CHAWLA')",
                    "('PPI(D)', 'RAJKUMAR BHARTI')",
                    "('RJP(S)', 'RAM RAJ SINGH')",
                    "('Other', 'SANGH PRIYA SIDDHARTHA')",
                    "('Other', 'RAKESH RANJAN SHRIVASTAV')",
                    "('Other', 'WASIM AKRAM')",
                    "('Other', 'BIJENDER KUMAR')",
                    "('BJP', 'RAJ KUMAR BHATIA')",
                    "('AAP', 'MUKESH KUMAR GOEL')",
                    "('INC', 'SHIVANK SINGAL')",
                    "('NOTA', 'NOTA')",
                    "('BSP', 'ABDUL ZABBAR')",
                    "('IND', 'RAM NIWAS')",
                    "('CPI', 'SANJEEV KUMAR RANA')",
                    "('IND', 'VIJAY KR. AGGARWAL')",
                    "('IND', 'NEETU SINGH')",
                    "('IND', 'AYUSH GUPTA')",
                    "('Other', 'PRIYA')",
                    "('Other', 'PREM CHAND')",
                    "('PPI(D)', 'SANJAY YADAV ADVOCATE')",
                    "('NYP', 'VISHAL SINGH')",
                    "('Other', 'MD: RAHMAT ALI')",
                    "('BJP', 'AAHIR DEEPAK CHAUDHARYY')",
                    "('AAP', 'AJESH YADAV')",
                    "('INC', 'DEVENDER YADAV')",
                    "('BSP', 'RAVINDER KUMAR')",
                    "('NOTA', 'NOTA')",
                    "('Other', 'PARMOD KUMAR')",
                    "('IND', 'DEVENDER KUMAR YADAV')",
                    "('IND', 'JAI PAL')",
                    "('IND', 'ARUN KUMAR')",
                    "('NCP', 'MULAYAM SINGH')",
                    "('BSKP', 'GOPAL KUMAR SINHA')",
                    "('Other', 'RAJENDER')",
                    "('Other', 'R. C. SHARMA')",
                    "('BJP', 'KULWANT RANA')",
                    "('AAP', 'MOHINDER GOYAL')",
                    "('INC', 'SUSHANT MISHRA')",
                    "('NOTA', 'NOTA')",
                    "('BSP', 'NEYAZ KHAN')",
                    "('YBRP', 'ASHOK JAIN')",
                    "('IND', 'VIDYA PATTI')",
                    "('JMBP', 'NISHTHA')",
                    "('IND', 'VISHAL GUPTA')",
                    "('PPI(D)', 'AYASHA KHATOON')",
                    "('IND', 'AJAY KUMAR SINGH')",
                    "('Other', 'JITANDER SINGH')",
                    "('BJP', 'RAVINDER INDRAJ SINGH')",
                    "('AAP', 'JAI BHAGWAN UPKAR')",
                    "('INC', 'SURENDER KUMAR')",
                    "('BSP', 'HEERA LAL')",
                    "('NOTA', 'NOTA')",
                    "('IND', 'HARI KISHAN MECHANIC')",
                    "('PPI(D)', 'DHEERAJ KUMAR')",
                    "('Other', 'BABITA')",
                    "('BJP', 'GAJENDER DRALL')",
                    "('AAP', 'JASBIR KARALA')",
                    "('INC', 'DHARAMPAL LAKRA')",
                    "('IND', 'RAMBIR SHOKEEN')",
                    "('NOTA', 'NOTA')",
                    "('BSP', 'SUMAN LATA SEHRAWAT')",
                    "('IND', 'SUNITA SHEKHAR CHAWARIYA')",
                    "('NLP', 'SUNIL KUMAR')",
                    "('IND', 'RAJNI')",
                    "('IND', 'ANDEEP DRALL')",
                    "('AIFB', 'MAHAVIR')",
                    "('ABSP', 'YOGENDER SINGH ALIAS YOGI MATHUR')",
                    "('Other', 'SANTOSH')",
                    "('RRP', 'SANJAYA KUMAR YADAV')",
                    "('AAP', 'ANIL JHA')",
                    "('BJP', 'BAJRANG SHUKLA')",
                    "('INC', 'RAJESH KUMAR GUPTA')",
                    "('BSP', 'JUGBIR SINGH')",
                    "('NOTA', 'NOTA')",
                    "('ASP(KR)', 'MALIK NEYAZ AHMAD')",
                    "('IND', 'PRAKASH SRIVASTAV')",
                    "('IND', 'RAKESH')",
                    "('RMP', 'SUDESH SHARMA')",
                    "('PP', 'AFSANA SARWAR')",
                    "('AAP', 'MUKESH KUMAR AHLAWAT')",
                    "('BJP', 'KARAM SINGH KARMA')",
                    "('INC', 'JAI KISHAN')",
                    "('BSP', 'KULWANT RANA')",
                    "('JMBP', 'JITENDER')",
                    "('NOTA', 'NOTA')",
                    "('IND', 'DEEPAK KUMAR')",
                    "('IND', 'RAMSWAROOP SAMRIA')",
                    "('Other', 'KARAN SINGH')",
                    "('BSKP', 'BABU LAL')",
                    "('YBRP', 'PREETI')",
                    "('Other', 'SANGEETA')",
                    "('Other', 'LAXMI')",
                    "('BJP', 'MANOJ KUMAR SHOKEEN')",
                    "('AAP', 'RAGHUVINDER SHOKEEN')",
                    "('INC', 'ROHIT CHOUDHARY')",
                    "('NOTA', 'NOTA')",
                    "('BSP', 'MUKESH KUMAR')",
                    "('Other', 'YATENDER SHARMA')",
                    "('IND', 'DILIP KUMAR SHARMA')",
                    "('PPI(D)', 'RAM SAJIVAN')",
                    "('RMP', 'KANCHAN SHARMA')",
                    "('Other', 'MAHENDER SINGH RATHOR')",
                    "('BJP', 'RAJ KUMAR CHAUHAN')",
                    "('AAP', 'DHARAM RAKSHAK ALIAS RAKESH JATAV')",
                    "('INC', 'HANUMAN SAHAY ALIAS HANUMAN CHAUHAN')",
                    "('NOTA', 'NOTA')",
                    "('BSP', 'MUKESH KUMAR')",
                    "('IND', 'JAI BHAGWAN')",
                    "('Other', 'KHILKHILAKAR')",
                    "('BJP', 'VIJENDER GUPTA')",
                    "('AAP', 'PARDEEP MITTAL')",
                    "('INC', 'SUMESH GUPTA')",
                    "('NOTA', 'NOTA')",
                    "('BSP', 'HARSHAD CHADHA')",
                    "('JMBP', 'ABHISHEK')",
                    "('Other', 'AMIT SAINI')",
                    "('IND', 'RAJBIR')",
                    "('IND', 'NARENDER SINGH PANWAR')",
                    "('BJP', 'REKHA GUPTA')",
                    "('AAP', 'BANDANA KUMARI')",
                    "('INC', 'PARVEEN KUMAR JAIN')",
                    "('NOTA', 'NOTA')",
                    "('BSP', 'SHYAM KUMAR')",
                    "('IND', 'SAURABH GUPTA')",
                    "('IND', 'RINA DEVI')",
                    "('IND', 'RAJESH KUMAR')",
                    "('IND', 'MOHD. USMAN')",
                    "('NIUP', 'RANJEET VERMA')",
                    "('BJP', 'KARNAIL SINGH')",
                    "('AAP', 'SATYENDAR JAIN')",
                    "('INC', 'SATISH KUMAR LUTHRA')",
                    "('NOTA', 'NOTA')",
                    "('BSP', 'VIJAY KUMAR')",
                    "('YBRP', 'TAMANA')",
                    "('Other', 'RAJESH GUPTA')",
                    "('IND', 'JUGAL CHAWLA')",
                    "('BJP', 'TILAK RAM GUPTA')",
                    "('AAP', 'PREETI JITENDER TOMAR')",
                    "('INC', 'SATENDER SHARMA')",
                    "('NOTA', 'NOTA')",
                    "('BSP', 'PAWAN GARG')",
                    "('Other', 'SUBHASH')",
                    "('PPI(D)', 'SURENDRA SINGH BASOYA')",
                    "('BJP', 'POONAM SHARMA')",
                    "('AAP', 'RAJESH GUPTA')",
                    "('INC', 'RAGINI NAYAK')",
                    "('BSP', 'HIRA LAL')",
                    "('NOTA', 'NOTA')",
                    "('IND', 'AAKASH GOEL')",
                    "('CPI', 'DEVENDER KUMAR')",
                    "('IND', 'MUKESH JAIN')",
                    "('RRP', 'MAHESH BANSAL')",
                    "('Other', 'SHEELA DEVI')",
                    "('BJP', 'ASHOK GOEL')",
                    "('AAP', 'AKHILESH PATI TRIPATHI')",
                    "('INC', 'KANWAR KARAN SINGH')",
                    "('NOTA', 'NOTA')",
                    "('BSP', 'CHUNNI LAL')",
                    "('IND', 'ROMAN RASHID')",
                    "('IND', 'CHANDER PAL')",
                    "('AAP(P)', 'VIVEK GIRI')",
                    "('Other', 'PANKAJ KUMAR')",
                    "('RRP', 'AWDHESH KUMAR JHA')",
                    "('AAP', 'SOM DUTT')",
                    "('BJP', 'MANOJ KUMAR JINDAL')",
                    "('INC', 'ANIL BHARDWAJ')",
                    "('BSP', 'SHAIL KUMARI')",
                    "('NOTA', 'NOTA')",
                    "('Other', 'MEENAKSHI KUMARI')",
                    "('JMBP', 'MADHU BALA')",
                    "('Other', 'ASHA RANI')",
                    "('Other', 'ANITA BANSAL')",
                    "('Other', 'CA SOHARSH GULGULIA JAIN')",
                    "('Other', 'LAXMI THAKUR SINGHAL')",
                    "('Other', 'UMESH RATHOR')",
                    "('AAP', 'PUNARDEEP SINGH SAWHNEY (SABBY)')",
                    "('BJP', 'SATISH JAIN')",
                    "('INC', 'MUDIT AGARWAL')",
                    "('NOTA', 'NOTA')",
                    "('BSP', 'KALI CHARAN')",
                    "('NCP', 'KHALID UR REHMAN')",
                    "('RRP', 'RAHUL TIWARI')",
                    "('Other', 'MOHAMMAD MURSALEEN')",
                    "('AAP', 'AALEY MOHAMMED IQBAL')",
                    "('BJP', 'DEEPTI INDORA')",
                    "('INC', 'ASIM AHMED KHAN')",
                    "('NOTA', 'NOTA')",
                    "('BSP', 'TEJ RAM')",
                    "('IND', 'AMAR NATH')",
                    "('IND', 'MOHAMMAD AHMED SAIFI')",
                    "('NCP', 'MOHD JAVED')",
                    "('IND', 'BHAGWAN DASS')",
                    "('IND', 'FIRDOUS AHMAD')",
                    "('IND', 'MOAZAM KHAN')",
                    "('IND', 'ZAINUDDIN')",
                    "('AAP', 'IMRAN HUSSAIN')",
                    "('BJP', 'KAMAL BAGRI')",
                    "('INC', 'HAROON YUSUF')",
                    "('NOTA', 'NOTA')",
                    "('AAPP', 'ABRAR')",
                    "('BSP', 'SONU')",
                    "('IND', 'BABU LAL')",
                    "('IND', 'HANSA')",
                    "('IND', 'MOHD. SHADAB')",
                    "('NCP', 'MD HAROON')",
                    "('AAP', 'VISHESH RAVI')",
                    "('BJP', 'DUSHYANT GAUTAM')",
                    "('INC', 'RAHUL KUMAR')",
                    "('BSP', 'RANJEET')",
                    "('NOTA', 'NOTA')",
                    "('Other', 'SHIV KUMAR')",
                    "('IND', 'DEEPAK KUMAR')",
                    "('AAP', 'PRAVESH RATN')",
                    "('BJP', 'RAAJ KUMAR ANAND')",
                    "('INC', 'KRISHNA TIRATH')",
                    "('NOTA', 'NOTA')",
                    "('BSP', 'RAM AVTAR')",
                    "('ASP(KR)', 'ASHOK KUMAR')",
                    "('BJP', 'HARISH KHURANA')",
                    "('AAP', 'SHIVCHARAN GOEL')",
                    "('INC', 'RAJENDER SINGH')",
                    "('BSP', 'AVINASH GUPTA')",
                    "('NOTA', 'NOTA')",
                    "('IND', 'SADRE ALAM')",
                    "('IND', 'GAURI SHANKAR')",
                    "('RRP', 'GOURAV BOTHRA')",
                    "('IND', 'HARISH')",
                    "('Other', 'VISHAL SAHNI')",
                    "('RMP', 'VIJAY KUMAR SHARMA')",
                    "('NCP', 'SANAULLAH')",
                    "('Other', 'MAHESH DUBEY')",
                    "('BJP', 'KAILASH GANGWAL')",
                    "('AAP', 'RAKHI BIRLA')",
                    "('INC', 'J. P. PANWAR')",
                    "('NOTA', 'NOTA')",
                    "('BSP', 'ROOP SINGH AHIRWAR')",
                    "('IND', 'DHARAMVEER')",
                    "('JMBP', 'RANDHIR SINGH TANDI')",
                    "('IND', 'RAVI')",
                    "('Other', 'ROHIT KASHYAP')",
                    "('Other', 'RANDHIR KUMAR')",
                    "('BJP', 'MANJINDER SINGH SIRSA')",
                    "('AAP', 'A DHANWATI CHANDELA A')",
                    "('INC', 'DHARAM PAL CHANDELA')",
                    "('NOTA', 'NOTA')",
                    "('BSP', 'SHASHI PABHA')",
                    "('AAPP', 'KARAN TALWAR')",
                    "('Other', 'JAYA RAMAN')",
                    "('RRP', 'VISHAL SANGWAN')",
                    "('AAP(P)', 'KAMLA DEVI')",
                    "('BJP', 'SHYAM SHARMA')",
                    "('AAP', 'SURINDER KUMAR SETIA')",
                    "('INC', 'PREM BALLABH')",
                    "('IND', 'RAJ KUMARI DHILLON')",
                    "('NOTA', 'NOTA')",
                    "('BSP', 'BINDU KUMAR')",
                    "('IND', 'MAYANK MEHTA')",
                    "('IND', 'SABIR KHAN')",
                    "('Other', 'MOHAN LAL BHARDWAJ')",
                    "('RJP(S)', 'PREETAM CHAND')",
                    "('IND', 'ASHOK KUMAR')",
                    "('AAP', 'JARNAIL SINGH')",
                    "('BJP', 'SHVETA SAINI')",
                    "('INC', 'PARVINDER SINGH ALIAS P S BAWA')",
                    "('NOTA', 'NOTA')",
                    "('BSP', 'ASHOK KUMAR GAUTAM')",
                    "('IND', 'SHWETA')",
                    "('IND', 'RAJIV KUMAR BABBAR')",
                    "('BJP', 'ASHISH SOOD')",
                    "('AAP', 'PARVEEN KUMAR')",
                    "('INC', 'HARBANI KAUR')",
                    "('NOTA', 'NOTA')",
                    "('BSP', 'RAVI PARTAP RAO')",
                    "('IND', 'PRAVEEN KUMAR')",
                    "('IND', 'PRAVEEN KUMAR')",
                    "('IND', 'ALTAF AHMAD')",
                    "('Other', 'MOHD OJER')",
                    "('NCP', 'MD NAVEEN')",
                    "('AJSP', 'CHAMAN LAL VERMA')",
                    "('SBSP', 'DHARAM VEER')",
                    "('IND', 'TARUN KUMAR SHARMA')",
                    "('IND', 'ASHISH SOOD')",
                    "('Other', 'KASHMIR CHAND')",
                    "('Other', 'NIZAMUDDIN KHAN')",
                    "('Other', 'RAJ KUMAR')",
                    "('BJP', 'PANKAJ KUMAR SINGH')",
                    "('AAP', 'MAHINDER YADAV')",
                    "('INC', 'JITENDER SOLANKI')",
                    "('BSP', 'KRISHNA THAKUR')",
                    "('NOTA', 'NOTA')",
                    "('CPI', 'SHEJO VARGHESE')",
                    "('ASP(KR)', 'UMESH CHAUHAN')",
                    "('Other', 'SHARDA DIXIT')",
                    "('IND', 'HIRA LAL SAH')",
                    "('Other', 'LALA RAM')",
                    "('IND', 'AMAN SAINI')",
                    "('RMP', 'RANJEET KUMAR')",
                    "('RJP(S)', 'PREM PAL SINGH')",
                    "('Other', 'RAJU RICHARIYA')",
                    "('BJP', 'PAWAN SHARMA')",
                    "('AAP', 'POSH BALYAN')",
                    "('INC', 'MUKESH SHARMA')",
                    "('NOTA', 'NOTA')",
                    "('BSP', 'MANI RAM')",
                    "('IND', 'DINESH KUMAR SAH')",
                    "('IND', 'JOURNALIST RAMESH KUMAR JAIN @ NIRBHIK')",
                    "('YBRP', 'DUSHYANT THAKUR')",
                    "('Other', 'SHYAM BABU')",
                    "('Other', 'RAJIV BHRIGUKUMAR')",
                    "('BJP', 'PARDUYMN SINGH RAJPUT')",
                    "('AAP', 'VINAY MISHRA')",
                    "('INC', 'ADARSH SHASTRI')",
                    "('NOTA', 'NOTA')",
                    "('BSP', 'PARDEEP KUMAR')",
                    "('RMP', 'RAMESHWAR MAHTO')",
                    "('IND', 'ASHOK JINDAL')",
                    "('SBSP', 'ARAVENDRA KUMAR')",
                    "('NYP', 'RAJNEESH KUMAR JHA')",
                    "('IND', 'GAUTAM SINGH BIHARI')",
                    "('Other', 'MEHAR CHARAN')",
                    "('Other', 'RAVI RATHORE')",
                    "('Other', 'G. THULASEEDHARAN')",
                    "('RRP', 'YOGESH SWAMI')",
                    "('BJP', 'SANDEEP SEHRAWAT')",
                    "('AAP', 'SUMESH SHOKEEN')",
                    "('INC', 'RAGHVINDER SINGH')",
                    "('NOTA', 'NOTA')",
                    "('BSP', 'KAMLESH KUMAR')",
                    "('IND', 'YOGESH KUMAR')",
                    "('IND', 'PUNAM PANDEY')",
                    "('RJP(S)', 'ARVIND KUMAR PANDEY')",
                    "('IND', 'RAJNI SHARMA')",
                    "('Other', 'PRABHAT KUMAR')",
                    "('SBSP', 'VINOD KUMAR CHAUHAN')",
                    "('RRP', 'YOGESH KUMAR SHARMA')",
                    "('Other', 'MOHINDER SINGH')",
                    "('NYP', 'NIRAJ KUMAR')",
                    "('BJP', 'NEELAM PAHALWAN')",
                    "('AAP', 'TARUN KUMAR')",
                    "('INC', 'SUSHMA DEVI YADAV')",
                    "('NOTA', 'NOTA')",
                    "('BSP', 'ROHIT')",
                    "('IND', 'MANGE RAM SANGWAN')",
                    "('Other', 'JALANDHAR PANDIT')",
                    "('IND', 'MANOJ KUMAR')",
                    "('PPI(D)', 'BHARAT SINGH')",
                    "('RRP', 'RAHUL KUMAR')",
                    "('BJP', 'KAILASH GAHLOT')",
                    "('AAP', 'SURENDER BHARDWAJ')",
                    "('INC', 'COL DEVINDER KUMAR SEHRAWAT')",
                    "('NOTA', 'NOTA')",
                    "('BSP', 'KAMAL SINGH')",
                    "('IND', 'MONIS KURESHI')",
                    "('IND', 'NISHANT SEHRAWAT')",
                    "('Other', 'PUNAM PANDEY')",
                    "('IND', 'AMRINA')",
                    "('Other', 'NARENDER SINGH')",
                    "('IND', 'SOM DUTT SHARMA')",
                    "('Other', 'NAVEEN KUMAR')",
                    "('Other', 'LALITA TRIVEDI')",
                    "('BJP', 'KULDEEP SOLANKI')",
                    "('AAP', 'JOGINDER SOLANKI')",
                    "('INC', 'MANGE RAM')",
                    "('NOTA', 'NOTA')",
                    "('BSP', 'GEETA')",
                    "('CPI', 'DILIP KUMAR')",
                    "('IND', 'PRASHANT CHAUHAN')",
                    "('PPI(D)', 'MANU GAUTAM')",
                    "('AAP', 'VIRENDER SINGH KADIAN')",
                    "('BJP', 'BHUVAN TANWAR')",
                    "('INC', 'PRADEEP KUMAR UPMANYU')",
                    "('NOTA', 'NOTA')",
                    "('BSP', 'NAMIT KUMAR GAUTAM')",
                    "('IND', 'ASHOK AGYANI')",
                    "('PPI(D)', 'SURENDER KUMAR')",
                    "('BSKP', 'SACHIN')",
                    "('BJP', 'UMANG BAJAJ')",
                    "('AAP', 'DURGESH PATHAK')",
                    "('INC', 'VINEET YADAV')",
                    "('NOTA', 'NOTA')",
                    "('ASP(KR)', 'PRAVEEN KUMAR BHARTI')",
                    "('BSP', 'SHIV PRASAD VERMA')",
                    "('IND', 'UMANG')",
                    "('Other', 'PANKAJ JAGYA')",
                    "('BJP', 'PARVESH SAHIB SINGH')",
                    "('AAP', 'ARVIND KEJRIWAL')",
                    "('INC', 'SANDEEP DIKSHIT')",
                    "('NOTA', 'NOTA')",
                    "('BSP', 'VIRENDER')",
                    "('Other', 'DR. MUNISH KUMAR RAIZADA')",
                    "('IND', 'ANURADHA RANA')",
                    "('IND', 'ANITA')",
                    "('Other', 'SANTOSH RAI')",
                    "('Other', 'DUGGIRALA NAGESWARA RAO')",
                    "('AAP(P)', 'NARESH KUMAR')",
                    "('IND', 'DR. ABHILASHA')",
                    "('RRP', 'SANTOSH KUMAR')",
                    "('Other', 'JAGDEESH PRASAD')",
                    "('Other', 'ARUN KUMAR SHARMA')",
                    "('IND', 'SANJAY RAWAT')",
                    "('Other', 'RAVINDER SINGH RAWAT')",
                    "('IND', 'BHAWANA')",
                    "('IND', 'PANKAJ SHARMA')",
                    "('IND', 'HAIDER ALI')",
                    "('RMP', 'NITYA NAND SINGH')",
                    "('Other', 'MUKESH JAIN')",
                    "('Other', 'SANGHA NAND BAUDDH')",
                    "('Other', 'ISHWAR CHAND')",
                    "('BJP', 'TARVINDER SINGH MARWAH')",
                    "('AAP', 'MANISH SISODIA')",
                    "('INC', 'FARHAD SURI')",
                    "('NOTA', 'NOTA')",
                    "('IND', 'ASHOK BAMBANI')",
                    "('BSP', 'RAVINDRA SINGH RAVIYODAYA')",
                    "('Other', 'BIJENDER')",
                    "('IND', 'SUNIL KUMAR KUKREJA')",
                    "('Other', 'RAKESH SAGAR')",
                    "('BRP', 'ANIL KUMAR')",
                    "('BJP', 'NEERAJ BASOYA')",
                    "('INC', 'ABHISHEK DUTT')",
                    "('AAP', 'RAMESH PAHELWAN')",
                    "('NOTA', 'NOTA')",
                    "('IND', 'PARTEEK GUPTA')",
                    "('BSP', 'MAHESH KUMAR')",
                    "('BJP', 'SATISH UPADHYAY')",
                    "('AAP', 'SOMNATH BHARTI')",
                    "('INC', 'JITENDER KUMAR KOCHAR')",
                    "('NOTA', 'NOTA')",
                    "('BSP', 'CHARANJEET KAUR')",
                    "('IND', 'MEGHNAD S.')",
                    "('YBRP', 'DR. BHUPENDRA CHAURASIYA')",
                    "('Other', 'BHAVISH DHANKAR')",
                    "('BJP', 'ANIL KUMAR SHARMA')",
                    "('AAP', 'PRAMILA TOKAS')",
                    "('INC', 'VISHESH KUMAR')",
                    "('NOTA', 'NOTA')",
                    "('BSP', 'SUNIL KAIN')",
                    "('IND', 'RAMESH ADVOCATE')",
                    "('YBRP', 'NEERAJ CHOURASIYA')",
                    "('IND', 'PERMILA')",
                    "('Other', 'LOKESH KUMAR MASTERJI')",
                    "('IND', 'RAI SINGH')",
                    "('IND', 'KULDEEP SINGH AHLAWAT')",
                    "('PPI(D)', 'VIJAY KUMAR')",
                    "('RMP', 'SARAVANAN')",
                    "('Other', 'ABHA JHA')",
                    "('BJP', 'GAJENDER SINGH YADAV')",
                    "('AAP', 'MAHENDER CHAUDHARY')",
                    "('IND', 'BALYOGI BABA BALAKNATH')",
                    "('INC', 'PUSHPA SINGH')",
                    "('NOTA', 'NOTA')",
                    "('BSP', 'YOGESHWAR SINGH BISHT')",
                    "('Other', 'MAHAVIR SINGH')",
                    "('RRP', 'SHARDA SINGH')",
                    "('PPI(D)', 'VIJAY LAL TAMTA')",
                    "('BJP', 'KARTAR SINGH TANWAR')",
                    "('AAP', 'BRAHM SINGH TANWAR')",
                    "('INC', 'RAJENDER SINGH TANWAR')",
                    "('NOTA', 'NOTA')",
                    "('BSP', 'BRIJ LAL')",
                    "('AAP(P)', 'DINESH TANWAR')",
                    "('IND', 'DHARMENDER')",
                    "('IND', 'SANJAY NEGI')",
                    "('ASP(KR)', 'ISLAM ALI')",
                    "('NCP', 'NARENDER')",
                    "('IND', 'DAYA RAM GURJAR')",
                    "('Other', 'RICHA KUMARI')",
                    "('AAP', 'PREM CHAUHAN')",
                    "('Other', 'DEEPAK TANWAR')",
                    "('INC', 'RAJESH CHAUHAN')",
                    "('BSP', 'ASMITA')",
                    "('BRP', 'RAJA RAM')",
                    "('NOTA', 'NOTA')",
                    "('Other', 'BACHAN RAM')",
                    "('Other', 'DEVIKA')",
                    "('AAP', 'DR. AJAY DUTT')",
                    "('BJP', 'KHUSHI RAM CHUNAR')",
                    "('INC', 'JAI PRAKASH')",
                    "('NOTA', 'NOTA')",
                    "('BSP', 'SEWA DASS')",
                    "('Other', 'ARUN')",
                    "('ASP(KR)', 'DARSAN SINGH')",
                    "('IND', 'ASHOK KUMAR')",
                    "('BRP', 'RAJIV KUMAR')",
                    "('RRP', 'GULSHAN BHARTI')",
                    "('BJP', 'CHANDAN KUMAR CHOUDHARY')",
                    "('AAP', 'DINESH MOHANIYA')",
                    "('INC', 'HARSH CHOUDHARY')",
                    "('BSP', 'MOHD ZAKIULLAH')",
                    "('NOTA', 'NOTA')",
                    "('IND', 'JAGDISH KUMAR VERMA')",
                    "('Other', 'SUDHIR NEGI')",
                    "('IND', 'MAHENDER KUMAR')",
                    "('ASP(KR)', 'SIRAJUDDIN')",
                    "('NCP', 'QAMAR ALI')",
                    "('Other', 'RAVINDER SINGH')",
                    "('IND', 'SATPAL')",
                    "('BJP', 'SHIKHA ROY')",
                    "('AAP', 'SAURABH BHARADWAJ')",
                    "('INC', 'GARVIT SINGHVI')",
                    "('NOTA', 'NOTA')",
                    "('BSP', 'NIYATI CHOUDHARY')",
                    "('BRP', 'SATISH KUMAR GULLIYA')",
                    "('Other', 'RAMESH JAGANNATH SHAH')",
                    "('AAP', 'ATISHI')",
                    "('BJP', 'RAMESH BIDHURI')",
                    "('INC', 'ALKA LAMBA')",
                    "('NOTA', 'NOTA')",
                    "('BSP', 'PRITAM SINGH')",
                    "('BRP', 'TANYA SINGH')",
                    "('Other', 'DEEPAK KAPILA')",
                    "('IND', 'SANJAY')",
                    "('AJP(I)', 'RAJAN SINGH')",
                    "('IND', 'PARVEEN CHOUDHRY')",
                    "('IND', 'RAVI')",
                    "('IND', 'IQBAL AHMED SIDDIQUI')",
                    "('Other', 'SANGH MITRA')",
                    "('Other', 'RAJESH KUMAR')",
                    "('AAP', 'SAHI RAM')",
                    "('BJP', 'ROHTASH KUMAR')",
                    "('INC', 'VIRENDER SINGH')",
                    "('BSP', 'AMJAD HASAN')",
                    "('NOTA', 'NOTA')",
                    "('Other', 'PARVEEN CHAUHAN')",
                    "('RRP', 'NARESH KUMAR')",
                    "('IND', 'REKHA SINGH')",
                    "('Other', 'KHURSHEED ABBAS ZAIDI')",
                    "('PPI(D)', 'CHAMAN LAL')",
                    "('AAP', 'RAM SINGH NETAJI')",
                    "('BJP', 'NARAYAN DUTT SHARMA')",
                    "('INC', 'ARJUN SINGH BHADANA')",
                    "('BSP', 'PARDEEP')",
                    "('NOTA', 'NOTA')",
                    "('Other', 'RAHUL RAI')",
                    "('CPI(M)', 'JAGDISH CHAND')",
                    "('NCP', 'IMRAN SAIFI')",
                    "('IND', 'DEEPAK RAWAT')",
                    "('Other', 'HARI RAM')",
                    "('IND', 'OM PRAKASH GUPTA')",
                    "('Other', 'RAM BAHADUR')",
                    "('BSKP', 'BRIJPAL')",
                    "('AAP', 'AMANATULLAH KHAN')",
                    "('BJP', 'MANISH CHAUDHARY')",
                    "('AIMIM', 'SHIFA UR REHMAN KHAN')",
                    "('INC', 'ARIBA KHAN')",
                    "('BSP', 'SATISH KUMAR')",
                    "('NOTA', 'NOTA')",
                    "('Other', 'SHER MOHAMMAD')",
                    "('IND', 'SHEIKH ARSALAN ULLAH CHISHTI')",
                    "('CPI', 'MD INJAMAMUL HASSAN')",
                    "('Other', 'RIZWANA KHATOON')",
                    "('IND', 'HAMMAD KHAN')",
                    "('Other', 'FIRDOS ALAM')",
                    "('Other', 'KANEEZ FATIMA')",
                    "('RRP', 'MOHD ISLAM')",
                    "('Other', 'JAMALUDDIN')",
                    "('BJP', 'RAVI KANT')",
                    "('AAP', 'ANJANA PARCHA')",
                    "('INC', 'AMARDEEP')",
                    "('ASP(KR)', 'VICKY')",
                    "('BSP', 'NAND LAL')",
                    "('NOTA', 'NOTA')",
                    "('IND', 'NAVEEN RAM')",
                    "('ABSP', 'SARITA SINGH')",
                    "('AAP', 'KULDEEP KUMAR (MONU)')",
                    "('BJP', 'PRIYANKA GAUTAM')",
                    "('INC', 'AKSHAY KUMAR')",
                    "('BSP', 'MUKESH KUMAR')",
                    "('NOTA', 'NOTA')",
                    "('ASP(KR)', 'SUNNY KUMAR')",
                    "('Other', 'ASHA KAMBLE')",
                    "('Other', 'SURENDER SINGH')",
                    "('RRP', 'NIKHIL KUMAR PIPAL')",
                    "('CPI(ML)L', 'AMARJEET PRASAD')",
                    "('BJP', 'Ravinder Singh Negi (Ravi Negi)')",
                    "('AAP', 'AVADH OJHA')",
                    "('INC', 'ANIL KUMAR')",
                    "('BSP', 'OM SHANKAR PANDEY')",
                    "('NOTA', 'NOTA')",
                    "('Other', 'PRAKASH CHANDRA JOSHI')",
                    "('Other', 'GOPAL PRASAD')",
                    "('IND', 'DIBLU SINGH')",
                    "('IND', 'JAGDISH  OJHA')",
                    "('Other', 'DEEPA DEVI')",
                    "('BJP', 'ABHAY VERMA')",
                    "('AAP', 'B B TYAGI')",
                    "('INC', 'SUMIT SHARMA')",
                    "('NOTA', 'NOTA')",
                    "('BSP', 'MOHD WAQAR CHOUDHARY')",
                    "('ASP(KR)', 'GANDHI GAUTAM')",
                    "('Other', 'VIKAS')",
                    "('Other', 'DEEPAK PANDEY')",
                    "('IND', 'JAGDISH KUMAR GARG')",
                    "('IND', 'VIMAL KUMAR SAXENA')",
                    "('NCP', 'NAMAHA')",
                    "('IND', 'ANURAG KUMAR')",
                    "('PPI(D)', 'KUSUM LATA')",
                    "('RRP', 'ANIMA OJHA')",
                    "('Other', 'DANVEER VIDYALANKAR')",
                    "('Other', 'ISMAIL')",
                    "('BJP', 'OM PRAKASH SHARMA')",
                    "('AAP', 'DEEPAK SINGHAL')",
                    "('INC', 'RAJIV CHAUDHARY')",
                    "('NOTA', 'NOTA')",
                    "('BSP', 'RAJESH KUMAR YADAV')",
                    "('Other', 'BHAWANA BOTHRA')",
                    "('JMBP', 'GURMEET SINGH')",
                    "('AAPP', 'PARAG JAIN')",
                    "('Other', 'DEEPAK KUMAR')",
                    "('PPI(D)', 'NEELAM SINGH')",
                    "('NYP', 'ANIL KUMAR')",
                    "('BJP', 'DR ANIL GOYAL')",
                    "('AAP', 'VIKAS BAGGA CA')",
                    "('INC', 'GURCHARAN SINGH (RAJU)')",
                    "('NOTA', 'NOTA')",
                    "('BSP', 'AMAR SINGH')",
                    "('IND', 'VINOD KAPOOR')",
                    "('NYP', 'POONAM MAINI')",
                    "('Other', 'VIDHAYAK VIRENDRA PRADHAN GURJAR')",
                    "('BJP', 'ARVINDER SINGH LOVELY')",
                    "('AAP', 'NAVEEN CHAUDHARY (DEEPU)')",
                    "('INC', 'KAMAL ARORA (DABBU)')",
                    "('NOTA', 'NOTA')",
                    "('BSP', 'TIKRAJ SINGH')",
                    "('Other', 'PAWAN CHOUDHRY')",
                    "('IND', 'GULFAM')",
                    "('BJP', 'SANJAY GOYAL')",
                    "('AAP', 'JITENDER SINGH SHUNTY')",
                    "('INC', 'JAGAT SINGH')",
                    "('BSP', 'DHARMINDRA KUMAR KAIM')",
                    "('IND', 'VINAY CHAUDHARI')",
                    "('NOTA', 'NOTA')",
                    "('AAPP', 'NITIN GARG')",
                    "('NYP', 'KAMAL KISHORE')",
                    "('IND', 'ASHOK SURANA')",
                    "('NCP', 'RAJENDRA KUMAR PAL')",
                    "('IND', 'DILIP BANERJEE')",
                    "('AAP', 'VEER SINGH DHINGAN')",
                    "('BJP', 'KU. RINKU')",
                    "('INC', 'RAJESH LILOTHIA')",
                    "('BSP', 'MANOJ')",
                    "('ASP(KR)', 'ANIL KUMAR')",
                    "('NOTA', 'NOTA')",
                    "('PPI(D)', 'AJAY KUMAR')",
                    "('Other', 'SAROJ BALA')",
                    "('IND', 'ASHISH KUMAR')",
                    "('NCP', 'RAJESH KUMAR LOHIYA')",
                    "('RRP', 'CHARAN SINGH MALIYAN')",
                    "('Other', 'RAJESH')",
                    "('BJP', 'JITENDER MAHAJAN')",
                    "('AAP', 'SARITA SINGH')",
                    "('INC', 'SURESHVATI')",
                    "('BSP', 'ASHOK KUMAR')",
                    "('NOTA', 'NOTA')",
                    "('IND', 'VIKAS TYAGI')",
                    "('ASP(KR)', 'SURENDER SINGH VISHWAKARMA')",
                    "('NCP', 'ABHISHEK')",
                    "('IND', 'SURESH PAL JAINTH')",
                    "('Other', 'NASEEM USMAN')",
                    "('Other', 'PANKAJ GUPTA')",
                    "('Other', 'AKESHAN DUT')",
                    "('IND', 'NITIN MITTAL')",
                    "('Other', 'AMIT KUMAR SHARMA')",
                    "('Other', 'SANJEEV KUMAR')",
                    "('BRP', 'SUBHASH CHAND GUPTA')",
                    "('AAP', 'CHAUDHARY ZUBAIR AHMAD')",
                    "('BJP', 'ANIL KUMAR SHARMA (GAUR)')",
                    "('INC', 'ABDUL REHMAN')",
                    "('BSP', 'DEEPAK KUMAR')",
                    "('NOTA', 'NOTA')",
                    "('Other', 'SHABANA')",
                    "('Other', 'MOHD NAZIR')",
                    "('IND', 'MOHD SHAFI')",
                    "('Other', 'SUMAN SHARMA')",
                    "('IND', 'SYED MUNEEB')",
                    "('IND', 'RAHISUDDIN AHMAD')",
                    "('IND', 'MOHD ZUBAIR MALIK')",
                    "('IND', 'S. M. AQIF')",
                    "('IND', 'ISLAUDDIN')",
                    "('BJP', 'AJAY MAHAWAR')",
                    "('AAP', 'GAURAV SHARMA')",
                    "('INC', 'BHISHAM SHARMA')",
                    "('NOTA', 'NOTA')",
                    "('BSP', 'SUNDER LOHIYA')",
                    "('IND', 'GAURAV SHARMA')",
                    "('YBRP', 'BABITA')",
                    "('RRP', 'SHUBHAM')",
                    "('Other', 'ANIL SINGH')",
                    "('NCP', 'ADVOCATE MEHAK DOGRA')",
                    "('AAP', 'GOPAL RAI')",
                    "('BJP', 'ANIL KUMAR VASHISHT')",
                    "('INC', 'MOHD ISHRAQ KHAN')",
                    "('NOTA', 'NOTA')",
                    "('Other', 'MD NAZIR')",
                    "('IND', 'MOHAMMAD ABDULLAH ANSARI')",
                    "('Other', 'BHUPENDER YADAV')",
                    "('Other', 'SHIV KUMAR(KAKE)')",
                    "('ABSP', 'MANOJ KUMAR')",
                    "('AAP', 'SURENDRA KUMAR')",
                    "('BJP', 'PRAVEEN NIMESH')",
                    "('INC', 'ISHWAR SINGH')",
                    "('ASP(KR)', 'ARVIND KUMAR')",
                    "('BSP', 'LAL SINGH')",
                    "('NOTA', 'NOTA')",
                    "('Other', 'ATUL KUMAR')",
                    "('PPI(D)', 'DHARAMVIR SINGH')",
                    "('Other', 'BIR SAIN')",
                    "('IND', 'SURESHPAL JAINTH')",
                    "('Other', 'MANJEET SINGH')",
                    "('RRP', 'CHARAN SINGH MALIYAN')",
                    "('NCP', 'JAGDISH')",
                    "('BJP', 'MOHAN SINGH BISHT')",
                    "('AAP', 'ADEEL AHMAD KHAN')",
                    "('AIMIM', 'MOHD. TAHIR HUSSAIN')",
                    "('INC', 'ALI MEHDI')",
                    "('BSP', 'ASHOK KUMAR')",
                    "('NOTA', 'NOTA')",
                    "('Other', 'DHARAM PAL')",
                    "('BSKP', 'ASHA CHAUDHARY')",
                    "('PP', 'SAGAR TANHA')",
                    "('PPI(D)', 'VISHAL')",
                    "('Other', 'MOHD USMAN BAKHSH')",
                    "('IND', 'JITENDER KUMAR')",
                    "('Other', 'NASIRUDDIN GAURI')",
                    "('BJP', 'KAPIL MISHRA')",
                    "('AAP', 'MANOJ KUMAR TYAGI')",
                    "('INC', 'DR. P.K. MISHRA')",
                    "('BSP', 'DEVENDRA BHAIYA')",
                    "('IND', 'AJAY SINGH NEGI')",
                    "('NOTA', 'NOTA')",
                    "('Other', 'H.M. HASHIM MALIK')",
                    "('CPI(M)', 'ASHOK AGARWAL')",
                    "('Other', 'PRAKASH CHAND')",
                    "('IND', 'YOGESH SWAMY')",
                    "('IND', 'VISHAL SHARMA')",
                    "('NCP', 'SANJAY MISHRA (SITARAM)')",
                    "('PPI(D)', 'SEEMA')",
                    "('NIUP', 'NEERAJ')",
                    "('BSKP', 'YOGENDER')",
                    "('ABSP', 'SANDHIYA TIWARI')"
                  ],
                  "marker": {
                    "color": [
                      "#FF9933",
                      "#0072B0",
                      "#19AAED",
                      "#FFFFFF",
                      "#C41301",
                      "#DCDCDC",
                      "#003597",
                      "#DCDCDC",
                      "#0072B0",
                      "#003366",
                      "#19AAED",
                      "#00B2B2",
                      "#FFFFFF",
                      "#22409A",
                      "#000000",
                      "#000000",
                      "#000000",
                      "#000000",
                      "#000000",
                      "#000000",
                      "#000000",
                      "#000000",
                      "#000000",
                      "#FF9933",
                      "#0072B0",
                      "#19AAED",
                      "#22409A",
                      "#FFFFFF",
                      "#000000",
                      "#000000",
                      "#000000",
                      "#000000",
                      "#000000",
                      "#000000",
                      "#000000",
                      "#000000",
                      "#FF9933",
                      "#0072B0",
                      "#19AAED",
                      "#FFFFFF",
                      "#22409A",
                      "#DCDCDC",
                      "#CB0922",
                      "#DCDCDC",
                      "#DCDCDC",
                      "#DCDCDC",
                      "#000000",
                      "#000000",
                      "#000000",
                      "#000000",
                      "#000000",
                      "#FF9933",
                      "#0072B0",
                      "#19AAED",
                      "#22409A",
                      "#FFFFFF",
                      "#000000",
                      "#DCDCDC",
                      "#DCDCDC",
                      "#DCDCDC",
                      "#00B2B2",
                      "#000000",
                      "#000000",
                      "#000000",
                      "#FF9933",
                      "#0072B0",
                      "#19AAED",
                      "#FFFFFF",
                      "#22409A",
                      "#000000",
                      "#DCDCDC",
                      "#000000",
                      "#DCDCDC",
                      "#000000",
                      "#DCDCDC",
                      "#000000",
                      "#FF9933",
                      "#0072B0",
                      "#19AAED",
                      "#22409A",
                      "#FFFFFF",
                      "#DCDCDC",
                      "#000000",
                      "#000000",
                      "#FF9933",
                      "#0072B0",
                      "#19AAED",
                      "#DCDCDC",
                      "#FFFFFF",
                      "#22409A",
                      "#DCDCDC",
                      "#908484",
                      "#DCDCDC",
                      "#DCDCDC",
                      "#AC1313",
                      "#000000",
                      "#000000",
                      "#000000",
                      "#0072B0",
                      "#FF9933",
                      "#19AAED",
                      "#22409A",
                      "#FFFFFF",
                      "#003597",
                      "#DCDCDC",
                      "#DCDCDC",
                      "#000000",
                      "#000000",
                      "#0072B0",
                      "#FF9933",
                      "#19AAED",
                      "#22409A",
                      "#000000",
                      "#FFFFFF",
                      "#DCDCDC",
                      "#DCDCDC",
                      "#000000",
                      "#000000",
                      "#000000",
                      "#000000",
                      "#000000",
                      "#FF9933",
                      "#0072B0",
                      "#19AAED",
                      "#FFFFFF",
                      "#22409A",
                      "#000000",
                      "#DCDCDC",
                      "#000000",
                      "#000000",
                      "#000000",
                      "#FF9933",
                      "#0072B0",
                      "#19AAED",
                      "#FFFFFF",
                      "#22409A",
                      "#DCDCDC",
                      "#000000",
                      "#FF9933",
                      "#0072B0",
                      "#19AAED",
                      "#FFFFFF",
                      "#22409A",
                      "#000000",
                      "#000000",
                      "#DCDCDC",
                      "#DCDCDC",
                      "#FF9933",
                      "#0072B0",
                      "#19AAED",
                      "#FFFFFF",
                      "#22409A",
                      "#DCDCDC",
                      "#DCDCDC",
                      "#DCDCDC",
                      "#DCDCDC",
                      "#000000",
                      "#FF9933",
                      "#0072B0",
                      "#19AAED",
                      "#FFFFFF",
                      "#22409A",
                      "#000000",
                      "#000000",
                      "#DCDCDC",
                      "#FF9933",
                      "#0072B0",
                      "#19AAED",
                      "#FFFFFF",
                      "#22409A",
                      "#000000",
                      "#000000",
                      "#FF9933",
                      "#0072B0",
                      "#19AAED",
                      "#22409A",
                      "#FFFFFF",
                      "#DCDCDC",
                      "#CB0922",
                      "#DCDCDC",
                      "#000000",
                      "#000000",
                      "#FF9933",
                      "#0072B0",
                      "#19AAED",
                      "#FFFFFF",
                      "#22409A",
                      "#DCDCDC",
                      "#DCDCDC",
                      "#000000",
                      "#000000",
                      "#000000",
                      "#0072B0",
                      "#FF9933",
                      "#19AAED",
                      "#22409A",
                      "#FFFFFF",
                      "#000000",
                      "#000000",
                      "#000000",
                      "#000000",
                      "#000000",
                      "#000000",
                      "#000000",
                      "#0072B0",
                      "#FF9933",
                      "#19AAED",
                      "#FFFFFF",
                      "#22409A",
                      "#00B2B2",
                      "#000000",
                      "#000000",
                      "#0072B0",
                      "#FF9933",
                      "#19AAED",
                      "#FFFFFF",
                      "#22409A",
                      "#DCDCDC",
                      "#DCDCDC",
                      "#00B2B2",
                      "#DCDCDC",
                      "#DCDCDC",
                      "#DCDCDC",
                      "#DCDCDC",
                      "#0072B0",
                      "#FF9933",
                      "#19AAED",
                      "#FFFFFF",
                      "#000000",
                      "#22409A",
                      "#DCDCDC",
                      "#DCDCDC",
                      "#DCDCDC",
                      "#00B2B2",
                      "#0072B0",
                      "#FF9933",
                      "#19AAED",
                      "#22409A",
                      "#FFFFFF",
                      "#000000",
                      "#DCDCDC",
                      "#0072B0",
                      "#FF9933",
                      "#19AAED",
                      "#FFFFFF",
                      "#22409A",
                      "#003597",
                      "#FF9933",
                      "#0072B0",
                      "#19AAED",
                      "#22409A",
                      "#FFFFFF",
                      "#DCDCDC",
                      "#DCDCDC",
                      "#000000",
                      "#DCDCDC",
                      "#000000",
                      "#000000",
                      "#00B2B2",
                      "#000000",
                      "#FF9933",
                      "#0072B0",
                      "#19AAED",
                      "#FFFFFF",
                      "#22409A",
                      "#DCDCDC",
                      "#000000",
                      "#DCDCDC",
                      "#000000",
                      "#000000",
                      "#FF9933",
                      "#0072B0",
                      "#19AAED",
                      "#FFFFFF",
                      "#22409A",
                      "#000000",
                      "#000000",
                      "#000000",
                      "#000000",
                      "#FF9933",
                      "#0072B0",
                      "#19AAED",
                      "#DCDCDC",
                      "#FFFFFF",
                      "#22409A",
                      "#DCDCDC",
                      "#DCDCDC",
                      "#000000",
                      "#000000",
                      "#DCDCDC",
                      "#0072B0",
                      "#FF9933",
                      "#19AAED",
                      "#FFFFFF",
                      "#22409A",
                      "#DCDCDC",
                      "#DCDCDC",
                      "#FF9933",
                      "#0072B0",
                      "#19AAED",
                      "#FFFFFF",
                      "#22409A",
                      "#DCDCDC",
                      "#DCDCDC",
                      "#DCDCDC",
                      "#000000",
                      "#00B2B2",
                      "#000000",
                      "#F5D50A",
                      "#DCDCDC",
                      "#DCDCDC",
                      "#000000",
                      "#000000",
                      "#000000",
                      "#FF9933",
                      "#0072B0",
                      "#19AAED",
                      "#22409A",
                      "#FFFFFF",
                      "#CB0922",
                      "#003597",
                      "#000000",
                      "#DCDCDC",
                      "#000000",
                      "#DCDCDC",
                      "#000000",
                      "#000000",
                      "#000000",
                      "#FF9933",
                      "#0072B0",
                      "#19AAED",
                      "#FFFFFF",
                      "#22409A",
                      "#DCDCDC",
                      "#DCDCDC",
                      "#000000",
                      "#000000",
                      "#000000",
                      "#FF9933",
                      "#0072B0",
                      "#19AAED",
                      "#FFFFFF",
                      "#22409A",
                      "#000000",
                      "#DCDCDC",
                      "#F5D50A",
                      "#000000",
                      "#DCDCDC",
                      "#000000",
                      "#000000",
                      "#000000",
                      "#000000",
                      "#FF9933",
                      "#0072B0",
                      "#19AAED",
                      "#FFFFFF",
                      "#22409A",
                      "#DCDCDC",
                      "#DCDCDC",
                      "#000000",
                      "#DCDCDC",
                      "#000000",
                      "#F5D50A",
                      "#000000",
                      "#000000",
                      "#000000",
                      "#FF9933",
                      "#0072B0",
                      "#19AAED",
                      "#FFFFFF",
                      "#22409A",
                      "#DCDCDC",
                      "#000000",
                      "#DCDCDC",
                      "#000000",
                      "#000000",
                      "#FF9933",
                      "#0072B0",
                      "#19AAED",
                      "#FFFFFF",
                      "#22409A",
                      "#DCDCDC",
                      "#DCDCDC",
                      "#000000",
                      "#DCDCDC",
                      "#000000",
                      "#DCDCDC",
                      "#000000",
                      "#000000",
                      "#FF9933",
                      "#0072B0",
                      "#19AAED",
                      "#FFFFFF",
                      "#22409A",
                      "#CB0922",
                      "#DCDCDC",
                      "#000000",
                      "#0072B0",
                      "#FF9933",
                      "#19AAED",
                      "#FFFFFF",
                      "#22409A",
                      "#DCDCDC",
                      "#000000",
                      "#000000",
                      "#FF9933",
                      "#0072B0",
                      "#19AAED",
                      "#FFFFFF",
                      "#003597",
                      "#22409A",
                      "#DCDCDC",
                      "#000000",
                      "#FF9933",
                      "#0072B0",
                      "#19AAED",
                      "#FFFFFF",
                      "#22409A",
                      "#000000",
                      "#DCDCDC",
                      "#DCDCDC",
                      "#000000",
                      "#000000",
                      "#000000",
                      "#DCDCDC",
                      "#000000",
                      "#000000",
                      "#000000",
                      "#DCDCDC",
                      "#000000",
                      "#DCDCDC",
                      "#DCDCDC",
                      "#DCDCDC",
                      "#000000",
                      "#000000",
                      "#000000",
                      "#000000",
                      "#FF9933",
                      "#0072B0",
                      "#19AAED",
                      "#FFFFFF",
                      "#DCDCDC",
                      "#22409A",
                      "#000000",
                      "#DCDCDC",
                      "#000000",
                      "#000000",
                      "#FF9933",
                      "#19AAED",
                      "#0072B0",
                      "#FFFFFF",
                      "#DCDCDC",
                      "#22409A",
                      "#FF9933",
                      "#0072B0",
                      "#19AAED",
                      "#FFFFFF",
                      "#22409A",
                      "#DCDCDC",
                      "#000000",
                      "#000000",
                      "#FF9933",
                      "#0072B0",
                      "#19AAED",
                      "#FFFFFF",
                      "#22409A",
                      "#DCDCDC",
                      "#000000",
                      "#DCDCDC",
                      "#000000",
                      "#DCDCDC",
                      "#DCDCDC",
                      "#000000",
                      "#000000",
                      "#000000",
                      "#FF9933",
                      "#0072B0",
                      "#DCDCDC",
                      "#19AAED",
                      "#FFFFFF",
                      "#22409A",
                      "#000000",
                      "#000000",
                      "#000000",
                      "#FF9933",
                      "#0072B0",
                      "#19AAED",
                      "#FFFFFF",
                      "#22409A",
                      "#000000",
                      "#DCDCDC",
                      "#DCDCDC",
                      "#003597",
                      "#00B2B2",
                      "#DCDCDC",
                      "#000000",
                      "#0072B0",
                      "#000000",
                      "#19AAED",
                      "#22409A",
                      "#000000",
                      "#FFFFFF",
                      "#000000",
                      "#000000",
                      "#0072B0",
                      "#FF9933",
                      "#19AAED",
                      "#FFFFFF",
                      "#22409A",
                      "#000000",
                      "#003597",
                      "#DCDCDC",
                      "#000000",
                      "#000000",
                      "#FF9933",
                      "#0072B0",
                      "#19AAED",
                      "#22409A",
                      "#FFFFFF",
                      "#DCDCDC",
                      "#000000",
                      "#DCDCDC",
                      "#003597",
                      "#00B2B2",
                      "#000000",
                      "#DCDCDC",
                      "#FF9933",
                      "#0072B0",
                      "#19AAED",
                      "#FFFFFF",
                      "#22409A",
                      "#000000",
                      "#000000",
                      "#0072B0",
                      "#FF9933",
                      "#19AAED",
                      "#FFFFFF",
                      "#22409A",
                      "#000000",
                      "#000000",
                      "#DCDCDC",
                      "#000000",
                      "#DCDCDC",
                      "#DCDCDC",
                      "#DCDCDC",
                      "#000000",
                      "#000000",
                      "#0072B0",
                      "#FF9933",
                      "#19AAED",
                      "#22409A",
                      "#FFFFFF",
                      "#000000",
                      "#000000",
                      "#DCDCDC",
                      "#000000",
                      "#000000",
                      "#0072B0",
                      "#FF9933",
                      "#19AAED",
                      "#22409A",
                      "#FFFFFF",
                      "#000000",
                      "#CC0D0D",
                      "#00B2B2",
                      "#DCDCDC",
                      "#000000",
                      "#DCDCDC",
                      "#000000",
                      "#000000",
                      "#0072B0",
                      "#FF9933",
                      "#0C6B4B",
                      "#19AAED",
                      "#22409A",
                      "#FFFFFF",
                      "#000000",
                      "#DCDCDC",
                      "#CB0922",
                      "#000000",
                      "#DCDCDC",
                      "#000000",
                      "#000000",
                      "#000000",
                      "#000000",
                      "#FF9933",
                      "#0072B0",
                      "#19AAED",
                      "#003597",
                      "#22409A",
                      "#FFFFFF",
                      "#DCDCDC",
                      "#000000",
                      "#0072B0",
                      "#FF9933",
                      "#19AAED",
                      "#22409A",
                      "#FFFFFF",
                      "#003597",
                      "#000000",
                      "#000000",
                      "#000000",
                      "#C41301",
                      "#FF9933",
                      "#0072B0",
                      "#19AAED",
                      "#22409A",
                      "#FFFFFF",
                      "#000000",
                      "#000000",
                      "#DCDCDC",
                      "#DCDCDC",
                      "#000000",
                      "#FF9933",
                      "#0072B0",
                      "#19AAED",
                      "#FFFFFF",
                      "#22409A",
                      "#003597",
                      "#000000",
                      "#000000",
                      "#DCDCDC",
                      "#DCDCDC",
                      "#00B2B2",
                      "#DCDCDC",
                      "#000000",
                      "#000000",
                      "#000000",
                      "#000000",
                      "#FF9933",
                      "#0072B0",
                      "#19AAED",
                      "#FFFFFF",
                      "#22409A",
                      "#000000",
                      "#000000",
                      "#000000",
                      "#000000",
                      "#000000",
                      "#000000",
                      "#FF9933",
                      "#0072B0",
                      "#19AAED",
                      "#FFFFFF",
                      "#22409A",
                      "#DCDCDC",
                      "#000000",
                      "#000000",
                      "#FF9933",
                      "#0072B0",
                      "#19AAED",
                      "#FFFFFF",
                      "#22409A",
                      "#000000",
                      "#DCDCDC",
                      "#FF9933",
                      "#0072B0",
                      "#19AAED",
                      "#22409A",
                      "#DCDCDC",
                      "#FFFFFF",
                      "#000000",
                      "#000000",
                      "#DCDCDC",
                      "#00B2B2",
                      "#DCDCDC",
                      "#0072B0",
                      "#FF9933",
                      "#19AAED",
                      "#22409A",
                      "#003597",
                      "#FFFFFF",
                      "#000000",
                      "#000000",
                      "#DCDCDC",
                      "#00B2B2",
                      "#000000",
                      "#000000",
                      "#FF9933",
                      "#0072B0",
                      "#19AAED",
                      "#22409A",
                      "#FFFFFF",
                      "#DCDCDC",
                      "#003597",
                      "#00B2B2",
                      "#DCDCDC",
                      "#000000",
                      "#000000",
                      "#000000",
                      "#DCDCDC",
                      "#000000",
                      "#000000",
                      "#000000",
                      "#0072B0",
                      "#FF9933",
                      "#19AAED",
                      "#22409A",
                      "#FFFFFF",
                      "#000000",
                      "#000000",
                      "#DCDCDC",
                      "#000000",
                      "#DCDCDC",
                      "#DCDCDC",
                      "#DCDCDC",
                      "#DCDCDC",
                      "#DCDCDC",
                      "#FF9933",
                      "#0072B0",
                      "#19AAED",
                      "#FFFFFF",
                      "#22409A",
                      "#DCDCDC",
                      "#000000",
                      "#000000",
                      "#000000",
                      "#00B2B2",
                      "#0072B0",
                      "#FF9933",
                      "#19AAED",
                      "#FFFFFF",
                      "#000000",
                      "#DCDCDC",
                      "#000000",
                      "#000000",
                      "#000000",
                      "#0072B0",
                      "#FF9933",
                      "#19AAED",
                      "#003597",
                      "#22409A",
                      "#FFFFFF",
                      "#000000",
                      "#000000",
                      "#000000",
                      "#DCDCDC",
                      "#000000",
                      "#000000",
                      "#00B2B2",
                      "#FF9933",
                      "#0072B0",
                      "#0C6B4B",
                      "#19AAED",
                      "#22409A",
                      "#FFFFFF",
                      "#000000",
                      "#000000",
                      "#000000",
                      "#000000",
                      "#000000",
                      "#DCDCDC",
                      "#000000",
                      "#FF9933",
                      "#0072B0",
                      "#19AAED",
                      "#22409A",
                      "#DCDCDC",
                      "#FFFFFF",
                      "#000000",
                      "#CC0D0D",
                      "#000000",
                      "#DCDCDC",
                      "#DCDCDC",
                      "#00B2B2",
                      "#000000",
                      "#000000",
                      "#000000",
                      "#000000"
                    ]
                  },
                  "name": "",
                  "orientation": "h",
                  "type": "bar",
                  "x": [
                    87215,
                    78619,
                    6782,
                    981,
                    328,
                    301,
                    278,
                    242,
                    121181,
                    100580,
                    19920,
                    3852,
                    2548,
                    2214,
                    869,
                    739,
                    589,
                    569,
                    531,
                    318,
                    315,
                    288,
                    224,
                    55941,
                    54773,
                    8361,
                    985,
                    663,
                    167,
                    113,
                    112,
                    109,
                    107,
                    91,
                    69,
                    50,
                    52510,
                    41028,
                    5460,
                    377,
                    344,
                    140,
                    133,
                    116,
                    111,
                    64,
                    56,
                    41,
                    35,
                    27,
                    18,
                    61192,
                    46029,
                    41071,
                    725,
                    692,
                    250,
                    235,
                    214,
                    158,
                    92,
                    76,
                    68,
                    64,
                    104371,
                    74755,
                    5258,
                    1235,
                    619,
                    213,
                    167,
                    155,
                    117,
                    114,
                    104,
                    56,
                    119515,
                    88040,
                    18713,
                    1557,
                    1346,
                    279,
                    216,
                    190,
                    89839,
                    79289,
                    10290,
                    8655,
                    1088,
                    548,
                    408,
                    166,
                    129,
                    115,
                    94,
                    87,
                    84,
                    61,
                    105780,
                    83909,
                    6864,
                    2128,
                    1366,
                    885,
                    588,
                    473,
                    212,
                    208,
                    58767,
                    41641,
                    8688,
                    1885,
                    555,
                    494,
                    177,
                    152,
                    151,
                    91,
                    82,
                    72,
                    70,
                    75272,
                    49021,
                    32028,
                    924,
                    795,
                    390,
                    373,
                    205,
                    162,
                    152,
                    62007,
                    55752,
                    3784,
                    762,
                    724,
                    250,
                    171,
                    70365,
                    32549,
                    3765,
                    1031,
                    197,
                    118,
                    92,
                    62,
                    54,
                    68200,
                    38605,
                    4892,
                    770,
                    411,
                    358,
                    252,
                    143,
                    98,
                    35,
                    56869,
                    35871,
                    5784,
                    673,
                    164,
                    115,
                    100,
                    76,
                    59073,
                    43177,
                    6897,
                    688,
                    566,
                    181,
                    115,
                    54721,
                    43296,
                    6348,
                    1047,
                    652,
                    234,
                    190,
                    173,
                    64,
                    63,
                    52108,
                    38693,
                    3908,
                    685,
                    372,
                    224,
                    119,
                    118,
                    58,
                    33,
                    56177,
                    49870,
                    10057,
                    709,
                    586,
                    247,
                    213,
                    184,
                    123,
                    100,
                    84,
                    50,
                    38993,
                    22421,
                    9065,
                    253,
                    246,
                    81,
                    69,
                    45,
                    58120,
                    15396,
                    10295,
                    217,
                    130,
                    93,
                    60,
                    56,
                    35,
                    31,
                    31,
                    11,
                    57004,
                    27181,
                    13059,
                    301,
                    224,
                    190,
                    131,
                    77,
                    72,
                    38,
                    52297,
                    44867,
                    4252,
                    626,
                    548,
                    116,
                    88,
                    57512,
                    53463,
                    4654,
                    772,
                    714,
                    255,
                    57565,
                    45908,
                    3334,
                    851,
                    689,
                    416,
                    170,
                    124,
                    76,
                    70,
                    63,
                    60,
                    35,
                    52019,
                    41120,
                    17958,
                    778,
                    321,
                    206,
                    204,
                    113,
                    105,
                    66,
                    64132,
                    45942,
                    3198,
                    783,
                    288,
                    225,
                    89,
                    84,
                    65,
                    50179,
                    43547,
                    4252,
                    3398,
                    713,
                    569,
                    98,
                    91,
                    83,
                    81,
                    29,
                    52134,
                    40478,
                    2747,
                    607,
                    301,
                    145,
                    91,
                    68986,
                    50220,
                    3345,
                    691,
                    461,
                    210,
                    193,
                    183,
                    91,
                    80,
                    70,
                    61,
                    60,
                    57,
                    48,
                    43,
                    20,
                    135564,
                    122688,
                    8465,
                    2642,
                    1460,
                    687,
                    443,
                    420,
                    391,
                    297,
                    286,
                    139,
                    97,
                    69,
                    103613,
                    73873,
                    15565,
                    1217,
                    991,
                    206,
                    196,
                    185,
                    168,
                    79,
                    69137,
                    61308,
                    6773,
                    729,
                    545,
                    223,
                    172,
                    131,
                    130,
                    104,
                    76,
                    74,
                    58,
                    44,
                    146295,
                    117572,
                    9685,
                    2018,
                    1134,
                    569,
                    501,
                    345,
                    174,
                    162,
                    157,
                    121,
                    88,
                    73,
                    101708,
                    72699,
                    2902,
                    1346,
                    903,
                    225,
                    214,
                    173,
                    93,
                    71,
                    64951,
                    53675,
                    9409,
                    756,
                    702,
                    225,
                    193,
                    153,
                    113,
                    96,
                    92,
                    91,
                    48,
                    82046,
                    73094,
                    4697,
                    1119,
                    810,
                    326,
                    302,
                    221,
                    22191,
                    20162,
                    4252,
                    330,
                    232,
                    149,
                    72,
                    70,
                    46671,
                    45440,
                    4015,
                    571,
                    155,
                    150,
                    144,
                    65,
                    30088,
                    25999,
                    4568,
                    314,
                    142,
                    76,
                    72,
                    55,
                    53,
                    39,
                    37,
                    31,
                    30,
                    22,
                    21,
                    17,
                    15,
                    11,
                    9,
                    9,
                    8,
                    8,
                    8,
                    4,
                    38859,
                    38184,
                    7350,
                    441,
                    171,
                    155,
                    119,
                    80,
                    78,
                    74,
                    38067,
                    27019,
                    18617,
                    472,
                    158,
                    150,
                    39564,
                    37433,
                    6770,
                    532,
                    238,
                    192,
                    162,
                    144,
                    43260,
                    28807,
                    3079,
                    549,
                    202,
                    100,
                    99,
                    88,
                    76,
                    76,
                    55,
                    52,
                    35,
                    25,
                    48349,
                    46567,
                    9731,
                    9338,
                    846,
                    778,
                    181,
                    140,
                    104,
                    80469,
                    74230,
                    6601,
                    868,
                    750,
                    293,
                    269,
                    221,
                    181,
                    173,
                    167,
                    77,
                    86889,
                    50209,
                    12211,
                    2581,
                    2229,
                    2130,
                    947,
                    538,
                    46285,
                    42055,
                    7172,
                    498,
                    397,
                    302,
                    261,
                    102,
                    85,
                    32,
                    54049,
                    53705,
                    15863,
                    796,
                    537,
                    195,
                    143,
                    136,
                    83,
                    78,
                    68,
                    61,
                    49594,
                    46406,
                    6711,
                    671,
                    235,
                    171,
                    96,
                    52154,
                    48633,
                    4392,
                    556,
                    421,
                    193,
                    174,
                    89,
                    85,
                    58,
                    39,
                    31,
                    28,
                    23,
                    62155,
                    47444,
                    2313,
                    1606,
                    536,
                    323,
                    199,
                    143,
                    133,
                    86,
                    112991,
                    87103,
                    3145,
                    1965,
                    915,
                    466,
                    367,
                    322,
                    219,
                    185,
                    176,
                    134,
                    107,
                    88943,
                    65304,
                    39558,
                    12739,
                    756,
                    604,
                    290,
                    270,
                    259,
                    221,
                    180,
                    148,
                    126,
                    83,
                    41,
                    58217,
                    57825,
                    6147,
                    1681,
                    1322,
                    683,
                    272,
                    136,
                    61792,
                    55499,
                    7230,
                    2438,
                    776,
                    418,
                    188,
                    167,
                    122,
                    100,
                    74060,
                    45988,
                    16549,
                    756,
                    692,
                    188,
                    137,
                    117,
                    108,
                    57,
                    65858,
                    54316,
                    4316,
                    686,
                    388,
                    173,
                    135,
                    107,
                    74,
                    69,
                    48,
                    48,
                    46,
                    45,
                    41,
                    32,
                    72141,
                    47099,
                    3627,
                    1047,
                    443,
                    217,
                    161,
                    142,
                    49,
                    49,
                    47,
                    75922,
                    56424,
                    9393,
                    696,
                    552,
                    191,
                    131,
                    96,
                    56858,
                    44110,
                    3453,
                    402,
                    235,
                    190,
                    156,
                    62788,
                    57610,
                    3862,
                    596,
                    579,
                    558,
                    182,
                    145,
                    87,
                    58,
                    52,
                    66353,
                    55985,
                    11823,
                    867,
                    654,
                    458,
                    277,
                    163,
                    158,
                    110,
                    58,
                    51,
                    82896,
                    54994,
                    3639,
                    953,
                    630,
                    550,
                    174,
                    91,
                    72,
                    63,
                    54,
                    48,
                    45,
                    43,
                    35,
                    30,
                    79009,
                    36532,
                    16551,
                    422,
                    355,
                    177,
                    107,
                    72,
                    50,
                    46,
                    44,
                    29,
                    24,
                    22,
                    79987,
                    53929,
                    4883,
                    588,
                    454,
                    279,
                    114,
                    84,
                    56,
                    46,
                    76192,
                    57198,
                    8797,
                    474,
                    201,
                    124,
                    93,
                    89,
                    76,
                    80504,
                    72297,
                    5905,
                    3086,
                    2562,
                    601,
                    339,
                    195,
                    145,
                    133,
                    129,
                    91,
                    64,
                    85215,
                    67637,
                    33474,
                    11763,
                    1223,
                    455,
                    391,
                    236,
                    227,
                    192,
                    151,
                    122,
                    75,
                    107367,
                    84012,
                    3921,
                    1887,
                    1006,
                    709,
                    491,
                    457,
                    278,
                    229,
                    173,
                    165,
                    128,
                    100,
                    90,
                    71
                  ],
                  "y": [
                    "Narela",
                    "Narela",
                    "Narela",
                    "Narela",
                    "Narela",
                    "Narela",
                    "Narela",
                    "Narela",
                    "Burari",
                    "Burari",
                    "Burari",
                    "Burari",
                    "Burari",
                    "Burari",
                    "Burari",
                    "Burari",
                    "Burari",
                    "Burari",
                    "Burari",
                    "Burari",
                    "Burari",
                    "Burari",
                    "Burari",
                    "Timarpur",
                    "Timarpur",
                    "Timarpur",
                    "Timarpur",
                    "Timarpur",
                    "Timarpur",
                    "Timarpur",
                    "Timarpur",
                    "Timarpur",
                    "Timarpur",
                    "Timarpur",
                    "Timarpur",
                    "Timarpur",
                    "Adarsh Nagar",
                    "Adarsh Nagar",
                    "Adarsh Nagar",
                    "Adarsh Nagar",
                    "Adarsh Nagar",
                    "Adarsh Nagar",
                    "Adarsh Nagar",
                    "Adarsh Nagar",
                    "Adarsh Nagar",
                    "Adarsh Nagar",
                    "Adarsh Nagar",
                    "Adarsh Nagar",
                    "Adarsh Nagar",
                    "Adarsh Nagar",
                    "Adarsh Nagar",
                    "Badli",
                    "Badli",
                    "Badli",
                    "Badli",
                    "Badli",
                    "Badli",
                    "Badli",
                    "Badli",
                    "Badli",
                    "Badli",
                    "Badli",
                    "Badli",
                    "Badli",
                    "Rithala",
                    "Rithala",
                    "Rithala",
                    "Rithala",
                    "Rithala",
                    "Rithala",
                    "Rithala",
                    "Rithala",
                    "Rithala",
                    "Rithala",
                    "Rithala",
                    "Rithala",
                    "Bawana",
                    "Bawana",
                    "Bawana",
                    "Bawana",
                    "Bawana",
                    "Bawana",
                    "Bawana",
                    "Bawana",
                    "Mundka",
                    "Mundka",
                    "Mundka",
                    "Mundka",
                    "Mundka",
                    "Mundka",
                    "Mundka",
                    "Mundka",
                    "Mundka",
                    "Mundka",
                    "Mundka",
                    "Mundka",
                    "Mundka",
                    "Mundka",
                    "Kirari",
                    "Kirari",
                    "Kirari",
                    "Kirari",
                    "Kirari",
                    "Kirari",
                    "Kirari",
                    "Kirari",
                    "Kirari",
                    "Kirari",
                    "Sultan Pur Majra",
                    "Sultan Pur Majra",
                    "Sultan Pur Majra",
                    "Sultan Pur Majra",
                    "Sultan Pur Majra",
                    "Sultan Pur Majra",
                    "Sultan Pur Majra",
                    "Sultan Pur Majra",
                    "Sultan Pur Majra",
                    "Sultan Pur Majra",
                    "Sultan Pur Majra",
                    "Sultan Pur Majra",
                    "Sultan Pur Majra",
                    "Nangloi Jat",
                    "Nangloi Jat",
                    "Nangloi Jat",
                    "Nangloi Jat",
                    "Nangloi Jat",
                    "Nangloi Jat",
                    "Nangloi Jat",
                    "Nangloi Jat",
                    "Nangloi Jat",
                    "Nangloi Jat",
                    "Mangol Puri",
                    "Mangol Puri",
                    "Mangol Puri",
                    "Mangol Puri",
                    "Mangol Puri",
                    "Mangol Puri",
                    "Mangol Puri",
                    "Rohini",
                    "Rohini",
                    "Rohini",
                    "Rohini",
                    "Rohini",
                    "Rohini",
                    "Rohini",
                    "Rohini",
                    "Rohini",
                    "Shalimar Bagh",
                    "Shalimar Bagh",
                    "Shalimar Bagh",
                    "Shalimar Bagh",
                    "Shalimar Bagh",
                    "Shalimar Bagh",
                    "Shalimar Bagh",
                    "Shalimar Bagh",
                    "Shalimar Bagh",
                    "Shalimar Bagh",
                    "Shakur Basti",
                    "Shakur Basti",
                    "Shakur Basti",
                    "Shakur Basti",
                    "Shakur Basti",
                    "Shakur Basti",
                    "Shakur Basti",
                    "Shakur Basti",
                    "Tri Nagar",
                    "Tri Nagar",
                    "Tri Nagar",
                    "Tri Nagar",
                    "Tri Nagar",
                    "Tri Nagar",
                    "Tri Nagar",
                    "Wazirpur",
                    "Wazirpur",
                    "Wazirpur",
                    "Wazirpur",
                    "Wazirpur",
                    "Wazirpur",
                    "Wazirpur",
                    "Wazirpur",
                    "Wazirpur",
                    "Wazirpur",
                    "Model Town",
                    "Model Town",
                    "Model Town",
                    "Model Town",
                    "Model Town",
                    "Model Town",
                    "Model Town",
                    "Model Town",
                    "Model Town",
                    "Model Town",
                    "Sadar Bazar",
                    "Sadar Bazar",
                    "Sadar Bazar",
                    "Sadar Bazar",
                    "Sadar Bazar",
                    "Sadar Bazar",
                    "Sadar Bazar",
                    "Sadar Bazar",
                    "Sadar Bazar",
                    "Sadar Bazar",
                    "Sadar Bazar",
                    "Sadar Bazar",
                    "Chandni Chowk",
                    "Chandni Chowk",
                    "Chandni Chowk",
                    "Chandni Chowk",
                    "Chandni Chowk",
                    "Chandni Chowk",
                    "Chandni Chowk",
                    "Chandni Chowk",
                    "Matia Mahal",
                    "Matia Mahal",
                    "Matia Mahal",
                    "Matia Mahal",
                    "Matia Mahal",
                    "Matia Mahal",
                    "Matia Mahal",
                    "Matia Mahal",
                    "Matia Mahal",
                    "Matia Mahal",
                    "Matia Mahal",
                    "Matia Mahal",
                    "Ballimaran",
                    "Ballimaran",
                    "Ballimaran",
                    "Ballimaran",
                    "Ballimaran",
                    "Ballimaran",
                    "Ballimaran",
                    "Ballimaran",
                    "Ballimaran",
                    "Ballimaran",
                    "Karol Bagh",
                    "Karol Bagh",
                    "Karol Bagh",
                    "Karol Bagh",
                    "Karol Bagh",
                    "Karol Bagh",
                    "Karol Bagh",
                    "Patel Nagar",
                    "Patel Nagar",
                    "Patel Nagar",
                    "Patel Nagar",
                    "Patel Nagar",
                    "Patel Nagar",
                    "Moti Nagar",
                    "Moti Nagar",
                    "Moti Nagar",
                    "Moti Nagar",
                    "Moti Nagar",
                    "Moti Nagar",
                    "Moti Nagar",
                    "Moti Nagar",
                    "Moti Nagar",
                    "Moti Nagar",
                    "Moti Nagar",
                    "Moti Nagar",
                    "Moti Nagar",
                    "Madipur",
                    "Madipur",
                    "Madipur",
                    "Madipur",
                    "Madipur",
                    "Madipur",
                    "Madipur",
                    "Madipur",
                    "Madipur",
                    "Madipur",
                    "Rajouri Garden",
                    "Rajouri Garden",
                    "Rajouri Garden",
                    "Rajouri Garden",
                    "Rajouri Garden",
                    "Rajouri Garden",
                    "Rajouri Garden",
                    "Rajouri Garden",
                    "Rajouri Garden",
                    "Hari Nagar",
                    "Hari Nagar",
                    "Hari Nagar",
                    "Hari Nagar",
                    "Hari Nagar",
                    "Hari Nagar",
                    "Hari Nagar",
                    "Hari Nagar",
                    "Hari Nagar",
                    "Hari Nagar",
                    "Hari Nagar",
                    "Tilak Nagar",
                    "Tilak Nagar",
                    "Tilak Nagar",
                    "Tilak Nagar",
                    "Tilak Nagar",
                    "Tilak Nagar",
                    "Tilak Nagar",
                    "Janakpuri",
                    "Janakpuri",
                    "Janakpuri",
                    "Janakpuri",
                    "Janakpuri",
                    "Janakpuri",
                    "Janakpuri",
                    "Janakpuri",
                    "Janakpuri",
                    "Janakpuri",
                    "Janakpuri",
                    "Janakpuri",
                    "Janakpuri",
                    "Janakpuri",
                    "Janakpuri",
                    "Janakpuri",
                    "Janakpuri",
                    "Vikaspuri",
                    "Vikaspuri",
                    "Vikaspuri",
                    "Vikaspuri",
                    "Vikaspuri",
                    "Vikaspuri",
                    "Vikaspuri",
                    "Vikaspuri",
                    "Vikaspuri",
                    "Vikaspuri",
                    "Vikaspuri",
                    "Vikaspuri",
                    "Vikaspuri",
                    "Vikaspuri",
                    "Uttam Nagar",
                    "Uttam Nagar",
                    "Uttam Nagar",
                    "Uttam Nagar",
                    "Uttam Nagar",
                    "Uttam Nagar",
                    "Uttam Nagar",
                    "Uttam Nagar",
                    "Uttam Nagar",
                    "Uttam Nagar",
                    "Dwarka",
                    "Dwarka",
                    "Dwarka",
                    "Dwarka",
                    "Dwarka",
                    "Dwarka",
                    "Dwarka",
                    "Dwarka",
                    "Dwarka",
                    "Dwarka",
                    "Dwarka",
                    "Dwarka",
                    "Dwarka",
                    "Dwarka",
                    "Matiala",
                    "Matiala",
                    "Matiala",
                    "Matiala",
                    "Matiala",
                    "Matiala",
                    "Matiala",
                    "Matiala",
                    "Matiala",
                    "Matiala",
                    "Matiala",
                    "Matiala",
                    "Matiala",
                    "Matiala",
                    "Najafgarh",
                    "Najafgarh",
                    "Najafgarh",
                    "Najafgarh",
                    "Najafgarh",
                    "Najafgarh",
                    "Najafgarh",
                    "Najafgarh",
                    "Najafgarh",
                    "Najafgarh",
                    "Bijwasan",
                    "Bijwasan",
                    "Bijwasan",
                    "Bijwasan",
                    "Bijwasan",
                    "Bijwasan",
                    "Bijwasan",
                    "Bijwasan",
                    "Bijwasan",
                    "Bijwasan",
                    "Bijwasan",
                    "Bijwasan",
                    "Bijwasan",
                    "Palam",
                    "Palam",
                    "Palam",
                    "Palam",
                    "Palam",
                    "Palam",
                    "Palam",
                    "Palam",
                    "Delhi Cantonment",
                    "Delhi Cantonment",
                    "Delhi Cantonment",
                    "Delhi Cantonment",
                    "Delhi Cantonment",
                    "Delhi Cantonment",
                    "Delhi Cantonment",
                    "Delhi Cantonment",
                    "Rajinder Nagar",
                    "Rajinder Nagar",
                    "Rajinder Nagar",
                    "Rajinder Nagar",
                    "Rajinder Nagar",
                    "Rajinder Nagar",
                    "Rajinder Nagar",
                    "Rajinder Nagar",
                    "New Delhi",
                    "New Delhi",
                    "New Delhi",
                    "New Delhi",
                    "New Delhi",
                    "New Delhi",
                    "New Delhi",
                    "New Delhi",
                    "New Delhi",
                    "New Delhi",
                    "New Delhi",
                    "New Delhi",
                    "New Delhi",
                    "New Delhi",
                    "New Delhi",
                    "New Delhi",
                    "New Delhi",
                    "New Delhi",
                    "New Delhi",
                    "New Delhi",
                    "New Delhi",
                    "New Delhi",
                    "New Delhi",
                    "New Delhi",
                    "Jangpura",
                    "Jangpura",
                    "Jangpura",
                    "Jangpura",
                    "Jangpura",
                    "Jangpura",
                    "Jangpura",
                    "Jangpura",
                    "Jangpura",
                    "Jangpura",
                    "Kasturba Nagar",
                    "Kasturba Nagar",
                    "Kasturba Nagar",
                    "Kasturba Nagar",
                    "Kasturba Nagar",
                    "Kasturba Nagar",
                    "Malviya Nagar",
                    "Malviya Nagar",
                    "Malviya Nagar",
                    "Malviya Nagar",
                    "Malviya Nagar",
                    "Malviya Nagar",
                    "Malviya Nagar",
                    "Malviya Nagar",
                    "R K Puram",
                    "R K Puram",
                    "R K Puram",
                    "R K Puram",
                    "R K Puram",
                    "R K Puram",
                    "R K Puram",
                    "R K Puram",
                    "R K Puram",
                    "R K Puram",
                    "R K Puram",
                    "R K Puram",
                    "R K Puram",
                    "R K Puram",
                    "Mehrauli",
                    "Mehrauli",
                    "Mehrauli",
                    "Mehrauli",
                    "Mehrauli",
                    "Mehrauli",
                    "Mehrauli",
                    "Mehrauli",
                    "Mehrauli",
                    "Chhatarpur",
                    "Chhatarpur",
                    "Chhatarpur",
                    "Chhatarpur",
                    "Chhatarpur",
                    "Chhatarpur",
                    "Chhatarpur",
                    "Chhatarpur",
                    "Chhatarpur",
                    "Chhatarpur",
                    "Chhatarpur",
                    "Chhatarpur",
                    "Deoli",
                    "Deoli",
                    "Deoli",
                    "Deoli",
                    "Deoli",
                    "Deoli",
                    "Deoli",
                    "Deoli",
                    "Ambedkar Nagar",
                    "Ambedkar Nagar",
                    "Ambedkar Nagar",
                    "Ambedkar Nagar",
                    "Ambedkar Nagar",
                    "Ambedkar Nagar",
                    "Ambedkar Nagar",
                    "Ambedkar Nagar",
                    "Ambedkar Nagar",
                    "Ambedkar Nagar",
                    "Sangam Vihar",
                    "Sangam Vihar",
                    "Sangam Vihar",
                    "Sangam Vihar",
                    "Sangam Vihar",
                    "Sangam Vihar",
                    "Sangam Vihar",
                    "Sangam Vihar",
                    "Sangam Vihar",
                    "Sangam Vihar",
                    "Sangam Vihar",
                    "Sangam Vihar",
                    "Greater Kailash",
                    "Greater Kailash",
                    "Greater Kailash",
                    "Greater Kailash",
                    "Greater Kailash",
                    "Greater Kailash",
                    "Greater Kailash",
                    "Kalkaji",
                    "Kalkaji",
                    "Kalkaji",
                    "Kalkaji",
                    "Kalkaji",
                    "Kalkaji",
                    "Kalkaji",
                    "Kalkaji",
                    "Kalkaji",
                    "Kalkaji",
                    "Kalkaji",
                    "Kalkaji",
                    "Kalkaji",
                    "Kalkaji",
                    "Tughlakabad",
                    "Tughlakabad",
                    "Tughlakabad",
                    "Tughlakabad",
                    "Tughlakabad",
                    "Tughlakabad",
                    "Tughlakabad",
                    "Tughlakabad",
                    "Tughlakabad",
                    "Tughlakabad",
                    "Badarpur",
                    "Badarpur",
                    "Badarpur",
                    "Badarpur",
                    "Badarpur",
                    "Badarpur",
                    "Badarpur",
                    "Badarpur",
                    "Badarpur",
                    "Badarpur",
                    "Badarpur",
                    "Badarpur",
                    "Badarpur",
                    "Okhla",
                    "Okhla",
                    "Okhla",
                    "Okhla",
                    "Okhla",
                    "Okhla",
                    "Okhla",
                    "Okhla",
                    "Okhla",
                    "Okhla",
                    "Okhla",
                    "Okhla",
                    "Okhla",
                    "Okhla",
                    "Okhla",
                    "Trilokpuri",
                    "Trilokpuri",
                    "Trilokpuri",
                    "Trilokpuri",
                    "Trilokpuri",
                    "Trilokpuri",
                    "Trilokpuri",
                    "Trilokpuri",
                    "Kondli",
                    "Kondli",
                    "Kondli",
                    "Kondli",
                    "Kondli",
                    "Kondli",
                    "Kondli",
                    "Kondli",
                    "Kondli",
                    "Kondli",
                    "Patparganj",
                    "Patparganj",
                    "Patparganj",
                    "Patparganj",
                    "Patparganj",
                    "Patparganj",
                    "Patparganj",
                    "Patparganj",
                    "Patparganj",
                    "Patparganj",
                    "Laxmi Nagar",
                    "Laxmi Nagar",
                    "Laxmi Nagar",
                    "Laxmi Nagar",
                    "Laxmi Nagar",
                    "Laxmi Nagar",
                    "Laxmi Nagar",
                    "Laxmi Nagar",
                    "Laxmi Nagar",
                    "Laxmi Nagar",
                    "Laxmi Nagar",
                    "Laxmi Nagar",
                    "Laxmi Nagar",
                    "Laxmi Nagar",
                    "Laxmi Nagar",
                    "Laxmi Nagar",
                    "Vishwas Nagar",
                    "Vishwas Nagar",
                    "Vishwas Nagar",
                    "Vishwas Nagar",
                    "Vishwas Nagar",
                    "Vishwas Nagar",
                    "Vishwas Nagar",
                    "Vishwas Nagar",
                    "Vishwas Nagar",
                    "Vishwas Nagar",
                    "Vishwas Nagar",
                    "Krishna Nagar",
                    "Krishna Nagar",
                    "Krishna Nagar",
                    "Krishna Nagar",
                    "Krishna Nagar",
                    "Krishna Nagar",
                    "Krishna Nagar",
                    "Krishna Nagar",
                    "Gandhi Nagar",
                    "Gandhi Nagar",
                    "Gandhi Nagar",
                    "Gandhi Nagar",
                    "Gandhi Nagar",
                    "Gandhi Nagar",
                    "Gandhi Nagar",
                    "Shahdara",
                    "Shahdara",
                    "Shahdara",
                    "Shahdara",
                    "Shahdara",
                    "Shahdara",
                    "Shahdara",
                    "Shahdara",
                    "Shahdara",
                    "Shahdara",
                    "Shahdara",
                    "Seemapuri",
                    "Seemapuri",
                    "Seemapuri",
                    "Seemapuri",
                    "Seemapuri",
                    "Seemapuri",
                    "Seemapuri",
                    "Seemapuri",
                    "Seemapuri",
                    "Seemapuri",
                    "Seemapuri",
                    "Seemapuri",
                    "Rohtas Nagar",
                    "Rohtas Nagar",
                    "Rohtas Nagar",
                    "Rohtas Nagar",
                    "Rohtas Nagar",
                    "Rohtas Nagar",
                    "Rohtas Nagar",
                    "Rohtas Nagar",
                    "Rohtas Nagar",
                    "Rohtas Nagar",
                    "Rohtas Nagar",
                    "Rohtas Nagar",
                    "Rohtas Nagar",
                    "Rohtas Nagar",
                    "Rohtas Nagar",
                    "Rohtas Nagar",
                    "Seelampur",
                    "Seelampur",
                    "Seelampur",
                    "Seelampur",
                    "Seelampur",
                    "Seelampur",
                    "Seelampur",
                    "Seelampur",
                    "Seelampur",
                    "Seelampur",
                    "Seelampur",
                    "Seelampur",
                    "Seelampur",
                    "Seelampur",
                    "Ghonda",
                    "Ghonda",
                    "Ghonda",
                    "Ghonda",
                    "Ghonda",
                    "Ghonda",
                    "Ghonda",
                    "Ghonda",
                    "Ghonda",
                    "Ghonda",
                    "Babarpur",
                    "Babarpur",
                    "Babarpur",
                    "Babarpur",
                    "Babarpur",
                    "Babarpur",
                    "Babarpur",
                    "Babarpur",
                    "Babarpur",
                    "Gokalpur",
                    "Gokalpur",
                    "Gokalpur",
                    "Gokalpur",
                    "Gokalpur",
                    "Gokalpur",
                    "Gokalpur",
                    "Gokalpur",
                    "Gokalpur",
                    "Gokalpur",
                    "Gokalpur",
                    "Gokalpur",
                    "Gokalpur",
                    "Mustafabad",
                    "Mustafabad",
                    "Mustafabad",
                    "Mustafabad",
                    "Mustafabad",
                    "Mustafabad",
                    "Mustafabad",
                    "Mustafabad",
                    "Mustafabad",
                    "Mustafabad",
                    "Mustafabad",
                    "Mustafabad",
                    "Mustafabad",
                    "Karawal Nagar",
                    "Karawal Nagar",
                    "Karawal Nagar",
                    "Karawal Nagar",
                    "Karawal Nagar",
                    "Karawal Nagar",
                    "Karawal Nagar",
                    "Karawal Nagar",
                    "Karawal Nagar",
                    "Karawal Nagar",
                    "Karawal Nagar",
                    "Karawal Nagar",
                    "Karawal Nagar",
                    "Karawal Nagar",
                    "Karawal Nagar",
                    "Karawal Nagar"
                  ]
                }
              ],
              "layout": {
                "height": 1500,
                "template": {
                  "data": {
                    "bar": [
                      {
                        "error_x": {
                          "color": "#2a3f5f"
                        },
                        "error_y": {
                          "color": "#2a3f5f"
                        },
                        "marker": {
                          "line": {
                            "color": "#E5ECF6",
                            "width": 0.5
                          },
                          "pattern": {
                            "fillmode": "overlay",
                            "size": 10,
                            "solidity": 0.2
                          }
                        },
                        "type": "bar"
                      }
                    ],
                    "barpolar": [
                      {
                        "marker": {
                          "line": {
                            "color": "#E5ECF6",
                            "width": 0.5
                          },
                          "pattern": {
                            "fillmode": "overlay",
                            "size": 10,
                            "solidity": 0.2
                          }
                        },
                        "type": "barpolar"
                      }
                    ],
                    "carpet": [
                      {
                        "aaxis": {
                          "endlinecolor": "#2a3f5f",
                          "gridcolor": "white",
                          "linecolor": "white",
                          "minorgridcolor": "white",
                          "startlinecolor": "#2a3f5f"
                        },
                        "baxis": {
                          "endlinecolor": "#2a3f5f",
                          "gridcolor": "white",
                          "linecolor": "white",
                          "minorgridcolor": "white",
                          "startlinecolor": "#2a3f5f"
                        },
                        "type": "carpet"
                      }
                    ],
                    "choropleth": [
                      {
                        "colorbar": {
                          "outlinewidth": 0,
                          "ticks": ""
                        },
                        "type": "choropleth"
                      }
                    ],
                    "contour": [
                      {
                        "colorbar": {
                          "outlinewidth": 0,
                          "ticks": ""
                        },
                        "colorscale": [
                          [
                            0,
                            "#0d0887"
                          ],
                          [
                            0.1111111111111111,
                            "#46039f"
                          ],
                          [
                            0.2222222222222222,
                            "#7201a8"
                          ],
                          [
                            0.3333333333333333,
                            "#9c179e"
                          ],
                          [
                            0.4444444444444444,
                            "#bd3786"
                          ],
                          [
                            0.5555555555555556,
                            "#d8576b"
                          ],
                          [
                            0.6666666666666666,
                            "#ed7953"
                          ],
                          [
                            0.7777777777777778,
                            "#fb9f3a"
                          ],
                          [
                            0.8888888888888888,
                            "#fdca26"
                          ],
                          [
                            1,
                            "#f0f921"
                          ]
                        ],
                        "type": "contour"
                      }
                    ],
                    "contourcarpet": [
                      {
                        "colorbar": {
                          "outlinewidth": 0,
                          "ticks": ""
                        },
                        "type": "contourcarpet"
                      }
                    ],
                    "heatmap": [
                      {
                        "colorbar": {
                          "outlinewidth": 0,
                          "ticks": ""
                        },
                        "colorscale": [
                          [
                            0,
                            "#0d0887"
                          ],
                          [
                            0.1111111111111111,
                            "#46039f"
                          ],
                          [
                            0.2222222222222222,
                            "#7201a8"
                          ],
                          [
                            0.3333333333333333,
                            "#9c179e"
                          ],
                          [
                            0.4444444444444444,
                            "#bd3786"
                          ],
                          [
                            0.5555555555555556,
                            "#d8576b"
                          ],
                          [
                            0.6666666666666666,
                            "#ed7953"
                          ],
                          [
                            0.7777777777777778,
                            "#fb9f3a"
                          ],
                          [
                            0.8888888888888888,
                            "#fdca26"
                          ],
                          [
                            1,
                            "#f0f921"
                          ]
                        ],
                        "type": "heatmap"
                      }
                    ],
                    "heatmapgl": [
                      {
                        "colorbar": {
                          "outlinewidth": 0,
                          "ticks": ""
                        },
                        "colorscale": [
                          [
                            0,
                            "#0d0887"
                          ],
                          [
                            0.1111111111111111,
                            "#46039f"
                          ],
                          [
                            0.2222222222222222,
                            "#7201a8"
                          ],
                          [
                            0.3333333333333333,
                            "#9c179e"
                          ],
                          [
                            0.4444444444444444,
                            "#bd3786"
                          ],
                          [
                            0.5555555555555556,
                            "#d8576b"
                          ],
                          [
                            0.6666666666666666,
                            "#ed7953"
                          ],
                          [
                            0.7777777777777778,
                            "#fb9f3a"
                          ],
                          [
                            0.8888888888888888,
                            "#fdca26"
                          ],
                          [
                            1,
                            "#f0f921"
                          ]
                        ],
                        "type": "heatmapgl"
                      }
                    ],
                    "histogram": [
                      {
                        "marker": {
                          "pattern": {
                            "fillmode": "overlay",
                            "size": 10,
                            "solidity": 0.2
                          }
                        },
                        "type": "histogram"
                      }
                    ],
                    "histogram2d": [
                      {
                        "colorbar": {
                          "outlinewidth": 0,
                          "ticks": ""
                        },
                        "colorscale": [
                          [
                            0,
                            "#0d0887"
                          ],
                          [
                            0.1111111111111111,
                            "#46039f"
                          ],
                          [
                            0.2222222222222222,
                            "#7201a8"
                          ],
                          [
                            0.3333333333333333,
                            "#9c179e"
                          ],
                          [
                            0.4444444444444444,
                            "#bd3786"
                          ],
                          [
                            0.5555555555555556,
                            "#d8576b"
                          ],
                          [
                            0.6666666666666666,
                            "#ed7953"
                          ],
                          [
                            0.7777777777777778,
                            "#fb9f3a"
                          ],
                          [
                            0.8888888888888888,
                            "#fdca26"
                          ],
                          [
                            1,
                            "#f0f921"
                          ]
                        ],
                        "type": "histogram2d"
                      }
                    ],
                    "histogram2dcontour": [
                      {
                        "colorbar": {
                          "outlinewidth": 0,
                          "ticks": ""
                        },
                        "colorscale": [
                          [
                            0,
                            "#0d0887"
                          ],
                          [
                            0.1111111111111111,
                            "#46039f"
                          ],
                          [
                            0.2222222222222222,
                            "#7201a8"
                          ],
                          [
                            0.3333333333333333,
                            "#9c179e"
                          ],
                          [
                            0.4444444444444444,
                            "#bd3786"
                          ],
                          [
                            0.5555555555555556,
                            "#d8576b"
                          ],
                          [
                            0.6666666666666666,
                            "#ed7953"
                          ],
                          [
                            0.7777777777777778,
                            "#fb9f3a"
                          ],
                          [
                            0.8888888888888888,
                            "#fdca26"
                          ],
                          [
                            1,
                            "#f0f921"
                          ]
                        ],
                        "type": "histogram2dcontour"
                      }
                    ],
                    "mesh3d": [
                      {
                        "colorbar": {
                          "outlinewidth": 0,
                          "ticks": ""
                        },
                        "type": "mesh3d"
                      }
                    ],
                    "parcoords": [
                      {
                        "line": {
                          "colorbar": {
                            "outlinewidth": 0,
                            "ticks": ""
                          }
                        },
                        "type": "parcoords"
                      }
                    ],
                    "pie": [
                      {
                        "automargin": true,
                        "type": "pie"
                      }
                    ],
                    "scatter": [
                      {
                        "fillpattern": {
                          "fillmode": "overlay",
                          "size": 10,
                          "solidity": 0.2
                        },
                        "type": "scatter"
                      }
                    ],
                    "scatter3d": [
                      {
                        "line": {
                          "colorbar": {
                            "outlinewidth": 0,
                            "ticks": ""
                          }
                        },
                        "marker": {
                          "colorbar": {
                            "outlinewidth": 0,
                            "ticks": ""
                          }
                        },
                        "type": "scatter3d"
                      }
                    ],
                    "scattercarpet": [
                      {
                        "marker": {
                          "colorbar": {
                            "outlinewidth": 0,
                            "ticks": ""
                          }
                        },
                        "type": "scattercarpet"
                      }
                    ],
                    "scattergeo": [
                      {
                        "marker": {
                          "colorbar": {
                            "outlinewidth": 0,
                            "ticks": ""
                          }
                        },
                        "type": "scattergeo"
                      }
                    ],
                    "scattergl": [
                      {
                        "marker": {
                          "colorbar": {
                            "outlinewidth": 0,
                            "ticks": ""
                          }
                        },
                        "type": "scattergl"
                      }
                    ],
                    "scattermapbox": [
                      {
                        "marker": {
                          "colorbar": {
                            "outlinewidth": 0,
                            "ticks": ""
                          }
                        },
                        "type": "scattermapbox"
                      }
                    ],
                    "scatterpolar": [
                      {
                        "marker": {
                          "colorbar": {
                            "outlinewidth": 0,
                            "ticks": ""
                          }
                        },
                        "type": "scatterpolar"
                      }
                    ],
                    "scatterpolargl": [
                      {
                        "marker": {
                          "colorbar": {
                            "outlinewidth": 0,
                            "ticks": ""
                          }
                        },
                        "type": "scatterpolargl"
                      }
                    ],
                    "scatterternary": [
                      {
                        "marker": {
                          "colorbar": {
                            "outlinewidth": 0,
                            "ticks": ""
                          }
                        },
                        "type": "scatterternary"
                      }
                    ],
                    "surface": [
                      {
                        "colorbar": {
                          "outlinewidth": 0,
                          "ticks": ""
                        },
                        "colorscale": [
                          [
                            0,
                            "#0d0887"
                          ],
                          [
                            0.1111111111111111,
                            "#46039f"
                          ],
                          [
                            0.2222222222222222,
                            "#7201a8"
                          ],
                          [
                            0.3333333333333333,
                            "#9c179e"
                          ],
                          [
                            0.4444444444444444,
                            "#bd3786"
                          ],
                          [
                            0.5555555555555556,
                            "#d8576b"
                          ],
                          [
                            0.6666666666666666,
                            "#ed7953"
                          ],
                          [
                            0.7777777777777778,
                            "#fb9f3a"
                          ],
                          [
                            0.8888888888888888,
                            "#fdca26"
                          ],
                          [
                            1,
                            "#f0f921"
                          ]
                        ],
                        "type": "surface"
                      }
                    ],
                    "table": [
                      {
                        "cells": {
                          "fill": {
                            "color": "#EBF0F8"
                          },
                          "line": {
                            "color": "white"
                          }
                        },
                        "header": {
                          "fill": {
                            "color": "#C8D4E3"
                          },
                          "line": {
                            "color": "white"
                          }
                        },
                        "type": "table"
                      }
                    ]
                  },
                  "layout": {
                    "annotationdefaults": {
                      "arrowcolor": "#2a3f5f",
                      "arrowhead": 0,
                      "arrowwidth": 1
                    },
                    "autotypenumbers": "strict",
                    "coloraxis": {
                      "colorbar": {
                        "outlinewidth": 0,
                        "ticks": ""
                      }
                    },
                    "colorscale": {
                      "diverging": [
                        [
                          0,
                          "#8e0152"
                        ],
                        [
                          0.1,
                          "#c51b7d"
                        ],
                        [
                          0.2,
                          "#de77ae"
                        ],
                        [
                          0.3,
                          "#f1b6da"
                        ],
                        [
                          0.4,
                          "#fde0ef"
                        ],
                        [
                          0.5,
                          "#f7f7f7"
                        ],
                        [
                          0.6,
                          "#e6f5d0"
                        ],
                        [
                          0.7,
                          "#b8e186"
                        ],
                        [
                          0.8,
                          "#7fbc41"
                        ],
                        [
                          0.9,
                          "#4d9221"
                        ],
                        [
                          1,
                          "#276419"
                        ]
                      ],
                      "sequential": [
                        [
                          0,
                          "#0d0887"
                        ],
                        [
                          0.1111111111111111,
                          "#46039f"
                        ],
                        [
                          0.2222222222222222,
                          "#7201a8"
                        ],
                        [
                          0.3333333333333333,
                          "#9c179e"
                        ],
                        [
                          0.4444444444444444,
                          "#bd3786"
                        ],
                        [
                          0.5555555555555556,
                          "#d8576b"
                        ],
                        [
                          0.6666666666666666,
                          "#ed7953"
                        ],
                        [
                          0.7777777777777778,
                          "#fb9f3a"
                        ],
                        [
                          0.8888888888888888,
                          "#fdca26"
                        ],
                        [
                          1,
                          "#f0f921"
                        ]
                      ],
                      "sequentialminus": [
                        [
                          0,
                          "#0d0887"
                        ],
                        [
                          0.1111111111111111,
                          "#46039f"
                        ],
                        [
                          0.2222222222222222,
                          "#7201a8"
                        ],
                        [
                          0.3333333333333333,
                          "#9c179e"
                        ],
                        [
                          0.4444444444444444,
                          "#bd3786"
                        ],
                        [
                          0.5555555555555556,
                          "#d8576b"
                        ],
                        [
                          0.6666666666666666,
                          "#ed7953"
                        ],
                        [
                          0.7777777777777778,
                          "#fb9f3a"
                        ],
                        [
                          0.8888888888888888,
                          "#fdca26"
                        ],
                        [
                          1,
                          "#f0f921"
                        ]
                      ]
                    },
                    "colorway": [
                      "#636efa",
                      "#EF553B",
                      "#00cc96",
                      "#ab63fa",
                      "#FFA15A",
                      "#19d3f3",
                      "#FF6692",
                      "#B6E880",
                      "#FF97FF",
                      "#FECB52"
                    ],
                    "font": {
                      "color": "#2a3f5f"
                    },
                    "geo": {
                      "bgcolor": "white",
                      "lakecolor": "white",
                      "landcolor": "#E5ECF6",
                      "showlakes": true,
                      "showland": true,
                      "subunitcolor": "white"
                    },
                    "hoverlabel": {
                      "align": "left"
                    },
                    "hovermode": "closest",
                    "mapbox": {
                      "style": "light"
                    },
                    "paper_bgcolor": "white",
                    "plot_bgcolor": "#E5ECF6",
                    "polar": {
                      "angularaxis": {
                        "gridcolor": "white",
                        "linecolor": "white",
                        "ticks": ""
                      },
                      "bgcolor": "#E5ECF6",
                      "radialaxis": {
                        "gridcolor": "white",
                        "linecolor": "white",
                        "ticks": ""
                      }
                    },
                    "scene": {
                      "xaxis": {
                        "backgroundcolor": "#E5ECF6",
                        "gridcolor": "white",
                        "gridwidth": 2,
                        "linecolor": "white",
                        "showbackground": true,
                        "ticks": "",
                        "zerolinecolor": "white"
                      },
                      "yaxis": {
                        "backgroundcolor": "#E5ECF6",
                        "gridcolor": "white",
                        "gridwidth": 2,
                        "linecolor": "white",
                        "showbackground": true,
                        "ticks": "",
                        "zerolinecolor": "white"
                      },
                      "zaxis": {
                        "backgroundcolor": "#E5ECF6",
                        "gridcolor": "white",
                        "gridwidth": 2,
                        "linecolor": "white",
                        "showbackground": true,
                        "ticks": "",
                        "zerolinecolor": "white"
                      }
                    },
                    "shapedefaults": {
                      "line": {
                        "color": "#2a3f5f"
                      }
                    },
                    "ternary": {
                      "aaxis": {
                        "gridcolor": "white",
                        "linecolor": "white",
                        "ticks": ""
                      },
                      "baxis": {
                        "gridcolor": "white",
                        "linecolor": "white",
                        "ticks": ""
                      },
                      "bgcolor": "#E5ECF6",
                      "caxis": {
                        "gridcolor": "white",
                        "linecolor": "white",
                        "ticks": ""
                      }
                    },
                    "title": {
                      "x": 0.05
                    },
                    "xaxis": {
                      "automargin": true,
                      "gridcolor": "white",
                      "linecolor": "white",
                      "ticks": "",
                      "title": {
                        "standoff": 15
                      },
                      "zerolinecolor": "white",
                      "zerolinewidth": 2
                    },
                    "yaxis": {
                      "automargin": true,
                      "gridcolor": "white",
                      "linecolor": "white",
                      "ticks": "",
                      "title": {
                        "standoff": 15
                      },
                      "zerolinecolor": "white",
                      "zerolinewidth": 2
                    }
                  }
                },
                "title": {
                  "text": "Constituency wise all candidates"
                }
              }
            }
          },
          "metadata": {},
          "output_type": "display_data"
        }
      ],
      "source": [
        "# All constituencies at a glance \n",
        "fig = go.Figure()\n",
        "fig.add_traces(go.Bar(y=result['Constituency Name'], x=result['Total Votes'], customdata=result[['Abb','Candidate']],\n",
        "                      orientation='h', marker_color=result['Color'], hovertemplate='%{y}<br>%{customdata[1]}<br>%{customdata[0]} %{x} votes',\n",
        "                      hovertext=list(zip(result['Abb'],result['Candidate'])), name=''))\n",
        "fig.update_layout(title='Constituency wise all candidates', height=1500)\n"
      ]
    },
    {
      "cell_type": "code",
      "execution_count": null,
      "metadata": {},
      "outputs": [
        {
          "data": {
            "application/vnd.plotly.v1+json": {
              "config": {
                "plotlyServerURL": "https://plot.ly"
              },
              "data": [
                {
                  "customdata": [
                    [
                      "BJP",
                      "RAJ KARAN KHATRI"
                    ],
                    [
                      "AAP",
                      "SHARAD KUMAR"
                    ],
                    [
                      "INC",
                      "ARUNA"
                    ],
                    [
                      "NOTA",
                      "NOTA"
                    ],
                    [
                      "CPI(ML)L",
                      "ANIL KUMAR SINGH"
                    ],
                    [
                      "IND",
                      "VIKAS BHARDWAJ"
                    ],
                    [
                      "ASP(KR)",
                      "MD KHALID"
                    ],
                    [
                      "IND",
                      "BUDIYA"
                    ],
                    [
                      "AAP",
                      "SANJEEV JHA"
                    ],
                    [
                      "JD(U)",
                      "SHAILENDRA KUMAR"
                    ],
                    [
                      "INC",
                      "MANGESH TYAGI"
                    ],
                    [
                      "NCP",
                      "RATAN TYAGI"
                    ],
                    [
                      "NOTA",
                      "NOTA"
                    ],
                    [
                      "BSP",
                      "GANGA RAM"
                    ],
                    [
                      "Other",
                      "ANIL KAPOOR"
                    ],
                    [
                      "AAP(P)",
                      "SONU KAUSHIK"
                    ],
                    [
                      "RJM",
                      "VIJAY KUMAR JHA"
                    ],
                    [
                      "AASP(S)\t",
                      "SUNIL KUMAR VYATHIT"
                    ],
                    [
                      "RJP(S)",
                      "ABHISHEK KUMAR SINGH (MASTER JI)"
                    ],
                    [
                      "Other",
                      "GULAB SINGHAL"
                    ],
                    [
                      "Other",
                      "PRAMOD"
                    ],
                    [
                      "Other",
                      "MUKESH PRASAD"
                    ],
                    [
                      "RRP",
                      "DHURVA KUMAR"
                    ],
                    [
                      "BJP",
                      "SURYA PRAKASH KHATRI"
                    ],
                    [
                      "AAP",
                      "SURINDER PAL SINGH (BITTOO)"
                    ],
                    [
                      "INC",
                      "LOKENDRA KALYAN SINGH"
                    ],
                    [
                      "BSP",
                      "SURENDER PAL"
                    ],
                    [
                      "NOTA",
                      "NOTA"
                    ],
                    [
                      "Other",
                      "TARUN KUMAR"
                    ],
                    [
                      "Other",
                      "DEEPAK CHAWLA"
                    ],
                    [
                      "PPI(D)",
                      "RAJKUMAR BHARTI"
                    ],
                    [
                      "RJP(S)",
                      "RAM RAJ SINGH"
                    ],
                    [
                      "Other",
                      "SANGH PRIYA SIDDHARTHA"
                    ],
                    [
                      "Other",
                      "RAKESH RANJAN SHRIVASTAV"
                    ],
                    [
                      "Other",
                      "WASIM AKRAM"
                    ],
                    [
                      "Other",
                      "BIJENDER KUMAR"
                    ],
                    [
                      "BJP",
                      "RAJ KUMAR BHATIA"
                    ],
                    [
                      "AAP",
                      "MUKESH KUMAR GOEL"
                    ],
                    [
                      "INC",
                      "SHIVANK SINGAL"
                    ],
                    [
                      "NOTA",
                      "NOTA"
                    ],
                    [
                      "BSP",
                      "ABDUL ZABBAR"
                    ],
                    [
                      "IND",
                      "RAM NIWAS"
                    ],
                    [
                      "CPI",
                      "SANJEEV KUMAR RANA"
                    ],
                    [
                      "IND",
                      "VIJAY KR. AGGARWAL"
                    ],
                    [
                      "IND",
                      "NEETU SINGH"
                    ],
                    [
                      "IND",
                      "AYUSH GUPTA"
                    ],
                    [
                      "Other",
                      "PRIYA"
                    ],
                    [
                      "Other",
                      "PREM CHAND"
                    ],
                    [
                      "PPI(D)",
                      "SANJAY YADAV ADVOCATE"
                    ],
                    [
                      "NYP",
                      "VISHAL SINGH"
                    ],
                    [
                      "Other",
                      "MD: RAHMAT ALI"
                    ],
                    [
                      "BJP",
                      "AAHIR DEEPAK CHAUDHARYY"
                    ],
                    [
                      "AAP",
                      "AJESH YADAV"
                    ],
                    [
                      "INC",
                      "DEVENDER YADAV"
                    ],
                    [
                      "BSP",
                      "RAVINDER KUMAR"
                    ],
                    [
                      "NOTA",
                      "NOTA"
                    ],
                    [
                      "Other",
                      "PARMOD KUMAR"
                    ],
                    [
                      "IND",
                      "DEVENDER KUMAR YADAV"
                    ],
                    [
                      "IND",
                      "JAI PAL"
                    ],
                    [
                      "IND",
                      "ARUN KUMAR"
                    ],
                    [
                      "NCP",
                      "MULAYAM SINGH"
                    ],
                    [
                      "BSKP",
                      "GOPAL KUMAR SINHA"
                    ],
                    [
                      "Other",
                      "RAJENDER"
                    ],
                    [
                      "Other",
                      "R. C. SHARMA"
                    ],
                    [
                      "BJP",
                      "KULWANT RANA"
                    ],
                    [
                      "AAP",
                      "MOHINDER GOYAL"
                    ],
                    [
                      "INC",
                      "SUSHANT MISHRA"
                    ],
                    [
                      "NOTA",
                      "NOTA"
                    ],
                    [
                      "BSP",
                      "NEYAZ KHAN"
                    ],
                    [
                      "YBRP",
                      "ASHOK JAIN"
                    ],
                    [
                      "IND",
                      "VIDYA PATTI"
                    ],
                    [
                      "JMBP",
                      "NISHTHA"
                    ],
                    [
                      "IND",
                      "VISHAL GUPTA"
                    ],
                    [
                      "PPI(D)",
                      "AYASHA KHATOON"
                    ],
                    [
                      "IND",
                      "AJAY KUMAR SINGH"
                    ],
                    [
                      "Other",
                      "JITANDER SINGH"
                    ],
                    [
                      "BJP",
                      "RAVINDER INDRAJ SINGH"
                    ],
                    [
                      "AAP",
                      "JAI BHAGWAN UPKAR"
                    ],
                    [
                      "INC",
                      "SURENDER KUMAR"
                    ],
                    [
                      "BSP",
                      "HEERA LAL"
                    ],
                    [
                      "NOTA",
                      "NOTA"
                    ],
                    [
                      "IND",
                      "HARI KISHAN MECHANIC"
                    ],
                    [
                      "PPI(D)",
                      "DHEERAJ KUMAR"
                    ],
                    [
                      "Other",
                      "BABITA"
                    ],
                    [
                      "BJP",
                      "GAJENDER DRALL"
                    ],
                    [
                      "AAP",
                      "JASBIR KARALA"
                    ],
                    [
                      "INC",
                      "DHARAMPAL LAKRA"
                    ],
                    [
                      "IND",
                      "RAMBIR SHOKEEN"
                    ],
                    [
                      "NOTA",
                      "NOTA"
                    ],
                    [
                      "BSP",
                      "SUMAN LATA SEHRAWAT"
                    ],
                    [
                      "IND",
                      "SUNITA SHEKHAR CHAWARIYA"
                    ],
                    [
                      "NLP",
                      "SUNIL KUMAR"
                    ],
                    [
                      "IND",
                      "RAJNI"
                    ],
                    [
                      "IND",
                      "ANDEEP DRALL"
                    ],
                    [
                      "AIFB",
                      "MAHAVIR"
                    ],
                    [
                      "ABSP",
                      "YOGENDER SINGH ALIAS YOGI MATHUR"
                    ],
                    [
                      "Other",
                      "SANTOSH"
                    ],
                    [
                      "RRP",
                      "SANJAYA KUMAR YADAV"
                    ],
                    [
                      "AAP",
                      "ANIL JHA"
                    ],
                    [
                      "BJP",
                      "BAJRANG SHUKLA"
                    ],
                    [
                      "INC",
                      "RAJESH KUMAR GUPTA"
                    ],
                    [
                      "BSP",
                      "JUGBIR SINGH"
                    ],
                    [
                      "NOTA",
                      "NOTA"
                    ],
                    [
                      "ASP(KR)",
                      "MALIK NEYAZ AHMAD"
                    ],
                    [
                      "IND",
                      "PRAKASH SRIVASTAV"
                    ],
                    [
                      "IND",
                      "RAKESH"
                    ],
                    [
                      "RMP",
                      "SUDESH SHARMA"
                    ],
                    [
                      "PP",
                      "AFSANA SARWAR"
                    ],
                    [
                      "AAP",
                      "MUKESH KUMAR AHLAWAT"
                    ],
                    [
                      "BJP",
                      "KARAM SINGH KARMA"
                    ],
                    [
                      "INC",
                      "JAI KISHAN"
                    ],
                    [
                      "BSP",
                      "KULWANT RANA"
                    ],
                    [
                      "JMBP",
                      "JITENDER"
                    ],
                    [
                      "NOTA",
                      "NOTA"
                    ],
                    [
                      "IND",
                      "DEEPAK KUMAR"
                    ],
                    [
                      "IND",
                      "RAMSWAROOP SAMRIA"
                    ],
                    [
                      "Other",
                      "KARAN SINGH"
                    ],
                    [
                      "BSKP",
                      "BABU LAL"
                    ],
                    [
                      "YBRP",
                      "PREETI"
                    ],
                    [
                      "Other",
                      "SANGEETA"
                    ],
                    [
                      "Other",
                      "LAXMI"
                    ],
                    [
                      "BJP",
                      "MANOJ KUMAR SHOKEEN"
                    ],
                    [
                      "AAP",
                      "RAGHUVINDER SHOKEEN"
                    ],
                    [
                      "INC",
                      "ROHIT CHOUDHARY"
                    ],
                    [
                      "NOTA",
                      "NOTA"
                    ],
                    [
                      "BSP",
                      "MUKESH KUMAR"
                    ],
                    [
                      "Other",
                      "YATENDER SHARMA"
                    ],
                    [
                      "IND",
                      "DILIP KUMAR SHARMA"
                    ],
                    [
                      "PPI(D)",
                      "RAM SAJIVAN"
                    ],
                    [
                      "RMP",
                      "KANCHAN SHARMA"
                    ],
                    [
                      "Other",
                      "MAHENDER SINGH RATHOR"
                    ],
                    [
                      "BJP",
                      "RAJ KUMAR CHAUHAN"
                    ],
                    [
                      "AAP",
                      "DHARAM RAKSHAK ALIAS RAKESH JATAV"
                    ],
                    [
                      "INC",
                      "HANUMAN SAHAY ALIAS HANUMAN CHAUHAN"
                    ],
                    [
                      "NOTA",
                      "NOTA"
                    ],
                    [
                      "BSP",
                      "MUKESH KUMAR"
                    ],
                    [
                      "IND",
                      "JAI BHAGWAN"
                    ],
                    [
                      "Other",
                      "KHILKHILAKAR"
                    ],
                    [
                      "BJP",
                      "VIJENDER GUPTA"
                    ],
                    [
                      "AAP",
                      "PARDEEP MITTAL"
                    ],
                    [
                      "INC",
                      "SUMESH GUPTA"
                    ],
                    [
                      "NOTA",
                      "NOTA"
                    ],
                    [
                      "BSP",
                      "HARSHAD CHADHA"
                    ],
                    [
                      "JMBP",
                      "ABHISHEK"
                    ],
                    [
                      "Other",
                      "AMIT SAINI"
                    ],
                    [
                      "IND",
                      "RAJBIR"
                    ],
                    [
                      "IND",
                      "NARENDER SINGH PANWAR"
                    ],
                    [
                      "BJP",
                      "REKHA GUPTA"
                    ],
                    [
                      "AAP",
                      "BANDANA KUMARI"
                    ],
                    [
                      "INC",
                      "PARVEEN KUMAR JAIN"
                    ],
                    [
                      "NOTA",
                      "NOTA"
                    ],
                    [
                      "BSP",
                      "SHYAM KUMAR"
                    ],
                    [
                      "IND",
                      "SAURABH GUPTA"
                    ],
                    [
                      "IND",
                      "RINA DEVI"
                    ],
                    [
                      "IND",
                      "RAJESH KUMAR"
                    ],
                    [
                      "IND",
                      "MOHD. USMAN"
                    ],
                    [
                      "NIUP",
                      "RANJEET VERMA"
                    ],
                    [
                      "BJP",
                      "KARNAIL SINGH"
                    ],
                    [
                      "AAP",
                      "SATYENDAR JAIN"
                    ],
                    [
                      "INC",
                      "SATISH KUMAR LUTHRA"
                    ],
                    [
                      "NOTA",
                      "NOTA"
                    ],
                    [
                      "BSP",
                      "VIJAY KUMAR"
                    ],
                    [
                      "YBRP",
                      "TAMANA"
                    ],
                    [
                      "Other",
                      "RAJESH GUPTA"
                    ],
                    [
                      "IND",
                      "JUGAL CHAWLA"
                    ],
                    [
                      "BJP",
                      "TILAK RAM GUPTA"
                    ],
                    [
                      "AAP",
                      "PREETI JITENDER TOMAR"
                    ],
                    [
                      "INC",
                      "SATENDER SHARMA"
                    ],
                    [
                      "NOTA",
                      "NOTA"
                    ],
                    [
                      "BSP",
                      "PAWAN GARG"
                    ],
                    [
                      "Other",
                      "SUBHASH"
                    ],
                    [
                      "PPI(D)",
                      "SURENDRA SINGH BASOYA"
                    ],
                    [
                      "BJP",
                      "POONAM SHARMA"
                    ],
                    [
                      "AAP",
                      "RAJESH GUPTA"
                    ],
                    [
                      "INC",
                      "RAGINI NAYAK"
                    ],
                    [
                      "BSP",
                      "HIRA LAL"
                    ],
                    [
                      "NOTA",
                      "NOTA"
                    ],
                    [
                      "IND",
                      "AAKASH GOEL"
                    ],
                    [
                      "CPI",
                      "DEVENDER KUMAR"
                    ],
                    [
                      "IND",
                      "MUKESH JAIN"
                    ],
                    [
                      "RRP",
                      "MAHESH BANSAL"
                    ],
                    [
                      "Other",
                      "SHEELA DEVI"
                    ],
                    [
                      "BJP",
                      "ASHOK GOEL"
                    ],
                    [
                      "AAP",
                      "AKHILESH PATI TRIPATHI"
                    ],
                    [
                      "INC",
                      "KANWAR KARAN SINGH"
                    ],
                    [
                      "NOTA",
                      "NOTA"
                    ],
                    [
                      "BSP",
                      "CHUNNI LAL"
                    ],
                    [
                      "IND",
                      "ROMAN RASHID"
                    ],
                    [
                      "IND",
                      "CHANDER PAL"
                    ],
                    [
                      "AAP(P)",
                      "VIVEK GIRI"
                    ],
                    [
                      "Other",
                      "PANKAJ KUMAR"
                    ],
                    [
                      "RRP",
                      "AWDHESH KUMAR JHA"
                    ],
                    [
                      "AAP",
                      "SOM DUTT"
                    ],
                    [
                      "BJP",
                      "MANOJ KUMAR JINDAL"
                    ],
                    [
                      "INC",
                      "ANIL BHARDWAJ"
                    ],
                    [
                      "BSP",
                      "SHAIL KUMARI"
                    ],
                    [
                      "NOTA",
                      "NOTA"
                    ],
                    [
                      "Other",
                      "MEENAKSHI KUMARI"
                    ],
                    [
                      "JMBP",
                      "MADHU BALA"
                    ],
                    [
                      "Other",
                      "ASHA RANI"
                    ],
                    [
                      "Other",
                      "ANITA BANSAL"
                    ],
                    [
                      "Other",
                      "CA SOHARSH GULGULIA JAIN"
                    ],
                    [
                      "Other",
                      "LAXMI THAKUR SINGHAL"
                    ],
                    [
                      "Other",
                      "UMESH RATHOR"
                    ],
                    [
                      "AAP",
                      "PUNARDEEP SINGH SAWHNEY (SABBY)"
                    ],
                    [
                      "BJP",
                      "SATISH JAIN"
                    ],
                    [
                      "INC",
                      "MUDIT AGARWAL"
                    ],
                    [
                      "NOTA",
                      "NOTA"
                    ],
                    [
                      "BSP",
                      "KALI CHARAN"
                    ],
                    [
                      "NCP",
                      "KHALID UR REHMAN"
                    ],
                    [
                      "RRP",
                      "RAHUL TIWARI"
                    ],
                    [
                      "Other",
                      "MOHAMMAD MURSALEEN"
                    ],
                    [
                      "AAP",
                      "AALEY MOHAMMED IQBAL"
                    ],
                    [
                      "BJP",
                      "DEEPTI INDORA"
                    ],
                    [
                      "INC",
                      "ASIM AHMED KHAN"
                    ],
                    [
                      "NOTA",
                      "NOTA"
                    ],
                    [
                      "BSP",
                      "TEJ RAM"
                    ],
                    [
                      "IND",
                      "AMAR NATH"
                    ],
                    [
                      "IND",
                      "MOHAMMAD AHMED SAIFI"
                    ],
                    [
                      "NCP",
                      "MOHD JAVED"
                    ],
                    [
                      "IND",
                      "BHAGWAN DASS"
                    ],
                    [
                      "IND",
                      "FIRDOUS AHMAD"
                    ],
                    [
                      "IND",
                      "MOAZAM KHAN"
                    ],
                    [
                      "IND",
                      "ZAINUDDIN"
                    ],
                    [
                      "AAP",
                      "IMRAN HUSSAIN"
                    ],
                    [
                      "BJP",
                      "KAMAL BAGRI"
                    ],
                    [
                      "INC",
                      "HAROON YUSUF"
                    ],
                    [
                      "NOTA",
                      "NOTA"
                    ],
                    [
                      "AAPP",
                      "ABRAR"
                    ],
                    [
                      "BSP",
                      "SONU"
                    ],
                    [
                      "IND",
                      "BABU LAL"
                    ],
                    [
                      "IND",
                      "HANSA"
                    ],
                    [
                      "IND",
                      "MOHD. SHADAB"
                    ],
                    [
                      "NCP",
                      "MD HAROON"
                    ],
                    [
                      "AAP",
                      "VISHESH RAVI"
                    ],
                    [
                      "BJP",
                      "DUSHYANT GAUTAM"
                    ],
                    [
                      "INC",
                      "RAHUL KUMAR"
                    ],
                    [
                      "BSP",
                      "RANJEET"
                    ],
                    [
                      "NOTA",
                      "NOTA"
                    ],
                    [
                      "Other",
                      "SHIV KUMAR"
                    ],
                    [
                      "IND",
                      "DEEPAK KUMAR"
                    ],
                    [
                      "AAP",
                      "PRAVESH RATN"
                    ],
                    [
                      "BJP",
                      "RAAJ KUMAR ANAND"
                    ],
                    [
                      "INC",
                      "KRISHNA TIRATH"
                    ],
                    [
                      "NOTA",
                      "NOTA"
                    ],
                    [
                      "BSP",
                      "RAM AVTAR"
                    ],
                    [
                      "ASP(KR)",
                      "ASHOK KUMAR"
                    ],
                    [
                      "BJP",
                      "HARISH KHURANA"
                    ],
                    [
                      "AAP",
                      "SHIVCHARAN GOEL"
                    ],
                    [
                      "INC",
                      "RAJENDER SINGH"
                    ],
                    [
                      "BSP",
                      "AVINASH GUPTA"
                    ],
                    [
                      "NOTA",
                      "NOTA"
                    ],
                    [
                      "IND",
                      "SADRE ALAM"
                    ],
                    [
                      "IND",
                      "GAURI SHANKAR"
                    ],
                    [
                      "RRP",
                      "GOURAV BOTHRA"
                    ],
                    [
                      "IND",
                      "HARISH"
                    ],
                    [
                      "Other",
                      "VISHAL SAHNI"
                    ],
                    [
                      "RMP",
                      "VIJAY KUMAR SHARMA"
                    ],
                    [
                      "NCP",
                      "SANAULLAH"
                    ],
                    [
                      "Other",
                      "MAHESH DUBEY"
                    ],
                    [
                      "BJP",
                      "KAILASH GANGWAL"
                    ],
                    [
                      "AAP",
                      "RAKHI BIRLA"
                    ],
                    [
                      "INC",
                      "J. P. PANWAR"
                    ],
                    [
                      "NOTA",
                      "NOTA"
                    ],
                    [
                      "BSP",
                      "ROOP SINGH AHIRWAR"
                    ],
                    [
                      "IND",
                      "DHARAMVEER"
                    ],
                    [
                      "JMBP",
                      "RANDHIR SINGH TANDI"
                    ],
                    [
                      "IND",
                      "RAVI"
                    ],
                    [
                      "Other",
                      "ROHIT KASHYAP"
                    ],
                    [
                      "Other",
                      "RANDHIR KUMAR"
                    ],
                    [
                      "BJP",
                      "MANJINDER SINGH SIRSA"
                    ],
                    [
                      "AAP",
                      "A DHANWATI CHANDELA A"
                    ],
                    [
                      "INC",
                      "DHARAM PAL CHANDELA"
                    ],
                    [
                      "NOTA",
                      "NOTA"
                    ],
                    [
                      "BSP",
                      "SHASHI PABHA"
                    ],
                    [
                      "AAPP",
                      "KARAN TALWAR"
                    ],
                    [
                      "Other",
                      "JAYA RAMAN"
                    ],
                    [
                      "RRP",
                      "VISHAL SANGWAN"
                    ],
                    [
                      "AAP(P)",
                      "KAMLA DEVI"
                    ],
                    [
                      "BJP",
                      "SHYAM SHARMA"
                    ],
                    [
                      "AAP",
                      "SURINDER KUMAR SETIA"
                    ],
                    [
                      "INC",
                      "PREM BALLABH"
                    ],
                    [
                      "IND",
                      "RAJ KUMARI DHILLON"
                    ],
                    [
                      "NOTA",
                      "NOTA"
                    ],
                    [
                      "BSP",
                      "BINDU KUMAR"
                    ],
                    [
                      "IND",
                      "MAYANK MEHTA"
                    ],
                    [
                      "IND",
                      "SABIR KHAN"
                    ],
                    [
                      "Other",
                      "MOHAN LAL BHARDWAJ"
                    ],
                    [
                      "RJP(S)",
                      "PREETAM CHAND"
                    ],
                    [
                      "IND",
                      "ASHOK KUMAR"
                    ],
                    [
                      "AAP",
                      "JARNAIL SINGH"
                    ],
                    [
                      "BJP",
                      "SHVETA SAINI"
                    ],
                    [
                      "INC",
                      "PARVINDER SINGH ALIAS P S BAWA"
                    ],
                    [
                      "NOTA",
                      "NOTA"
                    ],
                    [
                      "BSP",
                      "ASHOK KUMAR GAUTAM"
                    ],
                    [
                      "IND",
                      "SHWETA"
                    ],
                    [
                      "IND",
                      "RAJIV KUMAR BABBAR"
                    ],
                    [
                      "BJP",
                      "ASHISH SOOD"
                    ],
                    [
                      "AAP",
                      "PARVEEN KUMAR"
                    ],
                    [
                      "INC",
                      "HARBANI KAUR"
                    ],
                    [
                      "NOTA",
                      "NOTA"
                    ],
                    [
                      "BSP",
                      "RAVI PARTAP RAO"
                    ],
                    [
                      "IND",
                      "PRAVEEN KUMAR"
                    ],
                    [
                      "IND",
                      "PRAVEEN KUMAR"
                    ],
                    [
                      "IND",
                      "ALTAF AHMAD"
                    ],
                    [
                      "Other",
                      "MOHD OJER"
                    ],
                    [
                      "NCP",
                      "MD NAVEEN"
                    ],
                    [
                      "AJSP",
                      "CHAMAN LAL VERMA"
                    ],
                    [
                      "SBSP",
                      "DHARAM VEER"
                    ],
                    [
                      "IND",
                      "TARUN KUMAR SHARMA"
                    ],
                    [
                      "IND",
                      "ASHISH SOOD"
                    ],
                    [
                      "Other",
                      "KASHMIR CHAND"
                    ],
                    [
                      "Other",
                      "NIZAMUDDIN KHAN"
                    ],
                    [
                      "Other",
                      "RAJ KUMAR"
                    ],
                    [
                      "BJP",
                      "PANKAJ KUMAR SINGH"
                    ],
                    [
                      "AAP",
                      "MAHINDER YADAV"
                    ],
                    [
                      "INC",
                      "JITENDER SOLANKI"
                    ],
                    [
                      "BSP",
                      "KRISHNA THAKUR"
                    ],
                    [
                      "NOTA",
                      "NOTA"
                    ],
                    [
                      "CPI",
                      "SHEJO VARGHESE"
                    ],
                    [
                      "ASP(KR)",
                      "UMESH CHAUHAN"
                    ],
                    [
                      "Other",
                      "SHARDA DIXIT"
                    ],
                    [
                      "IND",
                      "HIRA LAL SAH"
                    ],
                    [
                      "Other",
                      "LALA RAM"
                    ],
                    [
                      "IND",
                      "AMAN SAINI"
                    ],
                    [
                      "RMP",
                      "RANJEET KUMAR"
                    ],
                    [
                      "RJP(S)",
                      "PREM PAL SINGH"
                    ],
                    [
                      "Other",
                      "RAJU RICHARIYA"
                    ],
                    [
                      "BJP",
                      "PAWAN SHARMA"
                    ],
                    [
                      "AAP",
                      "POSH BALYAN"
                    ],
                    [
                      "INC",
                      "MUKESH SHARMA"
                    ],
                    [
                      "NOTA",
                      "NOTA"
                    ],
                    [
                      "BSP",
                      "MANI RAM"
                    ],
                    [
                      "IND",
                      "DINESH KUMAR SAH"
                    ],
                    [
                      "IND",
                      "JOURNALIST RAMESH KUMAR JAIN @ NIRBHIK"
                    ],
                    [
                      "YBRP",
                      "DUSHYANT THAKUR"
                    ],
                    [
                      "Other",
                      "SHYAM BABU"
                    ],
                    [
                      "Other",
                      "RAJIV BHRIGUKUMAR"
                    ],
                    [
                      "BJP",
                      "PARDUYMN SINGH RAJPUT"
                    ],
                    [
                      "AAP",
                      "VINAY MISHRA"
                    ],
                    [
                      "INC",
                      "ADARSH SHASTRI"
                    ],
                    [
                      "NOTA",
                      "NOTA"
                    ],
                    [
                      "BSP",
                      "PARDEEP KUMAR"
                    ],
                    [
                      "RMP",
                      "RAMESHWAR MAHTO"
                    ],
                    [
                      "IND",
                      "ASHOK JINDAL"
                    ],
                    [
                      "SBSP",
                      "ARAVENDRA KUMAR"
                    ],
                    [
                      "NYP",
                      "RAJNEESH KUMAR JHA"
                    ],
                    [
                      "IND",
                      "GAUTAM SINGH BIHARI"
                    ],
                    [
                      "Other",
                      "MEHAR CHARAN"
                    ],
                    [
                      "Other",
                      "RAVI RATHORE"
                    ],
                    [
                      "Other",
                      "G. THULASEEDHARAN"
                    ],
                    [
                      "RRP",
                      "YOGESH SWAMI"
                    ],
                    [
                      "BJP",
                      "SANDEEP SEHRAWAT"
                    ],
                    [
                      "AAP",
                      "SUMESH SHOKEEN"
                    ],
                    [
                      "INC",
                      "RAGHVINDER SINGH"
                    ],
                    [
                      "NOTA",
                      "NOTA"
                    ],
                    [
                      "BSP",
                      "KAMLESH KUMAR"
                    ],
                    [
                      "IND",
                      "YOGESH KUMAR"
                    ],
                    [
                      "IND",
                      "PUNAM PANDEY"
                    ],
                    [
                      "RJP(S)",
                      "ARVIND KUMAR PANDEY"
                    ],
                    [
                      "IND",
                      "RAJNI SHARMA"
                    ],
                    [
                      "Other",
                      "PRABHAT KUMAR"
                    ],
                    [
                      "SBSP",
                      "VINOD KUMAR CHAUHAN"
                    ],
                    [
                      "RRP",
                      "YOGESH KUMAR SHARMA"
                    ],
                    [
                      "Other",
                      "MOHINDER SINGH"
                    ],
                    [
                      "NYP",
                      "NIRAJ KUMAR"
                    ],
                    [
                      "BJP",
                      "NEELAM PAHALWAN"
                    ],
                    [
                      "AAP",
                      "TARUN KUMAR"
                    ],
                    [
                      "INC",
                      "SUSHMA DEVI YADAV"
                    ],
                    [
                      "NOTA",
                      "NOTA"
                    ],
                    [
                      "BSP",
                      "ROHIT"
                    ],
                    [
                      "IND",
                      "MANGE RAM SANGWAN"
                    ],
                    [
                      "Other",
                      "JALANDHAR PANDIT"
                    ],
                    [
                      "IND",
                      "MANOJ KUMAR"
                    ],
                    [
                      "PPI(D)",
                      "BHARAT SINGH"
                    ],
                    [
                      "RRP",
                      "RAHUL KUMAR"
                    ],
                    [
                      "BJP",
                      "KAILASH GAHLOT"
                    ],
                    [
                      "AAP",
                      "SURENDER BHARDWAJ"
                    ],
                    [
                      "INC",
                      "COL DEVINDER KUMAR SEHRAWAT"
                    ],
                    [
                      "NOTA",
                      "NOTA"
                    ],
                    [
                      "BSP",
                      "KAMAL SINGH"
                    ],
                    [
                      "IND",
                      "MONIS KURESHI"
                    ],
                    [
                      "IND",
                      "NISHANT SEHRAWAT"
                    ],
                    [
                      "Other",
                      "PUNAM PANDEY"
                    ],
                    [
                      "IND",
                      "AMRINA"
                    ],
                    [
                      "Other",
                      "NARENDER SINGH"
                    ],
                    [
                      "IND",
                      "SOM DUTT SHARMA"
                    ],
                    [
                      "Other",
                      "NAVEEN KUMAR"
                    ],
                    [
                      "Other",
                      "LALITA TRIVEDI"
                    ],
                    [
                      "BJP",
                      "KULDEEP SOLANKI"
                    ],
                    [
                      "AAP",
                      "JOGINDER SOLANKI"
                    ],
                    [
                      "INC",
                      "MANGE RAM"
                    ],
                    [
                      "NOTA",
                      "NOTA"
                    ],
                    [
                      "BSP",
                      "GEETA"
                    ],
                    [
                      "CPI",
                      "DILIP KUMAR"
                    ],
                    [
                      "IND",
                      "PRASHANT CHAUHAN"
                    ],
                    [
                      "PPI(D)",
                      "MANU GAUTAM"
                    ],
                    [
                      "AAP",
                      "VIRENDER SINGH KADIAN"
                    ],
                    [
                      "BJP",
                      "BHUVAN TANWAR"
                    ],
                    [
                      "INC",
                      "PRADEEP KUMAR UPMANYU"
                    ],
                    [
                      "NOTA",
                      "NOTA"
                    ],
                    [
                      "BSP",
                      "NAMIT KUMAR GAUTAM"
                    ],
                    [
                      "IND",
                      "ASHOK AGYANI"
                    ],
                    [
                      "PPI(D)",
                      "SURENDER KUMAR"
                    ],
                    [
                      "BSKP",
                      "SACHIN"
                    ],
                    [
                      "BJP",
                      "UMANG BAJAJ"
                    ],
                    [
                      "AAP",
                      "DURGESH PATHAK"
                    ],
                    [
                      "INC",
                      "VINEET YADAV"
                    ],
                    [
                      "NOTA",
                      "NOTA"
                    ],
                    [
                      "ASP(KR)",
                      "PRAVEEN KUMAR BHARTI"
                    ],
                    [
                      "BSP",
                      "SHIV PRASAD VERMA"
                    ],
                    [
                      "IND",
                      "UMANG"
                    ],
                    [
                      "Other",
                      "PANKAJ JAGYA"
                    ],
                    [
                      "BJP",
                      "PARVESH SAHIB SINGH"
                    ],
                    [
                      "AAP",
                      "ARVIND KEJRIWAL"
                    ],
                    [
                      "INC",
                      "SANDEEP DIKSHIT"
                    ],
                    [
                      "NOTA",
                      "NOTA"
                    ],
                    [
                      "BSP",
                      "VIRENDER"
                    ],
                    [
                      "Other",
                      "DR. MUNISH KUMAR RAIZADA"
                    ],
                    [
                      "IND",
                      "ANURADHA RANA"
                    ],
                    [
                      "IND",
                      "ANITA"
                    ],
                    [
                      "Other",
                      "SANTOSH RAI"
                    ],
                    [
                      "Other",
                      "DUGGIRALA NAGESWARA RAO"
                    ],
                    [
                      "AAP(P)",
                      "NARESH KUMAR"
                    ],
                    [
                      "IND",
                      "DR. ABHILASHA"
                    ],
                    [
                      "RRP",
                      "SANTOSH KUMAR"
                    ],
                    [
                      "Other",
                      "JAGDEESH PRASAD"
                    ],
                    [
                      "Other",
                      "ARUN KUMAR SHARMA"
                    ],
                    [
                      "IND",
                      "SANJAY RAWAT"
                    ],
                    [
                      "Other",
                      "RAVINDER SINGH RAWAT"
                    ],
                    [
                      "IND",
                      "BHAWANA"
                    ],
                    [
                      "IND",
                      "PANKAJ SHARMA"
                    ],
                    [
                      "IND",
                      "HAIDER ALI"
                    ],
                    [
                      "RMP",
                      "NITYA NAND SINGH"
                    ],
                    [
                      "Other",
                      "MUKESH JAIN"
                    ],
                    [
                      "Other",
                      "SANGHA NAND BAUDDH"
                    ],
                    [
                      "Other",
                      "ISHWAR CHAND"
                    ],
                    [
                      "BJP",
                      "TARVINDER SINGH MARWAH"
                    ],
                    [
                      "AAP",
                      "MANISH SISODIA"
                    ],
                    [
                      "INC",
                      "FARHAD SURI"
                    ],
                    [
                      "NOTA",
                      "NOTA"
                    ],
                    [
                      "IND",
                      "ASHOK BAMBANI"
                    ],
                    [
                      "BSP",
                      "RAVINDRA SINGH RAVIYODAYA"
                    ],
                    [
                      "Other",
                      "BIJENDER"
                    ],
                    [
                      "IND",
                      "SUNIL KUMAR KUKREJA"
                    ],
                    [
                      "Other",
                      "RAKESH SAGAR"
                    ],
                    [
                      "BRP",
                      "ANIL KUMAR"
                    ],
                    [
                      "BJP",
                      "NEERAJ BASOYA"
                    ],
                    [
                      "INC",
                      "ABHISHEK DUTT"
                    ],
                    [
                      "AAP",
                      "RAMESH PAHELWAN"
                    ],
                    [
                      "NOTA",
                      "NOTA"
                    ],
                    [
                      "IND",
                      "PARTEEK GUPTA"
                    ],
                    [
                      "BSP",
                      "MAHESH KUMAR"
                    ],
                    [
                      "BJP",
                      "SATISH UPADHYAY"
                    ],
                    [
                      "AAP",
                      "SOMNATH BHARTI"
                    ],
                    [
                      "INC",
                      "JITENDER KUMAR KOCHAR"
                    ],
                    [
                      "NOTA",
                      "NOTA"
                    ],
                    [
                      "BSP",
                      "CHARANJEET KAUR"
                    ],
                    [
                      "IND",
                      "MEGHNAD S."
                    ],
                    [
                      "YBRP",
                      "DR. BHUPENDRA CHAURASIYA"
                    ],
                    [
                      "Other",
                      "BHAVISH DHANKAR"
                    ],
                    [
                      "BJP",
                      "ANIL KUMAR SHARMA"
                    ],
                    [
                      "AAP",
                      "PRAMILA TOKAS"
                    ],
                    [
                      "INC",
                      "VISHESH KUMAR"
                    ],
                    [
                      "NOTA",
                      "NOTA"
                    ],
                    [
                      "BSP",
                      "SUNIL KAIN"
                    ],
                    [
                      "IND",
                      "RAMESH ADVOCATE"
                    ],
                    [
                      "YBRP",
                      "NEERAJ CHOURASIYA"
                    ],
                    [
                      "IND",
                      "PERMILA"
                    ],
                    [
                      "Other",
                      "LOKESH KUMAR MASTERJI"
                    ],
                    [
                      "IND",
                      "RAI SINGH"
                    ],
                    [
                      "IND",
                      "KULDEEP SINGH AHLAWAT"
                    ],
                    [
                      "PPI(D)",
                      "VIJAY KUMAR"
                    ],
                    [
                      "RMP",
                      "SARAVANAN"
                    ],
                    [
                      "Other",
                      "ABHA JHA"
                    ],
                    [
                      "BJP",
                      "GAJENDER SINGH YADAV"
                    ],
                    [
                      "AAP",
                      "MAHENDER CHAUDHARY"
                    ],
                    [
                      "IND",
                      "BALYOGI BABA BALAKNATH"
                    ],
                    [
                      "INC",
                      "PUSHPA SINGH"
                    ],
                    [
                      "NOTA",
                      "NOTA"
                    ],
                    [
                      "BSP",
                      "YOGESHWAR SINGH BISHT"
                    ],
                    [
                      "Other",
                      "MAHAVIR SINGH"
                    ],
                    [
                      "RRP",
                      "SHARDA SINGH"
                    ],
                    [
                      "PPI(D)",
                      "VIJAY LAL TAMTA"
                    ],
                    [
                      "BJP",
                      "KARTAR SINGH TANWAR"
                    ],
                    [
                      "AAP",
                      "BRAHM SINGH TANWAR"
                    ],
                    [
                      "INC",
                      "RAJENDER SINGH TANWAR"
                    ],
                    [
                      "NOTA",
                      "NOTA"
                    ],
                    [
                      "BSP",
                      "BRIJ LAL"
                    ],
                    [
                      "AAP(P)",
                      "DINESH TANWAR"
                    ],
                    [
                      "IND",
                      "DHARMENDER"
                    ],
                    [
                      "IND",
                      "SANJAY NEGI"
                    ],
                    [
                      "ASP(KR)",
                      "ISLAM ALI"
                    ],
                    [
                      "NCP",
                      "NARENDER"
                    ],
                    [
                      "IND",
                      "DAYA RAM GURJAR"
                    ],
                    [
                      "Other",
                      "RICHA KUMARI"
                    ],
                    [
                      "AAP",
                      "PREM CHAUHAN"
                    ],
                    [
                      "Other",
                      "DEEPAK TANWAR"
                    ],
                    [
                      "INC",
                      "RAJESH CHAUHAN"
                    ],
                    [
                      "BSP",
                      "ASMITA"
                    ],
                    [
                      "BRP",
                      "RAJA RAM"
                    ],
                    [
                      "NOTA",
                      "NOTA"
                    ],
                    [
                      "Other",
                      "BACHAN RAM"
                    ],
                    [
                      "Other",
                      "DEVIKA"
                    ],
                    [
                      "AAP",
                      "DR. AJAY DUTT"
                    ],
                    [
                      "BJP",
                      "KHUSHI RAM CHUNAR"
                    ],
                    [
                      "INC",
                      "JAI PRAKASH"
                    ],
                    [
                      "NOTA",
                      "NOTA"
                    ],
                    [
                      "BSP",
                      "SEWA DASS"
                    ],
                    [
                      "Other",
                      "ARUN"
                    ],
                    [
                      "ASP(KR)",
                      "DARSAN SINGH"
                    ],
                    [
                      "IND",
                      "ASHOK KUMAR"
                    ],
                    [
                      "BRP",
                      "RAJIV KUMAR"
                    ],
                    [
                      "RRP",
                      "GULSHAN BHARTI"
                    ],
                    [
                      "BJP",
                      "CHANDAN KUMAR CHOUDHARY"
                    ],
                    [
                      "AAP",
                      "DINESH MOHANIYA"
                    ],
                    [
                      "INC",
                      "HARSH CHOUDHARY"
                    ],
                    [
                      "BSP",
                      "MOHD ZAKIULLAH"
                    ],
                    [
                      "NOTA",
                      "NOTA"
                    ],
                    [
                      "IND",
                      "JAGDISH KUMAR VERMA"
                    ],
                    [
                      "Other",
                      "SUDHIR NEGI"
                    ],
                    [
                      "IND",
                      "MAHENDER KUMAR"
                    ],
                    [
                      "ASP(KR)",
                      "SIRAJUDDIN"
                    ],
                    [
                      "NCP",
                      "QAMAR ALI"
                    ],
                    [
                      "Other",
                      "RAVINDER SINGH"
                    ],
                    [
                      "IND",
                      "SATPAL"
                    ],
                    [
                      "BJP",
                      "SHIKHA ROY"
                    ],
                    [
                      "AAP",
                      "SAURABH BHARADWAJ"
                    ],
                    [
                      "INC",
                      "GARVIT SINGHVI"
                    ],
                    [
                      "NOTA",
                      "NOTA"
                    ],
                    [
                      "BSP",
                      "NIYATI CHOUDHARY"
                    ],
                    [
                      "BRP",
                      "SATISH KUMAR GULLIYA"
                    ],
                    [
                      "Other",
                      "RAMESH JAGANNATH SHAH"
                    ],
                    [
                      "AAP",
                      "ATISHI"
                    ],
                    [
                      "BJP",
                      "RAMESH BIDHURI"
                    ],
                    [
                      "INC",
                      "ALKA LAMBA"
                    ],
                    [
                      "NOTA",
                      "NOTA"
                    ],
                    [
                      "BSP",
                      "PRITAM SINGH"
                    ],
                    [
                      "BRP",
                      "TANYA SINGH"
                    ],
                    [
                      "Other",
                      "DEEPAK KAPILA"
                    ],
                    [
                      "IND",
                      "SANJAY"
                    ],
                    [
                      "AJP(I)",
                      "RAJAN SINGH"
                    ],
                    [
                      "IND",
                      "PARVEEN CHOUDHRY"
                    ],
                    [
                      "IND",
                      "RAVI"
                    ],
                    [
                      "IND",
                      "IQBAL AHMED SIDDIQUI"
                    ],
                    [
                      "Other",
                      "SANGH MITRA"
                    ],
                    [
                      "Other",
                      "RAJESH KUMAR"
                    ],
                    [
                      "AAP",
                      "SAHI RAM"
                    ],
                    [
                      "BJP",
                      "ROHTASH KUMAR"
                    ],
                    [
                      "INC",
                      "VIRENDER SINGH"
                    ],
                    [
                      "BSP",
                      "AMJAD HASAN"
                    ],
                    [
                      "NOTA",
                      "NOTA"
                    ],
                    [
                      "Other",
                      "PARVEEN CHAUHAN"
                    ],
                    [
                      "RRP",
                      "NARESH KUMAR"
                    ],
                    [
                      "IND",
                      "REKHA SINGH"
                    ],
                    [
                      "Other",
                      "KHURSHEED ABBAS ZAIDI"
                    ],
                    [
                      "PPI(D)",
                      "CHAMAN LAL"
                    ],
                    [
                      "AAP",
                      "RAM SINGH NETAJI"
                    ],
                    [
                      "BJP",
                      "NARAYAN DUTT SHARMA"
                    ],
                    [
                      "INC",
                      "ARJUN SINGH BHADANA"
                    ],
                    [
                      "BSP",
                      "PARDEEP"
                    ],
                    [
                      "NOTA",
                      "NOTA"
                    ],
                    [
                      "Other",
                      "RAHUL RAI"
                    ],
                    [
                      "CPI(M)",
                      "JAGDISH CHAND"
                    ],
                    [
                      "NCP",
                      "IMRAN SAIFI"
                    ],
                    [
                      "IND",
                      "DEEPAK RAWAT"
                    ],
                    [
                      "Other",
                      "HARI RAM"
                    ],
                    [
                      "IND",
                      "OM PRAKASH GUPTA"
                    ],
                    [
                      "Other",
                      "RAM BAHADUR"
                    ],
                    [
                      "BSKP",
                      "BRIJPAL"
                    ],
                    [
                      "AAP",
                      "AMANATULLAH KHAN"
                    ],
                    [
                      "BJP",
                      "MANISH CHAUDHARY"
                    ],
                    [
                      "AIMIM",
                      "SHIFA UR REHMAN KHAN"
                    ],
                    [
                      "INC",
                      "ARIBA KHAN"
                    ],
                    [
                      "BSP",
                      "SATISH KUMAR"
                    ],
                    [
                      "NOTA",
                      "NOTA"
                    ],
                    [
                      "Other",
                      "SHER MOHAMMAD"
                    ],
                    [
                      "IND",
                      "SHEIKH ARSALAN ULLAH CHISHTI"
                    ],
                    [
                      "CPI",
                      "MD INJAMAMUL HASSAN"
                    ],
                    [
                      "Other",
                      "RIZWANA KHATOON"
                    ],
                    [
                      "IND",
                      "HAMMAD KHAN"
                    ],
                    [
                      "Other",
                      "FIRDOS ALAM"
                    ],
                    [
                      "Other",
                      "KANEEZ FATIMA"
                    ],
                    [
                      "RRP",
                      "MOHD ISLAM"
                    ],
                    [
                      "Other",
                      "JAMALUDDIN"
                    ],
                    [
                      "BJP",
                      "RAVI KANT"
                    ],
                    [
                      "AAP",
                      "ANJANA PARCHA"
                    ],
                    [
                      "INC",
                      "AMARDEEP"
                    ],
                    [
                      "ASP(KR)",
                      "VICKY"
                    ],
                    [
                      "BSP",
                      "NAND LAL"
                    ],
                    [
                      "NOTA",
                      "NOTA"
                    ],
                    [
                      "IND",
                      "NAVEEN RAM"
                    ],
                    [
                      "ABSP",
                      "SARITA SINGH"
                    ],
                    [
                      "AAP",
                      "KULDEEP KUMAR (MONU)"
                    ],
                    [
                      "BJP",
                      "PRIYANKA GAUTAM"
                    ],
                    [
                      "INC",
                      "AKSHAY KUMAR"
                    ],
                    [
                      "BSP",
                      "MUKESH KUMAR"
                    ],
                    [
                      "NOTA",
                      "NOTA"
                    ],
                    [
                      "ASP(KR)",
                      "SUNNY KUMAR"
                    ],
                    [
                      "Other",
                      "ASHA KAMBLE"
                    ],
                    [
                      "Other",
                      "SURENDER SINGH"
                    ],
                    [
                      "RRP",
                      "NIKHIL KUMAR PIPAL"
                    ],
                    [
                      "CPI(ML)L",
                      "AMARJEET PRASAD"
                    ],
                    [
                      "BJP",
                      "Ravinder Singh Negi (Ravi Negi)"
                    ],
                    [
                      "AAP",
                      "AVADH OJHA"
                    ],
                    [
                      "INC",
                      "ANIL KUMAR"
                    ],
                    [
                      "BSP",
                      "OM SHANKAR PANDEY"
                    ],
                    [
                      "NOTA",
                      "NOTA"
                    ],
                    [
                      "Other",
                      "PRAKASH CHANDRA JOSHI"
                    ],
                    [
                      "Other",
                      "GOPAL PRASAD"
                    ],
                    [
                      "IND",
                      "DIBLU SINGH"
                    ],
                    [
                      "IND",
                      "JAGDISH  OJHA"
                    ],
                    [
                      "Other",
                      "DEEPA DEVI"
                    ],
                    [
                      "BJP",
                      "ABHAY VERMA"
                    ],
                    [
                      "AAP",
                      "B B TYAGI"
                    ],
                    [
                      "INC",
                      "SUMIT SHARMA"
                    ],
                    [
                      "NOTA",
                      "NOTA"
                    ],
                    [
                      "BSP",
                      "MOHD WAQAR CHOUDHARY"
                    ],
                    [
                      "ASP(KR)",
                      "GANDHI GAUTAM"
                    ],
                    [
                      "Other",
                      "VIKAS"
                    ],
                    [
                      "Other",
                      "DEEPAK PANDEY"
                    ],
                    [
                      "IND",
                      "JAGDISH KUMAR GARG"
                    ],
                    [
                      "IND",
                      "VIMAL KUMAR SAXENA"
                    ],
                    [
                      "NCP",
                      "NAMAHA"
                    ],
                    [
                      "IND",
                      "ANURAG KUMAR"
                    ],
                    [
                      "PPI(D)",
                      "KUSUM LATA"
                    ],
                    [
                      "RRP",
                      "ANIMA OJHA"
                    ],
                    [
                      "Other",
                      "DANVEER VIDYALANKAR"
                    ],
                    [
                      "Other",
                      "ISMAIL"
                    ],
                    [
                      "BJP",
                      "OM PRAKASH SHARMA"
                    ],
                    [
                      "AAP",
                      "DEEPAK SINGHAL"
                    ],
                    [
                      "INC",
                      "RAJIV CHAUDHARY"
                    ],
                    [
                      "NOTA",
                      "NOTA"
                    ],
                    [
                      "BSP",
                      "RAJESH KUMAR YADAV"
                    ],
                    [
                      "Other",
                      "BHAWANA BOTHRA"
                    ],
                    [
                      "JMBP",
                      "GURMEET SINGH"
                    ],
                    [
                      "AAPP",
                      "PARAG JAIN"
                    ],
                    [
                      "Other",
                      "DEEPAK KUMAR"
                    ],
                    [
                      "PPI(D)",
                      "NEELAM SINGH"
                    ],
                    [
                      "NYP",
                      "ANIL KUMAR"
                    ],
                    [
                      "BJP",
                      "DR ANIL GOYAL"
                    ],
                    [
                      "AAP",
                      "VIKAS BAGGA CA"
                    ],
                    [
                      "INC",
                      "GURCHARAN SINGH (RAJU)"
                    ],
                    [
                      "NOTA",
                      "NOTA"
                    ],
                    [
                      "BSP",
                      "AMAR SINGH"
                    ],
                    [
                      "IND",
                      "VINOD KAPOOR"
                    ],
                    [
                      "NYP",
                      "POONAM MAINI"
                    ],
                    [
                      "Other",
                      "VIDHAYAK VIRENDRA PRADHAN GURJAR"
                    ],
                    [
                      "BJP",
                      "ARVINDER SINGH LOVELY"
                    ],
                    [
                      "AAP",
                      "NAVEEN CHAUDHARY (DEEPU)"
                    ],
                    [
                      "INC",
                      "KAMAL ARORA (DABBU)"
                    ],
                    [
                      "NOTA",
                      "NOTA"
                    ],
                    [
                      "BSP",
                      "TIKRAJ SINGH"
                    ],
                    [
                      "Other",
                      "PAWAN CHOUDHRY"
                    ],
                    [
                      "IND",
                      "GULFAM"
                    ],
                    [
                      "BJP",
                      "SANJAY GOYAL"
                    ],
                    [
                      "AAP",
                      "JITENDER SINGH SHUNTY"
                    ],
                    [
                      "INC",
                      "JAGAT SINGH"
                    ],
                    [
                      "BSP",
                      "DHARMINDRA KUMAR KAIM"
                    ],
                    [
                      "IND",
                      "VINAY CHAUDHARI"
                    ],
                    [
                      "NOTA",
                      "NOTA"
                    ],
                    [
                      "AAPP",
                      "NITIN GARG"
                    ],
                    [
                      "NYP",
                      "KAMAL KISHORE"
                    ],
                    [
                      "IND",
                      "ASHOK SURANA"
                    ],
                    [
                      "NCP",
                      "RAJENDRA KUMAR PAL"
                    ],
                    [
                      "IND",
                      "DILIP BANERJEE"
                    ],
                    [
                      "AAP",
                      "VEER SINGH DHINGAN"
                    ],
                    [
                      "BJP",
                      "KU. RINKU"
                    ],
                    [
                      "INC",
                      "RAJESH LILOTHIA"
                    ],
                    [
                      "BSP",
                      "MANOJ"
                    ],
                    [
                      "ASP(KR)",
                      "ANIL KUMAR"
                    ],
                    [
                      "NOTA",
                      "NOTA"
                    ],
                    [
                      "PPI(D)",
                      "AJAY KUMAR"
                    ],
                    [
                      "Other",
                      "SAROJ BALA"
                    ],
                    [
                      "IND",
                      "ASHISH KUMAR"
                    ],
                    [
                      "NCP",
                      "RAJESH KUMAR LOHIYA"
                    ],
                    [
                      "RRP",
                      "CHARAN SINGH MALIYAN"
                    ],
                    [
                      "Other",
                      "RAJESH"
                    ],
                    [
                      "BJP",
                      "JITENDER MAHAJAN"
                    ],
                    [
                      "AAP",
                      "SARITA SINGH"
                    ],
                    [
                      "INC",
                      "SURESHVATI"
                    ],
                    [
                      "BSP",
                      "ASHOK KUMAR"
                    ],
                    [
                      "NOTA",
                      "NOTA"
                    ],
                    [
                      "IND",
                      "VIKAS TYAGI"
                    ],
                    [
                      "ASP(KR)",
                      "SURENDER SINGH VISHWAKARMA"
                    ],
                    [
                      "NCP",
                      "ABHISHEK"
                    ],
                    [
                      "IND",
                      "SURESH PAL JAINTH"
                    ],
                    [
                      "Other",
                      "NASEEM USMAN"
                    ],
                    [
                      "Other",
                      "PANKAJ GUPTA"
                    ],
                    [
                      "Other",
                      "AKESHAN DUT"
                    ],
                    [
                      "IND",
                      "NITIN MITTAL"
                    ],
                    [
                      "Other",
                      "AMIT KUMAR SHARMA"
                    ],
                    [
                      "Other",
                      "SANJEEV KUMAR"
                    ],
                    [
                      "BRP",
                      "SUBHASH CHAND GUPTA"
                    ],
                    [
                      "AAP",
                      "CHAUDHARY ZUBAIR AHMAD"
                    ],
                    [
                      "BJP",
                      "ANIL KUMAR SHARMA (GAUR)"
                    ],
                    [
                      "INC",
                      "ABDUL REHMAN"
                    ],
                    [
                      "BSP",
                      "DEEPAK KUMAR"
                    ],
                    [
                      "NOTA",
                      "NOTA"
                    ],
                    [
                      "Other",
                      "SHABANA"
                    ],
                    [
                      "Other",
                      "MOHD NAZIR"
                    ],
                    [
                      "IND",
                      "MOHD SHAFI"
                    ],
                    [
                      "Other",
                      "SUMAN SHARMA"
                    ],
                    [
                      "IND",
                      "SYED MUNEEB"
                    ],
                    [
                      "IND",
                      "RAHISUDDIN AHMAD"
                    ],
                    [
                      "IND",
                      "MOHD ZUBAIR MALIK"
                    ],
                    [
                      "IND",
                      "S. M. AQIF"
                    ],
                    [
                      "IND",
                      "ISLAUDDIN"
                    ],
                    [
                      "BJP",
                      "AJAY MAHAWAR"
                    ],
                    [
                      "AAP",
                      "GAURAV SHARMA"
                    ],
                    [
                      "INC",
                      "BHISHAM SHARMA"
                    ],
                    [
                      "NOTA",
                      "NOTA"
                    ],
                    [
                      "BSP",
                      "SUNDER LOHIYA"
                    ],
                    [
                      "IND",
                      "GAURAV SHARMA"
                    ],
                    [
                      "YBRP",
                      "BABITA"
                    ],
                    [
                      "RRP",
                      "SHUBHAM"
                    ],
                    [
                      "Other",
                      "ANIL SINGH"
                    ],
                    [
                      "NCP",
                      "ADVOCATE MEHAK DOGRA"
                    ],
                    [
                      "AAP",
                      "GOPAL RAI"
                    ],
                    [
                      "BJP",
                      "ANIL KUMAR VASHISHT"
                    ],
                    [
                      "INC",
                      "MOHD ISHRAQ KHAN"
                    ],
                    [
                      "NOTA",
                      "NOTA"
                    ],
                    [
                      "Other",
                      "MD NAZIR"
                    ],
                    [
                      "IND",
                      "MOHAMMAD ABDULLAH ANSARI"
                    ],
                    [
                      "Other",
                      "BHUPENDER YADAV"
                    ],
                    [
                      "Other",
                      "SHIV KUMAR(KAKE)"
                    ],
                    [
                      "ABSP",
                      "MANOJ KUMAR"
                    ],
                    [
                      "AAP",
                      "SURENDRA KUMAR"
                    ],
                    [
                      "BJP",
                      "PRAVEEN NIMESH"
                    ],
                    [
                      "INC",
                      "ISHWAR SINGH"
                    ],
                    [
                      "ASP(KR)",
                      "ARVIND KUMAR"
                    ],
                    [
                      "BSP",
                      "LAL SINGH"
                    ],
                    [
                      "NOTA",
                      "NOTA"
                    ],
                    [
                      "Other",
                      "ATUL KUMAR"
                    ],
                    [
                      "PPI(D)",
                      "DHARAMVIR SINGH"
                    ],
                    [
                      "Other",
                      "BIR SAIN"
                    ],
                    [
                      "IND",
                      "SURESHPAL JAINTH"
                    ],
                    [
                      "Other",
                      "MANJEET SINGH"
                    ],
                    [
                      "RRP",
                      "CHARAN SINGH MALIYAN"
                    ],
                    [
                      "NCP",
                      "JAGDISH"
                    ],
                    [
                      "BJP",
                      "MOHAN SINGH BISHT"
                    ],
                    [
                      "AAP",
                      "ADEEL AHMAD KHAN"
                    ],
                    [
                      "AIMIM",
                      "MOHD. TAHIR HUSSAIN"
                    ],
                    [
                      "INC",
                      "ALI MEHDI"
                    ],
                    [
                      "BSP",
                      "ASHOK KUMAR"
                    ],
                    [
                      "NOTA",
                      "NOTA"
                    ],
                    [
                      "Other",
                      "DHARAM PAL"
                    ],
                    [
                      "BSKP",
                      "ASHA CHAUDHARY"
                    ],
                    [
                      "PP",
                      "SAGAR TANHA"
                    ],
                    [
                      "PPI(D)",
                      "VISHAL"
                    ],
                    [
                      "Other",
                      "MOHD USMAN BAKHSH"
                    ],
                    [
                      "IND",
                      "JITENDER KUMAR"
                    ],
                    [
                      "Other",
                      "NASIRUDDIN GAURI"
                    ],
                    [
                      "BJP",
                      "KAPIL MISHRA"
                    ],
                    [
                      "AAP",
                      "MANOJ KUMAR TYAGI"
                    ],
                    [
                      "INC",
                      "DR. P.K. MISHRA"
                    ],
                    [
                      "BSP",
                      "DEVENDRA BHAIYA"
                    ],
                    [
                      "IND",
                      "AJAY SINGH NEGI"
                    ],
                    [
                      "NOTA",
                      "NOTA"
                    ],
                    [
                      "Other",
                      "H.M. HASHIM MALIK"
                    ],
                    [
                      "CPI(M)",
                      "ASHOK AGARWAL"
                    ],
                    [
                      "Other",
                      "PRAKASH CHAND"
                    ],
                    [
                      "IND",
                      "YOGESH SWAMY"
                    ],
                    [
                      "IND",
                      "VISHAL SHARMA"
                    ],
                    [
                      "NCP",
                      "SANJAY MISHRA (SITARAM)"
                    ],
                    [
                      "PPI(D)",
                      "SEEMA"
                    ],
                    [
                      "NIUP",
                      "NEERAJ"
                    ],
                    [
                      "BSKP",
                      "YOGENDER"
                    ],
                    [
                      "ABSP",
                      "SANDHIYA TIWARI"
                    ]
                  ],
                  "hovertemplate": "%{y}<br>%{customdata[1]}<br>%{customdata[0]} %{x} votes",
                  "hovertext": [
                    "('BJP', 'RAJ KARAN KHATRI')",
                    "('AAP', 'SHARAD KUMAR')",
                    "('INC', 'ARUNA')",
                    "('NOTA', 'NOTA')",
                    "('CPI(ML)L', 'ANIL KUMAR SINGH')",
                    "('IND', 'VIKAS BHARDWAJ')",
                    "('ASP(KR)', 'MD KHALID')",
                    "('IND', 'BUDIYA')",
                    "('AAP', 'SANJEEV JHA')",
                    "('JD(U)', 'SHAILENDRA KUMAR')",
                    "('INC', 'MANGESH TYAGI')",
                    "('NCP', 'RATAN TYAGI')",
                    "('NOTA', 'NOTA')",
                    "('BSP', 'GANGA RAM')",
                    "('Other', 'ANIL KAPOOR')",
                    "('AAP(P)', 'SONU KAUSHIK')",
                    "('RJM', 'VIJAY KUMAR JHA')",
                    "('AASP(S)\\t', 'SUNIL KUMAR VYATHIT')",
                    "('RJP(S)', 'ABHISHEK KUMAR SINGH (MASTER JI)')",
                    "('Other', 'GULAB SINGHAL')",
                    "('Other', 'PRAMOD')",
                    "('Other', 'MUKESH PRASAD')",
                    "('RRP', 'DHURVA KUMAR')",
                    "('BJP', 'SURYA PRAKASH KHATRI')",
                    "('AAP', 'SURINDER PAL SINGH (BITTOO)')",
                    "('INC', 'LOKENDRA KALYAN SINGH')",
                    "('BSP', 'SURENDER PAL')",
                    "('NOTA', 'NOTA')",
                    "('Other', 'TARUN KUMAR')",
                    "('Other', 'DEEPAK CHAWLA')",
                    "('PPI(D)', 'RAJKUMAR BHARTI')",
                    "('RJP(S)', 'RAM RAJ SINGH')",
                    "('Other', 'SANGH PRIYA SIDDHARTHA')",
                    "('Other', 'RAKESH RANJAN SHRIVASTAV')",
                    "('Other', 'WASIM AKRAM')",
                    "('Other', 'BIJENDER KUMAR')",
                    "('BJP', 'RAJ KUMAR BHATIA')",
                    "('AAP', 'MUKESH KUMAR GOEL')",
                    "('INC', 'SHIVANK SINGAL')",
                    "('NOTA', 'NOTA')",
                    "('BSP', 'ABDUL ZABBAR')",
                    "('IND', 'RAM NIWAS')",
                    "('CPI', 'SANJEEV KUMAR RANA')",
                    "('IND', 'VIJAY KR. AGGARWAL')",
                    "('IND', 'NEETU SINGH')",
                    "('IND', 'AYUSH GUPTA')",
                    "('Other', 'PRIYA')",
                    "('Other', 'PREM CHAND')",
                    "('PPI(D)', 'SANJAY YADAV ADVOCATE')",
                    "('NYP', 'VISHAL SINGH')",
                    "('Other', 'MD: RAHMAT ALI')",
                    "('BJP', 'AAHIR DEEPAK CHAUDHARYY')",
                    "('AAP', 'AJESH YADAV')",
                    "('INC', 'DEVENDER YADAV')",
                    "('BSP', 'RAVINDER KUMAR')",
                    "('NOTA', 'NOTA')",
                    "('Other', 'PARMOD KUMAR')",
                    "('IND', 'DEVENDER KUMAR YADAV')",
                    "('IND', 'JAI PAL')",
                    "('IND', 'ARUN KUMAR')",
                    "('NCP', 'MULAYAM SINGH')",
                    "('BSKP', 'GOPAL KUMAR SINHA')",
                    "('Other', 'RAJENDER')",
                    "('Other', 'R. C. SHARMA')",
                    "('BJP', 'KULWANT RANA')",
                    "('AAP', 'MOHINDER GOYAL')",
                    "('INC', 'SUSHANT MISHRA')",
                    "('NOTA', 'NOTA')",
                    "('BSP', 'NEYAZ KHAN')",
                    "('YBRP', 'ASHOK JAIN')",
                    "('IND', 'VIDYA PATTI')",
                    "('JMBP', 'NISHTHA')",
                    "('IND', 'VISHAL GUPTA')",
                    "('PPI(D)', 'AYASHA KHATOON')",
                    "('IND', 'AJAY KUMAR SINGH')",
                    "('Other', 'JITANDER SINGH')",
                    "('BJP', 'RAVINDER INDRAJ SINGH')",
                    "('AAP', 'JAI BHAGWAN UPKAR')",
                    "('INC', 'SURENDER KUMAR')",
                    "('BSP', 'HEERA LAL')",
                    "('NOTA', 'NOTA')",
                    "('IND', 'HARI KISHAN MECHANIC')",
                    "('PPI(D)', 'DHEERAJ KUMAR')",
                    "('Other', 'BABITA')",
                    "('BJP', 'GAJENDER DRALL')",
                    "('AAP', 'JASBIR KARALA')",
                    "('INC', 'DHARAMPAL LAKRA')",
                    "('IND', 'RAMBIR SHOKEEN')",
                    "('NOTA', 'NOTA')",
                    "('BSP', 'SUMAN LATA SEHRAWAT')",
                    "('IND', 'SUNITA SHEKHAR CHAWARIYA')",
                    "('NLP', 'SUNIL KUMAR')",
                    "('IND', 'RAJNI')",
                    "('IND', 'ANDEEP DRALL')",
                    "('AIFB', 'MAHAVIR')",
                    "('ABSP', 'YOGENDER SINGH ALIAS YOGI MATHUR')",
                    "('Other', 'SANTOSH')",
                    "('RRP', 'SANJAYA KUMAR YADAV')",
                    "('AAP', 'ANIL JHA')",
                    "('BJP', 'BAJRANG SHUKLA')",
                    "('INC', 'RAJESH KUMAR GUPTA')",
                    "('BSP', 'JUGBIR SINGH')",
                    "('NOTA', 'NOTA')",
                    "('ASP(KR)', 'MALIK NEYAZ AHMAD')",
                    "('IND', 'PRAKASH SRIVASTAV')",
                    "('IND', 'RAKESH')",
                    "('RMP', 'SUDESH SHARMA')",
                    "('PP', 'AFSANA SARWAR')",
                    "('AAP', 'MUKESH KUMAR AHLAWAT')",
                    "('BJP', 'KARAM SINGH KARMA')",
                    "('INC', 'JAI KISHAN')",
                    "('BSP', 'KULWANT RANA')",
                    "('JMBP', 'JITENDER')",
                    "('NOTA', 'NOTA')",
                    "('IND', 'DEEPAK KUMAR')",
                    "('IND', 'RAMSWAROOP SAMRIA')",
                    "('Other', 'KARAN SINGH')",
                    "('BSKP', 'BABU LAL')",
                    "('YBRP', 'PREETI')",
                    "('Other', 'SANGEETA')",
                    "('Other', 'LAXMI')",
                    "('BJP', 'MANOJ KUMAR SHOKEEN')",
                    "('AAP', 'RAGHUVINDER SHOKEEN')",
                    "('INC', 'ROHIT CHOUDHARY')",
                    "('NOTA', 'NOTA')",
                    "('BSP', 'MUKESH KUMAR')",
                    "('Other', 'YATENDER SHARMA')",
                    "('IND', 'DILIP KUMAR SHARMA')",
                    "('PPI(D)', 'RAM SAJIVAN')",
                    "('RMP', 'KANCHAN SHARMA')",
                    "('Other', 'MAHENDER SINGH RATHOR')",
                    "('BJP', 'RAJ KUMAR CHAUHAN')",
                    "('AAP', 'DHARAM RAKSHAK ALIAS RAKESH JATAV')",
                    "('INC', 'HANUMAN SAHAY ALIAS HANUMAN CHAUHAN')",
                    "('NOTA', 'NOTA')",
                    "('BSP', 'MUKESH KUMAR')",
                    "('IND', 'JAI BHAGWAN')",
                    "('Other', 'KHILKHILAKAR')",
                    "('BJP', 'VIJENDER GUPTA')",
                    "('AAP', 'PARDEEP MITTAL')",
                    "('INC', 'SUMESH GUPTA')",
                    "('NOTA', 'NOTA')",
                    "('BSP', 'HARSHAD CHADHA')",
                    "('JMBP', 'ABHISHEK')",
                    "('Other', 'AMIT SAINI')",
                    "('IND', 'RAJBIR')",
                    "('IND', 'NARENDER SINGH PANWAR')",
                    "('BJP', 'REKHA GUPTA')",
                    "('AAP', 'BANDANA KUMARI')",
                    "('INC', 'PARVEEN KUMAR JAIN')",
                    "('NOTA', 'NOTA')",
                    "('BSP', 'SHYAM KUMAR')",
                    "('IND', 'SAURABH GUPTA')",
                    "('IND', 'RINA DEVI')",
                    "('IND', 'RAJESH KUMAR')",
                    "('IND', 'MOHD. USMAN')",
                    "('NIUP', 'RANJEET VERMA')",
                    "('BJP', 'KARNAIL SINGH')",
                    "('AAP', 'SATYENDAR JAIN')",
                    "('INC', 'SATISH KUMAR LUTHRA')",
                    "('NOTA', 'NOTA')",
                    "('BSP', 'VIJAY KUMAR')",
                    "('YBRP', 'TAMANA')",
                    "('Other', 'RAJESH GUPTA')",
                    "('IND', 'JUGAL CHAWLA')",
                    "('BJP', 'TILAK RAM GUPTA')",
                    "('AAP', 'PREETI JITENDER TOMAR')",
                    "('INC', 'SATENDER SHARMA')",
                    "('NOTA', 'NOTA')",
                    "('BSP', 'PAWAN GARG')",
                    "('Other', 'SUBHASH')",
                    "('PPI(D)', 'SURENDRA SINGH BASOYA')",
                    "('BJP', 'POONAM SHARMA')",
                    "('AAP', 'RAJESH GUPTA')",
                    "('INC', 'RAGINI NAYAK')",
                    "('BSP', 'HIRA LAL')",
                    "('NOTA', 'NOTA')",
                    "('IND', 'AAKASH GOEL')",
                    "('CPI', 'DEVENDER KUMAR')",
                    "('IND', 'MUKESH JAIN')",
                    "('RRP', 'MAHESH BANSAL')",
                    "('Other', 'SHEELA DEVI')",
                    "('BJP', 'ASHOK GOEL')",
                    "('AAP', 'AKHILESH PATI TRIPATHI')",
                    "('INC', 'KANWAR KARAN SINGH')",
                    "('NOTA', 'NOTA')",
                    "('BSP', 'CHUNNI LAL')",
                    "('IND', 'ROMAN RASHID')",
                    "('IND', 'CHANDER PAL')",
                    "('AAP(P)', 'VIVEK GIRI')",
                    "('Other', 'PANKAJ KUMAR')",
                    "('RRP', 'AWDHESH KUMAR JHA')",
                    "('AAP', 'SOM DUTT')",
                    "('BJP', 'MANOJ KUMAR JINDAL')",
                    "('INC', 'ANIL BHARDWAJ')",
                    "('BSP', 'SHAIL KUMARI')",
                    "('NOTA', 'NOTA')",
                    "('Other', 'MEENAKSHI KUMARI')",
                    "('JMBP', 'MADHU BALA')",
                    "('Other', 'ASHA RANI')",
                    "('Other', 'ANITA BANSAL')",
                    "('Other', 'CA SOHARSH GULGULIA JAIN')",
                    "('Other', 'LAXMI THAKUR SINGHAL')",
                    "('Other', 'UMESH RATHOR')",
                    "('AAP', 'PUNARDEEP SINGH SAWHNEY (SABBY)')",
                    "('BJP', 'SATISH JAIN')",
                    "('INC', 'MUDIT AGARWAL')",
                    "('NOTA', 'NOTA')",
                    "('BSP', 'KALI CHARAN')",
                    "('NCP', 'KHALID UR REHMAN')",
                    "('RRP', 'RAHUL TIWARI')",
                    "('Other', 'MOHAMMAD MURSALEEN')",
                    "('AAP', 'AALEY MOHAMMED IQBAL')",
                    "('BJP', 'DEEPTI INDORA')",
                    "('INC', 'ASIM AHMED KHAN')",
                    "('NOTA', 'NOTA')",
                    "('BSP', 'TEJ RAM')",
                    "('IND', 'AMAR NATH')",
                    "('IND', 'MOHAMMAD AHMED SAIFI')",
                    "('NCP', 'MOHD JAVED')",
                    "('IND', 'BHAGWAN DASS')",
                    "('IND', 'FIRDOUS AHMAD')",
                    "('IND', 'MOAZAM KHAN')",
                    "('IND', 'ZAINUDDIN')",
                    "('AAP', 'IMRAN HUSSAIN')",
                    "('BJP', 'KAMAL BAGRI')",
                    "('INC', 'HAROON YUSUF')",
                    "('NOTA', 'NOTA')",
                    "('AAPP', 'ABRAR')",
                    "('BSP', 'SONU')",
                    "('IND', 'BABU LAL')",
                    "('IND', 'HANSA')",
                    "('IND', 'MOHD. SHADAB')",
                    "('NCP', 'MD HAROON')",
                    "('AAP', 'VISHESH RAVI')",
                    "('BJP', 'DUSHYANT GAUTAM')",
                    "('INC', 'RAHUL KUMAR')",
                    "('BSP', 'RANJEET')",
                    "('NOTA', 'NOTA')",
                    "('Other', 'SHIV KUMAR')",
                    "('IND', 'DEEPAK KUMAR')",
                    "('AAP', 'PRAVESH RATN')",
                    "('BJP', 'RAAJ KUMAR ANAND')",
                    "('INC', 'KRISHNA TIRATH')",
                    "('NOTA', 'NOTA')",
                    "('BSP', 'RAM AVTAR')",
                    "('ASP(KR)', 'ASHOK KUMAR')",
                    "('BJP', 'HARISH KHURANA')",
                    "('AAP', 'SHIVCHARAN GOEL')",
                    "('INC', 'RAJENDER SINGH')",
                    "('BSP', 'AVINASH GUPTA')",
                    "('NOTA', 'NOTA')",
                    "('IND', 'SADRE ALAM')",
                    "('IND', 'GAURI SHANKAR')",
                    "('RRP', 'GOURAV BOTHRA')",
                    "('IND', 'HARISH')",
                    "('Other', 'VISHAL SAHNI')",
                    "('RMP', 'VIJAY KUMAR SHARMA')",
                    "('NCP', 'SANAULLAH')",
                    "('Other', 'MAHESH DUBEY')",
                    "('BJP', 'KAILASH GANGWAL')",
                    "('AAP', 'RAKHI BIRLA')",
                    "('INC', 'J. P. PANWAR')",
                    "('NOTA', 'NOTA')",
                    "('BSP', 'ROOP SINGH AHIRWAR')",
                    "('IND', 'DHARAMVEER')",
                    "('JMBP', 'RANDHIR SINGH TANDI')",
                    "('IND', 'RAVI')",
                    "('Other', 'ROHIT KASHYAP')",
                    "('Other', 'RANDHIR KUMAR')",
                    "('BJP', 'MANJINDER SINGH SIRSA')",
                    "('AAP', 'A DHANWATI CHANDELA A')",
                    "('INC', 'DHARAM PAL CHANDELA')",
                    "('NOTA', 'NOTA')",
                    "('BSP', 'SHASHI PABHA')",
                    "('AAPP', 'KARAN TALWAR')",
                    "('Other', 'JAYA RAMAN')",
                    "('RRP', 'VISHAL SANGWAN')",
                    "('AAP(P)', 'KAMLA DEVI')",
                    "('BJP', 'SHYAM SHARMA')",
                    "('AAP', 'SURINDER KUMAR SETIA')",
                    "('INC', 'PREM BALLABH')",
                    "('IND', 'RAJ KUMARI DHILLON')",
                    "('NOTA', 'NOTA')",
                    "('BSP', 'BINDU KUMAR')",
                    "('IND', 'MAYANK MEHTA')",
                    "('IND', 'SABIR KHAN')",
                    "('Other', 'MOHAN LAL BHARDWAJ')",
                    "('RJP(S)', 'PREETAM CHAND')",
                    "('IND', 'ASHOK KUMAR')",
                    "('AAP', 'JARNAIL SINGH')",
                    "('BJP', 'SHVETA SAINI')",
                    "('INC', 'PARVINDER SINGH ALIAS P S BAWA')",
                    "('NOTA', 'NOTA')",
                    "('BSP', 'ASHOK KUMAR GAUTAM')",
                    "('IND', 'SHWETA')",
                    "('IND', 'RAJIV KUMAR BABBAR')",
                    "('BJP', 'ASHISH SOOD')",
                    "('AAP', 'PARVEEN KUMAR')",
                    "('INC', 'HARBANI KAUR')",
                    "('NOTA', 'NOTA')",
                    "('BSP', 'RAVI PARTAP RAO')",
                    "('IND', 'PRAVEEN KUMAR')",
                    "('IND', 'PRAVEEN KUMAR')",
                    "('IND', 'ALTAF AHMAD')",
                    "('Other', 'MOHD OJER')",
                    "('NCP', 'MD NAVEEN')",
                    "('AJSP', 'CHAMAN LAL VERMA')",
                    "('SBSP', 'DHARAM VEER')",
                    "('IND', 'TARUN KUMAR SHARMA')",
                    "('IND', 'ASHISH SOOD')",
                    "('Other', 'KASHMIR CHAND')",
                    "('Other', 'NIZAMUDDIN KHAN')",
                    "('Other', 'RAJ KUMAR')",
                    "('BJP', 'PANKAJ KUMAR SINGH')",
                    "('AAP', 'MAHINDER YADAV')",
                    "('INC', 'JITENDER SOLANKI')",
                    "('BSP', 'KRISHNA THAKUR')",
                    "('NOTA', 'NOTA')",
                    "('CPI', 'SHEJO VARGHESE')",
                    "('ASP(KR)', 'UMESH CHAUHAN')",
                    "('Other', 'SHARDA DIXIT')",
                    "('IND', 'HIRA LAL SAH')",
                    "('Other', 'LALA RAM')",
                    "('IND', 'AMAN SAINI')",
                    "('RMP', 'RANJEET KUMAR')",
                    "('RJP(S)', 'PREM PAL SINGH')",
                    "('Other', 'RAJU RICHARIYA')",
                    "('BJP', 'PAWAN SHARMA')",
                    "('AAP', 'POSH BALYAN')",
                    "('INC', 'MUKESH SHARMA')",
                    "('NOTA', 'NOTA')",
                    "('BSP', 'MANI RAM')",
                    "('IND', 'DINESH KUMAR SAH')",
                    "('IND', 'JOURNALIST RAMESH KUMAR JAIN @ NIRBHIK')",
                    "('YBRP', 'DUSHYANT THAKUR')",
                    "('Other', 'SHYAM BABU')",
                    "('Other', 'RAJIV BHRIGUKUMAR')",
                    "('BJP', 'PARDUYMN SINGH RAJPUT')",
                    "('AAP', 'VINAY MISHRA')",
                    "('INC', 'ADARSH SHASTRI')",
                    "('NOTA', 'NOTA')",
                    "('BSP', 'PARDEEP KUMAR')",
                    "('RMP', 'RAMESHWAR MAHTO')",
                    "('IND', 'ASHOK JINDAL')",
                    "('SBSP', 'ARAVENDRA KUMAR')",
                    "('NYP', 'RAJNEESH KUMAR JHA')",
                    "('IND', 'GAUTAM SINGH BIHARI')",
                    "('Other', 'MEHAR CHARAN')",
                    "('Other', 'RAVI RATHORE')",
                    "('Other', 'G. THULASEEDHARAN')",
                    "('RRP', 'YOGESH SWAMI')",
                    "('BJP', 'SANDEEP SEHRAWAT')",
                    "('AAP', 'SUMESH SHOKEEN')",
                    "('INC', 'RAGHVINDER SINGH')",
                    "('NOTA', 'NOTA')",
                    "('BSP', 'KAMLESH KUMAR')",
                    "('IND', 'YOGESH KUMAR')",
                    "('IND', 'PUNAM PANDEY')",
                    "('RJP(S)', 'ARVIND KUMAR PANDEY')",
                    "('IND', 'RAJNI SHARMA')",
                    "('Other', 'PRABHAT KUMAR')",
                    "('SBSP', 'VINOD KUMAR CHAUHAN')",
                    "('RRP', 'YOGESH KUMAR SHARMA')",
                    "('Other', 'MOHINDER SINGH')",
                    "('NYP', 'NIRAJ KUMAR')",
                    "('BJP', 'NEELAM PAHALWAN')",
                    "('AAP', 'TARUN KUMAR')",
                    "('INC', 'SUSHMA DEVI YADAV')",
                    "('NOTA', 'NOTA')",
                    "('BSP', 'ROHIT')",
                    "('IND', 'MANGE RAM SANGWAN')",
                    "('Other', 'JALANDHAR PANDIT')",
                    "('IND', 'MANOJ KUMAR')",
                    "('PPI(D)', 'BHARAT SINGH')",
                    "('RRP', 'RAHUL KUMAR')",
                    "('BJP', 'KAILASH GAHLOT')",
                    "('AAP', 'SURENDER BHARDWAJ')",
                    "('INC', 'COL DEVINDER KUMAR SEHRAWAT')",
                    "('NOTA', 'NOTA')",
                    "('BSP', 'KAMAL SINGH')",
                    "('IND', 'MONIS KURESHI')",
                    "('IND', 'NISHANT SEHRAWAT')",
                    "('Other', 'PUNAM PANDEY')",
                    "('IND', 'AMRINA')",
                    "('Other', 'NARENDER SINGH')",
                    "('IND', 'SOM DUTT SHARMA')",
                    "('Other', 'NAVEEN KUMAR')",
                    "('Other', 'LALITA TRIVEDI')",
                    "('BJP', 'KULDEEP SOLANKI')",
                    "('AAP', 'JOGINDER SOLANKI')",
                    "('INC', 'MANGE RAM')",
                    "('NOTA', 'NOTA')",
                    "('BSP', 'GEETA')",
                    "('CPI', 'DILIP KUMAR')",
                    "('IND', 'PRASHANT CHAUHAN')",
                    "('PPI(D)', 'MANU GAUTAM')",
                    "('AAP', 'VIRENDER SINGH KADIAN')",
                    "('BJP', 'BHUVAN TANWAR')",
                    "('INC', 'PRADEEP KUMAR UPMANYU')",
                    "('NOTA', 'NOTA')",
                    "('BSP', 'NAMIT KUMAR GAUTAM')",
                    "('IND', 'ASHOK AGYANI')",
                    "('PPI(D)', 'SURENDER KUMAR')",
                    "('BSKP', 'SACHIN')",
                    "('BJP', 'UMANG BAJAJ')",
                    "('AAP', 'DURGESH PATHAK')",
                    "('INC', 'VINEET YADAV')",
                    "('NOTA', 'NOTA')",
                    "('ASP(KR)', 'PRAVEEN KUMAR BHARTI')",
                    "('BSP', 'SHIV PRASAD VERMA')",
                    "('IND', 'UMANG')",
                    "('Other', 'PANKAJ JAGYA')",
                    "('BJP', 'PARVESH SAHIB SINGH')",
                    "('AAP', 'ARVIND KEJRIWAL')",
                    "('INC', 'SANDEEP DIKSHIT')",
                    "('NOTA', 'NOTA')",
                    "('BSP', 'VIRENDER')",
                    "('Other', 'DR. MUNISH KUMAR RAIZADA')",
                    "('IND', 'ANURADHA RANA')",
                    "('IND', 'ANITA')",
                    "('Other', 'SANTOSH RAI')",
                    "('Other', 'DUGGIRALA NAGESWARA RAO')",
                    "('AAP(P)', 'NARESH KUMAR')",
                    "('IND', 'DR. ABHILASHA')",
                    "('RRP', 'SANTOSH KUMAR')",
                    "('Other', 'JAGDEESH PRASAD')",
                    "('Other', 'ARUN KUMAR SHARMA')",
                    "('IND', 'SANJAY RAWAT')",
                    "('Other', 'RAVINDER SINGH RAWAT')",
                    "('IND', 'BHAWANA')",
                    "('IND', 'PANKAJ SHARMA')",
                    "('IND', 'HAIDER ALI')",
                    "('RMP', 'NITYA NAND SINGH')",
                    "('Other', 'MUKESH JAIN')",
                    "('Other', 'SANGHA NAND BAUDDH')",
                    "('Other', 'ISHWAR CHAND')",
                    "('BJP', 'TARVINDER SINGH MARWAH')",
                    "('AAP', 'MANISH SISODIA')",
                    "('INC', 'FARHAD SURI')",
                    "('NOTA', 'NOTA')",
                    "('IND', 'ASHOK BAMBANI')",
                    "('BSP', 'RAVINDRA SINGH RAVIYODAYA')",
                    "('Other', 'BIJENDER')",
                    "('IND', 'SUNIL KUMAR KUKREJA')",
                    "('Other', 'RAKESH SAGAR')",
                    "('BRP', 'ANIL KUMAR')",
                    "('BJP', 'NEERAJ BASOYA')",
                    "('INC', 'ABHISHEK DUTT')",
                    "('AAP', 'RAMESH PAHELWAN')",
                    "('NOTA', 'NOTA')",
                    "('IND', 'PARTEEK GUPTA')",
                    "('BSP', 'MAHESH KUMAR')",
                    "('BJP', 'SATISH UPADHYAY')",
                    "('AAP', 'SOMNATH BHARTI')",
                    "('INC', 'JITENDER KUMAR KOCHAR')",
                    "('NOTA', 'NOTA')",
                    "('BSP', 'CHARANJEET KAUR')",
                    "('IND', 'MEGHNAD S.')",
                    "('YBRP', 'DR. BHUPENDRA CHAURASIYA')",
                    "('Other', 'BHAVISH DHANKAR')",
                    "('BJP', 'ANIL KUMAR SHARMA')",
                    "('AAP', 'PRAMILA TOKAS')",
                    "('INC', 'VISHESH KUMAR')",
                    "('NOTA', 'NOTA')",
                    "('BSP', 'SUNIL KAIN')",
                    "('IND', 'RAMESH ADVOCATE')",
                    "('YBRP', 'NEERAJ CHOURASIYA')",
                    "('IND', 'PERMILA')",
                    "('Other', 'LOKESH KUMAR MASTERJI')",
                    "('IND', 'RAI SINGH')",
                    "('IND', 'KULDEEP SINGH AHLAWAT')",
                    "('PPI(D)', 'VIJAY KUMAR')",
                    "('RMP', 'SARAVANAN')",
                    "('Other', 'ABHA JHA')",
                    "('BJP', 'GAJENDER SINGH YADAV')",
                    "('AAP', 'MAHENDER CHAUDHARY')",
                    "('IND', 'BALYOGI BABA BALAKNATH')",
                    "('INC', 'PUSHPA SINGH')",
                    "('NOTA', 'NOTA')",
                    "('BSP', 'YOGESHWAR SINGH BISHT')",
                    "('Other', 'MAHAVIR SINGH')",
                    "('RRP', 'SHARDA SINGH')",
                    "('PPI(D)', 'VIJAY LAL TAMTA')",
                    "('BJP', 'KARTAR SINGH TANWAR')",
                    "('AAP', 'BRAHM SINGH TANWAR')",
                    "('INC', 'RAJENDER SINGH TANWAR')",
                    "('NOTA', 'NOTA')",
                    "('BSP', 'BRIJ LAL')",
                    "('AAP(P)', 'DINESH TANWAR')",
                    "('IND', 'DHARMENDER')",
                    "('IND', 'SANJAY NEGI')",
                    "('ASP(KR)', 'ISLAM ALI')",
                    "('NCP', 'NARENDER')",
                    "('IND', 'DAYA RAM GURJAR')",
                    "('Other', 'RICHA KUMARI')",
                    "('AAP', 'PREM CHAUHAN')",
                    "('Other', 'DEEPAK TANWAR')",
                    "('INC', 'RAJESH CHAUHAN')",
                    "('BSP', 'ASMITA')",
                    "('BRP', 'RAJA RAM')",
                    "('NOTA', 'NOTA')",
                    "('Other', 'BACHAN RAM')",
                    "('Other', 'DEVIKA')",
                    "('AAP', 'DR. AJAY DUTT')",
                    "('BJP', 'KHUSHI RAM CHUNAR')",
                    "('INC', 'JAI PRAKASH')",
                    "('NOTA', 'NOTA')",
                    "('BSP', 'SEWA DASS')",
                    "('Other', 'ARUN')",
                    "('ASP(KR)', 'DARSAN SINGH')",
                    "('IND', 'ASHOK KUMAR')",
                    "('BRP', 'RAJIV KUMAR')",
                    "('RRP', 'GULSHAN BHARTI')",
                    "('BJP', 'CHANDAN KUMAR CHOUDHARY')",
                    "('AAP', 'DINESH MOHANIYA')",
                    "('INC', 'HARSH CHOUDHARY')",
                    "('BSP', 'MOHD ZAKIULLAH')",
                    "('NOTA', 'NOTA')",
                    "('IND', 'JAGDISH KUMAR VERMA')",
                    "('Other', 'SUDHIR NEGI')",
                    "('IND', 'MAHENDER KUMAR')",
                    "('ASP(KR)', 'SIRAJUDDIN')",
                    "('NCP', 'QAMAR ALI')",
                    "('Other', 'RAVINDER SINGH')",
                    "('IND', 'SATPAL')",
                    "('BJP', 'SHIKHA ROY')",
                    "('AAP', 'SAURABH BHARADWAJ')",
                    "('INC', 'GARVIT SINGHVI')",
                    "('NOTA', 'NOTA')",
                    "('BSP', 'NIYATI CHOUDHARY')",
                    "('BRP', 'SATISH KUMAR GULLIYA')",
                    "('Other', 'RAMESH JAGANNATH SHAH')",
                    "('AAP', 'ATISHI')",
                    "('BJP', 'RAMESH BIDHURI')",
                    "('INC', 'ALKA LAMBA')",
                    "('NOTA', 'NOTA')",
                    "('BSP', 'PRITAM SINGH')",
                    "('BRP', 'TANYA SINGH')",
                    "('Other', 'DEEPAK KAPILA')",
                    "('IND', 'SANJAY')",
                    "('AJP(I)', 'RAJAN SINGH')",
                    "('IND', 'PARVEEN CHOUDHRY')",
                    "('IND', 'RAVI')",
                    "('IND', 'IQBAL AHMED SIDDIQUI')",
                    "('Other', 'SANGH MITRA')",
                    "('Other', 'RAJESH KUMAR')",
                    "('AAP', 'SAHI RAM')",
                    "('BJP', 'ROHTASH KUMAR')",
                    "('INC', 'VIRENDER SINGH')",
                    "('BSP', 'AMJAD HASAN')",
                    "('NOTA', 'NOTA')",
                    "('Other', 'PARVEEN CHAUHAN')",
                    "('RRP', 'NARESH KUMAR')",
                    "('IND', 'REKHA SINGH')",
                    "('Other', 'KHURSHEED ABBAS ZAIDI')",
                    "('PPI(D)', 'CHAMAN LAL')",
                    "('AAP', 'RAM SINGH NETAJI')",
                    "('BJP', 'NARAYAN DUTT SHARMA')",
                    "('INC', 'ARJUN SINGH BHADANA')",
                    "('BSP', 'PARDEEP')",
                    "('NOTA', 'NOTA')",
                    "('Other', 'RAHUL RAI')",
                    "('CPI(M)', 'JAGDISH CHAND')",
                    "('NCP', 'IMRAN SAIFI')",
                    "('IND', 'DEEPAK RAWAT')",
                    "('Other', 'HARI RAM')",
                    "('IND', 'OM PRAKASH GUPTA')",
                    "('Other', 'RAM BAHADUR')",
                    "('BSKP', 'BRIJPAL')",
                    "('AAP', 'AMANATULLAH KHAN')",
                    "('BJP', 'MANISH CHAUDHARY')",
                    "('AIMIM', 'SHIFA UR REHMAN KHAN')",
                    "('INC', 'ARIBA KHAN')",
                    "('BSP', 'SATISH KUMAR')",
                    "('NOTA', 'NOTA')",
                    "('Other', 'SHER MOHAMMAD')",
                    "('IND', 'SHEIKH ARSALAN ULLAH CHISHTI')",
                    "('CPI', 'MD INJAMAMUL HASSAN')",
                    "('Other', 'RIZWANA KHATOON')",
                    "('IND', 'HAMMAD KHAN')",
                    "('Other', 'FIRDOS ALAM')",
                    "('Other', 'KANEEZ FATIMA')",
                    "('RRP', 'MOHD ISLAM')",
                    "('Other', 'JAMALUDDIN')",
                    "('BJP', 'RAVI KANT')",
                    "('AAP', 'ANJANA PARCHA')",
                    "('INC', 'AMARDEEP')",
                    "('ASP(KR)', 'VICKY')",
                    "('BSP', 'NAND LAL')",
                    "('NOTA', 'NOTA')",
                    "('IND', 'NAVEEN RAM')",
                    "('ABSP', 'SARITA SINGH')",
                    "('AAP', 'KULDEEP KUMAR (MONU)')",
                    "('BJP', 'PRIYANKA GAUTAM')",
                    "('INC', 'AKSHAY KUMAR')",
                    "('BSP', 'MUKESH KUMAR')",
                    "('NOTA', 'NOTA')",
                    "('ASP(KR)', 'SUNNY KUMAR')",
                    "('Other', 'ASHA KAMBLE')",
                    "('Other', 'SURENDER SINGH')",
                    "('RRP', 'NIKHIL KUMAR PIPAL')",
                    "('CPI(ML)L', 'AMARJEET PRASAD')",
                    "('BJP', 'Ravinder Singh Negi (Ravi Negi)')",
                    "('AAP', 'AVADH OJHA')",
                    "('INC', 'ANIL KUMAR')",
                    "('BSP', 'OM SHANKAR PANDEY')",
                    "('NOTA', 'NOTA')",
                    "('Other', 'PRAKASH CHANDRA JOSHI')",
                    "('Other', 'GOPAL PRASAD')",
                    "('IND', 'DIBLU SINGH')",
                    "('IND', 'JAGDISH  OJHA')",
                    "('Other', 'DEEPA DEVI')",
                    "('BJP', 'ABHAY VERMA')",
                    "('AAP', 'B B TYAGI')",
                    "('INC', 'SUMIT SHARMA')",
                    "('NOTA', 'NOTA')",
                    "('BSP', 'MOHD WAQAR CHOUDHARY')",
                    "('ASP(KR)', 'GANDHI GAUTAM')",
                    "('Other', 'VIKAS')",
                    "('Other', 'DEEPAK PANDEY')",
                    "('IND', 'JAGDISH KUMAR GARG')",
                    "('IND', 'VIMAL KUMAR SAXENA')",
                    "('NCP', 'NAMAHA')",
                    "('IND', 'ANURAG KUMAR')",
                    "('PPI(D)', 'KUSUM LATA')",
                    "('RRP', 'ANIMA OJHA')",
                    "('Other', 'DANVEER VIDYALANKAR')",
                    "('Other', 'ISMAIL')",
                    "('BJP', 'OM PRAKASH SHARMA')",
                    "('AAP', 'DEEPAK SINGHAL')",
                    "('INC', 'RAJIV CHAUDHARY')",
                    "('NOTA', 'NOTA')",
                    "('BSP', 'RAJESH KUMAR YADAV')",
                    "('Other', 'BHAWANA BOTHRA')",
                    "('JMBP', 'GURMEET SINGH')",
                    "('AAPP', 'PARAG JAIN')",
                    "('Other', 'DEEPAK KUMAR')",
                    "('PPI(D)', 'NEELAM SINGH')",
                    "('NYP', 'ANIL KUMAR')",
                    "('BJP', 'DR ANIL GOYAL')",
                    "('AAP', 'VIKAS BAGGA CA')",
                    "('INC', 'GURCHARAN SINGH (RAJU)')",
                    "('NOTA', 'NOTA')",
                    "('BSP', 'AMAR SINGH')",
                    "('IND', 'VINOD KAPOOR')",
                    "('NYP', 'POONAM MAINI')",
                    "('Other', 'VIDHAYAK VIRENDRA PRADHAN GURJAR')",
                    "('BJP', 'ARVINDER SINGH LOVELY')",
                    "('AAP', 'NAVEEN CHAUDHARY (DEEPU)')",
                    "('INC', 'KAMAL ARORA (DABBU)')",
                    "('NOTA', 'NOTA')",
                    "('BSP', 'TIKRAJ SINGH')",
                    "('Other', 'PAWAN CHOUDHRY')",
                    "('IND', 'GULFAM')",
                    "('BJP', 'SANJAY GOYAL')",
                    "('AAP', 'JITENDER SINGH SHUNTY')",
                    "('INC', 'JAGAT SINGH')",
                    "('BSP', 'DHARMINDRA KUMAR KAIM')",
                    "('IND', 'VINAY CHAUDHARI')",
                    "('NOTA', 'NOTA')",
                    "('AAPP', 'NITIN GARG')",
                    "('NYP', 'KAMAL KISHORE')",
                    "('IND', 'ASHOK SURANA')",
                    "('NCP', 'RAJENDRA KUMAR PAL')",
                    "('IND', 'DILIP BANERJEE')",
                    "('AAP', 'VEER SINGH DHINGAN')",
                    "('BJP', 'KU. RINKU')",
                    "('INC', 'RAJESH LILOTHIA')",
                    "('BSP', 'MANOJ')",
                    "('ASP(KR)', 'ANIL KUMAR')",
                    "('NOTA', 'NOTA')",
                    "('PPI(D)', 'AJAY KUMAR')",
                    "('Other', 'SAROJ BALA')",
                    "('IND', 'ASHISH KUMAR')",
                    "('NCP', 'RAJESH KUMAR LOHIYA')",
                    "('RRP', 'CHARAN SINGH MALIYAN')",
                    "('Other', 'RAJESH')",
                    "('BJP', 'JITENDER MAHAJAN')",
                    "('AAP', 'SARITA SINGH')",
                    "('INC', 'SURESHVATI')",
                    "('BSP', 'ASHOK KUMAR')",
                    "('NOTA', 'NOTA')",
                    "('IND', 'VIKAS TYAGI')",
                    "('ASP(KR)', 'SURENDER SINGH VISHWAKARMA')",
                    "('NCP', 'ABHISHEK')",
                    "('IND', 'SURESH PAL JAINTH')",
                    "('Other', 'NASEEM USMAN')",
                    "('Other', 'PANKAJ GUPTA')",
                    "('Other', 'AKESHAN DUT')",
                    "('IND', 'NITIN MITTAL')",
                    "('Other', 'AMIT KUMAR SHARMA')",
                    "('Other', 'SANJEEV KUMAR')",
                    "('BRP', 'SUBHASH CHAND GUPTA')",
                    "('AAP', 'CHAUDHARY ZUBAIR AHMAD')",
                    "('BJP', 'ANIL KUMAR SHARMA (GAUR)')",
                    "('INC', 'ABDUL REHMAN')",
                    "('BSP', 'DEEPAK KUMAR')",
                    "('NOTA', 'NOTA')",
                    "('Other', 'SHABANA')",
                    "('Other', 'MOHD NAZIR')",
                    "('IND', 'MOHD SHAFI')",
                    "('Other', 'SUMAN SHARMA')",
                    "('IND', 'SYED MUNEEB')",
                    "('IND', 'RAHISUDDIN AHMAD')",
                    "('IND', 'MOHD ZUBAIR MALIK')",
                    "('IND', 'S. M. AQIF')",
                    "('IND', 'ISLAUDDIN')",
                    "('BJP', 'AJAY MAHAWAR')",
                    "('AAP', 'GAURAV SHARMA')",
                    "('INC', 'BHISHAM SHARMA')",
                    "('NOTA', 'NOTA')",
                    "('BSP', 'SUNDER LOHIYA')",
                    "('IND', 'GAURAV SHARMA')",
                    "('YBRP', 'BABITA')",
                    "('RRP', 'SHUBHAM')",
                    "('Other', 'ANIL SINGH')",
                    "('NCP', 'ADVOCATE MEHAK DOGRA')",
                    "('AAP', 'GOPAL RAI')",
                    "('BJP', 'ANIL KUMAR VASHISHT')",
                    "('INC', 'MOHD ISHRAQ KHAN')",
                    "('NOTA', 'NOTA')",
                    "('Other', 'MD NAZIR')",
                    "('IND', 'MOHAMMAD ABDULLAH ANSARI')",
                    "('Other', 'BHUPENDER YADAV')",
                    "('Other', 'SHIV KUMAR(KAKE)')",
                    "('ABSP', 'MANOJ KUMAR')",
                    "('AAP', 'SURENDRA KUMAR')",
                    "('BJP', 'PRAVEEN NIMESH')",
                    "('INC', 'ISHWAR SINGH')",
                    "('ASP(KR)', 'ARVIND KUMAR')",
                    "('BSP', 'LAL SINGH')",
                    "('NOTA', 'NOTA')",
                    "('Other', 'ATUL KUMAR')",
                    "('PPI(D)', 'DHARAMVIR SINGH')",
                    "('Other', 'BIR SAIN')",
                    "('IND', 'SURESHPAL JAINTH')",
                    "('Other', 'MANJEET SINGH')",
                    "('RRP', 'CHARAN SINGH MALIYAN')",
                    "('NCP', 'JAGDISH')",
                    "('BJP', 'MOHAN SINGH BISHT')",
                    "('AAP', 'ADEEL AHMAD KHAN')",
                    "('AIMIM', 'MOHD. TAHIR HUSSAIN')",
                    "('INC', 'ALI MEHDI')",
                    "('BSP', 'ASHOK KUMAR')",
                    "('NOTA', 'NOTA')",
                    "('Other', 'DHARAM PAL')",
                    "('BSKP', 'ASHA CHAUDHARY')",
                    "('PP', 'SAGAR TANHA')",
                    "('PPI(D)', 'VISHAL')",
                    "('Other', 'MOHD USMAN BAKHSH')",
                    "('IND', 'JITENDER KUMAR')",
                    "('Other', 'NASIRUDDIN GAURI')",
                    "('BJP', 'KAPIL MISHRA')",
                    "('AAP', 'MANOJ KUMAR TYAGI')",
                    "('INC', 'DR. P.K. MISHRA')",
                    "('BSP', 'DEVENDRA BHAIYA')",
                    "('IND', 'AJAY SINGH NEGI')",
                    "('NOTA', 'NOTA')",
                    "('Other', 'H.M. HASHIM MALIK')",
                    "('CPI(M)', 'ASHOK AGARWAL')",
                    "('Other', 'PRAKASH CHAND')",
                    "('IND', 'YOGESH SWAMY')",
                    "('IND', 'VISHAL SHARMA')",
                    "('NCP', 'SANJAY MISHRA (SITARAM)')",
                    "('PPI(D)', 'SEEMA')",
                    "('NIUP', 'NEERAJ')",
                    "('BSKP', 'YOGENDER')",
                    "('ABSP', 'SANDHIYA TIWARI')"
                  ],
                  "marker": {
                    "color": [
                      "#FF9933",
                      "#0072B0",
                      "#19AAED",
                      "#FFFFFF",
                      "#C41301",
                      "#DCDCDC",
                      "#003597",
                      "#DCDCDC",
                      "#0072B0",
                      "#003366",
                      "#19AAED",
                      "#00B2B2",
                      "#FFFFFF",
                      "#22409A",
                      "#000000",
                      "#000000",
                      "#000000",
                      "#000000",
                      "#000000",
                      "#000000",
                      "#000000",
                      "#000000",
                      "#000000",
                      "#FF9933",
                      "#0072B0",
                      "#19AAED",
                      "#22409A",
                      "#FFFFFF",
                      "#000000",
                      "#000000",
                      "#000000",
                      "#000000",
                      "#000000",
                      "#000000",
                      "#000000",
                      "#000000",
                      "#FF9933",
                      "#0072B0",
                      "#19AAED",
                      "#FFFFFF",
                      "#22409A",
                      "#DCDCDC",
                      "#CB0922",
                      "#DCDCDC",
                      "#DCDCDC",
                      "#DCDCDC",
                      "#000000",
                      "#000000",
                      "#000000",
                      "#000000",
                      "#000000",
                      "#FF9933",
                      "#0072B0",
                      "#19AAED",
                      "#22409A",
                      "#FFFFFF",
                      "#000000",
                      "#DCDCDC",
                      "#DCDCDC",
                      "#DCDCDC",
                      "#00B2B2",
                      "#000000",
                      "#000000",
                      "#000000",
                      "#FF9933",
                      "#0072B0",
                      "#19AAED",
                      "#FFFFFF",
                      "#22409A",
                      "#000000",
                      "#DCDCDC",
                      "#000000",
                      "#DCDCDC",
                      "#000000",
                      "#DCDCDC",
                      "#000000",
                      "#FF9933",
                      "#0072B0",
                      "#19AAED",
                      "#22409A",
                      "#FFFFFF",
                      "#DCDCDC",
                      "#000000",
                      "#000000",
                      "#FF9933",
                      "#0072B0",
                      "#19AAED",
                      "#DCDCDC",
                      "#FFFFFF",
                      "#22409A",
                      "#DCDCDC",
                      "#908484",
                      "#DCDCDC",
                      "#DCDCDC",
                      "#AC1313",
                      "#000000",
                      "#000000",
                      "#000000",
                      "#0072B0",
                      "#FF9933",
                      "#19AAED",
                      "#22409A",
                      "#FFFFFF",
                      "#003597",
                      "#DCDCDC",
                      "#DCDCDC",
                      "#000000",
                      "#000000",
                      "#0072B0",
                      "#FF9933",
                      "#19AAED",
                      "#22409A",
                      "#000000",
                      "#FFFFFF",
                      "#DCDCDC",
                      "#DCDCDC",
                      "#000000",
                      "#000000",
                      "#000000",
                      "#000000",
                      "#000000",
                      "#FF9933",
                      "#0072B0",
                      "#19AAED",
                      "#FFFFFF",
                      "#22409A",
                      "#000000",
                      "#DCDCDC",
                      "#000000",
                      "#000000",
                      "#000000",
                      "#FF9933",
                      "#0072B0",
                      "#19AAED",
                      "#FFFFFF",
                      "#22409A",
                      "#DCDCDC",
                      "#000000",
                      "#FF9933",
                      "#0072B0",
                      "#19AAED",
                      "#FFFFFF",
                      "#22409A",
                      "#000000",
                      "#000000",
                      "#DCDCDC",
                      "#DCDCDC",
                      "#FF9933",
                      "#0072B0",
                      "#19AAED",
                      "#FFFFFF",
                      "#22409A",
                      "#DCDCDC",
                      "#DCDCDC",
                      "#DCDCDC",
                      "#DCDCDC",
                      "#000000",
                      "#FF9933",
                      "#0072B0",
                      "#19AAED",
                      "#FFFFFF",
                      "#22409A",
                      "#000000",
                      "#000000",
                      "#DCDCDC",
                      "#FF9933",
                      "#0072B0",
                      "#19AAED",
                      "#FFFFFF",
                      "#22409A",
                      "#000000",
                      "#000000",
                      "#FF9933",
                      "#0072B0",
                      "#19AAED",
                      "#22409A",
                      "#FFFFFF",
                      "#DCDCDC",
                      "#CB0922",
                      "#DCDCDC",
                      "#000000",
                      "#000000",
                      "#FF9933",
                      "#0072B0",
                      "#19AAED",
                      "#FFFFFF",
                      "#22409A",
                      "#DCDCDC",
                      "#DCDCDC",
                      "#000000",
                      "#000000",
                      "#000000",
                      "#0072B0",
                      "#FF9933",
                      "#19AAED",
                      "#22409A",
                      "#FFFFFF",
                      "#000000",
                      "#000000",
                      "#000000",
                      "#000000",
                      "#000000",
                      "#000000",
                      "#000000",
                      "#0072B0",
                      "#FF9933",
                      "#19AAED",
                      "#FFFFFF",
                      "#22409A",
                      "#00B2B2",
                      "#000000",
                      "#000000",
                      "#0072B0",
                      "#FF9933",
                      "#19AAED",
                      "#FFFFFF",
                      "#22409A",
                      "#DCDCDC",
                      "#DCDCDC",
                      "#00B2B2",
                      "#DCDCDC",
                      "#DCDCDC",
                      "#DCDCDC",
                      "#DCDCDC",
                      "#0072B0",
                      "#FF9933",
                      "#19AAED",
                      "#FFFFFF",
                      "#000000",
                      "#22409A",
                      "#DCDCDC",
                      "#DCDCDC",
                      "#DCDCDC",
                      "#00B2B2",
                      "#0072B0",
                      "#FF9933",
                      "#19AAED",
                      "#22409A",
                      "#FFFFFF",
                      "#000000",
                      "#DCDCDC",
                      "#0072B0",
                      "#FF9933",
                      "#19AAED",
                      "#FFFFFF",
                      "#22409A",
                      "#003597",
                      "#FF9933",
                      "#0072B0",
                      "#19AAED",
                      "#22409A",
                      "#FFFFFF",
                      "#DCDCDC",
                      "#DCDCDC",
                      "#000000",
                      "#DCDCDC",
                      "#000000",
                      "#000000",
                      "#00B2B2",
                      "#000000",
                      "#FF9933",
                      "#0072B0",
                      "#19AAED",
                      "#FFFFFF",
                      "#22409A",
                      "#DCDCDC",
                      "#000000",
                      "#DCDCDC",
                      "#000000",
                      "#000000",
                      "#FF9933",
                      "#0072B0",
                      "#19AAED",
                      "#FFFFFF",
                      "#22409A",
                      "#000000",
                      "#000000",
                      "#000000",
                      "#000000",
                      "#FF9933",
                      "#0072B0",
                      "#19AAED",
                      "#DCDCDC",
                      "#FFFFFF",
                      "#22409A",
                      "#DCDCDC",
                      "#DCDCDC",
                      "#000000",
                      "#000000",
                      "#DCDCDC",
                      "#0072B0",
                      "#FF9933",
                      "#19AAED",
                      "#FFFFFF",
                      "#22409A",
                      "#DCDCDC",
                      "#DCDCDC",
                      "#FF9933",
                      "#0072B0",
                      "#19AAED",
                      "#FFFFFF",
                      "#22409A",
                      "#DCDCDC",
                      "#DCDCDC",
                      "#DCDCDC",
                      "#000000",
                      "#00B2B2",
                      "#000000",
                      "#F5D50A",
                      "#DCDCDC",
                      "#DCDCDC",
                      "#000000",
                      "#000000",
                      "#000000",
                      "#FF9933",
                      "#0072B0",
                      "#19AAED",
                      "#22409A",
                      "#FFFFFF",
                      "#CB0922",
                      "#003597",
                      "#000000",
                      "#DCDCDC",
                      "#000000",
                      "#DCDCDC",
                      "#000000",
                      "#000000",
                      "#000000",
                      "#FF9933",
                      "#0072B0",
                      "#19AAED",
                      "#FFFFFF",
                      "#22409A",
                      "#DCDCDC",
                      "#DCDCDC",
                      "#000000",
                      "#000000",
                      "#000000",
                      "#FF9933",
                      "#0072B0",
                      "#19AAED",
                      "#FFFFFF",
                      "#22409A",
                      "#000000",
                      "#DCDCDC",
                      "#F5D50A",
                      "#000000",
                      "#DCDCDC",
                      "#000000",
                      "#000000",
                      "#000000",
                      "#000000",
                      "#FF9933",
                      "#0072B0",
                      "#19AAED",
                      "#FFFFFF",
                      "#22409A",
                      "#DCDCDC",
                      "#DCDCDC",
                      "#000000",
                      "#DCDCDC",
                      "#000000",
                      "#F5D50A",
                      "#000000",
                      "#000000",
                      "#000000",
                      "#FF9933",
                      "#0072B0",
                      "#19AAED",
                      "#FFFFFF",
                      "#22409A",
                      "#DCDCDC",
                      "#000000",
                      "#DCDCDC",
                      "#000000",
                      "#000000",
                      "#FF9933",
                      "#0072B0",
                      "#19AAED",
                      "#FFFFFF",
                      "#22409A",
                      "#DCDCDC",
                      "#DCDCDC",
                      "#000000",
                      "#DCDCDC",
                      "#000000",
                      "#DCDCDC",
                      "#000000",
                      "#000000",
                      "#FF9933",
                      "#0072B0",
                      "#19AAED",
                      "#FFFFFF",
                      "#22409A",
                      "#CB0922",
                      "#DCDCDC",
                      "#000000",
                      "#0072B0",
                      "#FF9933",
                      "#19AAED",
                      "#FFFFFF",
                      "#22409A",
                      "#DCDCDC",
                      "#000000",
                      "#000000",
                      "#FF9933",
                      "#0072B0",
                      "#19AAED",
                      "#FFFFFF",
                      "#003597",
                      "#22409A",
                      "#DCDCDC",
                      "#000000",
                      "#FF9933",
                      "#0072B0",
                      "#19AAED",
                      "#FFFFFF",
                      "#22409A",
                      "#000000",
                      "#DCDCDC",
                      "#DCDCDC",
                      "#000000",
                      "#000000",
                      "#000000",
                      "#DCDCDC",
                      "#000000",
                      "#000000",
                      "#000000",
                      "#DCDCDC",
                      "#000000",
                      "#DCDCDC",
                      "#DCDCDC",
                      "#DCDCDC",
                      "#000000",
                      "#000000",
                      "#000000",
                      "#000000",
                      "#FF9933",
                      "#0072B0",
                      "#19AAED",
                      "#FFFFFF",
                      "#DCDCDC",
                      "#22409A",
                      "#000000",
                      "#DCDCDC",
                      "#000000",
                      "#000000",
                      "#FF9933",
                      "#19AAED",
                      "#0072B0",
                      "#FFFFFF",
                      "#DCDCDC",
                      "#22409A",
                      "#FF9933",
                      "#0072B0",
                      "#19AAED",
                      "#FFFFFF",
                      "#22409A",
                      "#DCDCDC",
                      "#000000",
                      "#000000",
                      "#FF9933",
                      "#0072B0",
                      "#19AAED",
                      "#FFFFFF",
                      "#22409A",
                      "#DCDCDC",
                      "#000000",
                      "#DCDCDC",
                      "#000000",
                      "#DCDCDC",
                      "#DCDCDC",
                      "#000000",
                      "#000000",
                      "#000000",
                      "#FF9933",
                      "#0072B0",
                      "#DCDCDC",
                      "#19AAED",
                      "#FFFFFF",
                      "#22409A",
                      "#000000",
                      "#000000",
                      "#000000",
                      "#FF9933",
                      "#0072B0",
                      "#19AAED",
                      "#FFFFFF",
                      "#22409A",
                      "#000000",
                      "#DCDCDC",
                      "#DCDCDC",
                      "#003597",
                      "#00B2B2",
                      "#DCDCDC",
                      "#000000",
                      "#0072B0",
                      "#000000",
                      "#19AAED",
                      "#22409A",
                      "#000000",
                      "#FFFFFF",
                      "#000000",
                      "#000000",
                      "#0072B0",
                      "#FF9933",
                      "#19AAED",
                      "#FFFFFF",
                      "#22409A",
                      "#000000",
                      "#003597",
                      "#DCDCDC",
                      "#000000",
                      "#000000",
                      "#FF9933",
                      "#0072B0",
                      "#19AAED",
                      "#22409A",
                      "#FFFFFF",
                      "#DCDCDC",
                      "#000000",
                      "#DCDCDC",
                      "#003597",
                      "#00B2B2",
                      "#000000",
                      "#DCDCDC",
                      "#FF9933",
                      "#0072B0",
                      "#19AAED",
                      "#FFFFFF",
                      "#22409A",
                      "#000000",
                      "#000000",
                      "#0072B0",
                      "#FF9933",
                      "#19AAED",
                      "#FFFFFF",
                      "#22409A",
                      "#000000",
                      "#000000",
                      "#DCDCDC",
                      "#000000",
                      "#DCDCDC",
                      "#DCDCDC",
                      "#DCDCDC",
                      "#000000",
                      "#000000",
                      "#0072B0",
                      "#FF9933",
                      "#19AAED",
                      "#22409A",
                      "#FFFFFF",
                      "#000000",
                      "#000000",
                      "#DCDCDC",
                      "#000000",
                      "#000000",
                      "#0072B0",
                      "#FF9933",
                      "#19AAED",
                      "#22409A",
                      "#FFFFFF",
                      "#000000",
                      "#CC0D0D",
                      "#00B2B2",
                      "#DCDCDC",
                      "#000000",
                      "#DCDCDC",
                      "#000000",
                      "#000000",
                      "#0072B0",
                      "#FF9933",
                      "#0C6B4B",
                      "#19AAED",
                      "#22409A",
                      "#FFFFFF",
                      "#000000",
                      "#DCDCDC",
                      "#CB0922",
                      "#000000",
                      "#DCDCDC",
                      "#000000",
                      "#000000",
                      "#000000",
                      "#000000",
                      "#FF9933",
                      "#0072B0",
                      "#19AAED",
                      "#003597",
                      "#22409A",
                      "#FFFFFF",
                      "#DCDCDC",
                      "#000000",
                      "#0072B0",
                      "#FF9933",
                      "#19AAED",
                      "#22409A",
                      "#FFFFFF",
                      "#003597",
                      "#000000",
                      "#000000",
                      "#000000",
                      "#C41301",
                      "#FF9933",
                      "#0072B0",
                      "#19AAED",
                      "#22409A",
                      "#FFFFFF",
                      "#000000",
                      "#000000",
                      "#DCDCDC",
                      "#DCDCDC",
                      "#000000",
                      "#FF9933",
                      "#0072B0",
                      "#19AAED",
                      "#FFFFFF",
                      "#22409A",
                      "#003597",
                      "#000000",
                      "#000000",
                      "#DCDCDC",
                      "#DCDCDC",
                      "#00B2B2",
                      "#DCDCDC",
                      "#000000",
                      "#000000",
                      "#000000",
                      "#000000",
                      "#FF9933",
                      "#0072B0",
                      "#19AAED",
                      "#FFFFFF",
                      "#22409A",
                      "#000000",
                      "#000000",
                      "#000000",
                      "#000000",
                      "#000000",
                      "#000000",
                      "#FF9933",
                      "#0072B0",
                      "#19AAED",
                      "#FFFFFF",
                      "#22409A",
                      "#DCDCDC",
                      "#000000",
                      "#000000",
                      "#FF9933",
                      "#0072B0",
                      "#19AAED",
                      "#FFFFFF",
                      "#22409A",
                      "#000000",
                      "#DCDCDC",
                      "#FF9933",
                      "#0072B0",
                      "#19AAED",
                      "#22409A",
                      "#DCDCDC",
                      "#FFFFFF",
                      "#000000",
                      "#000000",
                      "#DCDCDC",
                      "#00B2B2",
                      "#DCDCDC",
                      "#0072B0",
                      "#FF9933",
                      "#19AAED",
                      "#22409A",
                      "#003597",
                      "#FFFFFF",
                      "#000000",
                      "#000000",
                      "#DCDCDC",
                      "#00B2B2",
                      "#000000",
                      "#000000",
                      "#FF9933",
                      "#0072B0",
                      "#19AAED",
                      "#22409A",
                      "#FFFFFF",
                      "#DCDCDC",
                      "#003597",
                      "#00B2B2",
                      "#DCDCDC",
                      "#000000",
                      "#000000",
                      "#000000",
                      "#DCDCDC",
                      "#000000",
                      "#000000",
                      "#000000",
                      "#0072B0",
                      "#FF9933",
                      "#19AAED",
                      "#22409A",
                      "#FFFFFF",
                      "#000000",
                      "#000000",
                      "#DCDCDC",
                      "#000000",
                      "#DCDCDC",
                      "#DCDCDC",
                      "#DCDCDC",
                      "#DCDCDC",
                      "#DCDCDC",
                      "#FF9933",
                      "#0072B0",
                      "#19AAED",
                      "#FFFFFF",
                      "#22409A",
                      "#DCDCDC",
                      "#000000",
                      "#000000",
                      "#000000",
                      "#00B2B2",
                      "#0072B0",
                      "#FF9933",
                      "#19AAED",
                      "#FFFFFF",
                      "#000000",
                      "#DCDCDC",
                      "#000000",
                      "#000000",
                      "#000000",
                      "#0072B0",
                      "#FF9933",
                      "#19AAED",
                      "#003597",
                      "#22409A",
                      "#FFFFFF",
                      "#000000",
                      "#000000",
                      "#000000",
                      "#DCDCDC",
                      "#000000",
                      "#000000",
                      "#00B2B2",
                      "#FF9933",
                      "#0072B0",
                      "#0C6B4B",
                      "#19AAED",
                      "#22409A",
                      "#FFFFFF",
                      "#000000",
                      "#000000",
                      "#000000",
                      "#000000",
                      "#000000",
                      "#DCDCDC",
                      "#000000",
                      "#FF9933",
                      "#0072B0",
                      "#19AAED",
                      "#22409A",
                      "#DCDCDC",
                      "#FFFFFF",
                      "#000000",
                      "#CC0D0D",
                      "#000000",
                      "#DCDCDC",
                      "#DCDCDC",
                      "#00B2B2",
                      "#000000",
                      "#000000",
                      "#000000",
                      "#000000"
                    ]
                  },
                  "name": "",
                  "orientation": "h",
                  "type": "bar",
                  "x": [
                    752,
                    224,
                    58,
                    8,
                    0,
                    1,
                    0,
                    0,
                    368,
                    637,
                    112,
                    23,
                    18,
                    21,
                    3,
                    1,
                    0,
                    1,
                    1,
                    0,
                    0,
                    4,
                    0,
                    315,
                    171,
                    48,
                    9,
                    5,
                    2,
                    0,
                    1,
                    0,
                    0,
                    1,
                    0,
                    1,
                    250,
                    87,
                    18,
                    3,
                    1,
                    0,
                    0,
                    0,
                    0,
                    0,
                    0,
                    0,
                    0,
                    0,
                    0,
                    181,
                    92,
                    91,
                    2,
                    5,
                    0,
                    0,
                    0,
                    0,
                    0,
                    0,
                    0,
                    0,
                    421,
                    164,
                    42,
                    11,
                    4,
                    0,
                    0,
                    1,
                    0,
                    0,
                    0,
                    1,
                    769,
                    166,
                    83,
                    5,
                    7,
                    1,
                    0,
                    2,
                    711,
                    227,
                    49,
                    34,
                    12,
                    4,
                    0,
                    1,
                    1,
                    3,
                    1,
                    1,
                    0,
                    0,
                    120,
                    160,
                    17,
                    12,
                    3,
                    0,
                    0,
                    1,
                    0,
                    0,
                    80,
                    92,
                    17,
                    3,
                    0,
                    6,
                    0,
                    2,
                    0,
                    0,
                    0,
                    0,
                    0,
                    322,
                    114,
                    110,
                    9,
                    3,
                    1,
                    0,
                    1,
                    0,
                    0,
                    202,
                    93,
                    23,
                    2,
                    3,
                    0,
                    0,
                    475,
                    107,
                    44,
                    4,
                    3,
                    0,
                    1,
                    0,
                    2,
                    361,
                    118,
                    47,
                    2,
                    1,
                    2,
                    0,
                    0,
                    0,
                    0,
                    299,
                    96,
                    48,
                    1,
                    0,
                    0,
                    1,
                    0,
                    237,
                    94,
                    30,
                    6,
                    4,
                    1,
                    1,
                    307,
                    102,
                    37,
                    1,
                    0,
                    1,
                    0,
                    0,
                    0,
                    0,
                    260,
                    85,
                    22,
                    3,
                    0,
                    0,
                    0,
                    0,
                    0,
                    0,
                    107,
                    199,
                    35,
                    1,
                    2,
                    0,
                    0,
                    0,
                    0,
                    0,
                    0,
                    1,
                    61,
                    62,
                    27,
                    4,
                    0,
                    0,
                    0,
                    0,
                    79,
                    45,
                    21,
                    0,
                    1,
                    0,
                    0,
                    0,
                    0,
                    0,
                    0,
                    1,
                    72,
                    62,
                    21,
                    2,
                    0,
                    0,
                    1,
                    0,
                    0,
                    0,
                    144,
                    117,
                    20,
                    2,
                    5,
                    0,
                    1,
                    104,
                    190,
                    44,
                    4,
                    2,
                    0,
                    201,
                    81,
                    18,
                    3,
                    2,
                    1,
                    0,
                    0,
                    0,
                    0,
                    0,
                    0,
                    0,
                    195,
                    86,
                    80,
                    5,
                    2,
                    0,
                    0,
                    0,
                    0,
                    0,
                    249,
                    107,
                    27,
                    5,
                    2,
                    0,
                    0,
                    0,
                    1,
                    571,
                    285,
                    77,
                    31,
                    8,
                    3,
                    0,
                    2,
                    0,
                    0,
                    1,
                    179,
                    245,
                    31,
                    7,
                    5,
                    0,
                    0,
                    422,
                    175,
                    40,
                    7,
                    3,
                    0,
                    0,
                    1,
                    0,
                    0,
                    1,
                    0,
                    0,
                    1,
                    1,
                    0,
                    0,
                    526,
                    269,
                    68,
                    10,
                    8,
                    2,
                    0,
                    0,
                    1,
                    0,
                    0,
                    0,
                    0,
                    0,
                    476,
                    168,
                    91,
                    8,
                    8,
                    2,
                    0,
                    0,
                    0,
                    0,
                    305,
                    172,
                    50,
                    4,
                    4,
                    0,
                    0,
                    0,
                    0,
                    0,
                    0,
                    1,
                    0,
                    0,
                    1357,
                    530,
                    120,
                    24,
                    18,
                    0,
                    3,
                    0,
                    0,
                    5,
                    1,
                    0,
                    0,
                    0,
                    1650,
                    675,
                    63,
                    29,
                    30,
                    3,
                    4,
                    0,
                    5,
                    1,
                    364,
                    213,
                    75,
                    1,
                    4,
                    0,
                    1,
                    0,
                    0,
                    0,
                    1,
                    0,
                    0,
                    457,
                    250,
                    42,
                    10,
                    5,
                    1,
                    1,
                    1,
                    51,
                    89,
                    22,
                    3,
                    0,
                    0,
                    0,
                    0,
                    280,
                    150,
                    20,
                    6,
                    0,
                    3,
                    1,
                    0,
                    210,
                    134,
                    37,
                    8,
                    0,
                    1,
                    0,
                    0,
                    0,
                    0,
                    0,
                    0,
                    0,
                    0,
                    0,
                    1,
                    1,
                    0,
                    0,
                    0,
                    0,
                    0,
                    0,
                    0,
                    184,
                    103,
                    26,
                    3,
                    1,
                    1,
                    0,
                    0,
                    0,
                    0,
                    171,
                    101,
                    59,
                    2,
                    1,
                    1,
                    348,
                    153,
                    36,
                    6,
                    1,
                    0,
                    0,
                    0,
                    295,
                    155,
                    31,
                    4,
                    0,
                    0,
                    0,
                    1,
                    0,
                    0,
                    0,
                    0,
                    0,
                    0,
                    327,
                    141,
                    46,
                    88,
                    6,
                    7,
                    0,
                    0,
                    0,
                    341,
                    201,
                    51,
                    6,
                    11,
                    0,
                    1,
                    1,
                    1,
                    0,
                    3,
                    0,
                    115,
                    85,
                    64,
                    12,
                    4,
                    14,
                    4,
                    2,
                    163,
                    178,
                    43,
                    1,
                    7,
                    0,
                    6,
                    1,
                    0,
                    0,
                    69,
                    47,
                    23,
                    1,
                    3,
                    0,
                    0,
                    0,
                    0,
                    0,
                    0,
                    0,
                    224,
                    175,
                    34,
                    5,
                    0,
                    0,
                    0,
                    96,
                    155,
                    25,
                    0,
                    0,
                    0,
                    1,
                    0,
                    1,
                    0,
                    0,
                    0,
                    0,
                    0,
                    82,
                    82,
                    10,
                    2,
                    2,
                    0,
                    0,
                    0,
                    0,
                    0,
                    182,
                    238,
                    10,
                    10,
                    7,
                    0,
                    4,
                    0,
                    0,
                    0,
                    0,
                    1,
                    0,
                    192,
                    147,
                    60,
                    101,
                    1,
                    4,
                    3,
                    0,
                    0,
                    0,
                    0,
                    0,
                    0,
                    0,
                    0,
                    188,
                    133,
                    32,
                    4,
                    13,
                    4,
                    0,
                    3,
                    183,
                    256,
                    57,
                    50,
                    5,
                    7,
                    0,
                    1,
                    1,
                    6,
                    364,
                    132,
                    95,
                    9,
                    4,
                    1,
                    0,
                    3,
                    0,
                    2,
                    298,
                    168,
                    39,
                    6,
                    6,
                    1,
                    2,
                    0,
                    0,
                    0,
                    0,
                    0,
                    2,
                    0,
                    0,
                    0,
                    469,
                    144,
                    51,
                    5,
                    7,
                    0,
                    0,
                    0,
                    2,
                    0,
                    0,
                    299,
                    92,
                    37,
                    9,
                    8,
                    0,
                    0,
                    0,
                    193,
                    51,
                    20,
                    0,
                    0,
                    0,
                    0,
                    311,
                    161,
                    28,
                    10,
                    2,
                    3,
                    1,
                    0,
                    0,
                    0,
                    0,
                    167,
                    219,
                    35,
                    12,
                    4,
                    5,
                    1,
                    0,
                    0,
                    0,
                    0,
                    1,
                    597,
                    191,
                    35,
                    23,
                    2,
                    2,
                    2,
                    0,
                    0,
                    0,
                    0,
                    0,
                    0,
                    1,
                    1,
                    0,
                    143,
                    179,
                    27,
                    7,
                    2,
                    0,
                    0,
                    0,
                    0,
                    0,
                    0,
                    0,
                    0,
                    0,
                    281,
                    101,
                    24,
                    1,
                    6,
                    2,
                    0,
                    0,
                    0,
                    2,
                    161,
                    440,
                    20,
                    3,
                    0,
                    0,
                    0,
                    0,
                    1,
                    418,
                    533,
                    65,
                    37,
                    44,
                    12,
                    4,
                    2,
                    0,
                    3,
                    4,
                    0,
                    0,
                    327,
                    126,
                    7,
                    31,
                    22,
                    4,
                    0,
                    0,
                    0,
                    1,
                    0,
                    0,
                    0,
                    404,
                    169,
                    13,
                    11,
                    4,
                    3,
                    0,
                    1,
                    0,
                    1,
                    0,
                    0,
                    0,
                    0,
                    1,
                    1
                  ],
                  "y": [
                    "Narela",
                    "Narela",
                    "Narela",
                    "Narela",
                    "Narela",
                    "Narela",
                    "Narela",
                    "Narela",
                    "Burari",
                    "Burari",
                    "Burari",
                    "Burari",
                    "Burari",
                    "Burari",
                    "Burari",
                    "Burari",
                    "Burari",
                    "Burari",
                    "Burari",
                    "Burari",
                    "Burari",
                    "Burari",
                    "Burari",
                    "Timarpur",
                    "Timarpur",
                    "Timarpur",
                    "Timarpur",
                    "Timarpur",
                    "Timarpur",
                    "Timarpur",
                    "Timarpur",
                    "Timarpur",
                    "Timarpur",
                    "Timarpur",
                    "Timarpur",
                    "Timarpur",
                    "Adarsh Nagar",
                    "Adarsh Nagar",
                    "Adarsh Nagar",
                    "Adarsh Nagar",
                    "Adarsh Nagar",
                    "Adarsh Nagar",
                    "Adarsh Nagar",
                    "Adarsh Nagar",
                    "Adarsh Nagar",
                    "Adarsh Nagar",
                    "Adarsh Nagar",
                    "Adarsh Nagar",
                    "Adarsh Nagar",
                    "Adarsh Nagar",
                    "Adarsh Nagar",
                    "Badli",
                    "Badli",
                    "Badli",
                    "Badli",
                    "Badli",
                    "Badli",
                    "Badli",
                    "Badli",
                    "Badli",
                    "Badli",
                    "Badli",
                    "Badli",
                    "Badli",
                    "Rithala",
                    "Rithala",
                    "Rithala",
                    "Rithala",
                    "Rithala",
                    "Rithala",
                    "Rithala",
                    "Rithala",
                    "Rithala",
                    "Rithala",
                    "Rithala",
                    "Rithala",
                    "Bawana",
                    "Bawana",
                    "Bawana",
                    "Bawana",
                    "Bawana",
                    "Bawana",
                    "Bawana",
                    "Bawana",
                    "Mundka",
                    "Mundka",
                    "Mundka",
                    "Mundka",
                    "Mundka",
                    "Mundka",
                    "Mundka",
                    "Mundka",
                    "Mundka",
                    "Mundka",
                    "Mundka",
                    "Mundka",
                    "Mundka",
                    "Mundka",
                    "Kirari",
                    "Kirari",
                    "Kirari",
                    "Kirari",
                    "Kirari",
                    "Kirari",
                    "Kirari",
                    "Kirari",
                    "Kirari",
                    "Kirari",
                    "Sultan Pur Majra",
                    "Sultan Pur Majra",
                    "Sultan Pur Majra",
                    "Sultan Pur Majra",
                    "Sultan Pur Majra",
                    "Sultan Pur Majra",
                    "Sultan Pur Majra",
                    "Sultan Pur Majra",
                    "Sultan Pur Majra",
                    "Sultan Pur Majra",
                    "Sultan Pur Majra",
                    "Sultan Pur Majra",
                    "Sultan Pur Majra",
                    "Nangloi Jat",
                    "Nangloi Jat",
                    "Nangloi Jat",
                    "Nangloi Jat",
                    "Nangloi Jat",
                    "Nangloi Jat",
                    "Nangloi Jat",
                    "Nangloi Jat",
                    "Nangloi Jat",
                    "Nangloi Jat",
                    "Mangol Puri",
                    "Mangol Puri",
                    "Mangol Puri",
                    "Mangol Puri",
                    "Mangol Puri",
                    "Mangol Puri",
                    "Mangol Puri",
                    "Rohini",
                    "Rohini",
                    "Rohini",
                    "Rohini",
                    "Rohini",
                    "Rohini",
                    "Rohini",
                    "Rohini",
                    "Rohini",
                    "Shalimar Bagh",
                    "Shalimar Bagh",
                    "Shalimar Bagh",
                    "Shalimar Bagh",
                    "Shalimar Bagh",
                    "Shalimar Bagh",
                    "Shalimar Bagh",
                    "Shalimar Bagh",
                    "Shalimar Bagh",
                    "Shalimar Bagh",
                    "Shakur Basti",
                    "Shakur Basti",
                    "Shakur Basti",
                    "Shakur Basti",
                    "Shakur Basti",
                    "Shakur Basti",
                    "Shakur Basti",
                    "Shakur Basti",
                    "Tri Nagar",
                    "Tri Nagar",
                    "Tri Nagar",
                    "Tri Nagar",
                    "Tri Nagar",
                    "Tri Nagar",
                    "Tri Nagar",
                    "Wazirpur",
                    "Wazirpur",
                    "Wazirpur",
                    "Wazirpur",
                    "Wazirpur",
                    "Wazirpur",
                    "Wazirpur",
                    "Wazirpur",
                    "Wazirpur",
                    "Wazirpur",
                    "Model Town",
                    "Model Town",
                    "Model Town",
                    "Model Town",
                    "Model Town",
                    "Model Town",
                    "Model Town",
                    "Model Town",
                    "Model Town",
                    "Model Town",
                    "Sadar Bazar",
                    "Sadar Bazar",
                    "Sadar Bazar",
                    "Sadar Bazar",
                    "Sadar Bazar",
                    "Sadar Bazar",
                    "Sadar Bazar",
                    "Sadar Bazar",
                    "Sadar Bazar",
                    "Sadar Bazar",
                    "Sadar Bazar",
                    "Sadar Bazar",
                    "Chandni Chowk",
                    "Chandni Chowk",
                    "Chandni Chowk",
                    "Chandni Chowk",
                    "Chandni Chowk",
                    "Chandni Chowk",
                    "Chandni Chowk",
                    "Chandni Chowk",
                    "Matia Mahal",
                    "Matia Mahal",
                    "Matia Mahal",
                    "Matia Mahal",
                    "Matia Mahal",
                    "Matia Mahal",
                    "Matia Mahal",
                    "Matia Mahal",
                    "Matia Mahal",
                    "Matia Mahal",
                    "Matia Mahal",
                    "Matia Mahal",
                    "Ballimaran",
                    "Ballimaran",
                    "Ballimaran",
                    "Ballimaran",
                    "Ballimaran",
                    "Ballimaran",
                    "Ballimaran",
                    "Ballimaran",
                    "Ballimaran",
                    "Ballimaran",
                    "Karol Bagh",
                    "Karol Bagh",
                    "Karol Bagh",
                    "Karol Bagh",
                    "Karol Bagh",
                    "Karol Bagh",
                    "Karol Bagh",
                    "Patel Nagar",
                    "Patel Nagar",
                    "Patel Nagar",
                    "Patel Nagar",
                    "Patel Nagar",
                    "Patel Nagar",
                    "Moti Nagar",
                    "Moti Nagar",
                    "Moti Nagar",
                    "Moti Nagar",
                    "Moti Nagar",
                    "Moti Nagar",
                    "Moti Nagar",
                    "Moti Nagar",
                    "Moti Nagar",
                    "Moti Nagar",
                    "Moti Nagar",
                    "Moti Nagar",
                    "Moti Nagar",
                    "Madipur",
                    "Madipur",
                    "Madipur",
                    "Madipur",
                    "Madipur",
                    "Madipur",
                    "Madipur",
                    "Madipur",
                    "Madipur",
                    "Madipur",
                    "Rajouri Garden",
                    "Rajouri Garden",
                    "Rajouri Garden",
                    "Rajouri Garden",
                    "Rajouri Garden",
                    "Rajouri Garden",
                    "Rajouri Garden",
                    "Rajouri Garden",
                    "Rajouri Garden",
                    "Hari Nagar",
                    "Hari Nagar",
                    "Hari Nagar",
                    "Hari Nagar",
                    "Hari Nagar",
                    "Hari Nagar",
                    "Hari Nagar",
                    "Hari Nagar",
                    "Hari Nagar",
                    "Hari Nagar",
                    "Hari Nagar",
                    "Tilak Nagar",
                    "Tilak Nagar",
                    "Tilak Nagar",
                    "Tilak Nagar",
                    "Tilak Nagar",
                    "Tilak Nagar",
                    "Tilak Nagar",
                    "Janakpuri",
                    "Janakpuri",
                    "Janakpuri",
                    "Janakpuri",
                    "Janakpuri",
                    "Janakpuri",
                    "Janakpuri",
                    "Janakpuri",
                    "Janakpuri",
                    "Janakpuri",
                    "Janakpuri",
                    "Janakpuri",
                    "Janakpuri",
                    "Janakpuri",
                    "Janakpuri",
                    "Janakpuri",
                    "Janakpuri",
                    "Vikaspuri",
                    "Vikaspuri",
                    "Vikaspuri",
                    "Vikaspuri",
                    "Vikaspuri",
                    "Vikaspuri",
                    "Vikaspuri",
                    "Vikaspuri",
                    "Vikaspuri",
                    "Vikaspuri",
                    "Vikaspuri",
                    "Vikaspuri",
                    "Vikaspuri",
                    "Vikaspuri",
                    "Uttam Nagar",
                    "Uttam Nagar",
                    "Uttam Nagar",
                    "Uttam Nagar",
                    "Uttam Nagar",
                    "Uttam Nagar",
                    "Uttam Nagar",
                    "Uttam Nagar",
                    "Uttam Nagar",
                    "Uttam Nagar",
                    "Dwarka",
                    "Dwarka",
                    "Dwarka",
                    "Dwarka",
                    "Dwarka",
                    "Dwarka",
                    "Dwarka",
                    "Dwarka",
                    "Dwarka",
                    "Dwarka",
                    "Dwarka",
                    "Dwarka",
                    "Dwarka",
                    "Dwarka",
                    "Matiala",
                    "Matiala",
                    "Matiala",
                    "Matiala",
                    "Matiala",
                    "Matiala",
                    "Matiala",
                    "Matiala",
                    "Matiala",
                    "Matiala",
                    "Matiala",
                    "Matiala",
                    "Matiala",
                    "Matiala",
                    "Najafgarh",
                    "Najafgarh",
                    "Najafgarh",
                    "Najafgarh",
                    "Najafgarh",
                    "Najafgarh",
                    "Najafgarh",
                    "Najafgarh",
                    "Najafgarh",
                    "Najafgarh",
                    "Bijwasan",
                    "Bijwasan",
                    "Bijwasan",
                    "Bijwasan",
                    "Bijwasan",
                    "Bijwasan",
                    "Bijwasan",
                    "Bijwasan",
                    "Bijwasan",
                    "Bijwasan",
                    "Bijwasan",
                    "Bijwasan",
                    "Bijwasan",
                    "Palam",
                    "Palam",
                    "Palam",
                    "Palam",
                    "Palam",
                    "Palam",
                    "Palam",
                    "Palam",
                    "Delhi Cantonment",
                    "Delhi Cantonment",
                    "Delhi Cantonment",
                    "Delhi Cantonment",
                    "Delhi Cantonment",
                    "Delhi Cantonment",
                    "Delhi Cantonment",
                    "Delhi Cantonment",
                    "Rajinder Nagar",
                    "Rajinder Nagar",
                    "Rajinder Nagar",
                    "Rajinder Nagar",
                    "Rajinder Nagar",
                    "Rajinder Nagar",
                    "Rajinder Nagar",
                    "Rajinder Nagar",
                    "New Delhi",
                    "New Delhi",
                    "New Delhi",
                    "New Delhi",
                    "New Delhi",
                    "New Delhi",
                    "New Delhi",
                    "New Delhi",
                    "New Delhi",
                    "New Delhi",
                    "New Delhi",
                    "New Delhi",
                    "New Delhi",
                    "New Delhi",
                    "New Delhi",
                    "New Delhi",
                    "New Delhi",
                    "New Delhi",
                    "New Delhi",
                    "New Delhi",
                    "New Delhi",
                    "New Delhi",
                    "New Delhi",
                    "New Delhi",
                    "Jangpura",
                    "Jangpura",
                    "Jangpura",
                    "Jangpura",
                    "Jangpura",
                    "Jangpura",
                    "Jangpura",
                    "Jangpura",
                    "Jangpura",
                    "Jangpura",
                    "Kasturba Nagar",
                    "Kasturba Nagar",
                    "Kasturba Nagar",
                    "Kasturba Nagar",
                    "Kasturba Nagar",
                    "Kasturba Nagar",
                    "Malviya Nagar",
                    "Malviya Nagar",
                    "Malviya Nagar",
                    "Malviya Nagar",
                    "Malviya Nagar",
                    "Malviya Nagar",
                    "Malviya Nagar",
                    "Malviya Nagar",
                    "R K Puram",
                    "R K Puram",
                    "R K Puram",
                    "R K Puram",
                    "R K Puram",
                    "R K Puram",
                    "R K Puram",
                    "R K Puram",
                    "R K Puram",
                    "R K Puram",
                    "R K Puram",
                    "R K Puram",
                    "R K Puram",
                    "R K Puram",
                    "Mehrauli",
                    "Mehrauli",
                    "Mehrauli",
                    "Mehrauli",
                    "Mehrauli",
                    "Mehrauli",
                    "Mehrauli",
                    "Mehrauli",
                    "Mehrauli",
                    "Chhatarpur",
                    "Chhatarpur",
                    "Chhatarpur",
                    "Chhatarpur",
                    "Chhatarpur",
                    "Chhatarpur",
                    "Chhatarpur",
                    "Chhatarpur",
                    "Chhatarpur",
                    "Chhatarpur",
                    "Chhatarpur",
                    "Chhatarpur",
                    "Deoli",
                    "Deoli",
                    "Deoli",
                    "Deoli",
                    "Deoli",
                    "Deoli",
                    "Deoli",
                    "Deoli",
                    "Ambedkar Nagar",
                    "Ambedkar Nagar",
                    "Ambedkar Nagar",
                    "Ambedkar Nagar",
                    "Ambedkar Nagar",
                    "Ambedkar Nagar",
                    "Ambedkar Nagar",
                    "Ambedkar Nagar",
                    "Ambedkar Nagar",
                    "Ambedkar Nagar",
                    "Sangam Vihar",
                    "Sangam Vihar",
                    "Sangam Vihar",
                    "Sangam Vihar",
                    "Sangam Vihar",
                    "Sangam Vihar",
                    "Sangam Vihar",
                    "Sangam Vihar",
                    "Sangam Vihar",
                    "Sangam Vihar",
                    "Sangam Vihar",
                    "Sangam Vihar",
                    "Greater Kailash",
                    "Greater Kailash",
                    "Greater Kailash",
                    "Greater Kailash",
                    "Greater Kailash",
                    "Greater Kailash",
                    "Greater Kailash",
                    "Kalkaji",
                    "Kalkaji",
                    "Kalkaji",
                    "Kalkaji",
                    "Kalkaji",
                    "Kalkaji",
                    "Kalkaji",
                    "Kalkaji",
                    "Kalkaji",
                    "Kalkaji",
                    "Kalkaji",
                    "Kalkaji",
                    "Kalkaji",
                    "Kalkaji",
                    "Tughlakabad",
                    "Tughlakabad",
                    "Tughlakabad",
                    "Tughlakabad",
                    "Tughlakabad",
                    "Tughlakabad",
                    "Tughlakabad",
                    "Tughlakabad",
                    "Tughlakabad",
                    "Tughlakabad",
                    "Badarpur",
                    "Badarpur",
                    "Badarpur",
                    "Badarpur",
                    "Badarpur",
                    "Badarpur",
                    "Badarpur",
                    "Badarpur",
                    "Badarpur",
                    "Badarpur",
                    "Badarpur",
                    "Badarpur",
                    "Badarpur",
                    "Okhla",
                    "Okhla",
                    "Okhla",
                    "Okhla",
                    "Okhla",
                    "Okhla",
                    "Okhla",
                    "Okhla",
                    "Okhla",
                    "Okhla",
                    "Okhla",
                    "Okhla",
                    "Okhla",
                    "Okhla",
                    "Okhla",
                    "Trilokpuri",
                    "Trilokpuri",
                    "Trilokpuri",
                    "Trilokpuri",
                    "Trilokpuri",
                    "Trilokpuri",
                    "Trilokpuri",
                    "Trilokpuri",
                    "Kondli",
                    "Kondli",
                    "Kondli",
                    "Kondli",
                    "Kondli",
                    "Kondli",
                    "Kondli",
                    "Kondli",
                    "Kondli",
                    "Kondli",
                    "Patparganj",
                    "Patparganj",
                    "Patparganj",
                    "Patparganj",
                    "Patparganj",
                    "Patparganj",
                    "Patparganj",
                    "Patparganj",
                    "Patparganj",
                    "Patparganj",
                    "Laxmi Nagar",
                    "Laxmi Nagar",
                    "Laxmi Nagar",
                    "Laxmi Nagar",
                    "Laxmi Nagar",
                    "Laxmi Nagar",
                    "Laxmi Nagar",
                    "Laxmi Nagar",
                    "Laxmi Nagar",
                    "Laxmi Nagar",
                    "Laxmi Nagar",
                    "Laxmi Nagar",
                    "Laxmi Nagar",
                    "Laxmi Nagar",
                    "Laxmi Nagar",
                    "Laxmi Nagar",
                    "Vishwas Nagar",
                    "Vishwas Nagar",
                    "Vishwas Nagar",
                    "Vishwas Nagar",
                    "Vishwas Nagar",
                    "Vishwas Nagar",
                    "Vishwas Nagar",
                    "Vishwas Nagar",
                    "Vishwas Nagar",
                    "Vishwas Nagar",
                    "Vishwas Nagar",
                    "Krishna Nagar",
                    "Krishna Nagar",
                    "Krishna Nagar",
                    "Krishna Nagar",
                    "Krishna Nagar",
                    "Krishna Nagar",
                    "Krishna Nagar",
                    "Krishna Nagar",
                    "Gandhi Nagar",
                    "Gandhi Nagar",
                    "Gandhi Nagar",
                    "Gandhi Nagar",
                    "Gandhi Nagar",
                    "Gandhi Nagar",
                    "Gandhi Nagar",
                    "Shahdara",
                    "Shahdara",
                    "Shahdara",
                    "Shahdara",
                    "Shahdara",
                    "Shahdara",
                    "Shahdara",
                    "Shahdara",
                    "Shahdara",
                    "Shahdara",
                    "Shahdara",
                    "Seemapuri",
                    "Seemapuri",
                    "Seemapuri",
                    "Seemapuri",
                    "Seemapuri",
                    "Seemapuri",
                    "Seemapuri",
                    "Seemapuri",
                    "Seemapuri",
                    "Seemapuri",
                    "Seemapuri",
                    "Seemapuri",
                    "Rohtas Nagar",
                    "Rohtas Nagar",
                    "Rohtas Nagar",
                    "Rohtas Nagar",
                    "Rohtas Nagar",
                    "Rohtas Nagar",
                    "Rohtas Nagar",
                    "Rohtas Nagar",
                    "Rohtas Nagar",
                    "Rohtas Nagar",
                    "Rohtas Nagar",
                    "Rohtas Nagar",
                    "Rohtas Nagar",
                    "Rohtas Nagar",
                    "Rohtas Nagar",
                    "Rohtas Nagar",
                    "Seelampur",
                    "Seelampur",
                    "Seelampur",
                    "Seelampur",
                    "Seelampur",
                    "Seelampur",
                    "Seelampur",
                    "Seelampur",
                    "Seelampur",
                    "Seelampur",
                    "Seelampur",
                    "Seelampur",
                    "Seelampur",
                    "Seelampur",
                    "Ghonda",
                    "Ghonda",
                    "Ghonda",
                    "Ghonda",
                    "Ghonda",
                    "Ghonda",
                    "Ghonda",
                    "Ghonda",
                    "Ghonda",
                    "Ghonda",
                    "Babarpur",
                    "Babarpur",
                    "Babarpur",
                    "Babarpur",
                    "Babarpur",
                    "Babarpur",
                    "Babarpur",
                    "Babarpur",
                    "Babarpur",
                    "Gokalpur",
                    "Gokalpur",
                    "Gokalpur",
                    "Gokalpur",
                    "Gokalpur",
                    "Gokalpur",
                    "Gokalpur",
                    "Gokalpur",
                    "Gokalpur",
                    "Gokalpur",
                    "Gokalpur",
                    "Gokalpur",
                    "Gokalpur",
                    "Mustafabad",
                    "Mustafabad",
                    "Mustafabad",
                    "Mustafabad",
                    "Mustafabad",
                    "Mustafabad",
                    "Mustafabad",
                    "Mustafabad",
                    "Mustafabad",
                    "Mustafabad",
                    "Mustafabad",
                    "Mustafabad",
                    "Mustafabad",
                    "Karawal Nagar",
                    "Karawal Nagar",
                    "Karawal Nagar",
                    "Karawal Nagar",
                    "Karawal Nagar",
                    "Karawal Nagar",
                    "Karawal Nagar",
                    "Karawal Nagar",
                    "Karawal Nagar",
                    "Karawal Nagar",
                    "Karawal Nagar",
                    "Karawal Nagar",
                    "Karawal Nagar",
                    "Karawal Nagar",
                    "Karawal Nagar",
                    "Karawal Nagar"
                  ]
                }
              ],
              "layout": {
                "height": 1500,
                "template": {
                  "data": {
                    "bar": [
                      {
                        "error_x": {
                          "color": "#2a3f5f"
                        },
                        "error_y": {
                          "color": "#2a3f5f"
                        },
                        "marker": {
                          "line": {
                            "color": "#E5ECF6",
                            "width": 0.5
                          },
                          "pattern": {
                            "fillmode": "overlay",
                            "size": 10,
                            "solidity": 0.2
                          }
                        },
                        "type": "bar"
                      }
                    ],
                    "barpolar": [
                      {
                        "marker": {
                          "line": {
                            "color": "#E5ECF6",
                            "width": 0.5
                          },
                          "pattern": {
                            "fillmode": "overlay",
                            "size": 10,
                            "solidity": 0.2
                          }
                        },
                        "type": "barpolar"
                      }
                    ],
                    "carpet": [
                      {
                        "aaxis": {
                          "endlinecolor": "#2a3f5f",
                          "gridcolor": "white",
                          "linecolor": "white",
                          "minorgridcolor": "white",
                          "startlinecolor": "#2a3f5f"
                        },
                        "baxis": {
                          "endlinecolor": "#2a3f5f",
                          "gridcolor": "white",
                          "linecolor": "white",
                          "minorgridcolor": "white",
                          "startlinecolor": "#2a3f5f"
                        },
                        "type": "carpet"
                      }
                    ],
                    "choropleth": [
                      {
                        "colorbar": {
                          "outlinewidth": 0,
                          "ticks": ""
                        },
                        "type": "choropleth"
                      }
                    ],
                    "contour": [
                      {
                        "colorbar": {
                          "outlinewidth": 0,
                          "ticks": ""
                        },
                        "colorscale": [
                          [
                            0,
                            "#0d0887"
                          ],
                          [
                            0.1111111111111111,
                            "#46039f"
                          ],
                          [
                            0.2222222222222222,
                            "#7201a8"
                          ],
                          [
                            0.3333333333333333,
                            "#9c179e"
                          ],
                          [
                            0.4444444444444444,
                            "#bd3786"
                          ],
                          [
                            0.5555555555555556,
                            "#d8576b"
                          ],
                          [
                            0.6666666666666666,
                            "#ed7953"
                          ],
                          [
                            0.7777777777777778,
                            "#fb9f3a"
                          ],
                          [
                            0.8888888888888888,
                            "#fdca26"
                          ],
                          [
                            1,
                            "#f0f921"
                          ]
                        ],
                        "type": "contour"
                      }
                    ],
                    "contourcarpet": [
                      {
                        "colorbar": {
                          "outlinewidth": 0,
                          "ticks": ""
                        },
                        "type": "contourcarpet"
                      }
                    ],
                    "heatmap": [
                      {
                        "colorbar": {
                          "outlinewidth": 0,
                          "ticks": ""
                        },
                        "colorscale": [
                          [
                            0,
                            "#0d0887"
                          ],
                          [
                            0.1111111111111111,
                            "#46039f"
                          ],
                          [
                            0.2222222222222222,
                            "#7201a8"
                          ],
                          [
                            0.3333333333333333,
                            "#9c179e"
                          ],
                          [
                            0.4444444444444444,
                            "#bd3786"
                          ],
                          [
                            0.5555555555555556,
                            "#d8576b"
                          ],
                          [
                            0.6666666666666666,
                            "#ed7953"
                          ],
                          [
                            0.7777777777777778,
                            "#fb9f3a"
                          ],
                          [
                            0.8888888888888888,
                            "#fdca26"
                          ],
                          [
                            1,
                            "#f0f921"
                          ]
                        ],
                        "type": "heatmap"
                      }
                    ],
                    "heatmapgl": [
                      {
                        "colorbar": {
                          "outlinewidth": 0,
                          "ticks": ""
                        },
                        "colorscale": [
                          [
                            0,
                            "#0d0887"
                          ],
                          [
                            0.1111111111111111,
                            "#46039f"
                          ],
                          [
                            0.2222222222222222,
                            "#7201a8"
                          ],
                          [
                            0.3333333333333333,
                            "#9c179e"
                          ],
                          [
                            0.4444444444444444,
                            "#bd3786"
                          ],
                          [
                            0.5555555555555556,
                            "#d8576b"
                          ],
                          [
                            0.6666666666666666,
                            "#ed7953"
                          ],
                          [
                            0.7777777777777778,
                            "#fb9f3a"
                          ],
                          [
                            0.8888888888888888,
                            "#fdca26"
                          ],
                          [
                            1,
                            "#f0f921"
                          ]
                        ],
                        "type": "heatmapgl"
                      }
                    ],
                    "histogram": [
                      {
                        "marker": {
                          "pattern": {
                            "fillmode": "overlay",
                            "size": 10,
                            "solidity": 0.2
                          }
                        },
                        "type": "histogram"
                      }
                    ],
                    "histogram2d": [
                      {
                        "colorbar": {
                          "outlinewidth": 0,
                          "ticks": ""
                        },
                        "colorscale": [
                          [
                            0,
                            "#0d0887"
                          ],
                          [
                            0.1111111111111111,
                            "#46039f"
                          ],
                          [
                            0.2222222222222222,
                            "#7201a8"
                          ],
                          [
                            0.3333333333333333,
                            "#9c179e"
                          ],
                          [
                            0.4444444444444444,
                            "#bd3786"
                          ],
                          [
                            0.5555555555555556,
                            "#d8576b"
                          ],
                          [
                            0.6666666666666666,
                            "#ed7953"
                          ],
                          [
                            0.7777777777777778,
                            "#fb9f3a"
                          ],
                          [
                            0.8888888888888888,
                            "#fdca26"
                          ],
                          [
                            1,
                            "#f0f921"
                          ]
                        ],
                        "type": "histogram2d"
                      }
                    ],
                    "histogram2dcontour": [
                      {
                        "colorbar": {
                          "outlinewidth": 0,
                          "ticks": ""
                        },
                        "colorscale": [
                          [
                            0,
                            "#0d0887"
                          ],
                          [
                            0.1111111111111111,
                            "#46039f"
                          ],
                          [
                            0.2222222222222222,
                            "#7201a8"
                          ],
                          [
                            0.3333333333333333,
                            "#9c179e"
                          ],
                          [
                            0.4444444444444444,
                            "#bd3786"
                          ],
                          [
                            0.5555555555555556,
                            "#d8576b"
                          ],
                          [
                            0.6666666666666666,
                            "#ed7953"
                          ],
                          [
                            0.7777777777777778,
                            "#fb9f3a"
                          ],
                          [
                            0.8888888888888888,
                            "#fdca26"
                          ],
                          [
                            1,
                            "#f0f921"
                          ]
                        ],
                        "type": "histogram2dcontour"
                      }
                    ],
                    "mesh3d": [
                      {
                        "colorbar": {
                          "outlinewidth": 0,
                          "ticks": ""
                        },
                        "type": "mesh3d"
                      }
                    ],
                    "parcoords": [
                      {
                        "line": {
                          "colorbar": {
                            "outlinewidth": 0,
                            "ticks": ""
                          }
                        },
                        "type": "parcoords"
                      }
                    ],
                    "pie": [
                      {
                        "automargin": true,
                        "type": "pie"
                      }
                    ],
                    "scatter": [
                      {
                        "fillpattern": {
                          "fillmode": "overlay",
                          "size": 10,
                          "solidity": 0.2
                        },
                        "type": "scatter"
                      }
                    ],
                    "scatter3d": [
                      {
                        "line": {
                          "colorbar": {
                            "outlinewidth": 0,
                            "ticks": ""
                          }
                        },
                        "marker": {
                          "colorbar": {
                            "outlinewidth": 0,
                            "ticks": ""
                          }
                        },
                        "type": "scatter3d"
                      }
                    ],
                    "scattercarpet": [
                      {
                        "marker": {
                          "colorbar": {
                            "outlinewidth": 0,
                            "ticks": ""
                          }
                        },
                        "type": "scattercarpet"
                      }
                    ],
                    "scattergeo": [
                      {
                        "marker": {
                          "colorbar": {
                            "outlinewidth": 0,
                            "ticks": ""
                          }
                        },
                        "type": "scattergeo"
                      }
                    ],
                    "scattergl": [
                      {
                        "marker": {
                          "colorbar": {
                            "outlinewidth": 0,
                            "ticks": ""
                          }
                        },
                        "type": "scattergl"
                      }
                    ],
                    "scattermapbox": [
                      {
                        "marker": {
                          "colorbar": {
                            "outlinewidth": 0,
                            "ticks": ""
                          }
                        },
                        "type": "scattermapbox"
                      }
                    ],
                    "scatterpolar": [
                      {
                        "marker": {
                          "colorbar": {
                            "outlinewidth": 0,
                            "ticks": ""
                          }
                        },
                        "type": "scatterpolar"
                      }
                    ],
                    "scatterpolargl": [
                      {
                        "marker": {
                          "colorbar": {
                            "outlinewidth": 0,
                            "ticks": ""
                          }
                        },
                        "type": "scatterpolargl"
                      }
                    ],
                    "scatterternary": [
                      {
                        "marker": {
                          "colorbar": {
                            "outlinewidth": 0,
                            "ticks": ""
                          }
                        },
                        "type": "scatterternary"
                      }
                    ],
                    "surface": [
                      {
                        "colorbar": {
                          "outlinewidth": 0,
                          "ticks": ""
                        },
                        "colorscale": [
                          [
                            0,
                            "#0d0887"
                          ],
                          [
                            0.1111111111111111,
                            "#46039f"
                          ],
                          [
                            0.2222222222222222,
                            "#7201a8"
                          ],
                          [
                            0.3333333333333333,
                            "#9c179e"
                          ],
                          [
                            0.4444444444444444,
                            "#bd3786"
                          ],
                          [
                            0.5555555555555556,
                            "#d8576b"
                          ],
                          [
                            0.6666666666666666,
                            "#ed7953"
                          ],
                          [
                            0.7777777777777778,
                            "#fb9f3a"
                          ],
                          [
                            0.8888888888888888,
                            "#fdca26"
                          ],
                          [
                            1,
                            "#f0f921"
                          ]
                        ],
                        "type": "surface"
                      }
                    ],
                    "table": [
                      {
                        "cells": {
                          "fill": {
                            "color": "#EBF0F8"
                          },
                          "line": {
                            "color": "white"
                          }
                        },
                        "header": {
                          "fill": {
                            "color": "#C8D4E3"
                          },
                          "line": {
                            "color": "white"
                          }
                        },
                        "type": "table"
                      }
                    ]
                  },
                  "layout": {
                    "annotationdefaults": {
                      "arrowcolor": "#2a3f5f",
                      "arrowhead": 0,
                      "arrowwidth": 1
                    },
                    "autotypenumbers": "strict",
                    "coloraxis": {
                      "colorbar": {
                        "outlinewidth": 0,
                        "ticks": ""
                      }
                    },
                    "colorscale": {
                      "diverging": [
                        [
                          0,
                          "#8e0152"
                        ],
                        [
                          0.1,
                          "#c51b7d"
                        ],
                        [
                          0.2,
                          "#de77ae"
                        ],
                        [
                          0.3,
                          "#f1b6da"
                        ],
                        [
                          0.4,
                          "#fde0ef"
                        ],
                        [
                          0.5,
                          "#f7f7f7"
                        ],
                        [
                          0.6,
                          "#e6f5d0"
                        ],
                        [
                          0.7,
                          "#b8e186"
                        ],
                        [
                          0.8,
                          "#7fbc41"
                        ],
                        [
                          0.9,
                          "#4d9221"
                        ],
                        [
                          1,
                          "#276419"
                        ]
                      ],
                      "sequential": [
                        [
                          0,
                          "#0d0887"
                        ],
                        [
                          0.1111111111111111,
                          "#46039f"
                        ],
                        [
                          0.2222222222222222,
                          "#7201a8"
                        ],
                        [
                          0.3333333333333333,
                          "#9c179e"
                        ],
                        [
                          0.4444444444444444,
                          "#bd3786"
                        ],
                        [
                          0.5555555555555556,
                          "#d8576b"
                        ],
                        [
                          0.6666666666666666,
                          "#ed7953"
                        ],
                        [
                          0.7777777777777778,
                          "#fb9f3a"
                        ],
                        [
                          0.8888888888888888,
                          "#fdca26"
                        ],
                        [
                          1,
                          "#f0f921"
                        ]
                      ],
                      "sequentialminus": [
                        [
                          0,
                          "#0d0887"
                        ],
                        [
                          0.1111111111111111,
                          "#46039f"
                        ],
                        [
                          0.2222222222222222,
                          "#7201a8"
                        ],
                        [
                          0.3333333333333333,
                          "#9c179e"
                        ],
                        [
                          0.4444444444444444,
                          "#bd3786"
                        ],
                        [
                          0.5555555555555556,
                          "#d8576b"
                        ],
                        [
                          0.6666666666666666,
                          "#ed7953"
                        ],
                        [
                          0.7777777777777778,
                          "#fb9f3a"
                        ],
                        [
                          0.8888888888888888,
                          "#fdca26"
                        ],
                        [
                          1,
                          "#f0f921"
                        ]
                      ]
                    },
                    "colorway": [
                      "#636efa",
                      "#EF553B",
                      "#00cc96",
                      "#ab63fa",
                      "#FFA15A",
                      "#19d3f3",
                      "#FF6692",
                      "#B6E880",
                      "#FF97FF",
                      "#FECB52"
                    ],
                    "font": {
                      "color": "#2a3f5f"
                    },
                    "geo": {
                      "bgcolor": "white",
                      "lakecolor": "white",
                      "landcolor": "#E5ECF6",
                      "showlakes": true,
                      "showland": true,
                      "subunitcolor": "white"
                    },
                    "hoverlabel": {
                      "align": "left"
                    },
                    "hovermode": "closest",
                    "mapbox": {
                      "style": "light"
                    },
                    "paper_bgcolor": "white",
                    "plot_bgcolor": "#E5ECF6",
                    "polar": {
                      "angularaxis": {
                        "gridcolor": "white",
                        "linecolor": "white",
                        "ticks": ""
                      },
                      "bgcolor": "#E5ECF6",
                      "radialaxis": {
                        "gridcolor": "white",
                        "linecolor": "white",
                        "ticks": ""
                      }
                    },
                    "scene": {
                      "xaxis": {
                        "backgroundcolor": "#E5ECF6",
                        "gridcolor": "white",
                        "gridwidth": 2,
                        "linecolor": "white",
                        "showbackground": true,
                        "ticks": "",
                        "zerolinecolor": "white"
                      },
                      "yaxis": {
                        "backgroundcolor": "#E5ECF6",
                        "gridcolor": "white",
                        "gridwidth": 2,
                        "linecolor": "white",
                        "showbackground": true,
                        "ticks": "",
                        "zerolinecolor": "white"
                      },
                      "zaxis": {
                        "backgroundcolor": "#E5ECF6",
                        "gridcolor": "white",
                        "gridwidth": 2,
                        "linecolor": "white",
                        "showbackground": true,
                        "ticks": "",
                        "zerolinecolor": "white"
                      }
                    },
                    "shapedefaults": {
                      "line": {
                        "color": "#2a3f5f"
                      }
                    },
                    "ternary": {
                      "aaxis": {
                        "gridcolor": "white",
                        "linecolor": "white",
                        "ticks": ""
                      },
                      "baxis": {
                        "gridcolor": "white",
                        "linecolor": "white",
                        "ticks": ""
                      },
                      "bgcolor": "#E5ECF6",
                      "caxis": {
                        "gridcolor": "white",
                        "linecolor": "white",
                        "ticks": ""
                      }
                    },
                    "title": {
                      "x": 0.05
                    },
                    "xaxis": {
                      "automargin": true,
                      "gridcolor": "white",
                      "linecolor": "white",
                      "ticks": "",
                      "title": {
                        "standoff": 15
                      },
                      "zerolinecolor": "white",
                      "zerolinewidth": 2
                    },
                    "yaxis": {
                      "automargin": true,
                      "gridcolor": "white",
                      "linecolor": "white",
                      "ticks": "",
                      "title": {
                        "standoff": 15
                      },
                      "zerolinecolor": "white",
                      "zerolinewidth": 2
                    }
                  }
                },
                "title": {
                  "text": "Constituency wise Postal Ballot votes"
                }
              }
            }
          },
          "metadata": {},
          "output_type": "display_data"
        }
      ],
      "source": [
        "# Postal ballot at a glance \n",
        "fig = go.Figure()\n",
        "fig.add_traces(go.Bar(y=result['Constituency Name'], x=result['Postal Votes'], customdata=result[['Abb','Candidate']],\n",
        "                      orientation='h', marker_color=result['Color'], hovertemplate='%{y}<br>%{customdata[1]}<br>%{customdata[0]} %{x} votes',\n",
        "                      hovertext=list(zip(result['Abb'],result['Candidate'])), name=''))\n",
        "fig.update_layout(title='Constituency wise Postal Ballot votes', height=1500)"
      ]
    },
    {
      "cell_type": "code",
      "execution_count": 321,
      "metadata": {},
      "outputs": [
        {
          "data": {
            "application/vnd.plotly.v1+json": {
              "config": {
                "plotlyServerURL": "https://plot.ly"
              },
              "data": [
                {
                  "marker": {
                    "color": [
                      "#0072B0",
                      "#0072B0",
                      "#FF9933",
                      "#0072B0",
                      "#FF9933",
                      "#0072B0",
                      "#FF9933",
                      "#FF9933",
                      "#FF9933",
                      "#FF9933",
                      "#FF9933",
                      "#FF9933",
                      "#FF9933",
                      "#FF9933",
                      "#FF9933",
                      "#0072B0",
                      "#FF9933",
                      "#0072B0",
                      "#FF9933",
                      "#0072B0",
                      "#FF9933",
                      "#0072B0",
                      "#FF9933",
                      "#0072B0",
                      "#FF9933",
                      "#FF9933",
                      "#FF9933",
                      "#0072B0",
                      "#0072B0",
                      "#FF9933",
                      "#FF9933",
                      "#0072B0",
                      "#FF9933",
                      "#FF9933",
                      "#FF9933",
                      "#FF9933",
                      "#FF9933",
                      "#0072B0",
                      "#FF9933",
                      "#FF9933",
                      "#FF9933",
                      "#FF9933",
                      "#FF9933",
                      "#FF9933",
                      "#FF9933",
                      "#0072B0",
                      "#FF9933",
                      "#FF9933",
                      "#0072B0",
                      "#FF9933",
                      "#0072B0",
                      "#FF9933",
                      "#0072B0",
                      "#0072B0",
                      "#FF9933",
                      "#FF9933",
                      "#FF9933",
                      "#0072B0",
                      "#FF9933",
                      "#0072B0",
                      "#0072B0",
                      "#FF9933",
                      "#FF9933",
                      "#0072B0",
                      "#FF9933",
                      "#FF9933",
                      "#FF9933",
                      "#FF9933",
                      "#FF9933",
                      "#FF9933"
                    ]
                  },
                  "orientation": "h",
                  "text": [
                    [
                      "AAP",
                      "AALEY MOHAMMED IQBAL"
                    ],
                    [
                      "AAP",
                      "CHAUDHARY ZUBAIR AHMAD"
                    ],
                    [
                      "BJP",
                      "VIJENDER GUPTA"
                    ],
                    [
                      "AAP",
                      "PREM CHAUHAN"
                    ],
                    [
                      "BJP",
                      "RAVINDER INDRAJ SINGH"
                    ],
                    [
                      "AAP",
                      "IMRAN HUSSAIN"
                    ],
                    [
                      "BJP",
                      "PAWAN SHARMA"
                    ],
                    [
                      "BJP",
                      "KULWANT RANA"
                    ],
                    [
                      "BJP",
                      "REKHA GUPTA"
                    ],
                    [
                      "BJP",
                      "NEELAM PAHALWAN"
                    ],
                    [
                      "BJP",
                      "SANDEEP SEHRAWAT"
                    ],
                    [
                      "BJP",
                      "Ravinder Singh Negi (Ravi Negi)"
                    ],
                    [
                      "BJP",
                      "JITENDER MAHAJAN"
                    ],
                    [
                      "BJP",
                      "MANOJ KUMAR SHOKEEN"
                    ],
                    [
                      "BJP",
                      "AJAY MAHAWAR"
                    ],
                    [
                      "AAP",
                      "RAM SINGH NETAJI"
                    ],
                    [
                      "BJP",
                      "OM PRAKASH SHARMA"
                    ],
                    [
                      "AAP",
                      "AMANATULLAH KHAN"
                    ],
                    [
                      "BJP",
                      "KAPIL MISHRA"
                    ],
                    [
                      "AAP",
                      "ANIL JHA"
                    ],
                    [
                      "BJP",
                      "KARNAIL SINGH"
                    ],
                    [
                      "AAP",
                      "SANJEEV JHA"
                    ],
                    [
                      "BJP",
                      "DR ANIL GOYAL"
                    ],
                    [
                      "AAP",
                      "GOPAL RAI"
                    ],
                    [
                      "BJP",
                      "ASHISH SOOD"
                    ],
                    [
                      "BJP",
                      "MANJINDER SINGH SIRSA"
                    ],
                    [
                      "BJP",
                      "MOHAN SINGH BISHT"
                    ],
                    [
                      "AAP",
                      "MUKESH KUMAR AHLAWAT"
                    ],
                    [
                      "AAP",
                      "PUNARDEEP SINGH SAWHNEY (SABBY)"
                    ],
                    [
                      "BJP",
                      "TILAK RAM GUPTA"
                    ],
                    [
                      "BJP",
                      "AAHIR DEEPAK CHAUDHARYY"
                    ],
                    [
                      "AAP",
                      "SAHI RAM"
                    ],
                    [
                      "BJP",
                      "ANIL KUMAR SHARMA"
                    ],
                    [
                      "BJP",
                      "ASHOK GOEL"
                    ],
                    [
                      "BJP",
                      "PANKAJ KUMAR SINGH"
                    ],
                    [
                      "BJP",
                      "ARVINDER SINGH LOVELY"
                    ],
                    [
                      "BJP",
                      "HARISH KHURANA"
                    ],
                    [
                      "AAP",
                      "JARNAIL SINGH"
                    ],
                    [
                      "BJP",
                      "ABHAY VERMA"
                    ],
                    [
                      "BJP",
                      "RAJ KUMAR BHATIA"
                    ],
                    [
                      "BJP",
                      "POONAM SHARMA"
                    ],
                    [
                      "BJP",
                      "KAILASH GAHLOT"
                    ],
                    [
                      "BJP",
                      "NEERAJ BASOYA"
                    ],
                    [
                      "BJP",
                      "KAILASH GANGWAL"
                    ],
                    [
                      "BJP",
                      "GAJENDER DRALL"
                    ],
                    [
                      "AAP",
                      "VEER SINGH DHINGAN"
                    ],
                    [
                      "BJP",
                      "KULDEEP SOLANKI"
                    ],
                    [
                      "BJP",
                      "RAJ KARAN KHATRI"
                    ],
                    [
                      "AAP",
                      "SURENDRA KUMAR"
                    ],
                    [
                      "BJP",
                      "PARDUYMN SINGH RAJPUT"
                    ],
                    [
                      "AAP",
                      "VISHESH RAVI"
                    ],
                    [
                      "BJP",
                      "SHYAM SHARMA"
                    ],
                    [
                      "AAP",
                      "SOM DUTT"
                    ],
                    [
                      "AAP",
                      "KULDEEP KUMAR (MONU)"
                    ],
                    [
                      "BJP",
                      "RAJ KUMAR CHAUHAN"
                    ],
                    [
                      "BJP",
                      "KARTAR SINGH TANWAR"
                    ],
                    [
                      "BJP",
                      "SANJAY GOYAL"
                    ],
                    [
                      "AAP",
                      "DR. AJAY DUTT"
                    ],
                    [
                      "BJP",
                      "PARVESH SAHIB SINGH"
                    ],
                    [
                      "AAP",
                      "PRAVESH RATN"
                    ],
                    [
                      "AAP",
                      "ATISHI"
                    ],
                    [
                      "BJP",
                      "SHIKHA ROY"
                    ],
                    [
                      "BJP",
                      "SATISH UPADHYAY"
                    ],
                    [
                      "AAP",
                      "VIRENDER SINGH KADIAN"
                    ],
                    [
                      "BJP",
                      "GAJENDER SINGH YADAV"
                    ],
                    [
                      "BJP",
                      "UMANG BAJAJ"
                    ],
                    [
                      "BJP",
                      "SURYA PRAKASH KHATRI"
                    ],
                    [
                      "BJP",
                      "TARVINDER SINGH MARWAH"
                    ],
                    [
                      "BJP",
                      "RAVI KANT"
                    ],
                    [
                      "BJP",
                      "CHANDAN KUMAR CHOUDHARY"
                    ]
                  ],
                  "textposition": "outside",
                  "texttemplate": "%{text[0]}, %{x}",
                  "type": "bar",
                  "x": [
                    42724,
                    42477,
                    37816,
                    36680,
                    31475,
                    29823,
                    29740,
                    29616,
                    29595,
                    29009,
                    28723,
                    28072,
                    27902,
                    26251,
                    26058,
                    25888,
                    25042,
                    23639,
                    23355,
                    21871,
                    20998,
                    20601,
                    19498,
                    18994,
                    18766,
                    18190,
                    17578,
                    17126,
                    16572,
                    15896,
                    15163,
                    14711,
                    14453,
                    13415,
                    12876,
                    12748,
                    11657,
                    11656,
                    11542,
                    11482,
                    11425,
                    11276,
                    11048,
                    10899,
                    10550,
                    10368,
                    8952,
                    8596,
                    8207,
                    7829,
                    7430,
                    6632,
                    6307,
                    6293,
                    6255,
                    6239,
                    5178,
                    4230,
                    4089,
                    4049,
                    3521,
                    3188,
                    2131,
                    2029,
                    1782,
                    1231,
                    1168,
                    675,
                    392,
                    344
                  ],
                  "y": [
                    "Matia Mahal",
                    "Seelampur",
                    "Rohini",
                    "Deoli",
                    "Bawana",
                    "Ballimaran",
                    "Uttam Nagar",
                    "Rithala",
                    "Shalimar Bagh",
                    "Najafgarh",
                    "Matiala",
                    "Patparganj",
                    "Rohtas Nagar",
                    "Nangloi Jat",
                    "Ghonda",
                    "Badarpur",
                    "Vishwas Nagar",
                    "Okhla",
                    "Karawal Nagar",
                    "Kirari",
                    "Shakur Basti",
                    "Burari",
                    "Krishna Nagar",
                    "Babarpur",
                    "Janakpuri",
                    "Rajouri Garden",
                    "Mustafabad",
                    "Sultan Pur Majra",
                    "Chandni Chowk",
                    "Tri Nagar",
                    "Badli",
                    "Tughlakabad",
                    "R K Puram",
                    "Model Town",
                    "Vikaspuri",
                    "Gandhi Nagar",
                    "Moti Nagar",
                    "Tilak Nagar",
                    "Laxmi Nagar",
                    "Adarsh Nagar",
                    "Wazirpur",
                    "Bijwasan",
                    "Kasturba Nagar",
                    "Madipur",
                    "Mundka",
                    "Seemapuri",
                    "Palam",
                    "Narela",
                    "Gokalpur",
                    "Dwarka",
                    "Karol Bagh",
                    "Hari Nagar",
                    "Sadar Bazar",
                    "Kondli",
                    "Mangol Puri",
                    "Chhatarpur",
                    "Shahdara",
                    "Ambedkar Nagar",
                    "New Delhi",
                    "Patel Nagar",
                    "Kalkaji",
                    "Greater Kailash",
                    "Malviya Nagar",
                    "Delhi Cantonment",
                    "Mehrauli",
                    "Rajinder Nagar",
                    "Timarpur",
                    "Jangpura",
                    "Trilokpuri",
                    "Sangam Vihar"
                  ]
                }
              ],
              "layout": {
                "height": 1500,
                "template": {
                  "data": {
                    "bar": [
                      {
                        "error_x": {
                          "color": "#2a3f5f"
                        },
                        "error_y": {
                          "color": "#2a3f5f"
                        },
                        "marker": {
                          "line": {
                            "color": "#E5ECF6",
                            "width": 0.5
                          },
                          "pattern": {
                            "fillmode": "overlay",
                            "size": 10,
                            "solidity": 0.2
                          }
                        },
                        "type": "bar"
                      }
                    ],
                    "barpolar": [
                      {
                        "marker": {
                          "line": {
                            "color": "#E5ECF6",
                            "width": 0.5
                          },
                          "pattern": {
                            "fillmode": "overlay",
                            "size": 10,
                            "solidity": 0.2
                          }
                        },
                        "type": "barpolar"
                      }
                    ],
                    "carpet": [
                      {
                        "aaxis": {
                          "endlinecolor": "#2a3f5f",
                          "gridcolor": "white",
                          "linecolor": "white",
                          "minorgridcolor": "white",
                          "startlinecolor": "#2a3f5f"
                        },
                        "baxis": {
                          "endlinecolor": "#2a3f5f",
                          "gridcolor": "white",
                          "linecolor": "white",
                          "minorgridcolor": "white",
                          "startlinecolor": "#2a3f5f"
                        },
                        "type": "carpet"
                      }
                    ],
                    "choropleth": [
                      {
                        "colorbar": {
                          "outlinewidth": 0,
                          "ticks": ""
                        },
                        "type": "choropleth"
                      }
                    ],
                    "contour": [
                      {
                        "colorbar": {
                          "outlinewidth": 0,
                          "ticks": ""
                        },
                        "colorscale": [
                          [
                            0,
                            "#0d0887"
                          ],
                          [
                            0.1111111111111111,
                            "#46039f"
                          ],
                          [
                            0.2222222222222222,
                            "#7201a8"
                          ],
                          [
                            0.3333333333333333,
                            "#9c179e"
                          ],
                          [
                            0.4444444444444444,
                            "#bd3786"
                          ],
                          [
                            0.5555555555555556,
                            "#d8576b"
                          ],
                          [
                            0.6666666666666666,
                            "#ed7953"
                          ],
                          [
                            0.7777777777777778,
                            "#fb9f3a"
                          ],
                          [
                            0.8888888888888888,
                            "#fdca26"
                          ],
                          [
                            1,
                            "#f0f921"
                          ]
                        ],
                        "type": "contour"
                      }
                    ],
                    "contourcarpet": [
                      {
                        "colorbar": {
                          "outlinewidth": 0,
                          "ticks": ""
                        },
                        "type": "contourcarpet"
                      }
                    ],
                    "heatmap": [
                      {
                        "colorbar": {
                          "outlinewidth": 0,
                          "ticks": ""
                        },
                        "colorscale": [
                          [
                            0,
                            "#0d0887"
                          ],
                          [
                            0.1111111111111111,
                            "#46039f"
                          ],
                          [
                            0.2222222222222222,
                            "#7201a8"
                          ],
                          [
                            0.3333333333333333,
                            "#9c179e"
                          ],
                          [
                            0.4444444444444444,
                            "#bd3786"
                          ],
                          [
                            0.5555555555555556,
                            "#d8576b"
                          ],
                          [
                            0.6666666666666666,
                            "#ed7953"
                          ],
                          [
                            0.7777777777777778,
                            "#fb9f3a"
                          ],
                          [
                            0.8888888888888888,
                            "#fdca26"
                          ],
                          [
                            1,
                            "#f0f921"
                          ]
                        ],
                        "type": "heatmap"
                      }
                    ],
                    "heatmapgl": [
                      {
                        "colorbar": {
                          "outlinewidth": 0,
                          "ticks": ""
                        },
                        "colorscale": [
                          [
                            0,
                            "#0d0887"
                          ],
                          [
                            0.1111111111111111,
                            "#46039f"
                          ],
                          [
                            0.2222222222222222,
                            "#7201a8"
                          ],
                          [
                            0.3333333333333333,
                            "#9c179e"
                          ],
                          [
                            0.4444444444444444,
                            "#bd3786"
                          ],
                          [
                            0.5555555555555556,
                            "#d8576b"
                          ],
                          [
                            0.6666666666666666,
                            "#ed7953"
                          ],
                          [
                            0.7777777777777778,
                            "#fb9f3a"
                          ],
                          [
                            0.8888888888888888,
                            "#fdca26"
                          ],
                          [
                            1,
                            "#f0f921"
                          ]
                        ],
                        "type": "heatmapgl"
                      }
                    ],
                    "histogram": [
                      {
                        "marker": {
                          "pattern": {
                            "fillmode": "overlay",
                            "size": 10,
                            "solidity": 0.2
                          }
                        },
                        "type": "histogram"
                      }
                    ],
                    "histogram2d": [
                      {
                        "colorbar": {
                          "outlinewidth": 0,
                          "ticks": ""
                        },
                        "colorscale": [
                          [
                            0,
                            "#0d0887"
                          ],
                          [
                            0.1111111111111111,
                            "#46039f"
                          ],
                          [
                            0.2222222222222222,
                            "#7201a8"
                          ],
                          [
                            0.3333333333333333,
                            "#9c179e"
                          ],
                          [
                            0.4444444444444444,
                            "#bd3786"
                          ],
                          [
                            0.5555555555555556,
                            "#d8576b"
                          ],
                          [
                            0.6666666666666666,
                            "#ed7953"
                          ],
                          [
                            0.7777777777777778,
                            "#fb9f3a"
                          ],
                          [
                            0.8888888888888888,
                            "#fdca26"
                          ],
                          [
                            1,
                            "#f0f921"
                          ]
                        ],
                        "type": "histogram2d"
                      }
                    ],
                    "histogram2dcontour": [
                      {
                        "colorbar": {
                          "outlinewidth": 0,
                          "ticks": ""
                        },
                        "colorscale": [
                          [
                            0,
                            "#0d0887"
                          ],
                          [
                            0.1111111111111111,
                            "#46039f"
                          ],
                          [
                            0.2222222222222222,
                            "#7201a8"
                          ],
                          [
                            0.3333333333333333,
                            "#9c179e"
                          ],
                          [
                            0.4444444444444444,
                            "#bd3786"
                          ],
                          [
                            0.5555555555555556,
                            "#d8576b"
                          ],
                          [
                            0.6666666666666666,
                            "#ed7953"
                          ],
                          [
                            0.7777777777777778,
                            "#fb9f3a"
                          ],
                          [
                            0.8888888888888888,
                            "#fdca26"
                          ],
                          [
                            1,
                            "#f0f921"
                          ]
                        ],
                        "type": "histogram2dcontour"
                      }
                    ],
                    "mesh3d": [
                      {
                        "colorbar": {
                          "outlinewidth": 0,
                          "ticks": ""
                        },
                        "type": "mesh3d"
                      }
                    ],
                    "parcoords": [
                      {
                        "line": {
                          "colorbar": {
                            "outlinewidth": 0,
                            "ticks": ""
                          }
                        },
                        "type": "parcoords"
                      }
                    ],
                    "pie": [
                      {
                        "automargin": true,
                        "type": "pie"
                      }
                    ],
                    "scatter": [
                      {
                        "fillpattern": {
                          "fillmode": "overlay",
                          "size": 10,
                          "solidity": 0.2
                        },
                        "type": "scatter"
                      }
                    ],
                    "scatter3d": [
                      {
                        "line": {
                          "colorbar": {
                            "outlinewidth": 0,
                            "ticks": ""
                          }
                        },
                        "marker": {
                          "colorbar": {
                            "outlinewidth": 0,
                            "ticks": ""
                          }
                        },
                        "type": "scatter3d"
                      }
                    ],
                    "scattercarpet": [
                      {
                        "marker": {
                          "colorbar": {
                            "outlinewidth": 0,
                            "ticks": ""
                          }
                        },
                        "type": "scattercarpet"
                      }
                    ],
                    "scattergeo": [
                      {
                        "marker": {
                          "colorbar": {
                            "outlinewidth": 0,
                            "ticks": ""
                          }
                        },
                        "type": "scattergeo"
                      }
                    ],
                    "scattergl": [
                      {
                        "marker": {
                          "colorbar": {
                            "outlinewidth": 0,
                            "ticks": ""
                          }
                        },
                        "type": "scattergl"
                      }
                    ],
                    "scattermapbox": [
                      {
                        "marker": {
                          "colorbar": {
                            "outlinewidth": 0,
                            "ticks": ""
                          }
                        },
                        "type": "scattermapbox"
                      }
                    ],
                    "scatterpolar": [
                      {
                        "marker": {
                          "colorbar": {
                            "outlinewidth": 0,
                            "ticks": ""
                          }
                        },
                        "type": "scatterpolar"
                      }
                    ],
                    "scatterpolargl": [
                      {
                        "marker": {
                          "colorbar": {
                            "outlinewidth": 0,
                            "ticks": ""
                          }
                        },
                        "type": "scatterpolargl"
                      }
                    ],
                    "scatterternary": [
                      {
                        "marker": {
                          "colorbar": {
                            "outlinewidth": 0,
                            "ticks": ""
                          }
                        },
                        "type": "scatterternary"
                      }
                    ],
                    "surface": [
                      {
                        "colorbar": {
                          "outlinewidth": 0,
                          "ticks": ""
                        },
                        "colorscale": [
                          [
                            0,
                            "#0d0887"
                          ],
                          [
                            0.1111111111111111,
                            "#46039f"
                          ],
                          [
                            0.2222222222222222,
                            "#7201a8"
                          ],
                          [
                            0.3333333333333333,
                            "#9c179e"
                          ],
                          [
                            0.4444444444444444,
                            "#bd3786"
                          ],
                          [
                            0.5555555555555556,
                            "#d8576b"
                          ],
                          [
                            0.6666666666666666,
                            "#ed7953"
                          ],
                          [
                            0.7777777777777778,
                            "#fb9f3a"
                          ],
                          [
                            0.8888888888888888,
                            "#fdca26"
                          ],
                          [
                            1,
                            "#f0f921"
                          ]
                        ],
                        "type": "surface"
                      }
                    ],
                    "table": [
                      {
                        "cells": {
                          "fill": {
                            "color": "#EBF0F8"
                          },
                          "line": {
                            "color": "white"
                          }
                        },
                        "header": {
                          "fill": {
                            "color": "#C8D4E3"
                          },
                          "line": {
                            "color": "white"
                          }
                        },
                        "type": "table"
                      }
                    ]
                  },
                  "layout": {
                    "annotationdefaults": {
                      "arrowcolor": "#2a3f5f",
                      "arrowhead": 0,
                      "arrowwidth": 1
                    },
                    "autotypenumbers": "strict",
                    "coloraxis": {
                      "colorbar": {
                        "outlinewidth": 0,
                        "ticks": ""
                      }
                    },
                    "colorscale": {
                      "diverging": [
                        [
                          0,
                          "#8e0152"
                        ],
                        [
                          0.1,
                          "#c51b7d"
                        ],
                        [
                          0.2,
                          "#de77ae"
                        ],
                        [
                          0.3,
                          "#f1b6da"
                        ],
                        [
                          0.4,
                          "#fde0ef"
                        ],
                        [
                          0.5,
                          "#f7f7f7"
                        ],
                        [
                          0.6,
                          "#e6f5d0"
                        ],
                        [
                          0.7,
                          "#b8e186"
                        ],
                        [
                          0.8,
                          "#7fbc41"
                        ],
                        [
                          0.9,
                          "#4d9221"
                        ],
                        [
                          1,
                          "#276419"
                        ]
                      ],
                      "sequential": [
                        [
                          0,
                          "#0d0887"
                        ],
                        [
                          0.1111111111111111,
                          "#46039f"
                        ],
                        [
                          0.2222222222222222,
                          "#7201a8"
                        ],
                        [
                          0.3333333333333333,
                          "#9c179e"
                        ],
                        [
                          0.4444444444444444,
                          "#bd3786"
                        ],
                        [
                          0.5555555555555556,
                          "#d8576b"
                        ],
                        [
                          0.6666666666666666,
                          "#ed7953"
                        ],
                        [
                          0.7777777777777778,
                          "#fb9f3a"
                        ],
                        [
                          0.8888888888888888,
                          "#fdca26"
                        ],
                        [
                          1,
                          "#f0f921"
                        ]
                      ],
                      "sequentialminus": [
                        [
                          0,
                          "#0d0887"
                        ],
                        [
                          0.1111111111111111,
                          "#46039f"
                        ],
                        [
                          0.2222222222222222,
                          "#7201a8"
                        ],
                        [
                          0.3333333333333333,
                          "#9c179e"
                        ],
                        [
                          0.4444444444444444,
                          "#bd3786"
                        ],
                        [
                          0.5555555555555556,
                          "#d8576b"
                        ],
                        [
                          0.6666666666666666,
                          "#ed7953"
                        ],
                        [
                          0.7777777777777778,
                          "#fb9f3a"
                        ],
                        [
                          0.8888888888888888,
                          "#fdca26"
                        ],
                        [
                          1,
                          "#f0f921"
                        ]
                      ]
                    },
                    "colorway": [
                      "#636efa",
                      "#EF553B",
                      "#00cc96",
                      "#ab63fa",
                      "#FFA15A",
                      "#19d3f3",
                      "#FF6692",
                      "#B6E880",
                      "#FF97FF",
                      "#FECB52"
                    ],
                    "font": {
                      "color": "#2a3f5f"
                    },
                    "geo": {
                      "bgcolor": "white",
                      "lakecolor": "white",
                      "landcolor": "#E5ECF6",
                      "showlakes": true,
                      "showland": true,
                      "subunitcolor": "white"
                    },
                    "hoverlabel": {
                      "align": "left"
                    },
                    "hovermode": "closest",
                    "mapbox": {
                      "style": "light"
                    },
                    "paper_bgcolor": "white",
                    "plot_bgcolor": "#E5ECF6",
                    "polar": {
                      "angularaxis": {
                        "gridcolor": "white",
                        "linecolor": "white",
                        "ticks": ""
                      },
                      "bgcolor": "#E5ECF6",
                      "radialaxis": {
                        "gridcolor": "white",
                        "linecolor": "white",
                        "ticks": ""
                      }
                    },
                    "scene": {
                      "xaxis": {
                        "backgroundcolor": "#E5ECF6",
                        "gridcolor": "white",
                        "gridwidth": 2,
                        "linecolor": "white",
                        "showbackground": true,
                        "ticks": "",
                        "zerolinecolor": "white"
                      },
                      "yaxis": {
                        "backgroundcolor": "#E5ECF6",
                        "gridcolor": "white",
                        "gridwidth": 2,
                        "linecolor": "white",
                        "showbackground": true,
                        "ticks": "",
                        "zerolinecolor": "white"
                      },
                      "zaxis": {
                        "backgroundcolor": "#E5ECF6",
                        "gridcolor": "white",
                        "gridwidth": 2,
                        "linecolor": "white",
                        "showbackground": true,
                        "ticks": "",
                        "zerolinecolor": "white"
                      }
                    },
                    "shapedefaults": {
                      "line": {
                        "color": "#2a3f5f"
                      }
                    },
                    "ternary": {
                      "aaxis": {
                        "gridcolor": "white",
                        "linecolor": "white",
                        "ticks": ""
                      },
                      "baxis": {
                        "gridcolor": "white",
                        "linecolor": "white",
                        "ticks": ""
                      },
                      "bgcolor": "#E5ECF6",
                      "caxis": {
                        "gridcolor": "white",
                        "linecolor": "white",
                        "ticks": ""
                      }
                    },
                    "title": {
                      "x": 0.05
                    },
                    "xaxis": {
                      "automargin": true,
                      "gridcolor": "white",
                      "linecolor": "white",
                      "ticks": "",
                      "title": {
                        "standoff": 15
                      },
                      "zerolinecolor": "white",
                      "zerolinewidth": 2
                    },
                    "yaxis": {
                      "automargin": true,
                      "gridcolor": "white",
                      "linecolor": "white",
                      "ticks": "",
                      "title": {
                        "standoff": 15
                      },
                      "zerolinecolor": "white",
                      "zerolinewidth": 2
                    }
                  }
                },
                "title": {
                  "text": "Constituency wise Winning Margin"
                }
              }
            }
          },
          "metadata": {},
          "output_type": "display_data"
        }
      ],
      "source": [
        "winner = result[result.Rank==1].sort_values(by='Margin', ascending=False)\n",
        "\n",
        "fig = go.Figure()\n",
        "fig.add_trace(go.Bar(x=winner['Margin'], y=winner['Constituency Name'],\n",
        "                     orientation='h', marker_color=winner.Color,\n",
        "                     text=winner[['Abb','Candidate']],texttemplate='%{text[0]}, %{x}', textposition='outside'))\n",
        "fig.update_layout(title='Constituency wise Winning Margin', height=1500)"
      ]
    },
    {
      "cell_type": "code",
      "execution_count": 347,
      "metadata": {},
      "outputs": [
        {
          "name": "stdout",
          "output_type": "stream",
          "text": [
            "Test statistic confidence 99% (Significance lvel 0.01)\n",
            "Fail to reject the null hypothesis There is no relation between seat category and party\n"
          ]
        },
        {
          "data": {
            "application/vnd.plotly.v1+json": {
              "config": {
                "plotlyServerURL": "https://plot.ly"
              },
              "data": [
                {
                  "marker": {
                    "color": [
                      "#FF9933",
                      "#0072B0",
                      "#0072B0",
                      "#FF9933",
                      "#0072B0",
                      "#0072B0",
                      "#0072B0",
                      "#0072B0",
                      "#FF9933",
                      "#0072B0",
                      "#FF9933",
                      "#0072B0"
                    ]
                  },
                  "type": "bar",
                  "x": [
                    "Trilokpuri",
                    "Patel Nagar",
                    "Ambedkar Nagar",
                    "Mangol Puri",
                    "Kondli",
                    "Karol Bagh",
                    "Gokalpur",
                    "Seemapuri",
                    "Madipur",
                    "Sultan Pur Majra",
                    "Bawana",
                    "Deoli"
                  ],
                  "y": [
                    392,
                    4049,
                    4230,
                    6255,
                    6293,
                    7430,
                    8207,
                    10368,
                    10899,
                    17126,
                    31475,
                    36680
                  ]
                }
              ],
              "layout": {
                "template": {
                  "data": {
                    "bar": [
                      {
                        "error_x": {
                          "color": "#2a3f5f"
                        },
                        "error_y": {
                          "color": "#2a3f5f"
                        },
                        "marker": {
                          "line": {
                            "color": "#E5ECF6",
                            "width": 0.5
                          },
                          "pattern": {
                            "fillmode": "overlay",
                            "size": 10,
                            "solidity": 0.2
                          }
                        },
                        "type": "bar"
                      }
                    ],
                    "barpolar": [
                      {
                        "marker": {
                          "line": {
                            "color": "#E5ECF6",
                            "width": 0.5
                          },
                          "pattern": {
                            "fillmode": "overlay",
                            "size": 10,
                            "solidity": 0.2
                          }
                        },
                        "type": "barpolar"
                      }
                    ],
                    "carpet": [
                      {
                        "aaxis": {
                          "endlinecolor": "#2a3f5f",
                          "gridcolor": "white",
                          "linecolor": "white",
                          "minorgridcolor": "white",
                          "startlinecolor": "#2a3f5f"
                        },
                        "baxis": {
                          "endlinecolor": "#2a3f5f",
                          "gridcolor": "white",
                          "linecolor": "white",
                          "minorgridcolor": "white",
                          "startlinecolor": "#2a3f5f"
                        },
                        "type": "carpet"
                      }
                    ],
                    "choropleth": [
                      {
                        "colorbar": {
                          "outlinewidth": 0,
                          "ticks": ""
                        },
                        "type": "choropleth"
                      }
                    ],
                    "contour": [
                      {
                        "colorbar": {
                          "outlinewidth": 0,
                          "ticks": ""
                        },
                        "colorscale": [
                          [
                            0,
                            "#0d0887"
                          ],
                          [
                            0.1111111111111111,
                            "#46039f"
                          ],
                          [
                            0.2222222222222222,
                            "#7201a8"
                          ],
                          [
                            0.3333333333333333,
                            "#9c179e"
                          ],
                          [
                            0.4444444444444444,
                            "#bd3786"
                          ],
                          [
                            0.5555555555555556,
                            "#d8576b"
                          ],
                          [
                            0.6666666666666666,
                            "#ed7953"
                          ],
                          [
                            0.7777777777777778,
                            "#fb9f3a"
                          ],
                          [
                            0.8888888888888888,
                            "#fdca26"
                          ],
                          [
                            1,
                            "#f0f921"
                          ]
                        ],
                        "type": "contour"
                      }
                    ],
                    "contourcarpet": [
                      {
                        "colorbar": {
                          "outlinewidth": 0,
                          "ticks": ""
                        },
                        "type": "contourcarpet"
                      }
                    ],
                    "heatmap": [
                      {
                        "colorbar": {
                          "outlinewidth": 0,
                          "ticks": ""
                        },
                        "colorscale": [
                          [
                            0,
                            "#0d0887"
                          ],
                          [
                            0.1111111111111111,
                            "#46039f"
                          ],
                          [
                            0.2222222222222222,
                            "#7201a8"
                          ],
                          [
                            0.3333333333333333,
                            "#9c179e"
                          ],
                          [
                            0.4444444444444444,
                            "#bd3786"
                          ],
                          [
                            0.5555555555555556,
                            "#d8576b"
                          ],
                          [
                            0.6666666666666666,
                            "#ed7953"
                          ],
                          [
                            0.7777777777777778,
                            "#fb9f3a"
                          ],
                          [
                            0.8888888888888888,
                            "#fdca26"
                          ],
                          [
                            1,
                            "#f0f921"
                          ]
                        ],
                        "type": "heatmap"
                      }
                    ],
                    "heatmapgl": [
                      {
                        "colorbar": {
                          "outlinewidth": 0,
                          "ticks": ""
                        },
                        "colorscale": [
                          [
                            0,
                            "#0d0887"
                          ],
                          [
                            0.1111111111111111,
                            "#46039f"
                          ],
                          [
                            0.2222222222222222,
                            "#7201a8"
                          ],
                          [
                            0.3333333333333333,
                            "#9c179e"
                          ],
                          [
                            0.4444444444444444,
                            "#bd3786"
                          ],
                          [
                            0.5555555555555556,
                            "#d8576b"
                          ],
                          [
                            0.6666666666666666,
                            "#ed7953"
                          ],
                          [
                            0.7777777777777778,
                            "#fb9f3a"
                          ],
                          [
                            0.8888888888888888,
                            "#fdca26"
                          ],
                          [
                            1,
                            "#f0f921"
                          ]
                        ],
                        "type": "heatmapgl"
                      }
                    ],
                    "histogram": [
                      {
                        "marker": {
                          "pattern": {
                            "fillmode": "overlay",
                            "size": 10,
                            "solidity": 0.2
                          }
                        },
                        "type": "histogram"
                      }
                    ],
                    "histogram2d": [
                      {
                        "colorbar": {
                          "outlinewidth": 0,
                          "ticks": ""
                        },
                        "colorscale": [
                          [
                            0,
                            "#0d0887"
                          ],
                          [
                            0.1111111111111111,
                            "#46039f"
                          ],
                          [
                            0.2222222222222222,
                            "#7201a8"
                          ],
                          [
                            0.3333333333333333,
                            "#9c179e"
                          ],
                          [
                            0.4444444444444444,
                            "#bd3786"
                          ],
                          [
                            0.5555555555555556,
                            "#d8576b"
                          ],
                          [
                            0.6666666666666666,
                            "#ed7953"
                          ],
                          [
                            0.7777777777777778,
                            "#fb9f3a"
                          ],
                          [
                            0.8888888888888888,
                            "#fdca26"
                          ],
                          [
                            1,
                            "#f0f921"
                          ]
                        ],
                        "type": "histogram2d"
                      }
                    ],
                    "histogram2dcontour": [
                      {
                        "colorbar": {
                          "outlinewidth": 0,
                          "ticks": ""
                        },
                        "colorscale": [
                          [
                            0,
                            "#0d0887"
                          ],
                          [
                            0.1111111111111111,
                            "#46039f"
                          ],
                          [
                            0.2222222222222222,
                            "#7201a8"
                          ],
                          [
                            0.3333333333333333,
                            "#9c179e"
                          ],
                          [
                            0.4444444444444444,
                            "#bd3786"
                          ],
                          [
                            0.5555555555555556,
                            "#d8576b"
                          ],
                          [
                            0.6666666666666666,
                            "#ed7953"
                          ],
                          [
                            0.7777777777777778,
                            "#fb9f3a"
                          ],
                          [
                            0.8888888888888888,
                            "#fdca26"
                          ],
                          [
                            1,
                            "#f0f921"
                          ]
                        ],
                        "type": "histogram2dcontour"
                      }
                    ],
                    "mesh3d": [
                      {
                        "colorbar": {
                          "outlinewidth": 0,
                          "ticks": ""
                        },
                        "type": "mesh3d"
                      }
                    ],
                    "parcoords": [
                      {
                        "line": {
                          "colorbar": {
                            "outlinewidth": 0,
                            "ticks": ""
                          }
                        },
                        "type": "parcoords"
                      }
                    ],
                    "pie": [
                      {
                        "automargin": true,
                        "type": "pie"
                      }
                    ],
                    "scatter": [
                      {
                        "fillpattern": {
                          "fillmode": "overlay",
                          "size": 10,
                          "solidity": 0.2
                        },
                        "type": "scatter"
                      }
                    ],
                    "scatter3d": [
                      {
                        "line": {
                          "colorbar": {
                            "outlinewidth": 0,
                            "ticks": ""
                          }
                        },
                        "marker": {
                          "colorbar": {
                            "outlinewidth": 0,
                            "ticks": ""
                          }
                        },
                        "type": "scatter3d"
                      }
                    ],
                    "scattercarpet": [
                      {
                        "marker": {
                          "colorbar": {
                            "outlinewidth": 0,
                            "ticks": ""
                          }
                        },
                        "type": "scattercarpet"
                      }
                    ],
                    "scattergeo": [
                      {
                        "marker": {
                          "colorbar": {
                            "outlinewidth": 0,
                            "ticks": ""
                          }
                        },
                        "type": "scattergeo"
                      }
                    ],
                    "scattergl": [
                      {
                        "marker": {
                          "colorbar": {
                            "outlinewidth": 0,
                            "ticks": ""
                          }
                        },
                        "type": "scattergl"
                      }
                    ],
                    "scattermapbox": [
                      {
                        "marker": {
                          "colorbar": {
                            "outlinewidth": 0,
                            "ticks": ""
                          }
                        },
                        "type": "scattermapbox"
                      }
                    ],
                    "scatterpolar": [
                      {
                        "marker": {
                          "colorbar": {
                            "outlinewidth": 0,
                            "ticks": ""
                          }
                        },
                        "type": "scatterpolar"
                      }
                    ],
                    "scatterpolargl": [
                      {
                        "marker": {
                          "colorbar": {
                            "outlinewidth": 0,
                            "ticks": ""
                          }
                        },
                        "type": "scatterpolargl"
                      }
                    ],
                    "scatterternary": [
                      {
                        "marker": {
                          "colorbar": {
                            "outlinewidth": 0,
                            "ticks": ""
                          }
                        },
                        "type": "scatterternary"
                      }
                    ],
                    "surface": [
                      {
                        "colorbar": {
                          "outlinewidth": 0,
                          "ticks": ""
                        },
                        "colorscale": [
                          [
                            0,
                            "#0d0887"
                          ],
                          [
                            0.1111111111111111,
                            "#46039f"
                          ],
                          [
                            0.2222222222222222,
                            "#7201a8"
                          ],
                          [
                            0.3333333333333333,
                            "#9c179e"
                          ],
                          [
                            0.4444444444444444,
                            "#bd3786"
                          ],
                          [
                            0.5555555555555556,
                            "#d8576b"
                          ],
                          [
                            0.6666666666666666,
                            "#ed7953"
                          ],
                          [
                            0.7777777777777778,
                            "#fb9f3a"
                          ],
                          [
                            0.8888888888888888,
                            "#fdca26"
                          ],
                          [
                            1,
                            "#f0f921"
                          ]
                        ],
                        "type": "surface"
                      }
                    ],
                    "table": [
                      {
                        "cells": {
                          "fill": {
                            "color": "#EBF0F8"
                          },
                          "line": {
                            "color": "white"
                          }
                        },
                        "header": {
                          "fill": {
                            "color": "#C8D4E3"
                          },
                          "line": {
                            "color": "white"
                          }
                        },
                        "type": "table"
                      }
                    ]
                  },
                  "layout": {
                    "annotationdefaults": {
                      "arrowcolor": "#2a3f5f",
                      "arrowhead": 0,
                      "arrowwidth": 1
                    },
                    "autotypenumbers": "strict",
                    "coloraxis": {
                      "colorbar": {
                        "outlinewidth": 0,
                        "ticks": ""
                      }
                    },
                    "colorscale": {
                      "diverging": [
                        [
                          0,
                          "#8e0152"
                        ],
                        [
                          0.1,
                          "#c51b7d"
                        ],
                        [
                          0.2,
                          "#de77ae"
                        ],
                        [
                          0.3,
                          "#f1b6da"
                        ],
                        [
                          0.4,
                          "#fde0ef"
                        ],
                        [
                          0.5,
                          "#f7f7f7"
                        ],
                        [
                          0.6,
                          "#e6f5d0"
                        ],
                        [
                          0.7,
                          "#b8e186"
                        ],
                        [
                          0.8,
                          "#7fbc41"
                        ],
                        [
                          0.9,
                          "#4d9221"
                        ],
                        [
                          1,
                          "#276419"
                        ]
                      ],
                      "sequential": [
                        [
                          0,
                          "#0d0887"
                        ],
                        [
                          0.1111111111111111,
                          "#46039f"
                        ],
                        [
                          0.2222222222222222,
                          "#7201a8"
                        ],
                        [
                          0.3333333333333333,
                          "#9c179e"
                        ],
                        [
                          0.4444444444444444,
                          "#bd3786"
                        ],
                        [
                          0.5555555555555556,
                          "#d8576b"
                        ],
                        [
                          0.6666666666666666,
                          "#ed7953"
                        ],
                        [
                          0.7777777777777778,
                          "#fb9f3a"
                        ],
                        [
                          0.8888888888888888,
                          "#fdca26"
                        ],
                        [
                          1,
                          "#f0f921"
                        ]
                      ],
                      "sequentialminus": [
                        [
                          0,
                          "#0d0887"
                        ],
                        [
                          0.1111111111111111,
                          "#46039f"
                        ],
                        [
                          0.2222222222222222,
                          "#7201a8"
                        ],
                        [
                          0.3333333333333333,
                          "#9c179e"
                        ],
                        [
                          0.4444444444444444,
                          "#bd3786"
                        ],
                        [
                          0.5555555555555556,
                          "#d8576b"
                        ],
                        [
                          0.6666666666666666,
                          "#ed7953"
                        ],
                        [
                          0.7777777777777778,
                          "#fb9f3a"
                        ],
                        [
                          0.8888888888888888,
                          "#fdca26"
                        ],
                        [
                          1,
                          "#f0f921"
                        ]
                      ]
                    },
                    "colorway": [
                      "#636efa",
                      "#EF553B",
                      "#00cc96",
                      "#ab63fa",
                      "#FFA15A",
                      "#19d3f3",
                      "#FF6692",
                      "#B6E880",
                      "#FF97FF",
                      "#FECB52"
                    ],
                    "font": {
                      "color": "#2a3f5f"
                    },
                    "geo": {
                      "bgcolor": "white",
                      "lakecolor": "white",
                      "landcolor": "#E5ECF6",
                      "showlakes": true,
                      "showland": true,
                      "subunitcolor": "white"
                    },
                    "hoverlabel": {
                      "align": "left"
                    },
                    "hovermode": "closest",
                    "mapbox": {
                      "style": "light"
                    },
                    "paper_bgcolor": "white",
                    "plot_bgcolor": "#E5ECF6",
                    "polar": {
                      "angularaxis": {
                        "gridcolor": "white",
                        "linecolor": "white",
                        "ticks": ""
                      },
                      "bgcolor": "#E5ECF6",
                      "radialaxis": {
                        "gridcolor": "white",
                        "linecolor": "white",
                        "ticks": ""
                      }
                    },
                    "scene": {
                      "xaxis": {
                        "backgroundcolor": "#E5ECF6",
                        "gridcolor": "white",
                        "gridwidth": 2,
                        "linecolor": "white",
                        "showbackground": true,
                        "ticks": "",
                        "zerolinecolor": "white"
                      },
                      "yaxis": {
                        "backgroundcolor": "#E5ECF6",
                        "gridcolor": "white",
                        "gridwidth": 2,
                        "linecolor": "white",
                        "showbackground": true,
                        "ticks": "",
                        "zerolinecolor": "white"
                      },
                      "zaxis": {
                        "backgroundcolor": "#E5ECF6",
                        "gridcolor": "white",
                        "gridwidth": 2,
                        "linecolor": "white",
                        "showbackground": true,
                        "ticks": "",
                        "zerolinecolor": "white"
                      }
                    },
                    "shapedefaults": {
                      "line": {
                        "color": "#2a3f5f"
                      }
                    },
                    "ternary": {
                      "aaxis": {
                        "gridcolor": "white",
                        "linecolor": "white",
                        "ticks": ""
                      },
                      "baxis": {
                        "gridcolor": "white",
                        "linecolor": "white",
                        "ticks": ""
                      },
                      "bgcolor": "#E5ECF6",
                      "caxis": {
                        "gridcolor": "white",
                        "linecolor": "white",
                        "ticks": ""
                      }
                    },
                    "title": {
                      "x": 0.05
                    },
                    "xaxis": {
                      "automargin": true,
                      "gridcolor": "white",
                      "linecolor": "white",
                      "ticks": "",
                      "title": {
                        "standoff": 15
                      },
                      "zerolinecolor": "white",
                      "zerolinewidth": 2
                    },
                    "yaxis": {
                      "automargin": true,
                      "gridcolor": "white",
                      "linecolor": "white",
                      "ticks": "",
                      "title": {
                        "standoff": 15
                      },
                      "zerolinecolor": "white",
                      "zerolinewidth": 2
                    }
                  }
                },
                "title": {
                  "text": "Winning Margin for SC seats"
                },
                "xaxis": {
                  "title": {
                    "text": "Constituency Name"
                  }
                },
                "yaxis": {
                  "title": {
                    "text": "Margin"
                  }
                }
              }
            }
          },
          "metadata": {},
          "output_type": "display_data"
        }
      ],
      "source": [
        "from scipy.stats import chi2_contingency\n",
        "\n",
        "H0 = 'There is no relation between seat category and party'\n",
        "H1 = 'Seat category and party are dependent'\n",
        "\n",
        "winner = result[result.Rank==1]\n",
        "test_table = pd.crosstab(index=winner['Abb'], columns=winner['Constituency Category'], values=winner['Rank'], aggfunc='count')\n",
        "statistic, pvalue, dof, expected_freq = chi2_contingency(test_table)\n",
        "\n",
        "print('Test statistic confidence 99% (Significance lvel 0.01)')\n",
        "if pvalue < 0.01:\n",
        "    print('Reject the null hypothesis', H1)\n",
        "else:\n",
        "    print('Fail to reject the null hypothesis', H0)\n",
        "\n",
        "\n",
        "sc_seats = result[(result['Constituency Category']!='GEN') & (result['Rank']==1)].sort_values(by='Margin')\n",
        "fig = go.Figure()\n",
        "fig.add_trace(go.Bar(x=sc_seats['Constituency Name'], y=sc_seats['Margin'],\n",
        "                     marker_color=sc_seats['Color']))\n",
        "fig.update_layout(title='Winning Margin for SC seats', xaxis_title='Constituency Name', yaxis_title='Margin')"
      ]
    },
    {
      "cell_type": "markdown",
      "metadata": {},
      "source": [
        "# Partywise performance"
      ]
    },
    {
      "cell_type": "code",
      "execution_count": 382,
      "metadata": {},
      "outputs": [],
      "source": [
        "positions = result[result.Rank.isin([1,2,3])].pivot(index=['Constituency', 'Constituency Name'], columns='Rank',\n",
        "                                                    values=['Abb','Total Votes','Margin'])\n",
        "positions.columns = [f\"{col[0]}_{int(col[1])}\" for col in positions.columns]\n",
        "positions.reset_index(inplace=True)"
      ]
    },
    {
      "cell_type": "code",
      "execution_count": 394,
      "metadata": {},
      "outputs": [
        {
          "name": "stdout",
          "output_type": "stream",
          "text": [
            "\u001b[33mCorrelation: 0.13, p-value: 0.29\n",
            "\u001b[31mFail to reject the null hypothesis.\n",
            "There is a no significant correlation between second runner-up vote share and winner candidate margin.\n"
          ]
        }
      ],
      "source": [
        "from scipy.stats import shapiro, pearsonr, spearmanr\n",
        "\n",
        "alpha = 0.01\n",
        "# Check if data is normal or not\n",
        "_, margin_p = shapiro(positions['Margin_1'])\n",
        "_, votes_p = shapiro(positions['Total Votes_3'])\n",
        "\n",
        "if (margin_p > alpha) and (votes_p > alpha):\n",
        "    # If data is normal, use Pearson's correlation\n",
        "    corr, p = pearsonr(positions['Margin_1'], positions['Total Votes_3'])\n",
        "else:\n",
        "    # If data is not normal, use Spearman's correlation\n",
        "    corr, p = spearmanr(positions['Margin_1'], positions['Total Votes_3'])\n",
        "\n",
        "print(f\"{yellow_text}Correlation: {corr:.2f}, p-value: {p:.2f}\")\n",
        "if p < alpha:\n",
        "    print(f\"{green_text}Reject the null hypothesis.\\nThere is a significant correlation between second runner-up vote share and winner candidate margin.\")\n",
        "else:\n",
        "    print(f\"{red_text}Fail to reject the null hypothesis.\\nThere is a no significant correlation between second runner-up vote share and winner candidate margin.\")"
      ]
    }
  ],
  "metadata": {
    "colab": {
      "provenance": []
    },
    "kernelspec": {
      "display_name": "Python 3",
      "name": "python3"
    },
    "language_info": {
      "codemirror_mode": {
        "name": "ipython",
        "version": 3
      },
      "file_extension": ".py",
      "mimetype": "text/x-python",
      "name": "python",
      "nbconvert_exporter": "python",
      "pygments_lexer": "ipython3",
      "version": "3.13.0"
    }
  },
  "nbformat": 4,
  "nbformat_minor": 0
}
