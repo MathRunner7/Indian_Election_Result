{
  "cells": [
    {
      "cell_type": "markdown",
      "metadata": {},
      "source": [
        "# Import basic libraries and Create functions to fetch data"
      ]
    },
    {
      "cell_type": "code",
      "execution_count": 1,
      "metadata": {
        "id": "9Cm3kbuK0hUa"
      },
      "outputs": [],
      "source": [
        "#@title Import necessary libraries\n",
        "# Data Manipulation\n",
        "import pandas as pd\n",
        "\n",
        "#Visualization\n",
        "import plotly.graph_objects as go\n",
        "from plotly.subplots import make_subplots\n",
        "\n",
        "# Web Scrapping\n",
        "from bs4 import BeautifulSoup\n",
        "import requests"
      ]
    },
    {
      "cell_type": "code",
      "execution_count": 2,
      "metadata": {},
      "outputs": [],
      "source": [
        "# Gloabl color codes for printing messages\n",
        "blue_text = '\\033[34m'\n",
        "green_text = '\\033[32m'\n",
        "red_text = '\\033[31m'\n",
        "yellow_text = '\\033[33m'\n",
        "reset_text = '\\033[0m'"
      ]
    },
    {
      "cell_type": "code",
      "execution_count": 3,
      "metadata": {},
      "outputs": [],
      "source": [
        "#@title Function to check validity of webpage \n",
        "def check_valid(seat_code):\n",
        "  url = 'https://results.eci.gov.in/AcResultGenOct2024/ConstituencywiseS07'+str(seat_code)+'.htm'\n",
        "  headers = {\n",
        "    \"User-Agent\": \"Mozilla/5.0 (Windows NT 10.0; Win64; x64)\",\n",
        "    \"Referer\": \"https://results.eci.gov.in\"\n",
        "    }\n",
        "  # Step 1: Fetch the webpage content\n",
        "  response = requests.get(url, headers=headers)\n",
        "  if response.status_code == 200:\n",
        "    return True\n",
        "  else:\n",
        "    return False"
      ]
    },
    {
      "cell_type": "code",
      "execution_count": 4,
      "metadata": {},
      "outputs": [],
      "source": [
        "#@title Function to fetch data from webpage and convert the table into standard pandas dataframe\n",
        "def get_table(seat_code):\n",
        "  url = 'https://results.eci.gov.in/AcResultGenOct2024/ConstituencywiseS07'+str(seat_code)+'.htm'\n",
        "  headers = {\n",
        "    \"User-Agent\": \"Mozilla/5.0 (Windows NT 10.0; Win64; x64)\",\n",
        "    \"Referer\": \"https://results.eci.gov.in\"\n",
        "    }\n",
        "  # Step 1: Fetch the webpage content\n",
        "  response = requests.get(url, headers=headers)\n",
        "  webpage = response.content\n",
        "  # Step 2: Parse the HTML\n",
        "  soup = BeautifulSoup(webpage, 'html.parser')\n",
        "  # Step 3: Find the specific table (adjust the class name or other attributes as necessary)\n",
        "  table = soup.find('table', {'class': 'table table-striped table-bordered'})\n",
        "  # Step 4: Define the headers\n",
        "  headers = ['S.N.', 'Candidate', 'Party', 'EVM Votes', 'Postal Votes', 'Total Votes', '% of Votes']\n",
        "  # Step 5: Extract the rows\n",
        "  rows = []\n",
        "  for tr in table.find_all('tr')[1:-1]:  # Skip the header row and last total row\n",
        "      cells = tr.find_all('td')\n",
        "      row = [cell.get_text().strip() for cell in cells]\n",
        "      rows.append(row)\n",
        "  # Step 6: Create a DataFrame and return it\n",
        "  data = pd.DataFrame(rows, columns=headers)\n",
        "  data['Constituency'] = seat_code\n",
        "  return data"
      ]
    },
    {
      "cell_type": "markdown",
      "metadata": {
        "id": "OAEEzxeULdf3"
      },
      "source": [
        "# Fetch data from webpage"
      ]
    },
    {
      "cell_type": "markdown",
      "metadata": {},
      "source": [
        "For delhi election result URL is in form of `https://results.eci.gov.in/AcResultGenOct2024/ConstituencywiseS07<constituency_number>.htm`\n",
        "\n",
        "Where constuitency number is from 1 to 70"
      ]
    },
    {
      "cell_type": "code",
      "execution_count": 5,
      "metadata": {},
      "outputs": [
        {
          "name": "stdout",
          "output_type": "stream",
          "text": [
            "<class 'pandas.core.frame.DataFrame'>\n",
            "RangeIndex: 1121 entries, 0 to 1120\n",
            "Data columns (total 8 columns):\n",
            " #   Column        Non-Null Count  Dtype \n",
            "---  ------        --------------  ----- \n",
            " 0   S.N.          1121 non-null   object\n",
            " 1   Candidate     1121 non-null   object\n",
            " 2   Party         1121 non-null   object\n",
            " 3   EVM Votes     1121 non-null   object\n",
            " 4   Postal Votes  1121 non-null   object\n",
            " 5   Total Votes   1121 non-null   object\n",
            " 6   % of Votes    1121 non-null   object\n",
            " 7   Constituency  1121 non-null   object\n",
            "dtypes: object(8)\n",
            "memory usage: 70.2+ KB\n"
          ]
        }
      ],
      "source": [
        "# Extracting election result data for all seats\n",
        "last_constuitency = 90\n",
        "table = pd.DataFrame(columns=['S.N.', 'Candidate', 'Party', 'EVM Votes', 'Postal Votes', 'Total Votes', '% of Votes', 'Constituency'])\n",
        "for constituency in range(1,last_constuitency+1):\n",
        "  if check_valid(constituency):\n",
        "      table = pd.concat([table, get_table(constituency)], ignore_index=True)\n",
        "# Save table as CSV file for further use\n",
        "table.to_csv('files/haryana_2025_raw_data.csv', index=False)\n",
        "table.info()"
      ]
    },
    {
      "cell_type": "code",
      "execution_count": 6,
      "metadata": {},
      "outputs": [
        {
          "data": {
            "text/html": [
              "<div>\n",
              "<style scoped>\n",
              "    .dataframe tbody tr th:only-of-type {\n",
              "        vertical-align: middle;\n",
              "    }\n",
              "\n",
              "    .dataframe tbody tr th {\n",
              "        vertical-align: top;\n",
              "    }\n",
              "\n",
              "    .dataframe thead th {\n",
              "        text-align: right;\n",
              "    }\n",
              "</style>\n",
              "<table border=\"1\" class=\"dataframe\">\n",
              "  <thead>\n",
              "    <tr style=\"text-align: right;\">\n",
              "      <th></th>\n",
              "      <th>S.N.</th>\n",
              "      <th>Candidate</th>\n",
              "      <th>Party</th>\n",
              "      <th>EVM Votes</th>\n",
              "      <th>Postal Votes</th>\n",
              "      <th>Total Votes</th>\n",
              "      <th>% of Votes</th>\n",
              "      <th>Constituency</th>\n",
              "    </tr>\n",
              "  </thead>\n",
              "  <tbody>\n",
              "    <tr>\n",
              "      <th>0</th>\n",
              "      <td>1</td>\n",
              "      <td>OM PARKASH GUJJAR</td>\n",
              "      <td>Aam Aadmi Party</td>\n",
              "      <td>854</td>\n",
              "      <td>4</td>\n",
              "      <td>858</td>\n",
              "      <td>0.59</td>\n",
              "      <td>1</td>\n",
              "    </tr>\n",
              "    <tr>\n",
              "      <th>1</th>\n",
              "      <td>2</td>\n",
              "      <td>CHARAN SINGH</td>\n",
              "      <td>Bahujan Samaj Party</td>\n",
              "      <td>1368</td>\n",
              "      <td>6</td>\n",
              "      <td>1374</td>\n",
              "      <td>0.94</td>\n",
              "      <td>1</td>\n",
              "    </tr>\n",
              "    <tr>\n",
              "      <th>2</th>\n",
              "      <td>3</td>\n",
              "      <td>PARDEEP CHAUDHARY</td>\n",
              "      <td>Indian National Congress</td>\n",
              "      <td>49544</td>\n",
              "      <td>185</td>\n",
              "      <td>49729</td>\n",
              "      <td>34.07</td>\n",
              "      <td>1</td>\n",
              "    </tr>\n",
              "    <tr>\n",
              "      <th>3</th>\n",
              "      <td>4</td>\n",
              "      <td>SHAKTI RANI SHARMA</td>\n",
              "      <td>Bharatiya Janata Party</td>\n",
              "      <td>60497</td>\n",
              "      <td>115</td>\n",
              "      <td>60612</td>\n",
              "      <td>41.53</td>\n",
              "      <td>1</td>\n",
              "    </tr>\n",
              "    <tr>\n",
              "      <th>4</th>\n",
              "      <td>5</td>\n",
              "      <td>AMIT SHARMA</td>\n",
              "      <td>Independent</td>\n",
              "      <td>582</td>\n",
              "      <td>0</td>\n",
              "      <td>582</td>\n",
              "      <td>0.4</td>\n",
              "      <td>1</td>\n",
              "    </tr>\n",
              "    <tr>\n",
              "      <th>...</th>\n",
              "      <td>...</td>\n",
              "      <td>...</td>\n",
              "      <td>...</td>\n",
              "      <td>...</td>\n",
              "      <td>...</td>\n",
              "      <td>...</td>\n",
              "      <td>...</td>\n",
              "      <td>...</td>\n",
              "    </tr>\n",
              "    <tr>\n",
              "      <th>1116</th>\n",
              "      <td>10</td>\n",
              "      <td>LALIT NAGAR S/O LATE BHARAT SINGH NAGAR</td>\n",
              "      <td>Independent</td>\n",
              "      <td>56729</td>\n",
              "      <td>99</td>\n",
              "      <td>56828</td>\n",
              "      <td>27.9</td>\n",
              "      <td>90</td>\n",
              "    </tr>\n",
              "    <tr>\n",
              "      <th>1117</th>\n",
              "      <td>11</td>\n",
              "      <td>LALIT NAGAR S/O VIJAY PAL</td>\n",
              "      <td>Independent</td>\n",
              "      <td>978</td>\n",
              "      <td>3</td>\n",
              "      <td>981</td>\n",
              "      <td>0.48</td>\n",
              "      <td>90</td>\n",
              "    </tr>\n",
              "    <tr>\n",
              "      <th>1118</th>\n",
              "      <td>12</td>\n",
              "      <td>SANDEEP MEHTA</td>\n",
              "      <td>Independent</td>\n",
              "      <td>533</td>\n",
              "      <td>1</td>\n",
              "      <td>534</td>\n",
              "      <td>0.26</td>\n",
              "      <td>90</td>\n",
              "    </tr>\n",
              "    <tr>\n",
              "      <th>1119</th>\n",
              "      <td>13</td>\n",
              "      <td>PUNDIT SUBHASH CHANDRA DUBEY GORAKHPURI</td>\n",
              "      <td>Independent</td>\n",
              "      <td>298</td>\n",
              "      <td>0</td>\n",
              "      <td>298</td>\n",
              "      <td>0.15</td>\n",
              "      <td>90</td>\n",
              "    </tr>\n",
              "    <tr>\n",
              "      <th>1120</th>\n",
              "      <td>14</td>\n",
              "      <td>NOTA</td>\n",
              "      <td>None of the Above</td>\n",
              "      <td>1855</td>\n",
              "      <td>4</td>\n",
              "      <td>1859</td>\n",
              "      <td>0.91</td>\n",
              "      <td>90</td>\n",
              "    </tr>\n",
              "  </tbody>\n",
              "</table>\n",
              "<p>1121 rows × 8 columns</p>\n",
              "</div>"
            ],
            "text/plain": [
              "     S.N.                                Candidate                     Party  \\\n",
              "0       1                        OM PARKASH GUJJAR           Aam Aadmi Party   \n",
              "1       2                             CHARAN SINGH       Bahujan Samaj Party   \n",
              "2       3                        PARDEEP CHAUDHARY  Indian National Congress   \n",
              "3       4                       SHAKTI RANI SHARMA    Bharatiya Janata Party   \n",
              "4       5                              AMIT SHARMA               Independent   \n",
              "...   ...                                      ...                       ...   \n",
              "1116   10  LALIT NAGAR S/O LATE BHARAT SINGH NAGAR               Independent   \n",
              "1117   11                LALIT NAGAR S/O VIJAY PAL               Independent   \n",
              "1118   12                            SANDEEP MEHTA               Independent   \n",
              "1119   13  PUNDIT SUBHASH CHANDRA DUBEY GORAKHPURI               Independent   \n",
              "1120   14                                     NOTA         None of the Above   \n",
              "\n",
              "     EVM Votes Postal Votes Total Votes % of Votes Constituency  \n",
              "0          854            4         858       0.59            1  \n",
              "1         1368            6        1374       0.94            1  \n",
              "2        49544          185       49729      34.07            1  \n",
              "3        60497          115       60612      41.53            1  \n",
              "4          582            0         582        0.4            1  \n",
              "...        ...          ...         ...        ...          ...  \n",
              "1116     56729           99       56828       27.9           90  \n",
              "1117       978            3         981       0.48           90  \n",
              "1118       533            1         534       0.26           90  \n",
              "1119       298            0         298       0.15           90  \n",
              "1120      1855            4        1859       0.91           90  \n",
              "\n",
              "[1121 rows x 8 columns]"
            ]
          },
          "execution_count": 6,
          "metadata": {},
          "output_type": "execute_result"
        }
      ],
      "source": [
        "table"
      ]
    },
    {
      "cell_type": "markdown",
      "metadata": {},
      "source": [
        "# Read and merge files for further processing"
      ]
    },
    {
      "cell_type": "code",
      "execution_count": 7,
      "metadata": {},
      "outputs": [],
      "source": [
        "# Fetch data and merge it with party codes and colors\n",
        "parties = pd.read_csv('files/Indian_Political_Party_List.csv')\n",
        "result = pd.read_csv('files/haryana_2025_raw_data.csv')\n",
        "constituency = pd.read_csv('files/Haryana_Constituency_List.csv')\n",
        "# Remove unnecessary spaces from party names\n",
        "result[\"Party\"] = result[\"Party\"].str.strip().replace(r\"\\s+\", \" \", regex=True)\n",
        "\n",
        "result = pd.merge(result, parties, left_on='Party', right_on='Name', how='left')\n",
        "result = pd.merge(result, constituency, on='Constituency', how='left')"
      ]
    },
    {
      "cell_type": "code",
      "execution_count": 8,
      "metadata": {},
      "outputs": [],
      "source": [
        "# Change datatypes of columns\n",
        "result['S.N.'] = result['S.N.'].astype(int)\n",
        "result['EVM Votes'] = result['EVM Votes'].astype(int)\n",
        "result['Postal Votes'] = result['Postal Votes'].astype(int)\n",
        "result['Total Votes'] = result['Total Votes'].astype(int)\n",
        "result['% of Votes'] = result['% of Votes'].astype(float)\n",
        "result['Constituency'] = result['Constituency'].astype(int)"
      ]
    },
    {
      "cell_type": "code",
      "execution_count": 9,
      "metadata": {},
      "outputs": [],
      "source": [
        "result['Rank']=result.groupby(by='Constituency')['Total Votes'].rank('first', ascending=False)\n",
        "result['WinnerVotes'] = result.groupby('Constituency')['Total Votes'].transform('max')\n",
        "result['RunnerUpVotes'] = result.groupby('Constituency')['Total Votes'].transform(lambda x: x.nlargest().iloc[1])\n",
        "result['Margin'] = result.apply(lambda row: row['Total Votes'] - row['RunnerUpVotes'] if row['Rank'] == 1 else row['Total Votes']-row['WinnerVotes'], axis=1)\n",
        "result['VoterTurnout'] = result.groupby('Constituency')['Total Votes'].transform('sum')\n",
        "result['VoteShare'] = 100*result['Total Votes']/result['VoterTurnout']\n",
        "result['VoteShare'] = result['VoteShare'].round(2)\n",
        "result.sort_values(by=['Constituency', 'Rank'], inplace=True)\n",
        "result.reset_index(drop=True, inplace=True)\n",
        "result.fillna({'Color':'#000000'},inplace=True)\n",
        "result.fillna('Other', inplace=True)"
      ]
    },
    {
      "cell_type": "code",
      "execution_count": 10,
      "metadata": {},
      "outputs": [
        {
          "name": "stderr",
          "output_type": "stream",
          "text": [
            "C:\\Users\\thumm\\AppData\\Local\\Temp\\ipykernel_23464\\2651413560.py:1: UserWarning: Boolean Series key will be reindexed to match DataFrame index.\n",
            "  result[result['Total Votes']<704][result['Total Votes']>590].sort_values('Total Votes')\n"
          ]
        },
        {
          "data": {
            "text/html": [
              "<div>\n",
              "<style scoped>\n",
              "    .dataframe tbody tr th:only-of-type {\n",
              "        vertical-align: middle;\n",
              "    }\n",
              "\n",
              "    .dataframe tbody tr th {\n",
              "        vertical-align: top;\n",
              "    }\n",
              "\n",
              "    .dataframe thead th {\n",
              "        text-align: right;\n",
              "    }\n",
              "</style>\n",
              "<table border=\"1\" class=\"dataframe\">\n",
              "  <thead>\n",
              "    <tr style=\"text-align: right;\">\n",
              "      <th></th>\n",
              "      <th>S.N.</th>\n",
              "      <th>Candidate</th>\n",
              "      <th>Party</th>\n",
              "      <th>EVM Votes</th>\n",
              "      <th>Postal Votes</th>\n",
              "      <th>Total Votes</th>\n",
              "      <th>% of Votes</th>\n",
              "      <th>Constituency</th>\n",
              "      <th>Name</th>\n",
              "      <th>Color</th>\n",
              "      <th>...</th>\n",
              "      <th>Constituency Name</th>\n",
              "      <th>District</th>\n",
              "      <th>Lok Sabha</th>\n",
              "      <th>Constituency Category</th>\n",
              "      <th>Rank</th>\n",
              "      <th>WinnerVotes</th>\n",
              "      <th>RunnerUpVotes</th>\n",
              "      <th>Margin</th>\n",
              "      <th>VoterTurnout</th>\n",
              "      <th>VoteShare</th>\n",
              "    </tr>\n",
              "  </thead>\n",
              "  <tbody>\n",
              "    <tr>\n",
              "      <th>463</th>\n",
              "      <td>5</td>\n",
              "      <td>HAWA SINGH KHOBRA</td>\n",
              "      <td>Jannayak Janta Party</td>\n",
              "      <td>588</td>\n",
              "      <td>3</td>\n",
              "      <td>591</td>\n",
              "      <td>0.33</td>\n",
              "      <td>39</td>\n",
              "      <td>Jannayak Janta Party</td>\n",
              "      <td>#026D37</td>\n",
              "      <td>...</td>\n",
              "      <td>Tohana</td>\n",
              "      <td>Fatehabad</td>\n",
              "      <td>Sirsa</td>\n",
              "      <td>GEN</td>\n",
              "      <td>6.0</td>\n",
              "      <td>88522</td>\n",
              "      <td>77686</td>\n",
              "      <td>-87931</td>\n",
              "      <td>180467</td>\n",
              "      <td>0.33</td>\n",
              "    </tr>\n",
              "    <tr>\n",
              "      <th>1060</th>\n",
              "      <td>12</td>\n",
              "      <td>RAHUL</td>\n",
              "      <td>Independent</td>\n",
              "      <td>596</td>\n",
              "      <td>0</td>\n",
              "      <td>596</td>\n",
              "      <td>0.36</td>\n",
              "      <td>85</td>\n",
              "      <td>Independent</td>\n",
              "      <td>#DCDCDC</td>\n",
              "      <td>...</td>\n",
              "      <td>Prithla</td>\n",
              "      <td>Faridabad</td>\n",
              "      <td>Faridabad</td>\n",
              "      <td>GEN</td>\n",
              "      <td>10.0</td>\n",
              "      <td>70262</td>\n",
              "      <td>49721</td>\n",
              "      <td>-69666</td>\n",
              "      <td>167191</td>\n",
              "      <td>0.36</td>\n",
              "    </tr>\n",
              "    <tr>\n",
              "      <th>987</th>\n",
              "      <td>11</td>\n",
              "      <td>NOTA</td>\n",
              "      <td>None of the Above</td>\n",
              "      <td>599</td>\n",
              "      <td>1</td>\n",
              "      <td>600</td>\n",
              "      <td>0.29</td>\n",
              "      <td>78</td>\n",
              "      <td>None of the Above</td>\n",
              "      <td>#FFFFFF</td>\n",
              "      <td>...</td>\n",
              "      <td>Sohna</td>\n",
              "      <td>Gurgaon</td>\n",
              "      <td>Gurgaon</td>\n",
              "      <td>GEN</td>\n",
              "      <td>8.0</td>\n",
              "      <td>61243</td>\n",
              "      <td>49366</td>\n",
              "      <td>-60643</td>\n",
              "      <td>203562</td>\n",
              "      <td>0.29</td>\n",
              "    </tr>\n",
              "    <tr>\n",
              "      <th>829</th>\n",
              "      <td>4</td>\n",
              "      <td>HARPAL SINGH</td>\n",
              "      <td>Aam Aadmi Party</td>\n",
              "      <td>595</td>\n",
              "      <td>6</td>\n",
              "      <td>601</td>\n",
              "      <td>0.45</td>\n",
              "      <td>65</td>\n",
              "      <td>Aam Aadmi Party</td>\n",
              "      <td>#0072B0</td>\n",
              "      <td>...</td>\n",
              "      <td>Badli</td>\n",
              "      <td>Jhajjar</td>\n",
              "      <td>Rohtak</td>\n",
              "      <td>GEN</td>\n",
              "      <td>4.0</td>\n",
              "      <td>68160</td>\n",
              "      <td>51340</td>\n",
              "      <td>-67559</td>\n",
              "      <td>132300</td>\n",
              "      <td>0.45</td>\n",
              "    </tr>\n",
              "    <tr>\n",
              "      <th>67</th>\n",
              "      <td>10</td>\n",
              "      <td>NOTA</td>\n",
              "      <td>None of the Above</td>\n",
              "      <td>601</td>\n",
              "      <td>4</td>\n",
              "      <td>605</td>\n",
              "      <td>0.35</td>\n",
              "      <td>7</td>\n",
              "      <td>None of the Above</td>\n",
              "      <td>#FFFFFF</td>\n",
              "      <td>...</td>\n",
              "      <td>Sadhaura</td>\n",
              "      <td>Yamunanagar</td>\n",
              "      <td>Ambala</td>\n",
              "      <td>SC</td>\n",
              "      <td>6.0</td>\n",
              "      <td>57534</td>\n",
              "      <td>55835</td>\n",
              "      <td>-56929</td>\n",
              "      <td>174150</td>\n",
              "      <td>0.35</td>\n",
              "    </tr>\n",
              "    <tr>\n",
              "      <th>378</th>\n",
              "      <td>2</td>\n",
              "      <td>DEEPAK MALIK</td>\n",
              "      <td>Jannayak Janta Party</td>\n",
              "      <td>597</td>\n",
              "      <td>8</td>\n",
              "      <td>605</td>\n",
              "      <td>0.47</td>\n",
              "      <td>33</td>\n",
              "      <td>Jannayak Janta Party</td>\n",
              "      <td>#026D37</td>\n",
              "      <td>...</td>\n",
              "      <td>Baroda</td>\n",
              "      <td>Sonipat</td>\n",
              "      <td>Sonipat</td>\n",
              "      <td>GEN</td>\n",
              "      <td>6.0</td>\n",
              "      <td>54462</td>\n",
              "      <td>48820</td>\n",
              "      <td>-53857</td>\n",
              "      <td>129971</td>\n",
              "      <td>0.47</td>\n",
              "    </tr>\n",
              "    <tr>\n",
              "      <th>100</th>\n",
              "      <td>6</td>\n",
              "      <td>DIWAN CHAND KAMBOJ</td>\n",
              "      <td>Bhartiya Shakti Chetna Party</td>\n",
              "      <td>601</td>\n",
              "      <td>5</td>\n",
              "      <td>606</td>\n",
              "      <td>0.40</td>\n",
              "      <td>10</td>\n",
              "      <td>Other</td>\n",
              "      <td>#000000</td>\n",
              "      <td>...</td>\n",
              "      <td>Radaur</td>\n",
              "      <td>Yamunanagar</td>\n",
              "      <td>Kurukshetra</td>\n",
              "      <td>GEN</td>\n",
              "      <td>6.0</td>\n",
              "      <td>73348</td>\n",
              "      <td>60216</td>\n",
              "      <td>-72742</td>\n",
              "      <td>153018</td>\n",
              "      <td>0.40</td>\n",
              "    </tr>\n",
              "    <tr>\n",
              "      <th>367</th>\n",
              "      <td>2</td>\n",
              "      <td>KULDEEP MALIK</td>\n",
              "      <td>Jannayak Janta Party</td>\n",
              "      <td>607</td>\n",
              "      <td>1</td>\n",
              "      <td>608</td>\n",
              "      <td>0.46</td>\n",
              "      <td>32</td>\n",
              "      <td>Jannayak Janta Party</td>\n",
              "      <td>#026D37</td>\n",
              "      <td>...</td>\n",
              "      <td>Gohana</td>\n",
              "      <td>Sonipat</td>\n",
              "      <td>Sonipat</td>\n",
              "      <td>GEN</td>\n",
              "      <td>7.0</td>\n",
              "      <td>57055</td>\n",
              "      <td>46626</td>\n",
              "      <td>-56447</td>\n",
              "      <td>130786</td>\n",
              "      <td>0.46</td>\n",
              "    </tr>\n",
              "    <tr>\n",
              "      <th>261</th>\n",
              "      <td>13</td>\n",
              "      <td>REKHA</td>\n",
              "      <td>Independent</td>\n",
              "      <td>608</td>\n",
              "      <td>1</td>\n",
              "      <td>609</td>\n",
              "      <td>0.38</td>\n",
              "      <td>23</td>\n",
              "      <td>Independent</td>\n",
              "      <td>#DCDCDC</td>\n",
              "      <td>...</td>\n",
              "      <td>Assandh</td>\n",
              "      <td>Karnal</td>\n",
              "      <td>Karnal</td>\n",
              "      <td>GEN</td>\n",
              "      <td>7.0</td>\n",
              "      <td>54761</td>\n",
              "      <td>52455</td>\n",
              "      <td>-54152</td>\n",
              "      <td>162292</td>\n",
              "      <td>0.38</td>\n",
              "    </tr>\n",
              "    <tr>\n",
              "      <th>496</th>\n",
              "      <td>7</td>\n",
              "      <td>TEJPAL</td>\n",
              "      <td>Independent</td>\n",
              "      <td>609</td>\n",
              "      <td>1</td>\n",
              "      <td>610</td>\n",
              "      <td>0.37</td>\n",
              "      <td>41</td>\n",
              "      <td>Independent</td>\n",
              "      <td>#DCDCDC</td>\n",
              "      <td>...</td>\n",
              "      <td>Ratia</td>\n",
              "      <td>Fatehabad</td>\n",
              "      <td>Sirsa</td>\n",
              "      <td>SC</td>\n",
              "      <td>7.0</td>\n",
              "      <td>86426</td>\n",
              "      <td>64984</td>\n",
              "      <td>-85816</td>\n",
              "      <td>164504</td>\n",
              "      <td>0.37</td>\n",
              "    </tr>\n",
              "    <tr>\n",
              "      <th>112</th>\n",
              "      <td>14</td>\n",
              "      <td>KASHYAP RAM CHANDER</td>\n",
              "      <td>Independent</td>\n",
              "      <td>611</td>\n",
              "      <td>0</td>\n",
              "      <td>611</td>\n",
              "      <td>0.41</td>\n",
              "      <td>11</td>\n",
              "      <td>Independent</td>\n",
              "      <td>#DCDCDC</td>\n",
              "      <td>...</td>\n",
              "      <td>Ladwa</td>\n",
              "      <td>Kurukshetra</td>\n",
              "      <td>Kurukshetra</td>\n",
              "      <td>GEN</td>\n",
              "      <td>7.0</td>\n",
              "      <td>70177</td>\n",
              "      <td>54123</td>\n",
              "      <td>-69566</td>\n",
              "      <td>148068</td>\n",
              "      <td>0.41</td>\n",
              "    </tr>\n",
              "    <tr>\n",
              "      <th>713</th>\n",
              "      <td>6</td>\n",
              "      <td>COMRADE RAJ KUMAR</td>\n",
              "      <td>Socialist Unity Centre Of India (COMMUNIST)</td>\n",
              "      <td>611</td>\n",
              "      <td>12</td>\n",
              "      <td>623</td>\n",
              "      <td>0.43</td>\n",
              "      <td>57</td>\n",
              "      <td>Other</td>\n",
              "      <td>#000000</td>\n",
              "      <td>...</td>\n",
              "      <td>Bhiwani</td>\n",
              "      <td>Bhiwani</td>\n",
              "      <td>BhiwaniMahendragarh</td>\n",
              "      <td>GEN</td>\n",
              "      <td>9.0</td>\n",
              "      <td>67087</td>\n",
              "      <td>34373</td>\n",
              "      <td>-66464</td>\n",
              "      <td>145254</td>\n",
              "      <td>0.43</td>\n",
              "    </tr>\n",
              "    <tr>\n",
              "      <th>578</th>\n",
              "      <td>8</td>\n",
              "      <td>NOTA</td>\n",
              "      <td>None of the Above</td>\n",
              "      <td>619</td>\n",
              "      <td>8</td>\n",
              "      <td>627</td>\n",
              "      <td>0.43</td>\n",
              "      <td>48</td>\n",
              "      <td>None of the Above</td>\n",
              "      <td>#FFFFFF</td>\n",
              "      <td>...</td>\n",
              "      <td>Uklana</td>\n",
              "      <td>Hisar</td>\n",
              "      <td>Hisar</td>\n",
              "      <td>SC</td>\n",
              "      <td>6.0</td>\n",
              "      <td>78448</td>\n",
              "      <td>50356</td>\n",
              "      <td>-77821</td>\n",
              "      <td>144715</td>\n",
              "      <td>0.43</td>\n",
              "    </tr>\n",
              "    <tr>\n",
              "      <th>45</th>\n",
              "      <td>10</td>\n",
              "      <td>SATNAM SINGH</td>\n",
              "      <td>Independent</td>\n",
              "      <td>626</td>\n",
              "      <td>3</td>\n",
              "      <td>629</td>\n",
              "      <td>0.38</td>\n",
              "      <td>5</td>\n",
              "      <td>Independent</td>\n",
              "      <td>#DCDCDC</td>\n",
              "      <td>...</td>\n",
              "      <td>Ambala City</td>\n",
              "      <td>Ambala</td>\n",
              "      <td>Ambala</td>\n",
              "      <td>GEN</td>\n",
              "      <td>7.0</td>\n",
              "      <td>84475</td>\n",
              "      <td>73344</td>\n",
              "      <td>-83846</td>\n",
              "      <td>165701</td>\n",
              "      <td>0.38</td>\n",
              "    </tr>\n",
              "    <tr>\n",
              "      <th>111</th>\n",
              "      <td>1</td>\n",
              "      <td>JOGA SINGH UMRI</td>\n",
              "      <td>Aam Aadmi Party</td>\n",
              "      <td>627</td>\n",
              "      <td>5</td>\n",
              "      <td>632</td>\n",
              "      <td>0.43</td>\n",
              "      <td>11</td>\n",
              "      <td>Aam Aadmi Party</td>\n",
              "      <td>#0072B0</td>\n",
              "      <td>...</td>\n",
              "      <td>Ladwa</td>\n",
              "      <td>Kurukshetra</td>\n",
              "      <td>Kurukshetra</td>\n",
              "      <td>GEN</td>\n",
              "      <td>6.0</td>\n",
              "      <td>70177</td>\n",
              "      <td>54123</td>\n",
              "      <td>-69545</td>\n",
              "      <td>148068</td>\n",
              "      <td>0.43</td>\n",
              "    </tr>\n",
              "    <tr>\n",
              "      <th>326</th>\n",
              "      <td>12</td>\n",
              "      <td>RAHUL KIRORIWAL</td>\n",
              "      <td>Independent</td>\n",
              "      <td>634</td>\n",
              "      <td>1</td>\n",
              "      <td>635</td>\n",
              "      <td>0.45</td>\n",
              "      <td>29</td>\n",
              "      <td>Independent</td>\n",
              "      <td>#DCDCDC</td>\n",
              "      <td>...</td>\n",
              "      <td>Rai</td>\n",
              "      <td>Sonipat</td>\n",
              "      <td>Sonipat</td>\n",
              "      <td>GEN</td>\n",
              "      <td>5.0</td>\n",
              "      <td>64614</td>\n",
              "      <td>59941</td>\n",
              "      <td>-63979</td>\n",
              "      <td>140219</td>\n",
              "      <td>0.45</td>\n",
              "    </tr>\n",
              "    <tr>\n",
              "      <th>1042</th>\n",
              "      <td>4</td>\n",
              "      <td>DHARMENDER SINGH</td>\n",
              "      <td>Aam Aadmi Party</td>\n",
              "      <td>629</td>\n",
              "      <td>9</td>\n",
              "      <td>638</td>\n",
              "      <td>0.33</td>\n",
              "      <td>84</td>\n",
              "      <td>Aam Aadmi Party</td>\n",
              "      <td>#0072B0</td>\n",
              "      <td>...</td>\n",
              "      <td>Palwal</td>\n",
              "      <td>Palwal</td>\n",
              "      <td>Faridabad</td>\n",
              "      <td>GEN</td>\n",
              "      <td>6.0</td>\n",
              "      <td>109118</td>\n",
              "      <td>75513</td>\n",
              "      <td>-108480</td>\n",
              "      <td>192880</td>\n",
              "      <td>0.33</td>\n",
              "    </tr>\n",
              "    <tr>\n",
              "      <th>33</th>\n",
              "      <td>12</td>\n",
              "      <td>NOTA</td>\n",
              "      <td>None of the Above</td>\n",
              "      <td>636</td>\n",
              "      <td>5</td>\n",
              "      <td>641</td>\n",
              "      <td>0.48</td>\n",
              "      <td>4</td>\n",
              "      <td>None of the Above</td>\n",
              "      <td>#FFFFFF</td>\n",
              "      <td>...</td>\n",
              "      <td>Ambala Cantonment</td>\n",
              "      <td>Ambala</td>\n",
              "      <td>Ambala</td>\n",
              "      <td>GEN</td>\n",
              "      <td>7.0</td>\n",
              "      <td>59858</td>\n",
              "      <td>52581</td>\n",
              "      <td>-59217</td>\n",
              "      <td>133323</td>\n",
              "      <td>0.48</td>\n",
              "    </tr>\n",
              "    <tr>\n",
              "      <th>745</th>\n",
              "      <td>3</td>\n",
              "      <td>DHARAMBIR</td>\n",
              "      <td>Aam Aadmi Party</td>\n",
              "      <td>626</td>\n",
              "      <td>20</td>\n",
              "      <td>646</td>\n",
              "      <td>0.42</td>\n",
              "      <td>59</td>\n",
              "      <td>Aam Aadmi Party</td>\n",
              "      <td>#0072B0</td>\n",
              "      <td>...</td>\n",
              "      <td>Bawani Khera</td>\n",
              "      <td>Bhiwani</td>\n",
              "      <td>Hisar</td>\n",
              "      <td>SC</td>\n",
              "      <td>6.0</td>\n",
              "      <td>80077</td>\n",
              "      <td>58298</td>\n",
              "      <td>-79431</td>\n",
              "      <td>153369</td>\n",
              "      <td>0.42</td>\n",
              "    </tr>\n",
              "    <tr>\n",
              "      <th>913</th>\n",
              "      <td>17</td>\n",
              "      <td>HARIOM YADAV KOSLIA</td>\n",
              "      <td>Independent</td>\n",
              "      <td>650</td>\n",
              "      <td>4</td>\n",
              "      <td>654</td>\n",
              "      <td>0.37</td>\n",
              "      <td>73</td>\n",
              "      <td>Independent</td>\n",
              "      <td>#DCDCDC</td>\n",
              "      <td>...</td>\n",
              "      <td>Kosli</td>\n",
              "      <td>Rewari</td>\n",
              "      <td>Rohtak</td>\n",
              "      <td>GEN</td>\n",
              "      <td>5.0</td>\n",
              "      <td>92185</td>\n",
              "      <td>74976</td>\n",
              "      <td>-91531</td>\n",
              "      <td>178111</td>\n",
              "      <td>0.37</td>\n",
              "    </tr>\n",
              "    <tr>\n",
              "      <th>526</th>\n",
              "      <td>15</td>\n",
              "      <td>NOTA</td>\n",
              "      <td>None of the Above</td>\n",
              "      <td>656</td>\n",
              "      <td>1</td>\n",
              "      <td>657</td>\n",
              "      <td>0.45</td>\n",
              "      <td>44</td>\n",
              "      <td>None of the Above</td>\n",
              "      <td>#FFFFFF</td>\n",
              "      <td>...</td>\n",
              "      <td>Rania</td>\n",
              "      <td>Sirsa</td>\n",
              "      <td>Sirsa</td>\n",
              "      <td>GEN</td>\n",
              "      <td>7.0</td>\n",
              "      <td>43914</td>\n",
              "      <td>39723</td>\n",
              "      <td>-43257</td>\n",
              "      <td>144402</td>\n",
              "      <td>0.45</td>\n",
              "    </tr>\n",
              "    <tr>\n",
              "      <th>58</th>\n",
              "      <td>6</td>\n",
              "      <td>PRITAM SINGH</td>\n",
              "      <td>Rashtrawadi Janlok Party (Satya)</td>\n",
              "      <td>656</td>\n",
              "      <td>2</td>\n",
              "      <td>658</td>\n",
              "      <td>0.41</td>\n",
              "      <td>6</td>\n",
              "      <td>Other</td>\n",
              "      <td>#000000</td>\n",
              "      <td>...</td>\n",
              "      <td>Mulana</td>\n",
              "      <td>Ambala</td>\n",
              "      <td>Ambala</td>\n",
              "      <td>SC</td>\n",
              "      <td>8.0</td>\n",
              "      <td>79089</td>\n",
              "      <td>66224</td>\n",
              "      <td>-78431</td>\n",
              "      <td>159837</td>\n",
              "      <td>0.41</td>\n",
              "    </tr>\n",
              "    <tr>\n",
              "      <th>1084</th>\n",
              "      <td>3</td>\n",
              "      <td>PARVINDER SINGH</td>\n",
              "      <td>Jannayak Janta Party</td>\n",
              "      <td>657</td>\n",
              "      <td>2</td>\n",
              "      <td>659</td>\n",
              "      <td>0.41</td>\n",
              "      <td>87</td>\n",
              "      <td>Jannayak Janta Party</td>\n",
              "      <td>#026D37</td>\n",
              "      <td>...</td>\n",
              "      <td>Badkhal</td>\n",
              "      <td>Faridabad</td>\n",
              "      <td>Faridabad</td>\n",
              "      <td>GEN</td>\n",
              "      <td>6.0</td>\n",
              "      <td>79476</td>\n",
              "      <td>73295</td>\n",
              "      <td>-78817</td>\n",
              "      <td>159984</td>\n",
              "      <td>0.41</td>\n",
              "    </tr>\n",
              "    <tr>\n",
              "      <th>932</th>\n",
              "      <td>13</td>\n",
              "      <td>NOTA</td>\n",
              "      <td>None of the Above</td>\n",
              "      <td>661</td>\n",
              "      <td>4</td>\n",
              "      <td>665</td>\n",
              "      <td>0.40</td>\n",
              "      <td>74</td>\n",
              "      <td>None of the Above</td>\n",
              "      <td>#FFFFFF</td>\n",
              "      <td>...</td>\n",
              "      <td>Rewari</td>\n",
              "      <td>Rewari</td>\n",
              "      <td>Gurgaon</td>\n",
              "      <td>GEN</td>\n",
              "      <td>6.0</td>\n",
              "      <td>83747</td>\n",
              "      <td>54978</td>\n",
              "      <td>-83082</td>\n",
              "      <td>167667</td>\n",
              "      <td>0.40</td>\n",
              "    </tr>\n",
              "    <tr>\n",
              "      <th>1059</th>\n",
              "      <td>14</td>\n",
              "      <td>NOTA</td>\n",
              "      <td>None of the Above</td>\n",
              "      <td>664</td>\n",
              "      <td>2</td>\n",
              "      <td>666</td>\n",
              "      <td>0.40</td>\n",
              "      <td>85</td>\n",
              "      <td>None of the Above</td>\n",
              "      <td>#FFFFFF</td>\n",
              "      <td>...</td>\n",
              "      <td>Prithla</td>\n",
              "      <td>Faridabad</td>\n",
              "      <td>Faridabad</td>\n",
              "      <td>GEN</td>\n",
              "      <td>9.0</td>\n",
              "      <td>70262</td>\n",
              "      <td>49721</td>\n",
              "      <td>-69596</td>\n",
              "      <td>167191</td>\n",
              "      <td>0.40</td>\n",
              "    </tr>\n",
              "    <tr>\n",
              "      <th>945</th>\n",
              "      <td>8</td>\n",
              "      <td>NOTA</td>\n",
              "      <td>None of the Above</td>\n",
              "      <td>662</td>\n",
              "      <td>6</td>\n",
              "      <td>668</td>\n",
              "      <td>0.42</td>\n",
              "      <td>75</td>\n",
              "      <td>None of the Above</td>\n",
              "      <td>#FFFFFF</td>\n",
              "      <td>...</td>\n",
              "      <td>Pataudi</td>\n",
              "      <td>Gurgaon</td>\n",
              "      <td>Gurgaon</td>\n",
              "      <td>SC</td>\n",
              "      <td>6.0</td>\n",
              "      <td>98519</td>\n",
              "      <td>51989</td>\n",
              "      <td>-97851</td>\n",
              "      <td>157893</td>\n",
              "      <td>0.42</td>\n",
              "    </tr>\n",
              "    <tr>\n",
              "      <th>250</th>\n",
              "      <td>6</td>\n",
              "      <td>VICKY</td>\n",
              "      <td>Jan Sewak Kranti Party</td>\n",
              "      <td>671</td>\n",
              "      <td>0</td>\n",
              "      <td>671</td>\n",
              "      <td>0.38</td>\n",
              "      <td>22</td>\n",
              "      <td>Other</td>\n",
              "      <td>#000000</td>\n",
              "      <td>...</td>\n",
              "      <td>Gharaunda</td>\n",
              "      <td>Karnal</td>\n",
              "      <td>Karnal</td>\n",
              "      <td>GEN</td>\n",
              "      <td>5.0</td>\n",
              "      <td>87236</td>\n",
              "      <td>82705</td>\n",
              "      <td>-86565</td>\n",
              "      <td>174738</td>\n",
              "      <td>0.38</td>\n",
              "    </tr>\n",
              "    <tr>\n",
              "      <th>314</th>\n",
              "      <td>4</td>\n",
              "      <td>NAR SINGH</td>\n",
              "      <td>Bahujan Samaj Party</td>\n",
              "      <td>681</td>\n",
              "      <td>5</td>\n",
              "      <td>686</td>\n",
              "      <td>0.49</td>\n",
              "      <td>28</td>\n",
              "      <td>Bahujan Samaj Party</td>\n",
              "      <td>#22409A</td>\n",
              "      <td>...</td>\n",
              "      <td>Ganaur</td>\n",
              "      <td>Sonipat</td>\n",
              "      <td>Sonipat</td>\n",
              "      <td>GEN</td>\n",
              "      <td>5.0</td>\n",
              "      <td>77248</td>\n",
              "      <td>42039</td>\n",
              "      <td>-76562</td>\n",
              "      <td>141038</td>\n",
              "      <td>0.49</td>\n",
              "    </tr>\n",
              "    <tr>\n",
              "      <th>287</th>\n",
              "      <td>4</td>\n",
              "      <td>SAROJ BALA GUR</td>\n",
              "      <td>Bahujan Samaj Party</td>\n",
              "      <td>693</td>\n",
              "      <td>3</td>\n",
              "      <td>696</td>\n",
              "      <td>0.47</td>\n",
              "      <td>25</td>\n",
              "      <td>Bahujan Samaj Party</td>\n",
              "      <td>#22409A</td>\n",
              "      <td>...</td>\n",
              "      <td>Panipat City</td>\n",
              "      <td>Panipat</td>\n",
              "      <td>Karnal</td>\n",
              "      <td>GEN</td>\n",
              "      <td>6.0</td>\n",
              "      <td>81750</td>\n",
              "      <td>46078</td>\n",
              "      <td>-81054</td>\n",
              "      <td>146863</td>\n",
              "      <td>0.47</td>\n",
              "    </tr>\n",
              "    <tr>\n",
              "      <th>462</th>\n",
              "      <td>13</td>\n",
              "      <td>NOTA</td>\n",
              "      <td>None of the Above</td>\n",
              "      <td>691</td>\n",
              "      <td>7</td>\n",
              "      <td>698</td>\n",
              "      <td>0.39</td>\n",
              "      <td>39</td>\n",
              "      <td>None of the Above</td>\n",
              "      <td>#FFFFFF</td>\n",
              "      <td>...</td>\n",
              "      <td>Tohana</td>\n",
              "      <td>Fatehabad</td>\n",
              "      <td>Sirsa</td>\n",
              "      <td>GEN</td>\n",
              "      <td>5.0</td>\n",
              "      <td>88522</td>\n",
              "      <td>77686</td>\n",
              "      <td>-87824</td>\n",
              "      <td>180467</td>\n",
              "      <td>0.39</td>\n",
              "    </tr>\n",
              "    <tr>\n",
              "      <th>57</th>\n",
              "      <td>7</td>\n",
              "      <td>AJAIB SINGH SODHI</td>\n",
              "      <td>Independent</td>\n",
              "      <td>695</td>\n",
              "      <td>4</td>\n",
              "      <td>699</td>\n",
              "      <td>0.44</td>\n",
              "      <td>6</td>\n",
              "      <td>Independent</td>\n",
              "      <td>#DCDCDC</td>\n",
              "      <td>...</td>\n",
              "      <td>Mulana</td>\n",
              "      <td>Ambala</td>\n",
              "      <td>Ambala</td>\n",
              "      <td>SC</td>\n",
              "      <td>7.0</td>\n",
              "      <td>79089</td>\n",
              "      <td>66224</td>\n",
              "      <td>-78390</td>\n",
              "      <td>159837</td>\n",
              "      <td>0.44</td>\n",
              "    </tr>\n",
              "    <tr>\n",
              "      <th>160</th>\n",
              "      <td>10</td>\n",
              "      <td>NOTA</td>\n",
              "      <td>None of the Above</td>\n",
              "      <td>702</td>\n",
              "      <td>0</td>\n",
              "      <td>702</td>\n",
              "      <td>0.52</td>\n",
              "      <td>15</td>\n",
              "      <td>None of the Above</td>\n",
              "      <td>#FFFFFF</td>\n",
              "      <td>...</td>\n",
              "      <td>Guhla</td>\n",
              "      <td>Kaithal</td>\n",
              "      <td>Kurukshetra</td>\n",
              "      <td>SC</td>\n",
              "      <td>8.0</td>\n",
              "      <td>64611</td>\n",
              "      <td>41731</td>\n",
              "      <td>-63909</td>\n",
              "      <td>133876</td>\n",
              "      <td>0.52</td>\n",
              "    </tr>\n",
              "    <tr>\n",
              "      <th>286</th>\n",
              "      <td>12</td>\n",
              "      <td>NOTA</td>\n",
              "      <td>None of the Above</td>\n",
              "      <td>701</td>\n",
              "      <td>1</td>\n",
              "      <td>702</td>\n",
              "      <td>0.48</td>\n",
              "      <td>25</td>\n",
              "      <td>None of the Above</td>\n",
              "      <td>#FFFFFF</td>\n",
              "      <td>...</td>\n",
              "      <td>Panipat City</td>\n",
              "      <td>Panipat</td>\n",
              "      <td>Karnal</td>\n",
              "      <td>GEN</td>\n",
              "      <td>5.0</td>\n",
              "      <td>81750</td>\n",
              "      <td>46078</td>\n",
              "      <td>-81048</td>\n",
              "      <td>146863</td>\n",
              "      <td>0.48</td>\n",
              "    </tr>\n",
              "  </tbody>\n",
              "</table>\n",
              "<p>33 rows × 21 columns</p>\n",
              "</div>"
            ],
            "text/plain": [
              "      S.N.            Candidate                                        Party  \\\n",
              "463      5    HAWA SINGH KHOBRA                         Jannayak Janta Party   \n",
              "1060    12                RAHUL                                  Independent   \n",
              "987     11                 NOTA                            None of the Above   \n",
              "829      4         HARPAL SINGH                              Aam Aadmi Party   \n",
              "67      10                 NOTA                            None of the Above   \n",
              "378      2         DEEPAK MALIK                         Jannayak Janta Party   \n",
              "100      6   DIWAN CHAND KAMBOJ                 Bhartiya Shakti Chetna Party   \n",
              "367      2        KULDEEP MALIK                         Jannayak Janta Party   \n",
              "261     13                REKHA                                  Independent   \n",
              "496      7               TEJPAL                                  Independent   \n",
              "112     14  KASHYAP RAM CHANDER                                  Independent   \n",
              "713      6    COMRADE RAJ KUMAR  Socialist Unity Centre Of India (COMMUNIST)   \n",
              "578      8                 NOTA                            None of the Above   \n",
              "45      10         SATNAM SINGH                                  Independent   \n",
              "111      1      JOGA SINGH UMRI                              Aam Aadmi Party   \n",
              "326     12      RAHUL KIRORIWAL                                  Independent   \n",
              "1042     4     DHARMENDER SINGH                              Aam Aadmi Party   \n",
              "33      12                 NOTA                            None of the Above   \n",
              "745      3            DHARAMBIR                              Aam Aadmi Party   \n",
              "913     17  HARIOM YADAV KOSLIA                                  Independent   \n",
              "526     15                 NOTA                            None of the Above   \n",
              "58       6         PRITAM SINGH             Rashtrawadi Janlok Party (Satya)   \n",
              "1084     3      PARVINDER SINGH                         Jannayak Janta Party   \n",
              "932     13                 NOTA                            None of the Above   \n",
              "1059    14                 NOTA                            None of the Above   \n",
              "945      8                 NOTA                            None of the Above   \n",
              "250      6                VICKY                       Jan Sewak Kranti Party   \n",
              "314      4            NAR SINGH                          Bahujan Samaj Party   \n",
              "287      4       SAROJ BALA GUR                          Bahujan Samaj Party   \n",
              "462     13                 NOTA                            None of the Above   \n",
              "57       7    AJAIB SINGH SODHI                                  Independent   \n",
              "160     10                 NOTA                            None of the Above   \n",
              "286     12                 NOTA                            None of the Above   \n",
              "\n",
              "      EVM Votes  Postal Votes  Total Votes  % of Votes  Constituency  \\\n",
              "463         588             3          591        0.33            39   \n",
              "1060        596             0          596        0.36            85   \n",
              "987         599             1          600        0.29            78   \n",
              "829         595             6          601        0.45            65   \n",
              "67          601             4          605        0.35             7   \n",
              "378         597             8          605        0.47            33   \n",
              "100         601             5          606        0.40            10   \n",
              "367         607             1          608        0.46            32   \n",
              "261         608             1          609        0.38            23   \n",
              "496         609             1          610        0.37            41   \n",
              "112         611             0          611        0.41            11   \n",
              "713         611            12          623        0.43            57   \n",
              "578         619             8          627        0.43            48   \n",
              "45          626             3          629        0.38             5   \n",
              "111         627             5          632        0.43            11   \n",
              "326         634             1          635        0.45            29   \n",
              "1042        629             9          638        0.33            84   \n",
              "33          636             5          641        0.48             4   \n",
              "745         626            20          646        0.42            59   \n",
              "913         650             4          654        0.37            73   \n",
              "526         656             1          657        0.45            44   \n",
              "58          656             2          658        0.41             6   \n",
              "1084        657             2          659        0.41            87   \n",
              "932         661             4          665        0.40            74   \n",
              "1059        664             2          666        0.40            85   \n",
              "945         662             6          668        0.42            75   \n",
              "250         671             0          671        0.38            22   \n",
              "314         681             5          686        0.49            28   \n",
              "287         693             3          696        0.47            25   \n",
              "462         691             7          698        0.39            39   \n",
              "57          695             4          699        0.44             6   \n",
              "160         702             0          702        0.52            15   \n",
              "286         701             1          702        0.48            25   \n",
              "\n",
              "                      Name    Color  ...  Constituency Name     District  \\\n",
              "463   Jannayak Janta Party  #026D37  ...             Tohana    Fatehabad   \n",
              "1060           Independent  #DCDCDC  ...            Prithla    Faridabad   \n",
              "987      None of the Above  #FFFFFF  ...              Sohna      Gurgaon   \n",
              "829        Aam Aadmi Party  #0072B0  ...              Badli      Jhajjar   \n",
              "67       None of the Above  #FFFFFF  ...           Sadhaura  Yamunanagar   \n",
              "378   Jannayak Janta Party  #026D37  ...             Baroda      Sonipat   \n",
              "100                  Other  #000000  ...             Radaur  Yamunanagar   \n",
              "367   Jannayak Janta Party  #026D37  ...             Gohana      Sonipat   \n",
              "261            Independent  #DCDCDC  ...            Assandh       Karnal   \n",
              "496            Independent  #DCDCDC  ...              Ratia    Fatehabad   \n",
              "112            Independent  #DCDCDC  ...              Ladwa  Kurukshetra   \n",
              "713                  Other  #000000  ...            Bhiwani      Bhiwani   \n",
              "578      None of the Above  #FFFFFF  ...             Uklana        Hisar   \n",
              "45             Independent  #DCDCDC  ...        Ambala City       Ambala   \n",
              "111        Aam Aadmi Party  #0072B0  ...              Ladwa  Kurukshetra   \n",
              "326            Independent  #DCDCDC  ...                Rai      Sonipat   \n",
              "1042       Aam Aadmi Party  #0072B0  ...             Palwal       Palwal   \n",
              "33       None of the Above  #FFFFFF  ...  Ambala Cantonment       Ambala   \n",
              "745        Aam Aadmi Party  #0072B0  ...       Bawani Khera      Bhiwani   \n",
              "913            Independent  #DCDCDC  ...              Kosli       Rewari   \n",
              "526      None of the Above  #FFFFFF  ...              Rania        Sirsa   \n",
              "58                   Other  #000000  ...             Mulana       Ambala   \n",
              "1084  Jannayak Janta Party  #026D37  ...            Badkhal    Faridabad   \n",
              "932      None of the Above  #FFFFFF  ...             Rewari       Rewari   \n",
              "1059     None of the Above  #FFFFFF  ...            Prithla    Faridabad   \n",
              "945      None of the Above  #FFFFFF  ...            Pataudi      Gurgaon   \n",
              "250                  Other  #000000  ...          Gharaunda       Karnal   \n",
              "314    Bahujan Samaj Party  #22409A  ...             Ganaur      Sonipat   \n",
              "287    Bahujan Samaj Party  #22409A  ...       Panipat City      Panipat   \n",
              "462      None of the Above  #FFFFFF  ...             Tohana    Fatehabad   \n",
              "57             Independent  #DCDCDC  ...             Mulana       Ambala   \n",
              "160      None of the Above  #FFFFFF  ...              Guhla      Kaithal   \n",
              "286      None of the Above  #FFFFFF  ...       Panipat City      Panipat   \n",
              "\n",
              "                Lok Sabha Constituency Category  Rank  WinnerVotes  \\\n",
              "463                 Sirsa                   GEN   6.0        88522   \n",
              "1060            Faridabad                   GEN  10.0        70262   \n",
              "987               Gurgaon                   GEN   8.0        61243   \n",
              "829                Rohtak                   GEN   4.0        68160   \n",
              "67                 Ambala                    SC   6.0        57534   \n",
              "378               Sonipat                   GEN   6.0        54462   \n",
              "100           Kurukshetra                   GEN   6.0        73348   \n",
              "367               Sonipat                   GEN   7.0        57055   \n",
              "261                Karnal                   GEN   7.0        54761   \n",
              "496                 Sirsa                    SC   7.0        86426   \n",
              "112           Kurukshetra                   GEN   7.0        70177   \n",
              "713   BhiwaniMahendragarh                   GEN   9.0        67087   \n",
              "578                 Hisar                    SC   6.0        78448   \n",
              "45                 Ambala                   GEN   7.0        84475   \n",
              "111           Kurukshetra                   GEN   6.0        70177   \n",
              "326               Sonipat                   GEN   5.0        64614   \n",
              "1042            Faridabad                   GEN   6.0       109118   \n",
              "33                 Ambala                   GEN   7.0        59858   \n",
              "745                 Hisar                    SC   6.0        80077   \n",
              "913                Rohtak                   GEN   5.0        92185   \n",
              "526                 Sirsa                   GEN   7.0        43914   \n",
              "58                 Ambala                    SC   8.0        79089   \n",
              "1084            Faridabad                   GEN   6.0        79476   \n",
              "932               Gurgaon                   GEN   6.0        83747   \n",
              "1059            Faridabad                   GEN   9.0        70262   \n",
              "945               Gurgaon                    SC   6.0        98519   \n",
              "250                Karnal                   GEN   5.0        87236   \n",
              "314               Sonipat                   GEN   5.0        77248   \n",
              "287                Karnal                   GEN   6.0        81750   \n",
              "462                 Sirsa                   GEN   5.0        88522   \n",
              "57                 Ambala                    SC   7.0        79089   \n",
              "160           Kurukshetra                    SC   8.0        64611   \n",
              "286                Karnal                   GEN   5.0        81750   \n",
              "\n",
              "      RunnerUpVotes  Margin  VoterTurnout  VoteShare  \n",
              "463           77686  -87931        180467       0.33  \n",
              "1060          49721  -69666        167191       0.36  \n",
              "987           49366  -60643        203562       0.29  \n",
              "829           51340  -67559        132300       0.45  \n",
              "67            55835  -56929        174150       0.35  \n",
              "378           48820  -53857        129971       0.47  \n",
              "100           60216  -72742        153018       0.40  \n",
              "367           46626  -56447        130786       0.46  \n",
              "261           52455  -54152        162292       0.38  \n",
              "496           64984  -85816        164504       0.37  \n",
              "112           54123  -69566        148068       0.41  \n",
              "713           34373  -66464        145254       0.43  \n",
              "578           50356  -77821        144715       0.43  \n",
              "45            73344  -83846        165701       0.38  \n",
              "111           54123  -69545        148068       0.43  \n",
              "326           59941  -63979        140219       0.45  \n",
              "1042          75513 -108480        192880       0.33  \n",
              "33            52581  -59217        133323       0.48  \n",
              "745           58298  -79431        153369       0.42  \n",
              "913           74976  -91531        178111       0.37  \n",
              "526           39723  -43257        144402       0.45  \n",
              "58            66224  -78431        159837       0.41  \n",
              "1084          73295  -78817        159984       0.41  \n",
              "932           54978  -83082        167667       0.40  \n",
              "1059          49721  -69596        167191       0.40  \n",
              "945           51989  -97851        157893       0.42  \n",
              "250           82705  -86565        174738       0.38  \n",
              "314           42039  -76562        141038       0.49  \n",
              "287           46078  -81054        146863       0.47  \n",
              "462           77686  -87824        180467       0.39  \n",
              "57            66224  -78390        159837       0.44  \n",
              "160           41731  -63909        133876       0.52  \n",
              "286           46078  -81048        146863       0.48  \n",
              "\n",
              "[33 rows x 21 columns]"
            ]
          },
          "execution_count": 10,
          "metadata": {},
          "output_type": "execute_result"
        }
      ],
      "source": [
        "result[result['Total Votes']<704][result['Total Votes']>590].sort_values('Total Votes')"
      ]
    },
    {
      "cell_type": "markdown",
      "metadata": {},
      "source": [
        "# Party wise analysis"
      ]
    },
    {
      "cell_type": "code",
      "execution_count": 11,
      "metadata": {},
      "outputs": [
        {
          "data": {
            "application/vnd.plotly.v1+json": {
              "config": {
                "plotlyServerURL": "https://plot.ly"
              },
              "data": [
                {
                  "domain": {
                    "x": [
                      0,
                      0.45
                    ],
                    "y": [
                      0,
                      1
                    ]
                  },
                  "hole": 0.5,
                  "labels": [
                    "Other",
                    "AAP",
                    "Other",
                    "Other",
                    "Other",
                    "BSP",
                    "BJP",
                    "Other",
                    "Other",
                    "IND",
                    "INC",
                    "INLD",
                    "JJP",
                    "Other",
                    "Other",
                    "Other",
                    "Other",
                    "Other"
                  ],
                  "marker": {
                    "colors": [
                      "#000000",
                      "#0072B0",
                      "#000000",
                      "#003597",
                      "#000000",
                      "#22409A",
                      "#FF9933",
                      "#CB0922",
                      "#CC0D0D",
                      "#DCDCDC",
                      "#19AAED",
                      "#336600",
                      "#026D37",
                      "#00B2B2",
                      "#FFFFFF",
                      "#000000",
                      "#000000",
                      "#000000"
                    ]
                  },
                  "name": "",
                  "type": "pie",
                  "values": [
                    631,
                    248455,
                    166,
                    19534,
                    95,
                    252671,
                    5548800,
                    1342,
                    34373,
                    1448835,
                    5430602,
                    575192,
                    125022,
                    56,
                    53300,
                    149722,
                    2169,
                    315
                  ]
                },
                {
                  "domain": {
                    "x": [
                      0.55,
                      1
                    ],
                    "y": [
                      0,
                      1
                    ]
                  },
                  "hole": 0.5,
                  "labels": [
                    "BJP",
                    "IND",
                    "INC",
                    "INLD"
                  ],
                  "marker": {
                    "colors": [
                      "#FF9933",
                      "#DCDCDC",
                      "#19AAED",
                      "#336600"
                    ]
                  },
                  "name": "",
                  "type": "pie",
                  "values": [
                    48,
                    3,
                    37,
                    2
                  ]
                }
              ],
              "layout": {
                "annotations": [
                  {
                    "font": {
                      "size": 16
                    },
                    "showarrow": false,
                    "text": "Vote Share",
                    "x": 0.225,
                    "xanchor": "center",
                    "xref": "paper",
                    "y": 1,
                    "yanchor": "bottom",
                    "yref": "paper"
                  },
                  {
                    "font": {
                      "size": 16
                    },
                    "showarrow": false,
                    "text": "Seat Share",
                    "x": 0.775,
                    "xanchor": "center",
                    "xref": "paper",
                    "y": 1,
                    "yanchor": "bottom",
                    "yref": "paper"
                  }
                ],
                "height": 500,
                "showlegend": true,
                "template": {
                  "data": {
                    "bar": [
                      {
                        "error_x": {
                          "color": "#2a3f5f"
                        },
                        "error_y": {
                          "color": "#2a3f5f"
                        },
                        "marker": {
                          "line": {
                            "color": "#E5ECF6",
                            "width": 0.5
                          },
                          "pattern": {
                            "fillmode": "overlay",
                            "size": 10,
                            "solidity": 0.2
                          }
                        },
                        "type": "bar"
                      }
                    ],
                    "barpolar": [
                      {
                        "marker": {
                          "line": {
                            "color": "#E5ECF6",
                            "width": 0.5
                          },
                          "pattern": {
                            "fillmode": "overlay",
                            "size": 10,
                            "solidity": 0.2
                          }
                        },
                        "type": "barpolar"
                      }
                    ],
                    "carpet": [
                      {
                        "aaxis": {
                          "endlinecolor": "#2a3f5f",
                          "gridcolor": "white",
                          "linecolor": "white",
                          "minorgridcolor": "white",
                          "startlinecolor": "#2a3f5f"
                        },
                        "baxis": {
                          "endlinecolor": "#2a3f5f",
                          "gridcolor": "white",
                          "linecolor": "white",
                          "minorgridcolor": "white",
                          "startlinecolor": "#2a3f5f"
                        },
                        "type": "carpet"
                      }
                    ],
                    "choropleth": [
                      {
                        "colorbar": {
                          "outlinewidth": 0,
                          "ticks": ""
                        },
                        "type": "choropleth"
                      }
                    ],
                    "contour": [
                      {
                        "colorbar": {
                          "outlinewidth": 0,
                          "ticks": ""
                        },
                        "colorscale": [
                          [
                            0,
                            "#0d0887"
                          ],
                          [
                            0.1111111111111111,
                            "#46039f"
                          ],
                          [
                            0.2222222222222222,
                            "#7201a8"
                          ],
                          [
                            0.3333333333333333,
                            "#9c179e"
                          ],
                          [
                            0.4444444444444444,
                            "#bd3786"
                          ],
                          [
                            0.5555555555555556,
                            "#d8576b"
                          ],
                          [
                            0.6666666666666666,
                            "#ed7953"
                          ],
                          [
                            0.7777777777777778,
                            "#fb9f3a"
                          ],
                          [
                            0.8888888888888888,
                            "#fdca26"
                          ],
                          [
                            1,
                            "#f0f921"
                          ]
                        ],
                        "type": "contour"
                      }
                    ],
                    "contourcarpet": [
                      {
                        "colorbar": {
                          "outlinewidth": 0,
                          "ticks": ""
                        },
                        "type": "contourcarpet"
                      }
                    ],
                    "heatmap": [
                      {
                        "colorbar": {
                          "outlinewidth": 0,
                          "ticks": ""
                        },
                        "colorscale": [
                          [
                            0,
                            "#0d0887"
                          ],
                          [
                            0.1111111111111111,
                            "#46039f"
                          ],
                          [
                            0.2222222222222222,
                            "#7201a8"
                          ],
                          [
                            0.3333333333333333,
                            "#9c179e"
                          ],
                          [
                            0.4444444444444444,
                            "#bd3786"
                          ],
                          [
                            0.5555555555555556,
                            "#d8576b"
                          ],
                          [
                            0.6666666666666666,
                            "#ed7953"
                          ],
                          [
                            0.7777777777777778,
                            "#fb9f3a"
                          ],
                          [
                            0.8888888888888888,
                            "#fdca26"
                          ],
                          [
                            1,
                            "#f0f921"
                          ]
                        ],
                        "type": "heatmap"
                      }
                    ],
                    "heatmapgl": [
                      {
                        "colorbar": {
                          "outlinewidth": 0,
                          "ticks": ""
                        },
                        "colorscale": [
                          [
                            0,
                            "#0d0887"
                          ],
                          [
                            0.1111111111111111,
                            "#46039f"
                          ],
                          [
                            0.2222222222222222,
                            "#7201a8"
                          ],
                          [
                            0.3333333333333333,
                            "#9c179e"
                          ],
                          [
                            0.4444444444444444,
                            "#bd3786"
                          ],
                          [
                            0.5555555555555556,
                            "#d8576b"
                          ],
                          [
                            0.6666666666666666,
                            "#ed7953"
                          ],
                          [
                            0.7777777777777778,
                            "#fb9f3a"
                          ],
                          [
                            0.8888888888888888,
                            "#fdca26"
                          ],
                          [
                            1,
                            "#f0f921"
                          ]
                        ],
                        "type": "heatmapgl"
                      }
                    ],
                    "histogram": [
                      {
                        "marker": {
                          "pattern": {
                            "fillmode": "overlay",
                            "size": 10,
                            "solidity": 0.2
                          }
                        },
                        "type": "histogram"
                      }
                    ],
                    "histogram2d": [
                      {
                        "colorbar": {
                          "outlinewidth": 0,
                          "ticks": ""
                        },
                        "colorscale": [
                          [
                            0,
                            "#0d0887"
                          ],
                          [
                            0.1111111111111111,
                            "#46039f"
                          ],
                          [
                            0.2222222222222222,
                            "#7201a8"
                          ],
                          [
                            0.3333333333333333,
                            "#9c179e"
                          ],
                          [
                            0.4444444444444444,
                            "#bd3786"
                          ],
                          [
                            0.5555555555555556,
                            "#d8576b"
                          ],
                          [
                            0.6666666666666666,
                            "#ed7953"
                          ],
                          [
                            0.7777777777777778,
                            "#fb9f3a"
                          ],
                          [
                            0.8888888888888888,
                            "#fdca26"
                          ],
                          [
                            1,
                            "#f0f921"
                          ]
                        ],
                        "type": "histogram2d"
                      }
                    ],
                    "histogram2dcontour": [
                      {
                        "colorbar": {
                          "outlinewidth": 0,
                          "ticks": ""
                        },
                        "colorscale": [
                          [
                            0,
                            "#0d0887"
                          ],
                          [
                            0.1111111111111111,
                            "#46039f"
                          ],
                          [
                            0.2222222222222222,
                            "#7201a8"
                          ],
                          [
                            0.3333333333333333,
                            "#9c179e"
                          ],
                          [
                            0.4444444444444444,
                            "#bd3786"
                          ],
                          [
                            0.5555555555555556,
                            "#d8576b"
                          ],
                          [
                            0.6666666666666666,
                            "#ed7953"
                          ],
                          [
                            0.7777777777777778,
                            "#fb9f3a"
                          ],
                          [
                            0.8888888888888888,
                            "#fdca26"
                          ],
                          [
                            1,
                            "#f0f921"
                          ]
                        ],
                        "type": "histogram2dcontour"
                      }
                    ],
                    "mesh3d": [
                      {
                        "colorbar": {
                          "outlinewidth": 0,
                          "ticks": ""
                        },
                        "type": "mesh3d"
                      }
                    ],
                    "parcoords": [
                      {
                        "line": {
                          "colorbar": {
                            "outlinewidth": 0,
                            "ticks": ""
                          }
                        },
                        "type": "parcoords"
                      }
                    ],
                    "pie": [
                      {
                        "automargin": true,
                        "type": "pie"
                      }
                    ],
                    "scatter": [
                      {
                        "fillpattern": {
                          "fillmode": "overlay",
                          "size": 10,
                          "solidity": 0.2
                        },
                        "type": "scatter"
                      }
                    ],
                    "scatter3d": [
                      {
                        "line": {
                          "colorbar": {
                            "outlinewidth": 0,
                            "ticks": ""
                          }
                        },
                        "marker": {
                          "colorbar": {
                            "outlinewidth": 0,
                            "ticks": ""
                          }
                        },
                        "type": "scatter3d"
                      }
                    ],
                    "scattercarpet": [
                      {
                        "marker": {
                          "colorbar": {
                            "outlinewidth": 0,
                            "ticks": ""
                          }
                        },
                        "type": "scattercarpet"
                      }
                    ],
                    "scattergeo": [
                      {
                        "marker": {
                          "colorbar": {
                            "outlinewidth": 0,
                            "ticks": ""
                          }
                        },
                        "type": "scattergeo"
                      }
                    ],
                    "scattergl": [
                      {
                        "marker": {
                          "colorbar": {
                            "outlinewidth": 0,
                            "ticks": ""
                          }
                        },
                        "type": "scattergl"
                      }
                    ],
                    "scattermapbox": [
                      {
                        "marker": {
                          "colorbar": {
                            "outlinewidth": 0,
                            "ticks": ""
                          }
                        },
                        "type": "scattermapbox"
                      }
                    ],
                    "scatterpolar": [
                      {
                        "marker": {
                          "colorbar": {
                            "outlinewidth": 0,
                            "ticks": ""
                          }
                        },
                        "type": "scatterpolar"
                      }
                    ],
                    "scatterpolargl": [
                      {
                        "marker": {
                          "colorbar": {
                            "outlinewidth": 0,
                            "ticks": ""
                          }
                        },
                        "type": "scatterpolargl"
                      }
                    ],
                    "scatterternary": [
                      {
                        "marker": {
                          "colorbar": {
                            "outlinewidth": 0,
                            "ticks": ""
                          }
                        },
                        "type": "scatterternary"
                      }
                    ],
                    "surface": [
                      {
                        "colorbar": {
                          "outlinewidth": 0,
                          "ticks": ""
                        },
                        "colorscale": [
                          [
                            0,
                            "#0d0887"
                          ],
                          [
                            0.1111111111111111,
                            "#46039f"
                          ],
                          [
                            0.2222222222222222,
                            "#7201a8"
                          ],
                          [
                            0.3333333333333333,
                            "#9c179e"
                          ],
                          [
                            0.4444444444444444,
                            "#bd3786"
                          ],
                          [
                            0.5555555555555556,
                            "#d8576b"
                          ],
                          [
                            0.6666666666666666,
                            "#ed7953"
                          ],
                          [
                            0.7777777777777778,
                            "#fb9f3a"
                          ],
                          [
                            0.8888888888888888,
                            "#fdca26"
                          ],
                          [
                            1,
                            "#f0f921"
                          ]
                        ],
                        "type": "surface"
                      }
                    ],
                    "table": [
                      {
                        "cells": {
                          "fill": {
                            "color": "#EBF0F8"
                          },
                          "line": {
                            "color": "white"
                          }
                        },
                        "header": {
                          "fill": {
                            "color": "#C8D4E3"
                          },
                          "line": {
                            "color": "white"
                          }
                        },
                        "type": "table"
                      }
                    ]
                  },
                  "layout": {
                    "annotationdefaults": {
                      "arrowcolor": "#2a3f5f",
                      "arrowhead": 0,
                      "arrowwidth": 1
                    },
                    "autotypenumbers": "strict",
                    "coloraxis": {
                      "colorbar": {
                        "outlinewidth": 0,
                        "ticks": ""
                      }
                    },
                    "colorscale": {
                      "diverging": [
                        [
                          0,
                          "#8e0152"
                        ],
                        [
                          0.1,
                          "#c51b7d"
                        ],
                        [
                          0.2,
                          "#de77ae"
                        ],
                        [
                          0.3,
                          "#f1b6da"
                        ],
                        [
                          0.4,
                          "#fde0ef"
                        ],
                        [
                          0.5,
                          "#f7f7f7"
                        ],
                        [
                          0.6,
                          "#e6f5d0"
                        ],
                        [
                          0.7,
                          "#b8e186"
                        ],
                        [
                          0.8,
                          "#7fbc41"
                        ],
                        [
                          0.9,
                          "#4d9221"
                        ],
                        [
                          1,
                          "#276419"
                        ]
                      ],
                      "sequential": [
                        [
                          0,
                          "#0d0887"
                        ],
                        [
                          0.1111111111111111,
                          "#46039f"
                        ],
                        [
                          0.2222222222222222,
                          "#7201a8"
                        ],
                        [
                          0.3333333333333333,
                          "#9c179e"
                        ],
                        [
                          0.4444444444444444,
                          "#bd3786"
                        ],
                        [
                          0.5555555555555556,
                          "#d8576b"
                        ],
                        [
                          0.6666666666666666,
                          "#ed7953"
                        ],
                        [
                          0.7777777777777778,
                          "#fb9f3a"
                        ],
                        [
                          0.8888888888888888,
                          "#fdca26"
                        ],
                        [
                          1,
                          "#f0f921"
                        ]
                      ],
                      "sequentialminus": [
                        [
                          0,
                          "#0d0887"
                        ],
                        [
                          0.1111111111111111,
                          "#46039f"
                        ],
                        [
                          0.2222222222222222,
                          "#7201a8"
                        ],
                        [
                          0.3333333333333333,
                          "#9c179e"
                        ],
                        [
                          0.4444444444444444,
                          "#bd3786"
                        ],
                        [
                          0.5555555555555556,
                          "#d8576b"
                        ],
                        [
                          0.6666666666666666,
                          "#ed7953"
                        ],
                        [
                          0.7777777777777778,
                          "#fb9f3a"
                        ],
                        [
                          0.8888888888888888,
                          "#fdca26"
                        ],
                        [
                          1,
                          "#f0f921"
                        ]
                      ]
                    },
                    "colorway": [
                      "#636efa",
                      "#EF553B",
                      "#00cc96",
                      "#ab63fa",
                      "#FFA15A",
                      "#19d3f3",
                      "#FF6692",
                      "#B6E880",
                      "#FF97FF",
                      "#FECB52"
                    ],
                    "font": {
                      "color": "#2a3f5f"
                    },
                    "geo": {
                      "bgcolor": "white",
                      "lakecolor": "white",
                      "landcolor": "#E5ECF6",
                      "showlakes": true,
                      "showland": true,
                      "subunitcolor": "white"
                    },
                    "hoverlabel": {
                      "align": "left"
                    },
                    "hovermode": "closest",
                    "mapbox": {
                      "style": "light"
                    },
                    "paper_bgcolor": "white",
                    "plot_bgcolor": "#E5ECF6",
                    "polar": {
                      "angularaxis": {
                        "gridcolor": "white",
                        "linecolor": "white",
                        "ticks": ""
                      },
                      "bgcolor": "#E5ECF6",
                      "radialaxis": {
                        "gridcolor": "white",
                        "linecolor": "white",
                        "ticks": ""
                      }
                    },
                    "scene": {
                      "xaxis": {
                        "backgroundcolor": "#E5ECF6",
                        "gridcolor": "white",
                        "gridwidth": 2,
                        "linecolor": "white",
                        "showbackground": true,
                        "ticks": "",
                        "zerolinecolor": "white"
                      },
                      "yaxis": {
                        "backgroundcolor": "#E5ECF6",
                        "gridcolor": "white",
                        "gridwidth": 2,
                        "linecolor": "white",
                        "showbackground": true,
                        "ticks": "",
                        "zerolinecolor": "white"
                      },
                      "zaxis": {
                        "backgroundcolor": "#E5ECF6",
                        "gridcolor": "white",
                        "gridwidth": 2,
                        "linecolor": "white",
                        "showbackground": true,
                        "ticks": "",
                        "zerolinecolor": "white"
                      }
                    },
                    "shapedefaults": {
                      "line": {
                        "color": "#2a3f5f"
                      }
                    },
                    "ternary": {
                      "aaxis": {
                        "gridcolor": "white",
                        "linecolor": "white",
                        "ticks": ""
                      },
                      "baxis": {
                        "gridcolor": "white",
                        "linecolor": "white",
                        "ticks": ""
                      },
                      "bgcolor": "#E5ECF6",
                      "caxis": {
                        "gridcolor": "white",
                        "linecolor": "white",
                        "ticks": ""
                      }
                    },
                    "title": {
                      "x": 0.05
                    },
                    "xaxis": {
                      "automargin": true,
                      "gridcolor": "white",
                      "linecolor": "white",
                      "ticks": "",
                      "title": {
                        "standoff": 15
                      },
                      "zerolinecolor": "white",
                      "zerolinewidth": 2
                    },
                    "yaxis": {
                      "automargin": true,
                      "gridcolor": "white",
                      "linecolor": "white",
                      "ticks": "",
                      "title": {
                        "standoff": 15
                      },
                      "zerolinecolor": "white",
                      "zerolinewidth": 2
                    }
                  }
                },
                "width": 1000
              }
            }
          },
          "metadata": {},
          "output_type": "display_data"
        }
      ],
      "source": [
        "party_wise = result.groupby(by=['Name','Abb','Color']).agg({'EVM Votes':'sum','Postal Votes':'sum','Total Votes':'sum'}).reset_index()\n",
        "party_wise['Rank']=party_wise['Total Votes'].rank(ascending=False)\n",
        "party_wise.loc[party_wise.Rank > 8, 'Name'] = 'Other'\n",
        "party_wise.loc[party_wise.Rank > 8, 'Abb'] = 'Other'\n",
        "\n",
        "winner = result[result.Rank==1][['Party','Color','Abb']]\n",
        "winner = winner.groupby(['Party','Color','Abb']).size().reset_index()\n",
        "\n",
        "# Define the figure with a 1x2 layout\n",
        "fig = make_subplots(rows=1, cols=2, subplot_titles=[\"Vote Share\", \"Seat Share\"], specs=[[{\"type\": \"domain\"}, {\"type\": \"domain\"}]])\n",
        "\n",
        "# First Pie Chart\n",
        "fig.add_trace(go.Pie(labels=party_wise.Abb, values=party_wise['Total Votes'],\n",
        "                     marker=dict(colors=party_wise['Color']), hole=0.5, name=''), row=1, col=1)\n",
        "\n",
        "# Second Pie Chart\n",
        "fig.add_trace(go.Pie(labels=winner.Abb, values=winner[0],\n",
        "                     marker=dict(colors=winner['Color']), hole=0.5, name=''), row=1, col=2)\n",
        "\n",
        "# Adjust layout for better spacing\n",
        "fig.update_layout(height=500, width=1000, showlegend=True)\n",
        "\n",
        "fig.show()"
      ]
    },
    {
      "cell_type": "markdown",
      "metadata": {},
      "source": [
        "# Constuitency wise analysis"
      ]
    },
    {
      "cell_type": "code",
      "execution_count": 12,
      "metadata": {},
      "outputs": [
        {
          "data": {
            "application/vnd.plotly.v1+json": {
              "config": {
                "plotlyServerURL": "https://plot.ly"
              },
              "data": [
                {
                  "customdata": [
                    [
                      "BJP",
                      "SHAKTI RANI SHARMA"
                    ],
                    [
                      "INC",
                      "PARDEEP CHAUDHARY"
                    ],
                    [
                      "IND",
                      "GOPAL SUKHOMAJRI"
                    ],
                    [
                      "BSP",
                      "CHARAN SINGH"
                    ],
                    [
                      "AAP",
                      "OM PARKASH GUJJAR"
                    ],
                    [
                      "NOTA",
                      "NOTA"
                    ],
                    [
                      "IND",
                      "AMIT SHARMA"
                    ],
                    [
                      "IND",
                      "VISHAL"
                    ],
                    [
                      "INC",
                      "CHANDER MOHAN"
                    ],
                    [
                      "BJP",
                      "GIAN CHAND GUPTA"
                    ],
                    [
                      "AAP",
                      "PREM GARG"
                    ],
                    [
                      "INLD",
                      "DR KSHITIJ CHOUDHARY"
                    ],
                    [
                      "JJP",
                      "SUSHIL GARG"
                    ],
                    [
                      "NOTA",
                      "NOTA"
                    ],
                    [
                      "IND",
                      "M P SHARMA"
                    ],
                    [
                      "IND",
                      "NATASHA SOOD"
                    ],
                    [
                      "IND",
                      "SAROJ BALA"
                    ],
                    [
                      "RRP",
                      "KISHAN SINGH NEGI"
                    ],
                    [
                      "Other",
                      "BHARAT BHUSHAN GURJAR"
                    ],
                    [
                      "INC",
                      "SHALLEY CHAUDHARY"
                    ],
                    [
                      "BJP",
                      "DR. PAWAN SAINI"
                    ],
                    [
                      "BSP",
                      "HARBILAS SINGH"
                    ],
                    [
                      "AAP",
                      "GURPAL SINGH"
                    ],
                    [
                      "NOTA",
                      "NOTA"
                    ],
                    [
                      "IND",
                      "NEETU"
                    ],
                    [
                      "Other",
                      "SEEMA DEVI"
                    ],
                    [
                      "IND",
                      "DHARAMPAL"
                    ],
                    [
                      "BJP",
                      "ANIL VIJ"
                    ],
                    [
                      "IND",
                      "CHITRA SARWARA"
                    ],
                    [
                      "INC",
                      "PARVINDER PAL PARI"
                    ],
                    [
                      "INLD",
                      "ONKAR SINGH"
                    ],
                    [
                      "JJP",
                      "AVTAR SINGH"
                    ],
                    [
                      "IND",
                      "DHARMESH SOOD RINKU"
                    ],
                    [
                      "NOTA",
                      "NOTA"
                    ],
                    [
                      "AAP",
                      "RAJ KAUR GILL"
                    ],
                    [
                      "Other",
                      "NAVEEN KUMAR"
                    ],
                    [
                      "IND",
                      "NAVEEN BIDLA"
                    ],
                    [
                      "IND",
                      "JASWINDER GOLU"
                    ],
                    [
                      "IND",
                      "SUNIL VERMA"
                    ],
                    [
                      "INC",
                      "NIRMAL SINGH MOHRA"
                    ],
                    [
                      "BJP",
                      "ASEEM GOEL NANEOLA"
                    ],
                    [
                      "ASP(KR)",
                      "PARUL NAGPAL UDAIPURIA"
                    ],
                    [
                      "AAP",
                      "KETAN SHARMA"
                    ],
                    [
                      "NOTA",
                      "NOTA"
                    ],
                    [
                      "BSP",
                      "MALKIT SINGH BHANOKHERI"
                    ],
                    [
                      "IND",
                      "SATNAM SINGH"
                    ],
                    [
                      "IND",
                      "BHUPINDER"
                    ],
                    [
                      "IND",
                      "SUNIL DUTT"
                    ],
                    [
                      "IND",
                      "MAYUR NANDA"
                    ],
                    [
                      "IND",
                      "SACHIN KUMAR"
                    ],
                    [
                      "IND",
                      "LALIT WALIA"
                    ],
                    [
                      "INC",
                      "POOJA"
                    ],
                    [
                      "BJP",
                      "SANTOSH CHAUHAN SARWAN"
                    ],
                    [
                      "INLD",
                      "PRAKASH BHARTI"
                    ],
                    [
                      "JJP",
                      "DR RAVINDER DHEEN"
                    ],
                    [
                      "IND",
                      "DALIP SINGH"
                    ],
                    [
                      "AAP",
                      "GURTEJ SINGH"
                    ],
                    [
                      "IND",
                      "AJAIB SINGH SODHI"
                    ],
                    [
                      "Other",
                      "PRITAM SINGH"
                    ],
                    [
                      "NOTA",
                      "NOTA"
                    ],
                    [
                      "IND",
                      "HAVELI RAM"
                    ],
                    [
                      "IND",
                      "HARKESH KUMAR"
                    ],
                    [
                      "INC",
                      "RENU BALA"
                    ],
                    [
                      "BJP",
                      "BALWANT SINGH"
                    ],
                    [
                      "BSP",
                      "BRIJ PAL"
                    ],
                    [
                      "ASP(KR)",
                      "SOHIL"
                    ],
                    [
                      "AAP",
                      "RITA RANI"
                    ],
                    [
                      "NOTA",
                      "NOTA"
                    ],
                    [
                      "IND",
                      "BETA MAMCHAND RATTU"
                    ],
                    [
                      "Other",
                      "JAI PAL"
                    ],
                    [
                      "Other",
                      "JASBIR SINGH"
                    ],
                    [
                      "IND",
                      "POOJA NAGRA"
                    ],
                    [
                      "INC",
                      "AKRAM KHAN"
                    ],
                    [
                      "BJP",
                      "KANWAR PAL"
                    ],
                    [
                      "AAP",
                      "ADARSH PAL SINGH"
                    ],
                    [
                      "BSP",
                      "DARSHAN LAL"
                    ],
                    [
                      "ASP(KR)",
                      "ASHOK KUMAR"
                    ],
                    [
                      "NOTA",
                      "NOTA"
                    ],
                    [
                      "IND",
                      "YOGESH SETHI (YOGI)"
                    ],
                    [
                      "Other",
                      "DR. NITESH CHOPRA (HONEY)"
                    ],
                    [
                      "IND",
                      "YAJUVINDER SINGH"
                    ],
                    [
                      "IND",
                      "ADITYA KUMAR SHASTRI"
                    ],
                    [
                      "Other",
                      "SONI"
                    ],
                    [
                      "IND",
                      "GURDEV SINGH"
                    ],
                    [
                      "BJP",
                      "GHANSHYAM DASS"
                    ],
                    [
                      "INC",
                      "RAMAN TYAGI"
                    ],
                    [
                      "INLD",
                      "DILBAG SINGH"
                    ],
                    [
                      "AAP",
                      "LALIT KUMAR TYAGI"
                    ],
                    [
                      "NOTA",
                      "NOTA"
                    ],
                    [
                      "JJP",
                      "INTZAR ALI"
                    ],
                    [
                      "IND",
                      "KAPIL"
                    ],
                    [
                      "PPI(D)",
                      "MANGA RAM"
                    ],
                    [
                      "Other",
                      "NIRMALJEET KAUR"
                    ],
                    [
                      "IND",
                      "SUKHWINDER"
                    ],
                    [
                      "Other",
                      "KANCHAN SHARMA"
                    ],
                    [
                      "BJP",
                      "SHYAM SINGH RANA"
                    ],
                    [
                      "INC",
                      "DR. BISHAN LAL SAINI"
                    ],
                    [
                      "BSP",
                      "DHARAMPAL TIGRA"
                    ],
                    [
                      "AAP",
                      "BHIM SINGH RATHI"
                    ],
                    [
                      "ASP(KR)",
                      "MANDEEP TOPRA"
                    ],
                    [
                      "Other",
                      "DIWAN CHAND KAMBOJ"
                    ],
                    [
                      "NOTA",
                      "NOTA"
                    ],
                    [
                      "IND",
                      "JAI PARKASH SHARMA"
                    ],
                    [
                      "Other",
                      "DAYANAND"
                    ],
                    [
                      "IND",
                      "ANIL KUMAR BATTA"
                    ],
                    [
                      "IND",
                      "ASHOK KUMAR"
                    ],
                    [
                      "BJP",
                      "NAYAB SINGH"
                    ],
                    [
                      "INC",
                      "MEWA SINGH"
                    ],
                    [
                      "IND",
                      "VIKRAMJEET SINGH CHEEMA"
                    ],
                    [
                      "INLD",
                      "SAPNA BARSHAMI"
                    ],
                    [
                      "IND",
                      "SANDEEP GARG LADWA"
                    ],
                    [
                      "AAP",
                      "JOGA SINGH UMRI"
                    ],
                    [
                      "IND",
                      "KASHYAP RAM CHANDER"
                    ],
                    [
                      "IND",
                      "ASHOK SAINI HAMID PUR"
                    ],
                    [
                      "IND",
                      "BHAJAN SINGH"
                    ],
                    [
                      "NOTA",
                      "NOTA"
                    ],
                    [
                      "JJP",
                      "VINOD KUMAR SHARMA"
                    ],
                    [
                      "Other",
                      "VIKRAM SINGH SAINI"
                    ],
                    [
                      "PPI(D)",
                      "MAN SINGH BAPDA"
                    ],
                    [
                      "IND",
                      "RAJKUMAR"
                    ],
                    [
                      "Other",
                      "SATISH KUMAR"
                    ],
                    [
                      "Other",
                      "SUBHASH SAINI"
                    ],
                    [
                      "IND",
                      "PARVEEN KUMAR"
                    ],
                    [
                      "INC",
                      "RAM KARAN"
                    ],
                    [
                      "BJP",
                      "SUBHASH CHAND"
                    ],
                    [
                      "BSP",
                      "CHANDER BHAN CHAUHAN"
                    ],
                    [
                      "Other",
                      "KANTA AALLDIA"
                    ],
                    [
                      "AAP",
                      "ASHA RANI"
                    ],
                    [
                      "NOTA",
                      "NOTA"
                    ],
                    [
                      "JJP",
                      "RAJEETA SINGH"
                    ],
                    [
                      "IND",
                      "PAWAN KUMAR"
                    ],
                    [
                      "IND",
                      "RAJESH KANIPLA"
                    ],
                    [
                      "IND",
                      "SHIV NATH"
                    ],
                    [
                      "INC",
                      "ASHOK KUMAR ARORA"
                    ],
                    [
                      "BJP",
                      "SUBHASH SUDHA"
                    ],
                    [
                      "AAP",
                      "KRISHAN BAJAJ"
                    ],
                    [
                      "BSP",
                      "TANUJA"
                    ],
                    [
                      "NOTA",
                      "NOTA"
                    ],
                    [
                      "JJP",
                      "SURYA PARTAP SINGH RATHORE"
                    ],
                    [
                      "IND",
                      "ABHISHEK PUNIA"
                    ],
                    [
                      "Other",
                      "JAIVEER SINGH RANGA"
                    ],
                    [
                      "IND",
                      "MEHAR"
                    ],
                    [
                      "IND",
                      "ASHOK KUMAR"
                    ],
                    [
                      "INC",
                      "MANDEEP CHATHA"
                    ],
                    [
                      "BJP",
                      "JAI BHAGWAN SHARMA (DD)"
                    ],
                    [
                      "INLD",
                      "BALDEV SINGH WARAICH"
                    ],
                    [
                      "JJP",
                      "DR. SUKHWINDER KAUR"
                    ],
                    [
                      "Other",
                      "GURNAM SINGH"
                    ],
                    [
                      "AAP",
                      "GEHAL SINGH SANDHU"
                    ],
                    [
                      "IND",
                      "RAJAT SHARMA ISMAILABAD"
                    ],
                    [
                      "NOTA",
                      "NOTA"
                    ],
                    [
                      "IND",
                      "SHYAM LAL GUMTHALA GARHU"
                    ],
                    [
                      "Other",
                      "KULDEEP SINGH"
                    ],
                    [
                      "INC",
                      "DEVENDER HANS"
                    ],
                    [
                      "BJP",
                      "KULWANT RAM BAZIGAR"
                    ],
                    [
                      "IND",
                      "NARESH KUMAR"
                    ],
                    [
                      "JJP",
                      "KRISHAN KUMAR"
                    ],
                    [
                      "AAP",
                      "RAKESH KUMAR"
                    ],
                    [
                      "INLD",
                      "POONAM RANI"
                    ],
                    [
                      "IND",
                      "AMARJEET SINGH"
                    ],
                    [
                      "NOTA",
                      "NOTA"
                    ],
                    [
                      "Other",
                      "BHUPINDER SINGH"
                    ],
                    [
                      "Other",
                      "MANOJ KUMAR"
                    ],
                    [
                      "INC",
                      "VIKAS SAHARAN"
                    ],
                    [
                      "BJP",
                      "KAMLESH DHANDA"
                    ],
                    [
                      "IND",
                      "ANITA DHULL BADSIKRI"
                    ],
                    [
                      "INLD",
                      "RAMPAL MAJRA"
                    ],
                    [
                      "IND",
                      "VINOD NIRMAL"
                    ],
                    [
                      "IND",
                      "SATVINDER SINGH RANA"
                    ],
                    [
                      "AAP",
                      "ANURAG DHANDA"
                    ],
                    [
                      "IND",
                      "ASHISH RASILA"
                    ],
                    [
                      "JJP",
                      "PRITAM KOLEKHAN"
                    ],
                    [
                      "NOTA",
                      "NOTA"
                    ],
                    [
                      "IND",
                      "SANDEEP KOTRA ADVOCATE"
                    ],
                    [
                      "IND",
                      "RAJESH KUMAR"
                    ],
                    [
                      "IND",
                      "SALINDER KUMAR"
                    ],
                    [
                      "IND",
                      "JITENDER SINGH URF DHOLA"
                    ],
                    [
                      "IND",
                      "RAJENDER KUMAR"
                    ],
                    [
                      "INC",
                      "ADITYA SURJEWALA"
                    ],
                    [
                      "BJP",
                      "LEELA RAM"
                    ],
                    [
                      "BSP",
                      "ANIL TANWER"
                    ],
                    [
                      "JJP",
                      "SANDEEP GARHI"
                    ],
                    [
                      "AAP",
                      "SATBIR SINGH GOYAT"
                    ],
                    [
                      "NOTA",
                      "NOTA"
                    ],
                    [
                      "IND",
                      "FOUJI SURESH KUMAR"
                    ],
                    [
                      "IND",
                      "PATASHO DEVI"
                    ],
                    [
                      "IND",
                      "SATISH KUMAR"
                    ],
                    [
                      "IND",
                      "ASHWINI SHARMA HRITTWAL"
                    ],
                    [
                      "IND",
                      "BALRAJ SINGH"
                    ],
                    [
                      "IND",
                      "DR. MAHESH CHAND GAUR"
                    ],
                    [
                      "IND",
                      "CHAND KALYAN"
                    ],
                    [
                      "BJP",
                      "SATPAL JAMBA"
                    ],
                    [
                      "IND",
                      "SATBIR BHANA"
                    ],
                    [
                      "INC",
                      "SULTAN JADAULA"
                    ],
                    [
                      "IND",
                      "GURINDER SINGH HABRI"
                    ],
                    [
                      "IND",
                      "SAJJAN SINGH DHULL"
                    ],
                    [
                      "BSP",
                      "HISAM SINGH BHUKKAL"
                    ],
                    [
                      "IND",
                      "DINESH KAUSHIK"
                    ],
                    [
                      "AAP",
                      "NARENDER SHARMA"
                    ],
                    [
                      "IND",
                      "HARIPAL PAHALWAN"
                    ],
                    [
                      "IND",
                      "NARESH KUMAR PHARAL"
                    ],
                    [
                      "IND",
                      "ADVOCATE RAKESH SHARMA"
                    ],
                    [
                      "IND",
                      "PARMOD CHUHARMAJRA"
                    ],
                    [
                      "Other",
                      "BABU RAM"
                    ],
                    [
                      "NOTA",
                      "NOTA"
                    ],
                    [
                      "IND",
                      "AMIT KUMAR"
                    ],
                    [
                      "IND",
                      "DILBAG BHANA"
                    ],
                    [
                      "IND",
                      "SUNITA BATTAN"
                    ],
                    [
                      "PPI(D)",
                      "ENGINEER SURESH KUMAR"
                    ],
                    [
                      "IND",
                      "RANDHIR SINGH GOLLEN"
                    ],
                    [
                      "BJP",
                      "BHAGWAN DASS"
                    ],
                    [
                      "INC",
                      "DHARAM PAL"
                    ],
                    [
                      "IND",
                      "RAJ KUMAR"
                    ],
                    [
                      "INLD",
                      "BALWAN SINGH"
                    ],
                    [
                      "Other",
                      "GAURAV BAKHSHI"
                    ],
                    [
                      "AAP",
                      "AMAR SINGH"
                    ],
                    [
                      "IND",
                      "VED PARKASH"
                    ],
                    [
                      "ASP(KR)",
                      "KARAM SINGH"
                    ],
                    [
                      "NOTA",
                      "NOTA"
                    ],
                    [
                      "IND",
                      "DYAL SINGH"
                    ],
                    [
                      "IND",
                      "SUBHASH CHAND"
                    ],
                    [
                      "IND",
                      "SARITA"
                    ],
                    [
                      "IND",
                      "SUNDARI"
                    ],
                    [
                      "IND",
                      "NAVEEN KUMAR"
                    ],
                    [
                      "IND",
                      "RAJIV KUMAR"
                    ],
                    [
                      "Other",
                      "DEEPAK KUMAR"
                    ],
                    [
                      "BJP",
                      "RAM KUMAR KASHYAP"
                    ],
                    [
                      "INC",
                      "RAKESH KAMBOJ"
                    ],
                    [
                      "BSP",
                      "SURENDER UDANA"
                    ],
                    [
                      "AAP",
                      "HAWA SINGH"
                    ],
                    [
                      "JJP",
                      "KULDEEP SINGH MANDHAN"
                    ],
                    [
                      "NOTA",
                      "NOTA"
                    ],
                    [
                      "Other",
                      "SANJAY KUMAR"
                    ],
                    [
                      "BJP",
                      "JAGMOHAN ANAND"
                    ],
                    [
                      "INC",
                      "SUMITA VIRK"
                    ],
                    [
                      "AAP",
                      "SUNIL BINDAL"
                    ],
                    [
                      "INLD",
                      "SURJEET SINGH"
                    ],
                    [
                      "NOTA",
                      "NOTA"
                    ],
                    [
                      "JJP",
                      "JETENDER ROYAL"
                    ],
                    [
                      "IND",
                      "KAMAL"
                    ],
                    [
                      "IND",
                      "VARINDER KUMAR CHAWLA"
                    ],
                    [
                      "IND",
                      "NEERU BALA SAINI"
                    ],
                    [
                      "Other",
                      "ADVOCATE PARDEEP SAINI"
                    ],
                    [
                      "Other",
                      "HARDEEP SINGH"
                    ],
                    [
                      "IND",
                      "DHARMENDER"
                    ],
                    [
                      "IND",
                      "YASH DEV GOYAL"
                    ],
                    [
                      "BJP",
                      "HARVINDER KALYAN"
                    ],
                    [
                      "INC",
                      "VARINDER SINGH RATHORE"
                    ],
                    [
                      "INLD",
                      "KRISHAN SINGH ALIAS MANNU KASHYAP"
                    ],
                    [
                      "AAP",
                      "JAIPAL SHARMA"
                    ],
                    [
                      "Other",
                      "VICKY"
                    ],
                    [
                      "JJP",
                      "RAJPAL"
                    ],
                    [
                      "NOTA",
                      "NOTA"
                    ],
                    [
                      "IND",
                      "PARDEEP KASHYAP UPLI"
                    ],
                    [
                      "IND",
                      "BHUPINDER SINGH"
                    ],
                    [
                      "BJP",
                      "YOGINDER SINGH RANA"
                    ],
                    [
                      "INC",
                      "SHAMSHER SINGH GOGI"
                    ],
                    [
                      "BSP",
                      "GOPAL SINGH"
                    ],
                    [
                      "IND",
                      "ZILE RAM SHARMA"
                    ],
                    [
                      "AAP",
                      "AMANDEEP SINGH JUNDLA"
                    ],
                    [
                      "Other",
                      "MARATHA VIRENDER VERMA"
                    ],
                    [
                      "IND",
                      "REKHA"
                    ],
                    [
                      "IND",
                      "ADVOCATE SONIYA BOHAT"
                    ],
                    [
                      "IND",
                      "JAIPAL PUNIA"
                    ],
                    [
                      "Other",
                      "PREM CHAND"
                    ],
                    [
                      "Other",
                      "HARJEET SINGH"
                    ],
                    [
                      "NOTA",
                      "NOTA"
                    ],
                    [
                      "IND",
                      "RAMPHAL"
                    ],
                    [
                      "IND",
                      "BALJIT SINGH"
                    ],
                    [
                      "IND",
                      "PARDEEP"
                    ],
                    [
                      "BJP",
                      "MAHIPAL DHANDA"
                    ],
                    [
                      "INC",
                      "SACHIN KUNDU"
                    ],
                    [
                      "IND",
                      "VIJAY JAIN"
                    ],
                    [
                      "AAP",
                      "SUKHVIR MALIK"
                    ],
                    [
                      "BSP",
                      "RANBIR SINGH"
                    ],
                    [
                      "NOTA",
                      "NOTA"
                    ],
                    [
                      "Other",
                      "AMIT MAURYA"
                    ],
                    [
                      "JJP",
                      "RAGHUNATH TANWAR KASHYAP"
                    ],
                    [
                      "IND",
                      "RAMESH SINGLA"
                    ],
                    [
                      "IND",
                      "DEVENDER"
                    ],
                    [
                      "IND",
                      "MASTER KULDEEP REDHU"
                    ],
                    [
                      "IND",
                      "DIPTI"
                    ],
                    [
                      "BJP",
                      "PARMOD KUMAR VIJ"
                    ],
                    [
                      "INC",
                      "VARINDER KUMAR SHAH"
                    ],
                    [
                      "IND",
                      "ROHITA REWRI"
                    ],
                    [
                      "AAP",
                      "RITU ARORA"
                    ],
                    [
                      "NOTA",
                      "NOTA"
                    ],
                    [
                      "BSP",
                      "SAROJ BALA GUR"
                    ],
                    [
                      "IND",
                      "DILBAG SINGH KRANTIKARI"
                    ],
                    [
                      "IND",
                      "CA JAGDISH DHAMIJA"
                    ],
                    [
                      "IND",
                      "SAWAMI AGNIVESH"
                    ],
                    [
                      "IND",
                      "HIMANSHU SHARMA"
                    ],
                    [
                      "IND",
                      "RAMESH KUMAR CHAUDHARY"
                    ],
                    [
                      "Other",
                      "BHATERI DEVI"
                    ],
                    [
                      "BJP",
                      "KRISHAN LAL PANWAR"
                    ],
                    [
                      "INC",
                      "BALBIR SINGH BALMIKI"
                    ],
                    [
                      "IND",
                      "RAKESH SAROHA"
                    ],
                    [
                      "IND",
                      "SATYAWAN SHERA"
                    ],
                    [
                      "INLD",
                      "SURAJBHAN"
                    ],
                    [
                      "AAP",
                      "AMIT KUMAR"
                    ],
                    [
                      "JJP",
                      "SUNIL KUMAR"
                    ],
                    [
                      "NOTA",
                      "NOTA"
                    ],
                    [
                      "BJP",
                      "MANMOHAN BHADANA"
                    ],
                    [
                      "INC",
                      "DHARAM SINGH CHHOKER"
                    ],
                    [
                      "IND",
                      "RAVINDER MACHHRAULI"
                    ],
                    [
                      "INLD",
                      "RAJESH"
                    ],
                    [
                      "AAP",
                      "JAIKANWAR ALIAS BITTU PAHALWAN"
                    ],
                    [
                      "JJP",
                      "GANGARAM SWAMI"
                    ],
                    [
                      "NOTA",
                      "NOTA"
                    ],
                    [
                      "IND",
                      "SATISH KUMAR"
                    ],
                    [
                      "IND",
                      "DEVENDER KADYAN"
                    ],
                    [
                      "INC",
                      "KULDIP SHARMA"
                    ],
                    [
                      "BJP",
                      "DEVENDER KAUSHIK"
                    ],
                    [
                      "IND",
                      "KAVITA SHARMA"
                    ],
                    [
                      "BSP",
                      "NAR SINGH"
                    ],
                    [
                      "JJP",
                      "ANIL KUMAR TYAGI"
                    ],
                    [
                      "IND",
                      "TAKDEER"
                    ],
                    [
                      "IND",
                      "RAM KUMAR"
                    ],
                    [
                      "NOTA",
                      "NOTA"
                    ],
                    [
                      "AAP",
                      "SAROJ BALA"
                    ],
                    [
                      "IND",
                      "RAM MEHAR SINGH"
                    ],
                    [
                      "IND",
                      "ANKUR KAUSHIK"
                    ],
                    [
                      "BJP",
                      "KRISHNA GAHLAWAT"
                    ],
                    [
                      "INC",
                      "JAI BHAGWAN ANTIL"
                    ],
                    [
                      "IND",
                      "PRATEEK RAJKUMAR SHARMA"
                    ],
                    [
                      "INLD",
                      "PARMOD DAHIYA"
                    ],
                    [
                      "IND",
                      "RAHUL KIRORIWAL"
                    ],
                    [
                      "NOTA",
                      "NOTA"
                    ],
                    [
                      "IND",
                      "SITENDER"
                    ],
                    [
                      "JJP",
                      "BIJENDER"
                    ],
                    [
                      "AAP",
                      "RAJESH SAROHA"
                    ],
                    [
                      "Other",
                      "DEVENDER SINGH"
                    ],
                    [
                      "Other",
                      "SANT DHARAMVEER CHOTIVALA"
                    ],
                    [
                      "IND",
                      "SANDEEP KUMAR"
                    ],
                    [
                      "IND",
                      "BIJENDER KUMAR"
                    ],
                    [
                      "Other",
                      "MUKESH TAPSI"
                    ],
                    [
                      "IND",
                      "RAJESH KUMAR"
                    ],
                    [
                      "BJP",
                      "PAWAN KHARKHODA"
                    ],
                    [
                      "INC",
                      "JAIVEER SINGH"
                    ],
                    [
                      "INLD",
                      "PRITAM KHOKAR"
                    ],
                    [
                      "AAP",
                      "MANJEET FARMANA"
                    ],
                    [
                      "NOTA",
                      "NOTA"
                    ],
                    [
                      "JJP",
                      "RAMESH KHATAK"
                    ],
                    [
                      "Other",
                      "DR. PARVEEN KHARKHODA"
                    ],
                    [
                      "IND",
                      "M. GAJE SINGH ADVOCATE"
                    ],
                    [
                      "IND",
                      "SATNARAYAN"
                    ],
                    [
                      "Other",
                      "AMAR SINGH BALMIKI"
                    ],
                    [
                      "PPI(D)",
                      "RADHEY SHYAM"
                    ],
                    [
                      "BJP",
                      "NIKHIL MADAAN"
                    ],
                    [
                      "INC",
                      "SURENDER PANWAR"
                    ],
                    [
                      "AAP",
                      "DEVINDER GAUTAM"
                    ],
                    [
                      "INLD",
                      "SARDHARAM SINGH"
                    ],
                    [
                      "CPI",
                      "RAJIV VERMA"
                    ],
                    [
                      "NOTA",
                      "NOTA"
                    ],
                    [
                      "Other",
                      "ISHWAR SINGH RATHEE"
                    ],
                    [
                      "ASP(KR)",
                      "RAJESH"
                    ],
                    [
                      "IND",
                      "RAMESH KHATRI LAMBERDAR"
                    ],
                    [
                      "IND",
                      "DR. KAMLESH KUMAR SAINI"
                    ],
                    [
                      "Other",
                      "SUSHIL KUMAR MANAV"
                    ],
                    [
                      "Other",
                      "PAWAN SANATANI"
                    ],
                    [
                      "IND",
                      "DHARAMBIR FOJI"
                    ],
                    [
                      "BJP",
                      "ARVIND KUMAR SHARMA"
                    ],
                    [
                      "INC",
                      "JAGBIR SINGH MALIK"
                    ],
                    [
                      "IND",
                      "HARSH CHHIKARA"
                    ],
                    [
                      "IND",
                      "RAJVIR SINGH DAHIYA"
                    ],
                    [
                      "AAP",
                      "SHIV KUMAR RANGEELA"
                    ],
                    [
                      "BSP",
                      "DINESH KUMAR"
                    ],
                    [
                      "JJP",
                      "KULDEEP MALIK"
                    ],
                    [
                      "NOTA",
                      "NOTA"
                    ],
                    [
                      "IND",
                      "ARVIND"
                    ],
                    [
                      "IND",
                      "ARUN NINANIYA"
                    ],
                    [
                      "IND",
                      "SUNNY"
                    ],
                    [
                      "IND",
                      "RAJBIR"
                    ],
                    [
                      "INC",
                      "INDURAJ SINGH NARWAL"
                    ],
                    [
                      "IND",
                      "KAPOOR SINGH NARWAL"
                    ],
                    [
                      "BJP",
                      "PARDEEP SINGH SANGWAN"
                    ],
                    [
                      "BSP",
                      "DHARAM VIR"
                    ],
                    [
                      "AAP",
                      "SANDEEP MALIK"
                    ],
                    [
                      "JJP",
                      "DEEPAK MALIK"
                    ],
                    [
                      "NOTA",
                      "NOTA"
                    ],
                    [
                      "IND",
                      "DEVENDER KUMAR ALIAS NITU MOR"
                    ],
                    [
                      "INC",
                      "VINESH"
                    ],
                    [
                      "BJP",
                      "YOGESH KUMAR"
                    ],
                    [
                      "INLD",
                      "SURENDER LATHER"
                    ],
                    [
                      "JJP",
                      "AMARJEET DHANDA"
                    ],
                    [
                      "AAP",
                      "KAVITA RANI"
                    ],
                    [
                      "NOTA",
                      "NOTA"
                    ],
                    [
                      "IND",
                      "BIJENDER KUMAR"
                    ],
                    [
                      "IND",
                      "PREM"
                    ],
                    [
                      "IND",
                      "COACH JASVIR SINGH AHLAWAT"
                    ],
                    [
                      "IND",
                      "AMIT SHARMA"
                    ],
                    [
                      "IND",
                      "RAMRATTAN"
                    ],
                    [
                      "Other",
                      "JOGI SUNIL"
                    ],
                    [
                      "IND",
                      "INDERJEET"
                    ],
                    [
                      "BJP",
                      "RAM KUMAR GAUTAM"
                    ],
                    [
                      "INC",
                      "SUBHASH GANGOLI"
                    ],
                    [
                      "IND",
                      "JASBIR DESWAL"
                    ],
                    [
                      "IND",
                      "BACHAN SINGH ARYA"
                    ],
                    [
                      "BSP",
                      "PINKI KUNDU"
                    ],
                    [
                      "JJP",
                      "SUSHIL BAIRAGI"
                    ],
                    [
                      "IND",
                      "VIPUL"
                    ],
                    [
                      "Other",
                      "ADVOCATE RINKU MUANA"
                    ],
                    [
                      "IND",
                      "GURMEET"
                    ],
                    [
                      "IND",
                      "VIJAY PAL"
                    ],
                    [
                      "AAP",
                      "NISHA DESWAL"
                    ],
                    [
                      "IND",
                      "AJIT KUMAR"
                    ],
                    [
                      "NOTA",
                      "NOTA"
                    ],
                    [
                      "IND",
                      "SUYAG"
                    ],
                    [
                      "RRP",
                      "RAKESH KUMAR"
                    ],
                    [
                      "IND",
                      "SUBHASH SAINI"
                    ],
                    [
                      "IND",
                      "MONU LOHAN"
                    ],
                    [
                      "IND",
                      "SUSHIL KUMAR"
                    ],
                    [
                      "BJP",
                      "DR KRISHAN LAL MIDDHA"
                    ],
                    [
                      "INC",
                      "MAHAVIR GUPTA"
                    ],
                    [
                      "IND",
                      "PRADEEP SINGH"
                    ],
                    [
                      "AAP",
                      "WAZIR DHANDA"
                    ],
                    [
                      "INLD",
                      "NARENDER NATH SHARMA"
                    ],
                    [
                      "JJP",
                      "DHARAM PAL TANWAR"
                    ],
                    [
                      "NOTA",
                      "NOTA"
                    ],
                    [
                      "IND",
                      "RITU RAJ BAMNIYA"
                    ],
                    [
                      "IND",
                      "RITESH SANGWAN SANGU"
                    ],
                    [
                      "IND",
                      "VED PARKASH"
                    ],
                    [
                      "IND",
                      "ANKIT KUMAR"
                    ],
                    [
                      "IND",
                      "RAM PARKASH TAYAL"
                    ],
                    [
                      "IND",
                      "VIKAS"
                    ],
                    [
                      "IND",
                      "SURESH CHAND"
                    ],
                    [
                      "BJP",
                      "DEVENDER CHATAR BHUJ ATTRI"
                    ],
                    [
                      "INC",
                      "BRIJENDRA SINGH"
                    ],
                    [
                      "IND",
                      "VIRENDER GHOGHARIAN"
                    ],
                    [
                      "IND",
                      "VIKAS"
                    ],
                    [
                      "JJP",
                      "DUSHYANT CHAUTALA"
                    ],
                    [
                      "IND",
                      "DILBAG SANDIL"
                    ],
                    [
                      "INLD",
                      "VINOD PAL SINGH DULGANCH"
                    ],
                    [
                      "AAP",
                      "PAWAN FAUJI"
                    ],
                    [
                      "IND",
                      "BIJENDER"
                    ],
                    [
                      "Other",
                      "AMARJEET SINGH"
                    ],
                    [
                      "IND",
                      "ISHWAR KHATKAR FOUJI"
                    ],
                    [
                      "IND",
                      "DEVENDER"
                    ],
                    [
                      "IND",
                      "COMRADE PAL SINGH"
                    ],
                    [
                      "IND",
                      "BIJENDER SINGH"
                    ],
                    [
                      "Other",
                      "MASTER AJIT ARYA"
                    ],
                    [
                      "IND",
                      "DEVENDER SHEORAN"
                    ],
                    [
                      "NOTA",
                      "NOTA"
                    ],
                    [
                      "IND",
                      "VIRENDER PAL"
                    ],
                    [
                      "IND",
                      "JOGIENDER"
                    ],
                    [
                      "IND",
                      "COMRADE RAMESH KHATKAR"
                    ],
                    [
                      "IND",
                      "GURMAIL SINGH"
                    ],
                    [
                      "BJP",
                      "KRISHAN KUMAR"
                    ],
                    [
                      "INC",
                      "SATBIR DABLAIN"
                    ],
                    [
                      "INLD",
                      "VIDYA RANI DANODA"
                    ],
                    [
                      "AAP",
                      "ANIL RANGA"
                    ],
                    [
                      "JJP",
                      "SANTOSH DANODA"
                    ],
                    [
                      "CPI",
                      "MANIRAM"
                    ],
                    [
                      "IND",
                      "GURMAIL"
                    ],
                    [
                      "NOTA",
                      "NOTA"
                    ],
                    [
                      "IND",
                      "COMRADE SATYAVIR SINGH"
                    ],
                    [
                      "AJSP",
                      "RAM LAL KALYAN"
                    ],
                    [
                      "IND",
                      "KITABA"
                    ],
                    [
                      "INC",
                      "PARAMVIR SINGH"
                    ],
                    [
                      "BJP",
                      "DEVENDER SINGH BABLI"
                    ],
                    [
                      "INLD",
                      "KUNAL KARAN SINGH"
                    ],
                    [
                      "AAP",
                      "SUKHVINDER SINGH S/O AVTAR SINGH"
                    ],
                    [
                      "NOTA",
                      "NOTA"
                    ],
                    [
                      "JJP",
                      "HAWA SINGH KHOBRA"
                    ],
                    [
                      "IND",
                      "SUKHVINDER SINGH S/O BALDEV SINGH"
                    ],
                    [
                      "IND",
                      "RAMESHWAR LAL"
                    ],
                    [
                      "IND",
                      "RAY SINGH"
                    ],
                    [
                      "IND",
                      "KARAMBIR"
                    ],
                    [
                      "IND",
                      "NARENDER SIWACH TINU"
                    ],
                    [
                      "IND",
                      "DHARAMPAL SHERE GILL"
                    ],
                    [
                      "IND",
                      "NIKHIL KUMAR"
                    ],
                    [
                      "INC",
                      "BALWAN SINGH DOULATPURIA"
                    ],
                    [
                      "BJP",
                      "DURA RAM"
                    ],
                    [
                      "INLD",
                      "SUNAINA CHAUTALA"
                    ],
                    [
                      "IND",
                      "RAJENDER CHOUDHARY URF KAKA"
                    ],
                    [
                      "JJP",
                      "SUBHASH CHANDER GORCHHIA"
                    ],
                    [
                      "AAP",
                      "KAMAL BISLA"
                    ],
                    [
                      "NOTA",
                      "NOTA"
                    ],
                    [
                      "IND",
                      "VINOD KUMAR"
                    ],
                    [
                      "IND",
                      "SANJAY KUMAR"
                    ],
                    [
                      "IND",
                      "SUDHIR"
                    ],
                    [
                      "Other",
                      "VIKRAM JEET KARWASRA"
                    ],
                    [
                      "IND",
                      "VISHVAMITTR"
                    ],
                    [
                      "IND",
                      "DARBARA SINGH"
                    ],
                    [
                      "PPI(D)",
                      "BANTI BARETH"
                    ],
                    [
                      "IND",
                      "JAIBIR"
                    ],
                    [
                      "IND",
                      "SIMARJEET SINGH"
                    ],
                    [
                      "IND",
                      "RAMAN"
                    ],
                    [
                      "IND",
                      "MANDEEP KUMAR"
                    ],
                    [
                      "IND",
                      "TAHIR HUSAIN"
                    ],
                    [
                      "INC",
                      "JARNAIL SINGH"
                    ],
                    [
                      "BJP",
                      "SUNITA DUGGAL"
                    ],
                    [
                      "INLD",
                      "RAMSARUP RAMA"
                    ],
                    [
                      "AAP",
                      "MUKHTYAR SINGH BAZIGAR"
                    ],
                    [
                      "NOTA",
                      "NOTA"
                    ],
                    [
                      "JJP",
                      "RAMESH"
                    ],
                    [
                      "IND",
                      "TEJPAL"
                    ],
                    [
                      "PPI(D)",
                      "SURJIT SINGH PARDHAN"
                    ],
                    [
                      "IND",
                      "RAJ KUMAR"
                    ],
                    [
                      "IND",
                      "SURENDER KUMAR PHOOLAN"
                    ],
                    [
                      "IND",
                      "RAJBIR"
                    ],
                    [
                      "INC",
                      "SHISHPAL KEHARWALA"
                    ],
                    [
                      "BJP",
                      "RAJINDER SINGH DESUJODHA"
                    ],
                    [
                      "INLD",
                      "GURTEJ SINGH"
                    ],
                    [
                      "AAP",
                      "JASDEV SINGH"
                    ],
                    [
                      "JJP",
                      "GURJANT SINGH"
                    ],
                    [
                      "NOTA",
                      "NOTA"
                    ],
                    [
                      "INLD",
                      "ADITYA DEVILAL"
                    ],
                    [
                      "INC",
                      "AMIT SIHAG"
                    ],
                    [
                      "JJP",
                      "DIGVIJAY SINGH CHAUTALA"
                    ],
                    [
                      "BJP",
                      "BALDEV SINGH MANGIANA"
                    ],
                    [
                      "AAP",
                      "KULDEEP SINGH GADRANA"
                    ],
                    [
                      "NOTA",
                      "NOTA"
                    ],
                    [
                      "IND",
                      "RAJESH KUMAR"
                    ],
                    [
                      "IND",
                      "KHEM CHAND"
                    ],
                    [
                      "IND",
                      "GURVINDER SINGH"
                    ],
                    [
                      "IND",
                      "GULJARI LAL"
                    ],
                    [
                      "PPI(D)",
                      "KULVEER SHAANT INSAN"
                    ],
                    [
                      "Other",
                      "DANA RAM"
                    ],
                    [
                      "IND",
                      "ANKIT KUMAR"
                    ],
                    [
                      "INLD",
                      "ARJUN CHAUTALA"
                    ],
                    [
                      "INC",
                      "SARV MITTER"
                    ],
                    [
                      "IND",
                      "RANJIT SINGH"
                    ],
                    [
                      "BJP",
                      "SHEESHPAL KAMBOJ"
                    ],
                    [
                      "AAP",
                      "HARPINDER SINGH"
                    ],
                    [
                      "IND",
                      "GAGAN DEEP JALANDHRA"
                    ],
                    [
                      "NOTA",
                      "NOTA"
                    ],
                    [
                      "Other",
                      "SANJAY MALIK"
                    ],
                    [
                      "IND",
                      "VIKRAM KHARIAN"
                    ],
                    [
                      "IND",
                      "JOGINDER RAM"
                    ],
                    [
                      "IND",
                      "SATPAL VERMA"
                    ],
                    [
                      "IND",
                      "GOTTAM SAHARAN"
                    ],
                    [
                      "PPI(D)",
                      "DALBIR SINGH"
                    ],
                    [
                      "Other",
                      "LUCKY BALMIKI"
                    ],
                    [
                      "IND",
                      "ARJUN DASS"
                    ],
                    [
                      "INC",
                      "GOKUL SETIA"
                    ],
                    [
                      "Other",
                      "GOPAL KANDA"
                    ],
                    [
                      "JJP",
                      "PAWAN SHERPURA"
                    ],
                    [
                      "IND",
                      "CA DARVESH SWAMI"
                    ],
                    [
                      "NOTA",
                      "NOTA"
                    ],
                    [
                      "AAP",
                      "SHYAM SUNDER"
                    ],
                    [
                      "IND",
                      "BHARAT KUMAR GIRDHAR @ SUNNY SINGH"
                    ],
                    [
                      "IND",
                      "MADAN LAL"
                    ],
                    [
                      "IND",
                      "RAJBEER"
                    ],
                    [
                      "Other",
                      "JAIVEER SINGH"
                    ],
                    [
                      "Other",
                      "MANI RAM"
                    ],
                    [
                      "IND",
                      "YOGESH KANODIA"
                    ],
                    [
                      "Other",
                      "YOGESH ODD"
                    ],
                    [
                      "IND",
                      "OM PARKASH"
                    ],
                    [
                      "INC",
                      "BHARAT SINGH BENIWAL"
                    ],
                    [
                      "INLD",
                      "ABHAY SINGH CHAUTALA"
                    ],
                    [
                      "BJP",
                      "AMIR CHAND TALWARA"
                    ],
                    [
                      "JJP",
                      "ANJANI LADHA"
                    ],
                    [
                      "AAP",
                      "MANISH ARORA"
                    ],
                    [
                      "NOTA",
                      "NOTA"
                    ],
                    [
                      "IND",
                      "VIKRAM INDORA"
                    ],
                    [
                      "Other",
                      "NANAK SINGH"
                    ],
                    [
                      "IND",
                      "SURJEET SINGH"
                    ],
                    [
                      "IND",
                      "BALDEV KUMAR"
                    ],
                    [
                      "Other",
                      "MAYANK GIDRA"
                    ],
                    [
                      "INC",
                      "CHANDER PARKASH S/O ARJUN LAL"
                    ],
                    [
                      "BJP",
                      "BHAVYA BISHNOI"
                    ],
                    [
                      "INLD",
                      "RANDEEP CHOUDARYVAS"
                    ],
                    [
                      "AAP",
                      "BHUPENDER BENIWAL"
                    ],
                    [
                      "JJP",
                      "KRISHAN GANGWA PARJAPATI"
                    ],
                    [
                      "NOTA",
                      "NOTA"
                    ],
                    [
                      "IND",
                      "RAJESH KUMAR"
                    ],
                    [
                      "IND",
                      "RAMPHAL"
                    ],
                    [
                      "IND",
                      "RENU CHAHAL BALSAMAND"
                    ],
                    [
                      "IND",
                      "PARMOD BASWANA"
                    ],
                    [
                      "IND",
                      "CHANDER PARKASH S/O RAJA RAM"
                    ],
                    [
                      "Other",
                      "BALJEET SINGH"
                    ],
                    [
                      "IND",
                      "AMIT"
                    ],
                    [
                      "INC",
                      "NARESH SELWAL"
                    ],
                    [
                      "BJP",
                      "ANOOP DHANAK"
                    ],
                    [
                      "INLD",
                      "BALRAJ SINGH"
                    ],
                    [
                      "AAP",
                      "NARENDER KHANNA"
                    ],
                    [
                      "JJP",
                      "ROHTASH"
                    ],
                    [
                      "NOTA",
                      "NOTA"
                    ],
                    [
                      "Other",
                      "ANIL BITHMARA"
                    ],
                    [
                      "IND",
                      "BIRBAL SINGH"
                    ],
                    [
                      "INC",
                      "JASSI PETWAR"
                    ],
                    [
                      "BJP",
                      "CAPT. ABHIMANYU"
                    ],
                    [
                      "INLD",
                      "UMED SINGH LOHAN"
                    ],
                    [
                      "AAP",
                      "RANBIR SINGH LOHAN"
                    ],
                    [
                      "JJP",
                      "YOGESH GAUTAM"
                    ],
                    [
                      "NOTA",
                      "NOTA"
                    ],
                    [
                      "IND",
                      "DHARAMVIR SAROWA"
                    ],
                    [
                      "IND",
                      "RAVI KUMAR"
                    ],
                    [
                      "IND",
                      "JASSI JASBIR S/O BANI SINGH"
                    ],
                    [
                      "Other",
                      "KRISHAN MAJRA"
                    ],
                    [
                      "IND",
                      "SANDEEP KUMAR"
                    ],
                    [
                      "IND",
                      "AJAY CHAUDHARY"
                    ],
                    [
                      "IND",
                      "JAIBIR ALIAS JAI VIR"
                    ],
                    [
                      "AAPP",
                      "BHAI SATISH MASUDPUR"
                    ],
                    [
                      "IND",
                      "JAIBIR S/O CHANDER BHAN"
                    ],
                    [
                      "BJP",
                      "VINOD BHAYANA"
                    ],
                    [
                      "INC",
                      "RAHUL MAKKAR"
                    ],
                    [
                      "AAP",
                      "RAJENDER SINGH"
                    ],
                    [
                      "BSP",
                      "RAVINDER KUMAR"
                    ],
                    [
                      "JJP",
                      "SHAMSHER SINGH"
                    ],
                    [
                      "NOTA",
                      "NOTA"
                    ],
                    [
                      "IND",
                      "SUMAN KUMAR"
                    ],
                    [
                      "IND",
                      "HARISH VERMA"
                    ],
                    [
                      "IND",
                      "ROHIT"
                    ],
                    [
                      "IND",
                      "AMARJEET"
                    ],
                    [
                      "IND",
                      "KASHMIRI LAL GROVER"
                    ],
                    [
                      "AAPP",
                      "VEERBHAN"
                    ],
                    [
                      "IND",
                      "NAVIN"
                    ],
                    [
                      "IND",
                      "JAI PARKASH"
                    ],
                    [
                      "BJP",
                      "RANBIR GANGWA"
                    ],
                    [
                      "INC",
                      "RAMNIWAS GHORELA"
                    ],
                    [
                      "INLD",
                      "SANJANA SATROAD"
                    ],
                    [
                      "AAP",
                      "PROF. CHHATTAR PAL SINGH"
                    ],
                    [
                      "JJP",
                      "ANANT RAM"
                    ],
                    [
                      "NOTA",
                      "NOTA"
                    ],
                    [
                      "Other",
                      "RAJIV KHATAK"
                    ],
                    [
                      "IND",
                      "RENU DALJEET SINGH"
                    ],
                    [
                      "IND",
                      "BABA DARSHAN GIRI"
                    ],
                    [
                      "IND",
                      "SUMIT BLODA"
                    ],
                    [
                      "IND",
                      "SAVITRI JINDAL"
                    ],
                    [
                      "INC",
                      "RAM NIWAS RARA"
                    ],
                    [
                      "BJP",
                      "DR. KAMAL GUPTA"
                    ],
                    [
                      "IND",
                      "GAUTAM SARDANA"
                    ],
                    [
                      "IND",
                      "AMIT GROVER"
                    ],
                    [
                      "AAP",
                      "SANJAY SATRODIA"
                    ],
                    [
                      "IND",
                      "TARUN JAIN"
                    ],
                    [
                      "IND",
                      "SUNIL BANSAL"
                    ],
                    [
                      "INLD",
                      "SHYAM LAL"
                    ],
                    [
                      "JJP",
                      "RAVINDER RAVI AHUJA"
                    ],
                    [
                      "NOTA",
                      "NOTA"
                    ],
                    [
                      "IND",
                      "RAJENDER"
                    ],
                    [
                      "IND",
                      "ANIL KUMAR S/O JAGDISH CHANDER SHARMA"
                    ],
                    [
                      "IND",
                      "PRASHANT YADAV"
                    ],
                    [
                      "Other",
                      "NAND KISHOR CHAWLA"
                    ],
                    [
                      "IND",
                      "PARVEEN KUMAR"
                    ],
                    [
                      "IND",
                      "ANIL MAHLA"
                    ],
                    [
                      "IND",
                      "ANIL KUMAR S/O CHARANJIT LAL"
                    ],
                    [
                      "IND",
                      "MAHENDER"
                    ],
                    [
                      "IND",
                      "DINESH KUMAR SAINI"
                    ],
                    [
                      "Other",
                      "SUNIL"
                    ],
                    [
                      "IND",
                      "AJAY SAINI"
                    ],
                    [
                      "BJP",
                      "RANDHIR PANIHAR"
                    ],
                    [
                      "INC",
                      "ANIL MAAN"
                    ],
                    [
                      "JJP",
                      "VIRENDER CHAUDHARY"
                    ],
                    [
                      "BSP",
                      "SARWAN KUMAR VERMA"
                    ],
                    [
                      "AAP",
                      "UMESH SHARMA"
                    ],
                    [
                      "NOTA",
                      "NOTA"
                    ],
                    [
                      "IND",
                      "MAHABIR PRASAD"
                    ],
                    [
                      "IND",
                      "RAVINDER MANGALI"
                    ],
                    [
                      "IND",
                      "PARDUMAN JOSHILA"
                    ],
                    [
                      "IND",
                      "JAI PRAKASH"
                    ],
                    [
                      "IND",
                      "RAJENDER SINGH"
                    ],
                    [
                      "IND",
                      "ANIL KUMAR"
                    ],
                    [
                      "Other",
                      "RAJ KUMAR"
                    ],
                    [
                      "IND",
                      "ATAM PARKASH"
                    ],
                    [
                      "INC",
                      "RAJBIR FARTIA"
                    ],
                    [
                      "BJP",
                      "JAI PARKASH DALAL"
                    ],
                    [
                      "INLD",
                      "BHOOP SINGH SHEORAN"
                    ],
                    [
                      "JJP",
                      "ALKA ARYA"
                    ],
                    [
                      "AAP",
                      "GEETA BALA"
                    ],
                    [
                      "IND",
                      "SANDEEP SANJAY BALHARA"
                    ],
                    [
                      "IND",
                      "AMAR SINGH"
                    ],
                    [
                      "NOTA",
                      "NOTA"
                    ],
                    [
                      "IND",
                      "SANJAY"
                    ],
                    [
                      "IND",
                      "RAJBIR S/O MOOLA RAM"
                    ],
                    [
                      "IND",
                      "SAJJAN BHARDWAJ"
                    ],
                    [
                      "IND",
                      "RAJBIR S/O BEGRAJ"
                    ],
                    [
                      "IND",
                      "KRISHAN KUMAR"
                    ],
                    [
                      "IND",
                      "RAJBIR S/O BHARAT SINGH"
                    ],
                    [
                      "BJP",
                      "UMED SINGH"
                    ],
                    [
                      "INC",
                      "SOMVIR SINGH"
                    ],
                    [
                      "IND",
                      "SOMVEER GHASOLA"
                    ],
                    [
                      "INLD",
                      "VIJAY KUMAR"
                    ],
                    [
                      "JJP",
                      "YASHVIR"
                    ],
                    [
                      "AAP",
                      "RAKESH CHANDWAS"
                    ],
                    [
                      "NOTA",
                      "NOTA"
                    ],
                    [
                      "IND",
                      "AJIT"
                    ],
                    [
                      "IND",
                      "SANDEEP"
                    ],
                    [
                      "Other",
                      "MAHENDER JEVALI"
                    ],
                    [
                      "IND",
                      "VIKASH"
                    ],
                    [
                      "IND",
                      "JITENDER SINGH SHEORAIN"
                    ],
                    [
                      "IND",
                      "VIDY NAND"
                    ],
                    [
                      "IND",
                      "DINESH KUMAR"
                    ],
                    [
                      "IND",
                      "CHITAR SINGH"
                    ],
                    [
                      "IND",
                      "ASHOK"
                    ],
                    [
                      "BJP",
                      "SUNIL SATPAL SANGWAN"
                    ],
                    [
                      "INC",
                      "MANISHA SANGWAN"
                    ],
                    [
                      "IND",
                      "SANJAY CHHAPARIA"
                    ],
                    [
                      "IND",
                      "AJIT SINGH"
                    ],
                    [
                      "JJP",
                      "RAJDEEP SINGH"
                    ],
                    [
                      "AAP",
                      "DHAN RAJ SINGH"
                    ],
                    [
                      "BSP",
                      "ANAND SHEORAN"
                    ],
                    [
                      "NOTA",
                      "NOTA"
                    ],
                    [
                      "IND",
                      "NAVEEN YOGI"
                    ],
                    [
                      "IND",
                      "LALIT KUMAR"
                    ],
                    [
                      "Other",
                      "RAJPAL"
                    ],
                    [
                      "IND",
                      "SATENDER SINGH"
                    ],
                    [
                      "IND",
                      "MANJEET"
                    ],
                    [
                      "Other",
                      "VIKRAM SHARMA"
                    ],
                    [
                      "IND",
                      "SUNIL KUMAR"
                    ],
                    [
                      "IND",
                      "ANIL KUMAR"
                    ],
                    [
                      "IND",
                      "ARCHANA"
                    ],
                    [
                      "IND",
                      "HEMANT"
                    ],
                    [
                      "IND",
                      "RAMSHARAN PHOGAT"
                    ],
                    [
                      "BJP",
                      "GHANSHYAM SARAF"
                    ],
                    [
                      "CPI(M)",
                      "OM PRAKASH"
                    ],
                    [
                      "AAP",
                      "INDU"
                    ],
                    [
                      "IND",
                      "ABHIJEET LAL SINGH"
                    ],
                    [
                      "IND",
                      "PRIYA ASIJA"
                    ],
                    [
                      "IND",
                      "RAJEEV"
                    ],
                    [
                      "Other",
                      "PAWAN FOUJI"
                    ],
                    [
                      "INLD",
                      "KARAMBIR YADAV"
                    ],
                    [
                      "Other",
                      "COMRADE RAJ KUMAR"
                    ],
                    [
                      "NOTA",
                      "NOTA"
                    ],
                    [
                      "IND",
                      "SATISH KUMAR"
                    ],
                    [
                      "IND",
                      "RAM KUMAR"
                    ],
                    [
                      "IND",
                      "RAM AVTAR SHARMA"
                    ],
                    [
                      "IND",
                      "DR. PAWAN KUMAR SHARMA"
                    ],
                    [
                      "IND",
                      "MAHABIR BOHRA"
                    ],
                    [
                      "IND",
                      "ANAND KUMAR"
                    ],
                    [
                      "IND",
                      "JOGENDER"
                    ],
                    [
                      "IND",
                      "JAGAT SINGH"
                    ],
                    [
                      "IND",
                      "PANKAJ TAYAL"
                    ],
                    [
                      "BJP",
                      "SHRUTI CHOUDHRY"
                    ],
                    [
                      "INC",
                      "ANIRUDH CHAUDHARY"
                    ],
                    [
                      "IND",
                      "SHASHI RANJAN PARMAR"
                    ],
                    [
                      "JJP",
                      "RAJESH BHARDWAJ"
                    ],
                    [
                      "BSP",
                      "OM SINGH"
                    ],
                    [
                      "AAP",
                      "DALJEET SINGH"
                    ],
                    [
                      "NOTA",
                      "NOTA"
                    ],
                    [
                      "IND",
                      "PUSHPA DEVI"
                    ],
                    [
                      "IND",
                      "RAJNISH KUMAR"
                    ],
                    [
                      "Other",
                      "SUBHASH CHANDER"
                    ],
                    [
                      "Other",
                      "PARDEEP"
                    ],
                    [
                      "PPI(D)",
                      "BABA BALWAN NATH"
                    ],
                    [
                      "IND",
                      "KRISHAN KUMAR"
                    ],
                    [
                      "IND",
                      "BALWAN SINGH"
                    ],
                    [
                      "Other",
                      "VIJENDER SINGH"
                    ],
                    [
                      "IND",
                      "ANIL KUMAR"
                    ],
                    [
                      "BJP",
                      "KAPOOR SINGH"
                    ],
                    [
                      "INC",
                      "PRADEEP NARWAL"
                    ],
                    [
                      "IND",
                      "MASTER SATBIR RATERA"
                    ],
                    [
                      "BSP",
                      "SANDEEP SINGH JANAGAL"
                    ],
                    [
                      "JJP",
                      "GUDDI LANGYAN"
                    ],
                    [
                      "AAP",
                      "DHARAMBIR"
                    ],
                    [
                      "NOTA",
                      "NOTA"
                    ],
                    [
                      "IND",
                      "RAMESH KUMAR"
                    ],
                    [
                      "IND",
                      "RAVITA SATBIR RATERA"
                    ],
                    [
                      "AAPP",
                      "MANJU DHANAK"
                    ],
                    [
                      "Other",
                      "VIKAS"
                    ],
                    [
                      "INC",
                      "BALRAM DANGI"
                    ],
                    [
                      "Other",
                      "BALRAJ KUNDU"
                    ],
                    [
                      "IND",
                      "RADHA AHLAWAT"
                    ],
                    [
                      "BJP",
                      "DEEPAK HOODA"
                    ],
                    [
                      "AAP",
                      "VIKASH NEHRA"
                    ],
                    [
                      "IND",
                      "BALBIR SINGH"
                    ],
                    [
                      "BSP",
                      "HAWA SINGH"
                    ],
                    [
                      "NOTA",
                      "NOTA"
                    ],
                    [
                      "Other",
                      "VISHESH BAMEL"
                    ],
                    [
                      "IND",
                      "MUKESH KUMAR"
                    ],
                    [
                      "IND",
                      "NARESH"
                    ],
                    [
                      "AAPP",
                      "KRISHAN KUMAR"
                    ],
                    [
                      "IND",
                      "MAHENDER SINGH"
                    ],
                    [
                      "IND",
                      "VIKASH"
                    ],
                    [
                      "IND",
                      "JALKARAN BALHARA"
                    ],
                    [
                      "IND",
                      "RANBIR SINGH"
                    ],
                    [
                      "PPI(D)",
                      "KRISHAN"
                    ],
                    [
                      "IND",
                      "NEERAJ"
                    ],
                    [
                      "IND",
                      "KRISHAN"
                    ],
                    [
                      "IND",
                      "DAYA KRISHAN"
                    ],
                    [
                      "INC",
                      "BHUPINDER SINGH HOODA"
                    ],
                    [
                      "BJP",
                      "MANJU"
                    ],
                    [
                      "INLD",
                      "KRISHAN"
                    ],
                    [
                      "AAP",
                      "PARVEEN"
                    ],
                    [
                      "JJP",
                      "SUSHILA DEVI"
                    ],
                    [
                      "NOTA",
                      "NOTA"
                    ],
                    [
                      "IND",
                      "BIJENDER SINGH"
                    ],
                    [
                      "IND",
                      "MUKESH"
                    ],
                    [
                      "IND",
                      "SANJAY"
                    ],
                    [
                      "IND",
                      "AMIT HOODA"
                    ],
                    [
                      "INC",
                      "BHARAT BHUSHAN BATRA"
                    ],
                    [
                      "BJP",
                      "MANISH KUMAR GROVER"
                    ],
                    [
                      "AAP",
                      "BIJENDER HOODA"
                    ],
                    [
                      "NOTA",
                      "NOTA"
                    ],
                    [
                      "INLD",
                      "DILOUR MEHRA"
                    ],
                    [
                      "JJP",
                      "JITENDER BALHARA"
                    ],
                    [
                      "Other",
                      "PARVEEN KUMAR"
                    ],
                    [
                      "Other",
                      "MAHENDER BAGRI"
                    ],
                    [
                      "IND",
                      "BISHAMBER KUMAR"
                    ],
                    [
                      "IND",
                      "BHARAT BHUSHAN"
                    ],
                    [
                      "Other",
                      "MANISHA MOKHRA"
                    ],
                    [
                      "IND",
                      "ASHWANI MALIK"
                    ],
                    [
                      "IND",
                      "YASHPAL"
                    ],
                    [
                      "IND",
                      "ANAND KUMAR"
                    ],
                    [
                      "IND",
                      "NAVDEEP SINGH  RAMAN"
                    ],
                    [
                      "IND",
                      "SURENDER KUMAR"
                    ],
                    [
                      "INC",
                      "SHAKUNTLA KHATAK"
                    ],
                    [
                      "BJP",
                      "RENU DABLA"
                    ],
                    [
                      "IND",
                      "PREM PRADHAN"
                    ],
                    [
                      "BSP",
                      "POONAM NIGANA"
                    ],
                    [
                      "JJP",
                      "MAHENDER SUNDANA"
                    ],
                    [
                      "AAP",
                      "NARESH BAGRI"
                    ],
                    [
                      "NOTA",
                      "NOTA"
                    ],
                    [
                      "IND",
                      "DEEPAK SINGH"
                    ],
                    [
                      "Other",
                      "MANJEET"
                    ],
                    [
                      "IND",
                      "SNEH ARYA"
                    ],
                    [
                      "AAPP",
                      "BABA ISHWAR NATH"
                    ],
                    [
                      "PPI(D)",
                      "OM PARKASH"
                    ],
                    [
                      "IND",
                      "VINOD"
                    ],
                    [
                      "NCP",
                      "RANBIR"
                    ],
                    [
                      "IND",
                      "RAJESH JOON"
                    ],
                    [
                      "BJP",
                      "DINESH KAUSHIK"
                    ],
                    [
                      "INC",
                      "RAJINDER SINGH JOON"
                    ],
                    [
                      "INLD",
                      "SHEELA NAFE SINGH RATHEE"
                    ],
                    [
                      "IND",
                      "RAMESH DALAL"
                    ],
                    [
                      "AAP",
                      "KULDEEP SINGH CHHIKARA"
                    ],
                    [
                      "NOTA",
                      "NOTA"
                    ],
                    [
                      "IND",
                      "RAJESH KUMAR S/O CHATTAR SINGH"
                    ],
                    [
                      "IND",
                      "RAJESH KUMAR S/O RAMDIYA"
                    ],
                    [
                      "IND",
                      "ROHIT KUMAR"
                    ],
                    [
                      "IND",
                      "MAHENDER"
                    ],
                    [
                      "IND",
                      "SUNITA"
                    ],
                    [
                      "IND",
                      "PARVEEN KUMAR"
                    ],
                    [
                      "IND",
                      "ARUN GOYAL"
                    ],
                    [
                      "IND",
                      "CHESTA"
                    ],
                    [
                      "INC",
                      "KULDEEP VATS"
                    ],
                    [
                      "BJP",
                      "OMPRAKASH DHANKAR"
                    ],
                    [
                      "IND",
                      "AJIT GULIA JEETE"
                    ],
                    [
                      "AAP",
                      "HARPAL SINGH"
                    ],
                    [
                      "JJP",
                      "KRISHAN KUMAR"
                    ],
                    [
                      "NOTA",
                      "NOTA"
                    ],
                    [
                      "IND",
                      "SANDEEP"
                    ],
                    [
                      "IND",
                      "AMIT KUMAR"
                    ],
                    [
                      "IND",
                      "VIRENDER SINGH BILU"
                    ],
                    [
                      "IND",
                      "POONAM"
                    ],
                    [
                      "INC",
                      "GEETA BHUKKAL"
                    ],
                    [
                      "BJP",
                      "KAPTAN BIRDHANA"
                    ],
                    [
                      "JJP",
                      "NASEEB SONU"
                    ],
                    [
                      "BSP",
                      "DHARAMBIR SINGH"
                    ],
                    [
                      "AAP",
                      "MAHINDER DAHIYA"
                    ],
                    [
                      "NOTA",
                      "NOTA"
                    ],
                    [
                      "Other",
                      "JAIDEEP"
                    ],
                    [
                      "IND",
                      "SUNIL KUMAR"
                    ],
                    [
                      "IND",
                      "NARENDER SINGH FAUJI"
                    ],
                    [
                      "IND",
                      "RAJAL"
                    ],
                    [
                      "IND",
                      "SATBIR CHUMBAK ADVOCATE"
                    ],
                    [
                      "IND",
                      "SANJAY"
                    ],
                    [
                      "INC",
                      "RAGHUVIR SINGH KADIAN"
                    ],
                    [
                      "BJP",
                      "SANJAY KUMAR"
                    ],
                    [
                      "IND",
                      "AMIT KUMAR"
                    ],
                    [
                      "INLD",
                      "PERMOD"
                    ],
                    [
                      "IND",
                      "INDERJEET SUHAG"
                    ],
                    [
                      "AAP",
                      "SONU"
                    ],
                    [
                      "IND",
                      "GOWARDHAN SINGH"
                    ],
                    [
                      "JJP",
                      "SUNIL"
                    ],
                    [
                      "NOTA",
                      "NOTA"
                    ],
                    [
                      "BJP",
                      "ARTI SINGH RAO"
                    ],
                    [
                      "BSP",
                      "ATTAR LAL"
                    ],
                    [
                      "INC",
                      "ANITA YADAV"
                    ],
                    [
                      "JJP",
                      "AAYUSHI ABHIMANYU RAO"
                    ],
                    [
                      "NOTA",
                      "NOTA"
                    ],
                    [
                      "AAP",
                      "SUNEEL RAO"
                    ],
                    [
                      "Other",
                      "COMRADE OM PARKASH"
                    ],
                    [
                      "IND",
                      "JOGENDER FOUJI"
                    ],
                    [
                      "IND",
                      "SADHNA"
                    ],
                    [
                      "BJP",
                      "KANWAR SINGH"
                    ],
                    [
                      "INC",
                      "RAO DAN SINGH"
                    ],
                    [
                      "IND",
                      "SANDEEP SINGH"
                    ],
                    [
                      "INLD",
                      "SURENDER KAUSHIK"
                    ],
                    [
                      "AAP",
                      "DR. MANISH YADAV"
                    ],
                    [
                      "IND",
                      "BALWAN FAUJI"
                    ],
                    [
                      "IND",
                      "DR. BHUP SINGH YADAV"
                    ],
                    [
                      "Other",
                      "RAKESH SINGH"
                    ],
                    [
                      "ASP(KR)",
                      "SHASHI KUMAR"
                    ],
                    [
                      "NOTA",
                      "NOTA"
                    ],
                    [
                      "IND",
                      "VED PRAKASH"
                    ],
                    [
                      "Other",
                      "VISHNU YADAV"
                    ],
                    [
                      "IND",
                      "PUSHKAR RAJ GUPTA"
                    ],
                    [
                      "IND",
                      "NARENDER KUMAR"
                    ],
                    [
                      "BJP",
                      "OM PRAKASH YADAV"
                    ],
                    [
                      "INC",
                      "RAO NARENDER SINGH"
                    ],
                    [
                      "AAP",
                      "RAVINDER SINGH MATRU"
                    ],
                    [
                      "NOTA",
                      "NOTA"
                    ],
                    [
                      "INLD",
                      "NAR SINGH"
                    ],
                    [
                      "JJP",
                      "SURESH KUMAR SAINI"
                    ],
                    [
                      "IND",
                      "UMAKANT"
                    ],
                    [
                      "IND",
                      "KRISHAN KUMAR"
                    ],
                    [
                      "IND",
                      "KRISHAN KUMAR"
                    ],
                    [
                      "Other",
                      "TEJ PRAKASH"
                    ],
                    [
                      "RRP",
                      "VIKAS"
                    ],
                    [
                      "IND",
                      "SABHARAM"
                    ],
                    [
                      "INC",
                      "MANJU CHOUDHARY"
                    ],
                    [
                      "BJP",
                      "DR. ABHE SINGH YADAV"
                    ],
                    [
                      "JJP",
                      "RAO OM PRAKASH ENGINEER"
                    ],
                    [
                      "NOTA",
                      "NOTA"
                    ],
                    [
                      "Other",
                      "SAGAR CHAUHAN"
                    ],
                    [
                      "IND",
                      "KARTAR SINGH"
                    ],
                    [
                      "BJP",
                      "DR. KRISHAN KUMAR"
                    ],
                    [
                      "INC",
                      "DR. M.L. RANGA"
                    ],
                    [
                      "INLD",
                      "SAMPAT RAM DAHANWAL"
                    ],
                    [
                      "AAP",
                      "JAWAHAR LAL"
                    ],
                    [
                      "NOTA",
                      "NOTA"
                    ],
                    [
                      "IND",
                      "SUNIL KUMAR"
                    ],
                    [
                      "IND",
                      "RAJ NARAYAN"
                    ],
                    [
                      "IND",
                      "MANGAT RAM"
                    ],
                    [
                      "IND",
                      "BALJEET"
                    ],
                    [
                      "Other",
                      "DR. LEKHRAM MEHRA"
                    ],
                    [
                      "IND",
                      "INDER SINGH"
                    ],
                    [
                      "BJP",
                      "ANIL YADAV"
                    ],
                    [
                      "INC",
                      "JAGDISH YADAV"
                    ],
                    [
                      "IND",
                      "MANOJ KOSLIA"
                    ],
                    [
                      "NOTA",
                      "NOTA"
                    ],
                    [
                      "IND",
                      "HARIOM YADAV KOSLIA"
                    ],
                    [
                      "BSP",
                      "RAJ KUMAR"
                    ],
                    [
                      "JJP",
                      "LAVINDER SINGH"
                    ],
                    [
                      "IND",
                      "SANTOSH"
                    ],
                    [
                      "Other",
                      "COMRADE RAMKUMAR NIMOTH"
                    ],
                    [
                      "Other",
                      "SATYAVIR SINGH AMBEDKAR"
                    ],
                    [
                      "IND",
                      "MUKESH KUMAR"
                    ],
                    [
                      "IND",
                      "ARTI RAO"
                    ],
                    [
                      "Other",
                      "TEJPAL YADAV KOSLI"
                    ],
                    [
                      "IND",
                      "KARAMJEET"
                    ],
                    [
                      "IND",
                      "ANIL KUMAR"
                    ],
                    [
                      "RRP",
                      "NAVAL SINGH"
                    ],
                    [
                      "Other",
                      "BHAGIRATH DABLA BOHTWAS"
                    ],
                    [
                      "IND",
                      "INDERJEET"
                    ],
                    [
                      "BJP",
                      "LAXMAN SINGH YADAV"
                    ],
                    [
                      "INC",
                      "CHIRANJEEV RAO"
                    ],
                    [
                      "AAP",
                      "SATISH YADAV"
                    ],
                    [
                      "IND",
                      "PRASHANT SUNNY YADAV"
                    ],
                    [
                      "BSP",
                      "SOMANY VIJAY"
                    ],
                    [
                      "NOTA",
                      "NOTA"
                    ],
                    [
                      "IND",
                      "SHISHUPAL"
                    ],
                    [
                      "IND",
                      "SANJAY SHARMA"
                    ],
                    [
                      "ASP(KR)",
                      "MOKI DEVI"
                    ],
                    [
                      "Other",
                      "RANBIR SINGH"
                    ],
                    [
                      "PPI(D)",
                      "KARTAR SINGH THEKEDAR"
                    ],
                    [
                      "IND",
                      "RAO JITENDER KUMAR"
                    ],
                    [
                      "IND",
                      "OMDUTT YADAV"
                    ],
                    [
                      "BJP",
                      "BIMLA CHAUDHARY"
                    ],
                    [
                      "INC",
                      "PEARL CHOUDHARY"
                    ],
                    [
                      "INLD",
                      "PAWAN KUMAR BHORA"
                    ],
                    [
                      "AAP",
                      "PARDEEP JATAULI"
                    ],
                    [
                      "JJP",
                      "AMARNATH J. E."
                    ],
                    [
                      "NOTA",
                      "NOTA"
                    ],
                    [
                      "IND",
                      "GURDASS"
                    ],
                    [
                      "IND",
                      "SATYAVIR JANAULA"
                    ],
                    [
                      "BJP",
                      "RAO NARBIR SINGH"
                    ],
                    [
                      "INC",
                      "VARDHAN YADAV"
                    ],
                    [
                      "IND",
                      "KUMUDNI RAKESH DAULTABAD"
                    ],
                    [
                      "AAP",
                      "BIR SINGH BIRU SARPANCH"
                    ],
                    [
                      "Other",
                      "COMRADE BALWAN SINGH"
                    ],
                    [
                      "NOTA",
                      "NOTA"
                    ],
                    [
                      "BSP",
                      "JOGINDER SINGH"
                    ],
                    [
                      "JJP",
                      "SURENDER KUMAR"
                    ],
                    [
                      "IND",
                      "RAVINDER YADAV"
                    ],
                    [
                      "IND",
                      "SATISH"
                    ],
                    [
                      "IND",
                      "RAMBHAGAT YADAV"
                    ],
                    [
                      "IND",
                      "VINOD KUMAR"
                    ],
                    [
                      "IND",
                      "RAKESH BHARDWAJ"
                    ],
                    [
                      "Other",
                      "CHANDERPAL"
                    ],
                    [
                      "BJP",
                      "MUKESH SHARMA"
                    ],
                    [
                      "IND",
                      "NAVEEN GOYAL"
                    ],
                    [
                      "INC",
                      "MOHIT GROVER"
                    ],
                    [
                      "AAP",
                      "DR. NISHANT ANAND"
                    ],
                    [
                      "NOTA",
                      "NOTA"
                    ],
                    [
                      "Other",
                      "ANKIT ALAGH JAN SEWAK"
                    ],
                    [
                      "INLD",
                      "GAURAV BHATI"
                    ],
                    [
                      "IND",
                      "NARESH KUMAR BATRA"
                    ],
                    [
                      "IND",
                      "SUNIL"
                    ],
                    [
                      "IND",
                      "MUKESH SHARMA"
                    ],
                    [
                      "IND",
                      "SANJAY LAL"
                    ],
                    [
                      "JJP",
                      "ASHOK JANGRA"
                    ],
                    [
                      "IND",
                      "MAHABIR SINGH"
                    ],
                    [
                      "IND",
                      "NARENDER KUMAR"
                    ],
                    [
                      "IND",
                      "SOHAN LAL SHARMA"
                    ],
                    [
                      "Other",
                      "JAWAHAR LAL"
                    ],
                    [
                      "Other",
                      "RAJESH SHEORAN"
                    ],
                    [
                      "IND",
                      "AKSHAT GAIT"
                    ],
                    [
                      "BJP",
                      "TEJPAL TANWAR"
                    ],
                    [
                      "INC",
                      "ROHTAS SINGH"
                    ],
                    [
                      "IND",
                      "JAVED AHMED"
                    ],
                    [
                      "IND",
                      "KALYAN SINGH"
                    ],
                    [
                      "BSP",
                      "SUNDER BHADANA"
                    ],
                    [
                      "AAP",
                      "DHARMENDRA KHATANA"
                    ],
                    [
                      "ASP(KR)",
                      "VINESH GUJJAR GHATA"
                    ],
                    [
                      "NOTA",
                      "NOTA"
                    ],
                    [
                      "Other",
                      "ATAULLAH KHAN"
                    ],
                    [
                      "IND",
                      "DAYARAM"
                    ],
                    [
                      "IND",
                      "SUBHASH CHAND"
                    ],
                    [
                      "INC",
                      "AFTAB AHMED"
                    ],
                    [
                      "INLD",
                      "TAHIR HUSSAIN"
                    ],
                    [
                      "BJP",
                      "SANJAY SINGH"
                    ],
                    [
                      "JJP",
                      "BIRENDER"
                    ],
                    [
                      "NOTA",
                      "NOTA"
                    ],
                    [
                      "AAP",
                      "RABIA KIDWAI"
                    ],
                    [
                      "Other",
                      "ANWAR"
                    ],
                    [
                      "INC",
                      "MAMMAN KHAN"
                    ],
                    [
                      "BJP",
                      "NASEEM AHMED"
                    ],
                    [
                      "INLD",
                      "MOHAMMAD HABIB"
                    ],
                    [
                      "IND",
                      "MUMTAJ AHMED"
                    ],
                    [
                      "JJP",
                      "JAAN MOHAMMAD"
                    ],
                    [
                      "NOTA",
                      "NOTA"
                    ],
                    [
                      "IND",
                      "NARENDER KUMAR"
                    ],
                    [
                      "AAP",
                      "WASEEM ZAFFER"
                    ],
                    [
                      "IND",
                      "MOHD. HASHIM"
                    ],
                    [
                      "INC",
                      "MOHAMMAD ILYAS"
                    ],
                    [
                      "IND",
                      "RAHISH KHAN"
                    ],
                    [
                      "BJP",
                      "MOHD AIZAZ KHAN"
                    ],
                    [
                      "AAP",
                      "NAYAB HUSSAIN"
                    ],
                    [
                      "ASP(KR)",
                      "ATAULLAH"
                    ],
                    [
                      "NOTA",
                      "NOTA"
                    ],
                    [
                      "INLD",
                      "DAYA WATI"
                    ],
                    [
                      "IND",
                      "SAJID"
                    ],
                    [
                      "INC",
                      "MOHD ISRAIL"
                    ],
                    [
                      "BJP",
                      "MANOJ KUMAR"
                    ],
                    [
                      "INLD",
                      "TAYUB HUSAIN URF NAZIR AHMED"
                    ],
                    [
                      "IND",
                      "DHARMENDRA TEWATIA"
                    ],
                    [
                      "JJP",
                      "RAVINDER KUMAR"
                    ],
                    [
                      "IND",
                      "KEHAR SINGH"
                    ],
                    [
                      "AAP",
                      "RAJENDRA SINGH RAWAT"
                    ],
                    [
                      "NOTA",
                      "NOTA"
                    ],
                    [
                      "IND",
                      "PRADEEP KUMAR"
                    ],
                    [
                      "BJP",
                      "HARINDER SINGH"
                    ],
                    [
                      "INC",
                      "UDAI BHAN"
                    ],
                    [
                      "IND",
                      "NAVEEN ROHILA"
                    ],
                    [
                      "INLD",
                      "SUNIL KUMAR"
                    ],
                    [
                      "IND",
                      "SUNITA SOROUT"
                    ],
                    [
                      "NOTA",
                      "NOTA"
                    ],
                    [
                      "AAP",
                      "MANOHAR"
                    ],
                    [
                      "JJP",
                      "SATVEER"
                    ],
                    [
                      "IND",
                      "USHMA DEVI"
                    ],
                    [
                      "IND",
                      "NEERAJ SOUROT"
                    ],
                    [
                      "IND",
                      "YASHVEER"
                    ],
                    [
                      "IND",
                      "RAJNI"
                    ],
                    [
                      "IND",
                      "KULDEEP KUMAR"
                    ],
                    [
                      "BJP",
                      "GAURAV GAUTAM"
                    ],
                    [
                      "INC",
                      "KARAN SINGH DALAL"
                    ],
                    [
                      "ASP(KR)",
                      "HARIT KUMAR"
                    ],
                    [
                      "BSP",
                      "ABHISHEK DESHWAL"
                    ],
                    [
                      "IND",
                      "SHIV DUTT"
                    ],
                    [
                      "AAP",
                      "DHARMENDER SINGH"
                    ],
                    [
                      "NOTA",
                      "NOTA"
                    ],
                    [
                      "IND",
                      "SUNIL KUMAR"
                    ],
                    [
                      "IND",
                      "MAMTA SOLANKI"
                    ],
                    [
                      "IND",
                      "GIRRAJ"
                    ],
                    [
                      "ABSP",
                      "SATBIR SINGH"
                    ],
                    [
                      "Other",
                      "RAMPAL"
                    ],
                    [
                      "Other",
                      "GOPAL DUTT"
                    ],
                    [
                      "Other",
                      "PANCH LAL PRASAD"
                    ],
                    [
                      "INC",
                      "RAGHUBIR TEWATIA"
                    ],
                    [
                      "BJP",
                      "TEK CHAND SHARMA"
                    ],
                    [
                      "IND",
                      "NAYANPAL RAWAT"
                    ],
                    [
                      "IND",
                      "DEEPAK DAGAR"
                    ],
                    [
                      "BSP",
                      "SURENDER VASHISHT"
                    ],
                    [
                      "IND",
                      "ABDUT NATH"
                    ],
                    [
                      "IND",
                      "BIJENDER SINGH ADVOCATE"
                    ],
                    [
                      "AAP",
                      "KAUSHAL TATARPUR"
                    ],
                    [
                      "NOTA",
                      "NOTA"
                    ],
                    [
                      "IND",
                      "RAHUL"
                    ],
                    [
                      "Other",
                      "MUKESH"
                    ],
                    [
                      "IND",
                      "SAMEY SINGH"
                    ],
                    [
                      "ASP(KR)",
                      "GIRIRAJ JATOLA"
                    ],
                    [
                      "IND",
                      "JITENDER KUMAR"
                    ],
                    [
                      "BJP",
                      "SATISH KUMAR PHAGNA"
                    ],
                    [
                      "INC",
                      "NEERAJ SHARMA"
                    ],
                    [
                      "INLD",
                      "NAGENDER BHADANA"
                    ],
                    [
                      "JJP",
                      "HAJI KARAMAT ALI"
                    ],
                    [
                      "AAP",
                      "RAVI DAGAR"
                    ],
                    [
                      "NOTA",
                      "NOTA"
                    ],
                    [
                      "Other",
                      "DHEERAJ KUMAR"
                    ],
                    [
                      "IND",
                      "RAJKUMAR"
                    ],
                    [
                      "IND",
                      "JITENDER KUMAR"
                    ],
                    [
                      "Other",
                      "VINOD SINGH"
                    ],
                    [
                      "IND",
                      "RAVINDER GUPTA"
                    ],
                    [
                      "Other",
                      "MANISH"
                    ],
                    [
                      "IND",
                      "RANJOT"
                    ],
                    [
                      "Other",
                      "RAM PARTAP GAUR"
                    ],
                    [
                      "BJP",
                      "DHANESH ADLAKHA"
                    ],
                    [
                      "INC",
                      "VIJAY PRATAP SINGH"
                    ],
                    [
                      "BSP",
                      "MANOJ CHOUDHARY"
                    ],
                    [
                      "AAP",
                      "OM PRAKASH VERMA"
                    ],
                    [
                      "NOTA",
                      "NOTA"
                    ],
                    [
                      "JJP",
                      "PARVINDER SINGH"
                    ],
                    [
                      "Other",
                      "KAMAL BALI"
                    ],
                    [
                      "Other",
                      "PREM CHAND GAUR"
                    ],
                    [
                      "IND",
                      "BAKIL AKHTAR"
                    ],
                    [
                      "IND",
                      "AABID KHAN"
                    ],
                    [
                      "BJP",
                      "MOOL CHAND SHARMA"
                    ],
                    [
                      "IND",
                      "SHARDA RATHORE"
                    ],
                    [
                      "IND",
                      "RAO RAM KUMAR"
                    ],
                    [
                      "INC",
                      "SMT. PARAG SHARMA"
                    ],
                    [
                      "AAP",
                      "RAVINDRA FAUJDAR"
                    ],
                    [
                      "NOTA",
                      "NOTA"
                    ],
                    [
                      "IND",
                      "VANDANA SINGH"
                    ],
                    [
                      "IND",
                      "ADVOCATE BRAHMA PRAKASH"
                    ],
                    [
                      "Other",
                      "ATUL"
                    ],
                    [
                      "BJP",
                      "VIPUL GOEL"
                    ],
                    [
                      "INC",
                      "LAKHAN KUMAR SINGLA"
                    ],
                    [
                      "NOTA",
                      "NOTA"
                    ],
                    [
                      "AAP",
                      "PRAVESH MEHTA"
                    ],
                    [
                      "INLD",
                      "NARENDER PAL SINGH BAGHEL"
                    ],
                    [
                      "IND",
                      "VIJAY KRISHAN"
                    ],
                    [
                      "IND",
                      "ADARSH BALYAN"
                    ],
                    [
                      "IND",
                      "RAKESH KAPIL DAGAR"
                    ],
                    [
                      "IND",
                      "MANOJ DUREJA"
                    ],
                    [
                      "BJP",
                      "RAJESH NAGAR"
                    ],
                    [
                      "IND",
                      "LALIT NAGAR S/O LATE BHARAT SINGH NAGAR"
                    ],
                    [
                      "INC",
                      "ROHIT NAGAR"
                    ],
                    [
                      "IND",
                      "GIRRAJ SHARMA"
                    ],
                    [
                      "AAP",
                      "ABHASH CHANDELA"
                    ],
                    [
                      "Other",
                      "SHIV NARAYAN DUBEY"
                    ],
                    [
                      "BSP",
                      "LAL CHAND SHARMA"
                    ],
                    [
                      "NOTA",
                      "NOTA"
                    ],
                    [
                      "Other",
                      "SOMESHWAR SINGH"
                    ],
                    [
                      "IND",
                      "LALIT NAGAR S/O VIJAY PAL"
                    ],
                    [
                      "JJP",
                      "TIKA RAM"
                    ],
                    [
                      "IND",
                      "SANDEEP MEHTA"
                    ],
                    [
                      "Other",
                      "RAM BAHADUR"
                    ],
                    [
                      "IND",
                      "PUNDIT SUBHASH CHANDRA DUBEY GORAKHPURI"
                    ]
                  ],
                  "hovertemplate": "%{y}<br>%{customdata[1]}<br>%{customdata[0]} %{x} votes",
                  "hovertext": [
                    "('BJP', 'SHAKTI RANI SHARMA')",
                    "('INC', 'PARDEEP CHAUDHARY')",
                    "('IND', 'GOPAL SUKHOMAJRI')",
                    "('BSP', 'CHARAN SINGH')",
                    "('AAP', 'OM PARKASH GUJJAR')",
                    "('NOTA', 'NOTA')",
                    "('IND', 'AMIT SHARMA')",
                    "('IND', 'VISHAL')",
                    "('INC', 'CHANDER MOHAN')",
                    "('BJP', 'GIAN CHAND GUPTA')",
                    "('AAP', 'PREM GARG')",
                    "('INLD', 'DR KSHITIJ CHOUDHARY')",
                    "('JJP', 'SUSHIL GARG')",
                    "('NOTA', 'NOTA')",
                    "('IND', 'M P SHARMA')",
                    "('IND', 'NATASHA SOOD')",
                    "('IND', 'SAROJ BALA')",
                    "('RRP', 'KISHAN SINGH NEGI')",
                    "('Other', 'BHARAT BHUSHAN GURJAR')",
                    "('INC', 'SHALLEY CHAUDHARY')",
                    "('BJP', 'DR. PAWAN SAINI')",
                    "('BSP', 'HARBILAS SINGH')",
                    "('AAP', 'GURPAL SINGH')",
                    "('NOTA', 'NOTA')",
                    "('IND', 'NEETU')",
                    "('Other', 'SEEMA DEVI')",
                    "('IND', 'DHARAMPAL')",
                    "('BJP', 'ANIL VIJ')",
                    "('IND', 'CHITRA SARWARA')",
                    "('INC', 'PARVINDER PAL PARI')",
                    "('INLD', 'ONKAR SINGH')",
                    "('JJP', 'AVTAR SINGH')",
                    "('IND', 'DHARMESH SOOD RINKU')",
                    "('NOTA', 'NOTA')",
                    "('AAP', 'RAJ KAUR GILL')",
                    "('Other', 'NAVEEN KUMAR')",
                    "('IND', 'NAVEEN BIDLA')",
                    "('IND', 'JASWINDER GOLU')",
                    "('IND', 'SUNIL VERMA')",
                    "('INC', 'NIRMAL SINGH MOHRA')",
                    "('BJP', 'ASEEM GOEL NANEOLA')",
                    "('ASP(KR)', 'PARUL NAGPAL UDAIPURIA')",
                    "('AAP', 'KETAN SHARMA')",
                    "('NOTA', 'NOTA')",
                    "('BSP', 'MALKIT SINGH BHANOKHERI')",
                    "('IND', 'SATNAM SINGH')",
                    "('IND', 'BHUPINDER')",
                    "('IND', 'SUNIL DUTT')",
                    "('IND', 'MAYUR NANDA')",
                    "('IND', 'SACHIN KUMAR')",
                    "('IND', 'LALIT WALIA')",
                    "('INC', 'POOJA')",
                    "('BJP', 'SANTOSH CHAUHAN SARWAN')",
                    "('INLD', 'PRAKASH BHARTI')",
                    "('JJP', 'DR RAVINDER DHEEN')",
                    "('IND', 'DALIP SINGH')",
                    "('AAP', 'GURTEJ SINGH')",
                    "('IND', 'AJAIB SINGH SODHI')",
                    "('Other', 'PRITAM SINGH')",
                    "('NOTA', 'NOTA')",
                    "('IND', 'HAVELI RAM')",
                    "('IND', 'HARKESH KUMAR')",
                    "('INC', 'RENU BALA')",
                    "('BJP', 'BALWANT SINGH')",
                    "('BSP', 'BRIJ PAL')",
                    "('ASP(KR)', 'SOHIL')",
                    "('AAP', 'RITA RANI')",
                    "('NOTA', 'NOTA')",
                    "('IND', 'BETA MAMCHAND RATTU')",
                    "('Other', 'JAI PAL')",
                    "('Other', 'JASBIR SINGH')",
                    "('IND', 'POOJA NAGRA')",
                    "('INC', 'AKRAM KHAN')",
                    "('BJP', 'KANWAR PAL')",
                    "('AAP', 'ADARSH PAL SINGH')",
                    "('BSP', 'DARSHAN LAL')",
                    "('ASP(KR)', 'ASHOK KUMAR')",
                    "('NOTA', 'NOTA')",
                    "('IND', 'YOGESH SETHI (YOGI)')",
                    "('Other', 'DR. NITESH CHOPRA (HONEY)')",
                    "('IND', 'YAJUVINDER SINGH')",
                    "('IND', 'ADITYA KUMAR SHASTRI')",
                    "('Other', 'SONI')",
                    "('IND', 'GURDEV SINGH')",
                    "('BJP', 'GHANSHYAM DASS')",
                    "('INC', 'RAMAN TYAGI')",
                    "('INLD', 'DILBAG SINGH')",
                    "('AAP', 'LALIT KUMAR TYAGI')",
                    "('NOTA', 'NOTA')",
                    "('JJP', 'INTZAR ALI')",
                    "('IND', 'KAPIL')",
                    "('PPI(D)', 'MANGA RAM')",
                    "('Other', 'NIRMALJEET KAUR')",
                    "('IND', 'SUKHWINDER')",
                    "('Other', 'KANCHAN SHARMA')",
                    "('BJP', 'SHYAM SINGH RANA')",
                    "('INC', 'DR. BISHAN LAL SAINI')",
                    "('BSP', 'DHARAMPAL TIGRA')",
                    "('AAP', 'BHIM SINGH RATHI')",
                    "('ASP(KR)', 'MANDEEP TOPRA')",
                    "('Other', 'DIWAN CHAND KAMBOJ')",
                    "('NOTA', 'NOTA')",
                    "('IND', 'JAI PARKASH SHARMA')",
                    "('Other', 'DAYANAND')",
                    "('IND', 'ANIL KUMAR BATTA')",
                    "('IND', 'ASHOK KUMAR')",
                    "('BJP', 'NAYAB SINGH')",
                    "('INC', 'MEWA SINGH')",
                    "('IND', 'VIKRAMJEET SINGH CHEEMA')",
                    "('INLD', 'SAPNA BARSHAMI')",
                    "('IND', 'SANDEEP GARG LADWA')",
                    "('AAP', 'JOGA SINGH UMRI')",
                    "('IND', 'KASHYAP RAM CHANDER')",
                    "('IND', 'ASHOK SAINI HAMID PUR')",
                    "('IND', 'BHAJAN SINGH')",
                    "('NOTA', 'NOTA')",
                    "('JJP', 'VINOD KUMAR SHARMA')",
                    "('Other', 'VIKRAM SINGH SAINI')",
                    "('PPI(D)', 'MAN SINGH BAPDA')",
                    "('IND', 'RAJKUMAR')",
                    "('Other', 'SATISH KUMAR')",
                    "('Other', 'SUBHASH SAINI')",
                    "('IND', 'PARVEEN KUMAR')",
                    "('INC', 'RAM KARAN')",
                    "('BJP', 'SUBHASH CHAND')",
                    "('BSP', 'CHANDER BHAN CHAUHAN')",
                    "('Other', 'KANTA AALLDIA')",
                    "('AAP', 'ASHA RANI')",
                    "('NOTA', 'NOTA')",
                    "('JJP', 'RAJEETA SINGH')",
                    "('IND', 'PAWAN KUMAR')",
                    "('IND', 'RAJESH KANIPLA')",
                    "('IND', 'SHIV NATH')",
                    "('INC', 'ASHOK KUMAR ARORA')",
                    "('BJP', 'SUBHASH SUDHA')",
                    "('AAP', 'KRISHAN BAJAJ')",
                    "('BSP', 'TANUJA')",
                    "('NOTA', 'NOTA')",
                    "('JJP', 'SURYA PARTAP SINGH RATHORE')",
                    "('IND', 'ABHISHEK PUNIA')",
                    "('Other', 'JAIVEER SINGH RANGA')",
                    "('IND', 'MEHAR')",
                    "('IND', 'ASHOK KUMAR')",
                    "('INC', 'MANDEEP CHATHA')",
                    "('BJP', 'JAI BHAGWAN SHARMA (DD)')",
                    "('INLD', 'BALDEV SINGH WARAICH')",
                    "('JJP', 'DR. SUKHWINDER KAUR')",
                    "('Other', 'GURNAM SINGH')",
                    "('AAP', 'GEHAL SINGH SANDHU')",
                    "('IND', 'RAJAT SHARMA ISMAILABAD')",
                    "('NOTA', 'NOTA')",
                    "('IND', 'SHYAM LAL GUMTHALA GARHU')",
                    "('Other', 'KULDEEP SINGH')",
                    "('INC', 'DEVENDER HANS')",
                    "('BJP', 'KULWANT RAM BAZIGAR')",
                    "('IND', 'NARESH KUMAR')",
                    "('JJP', 'KRISHAN KUMAR')",
                    "('AAP', 'RAKESH KUMAR')",
                    "('INLD', 'POONAM RANI')",
                    "('IND', 'AMARJEET SINGH')",
                    "('NOTA', 'NOTA')",
                    "('Other', 'BHUPINDER SINGH')",
                    "('Other', 'MANOJ KUMAR')",
                    "('INC', 'VIKAS SAHARAN')",
                    "('BJP', 'KAMLESH DHANDA')",
                    "('IND', 'ANITA DHULL BADSIKRI')",
                    "('INLD', 'RAMPAL MAJRA')",
                    "('IND', 'VINOD NIRMAL')",
                    "('IND', 'SATVINDER SINGH RANA')",
                    "('AAP', 'ANURAG DHANDA')",
                    "('IND', 'ASHISH RASILA')",
                    "('JJP', 'PRITAM KOLEKHAN')",
                    "('NOTA', 'NOTA')",
                    "('IND', 'SANDEEP KOTRA ADVOCATE')",
                    "('IND', 'RAJESH KUMAR')",
                    "('IND', 'SALINDER KUMAR')",
                    "('IND', 'JITENDER SINGH URF DHOLA')",
                    "('IND', 'RAJENDER KUMAR')",
                    "('INC', 'ADITYA SURJEWALA')",
                    "('BJP', 'LEELA RAM')",
                    "('BSP', 'ANIL TANWER')",
                    "('JJP', 'SANDEEP GARHI')",
                    "('AAP', 'SATBIR SINGH GOYAT')",
                    "('NOTA', 'NOTA')",
                    "('IND', 'FOUJI SURESH KUMAR')",
                    "('IND', 'PATASHO DEVI')",
                    "('IND', 'SATISH KUMAR')",
                    "('IND', 'ASHWINI SHARMA HRITTWAL')",
                    "('IND', 'BALRAJ SINGH')",
                    "('IND', 'DR. MAHESH CHAND GAUR')",
                    "('IND', 'CHAND KALYAN')",
                    "('BJP', 'SATPAL JAMBA')",
                    "('IND', 'SATBIR BHANA')",
                    "('INC', 'SULTAN JADAULA')",
                    "('IND', 'GURINDER SINGH HABRI')",
                    "('IND', 'SAJJAN SINGH DHULL')",
                    "('BSP', 'HISAM SINGH BHUKKAL')",
                    "('IND', 'DINESH KAUSHIK')",
                    "('AAP', 'NARENDER SHARMA')",
                    "('IND', 'HARIPAL PAHALWAN')",
                    "('IND', 'NARESH KUMAR PHARAL')",
                    "('IND', 'ADVOCATE RAKESH SHARMA')",
                    "('IND', 'PARMOD CHUHARMAJRA')",
                    "('Other', 'BABU RAM')",
                    "('NOTA', 'NOTA')",
                    "('IND', 'AMIT KUMAR')",
                    "('IND', 'DILBAG BHANA')",
                    "('IND', 'SUNITA BATTAN')",
                    "('PPI(D)', 'ENGINEER SURESH KUMAR')",
                    "('IND', 'RANDHIR SINGH GOLLEN')",
                    "('BJP', 'BHAGWAN DASS')",
                    "('INC', 'DHARAM PAL')",
                    "('IND', 'RAJ KUMAR')",
                    "('INLD', 'BALWAN SINGH')",
                    "('Other', 'GAURAV BAKHSHI')",
                    "('AAP', 'AMAR SINGH')",
                    "('IND', 'VED PARKASH')",
                    "('ASP(KR)', 'KARAM SINGH')",
                    "('NOTA', 'NOTA')",
                    "('IND', 'DYAL SINGH')",
                    "('IND', 'SUBHASH CHAND')",
                    "('IND', 'SARITA')",
                    "('IND', 'SUNDARI')",
                    "('IND', 'NAVEEN KUMAR')",
                    "('IND', 'RAJIV KUMAR')",
                    "('Other', 'DEEPAK KUMAR')",
                    "('BJP', 'RAM KUMAR KASHYAP')",
                    "('INC', 'RAKESH KAMBOJ')",
                    "('BSP', 'SURENDER UDANA')",
                    "('AAP', 'HAWA SINGH')",
                    "('JJP', 'KULDEEP SINGH MANDHAN')",
                    "('NOTA', 'NOTA')",
                    "('Other', 'SANJAY KUMAR')",
                    "('BJP', 'JAGMOHAN ANAND')",
                    "('INC', 'SUMITA VIRK')",
                    "('AAP', 'SUNIL BINDAL')",
                    "('INLD', 'SURJEET SINGH')",
                    "('NOTA', 'NOTA')",
                    "('JJP', 'JETENDER ROYAL')",
                    "('IND', 'KAMAL')",
                    "('IND', 'VARINDER KUMAR CHAWLA')",
                    "('IND', 'NEERU BALA SAINI')",
                    "('Other', 'ADVOCATE PARDEEP SAINI')",
                    "('Other', 'HARDEEP SINGH')",
                    "('IND', 'DHARMENDER')",
                    "('IND', 'YASH DEV GOYAL')",
                    "('BJP', 'HARVINDER KALYAN')",
                    "('INC', 'VARINDER SINGH RATHORE')",
                    "('INLD', 'KRISHAN SINGH ALIAS MANNU KASHYAP')",
                    "('AAP', 'JAIPAL SHARMA')",
                    "('Other', 'VICKY')",
                    "('JJP', 'RAJPAL')",
                    "('NOTA', 'NOTA')",
                    "('IND', 'PARDEEP KASHYAP UPLI')",
                    "('IND', 'BHUPINDER SINGH')",
                    "('BJP', 'YOGINDER SINGH RANA')",
                    "('INC', 'SHAMSHER SINGH GOGI')",
                    "('BSP', 'GOPAL SINGH')",
                    "('IND', 'ZILE RAM SHARMA')",
                    "('AAP', 'AMANDEEP SINGH JUNDLA')",
                    "('Other', 'MARATHA VIRENDER VERMA')",
                    "('IND', 'REKHA')",
                    "('IND', 'ADVOCATE SONIYA BOHAT')",
                    "('IND', 'JAIPAL PUNIA')",
                    "('Other', 'PREM CHAND')",
                    "('Other', 'HARJEET SINGH')",
                    "('NOTA', 'NOTA')",
                    "('IND', 'RAMPHAL')",
                    "('IND', 'BALJIT SINGH')",
                    "('IND', 'PARDEEP')",
                    "('BJP', 'MAHIPAL DHANDA')",
                    "('INC', 'SACHIN KUNDU')",
                    "('IND', 'VIJAY JAIN')",
                    "('AAP', 'SUKHVIR MALIK')",
                    "('BSP', 'RANBIR SINGH')",
                    "('NOTA', 'NOTA')",
                    "('Other', 'AMIT MAURYA')",
                    "('JJP', 'RAGHUNATH TANWAR KASHYAP')",
                    "('IND', 'RAMESH SINGLA')",
                    "('IND', 'DEVENDER')",
                    "('IND', 'MASTER KULDEEP REDHU')",
                    "('IND', 'DIPTI')",
                    "('BJP', 'PARMOD KUMAR VIJ')",
                    "('INC', 'VARINDER KUMAR SHAH')",
                    "('IND', 'ROHITA REWRI')",
                    "('AAP', 'RITU ARORA')",
                    "('NOTA', 'NOTA')",
                    "('BSP', 'SAROJ BALA GUR')",
                    "('IND', 'DILBAG SINGH KRANTIKARI')",
                    "('IND', 'CA JAGDISH DHAMIJA')",
                    "('IND', 'SAWAMI AGNIVESH')",
                    "('IND', 'HIMANSHU SHARMA')",
                    "('IND', 'RAMESH KUMAR CHAUDHARY')",
                    "('Other', 'BHATERI DEVI')",
                    "('BJP', 'KRISHAN LAL PANWAR')",
                    "('INC', 'BALBIR SINGH BALMIKI')",
                    "('IND', 'RAKESH SAROHA')",
                    "('IND', 'SATYAWAN SHERA')",
                    "('INLD', 'SURAJBHAN')",
                    "('AAP', 'AMIT KUMAR')",
                    "('JJP', 'SUNIL KUMAR')",
                    "('NOTA', 'NOTA')",
                    "('BJP', 'MANMOHAN BHADANA')",
                    "('INC', 'DHARAM SINGH CHHOKER')",
                    "('IND', 'RAVINDER MACHHRAULI')",
                    "('INLD', 'RAJESH')",
                    "('AAP', 'JAIKANWAR ALIAS BITTU PAHALWAN')",
                    "('JJP', 'GANGARAM SWAMI')",
                    "('NOTA', 'NOTA')",
                    "('IND', 'SATISH KUMAR')",
                    "('IND', 'DEVENDER KADYAN')",
                    "('INC', 'KULDIP SHARMA')",
                    "('BJP', 'DEVENDER KAUSHIK')",
                    "('IND', 'KAVITA SHARMA')",
                    "('BSP', 'NAR SINGH')",
                    "('JJP', 'ANIL KUMAR TYAGI')",
                    "('IND', 'TAKDEER')",
                    "('IND', 'RAM KUMAR')",
                    "('NOTA', 'NOTA')",
                    "('AAP', 'SAROJ BALA')",
                    "('IND', 'RAM MEHAR SINGH')",
                    "('IND', 'ANKUR KAUSHIK')",
                    "('BJP', 'KRISHNA GAHLAWAT')",
                    "('INC', 'JAI BHAGWAN ANTIL')",
                    "('IND', 'PRATEEK RAJKUMAR SHARMA')",
                    "('INLD', 'PARMOD DAHIYA')",
                    "('IND', 'RAHUL KIRORIWAL')",
                    "('NOTA', 'NOTA')",
                    "('IND', 'SITENDER')",
                    "('JJP', 'BIJENDER')",
                    "('AAP', 'RAJESH SAROHA')",
                    "('Other', 'DEVENDER SINGH')",
                    "('Other', 'SANT DHARAMVEER CHOTIVALA')",
                    "('IND', 'SANDEEP KUMAR')",
                    "('IND', 'BIJENDER KUMAR')",
                    "('Other', 'MUKESH TAPSI')",
                    "('IND', 'RAJESH KUMAR')",
                    "('BJP', 'PAWAN KHARKHODA')",
                    "('INC', 'JAIVEER SINGH')",
                    "('INLD', 'PRITAM KHOKAR')",
                    "('AAP', 'MANJEET FARMANA')",
                    "('NOTA', 'NOTA')",
                    "('JJP', 'RAMESH KHATAK')",
                    "('Other', 'DR. PARVEEN KHARKHODA')",
                    "('IND', 'M. GAJE SINGH ADVOCATE')",
                    "('IND', 'SATNARAYAN')",
                    "('Other', 'AMAR SINGH BALMIKI')",
                    "('PPI(D)', 'RADHEY SHYAM')",
                    "('BJP', 'NIKHIL MADAAN')",
                    "('INC', 'SURENDER PANWAR')",
                    "('AAP', 'DEVINDER GAUTAM')",
                    "('INLD', 'SARDHARAM SINGH')",
                    "('CPI', 'RAJIV VERMA')",
                    "('NOTA', 'NOTA')",
                    "('Other', 'ISHWAR SINGH RATHEE')",
                    "('ASP(KR)', 'RAJESH')",
                    "('IND', 'RAMESH KHATRI LAMBERDAR')",
                    "('IND', 'DR. KAMLESH KUMAR SAINI')",
                    "('Other', 'SUSHIL KUMAR MANAV')",
                    "('Other', 'PAWAN SANATANI')",
                    "('IND', 'DHARAMBIR FOJI')",
                    "('BJP', 'ARVIND KUMAR SHARMA')",
                    "('INC', 'JAGBIR SINGH MALIK')",
                    "('IND', 'HARSH CHHIKARA')",
                    "('IND', 'RAJVIR SINGH DAHIYA')",
                    "('AAP', 'SHIV KUMAR RANGEELA')",
                    "('BSP', 'DINESH KUMAR')",
                    "('JJP', 'KULDEEP MALIK')",
                    "('NOTA', 'NOTA')",
                    "('IND', 'ARVIND')",
                    "('IND', 'ARUN NINANIYA')",
                    "('IND', 'SUNNY')",
                    "('IND', 'RAJBIR')",
                    "('INC', 'INDURAJ SINGH NARWAL')",
                    "('IND', 'KAPOOR SINGH NARWAL')",
                    "('BJP', 'PARDEEP SINGH SANGWAN')",
                    "('BSP', 'DHARAM VIR')",
                    "('AAP', 'SANDEEP MALIK')",
                    "('JJP', 'DEEPAK MALIK')",
                    "('NOTA', 'NOTA')",
                    "('IND', 'DEVENDER KUMAR ALIAS NITU MOR')",
                    "('INC', 'VINESH')",
                    "('BJP', 'YOGESH KUMAR')",
                    "('INLD', 'SURENDER LATHER')",
                    "('JJP', 'AMARJEET DHANDA')",
                    "('AAP', 'KAVITA RANI')",
                    "('NOTA', 'NOTA')",
                    "('IND', 'BIJENDER KUMAR')",
                    "('IND', 'PREM')",
                    "('IND', 'COACH JASVIR SINGH AHLAWAT')",
                    "('IND', 'AMIT SHARMA')",
                    "('IND', 'RAMRATTAN')",
                    "('Other', 'JOGI SUNIL')",
                    "('IND', 'INDERJEET')",
                    "('BJP', 'RAM KUMAR GAUTAM')",
                    "('INC', 'SUBHASH GANGOLI')",
                    "('IND', 'JASBIR DESWAL')",
                    "('IND', 'BACHAN SINGH ARYA')",
                    "('BSP', 'PINKI KUNDU')",
                    "('JJP', 'SUSHIL BAIRAGI')",
                    "('IND', 'VIPUL')",
                    "('Other', 'ADVOCATE RINKU MUANA')",
                    "('IND', 'GURMEET')",
                    "('IND', 'VIJAY PAL')",
                    "('AAP', 'NISHA DESWAL')",
                    "('IND', 'AJIT KUMAR')",
                    "('NOTA', 'NOTA')",
                    "('IND', 'SUYAG')",
                    "('RRP', 'RAKESH KUMAR')",
                    "('IND', 'SUBHASH SAINI')",
                    "('IND', 'MONU LOHAN')",
                    "('IND', 'SUSHIL KUMAR')",
                    "('BJP', 'DR KRISHAN LAL MIDDHA')",
                    "('INC', 'MAHAVIR GUPTA')",
                    "('IND', 'PRADEEP SINGH')",
                    "('AAP', 'WAZIR DHANDA')",
                    "('INLD', 'NARENDER NATH SHARMA')",
                    "('JJP', 'DHARAM PAL TANWAR')",
                    "('NOTA', 'NOTA')",
                    "('IND', 'RITU RAJ BAMNIYA')",
                    "('IND', 'RITESH SANGWAN SANGU')",
                    "('IND', 'VED PARKASH')",
                    "('IND', 'ANKIT KUMAR')",
                    "('IND', 'RAM PARKASH TAYAL')",
                    "('IND', 'VIKAS')",
                    "('IND', 'SURESH CHAND')",
                    "('BJP', 'DEVENDER CHATAR BHUJ ATTRI')",
                    "('INC', 'BRIJENDRA SINGH')",
                    "('IND', 'VIRENDER GHOGHARIAN')",
                    "('IND', 'VIKAS')",
                    "('JJP', 'DUSHYANT CHAUTALA')",
                    "('IND', 'DILBAG SANDIL')",
                    "('INLD', 'VINOD PAL SINGH DULGANCH')",
                    "('AAP', 'PAWAN FAUJI')",
                    "('IND', 'BIJENDER')",
                    "('Other', 'AMARJEET SINGH')",
                    "('IND', 'ISHWAR KHATKAR FOUJI')",
                    "('IND', 'DEVENDER')",
                    "('IND', 'COMRADE PAL SINGH')",
                    "('IND', 'BIJENDER SINGH')",
                    "('Other', 'MASTER AJIT ARYA')",
                    "('IND', 'DEVENDER SHEORAN')",
                    "('NOTA', 'NOTA')",
                    "('IND', 'VIRENDER PAL')",
                    "('IND', 'JOGIENDER')",
                    "('IND', 'COMRADE RAMESH KHATKAR')",
                    "('IND', 'GURMAIL SINGH')",
                    "('BJP', 'KRISHAN KUMAR')",
                    "('INC', 'SATBIR DABLAIN')",
                    "('INLD', 'VIDYA RANI DANODA')",
                    "('AAP', 'ANIL RANGA')",
                    "('JJP', 'SANTOSH DANODA')",
                    "('CPI', 'MANIRAM')",
                    "('IND', 'GURMAIL')",
                    "('NOTA', 'NOTA')",
                    "('IND', 'COMRADE SATYAVIR SINGH')",
                    "('AJSP', 'RAM LAL KALYAN')",
                    "('IND', 'KITABA')",
                    "('INC', 'PARAMVIR SINGH')",
                    "('BJP', 'DEVENDER SINGH BABLI')",
                    "('INLD', 'KUNAL KARAN SINGH')",
                    "('AAP', 'SUKHVINDER SINGH S/O AVTAR SINGH')",
                    "('NOTA', 'NOTA')",
                    "('JJP', 'HAWA SINGH KHOBRA')",
                    "('IND', 'SUKHVINDER SINGH S/O BALDEV SINGH')",
                    "('IND', 'RAMESHWAR LAL')",
                    "('IND', 'RAY SINGH')",
                    "('IND', 'KARAMBIR')",
                    "('IND', 'NARENDER SIWACH TINU')",
                    "('IND', 'DHARAMPAL SHERE GILL')",
                    "('IND', 'NIKHIL KUMAR')",
                    "('INC', 'BALWAN SINGH DOULATPURIA')",
                    "('BJP', 'DURA RAM')",
                    "('INLD', 'SUNAINA CHAUTALA')",
                    "('IND', 'RAJENDER CHOUDHARY URF KAKA')",
                    "('JJP', 'SUBHASH CHANDER GORCHHIA')",
                    "('AAP', 'KAMAL BISLA')",
                    "('NOTA', 'NOTA')",
                    "('IND', 'VINOD KUMAR')",
                    "('IND', 'SANJAY KUMAR')",
                    "('IND', 'SUDHIR')",
                    "('Other', 'VIKRAM JEET KARWASRA')",
                    "('IND', 'VISHVAMITTR')",
                    "('IND', 'DARBARA SINGH')",
                    "('PPI(D)', 'BANTI BARETH')",
                    "('IND', 'JAIBIR')",
                    "('IND', 'SIMARJEET SINGH')",
                    "('IND', 'RAMAN')",
                    "('IND', 'MANDEEP KUMAR')",
                    "('IND', 'TAHIR HUSAIN')",
                    "('INC', 'JARNAIL SINGH')",
                    "('BJP', 'SUNITA DUGGAL')",
                    "('INLD', 'RAMSARUP RAMA')",
                    "('AAP', 'MUKHTYAR SINGH BAZIGAR')",
                    "('NOTA', 'NOTA')",
                    "('JJP', 'RAMESH')",
                    "('IND', 'TEJPAL')",
                    "('PPI(D)', 'SURJIT SINGH PARDHAN')",
                    "('IND', 'RAJ KUMAR')",
                    "('IND', 'SURENDER KUMAR PHOOLAN')",
                    "('IND', 'RAJBIR')",
                    "('INC', 'SHISHPAL KEHARWALA')",
                    "('BJP', 'RAJINDER SINGH DESUJODHA')",
                    "('INLD', 'GURTEJ SINGH')",
                    "('AAP', 'JASDEV SINGH')",
                    "('JJP', 'GURJANT SINGH')",
                    "('NOTA', 'NOTA')",
                    "('INLD', 'ADITYA DEVILAL')",
                    "('INC', 'AMIT SIHAG')",
                    "('JJP', 'DIGVIJAY SINGH CHAUTALA')",
                    "('BJP', 'BALDEV SINGH MANGIANA')",
                    "('AAP', 'KULDEEP SINGH GADRANA')",
                    "('NOTA', 'NOTA')",
                    "('IND', 'RAJESH KUMAR')",
                    "('IND', 'KHEM CHAND')",
                    "('IND', 'GURVINDER SINGH')",
                    "('IND', 'GULJARI LAL')",
                    "('PPI(D)', 'KULVEER SHAANT INSAN')",
                    "('Other', 'DANA RAM')",
                    "('IND', 'ANKIT KUMAR')",
                    "('INLD', 'ARJUN CHAUTALA')",
                    "('INC', 'SARV MITTER')",
                    "('IND', 'RANJIT SINGH')",
                    "('BJP', 'SHEESHPAL KAMBOJ')",
                    "('AAP', 'HARPINDER SINGH')",
                    "('IND', 'GAGAN DEEP JALANDHRA')",
                    "('NOTA', 'NOTA')",
                    "('Other', 'SANJAY MALIK')",
                    "('IND', 'VIKRAM KHARIAN')",
                    "('IND', 'JOGINDER RAM')",
                    "('IND', 'SATPAL VERMA')",
                    "('IND', 'GOTTAM SAHARAN')",
                    "('PPI(D)', 'DALBIR SINGH')",
                    "('Other', 'LUCKY BALMIKI')",
                    "('IND', 'ARJUN DASS')",
                    "('INC', 'GOKUL SETIA')",
                    "('Other', 'GOPAL KANDA')",
                    "('JJP', 'PAWAN SHERPURA')",
                    "('IND', 'CA DARVESH SWAMI')",
                    "('NOTA', 'NOTA')",
                    "('AAP', 'SHYAM SUNDER')",
                    "('IND', 'BHARAT KUMAR GIRDHAR @ SUNNY SINGH')",
                    "('IND', 'MADAN LAL')",
                    "('IND', 'RAJBEER')",
                    "('Other', 'JAIVEER SINGH')",
                    "('Other', 'MANI RAM')",
                    "('IND', 'YOGESH KANODIA')",
                    "('Other', 'YOGESH ODD')",
                    "('IND', 'OM PARKASH')",
                    "('INC', 'BHARAT SINGH BENIWAL')",
                    "('INLD', 'ABHAY SINGH CHAUTALA')",
                    "('BJP', 'AMIR CHAND TALWARA')",
                    "('JJP', 'ANJANI LADHA')",
                    "('AAP', 'MANISH ARORA')",
                    "('NOTA', 'NOTA')",
                    "('IND', 'VIKRAM INDORA')",
                    "('Other', 'NANAK SINGH')",
                    "('IND', 'SURJEET SINGH')",
                    "('IND', 'BALDEV KUMAR')",
                    "('Other', 'MAYANK GIDRA')",
                    "('INC', 'CHANDER PARKASH S/O ARJUN LAL')",
                    "('BJP', 'BHAVYA BISHNOI')",
                    "('INLD', 'RANDEEP CHOUDARYVAS')",
                    "('AAP', 'BHUPENDER BENIWAL')",
                    "('JJP', 'KRISHAN GANGWA PARJAPATI')",
                    "('NOTA', 'NOTA')",
                    "('IND', 'RAJESH KUMAR')",
                    "('IND', 'RAMPHAL')",
                    "('IND', 'RENU CHAHAL BALSAMAND')",
                    "('IND', 'PARMOD BASWANA')",
                    "('IND', 'CHANDER PARKASH S/O RAJA RAM')",
                    "('Other', 'BALJEET SINGH')",
                    "('IND', 'AMIT')",
                    "('INC', 'NARESH SELWAL')",
                    "('BJP', 'ANOOP DHANAK')",
                    "('INLD', 'BALRAJ SINGH')",
                    "('AAP', 'NARENDER KHANNA')",
                    "('JJP', 'ROHTASH')",
                    "('NOTA', 'NOTA')",
                    "('Other', 'ANIL BITHMARA')",
                    "('IND', 'BIRBAL SINGH')",
                    "('INC', 'JASSI PETWAR')",
                    "('BJP', 'CAPT. ABHIMANYU')",
                    "('INLD', 'UMED SINGH LOHAN')",
                    "('AAP', 'RANBIR SINGH LOHAN')",
                    "('JJP', 'YOGESH GAUTAM')",
                    "('NOTA', 'NOTA')",
                    "('IND', 'DHARAMVIR SAROWA')",
                    "('IND', 'RAVI KUMAR')",
                    "('IND', 'JASSI JASBIR S/O BANI SINGH')",
                    "('Other', 'KRISHAN MAJRA')",
                    "('IND', 'SANDEEP KUMAR')",
                    "('IND', 'AJAY CHAUDHARY')",
                    "('IND', 'JAIBIR ALIAS JAI VIR')",
                    "('AAPP', 'BHAI SATISH MASUDPUR')",
                    "('IND', 'JAIBIR S/O CHANDER BHAN')",
                    "('BJP', 'VINOD BHAYANA')",
                    "('INC', 'RAHUL MAKKAR')",
                    "('AAP', 'RAJENDER SINGH')",
                    "('BSP', 'RAVINDER KUMAR')",
                    "('JJP', 'SHAMSHER SINGH')",
                    "('NOTA', 'NOTA')",
                    "('IND', 'SUMAN KUMAR')",
                    "('IND', 'HARISH VERMA')",
                    "('IND', 'ROHIT')",
                    "('IND', 'AMARJEET')",
                    "('IND', 'KASHMIRI LAL GROVER')",
                    "('AAPP', 'VEERBHAN')",
                    "('IND', 'NAVIN')",
                    "('IND', 'JAI PARKASH')",
                    "('BJP', 'RANBIR GANGWA')",
                    "('INC', 'RAMNIWAS GHORELA')",
                    "('INLD', 'SANJANA SATROAD')",
                    "('AAP', 'PROF. CHHATTAR PAL SINGH')",
                    "('JJP', 'ANANT RAM')",
                    "('NOTA', 'NOTA')",
                    "('Other', 'RAJIV KHATAK')",
                    "('IND', 'RENU DALJEET SINGH')",
                    "('IND', 'BABA DARSHAN GIRI')",
                    "('IND', 'SUMIT BLODA')",
                    "('IND', 'SAVITRI JINDAL')",
                    "('INC', 'RAM NIWAS RARA')",
                    "('BJP', 'DR. KAMAL GUPTA')",
                    "('IND', 'GAUTAM SARDANA')",
                    "('IND', 'AMIT GROVER')",
                    "('AAP', 'SANJAY SATRODIA')",
                    "('IND', 'TARUN JAIN')",
                    "('IND', 'SUNIL BANSAL')",
                    "('INLD', 'SHYAM LAL')",
                    "('JJP', 'RAVINDER RAVI AHUJA')",
                    "('NOTA', 'NOTA')",
                    "('IND', 'RAJENDER')",
                    "('IND', 'ANIL KUMAR S/O JAGDISH CHANDER SHARMA')",
                    "('IND', 'PRASHANT YADAV')",
                    "('Other', 'NAND KISHOR CHAWLA')",
                    "('IND', 'PARVEEN KUMAR')",
                    "('IND', 'ANIL MAHLA')",
                    "('IND', 'ANIL KUMAR S/O CHARANJIT LAL')",
                    "('IND', 'MAHENDER')",
                    "('IND', 'DINESH KUMAR SAINI')",
                    "('Other', 'SUNIL')",
                    "('IND', 'AJAY SAINI')",
                    "('BJP', 'RANDHIR PANIHAR')",
                    "('INC', 'ANIL MAAN')",
                    "('JJP', 'VIRENDER CHAUDHARY')",
                    "('BSP', 'SARWAN KUMAR VERMA')",
                    "('AAP', 'UMESH SHARMA')",
                    "('NOTA', 'NOTA')",
                    "('IND', 'MAHABIR PRASAD')",
                    "('IND', 'RAVINDER MANGALI')",
                    "('IND', 'PARDUMAN JOSHILA')",
                    "('IND', 'JAI PRAKASH')",
                    "('IND', 'RAJENDER SINGH')",
                    "('IND', 'ANIL KUMAR')",
                    "('Other', 'RAJ KUMAR')",
                    "('IND', 'ATAM PARKASH')",
                    "('INC', 'RAJBIR FARTIA')",
                    "('BJP', 'JAI PARKASH DALAL')",
                    "('INLD', 'BHOOP SINGH SHEORAN')",
                    "('JJP', 'ALKA ARYA')",
                    "('AAP', 'GEETA BALA')",
                    "('IND', 'SANDEEP SANJAY BALHARA')",
                    "('IND', 'AMAR SINGH')",
                    "('NOTA', 'NOTA')",
                    "('IND', 'SANJAY')",
                    "('IND', 'RAJBIR S/O MOOLA RAM')",
                    "('IND', 'SAJJAN BHARDWAJ')",
                    "('IND', 'RAJBIR S/O BEGRAJ')",
                    "('IND', 'KRISHAN KUMAR')",
                    "('IND', 'RAJBIR S/O BHARAT SINGH')",
                    "('BJP', 'UMED SINGH')",
                    "('INC', 'SOMVIR SINGH')",
                    "('IND', 'SOMVEER GHASOLA')",
                    "('INLD', 'VIJAY KUMAR')",
                    "('JJP', 'YASHVIR')",
                    "('AAP', 'RAKESH CHANDWAS')",
                    "('NOTA', 'NOTA')",
                    "('IND', 'AJIT')",
                    "('IND', 'SANDEEP')",
                    "('Other', 'MAHENDER JEVALI')",
                    "('IND', 'VIKASH')",
                    "('IND', 'JITENDER SINGH SHEORAIN')",
                    "('IND', 'VIDY NAND')",
                    "('IND', 'DINESH KUMAR')",
                    "('IND', 'CHITAR SINGH')",
                    "('IND', 'ASHOK')",
                    "('BJP', 'SUNIL SATPAL SANGWAN')",
                    "('INC', 'MANISHA SANGWAN')",
                    "('IND', 'SANJAY CHHAPARIA')",
                    "('IND', 'AJIT SINGH')",
                    "('JJP', 'RAJDEEP SINGH')",
                    "('AAP', 'DHAN RAJ SINGH')",
                    "('BSP', 'ANAND SHEORAN')",
                    "('NOTA', 'NOTA')",
                    "('IND', 'NAVEEN YOGI')",
                    "('IND', 'LALIT KUMAR')",
                    "('Other', 'RAJPAL')",
                    "('IND', 'SATENDER SINGH')",
                    "('IND', 'MANJEET')",
                    "('Other', 'VIKRAM SHARMA')",
                    "('IND', 'SUNIL KUMAR')",
                    "('IND', 'ANIL KUMAR')",
                    "('IND', 'ARCHANA')",
                    "('IND', 'HEMANT')",
                    "('IND', 'RAMSHARAN PHOGAT')",
                    "('BJP', 'GHANSHYAM SARAF')",
                    "('CPI(M)', 'OM PRAKASH')",
                    "('AAP', 'INDU')",
                    "('IND', 'ABHIJEET LAL SINGH')",
                    "('IND', 'PRIYA ASIJA')",
                    "('IND', 'RAJEEV')",
                    "('Other', 'PAWAN FOUJI')",
                    "('INLD', 'KARAMBIR YADAV')",
                    "('Other', 'COMRADE RAJ KUMAR')",
                    "('NOTA', 'NOTA')",
                    "('IND', 'SATISH KUMAR')",
                    "('IND', 'RAM KUMAR')",
                    "('IND', 'RAM AVTAR SHARMA')",
                    "('IND', 'DR. PAWAN KUMAR SHARMA')",
                    "('IND', 'MAHABIR BOHRA')",
                    "('IND', 'ANAND KUMAR')",
                    "('IND', 'JOGENDER')",
                    "('IND', 'JAGAT SINGH')",
                    "('IND', 'PANKAJ TAYAL')",
                    "('BJP', 'SHRUTI CHOUDHRY')",
                    "('INC', 'ANIRUDH CHAUDHARY')",
                    "('IND', 'SHASHI RANJAN PARMAR')",
                    "('JJP', 'RAJESH BHARDWAJ')",
                    "('BSP', 'OM SINGH')",
                    "('AAP', 'DALJEET SINGH')",
                    "('NOTA', 'NOTA')",
                    "('IND', 'PUSHPA DEVI')",
                    "('IND', 'RAJNISH KUMAR')",
                    "('Other', 'SUBHASH CHANDER')",
                    "('Other', 'PARDEEP')",
                    "('PPI(D)', 'BABA BALWAN NATH')",
                    "('IND', 'KRISHAN KUMAR')",
                    "('IND', 'BALWAN SINGH')",
                    "('Other', 'VIJENDER SINGH')",
                    "('IND', 'ANIL KUMAR')",
                    "('BJP', 'KAPOOR SINGH')",
                    "('INC', 'PRADEEP NARWAL')",
                    "('IND', 'MASTER SATBIR RATERA')",
                    "('BSP', 'SANDEEP SINGH JANAGAL')",
                    "('JJP', 'GUDDI LANGYAN')",
                    "('AAP', 'DHARAMBIR')",
                    "('NOTA', 'NOTA')",
                    "('IND', 'RAMESH KUMAR')",
                    "('IND', 'RAVITA SATBIR RATERA')",
                    "('AAPP', 'MANJU DHANAK')",
                    "('Other', 'VIKAS')",
                    "('INC', 'BALRAM DANGI')",
                    "('Other', 'BALRAJ KUNDU')",
                    "('IND', 'RADHA AHLAWAT')",
                    "('BJP', 'DEEPAK HOODA')",
                    "('AAP', 'VIKASH NEHRA')",
                    "('IND', 'BALBIR SINGH')",
                    "('BSP', 'HAWA SINGH')",
                    "('NOTA', 'NOTA')",
                    "('Other', 'VISHESH BAMEL')",
                    "('IND', 'MUKESH KUMAR')",
                    "('IND', 'NARESH')",
                    "('AAPP', 'KRISHAN KUMAR')",
                    "('IND', 'MAHENDER SINGH')",
                    "('IND', 'VIKASH')",
                    "('IND', 'JALKARAN BALHARA')",
                    "('IND', 'RANBIR SINGH')",
                    "('PPI(D)', 'KRISHAN')",
                    "('IND', 'NEERAJ')",
                    "('IND', 'KRISHAN')",
                    "('IND', 'DAYA KRISHAN')",
                    "('INC', 'BHUPINDER SINGH HOODA')",
                    "('BJP', 'MANJU')",
                    "('INLD', 'KRISHAN')",
                    "('AAP', 'PARVEEN')",
                    "('JJP', 'SUSHILA DEVI')",
                    "('NOTA', 'NOTA')",
                    "('IND', 'BIJENDER SINGH')",
                    "('IND', 'MUKESH')",
                    "('IND', 'SANJAY')",
                    "('IND', 'AMIT HOODA')",
                    "('INC', 'BHARAT BHUSHAN BATRA')",
                    "('BJP', 'MANISH KUMAR GROVER')",
                    "('AAP', 'BIJENDER HOODA')",
                    "('NOTA', 'NOTA')",
                    "('INLD', 'DILOUR MEHRA')",
                    "('JJP', 'JITENDER BALHARA')",
                    "('Other', 'PARVEEN KUMAR')",
                    "('Other', 'MAHENDER BAGRI')",
                    "('IND', 'BISHAMBER KUMAR')",
                    "('IND', 'BHARAT BHUSHAN')",
                    "('Other', 'MANISHA MOKHRA')",
                    "('IND', 'ASHWANI MALIK')",
                    "('IND', 'YASHPAL')",
                    "('IND', 'ANAND KUMAR')",
                    "('IND', 'NAVDEEP SINGH  RAMAN')",
                    "('IND', 'SURENDER KUMAR')",
                    "('INC', 'SHAKUNTLA KHATAK')",
                    "('BJP', 'RENU DABLA')",
                    "('IND', 'PREM PRADHAN')",
                    "('BSP', 'POONAM NIGANA')",
                    "('JJP', 'MAHENDER SUNDANA')",
                    "('AAP', 'NARESH BAGRI')",
                    "('NOTA', 'NOTA')",
                    "('IND', 'DEEPAK SINGH')",
                    "('Other', 'MANJEET')",
                    "('IND', 'SNEH ARYA')",
                    "('AAPP', 'BABA ISHWAR NATH')",
                    "('PPI(D)', 'OM PARKASH')",
                    "('IND', 'VINOD')",
                    "('NCP', 'RANBIR')",
                    "('IND', 'RAJESH JOON')",
                    "('BJP', 'DINESH KAUSHIK')",
                    "('INC', 'RAJINDER SINGH JOON')",
                    "('INLD', 'SHEELA NAFE SINGH RATHEE')",
                    "('IND', 'RAMESH DALAL')",
                    "('AAP', 'KULDEEP SINGH CHHIKARA')",
                    "('NOTA', 'NOTA')",
                    "('IND', 'RAJESH KUMAR S/O CHATTAR SINGH')",
                    "('IND', 'RAJESH KUMAR S/O RAMDIYA')",
                    "('IND', 'ROHIT KUMAR')",
                    "('IND', 'MAHENDER')",
                    "('IND', 'SUNITA')",
                    "('IND', 'PARVEEN KUMAR')",
                    "('IND', 'ARUN GOYAL')",
                    "('IND', 'CHESTA')",
                    "('INC', 'KULDEEP VATS')",
                    "('BJP', 'OMPRAKASH DHANKAR')",
                    "('IND', 'AJIT GULIA JEETE')",
                    "('AAP', 'HARPAL SINGH')",
                    "('JJP', 'KRISHAN KUMAR')",
                    "('NOTA', 'NOTA')",
                    "('IND', 'SANDEEP')",
                    "('IND', 'AMIT KUMAR')",
                    "('IND', 'VIRENDER SINGH BILU')",
                    "('IND', 'POONAM')",
                    "('INC', 'GEETA BHUKKAL')",
                    "('BJP', 'KAPTAN BIRDHANA')",
                    "('JJP', 'NASEEB SONU')",
                    "('BSP', 'DHARAMBIR SINGH')",
                    "('AAP', 'MAHINDER DAHIYA')",
                    "('NOTA', 'NOTA')",
                    "('Other', 'JAIDEEP')",
                    "('IND', 'SUNIL KUMAR')",
                    "('IND', 'NARENDER SINGH FAUJI')",
                    "('IND', 'RAJAL')",
                    "('IND', 'SATBIR CHUMBAK ADVOCATE')",
                    "('IND', 'SANJAY')",
                    "('INC', 'RAGHUVIR SINGH KADIAN')",
                    "('BJP', 'SANJAY KUMAR')",
                    "('IND', 'AMIT KUMAR')",
                    "('INLD', 'PERMOD')",
                    "('IND', 'INDERJEET SUHAG')",
                    "('AAP', 'SONU')",
                    "('IND', 'GOWARDHAN SINGH')",
                    "('JJP', 'SUNIL')",
                    "('NOTA', 'NOTA')",
                    "('BJP', 'ARTI SINGH RAO')",
                    "('BSP', 'ATTAR LAL')",
                    "('INC', 'ANITA YADAV')",
                    "('JJP', 'AAYUSHI ABHIMANYU RAO')",
                    "('NOTA', 'NOTA')",
                    "('AAP', 'SUNEEL RAO')",
                    "('Other', 'COMRADE OM PARKASH')",
                    "('IND', 'JOGENDER FOUJI')",
                    "('IND', 'SADHNA')",
                    "('BJP', 'KANWAR SINGH')",
                    "('INC', 'RAO DAN SINGH')",
                    "('IND', 'SANDEEP SINGH')",
                    "('INLD', 'SURENDER KAUSHIK')",
                    "('AAP', 'DR. MANISH YADAV')",
                    "('IND', 'BALWAN FAUJI')",
                    "('IND', 'DR. BHUP SINGH YADAV')",
                    "('Other', 'RAKESH SINGH')",
                    "('ASP(KR)', 'SHASHI KUMAR')",
                    "('NOTA', 'NOTA')",
                    "('IND', 'VED PRAKASH')",
                    "('Other', 'VISHNU YADAV')",
                    "('IND', 'PUSHKAR RAJ GUPTA')",
                    "('IND', 'NARENDER KUMAR')",
                    "('BJP', 'OM PRAKASH YADAV')",
                    "('INC', 'RAO NARENDER SINGH')",
                    "('AAP', 'RAVINDER SINGH MATRU')",
                    "('NOTA', 'NOTA')",
                    "('INLD', 'NAR SINGH')",
                    "('JJP', 'SURESH KUMAR SAINI')",
                    "('IND', 'UMAKANT')",
                    "('IND', 'KRISHAN KUMAR')",
                    "('IND', 'KRISHAN KUMAR')",
                    "('Other', 'TEJ PRAKASH')",
                    "('RRP', 'VIKAS')",
                    "('IND', 'SABHARAM')",
                    "('INC', 'MANJU CHOUDHARY')",
                    "('BJP', 'DR. ABHE SINGH YADAV')",
                    "('JJP', 'RAO OM PRAKASH ENGINEER')",
                    "('NOTA', 'NOTA')",
                    "('Other', 'SAGAR CHAUHAN')",
                    "('IND', 'KARTAR SINGH')",
                    "('BJP', 'DR. KRISHAN KUMAR')",
                    "('INC', 'DR. M.L. RANGA')",
                    "('INLD', 'SAMPAT RAM DAHANWAL')",
                    "('AAP', 'JAWAHAR LAL')",
                    "('NOTA', 'NOTA')",
                    "('IND', 'SUNIL KUMAR')",
                    "('IND', 'RAJ NARAYAN')",
                    "('IND', 'MANGAT RAM')",
                    "('IND', 'BALJEET')",
                    "('Other', 'DR. LEKHRAM MEHRA')",
                    "('IND', 'INDER SINGH')",
                    "('BJP', 'ANIL YADAV')",
                    "('INC', 'JAGDISH YADAV')",
                    "('IND', 'MANOJ KOSLIA')",
                    "('NOTA', 'NOTA')",
                    "('IND', 'HARIOM YADAV KOSLIA')",
                    "('BSP', 'RAJ KUMAR')",
                    "('JJP', 'LAVINDER SINGH')",
                    "('IND', 'SANTOSH')",
                    "('Other', 'COMRADE RAMKUMAR NIMOTH')",
                    "('Other', 'SATYAVIR SINGH AMBEDKAR')",
                    "('IND', 'MUKESH KUMAR')",
                    "('IND', 'ARTI RAO')",
                    "('Other', 'TEJPAL YADAV KOSLI')",
                    "('IND', 'KARAMJEET')",
                    "('IND', 'ANIL KUMAR')",
                    "('RRP', 'NAVAL SINGH')",
                    "('Other', 'BHAGIRATH DABLA BOHTWAS')",
                    "('IND', 'INDERJEET')",
                    "('BJP', 'LAXMAN SINGH YADAV')",
                    "('INC', 'CHIRANJEEV RAO')",
                    "('AAP', 'SATISH YADAV')",
                    "('IND', 'PRASHANT SUNNY YADAV')",
                    "('BSP', 'SOMANY VIJAY')",
                    "('NOTA', 'NOTA')",
                    "('IND', 'SHISHUPAL')",
                    "('IND', 'SANJAY SHARMA')",
                    "('ASP(KR)', 'MOKI DEVI')",
                    "('Other', 'RANBIR SINGH')",
                    "('PPI(D)', 'KARTAR SINGH THEKEDAR')",
                    "('IND', 'RAO JITENDER KUMAR')",
                    "('IND', 'OMDUTT YADAV')",
                    "('BJP', 'BIMLA CHAUDHARY')",
                    "('INC', 'PEARL CHOUDHARY')",
                    "('INLD', 'PAWAN KUMAR BHORA')",
                    "('AAP', 'PARDEEP JATAULI')",
                    "('JJP', 'AMARNATH J. E.')",
                    "('NOTA', 'NOTA')",
                    "('IND', 'GURDASS')",
                    "('IND', 'SATYAVIR JANAULA')",
                    "('BJP', 'RAO NARBIR SINGH')",
                    "('INC', 'VARDHAN YADAV')",
                    "('IND', 'KUMUDNI RAKESH DAULTABAD')",
                    "('AAP', 'BIR SINGH BIRU SARPANCH')",
                    "('Other', 'COMRADE BALWAN SINGH')",
                    "('NOTA', 'NOTA')",
                    "('BSP', 'JOGINDER SINGH')",
                    "('JJP', 'SURENDER KUMAR')",
                    "('IND', 'RAVINDER YADAV')",
                    "('IND', 'SATISH')",
                    "('IND', 'RAMBHAGAT YADAV')",
                    "('IND', 'VINOD KUMAR')",
                    "('IND', 'RAKESH BHARDWAJ')",
                    "('Other', 'CHANDERPAL')",
                    "('BJP', 'MUKESH SHARMA')",
                    "('IND', 'NAVEEN GOYAL')",
                    "('INC', 'MOHIT GROVER')",
                    "('AAP', 'DR. NISHANT ANAND')",
                    "('NOTA', 'NOTA')",
                    "('Other', 'ANKIT ALAGH JAN SEWAK')",
                    "('INLD', 'GAURAV BHATI')",
                    "('IND', 'NARESH KUMAR BATRA')",
                    "('IND', 'SUNIL')",
                    "('IND', 'MUKESH SHARMA')",
                    "('IND', 'SANJAY LAL')",
                    "('JJP', 'ASHOK JANGRA')",
                    "('IND', 'MAHABIR SINGH')",
                    "('IND', 'NARENDER KUMAR')",
                    "('IND', 'SOHAN LAL SHARMA')",
                    "('Other', 'JAWAHAR LAL')",
                    "('Other', 'RAJESH SHEORAN')",
                    "('IND', 'AKSHAT GAIT')",
                    "('BJP', 'TEJPAL TANWAR')",
                    "('INC', 'ROHTAS SINGH')",
                    "('IND', 'JAVED AHMED')",
                    "('IND', 'KALYAN SINGH')",
                    "('BSP', 'SUNDER BHADANA')",
                    "('AAP', 'DHARMENDRA KHATANA')",
                    "('ASP(KR)', 'VINESH GUJJAR GHATA')",
                    "('NOTA', 'NOTA')",
                    "('Other', 'ATAULLAH KHAN')",
                    "('IND', 'DAYARAM')",
                    "('IND', 'SUBHASH CHAND')",
                    "('INC', 'AFTAB AHMED')",
                    "('INLD', 'TAHIR HUSSAIN')",
                    "('BJP', 'SANJAY SINGH')",
                    "('JJP', 'BIRENDER')",
                    "('NOTA', 'NOTA')",
                    "('AAP', 'RABIA KIDWAI')",
                    "('Other', 'ANWAR')",
                    "('INC', 'MAMMAN KHAN')",
                    "('BJP', 'NASEEM AHMED')",
                    "('INLD', 'MOHAMMAD HABIB')",
                    "('IND', 'MUMTAJ AHMED')",
                    "('JJP', 'JAAN MOHAMMAD')",
                    "('NOTA', 'NOTA')",
                    "('IND', 'NARENDER KUMAR')",
                    "('AAP', 'WASEEM ZAFFER')",
                    "('IND', 'MOHD. HASHIM')",
                    "('INC', 'MOHAMMAD ILYAS')",
                    "('IND', 'RAHISH KHAN')",
                    "('BJP', 'MOHD AIZAZ KHAN')",
                    "('AAP', 'NAYAB HUSSAIN')",
                    "('ASP(KR)', 'ATAULLAH')",
                    "('NOTA', 'NOTA')",
                    "('INLD', 'DAYA WATI')",
                    "('IND', 'SAJID')",
                    "('INC', 'MOHD ISRAIL')",
                    "('BJP', 'MANOJ KUMAR')",
                    "('INLD', 'TAYUB HUSAIN URF NAZIR AHMED')",
                    "('IND', 'DHARMENDRA TEWATIA')",
                    "('JJP', 'RAVINDER KUMAR')",
                    "('IND', 'KEHAR SINGH')",
                    "('AAP', 'RAJENDRA SINGH RAWAT')",
                    "('NOTA', 'NOTA')",
                    "('IND', 'PRADEEP KUMAR')",
                    "('BJP', 'HARINDER SINGH')",
                    "('INC', 'UDAI BHAN')",
                    "('IND', 'NAVEEN ROHILA')",
                    "('INLD', 'SUNIL KUMAR')",
                    "('IND', 'SUNITA SOROUT')",
                    "('NOTA', 'NOTA')",
                    "('AAP', 'MANOHAR')",
                    "('JJP', 'SATVEER')",
                    "('IND', 'USHMA DEVI')",
                    "('IND', 'NEERAJ SOUROT')",
                    "('IND', 'YASHVEER')",
                    "('IND', 'RAJNI')",
                    "('IND', 'KULDEEP KUMAR')",
                    "('BJP', 'GAURAV GAUTAM')",
                    "('INC', 'KARAN SINGH DALAL')",
                    "('ASP(KR)', 'HARIT KUMAR')",
                    "('BSP', 'ABHISHEK DESHWAL')",
                    "('IND', 'SHIV DUTT')",
                    "('AAP', 'DHARMENDER SINGH')",
                    "('NOTA', 'NOTA')",
                    "('IND', 'SUNIL KUMAR')",
                    "('IND', 'MAMTA SOLANKI')",
                    "('IND', 'GIRRAJ')",
                    "('ABSP', 'SATBIR SINGH')",
                    "('Other', 'RAMPAL')",
                    "('Other', 'GOPAL DUTT')",
                    "('Other', 'PANCH LAL PRASAD')",
                    "('INC', 'RAGHUBIR TEWATIA')",
                    "('BJP', 'TEK CHAND SHARMA')",
                    "('IND', 'NAYANPAL RAWAT')",
                    "('IND', 'DEEPAK DAGAR')",
                    "('BSP', 'SURENDER VASHISHT')",
                    "('IND', 'ABDUT NATH')",
                    "('IND', 'BIJENDER SINGH ADVOCATE')",
                    "('AAP', 'KAUSHAL TATARPUR')",
                    "('NOTA', 'NOTA')",
                    "('IND', 'RAHUL')",
                    "('Other', 'MUKESH')",
                    "('IND', 'SAMEY SINGH')",
                    "('ASP(KR)', 'GIRIRAJ JATOLA')",
                    "('IND', 'JITENDER KUMAR')",
                    "('BJP', 'SATISH KUMAR PHAGNA')",
                    "('INC', 'NEERAJ SHARMA')",
                    "('INLD', 'NAGENDER BHADANA')",
                    "('JJP', 'HAJI KARAMAT ALI')",
                    "('AAP', 'RAVI DAGAR')",
                    "('NOTA', 'NOTA')",
                    "('Other', 'DHEERAJ KUMAR')",
                    "('IND', 'RAJKUMAR')",
                    "('IND', 'JITENDER KUMAR')",
                    "('Other', 'VINOD SINGH')",
                    "('IND', 'RAVINDER GUPTA')",
                    "('Other', 'MANISH')",
                    "('IND', 'RANJOT')",
                    "('Other', 'RAM PARTAP GAUR')",
                    "('BJP', 'DHANESH ADLAKHA')",
                    "('INC', 'VIJAY PRATAP SINGH')",
                    "('BSP', 'MANOJ CHOUDHARY')",
                    "('AAP', 'OM PRAKASH VERMA')",
                    "('NOTA', 'NOTA')",
                    "('JJP', 'PARVINDER SINGH')",
                    "('Other', 'KAMAL BALI')",
                    "('Other', 'PREM CHAND GAUR')",
                    "('IND', 'BAKIL AKHTAR')",
                    "('IND', 'AABID KHAN')",
                    "('BJP', 'MOOL CHAND SHARMA')",
                    "('IND', 'SHARDA RATHORE')",
                    "('IND', 'RAO RAM KUMAR')",
                    "('INC', 'SMT. PARAG SHARMA')",
                    "('AAP', 'RAVINDRA FAUJDAR')",
                    "('NOTA', 'NOTA')",
                    "('IND', 'VANDANA SINGH')",
                    "('IND', 'ADVOCATE BRAHMA PRAKASH')",
                    "('Other', 'ATUL')",
                    "('BJP', 'VIPUL GOEL')",
                    "('INC', 'LAKHAN KUMAR SINGLA')",
                    "('NOTA', 'NOTA')",
                    "('AAP', 'PRAVESH MEHTA')",
                    "('INLD', 'NARENDER PAL SINGH BAGHEL')",
                    "('IND', 'VIJAY KRISHAN')",
                    "('IND', 'ADARSH BALYAN')",
                    "('IND', 'RAKESH KAPIL DAGAR')",
                    "('IND', 'MANOJ DUREJA')",
                    "('BJP', 'RAJESH NAGAR')",
                    "('IND', 'LALIT NAGAR S/O LATE BHARAT SINGH NAGAR')",
                    "('INC', 'ROHIT NAGAR')",
                    "('IND', 'GIRRAJ SHARMA')",
                    "('AAP', 'ABHASH CHANDELA')",
                    "('Other', 'SHIV NARAYAN DUBEY')",
                    "('BSP', 'LAL CHAND SHARMA')",
                    "('NOTA', 'NOTA')",
                    "('Other', 'SOMESHWAR SINGH')",
                    "('IND', 'LALIT NAGAR S/O VIJAY PAL')",
                    "('JJP', 'TIKA RAM')",
                    "('IND', 'SANDEEP MEHTA')",
                    "('Other', 'RAM BAHADUR')",
                    "('IND', 'PUNDIT SUBHASH CHANDRA DUBEY GORAKHPURI')"
                  ],
                  "marker": {
                    "color": [
                      "#FF9933",
                      "#19AAED",
                      "#DCDCDC",
                      "#22409A",
                      "#0072B0",
                      "#FFFFFF",
                      "#DCDCDC",
                      "#DCDCDC",
                      "#19AAED",
                      "#FF9933",
                      "#0072B0",
                      "#336600",
                      "#026D37",
                      "#FFFFFF",
                      "#DCDCDC",
                      "#DCDCDC",
                      "#DCDCDC",
                      "#000000",
                      "#000000",
                      "#19AAED",
                      "#FF9933",
                      "#22409A",
                      "#0072B0",
                      "#FFFFFF",
                      "#DCDCDC",
                      "#000000",
                      "#DCDCDC",
                      "#FF9933",
                      "#DCDCDC",
                      "#19AAED",
                      "#336600",
                      "#026D37",
                      "#DCDCDC",
                      "#FFFFFF",
                      "#0072B0",
                      "#000000",
                      "#DCDCDC",
                      "#DCDCDC",
                      "#DCDCDC",
                      "#19AAED",
                      "#FF9933",
                      "#003597",
                      "#0072B0",
                      "#FFFFFF",
                      "#22409A",
                      "#DCDCDC",
                      "#DCDCDC",
                      "#DCDCDC",
                      "#DCDCDC",
                      "#DCDCDC",
                      "#DCDCDC",
                      "#19AAED",
                      "#FF9933",
                      "#336600",
                      "#026D37",
                      "#DCDCDC",
                      "#0072B0",
                      "#DCDCDC",
                      "#000000",
                      "#FFFFFF",
                      "#DCDCDC",
                      "#DCDCDC",
                      "#19AAED",
                      "#FF9933",
                      "#22409A",
                      "#003597",
                      "#0072B0",
                      "#FFFFFF",
                      "#DCDCDC",
                      "#000000",
                      "#000000",
                      "#DCDCDC",
                      "#19AAED",
                      "#FF9933",
                      "#0072B0",
                      "#22409A",
                      "#003597",
                      "#FFFFFF",
                      "#DCDCDC",
                      "#000000",
                      "#DCDCDC",
                      "#DCDCDC",
                      "#000000",
                      "#DCDCDC",
                      "#FF9933",
                      "#19AAED",
                      "#336600",
                      "#0072B0",
                      "#FFFFFF",
                      "#026D37",
                      "#DCDCDC",
                      "#000000",
                      "#000000",
                      "#DCDCDC",
                      "#000000",
                      "#FF9933",
                      "#19AAED",
                      "#22409A",
                      "#0072B0",
                      "#003597",
                      "#000000",
                      "#FFFFFF",
                      "#DCDCDC",
                      "#000000",
                      "#DCDCDC",
                      "#DCDCDC",
                      "#FF9933",
                      "#19AAED",
                      "#DCDCDC",
                      "#336600",
                      "#DCDCDC",
                      "#0072B0",
                      "#DCDCDC",
                      "#DCDCDC",
                      "#DCDCDC",
                      "#FFFFFF",
                      "#026D37",
                      "#000000",
                      "#000000",
                      "#DCDCDC",
                      "#000000",
                      "#000000",
                      "#DCDCDC",
                      "#19AAED",
                      "#FF9933",
                      "#22409A",
                      "#000000",
                      "#0072B0",
                      "#FFFFFF",
                      "#026D37",
                      "#DCDCDC",
                      "#DCDCDC",
                      "#DCDCDC",
                      "#19AAED",
                      "#FF9933",
                      "#0072B0",
                      "#22409A",
                      "#FFFFFF",
                      "#026D37",
                      "#DCDCDC",
                      "#000000",
                      "#DCDCDC",
                      "#DCDCDC",
                      "#19AAED",
                      "#FF9933",
                      "#336600",
                      "#026D37",
                      "#000000",
                      "#0072B0",
                      "#DCDCDC",
                      "#FFFFFF",
                      "#DCDCDC",
                      "#000000",
                      "#19AAED",
                      "#FF9933",
                      "#DCDCDC",
                      "#026D37",
                      "#0072B0",
                      "#336600",
                      "#DCDCDC",
                      "#FFFFFF",
                      "#000000",
                      "#000000",
                      "#19AAED",
                      "#FF9933",
                      "#DCDCDC",
                      "#336600",
                      "#DCDCDC",
                      "#DCDCDC",
                      "#0072B0",
                      "#DCDCDC",
                      "#026D37",
                      "#FFFFFF",
                      "#DCDCDC",
                      "#DCDCDC",
                      "#DCDCDC",
                      "#DCDCDC",
                      "#DCDCDC",
                      "#19AAED",
                      "#FF9933",
                      "#22409A",
                      "#026D37",
                      "#0072B0",
                      "#FFFFFF",
                      "#DCDCDC",
                      "#DCDCDC",
                      "#DCDCDC",
                      "#DCDCDC",
                      "#DCDCDC",
                      "#DCDCDC",
                      "#DCDCDC",
                      "#FF9933",
                      "#DCDCDC",
                      "#19AAED",
                      "#DCDCDC",
                      "#DCDCDC",
                      "#22409A",
                      "#DCDCDC",
                      "#0072B0",
                      "#DCDCDC",
                      "#DCDCDC",
                      "#DCDCDC",
                      "#DCDCDC",
                      "#000000",
                      "#FFFFFF",
                      "#DCDCDC",
                      "#DCDCDC",
                      "#DCDCDC",
                      "#000000",
                      "#DCDCDC",
                      "#FF9933",
                      "#19AAED",
                      "#DCDCDC",
                      "#336600",
                      "#000000",
                      "#0072B0",
                      "#DCDCDC",
                      "#003597",
                      "#FFFFFF",
                      "#DCDCDC",
                      "#DCDCDC",
                      "#DCDCDC",
                      "#DCDCDC",
                      "#DCDCDC",
                      "#DCDCDC",
                      "#000000",
                      "#FF9933",
                      "#19AAED",
                      "#22409A",
                      "#0072B0",
                      "#026D37",
                      "#FFFFFF",
                      "#000000",
                      "#FF9933",
                      "#19AAED",
                      "#0072B0",
                      "#336600",
                      "#FFFFFF",
                      "#026D37",
                      "#DCDCDC",
                      "#DCDCDC",
                      "#DCDCDC",
                      "#000000",
                      "#000000",
                      "#DCDCDC",
                      "#DCDCDC",
                      "#FF9933",
                      "#19AAED",
                      "#336600",
                      "#0072B0",
                      "#000000",
                      "#026D37",
                      "#FFFFFF",
                      "#DCDCDC",
                      "#DCDCDC",
                      "#FF9933",
                      "#19AAED",
                      "#22409A",
                      "#DCDCDC",
                      "#0072B0",
                      "#000000",
                      "#DCDCDC",
                      "#DCDCDC",
                      "#DCDCDC",
                      "#000000",
                      "#000000",
                      "#FFFFFF",
                      "#DCDCDC",
                      "#DCDCDC",
                      "#DCDCDC",
                      "#FF9933",
                      "#19AAED",
                      "#DCDCDC",
                      "#0072B0",
                      "#22409A",
                      "#FFFFFF",
                      "#000000",
                      "#026D37",
                      "#DCDCDC",
                      "#DCDCDC",
                      "#DCDCDC",
                      "#DCDCDC",
                      "#FF9933",
                      "#19AAED",
                      "#DCDCDC",
                      "#0072B0",
                      "#FFFFFF",
                      "#22409A",
                      "#DCDCDC",
                      "#DCDCDC",
                      "#DCDCDC",
                      "#DCDCDC",
                      "#DCDCDC",
                      "#000000",
                      "#FF9933",
                      "#19AAED",
                      "#DCDCDC",
                      "#DCDCDC",
                      "#336600",
                      "#0072B0",
                      "#026D37",
                      "#FFFFFF",
                      "#FF9933",
                      "#19AAED",
                      "#DCDCDC",
                      "#336600",
                      "#0072B0",
                      "#026D37",
                      "#FFFFFF",
                      "#DCDCDC",
                      "#DCDCDC",
                      "#19AAED",
                      "#FF9933",
                      "#DCDCDC",
                      "#22409A",
                      "#026D37",
                      "#DCDCDC",
                      "#DCDCDC",
                      "#FFFFFF",
                      "#0072B0",
                      "#DCDCDC",
                      "#DCDCDC",
                      "#FF9933",
                      "#19AAED",
                      "#DCDCDC",
                      "#336600",
                      "#DCDCDC",
                      "#FFFFFF",
                      "#DCDCDC",
                      "#026D37",
                      "#0072B0",
                      "#000000",
                      "#000000",
                      "#DCDCDC",
                      "#DCDCDC",
                      "#000000",
                      "#DCDCDC",
                      "#FF9933",
                      "#19AAED",
                      "#336600",
                      "#0072B0",
                      "#FFFFFF",
                      "#026D37",
                      "#000000",
                      "#DCDCDC",
                      "#DCDCDC",
                      "#000000",
                      "#000000",
                      "#FF9933",
                      "#19AAED",
                      "#0072B0",
                      "#336600",
                      "#CB0922",
                      "#FFFFFF",
                      "#000000",
                      "#003597",
                      "#DCDCDC",
                      "#DCDCDC",
                      "#000000",
                      "#000000",
                      "#DCDCDC",
                      "#FF9933",
                      "#19AAED",
                      "#DCDCDC",
                      "#DCDCDC",
                      "#0072B0",
                      "#22409A",
                      "#026D37",
                      "#FFFFFF",
                      "#DCDCDC",
                      "#DCDCDC",
                      "#DCDCDC",
                      "#DCDCDC",
                      "#19AAED",
                      "#DCDCDC",
                      "#FF9933",
                      "#22409A",
                      "#0072B0",
                      "#026D37",
                      "#FFFFFF",
                      "#DCDCDC",
                      "#19AAED",
                      "#FF9933",
                      "#336600",
                      "#026D37",
                      "#0072B0",
                      "#FFFFFF",
                      "#DCDCDC",
                      "#DCDCDC",
                      "#DCDCDC",
                      "#DCDCDC",
                      "#DCDCDC",
                      "#000000",
                      "#DCDCDC",
                      "#FF9933",
                      "#19AAED",
                      "#DCDCDC",
                      "#DCDCDC",
                      "#22409A",
                      "#026D37",
                      "#DCDCDC",
                      "#000000",
                      "#DCDCDC",
                      "#DCDCDC",
                      "#0072B0",
                      "#DCDCDC",
                      "#FFFFFF",
                      "#DCDCDC",
                      "#000000",
                      "#DCDCDC",
                      "#DCDCDC",
                      "#DCDCDC",
                      "#FF9933",
                      "#19AAED",
                      "#DCDCDC",
                      "#0072B0",
                      "#336600",
                      "#026D37",
                      "#FFFFFF",
                      "#DCDCDC",
                      "#DCDCDC",
                      "#DCDCDC",
                      "#DCDCDC",
                      "#DCDCDC",
                      "#DCDCDC",
                      "#DCDCDC",
                      "#FF9933",
                      "#19AAED",
                      "#DCDCDC",
                      "#DCDCDC",
                      "#026D37",
                      "#DCDCDC",
                      "#336600",
                      "#0072B0",
                      "#DCDCDC",
                      "#000000",
                      "#DCDCDC",
                      "#DCDCDC",
                      "#DCDCDC",
                      "#DCDCDC",
                      "#000000",
                      "#DCDCDC",
                      "#FFFFFF",
                      "#DCDCDC",
                      "#DCDCDC",
                      "#DCDCDC",
                      "#DCDCDC",
                      "#FF9933",
                      "#19AAED",
                      "#336600",
                      "#0072B0",
                      "#026D37",
                      "#CB0922",
                      "#DCDCDC",
                      "#FFFFFF",
                      "#DCDCDC",
                      "#000000",
                      "#DCDCDC",
                      "#19AAED",
                      "#FF9933",
                      "#336600",
                      "#0072B0",
                      "#FFFFFF",
                      "#026D37",
                      "#DCDCDC",
                      "#DCDCDC",
                      "#DCDCDC",
                      "#DCDCDC",
                      "#DCDCDC",
                      "#DCDCDC",
                      "#DCDCDC",
                      "#19AAED",
                      "#FF9933",
                      "#336600",
                      "#DCDCDC",
                      "#026D37",
                      "#0072B0",
                      "#FFFFFF",
                      "#DCDCDC",
                      "#DCDCDC",
                      "#DCDCDC",
                      "#000000",
                      "#DCDCDC",
                      "#DCDCDC",
                      "#000000",
                      "#DCDCDC",
                      "#DCDCDC",
                      "#DCDCDC",
                      "#DCDCDC",
                      "#DCDCDC",
                      "#19AAED",
                      "#FF9933",
                      "#336600",
                      "#0072B0",
                      "#FFFFFF",
                      "#026D37",
                      "#DCDCDC",
                      "#000000",
                      "#DCDCDC",
                      "#DCDCDC",
                      "#DCDCDC",
                      "#19AAED",
                      "#FF9933",
                      "#336600",
                      "#0072B0",
                      "#026D37",
                      "#FFFFFF",
                      "#336600",
                      "#19AAED",
                      "#026D37",
                      "#FF9933",
                      "#0072B0",
                      "#FFFFFF",
                      "#DCDCDC",
                      "#DCDCDC",
                      "#DCDCDC",
                      "#DCDCDC",
                      "#000000",
                      "#000000",
                      "#DCDCDC",
                      "#336600",
                      "#19AAED",
                      "#DCDCDC",
                      "#FF9933",
                      "#0072B0",
                      "#DCDCDC",
                      "#FFFFFF",
                      "#000000",
                      "#DCDCDC",
                      "#DCDCDC",
                      "#DCDCDC",
                      "#DCDCDC",
                      "#000000",
                      "#000000",
                      "#DCDCDC",
                      "#19AAED",
                      "#000000",
                      "#026D37",
                      "#DCDCDC",
                      "#FFFFFF",
                      "#0072B0",
                      "#DCDCDC",
                      "#DCDCDC",
                      "#DCDCDC",
                      "#000000",
                      "#000000",
                      "#DCDCDC",
                      "#000000",
                      "#DCDCDC",
                      "#19AAED",
                      "#336600",
                      "#FF9933",
                      "#026D37",
                      "#0072B0",
                      "#FFFFFF",
                      "#DCDCDC",
                      "#000000",
                      "#DCDCDC",
                      "#DCDCDC",
                      "#000000",
                      "#19AAED",
                      "#FF9933",
                      "#336600",
                      "#0072B0",
                      "#026D37",
                      "#FFFFFF",
                      "#DCDCDC",
                      "#DCDCDC",
                      "#DCDCDC",
                      "#DCDCDC",
                      "#DCDCDC",
                      "#000000",
                      "#DCDCDC",
                      "#19AAED",
                      "#FF9933",
                      "#336600",
                      "#0072B0",
                      "#026D37",
                      "#FFFFFF",
                      "#000000",
                      "#DCDCDC",
                      "#19AAED",
                      "#FF9933",
                      "#336600",
                      "#0072B0",
                      "#026D37",
                      "#FFFFFF",
                      "#DCDCDC",
                      "#DCDCDC",
                      "#DCDCDC",
                      "#000000",
                      "#DCDCDC",
                      "#DCDCDC",
                      "#DCDCDC",
                      "#000000",
                      "#DCDCDC",
                      "#FF9933",
                      "#19AAED",
                      "#0072B0",
                      "#22409A",
                      "#026D37",
                      "#FFFFFF",
                      "#DCDCDC",
                      "#DCDCDC",
                      "#DCDCDC",
                      "#DCDCDC",
                      "#DCDCDC",
                      "#000000",
                      "#DCDCDC",
                      "#DCDCDC",
                      "#FF9933",
                      "#19AAED",
                      "#336600",
                      "#0072B0",
                      "#026D37",
                      "#FFFFFF",
                      "#000000",
                      "#DCDCDC",
                      "#DCDCDC",
                      "#DCDCDC",
                      "#DCDCDC",
                      "#19AAED",
                      "#FF9933",
                      "#DCDCDC",
                      "#DCDCDC",
                      "#0072B0",
                      "#DCDCDC",
                      "#DCDCDC",
                      "#336600",
                      "#026D37",
                      "#FFFFFF",
                      "#DCDCDC",
                      "#DCDCDC",
                      "#DCDCDC",
                      "#000000",
                      "#DCDCDC",
                      "#DCDCDC",
                      "#DCDCDC",
                      "#DCDCDC",
                      "#DCDCDC",
                      "#000000",
                      "#DCDCDC",
                      "#FF9933",
                      "#19AAED",
                      "#026D37",
                      "#22409A",
                      "#0072B0",
                      "#FFFFFF",
                      "#DCDCDC",
                      "#DCDCDC",
                      "#DCDCDC",
                      "#DCDCDC",
                      "#DCDCDC",
                      "#DCDCDC",
                      "#000000",
                      "#DCDCDC",
                      "#19AAED",
                      "#FF9933",
                      "#336600",
                      "#026D37",
                      "#0072B0",
                      "#DCDCDC",
                      "#DCDCDC",
                      "#FFFFFF",
                      "#DCDCDC",
                      "#DCDCDC",
                      "#DCDCDC",
                      "#DCDCDC",
                      "#DCDCDC",
                      "#DCDCDC",
                      "#FF9933",
                      "#19AAED",
                      "#DCDCDC",
                      "#336600",
                      "#026D37",
                      "#0072B0",
                      "#FFFFFF",
                      "#DCDCDC",
                      "#DCDCDC",
                      "#000000",
                      "#DCDCDC",
                      "#DCDCDC",
                      "#DCDCDC",
                      "#DCDCDC",
                      "#DCDCDC",
                      "#DCDCDC",
                      "#FF9933",
                      "#19AAED",
                      "#DCDCDC",
                      "#DCDCDC",
                      "#026D37",
                      "#0072B0",
                      "#22409A",
                      "#FFFFFF",
                      "#DCDCDC",
                      "#DCDCDC",
                      "#000000",
                      "#DCDCDC",
                      "#DCDCDC",
                      "#000000",
                      "#DCDCDC",
                      "#DCDCDC",
                      "#DCDCDC",
                      "#DCDCDC",
                      "#DCDCDC",
                      "#FF9933",
                      "#CC0D0D",
                      "#0072B0",
                      "#DCDCDC",
                      "#DCDCDC",
                      "#DCDCDC",
                      "#000000",
                      "#336600",
                      "#000000",
                      "#FFFFFF",
                      "#DCDCDC",
                      "#DCDCDC",
                      "#DCDCDC",
                      "#DCDCDC",
                      "#DCDCDC",
                      "#DCDCDC",
                      "#DCDCDC",
                      "#DCDCDC",
                      "#DCDCDC",
                      "#FF9933",
                      "#19AAED",
                      "#DCDCDC",
                      "#026D37",
                      "#22409A",
                      "#0072B0",
                      "#FFFFFF",
                      "#DCDCDC",
                      "#DCDCDC",
                      "#000000",
                      "#000000",
                      "#000000",
                      "#DCDCDC",
                      "#DCDCDC",
                      "#000000",
                      "#DCDCDC",
                      "#FF9933",
                      "#19AAED",
                      "#DCDCDC",
                      "#22409A",
                      "#026D37",
                      "#0072B0",
                      "#FFFFFF",
                      "#DCDCDC",
                      "#DCDCDC",
                      "#000000",
                      "#000000",
                      "#19AAED",
                      "#000000",
                      "#DCDCDC",
                      "#FF9933",
                      "#0072B0",
                      "#DCDCDC",
                      "#22409A",
                      "#FFFFFF",
                      "#000000",
                      "#DCDCDC",
                      "#DCDCDC",
                      "#000000",
                      "#DCDCDC",
                      "#DCDCDC",
                      "#DCDCDC",
                      "#DCDCDC",
                      "#000000",
                      "#DCDCDC",
                      "#DCDCDC",
                      "#DCDCDC",
                      "#19AAED",
                      "#FF9933",
                      "#336600",
                      "#0072B0",
                      "#026D37",
                      "#FFFFFF",
                      "#DCDCDC",
                      "#DCDCDC",
                      "#DCDCDC",
                      "#DCDCDC",
                      "#19AAED",
                      "#FF9933",
                      "#0072B0",
                      "#FFFFFF",
                      "#336600",
                      "#026D37",
                      "#000000",
                      "#000000",
                      "#DCDCDC",
                      "#DCDCDC",
                      "#000000",
                      "#DCDCDC",
                      "#DCDCDC",
                      "#DCDCDC",
                      "#DCDCDC",
                      "#DCDCDC",
                      "#19AAED",
                      "#FF9933",
                      "#DCDCDC",
                      "#22409A",
                      "#026D37",
                      "#0072B0",
                      "#FFFFFF",
                      "#DCDCDC",
                      "#000000",
                      "#DCDCDC",
                      "#000000",
                      "#000000",
                      "#DCDCDC",
                      "#00B2B2",
                      "#DCDCDC",
                      "#FF9933",
                      "#19AAED",
                      "#336600",
                      "#DCDCDC",
                      "#0072B0",
                      "#FFFFFF",
                      "#DCDCDC",
                      "#DCDCDC",
                      "#DCDCDC",
                      "#DCDCDC",
                      "#DCDCDC",
                      "#DCDCDC",
                      "#DCDCDC",
                      "#DCDCDC",
                      "#19AAED",
                      "#FF9933",
                      "#DCDCDC",
                      "#0072B0",
                      "#026D37",
                      "#FFFFFF",
                      "#DCDCDC",
                      "#DCDCDC",
                      "#DCDCDC",
                      "#DCDCDC",
                      "#19AAED",
                      "#FF9933",
                      "#026D37",
                      "#22409A",
                      "#0072B0",
                      "#FFFFFF",
                      "#000000",
                      "#DCDCDC",
                      "#DCDCDC",
                      "#DCDCDC",
                      "#DCDCDC",
                      "#DCDCDC",
                      "#19AAED",
                      "#FF9933",
                      "#DCDCDC",
                      "#336600",
                      "#DCDCDC",
                      "#0072B0",
                      "#DCDCDC",
                      "#026D37",
                      "#FFFFFF",
                      "#FF9933",
                      "#22409A",
                      "#19AAED",
                      "#026D37",
                      "#FFFFFF",
                      "#0072B0",
                      "#000000",
                      "#DCDCDC",
                      "#DCDCDC",
                      "#FF9933",
                      "#19AAED",
                      "#DCDCDC",
                      "#336600",
                      "#0072B0",
                      "#DCDCDC",
                      "#DCDCDC",
                      "#000000",
                      "#003597",
                      "#FFFFFF",
                      "#DCDCDC",
                      "#000000",
                      "#DCDCDC",
                      "#DCDCDC",
                      "#FF9933",
                      "#19AAED",
                      "#0072B0",
                      "#FFFFFF",
                      "#336600",
                      "#026D37",
                      "#DCDCDC",
                      "#DCDCDC",
                      "#DCDCDC",
                      "#000000",
                      "#000000",
                      "#DCDCDC",
                      "#19AAED",
                      "#FF9933",
                      "#026D37",
                      "#FFFFFF",
                      "#000000",
                      "#DCDCDC",
                      "#FF9933",
                      "#19AAED",
                      "#336600",
                      "#0072B0",
                      "#FFFFFF",
                      "#DCDCDC",
                      "#DCDCDC",
                      "#DCDCDC",
                      "#DCDCDC",
                      "#000000",
                      "#DCDCDC",
                      "#FF9933",
                      "#19AAED",
                      "#DCDCDC",
                      "#FFFFFF",
                      "#DCDCDC",
                      "#22409A",
                      "#026D37",
                      "#DCDCDC",
                      "#000000",
                      "#000000",
                      "#DCDCDC",
                      "#DCDCDC",
                      "#000000",
                      "#DCDCDC",
                      "#DCDCDC",
                      "#000000",
                      "#000000",
                      "#DCDCDC",
                      "#FF9933",
                      "#19AAED",
                      "#0072B0",
                      "#DCDCDC",
                      "#22409A",
                      "#FFFFFF",
                      "#DCDCDC",
                      "#DCDCDC",
                      "#003597",
                      "#000000",
                      "#000000",
                      "#DCDCDC",
                      "#DCDCDC",
                      "#FF9933",
                      "#19AAED",
                      "#336600",
                      "#0072B0",
                      "#026D37",
                      "#FFFFFF",
                      "#DCDCDC",
                      "#DCDCDC",
                      "#FF9933",
                      "#19AAED",
                      "#DCDCDC",
                      "#0072B0",
                      "#000000",
                      "#FFFFFF",
                      "#22409A",
                      "#026D37",
                      "#DCDCDC",
                      "#DCDCDC",
                      "#DCDCDC",
                      "#DCDCDC",
                      "#DCDCDC",
                      "#000000",
                      "#FF9933",
                      "#DCDCDC",
                      "#19AAED",
                      "#0072B0",
                      "#FFFFFF",
                      "#000000",
                      "#336600",
                      "#DCDCDC",
                      "#DCDCDC",
                      "#DCDCDC",
                      "#DCDCDC",
                      "#026D37",
                      "#DCDCDC",
                      "#DCDCDC",
                      "#DCDCDC",
                      "#000000",
                      "#000000",
                      "#DCDCDC",
                      "#FF9933",
                      "#19AAED",
                      "#DCDCDC",
                      "#DCDCDC",
                      "#22409A",
                      "#0072B0",
                      "#003597",
                      "#FFFFFF",
                      "#000000",
                      "#DCDCDC",
                      "#DCDCDC",
                      "#19AAED",
                      "#336600",
                      "#FF9933",
                      "#026D37",
                      "#FFFFFF",
                      "#0072B0",
                      "#000000",
                      "#19AAED",
                      "#FF9933",
                      "#336600",
                      "#DCDCDC",
                      "#026D37",
                      "#FFFFFF",
                      "#DCDCDC",
                      "#0072B0",
                      "#DCDCDC",
                      "#19AAED",
                      "#DCDCDC",
                      "#FF9933",
                      "#0072B0",
                      "#003597",
                      "#FFFFFF",
                      "#336600",
                      "#DCDCDC",
                      "#19AAED",
                      "#FF9933",
                      "#336600",
                      "#DCDCDC",
                      "#026D37",
                      "#DCDCDC",
                      "#0072B0",
                      "#FFFFFF",
                      "#DCDCDC",
                      "#FF9933",
                      "#19AAED",
                      "#DCDCDC",
                      "#336600",
                      "#DCDCDC",
                      "#FFFFFF",
                      "#0072B0",
                      "#026D37",
                      "#DCDCDC",
                      "#DCDCDC",
                      "#DCDCDC",
                      "#DCDCDC",
                      "#DCDCDC",
                      "#FF9933",
                      "#19AAED",
                      "#003597",
                      "#22409A",
                      "#DCDCDC",
                      "#0072B0",
                      "#FFFFFF",
                      "#DCDCDC",
                      "#DCDCDC",
                      "#DCDCDC",
                      "#000000",
                      "#000000",
                      "#000000",
                      "#000000",
                      "#19AAED",
                      "#FF9933",
                      "#DCDCDC",
                      "#DCDCDC",
                      "#22409A",
                      "#DCDCDC",
                      "#DCDCDC",
                      "#0072B0",
                      "#FFFFFF",
                      "#DCDCDC",
                      "#000000",
                      "#DCDCDC",
                      "#003597",
                      "#DCDCDC",
                      "#FF9933",
                      "#19AAED",
                      "#336600",
                      "#026D37",
                      "#0072B0",
                      "#FFFFFF",
                      "#000000",
                      "#DCDCDC",
                      "#DCDCDC",
                      "#000000",
                      "#DCDCDC",
                      "#000000",
                      "#DCDCDC",
                      "#000000",
                      "#FF9933",
                      "#19AAED",
                      "#22409A",
                      "#0072B0",
                      "#FFFFFF",
                      "#026D37",
                      "#000000",
                      "#000000",
                      "#DCDCDC",
                      "#DCDCDC",
                      "#FF9933",
                      "#DCDCDC",
                      "#DCDCDC",
                      "#19AAED",
                      "#0072B0",
                      "#FFFFFF",
                      "#DCDCDC",
                      "#DCDCDC",
                      "#000000",
                      "#FF9933",
                      "#19AAED",
                      "#FFFFFF",
                      "#0072B0",
                      "#336600",
                      "#DCDCDC",
                      "#DCDCDC",
                      "#DCDCDC",
                      "#DCDCDC",
                      "#FF9933",
                      "#DCDCDC",
                      "#19AAED",
                      "#DCDCDC",
                      "#0072B0",
                      "#000000",
                      "#22409A",
                      "#FFFFFF",
                      "#000000",
                      "#DCDCDC",
                      "#026D37",
                      "#DCDCDC",
                      "#000000",
                      "#DCDCDC"
                    ]
                  },
                  "name": "",
                  "orientation": "h",
                  "type": "bar",
                  "x": [
                    60612,
                    49729,
                    31688,
                    1374,
                    858,
                    740,
                    582,
                    377,
                    67397,
                    65400,
                    3332,
                    1375,
                    1153,
                    987,
                    305,
                    235,
                    150,
                    110,
                    58,
                    62180,
                    47086,
                    27440,
                    3261,
                    410,
                    316,
                    299,
                    297,
                    59858,
                    52581,
                    14469,
                    2863,
                    809,
                    764,
                    641,
                    524,
                    334,
                    234,
                    146,
                    100,
                    84475,
                    73344,
                    2423,
                    1492,
                    1371,
                    1305,
                    629,
                    166,
                    138,
                    137,
                    124,
                    97,
                    79089,
                    66224,
                    8096,
                    1566,
                    1193,
                    1071,
                    699,
                    658,
                    480,
                    465,
                    296,
                    57534,
                    55835,
                    53496,
                    4467,
                    938,
                    605,
                    437,
                    335,
                    291,
                    212,
                    67403,
                    60535,
                    43813,
                    6436,
                    2684,
                    749,
                    398,
                    310,
                    275,
                    166,
                    149,
                    114,
                    73185,
                    50748,
                    36067,
                    1655,
                    735,
                    494,
                    278,
                    246,
                    234,
                    229,
                    142,
                    73348,
                    60216,
                    11182,
                    3245,
                    2959,
                    606,
                    538,
                    312,
                    261,
                    177,
                    174,
                    70177,
                    54123,
                    11191,
                    7439,
                    2262,
                    632,
                    611,
                    415,
                    265,
                    211,
                    205,
                    144,
                    133,
                    100,
                    69,
                    48,
                    43,
                    61050,
                    54609,
                    1638,
                    1333,
                    932,
                    438,
                    431,
                    358,
                    235,
                    185,
                    70076,
                    66833,
                    2948,
                    1709,
                    798,
                    385,
                    159,
                    141,
                    92,
                    71,
                    64548,
                    57995,
                    1772,
                    1253,
                    1170,
                    890,
                    395,
                    306,
                    166,
                    107,
                    64611,
                    41731,
                    12437,
                    5768,
                    4540,
                    2409,
                    1051,
                    702,
                    399,
                    228,
                    48142,
                    34723,
                    25302,
                    18850,
                    14508,
                    5859,
                    5482,
                    3691,
                    2154,
                    393,
                    312,
                    309,
                    271,
                    217,
                    200,
                    83744,
                    75620,
                    3428,
                    1910,
                    1749,
                    514,
                    467,
                    300,
                    269,
                    213,
                    199,
                    166,
                    135,
                    42805,
                    40608,
                    26341,
                    8097,
                    4937,
                    4891,
                    3105,
                    2571,
                    503,
                    396,
                    349,
                    311,
                    232,
                    229,
                    153,
                    131,
                    125,
                    100,
                    90,
                    77902,
                    59057,
                    5470,
                    2145,
                    1378,
                    556,
                    418,
                    387,
                    345,
                    249,
                    238,
                    230,
                    168,
                    144,
                    87,
                    64,
                    80465,
                    65316,
                    7498,
                    1483,
                    1187,
                    428,
                    200,
                    90006,
                    56354,
                    1723,
                    950,
                    854,
                    269,
                    242,
                    149,
                    98,
                    63,
                    55,
                    55,
                    53,
                    87236,
                    82705,
                    1611,
                    947,
                    671,
                    572,
                    456,
                    396,
                    144,
                    54761,
                    52455,
                    27396,
                    16302,
                    4290,
                    4218,
                    609,
                    445,
                    350,
                    328,
                    308,
                    306,
                    272,
                    128,
                    124,
                    101079,
                    50867,
                    43323,
                    1682,
                    1615,
                    1153,
                    386,
                    381,
                    240,
                    198,
                    128,
                    87,
                    81750,
                    46078,
                    15546,
                    705,
                    702,
                    696,
                    438,
                    398,
                    169,
                    164,
                    133,
                    84,
                    67538,
                    53643,
                    4283,
                    1652,
                    1007,
                    825,
                    419,
                    287,
                    81293,
                    61978,
                    21132,
                    1103,
                    1060,
                    848,
                    419,
                    286,
                    77248,
                    42039,
                    17605,
                    1931,
                    686,
                    343,
                    305,
                    246,
                    230,
                    174,
                    147,
                    84,
                    64614,
                    59941,
                    12262,
                    707,
                    635,
                    486,
                    400,
                    306,
                    281,
                    225,
                    102,
                    74,
                    66,
                    60,
                    60,
                    58084,
                    52449,
                    1593,
                    397,
                    336,
                    207,
                    188,
                    154,
                    149,
                    81,
                    78,
                    84827,
                    55200,
                    1200,
                    1026,
                    763,
                    729,
                    246,
                    227,
                    208,
                    116,
                    104,
                    70,
                    60,
                    57055,
                    46626,
                    14761,
                    8824,
                    954,
                    925,
                    608,
                    438,
                    184,
                    178,
                    140,
                    93,
                    54462,
                    48820,
                    22584,
                    1742,
                    1286,
                    605,
                    272,
                    200,
                    65080,
                    59065,
                    10158,
                    2477,
                    1280,
                    202,
                    164,
                    117,
                    90,
                    76,
                    69,
                    47,
                    46,
                    58983,
                    54946,
                    20114,
                    8807,
                    822,
                    814,
                    420,
                    299,
                    298,
                    224,
                    193,
                    192,
                    172,
                    107,
                    94,
                    74,
                    65,
                    31,
                    68920,
                    53060,
                    7639,
                    2078,
                    1127,
                    1014,
                    547,
                    373,
                    100,
                    98,
                    83,
                    80,
                    62,
                    55,
                    48968,
                    48936,
                    31456,
                    13458,
                    7950,
                    7373,
                    2653,
                    2495,
                    338,
                    308,
                    266,
                    241,
                    230,
                    230,
                    192,
                    191,
                    187,
                    181,
                    153,
                    127,
                    73,
                    59474,
                    47975,
                    46303,
                    2374,
                    1547,
                    579,
                    466,
                    460,
                    352,
                    166,
                    114,
                    88522,
                    77686,
                    9773,
                    1616,
                    698,
                    591,
                    394,
                    324,
                    311,
                    264,
                    151,
                    70,
                    67,
                    86172,
                    83920,
                    9681,
                    5816,
                    3249,
                    2803,
                    718,
                    585,
                    381,
                    375,
                    322,
                    301,
                    215,
                    193,
                    144,
                    130,
                    129,
                    75,
                    67,
                    86426,
                    64984,
                    5769,
                    3280,
                    1050,
                    1000,
                    610,
                    540,
                    396,
                    229,
                    220,
                    66728,
                    43769,
                    24200,
                    3629,
                    1405,
                    852,
                    56074,
                    55464,
                    35261,
                    7139,
                    6606,
                    856,
                    480,
                    282,
                    270,
                    199,
                    108,
                    101,
                    93,
                    43914,
                    39723,
                    36401,
                    15707,
                    4697,
                    942,
                    657,
                    477,
                    455,
                    436,
                    271,
                    248,
                    242,
                    140,
                    92,
                    79020,
                    71786,
                    1762,
                    1182,
                    1115,
                    853,
                    577,
                    448,
                    302,
                    284,
                    246,
                    208,
                    165,
                    83,
                    77865,
                    62865,
                    13320,
                    1593,
                    885,
                    545,
                    443,
                    307,
                    257,
                    192,
                    182,
                    65371,
                    64103,
                    1869,
                    1814,
                    1297,
                    390,
                    323,
                    197,
                    156,
                    57,
                    51,
                    40,
                    29,
                    78448,
                    50356,
                    11447,
                    2050,
                    1218,
                    627,
                    291,
                    278,
                    84801,
                    72223,
                    4628,
                    1057,
                    735,
                    550,
                    279,
                    241,
                    179,
                    176,
                    113,
                    31,
                    26,
                    22,
                    19,
                    78686,
                    57226,
                    2333,
                    2182,
                    516,
                    374,
                    182,
                    180,
                    176,
                    163,
                    103,
                    72,
                    69,
                    23,
                    66843,
                    39901,
                    29055,
                    2543,
                    481,
                    430,
                    355,
                    217,
                    180,
                    82,
                    49231,
                    30290,
                    17385,
                    6831,
                    2014,
                    2001,
                    1135,
                    558,
                    536,
                    439,
                    421,
                    343,
                    317,
                    218,
                    168,
                    138,
                    132,
                    124,
                    64,
                    62,
                    47,
                    40,
                    66330,
                    54186,
                    3891,
                    2611,
                    1193,
                    507,
                    201,
                    173,
                    143,
                    106,
                    95,
                    53,
                    34,
                    23,
                    81336,
                    80544,
                    1191,
                    831,
                    806,
                    322,
                    299,
                    259,
                    188,
                    115,
                    81,
                    69,
                    39,
                    35,
                    59315,
                    51730,
                    26730,
                    1967,
                    1321,
                    1221,
                    552,
                    512,
                    197,
                    150,
                    96,
                    88,
                    71,
                    69,
                    41,
                    17,
                    65568,
                    63611,
                    3713,
                    3369,
                    1917,
                    1339,
                    1036,
                    432,
                    319,
                    245,
                    197,
                    125,
                    109,
                    98,
                    70,
                    47,
                    46,
                    34,
                    29,
                    67087,
                    34373,
                    17573,
                    15810,
                    3660,
                    1825,
                    1339,
                    1046,
                    623,
                    464,
                    314,
                    281,
                    252,
                    218,
                    97,
                    89,
                    84,
                    62,
                    57,
                    76414,
                    62157,
                    15859,
                    2175,
                    1645,
                    519,
                    490,
                    318,
                    224,
                    200,
                    190,
                    162,
                    143,
                    88,
                    59,
                    49,
                    80077,
                    58298,
                    11287,
                    1128,
                    997,
                    646,
                    524,
                    131,
                    128,
                    93,
                    60,
                    56865,
                    38805,
                    29211,
                    8929,
                    8610,
                    3399,
                    1440,
                    353,
                    319,
                    267,
                    236,
                    223,
                    156,
                    141,
                    132,
                    132,
                    94,
                    67,
                    64,
                    52,
                    108539,
                    37074,
                    1496,
                    895,
                    480,
                    313,
                    155,
                    148,
                    76,
                    72,
                    59419,
                    58078,
                    1188,
                    569,
                    428,
                    268,
                    172,
                    138,
                    98,
                    87,
                    58,
                    38,
                    32,
                    30,
                    27,
                    18,
                    69348,
                    57116,
                    11415,
                    1394,
                    1191,
                    1062,
                    429,
                    333,
                    237,
                    225,
                    221,
                    119,
                    115,
                    56,
                    73191,
                    31192,
                    28955,
                    17511,
                    4745,
                    966,
                    564,
                    512,
                    487,
                    294,
                    255,
                    187,
                    94,
                    81,
                    66,
                    68160,
                    51340,
                    10820,
                    601,
                    519,
                    411,
                    201,
                    124,
                    81,
                    43,
                    66345,
                    52790,
                    1836,
                    816,
                    738,
                    449,
                    193,
                    153,
                    143,
                    82,
                    67,
                    29,
                    60630,
                    25160,
                    24626,
                    2171,
                    2162,
                    1682,
                    1127,
                    1119,
                    289,
                    57737,
                    54652,
                    30037,
                    1748,
                    418,
                    220,
                    185,
                    167,
                    76,
                    63036,
                    60388,
                    20834,
                    3933,
                    1740,
                    1695,
                    1488,
                    850,
                    464,
                    421,
                    294,
                    142,
                    71,
                    45,
                    57635,
                    40464,
                    6188,
                    535,
                    448,
                    440,
                    286,
                    211,
                    148,
                    114,
                    56,
                    51,
                    61989,
                    55059,
                    576,
                    386,
                    353,
                    110,
                    86858,
                    66847,
                    1440,
                    581,
                    483,
                    251,
                    170,
                    166,
                    165,
                    107,
                    67,
                    92185,
                    74976,
                    7302,
                    715,
                    654,
                    563,
                    310,
                    293,
                    273,
                    230,
                    191,
                    88,
                    80,
                    68,
                    56,
                    55,
                    41,
                    31,
                    83747,
                    54978,
                    18427,
                    7787,
                    757,
                    665,
                    354,
                    278,
                    206,
                    174,
                    154,
                    86,
                    54,
                    98519,
                    51989,
                    3214,
                    1874,
                    963,
                    668,
                    381,
                    285,
                    145503,
                    84798,
                    30885,
                    12943,
                    3038,
                    1803,
                    1561,
                    441,
                    403,
                    225,
                    192,
                    179,
                    159,
                    155,
                    122615,
                    54570,
                    46947,
                    2177,
                    1075,
                    517,
                    396,
                    261,
                    260,
                    246,
                    221,
                    220,
                    214,
                    154,
                    71,
                    67,
                    51,
                    42,
                    61243,
                    49366,
                    49210,
                    21754,
                    15476,
                    2857,
                    2040,
                    600,
                    508,
                    256,
                    252,
                    91833,
                    44870,
                    15902,
                    1570,
                    369,
                    222,
                    190,
                    130497,
                    32056,
                    15638,
                    1142,
                    720,
                    439,
                    257,
                    234,
                    183,
                    85300,
                    53384,
                    5072,
                    854,
                    829,
                    345,
                    289,
                    206,
                    79907,
                    47511,
                    37843,
                    10494,
                    5699,
                    4945,
                    1055,
                    432,
                    352,
                    68865,
                    66270,
                    2077,
                    1838,
                    546,
                    393,
                    292,
                    281,
                    194,
                    172,
                    100,
                    63,
                    55,
                    109118,
                    75513,
                    2578,
                    2540,
                    1116,
                    638,
                    506,
                    326,
                    141,
                    124,
                    95,
                    78,
                    68,
                    39,
                    70262,
                    49721,
                    22023,
                    16055,
                    4412,
                    961,
                    709,
                    706,
                    666,
                    596,
                    305,
                    285,
                    270,
                    220,
                    91992,
                    58775,
                    29549,
                    8774,
                    1415,
                    1210,
                    328,
                    288,
                    280,
                    228,
                    217,
                    193,
                    129,
                    112,
                    79476,
                    73295,
                    2493,
                    1681,
                    1509,
                    659,
                    371,
                    230,
                    157,
                    113,
                    61806,
                    44076,
                    23077,
                    8674,
                    6634,
                    1034,
                    784,
                    326,
                    199,
                    93651,
                    45263,
                    1025,
                    926,
                    859,
                    478,
                    396,
                    331,
                    158,
                    94229,
                    56828,
                    21656,
                    11808,
                    5669,
                    3977,
                    3686,
                    1859,
                    1022,
                    981,
                    854,
                    534,
                    313,
                    298
                  ],
                  "y": [
                    "Kalka",
                    "Kalka",
                    "Kalka",
                    "Kalka",
                    "Kalka",
                    "Kalka",
                    "Kalka",
                    "Kalka",
                    "Panchkula",
                    "Panchkula",
                    "Panchkula",
                    "Panchkula",
                    "Panchkula",
                    "Panchkula",
                    "Panchkula",
                    "Panchkula",
                    "Panchkula",
                    "Panchkula",
                    "Panchkula",
                    "Naraingarh",
                    "Naraingarh",
                    "Naraingarh",
                    "Naraingarh",
                    "Naraingarh",
                    "Naraingarh",
                    "Naraingarh",
                    "Naraingarh",
                    "Ambala Cantonment",
                    "Ambala Cantonment",
                    "Ambala Cantonment",
                    "Ambala Cantonment",
                    "Ambala Cantonment",
                    "Ambala Cantonment",
                    "Ambala Cantonment",
                    "Ambala Cantonment",
                    "Ambala Cantonment",
                    "Ambala Cantonment",
                    "Ambala Cantonment",
                    "Ambala Cantonment",
                    "Ambala City",
                    "Ambala City",
                    "Ambala City",
                    "Ambala City",
                    "Ambala City",
                    "Ambala City",
                    "Ambala City",
                    "Ambala City",
                    "Ambala City",
                    "Ambala City",
                    "Ambala City",
                    "Ambala City",
                    "Mulana",
                    "Mulana",
                    "Mulana",
                    "Mulana",
                    "Mulana",
                    "Mulana",
                    "Mulana",
                    "Mulana",
                    "Mulana",
                    "Mulana",
                    "Mulana",
                    "Sadhaura",
                    "Sadhaura",
                    "Sadhaura",
                    "Sadhaura",
                    "Sadhaura",
                    "Sadhaura",
                    "Sadhaura",
                    "Sadhaura",
                    "Sadhaura",
                    "Sadhaura",
                    "Jagadhri",
                    "Jagadhri",
                    "Jagadhri",
                    "Jagadhri",
                    "Jagadhri",
                    "Jagadhri",
                    "Jagadhri",
                    "Jagadhri",
                    "Jagadhri",
                    "Jagadhri",
                    "Jagadhri",
                    "Jagadhri",
                    "Yamunanagar",
                    "Yamunanagar",
                    "Yamunanagar",
                    "Yamunanagar",
                    "Yamunanagar",
                    "Yamunanagar",
                    "Yamunanagar",
                    "Yamunanagar",
                    "Yamunanagar",
                    "Yamunanagar",
                    "Yamunanagar",
                    "Radaur",
                    "Radaur",
                    "Radaur",
                    "Radaur",
                    "Radaur",
                    "Radaur",
                    "Radaur",
                    "Radaur",
                    "Radaur",
                    "Radaur",
                    "Radaur",
                    "Ladwa",
                    "Ladwa",
                    "Ladwa",
                    "Ladwa",
                    "Ladwa",
                    "Ladwa",
                    "Ladwa",
                    "Ladwa",
                    "Ladwa",
                    "Ladwa",
                    "Ladwa",
                    "Ladwa",
                    "Ladwa",
                    "Ladwa",
                    "Ladwa",
                    "Ladwa",
                    "Ladwa",
                    "Shahbad",
                    "Shahbad",
                    "Shahbad",
                    "Shahbad",
                    "Shahbad",
                    "Shahbad",
                    "Shahbad",
                    "Shahbad",
                    "Shahbad",
                    "Shahbad",
                    "Thanesar",
                    "Thanesar",
                    "Thanesar",
                    "Thanesar",
                    "Thanesar",
                    "Thanesar",
                    "Thanesar",
                    "Thanesar",
                    "Thanesar",
                    "Thanesar",
                    "Pehowa",
                    "Pehowa",
                    "Pehowa",
                    "Pehowa",
                    "Pehowa",
                    "Pehowa",
                    "Pehowa",
                    "Pehowa",
                    "Pehowa",
                    "Pehowa",
                    "Guhla",
                    "Guhla",
                    "Guhla",
                    "Guhla",
                    "Guhla",
                    "Guhla",
                    "Guhla",
                    "Guhla",
                    "Guhla",
                    "Guhla",
                    "Kalayat",
                    "Kalayat",
                    "Kalayat",
                    "Kalayat",
                    "Kalayat",
                    "Kalayat",
                    "Kalayat",
                    "Kalayat",
                    "Kalayat",
                    "Kalayat",
                    "Kalayat",
                    "Kalayat",
                    "Kalayat",
                    "Kalayat",
                    "Kalayat",
                    "Kaithal",
                    "Kaithal",
                    "Kaithal",
                    "Kaithal",
                    "Kaithal",
                    "Kaithal",
                    "Kaithal",
                    "Kaithal",
                    "Kaithal",
                    "Kaithal",
                    "Kaithal",
                    "Kaithal",
                    "Kaithal",
                    "Pundri",
                    "Pundri",
                    "Pundri",
                    "Pundri",
                    "Pundri",
                    "Pundri",
                    "Pundri",
                    "Pundri",
                    "Pundri",
                    "Pundri",
                    "Pundri",
                    "Pundri",
                    "Pundri",
                    "Pundri",
                    "Pundri",
                    "Pundri",
                    "Pundri",
                    "Pundri",
                    "Pundri",
                    "Nilokheri",
                    "Nilokheri",
                    "Nilokheri",
                    "Nilokheri",
                    "Nilokheri",
                    "Nilokheri",
                    "Nilokheri",
                    "Nilokheri",
                    "Nilokheri",
                    "Nilokheri",
                    "Nilokheri",
                    "Nilokheri",
                    "Nilokheri",
                    "Nilokheri",
                    "Nilokheri",
                    "Nilokheri",
                    "Indri",
                    "Indri",
                    "Indri",
                    "Indri",
                    "Indri",
                    "Indri",
                    "Indri",
                    "Karnal",
                    "Karnal",
                    "Karnal",
                    "Karnal",
                    "Karnal",
                    "Karnal",
                    "Karnal",
                    "Karnal",
                    "Karnal",
                    "Karnal",
                    "Karnal",
                    "Karnal",
                    "Karnal",
                    "Gharaunda",
                    "Gharaunda",
                    "Gharaunda",
                    "Gharaunda",
                    "Gharaunda",
                    "Gharaunda",
                    "Gharaunda",
                    "Gharaunda",
                    "Gharaunda",
                    "Assandh",
                    "Assandh",
                    "Assandh",
                    "Assandh",
                    "Assandh",
                    "Assandh",
                    "Assandh",
                    "Assandh",
                    "Assandh",
                    "Assandh",
                    "Assandh",
                    "Assandh",
                    "Assandh",
                    "Assandh",
                    "Assandh",
                    "Panipat Rural",
                    "Panipat Rural",
                    "Panipat Rural",
                    "Panipat Rural",
                    "Panipat Rural",
                    "Panipat Rural",
                    "Panipat Rural",
                    "Panipat Rural",
                    "Panipat Rural",
                    "Panipat Rural",
                    "Panipat Rural",
                    "Panipat Rural",
                    "Panipat City",
                    "Panipat City",
                    "Panipat City",
                    "Panipat City",
                    "Panipat City",
                    "Panipat City",
                    "Panipat City",
                    "Panipat City",
                    "Panipat City",
                    "Panipat City",
                    "Panipat City",
                    "Panipat City",
                    "Israna",
                    "Israna",
                    "Israna",
                    "Israna",
                    "Israna",
                    "Israna",
                    "Israna",
                    "Israna",
                    "Samalkha",
                    "Samalkha",
                    "Samalkha",
                    "Samalkha",
                    "Samalkha",
                    "Samalkha",
                    "Samalkha",
                    "Samalkha",
                    "Ganaur",
                    "Ganaur",
                    "Ganaur",
                    "Ganaur",
                    "Ganaur",
                    "Ganaur",
                    "Ganaur",
                    "Ganaur",
                    "Ganaur",
                    "Ganaur",
                    "Ganaur",
                    "Ganaur",
                    "Rai",
                    "Rai",
                    "Rai",
                    "Rai",
                    "Rai",
                    "Rai",
                    "Rai",
                    "Rai",
                    "Rai",
                    "Rai",
                    "Rai",
                    "Rai",
                    "Rai",
                    "Rai",
                    "Rai",
                    "Kharkhauda",
                    "Kharkhauda",
                    "Kharkhauda",
                    "Kharkhauda",
                    "Kharkhauda",
                    "Kharkhauda",
                    "Kharkhauda",
                    "Kharkhauda",
                    "Kharkhauda",
                    "Kharkhauda",
                    "Kharkhauda",
                    "Sonipat",
                    "Sonipat",
                    "Sonipat",
                    "Sonipat",
                    "Sonipat",
                    "Sonipat",
                    "Sonipat",
                    "Sonipat",
                    "Sonipat",
                    "Sonipat",
                    "Sonipat",
                    "Sonipat",
                    "Sonipat",
                    "Gohana",
                    "Gohana",
                    "Gohana",
                    "Gohana",
                    "Gohana",
                    "Gohana",
                    "Gohana",
                    "Gohana",
                    "Gohana",
                    "Gohana",
                    "Gohana",
                    "Gohana",
                    "Baroda",
                    "Baroda",
                    "Baroda",
                    "Baroda",
                    "Baroda",
                    "Baroda",
                    "Baroda",
                    "Baroda",
                    "Julana",
                    "Julana",
                    "Julana",
                    "Julana",
                    "Julana",
                    "Julana",
                    "Julana",
                    "Julana",
                    "Julana",
                    "Julana",
                    "Julana",
                    "Julana",
                    "Julana",
                    "Safidon",
                    "Safidon",
                    "Safidon",
                    "Safidon",
                    "Safidon",
                    "Safidon",
                    "Safidon",
                    "Safidon",
                    "Safidon",
                    "Safidon",
                    "Safidon",
                    "Safidon",
                    "Safidon",
                    "Safidon",
                    "Safidon",
                    "Safidon",
                    "Safidon",
                    "Safidon",
                    "Jind",
                    "Jind",
                    "Jind",
                    "Jind",
                    "Jind",
                    "Jind",
                    "Jind",
                    "Jind",
                    "Jind",
                    "Jind",
                    "Jind",
                    "Jind",
                    "Jind",
                    "Jind",
                    "Uchana Kalan",
                    "Uchana Kalan",
                    "Uchana Kalan",
                    "Uchana Kalan",
                    "Uchana Kalan",
                    "Uchana Kalan",
                    "Uchana Kalan",
                    "Uchana Kalan",
                    "Uchana Kalan",
                    "Uchana Kalan",
                    "Uchana Kalan",
                    "Uchana Kalan",
                    "Uchana Kalan",
                    "Uchana Kalan",
                    "Uchana Kalan",
                    "Uchana Kalan",
                    "Uchana Kalan",
                    "Uchana Kalan",
                    "Uchana Kalan",
                    "Uchana Kalan",
                    "Uchana Kalan",
                    "Narwana",
                    "Narwana",
                    "Narwana",
                    "Narwana",
                    "Narwana",
                    "Narwana",
                    "Narwana",
                    "Narwana",
                    "Narwana",
                    "Narwana",
                    "Narwana",
                    "Tohana",
                    "Tohana",
                    "Tohana",
                    "Tohana",
                    "Tohana",
                    "Tohana",
                    "Tohana",
                    "Tohana",
                    "Tohana",
                    "Tohana",
                    "Tohana",
                    "Tohana",
                    "Tohana",
                    "Fatehabad",
                    "Fatehabad",
                    "Fatehabad",
                    "Fatehabad",
                    "Fatehabad",
                    "Fatehabad",
                    "Fatehabad",
                    "Fatehabad",
                    "Fatehabad",
                    "Fatehabad",
                    "Fatehabad",
                    "Fatehabad",
                    "Fatehabad",
                    "Fatehabad",
                    "Fatehabad",
                    "Fatehabad",
                    "Fatehabad",
                    "Fatehabad",
                    "Fatehabad",
                    "Ratia",
                    "Ratia",
                    "Ratia",
                    "Ratia",
                    "Ratia",
                    "Ratia",
                    "Ratia",
                    "Ratia",
                    "Ratia",
                    "Ratia",
                    "Ratia",
                    "Kalanwali",
                    "Kalanwali",
                    "Kalanwali",
                    "Kalanwali",
                    "Kalanwali",
                    "Kalanwali",
                    "Dabwali",
                    "Dabwali",
                    "Dabwali",
                    "Dabwali",
                    "Dabwali",
                    "Dabwali",
                    "Dabwali",
                    "Dabwali",
                    "Dabwali",
                    "Dabwali",
                    "Dabwali",
                    "Dabwali",
                    "Dabwali",
                    "Rania",
                    "Rania",
                    "Rania",
                    "Rania",
                    "Rania",
                    "Rania",
                    "Rania",
                    "Rania",
                    "Rania",
                    "Rania",
                    "Rania",
                    "Rania",
                    "Rania",
                    "Rania",
                    "Rania",
                    "Sirsa",
                    "Sirsa",
                    "Sirsa",
                    "Sirsa",
                    "Sirsa",
                    "Sirsa",
                    "Sirsa",
                    "Sirsa",
                    "Sirsa",
                    "Sirsa",
                    "Sirsa",
                    "Sirsa",
                    "Sirsa",
                    "Sirsa",
                    "Ellenabad",
                    "Ellenabad",
                    "Ellenabad",
                    "Ellenabad",
                    "Ellenabad",
                    "Ellenabad",
                    "Ellenabad",
                    "Ellenabad",
                    "Ellenabad",
                    "Ellenabad",
                    "Ellenabad",
                    "Adampur",
                    "Adampur",
                    "Adampur",
                    "Adampur",
                    "Adampur",
                    "Adampur",
                    "Adampur",
                    "Adampur",
                    "Adampur",
                    "Adampur",
                    "Adampur",
                    "Adampur",
                    "Adampur",
                    "Uklana",
                    "Uklana",
                    "Uklana",
                    "Uklana",
                    "Uklana",
                    "Uklana",
                    "Uklana",
                    "Uklana",
                    "Narnaund",
                    "Narnaund",
                    "Narnaund",
                    "Narnaund",
                    "Narnaund",
                    "Narnaund",
                    "Narnaund",
                    "Narnaund",
                    "Narnaund",
                    "Narnaund",
                    "Narnaund",
                    "Narnaund",
                    "Narnaund",
                    "Narnaund",
                    "Narnaund",
                    "Hansi",
                    "Hansi",
                    "Hansi",
                    "Hansi",
                    "Hansi",
                    "Hansi",
                    "Hansi",
                    "Hansi",
                    "Hansi",
                    "Hansi",
                    "Hansi",
                    "Hansi",
                    "Hansi",
                    "Hansi",
                    "Barwala",
                    "Barwala",
                    "Barwala",
                    "Barwala",
                    "Barwala",
                    "Barwala",
                    "Barwala",
                    "Barwala",
                    "Barwala",
                    "Barwala",
                    "Hisar",
                    "Hisar",
                    "Hisar",
                    "Hisar",
                    "Hisar",
                    "Hisar",
                    "Hisar",
                    "Hisar",
                    "Hisar",
                    "Hisar",
                    "Hisar",
                    "Hisar",
                    "Hisar",
                    "Hisar",
                    "Hisar",
                    "Hisar",
                    "Hisar",
                    "Hisar",
                    "Hisar",
                    "Hisar",
                    "Hisar",
                    "Hisar",
                    "Nalwa",
                    "Nalwa",
                    "Nalwa",
                    "Nalwa",
                    "Nalwa",
                    "Nalwa",
                    "Nalwa",
                    "Nalwa",
                    "Nalwa",
                    "Nalwa",
                    "Nalwa",
                    "Nalwa",
                    "Nalwa",
                    "Nalwa",
                    "Loharu",
                    "Loharu",
                    "Loharu",
                    "Loharu",
                    "Loharu",
                    "Loharu",
                    "Loharu",
                    "Loharu",
                    "Loharu",
                    "Loharu",
                    "Loharu",
                    "Loharu",
                    "Loharu",
                    "Loharu",
                    "Badhra",
                    "Badhra",
                    "Badhra",
                    "Badhra",
                    "Badhra",
                    "Badhra",
                    "Badhra",
                    "Badhra",
                    "Badhra",
                    "Badhra",
                    "Badhra",
                    "Badhra",
                    "Badhra",
                    "Badhra",
                    "Badhra",
                    "Badhra",
                    "Dadri",
                    "Dadri",
                    "Dadri",
                    "Dadri",
                    "Dadri",
                    "Dadri",
                    "Dadri",
                    "Dadri",
                    "Dadri",
                    "Dadri",
                    "Dadri",
                    "Dadri",
                    "Dadri",
                    "Dadri",
                    "Dadri",
                    "Dadri",
                    "Dadri",
                    "Dadri",
                    "Dadri",
                    "Bhiwani",
                    "Bhiwani",
                    "Bhiwani",
                    "Bhiwani",
                    "Bhiwani",
                    "Bhiwani",
                    "Bhiwani",
                    "Bhiwani",
                    "Bhiwani",
                    "Bhiwani",
                    "Bhiwani",
                    "Bhiwani",
                    "Bhiwani",
                    "Bhiwani",
                    "Bhiwani",
                    "Bhiwani",
                    "Bhiwani",
                    "Bhiwani",
                    "Bhiwani",
                    "Tosham",
                    "Tosham",
                    "Tosham",
                    "Tosham",
                    "Tosham",
                    "Tosham",
                    "Tosham",
                    "Tosham",
                    "Tosham",
                    "Tosham",
                    "Tosham",
                    "Tosham",
                    "Tosham",
                    "Tosham",
                    "Tosham",
                    "Tosham",
                    "Bawani Khera",
                    "Bawani Khera",
                    "Bawani Khera",
                    "Bawani Khera",
                    "Bawani Khera",
                    "Bawani Khera",
                    "Bawani Khera",
                    "Bawani Khera",
                    "Bawani Khera",
                    "Bawani Khera",
                    "Bawani Khera",
                    "Meham",
                    "Meham",
                    "Meham",
                    "Meham",
                    "Meham",
                    "Meham",
                    "Meham",
                    "Meham",
                    "Meham",
                    "Meham",
                    "Meham",
                    "Meham",
                    "Meham",
                    "Meham",
                    "Meham",
                    "Meham",
                    "Meham",
                    "Meham",
                    "Meham",
                    "Meham",
                    "Garhi Sampla-Kiloi",
                    "Garhi Sampla-Kiloi",
                    "Garhi Sampla-Kiloi",
                    "Garhi Sampla-Kiloi",
                    "Garhi Sampla-Kiloi",
                    "Garhi Sampla-Kiloi",
                    "Garhi Sampla-Kiloi",
                    "Garhi Sampla-Kiloi",
                    "Garhi Sampla-Kiloi",
                    "Garhi Sampla-Kiloi",
                    "Rohtak",
                    "Rohtak",
                    "Rohtak",
                    "Rohtak",
                    "Rohtak",
                    "Rohtak",
                    "Rohtak",
                    "Rohtak",
                    "Rohtak",
                    "Rohtak",
                    "Rohtak",
                    "Rohtak",
                    "Rohtak",
                    "Rohtak",
                    "Rohtak",
                    "Rohtak",
                    "Kalanaur",
                    "Kalanaur",
                    "Kalanaur",
                    "Kalanaur",
                    "Kalanaur",
                    "Kalanaur",
                    "Kalanaur",
                    "Kalanaur",
                    "Kalanaur",
                    "Kalanaur",
                    "Kalanaur",
                    "Kalanaur",
                    "Kalanaur",
                    "Kalanaur",
                    "Bahadurgarh",
                    "Bahadurgarh",
                    "Bahadurgarh",
                    "Bahadurgarh",
                    "Bahadurgarh",
                    "Bahadurgarh",
                    "Bahadurgarh",
                    "Bahadurgarh",
                    "Bahadurgarh",
                    "Bahadurgarh",
                    "Bahadurgarh",
                    "Bahadurgarh",
                    "Bahadurgarh",
                    "Bahadurgarh",
                    "Bahadurgarh",
                    "Badli",
                    "Badli",
                    "Badli",
                    "Badli",
                    "Badli",
                    "Badli",
                    "Badli",
                    "Badli",
                    "Badli",
                    "Badli",
                    "Jhajjar",
                    "Jhajjar",
                    "Jhajjar",
                    "Jhajjar",
                    "Jhajjar",
                    "Jhajjar",
                    "Jhajjar",
                    "Jhajjar",
                    "Jhajjar",
                    "Jhajjar",
                    "Jhajjar",
                    "Jhajjar",
                    "Beri",
                    "Beri",
                    "Beri",
                    "Beri",
                    "Beri",
                    "Beri",
                    "Beri",
                    "Beri",
                    "Beri",
                    "Ateli",
                    "Ateli",
                    "Ateli",
                    "Ateli",
                    "Ateli",
                    "Ateli",
                    "Ateli",
                    "Ateli",
                    "Ateli",
                    "Mahendragarh",
                    "Mahendragarh",
                    "Mahendragarh",
                    "Mahendragarh",
                    "Mahendragarh",
                    "Mahendragarh",
                    "Mahendragarh",
                    "Mahendragarh",
                    "Mahendragarh",
                    "Mahendragarh",
                    "Mahendragarh",
                    "Mahendragarh",
                    "Mahendragarh",
                    "Mahendragarh",
                    "Narnaul",
                    "Narnaul",
                    "Narnaul",
                    "Narnaul",
                    "Narnaul",
                    "Narnaul",
                    "Narnaul",
                    "Narnaul",
                    "Narnaul",
                    "Narnaul",
                    "Narnaul",
                    "Narnaul",
                    "Nangal Chaudhry",
                    "Nangal Chaudhry",
                    "Nangal Chaudhry",
                    "Nangal Chaudhry",
                    "Nangal Chaudhry",
                    "Nangal Chaudhry",
                    "Bawal",
                    "Bawal",
                    "Bawal",
                    "Bawal",
                    "Bawal",
                    "Bawal",
                    "Bawal",
                    "Bawal",
                    "Bawal",
                    "Bawal",
                    "Bawal",
                    "Kosli",
                    "Kosli",
                    "Kosli",
                    "Kosli",
                    "Kosli",
                    "Kosli",
                    "Kosli",
                    "Kosli",
                    "Kosli",
                    "Kosli",
                    "Kosli",
                    "Kosli",
                    "Kosli",
                    "Kosli",
                    "Kosli",
                    "Kosli",
                    "Kosli",
                    "Kosli",
                    "Rewari",
                    "Rewari",
                    "Rewari",
                    "Rewari",
                    "Rewari",
                    "Rewari",
                    "Rewari",
                    "Rewari",
                    "Rewari",
                    "Rewari",
                    "Rewari",
                    "Rewari",
                    "Rewari",
                    "Pataudi",
                    "Pataudi",
                    "Pataudi",
                    "Pataudi",
                    "Pataudi",
                    "Pataudi",
                    "Pataudi",
                    "Pataudi",
                    "Badshahpur",
                    "Badshahpur",
                    "Badshahpur",
                    "Badshahpur",
                    "Badshahpur",
                    "Badshahpur",
                    "Badshahpur",
                    "Badshahpur",
                    "Badshahpur",
                    "Badshahpur",
                    "Badshahpur",
                    "Badshahpur",
                    "Badshahpur",
                    "Badshahpur",
                    "Gurgaon",
                    "Gurgaon",
                    "Gurgaon",
                    "Gurgaon",
                    "Gurgaon",
                    "Gurgaon",
                    "Gurgaon",
                    "Gurgaon",
                    "Gurgaon",
                    "Gurgaon",
                    "Gurgaon",
                    "Gurgaon",
                    "Gurgaon",
                    "Gurgaon",
                    "Gurgaon",
                    "Gurgaon",
                    "Gurgaon",
                    "Gurgaon",
                    "Sohna",
                    "Sohna",
                    "Sohna",
                    "Sohna",
                    "Sohna",
                    "Sohna",
                    "Sohna",
                    "Sohna",
                    "Sohna",
                    "Sohna",
                    "Sohna",
                    "Nuh",
                    "Nuh",
                    "Nuh",
                    "Nuh",
                    "Nuh",
                    "Nuh",
                    "Nuh",
                    "Ferozepur Jhirka",
                    "Ferozepur Jhirka",
                    "Ferozepur Jhirka",
                    "Ferozepur Jhirka",
                    "Ferozepur Jhirka",
                    "Ferozepur Jhirka",
                    "Ferozepur Jhirka",
                    "Ferozepur Jhirka",
                    "Ferozepur Jhirka",
                    "Punahana",
                    "Punahana",
                    "Punahana",
                    "Punahana",
                    "Punahana",
                    "Punahana",
                    "Punahana",
                    "Punahana",
                    "Hathin",
                    "Hathin",
                    "Hathin",
                    "Hathin",
                    "Hathin",
                    "Hathin",
                    "Hathin",
                    "Hathin",
                    "Hathin",
                    "Hodal",
                    "Hodal",
                    "Hodal",
                    "Hodal",
                    "Hodal",
                    "Hodal",
                    "Hodal",
                    "Hodal",
                    "Hodal",
                    "Hodal",
                    "Hodal",
                    "Hodal",
                    "Hodal",
                    "Palwal",
                    "Palwal",
                    "Palwal",
                    "Palwal",
                    "Palwal",
                    "Palwal",
                    "Palwal",
                    "Palwal",
                    "Palwal",
                    "Palwal",
                    "Palwal",
                    "Palwal",
                    "Palwal",
                    "Palwal",
                    "Prithla",
                    "Prithla",
                    "Prithla",
                    "Prithla",
                    "Prithla",
                    "Prithla",
                    "Prithla",
                    "Prithla",
                    "Prithla",
                    "Prithla",
                    "Prithla",
                    "Prithla",
                    "Prithla",
                    "Prithla",
                    "Faridabad NIT",
                    "Faridabad NIT",
                    "Faridabad NIT",
                    "Faridabad NIT",
                    "Faridabad NIT",
                    "Faridabad NIT",
                    "Faridabad NIT",
                    "Faridabad NIT",
                    "Faridabad NIT",
                    "Faridabad NIT",
                    "Faridabad NIT",
                    "Faridabad NIT",
                    "Faridabad NIT",
                    "Faridabad NIT",
                    "Badkhal",
                    "Badkhal",
                    "Badkhal",
                    "Badkhal",
                    "Badkhal",
                    "Badkhal",
                    "Badkhal",
                    "Badkhal",
                    "Badkhal",
                    "Badkhal",
                    "Ballabgarh",
                    "Ballabgarh",
                    "Ballabgarh",
                    "Ballabgarh",
                    "Ballabgarh",
                    "Ballabgarh",
                    "Ballabgarh",
                    "Ballabgarh",
                    "Ballabgarh",
                    "Faridabad",
                    "Faridabad",
                    "Faridabad",
                    "Faridabad",
                    "Faridabad",
                    "Faridabad",
                    "Faridabad",
                    "Faridabad",
                    "Faridabad",
                    "Tigaon",
                    "Tigaon",
                    "Tigaon",
                    "Tigaon",
                    "Tigaon",
                    "Tigaon",
                    "Tigaon",
                    "Tigaon",
                    "Tigaon",
                    "Tigaon",
                    "Tigaon",
                    "Tigaon",
                    "Tigaon",
                    "Tigaon"
                  ]
                }
              ],
              "layout": {
                "height": 1500,
                "template": {
                  "data": {
                    "bar": [
                      {
                        "error_x": {
                          "color": "#2a3f5f"
                        },
                        "error_y": {
                          "color": "#2a3f5f"
                        },
                        "marker": {
                          "line": {
                            "color": "#E5ECF6",
                            "width": 0.5
                          },
                          "pattern": {
                            "fillmode": "overlay",
                            "size": 10,
                            "solidity": 0.2
                          }
                        },
                        "type": "bar"
                      }
                    ],
                    "barpolar": [
                      {
                        "marker": {
                          "line": {
                            "color": "#E5ECF6",
                            "width": 0.5
                          },
                          "pattern": {
                            "fillmode": "overlay",
                            "size": 10,
                            "solidity": 0.2
                          }
                        },
                        "type": "barpolar"
                      }
                    ],
                    "carpet": [
                      {
                        "aaxis": {
                          "endlinecolor": "#2a3f5f",
                          "gridcolor": "white",
                          "linecolor": "white",
                          "minorgridcolor": "white",
                          "startlinecolor": "#2a3f5f"
                        },
                        "baxis": {
                          "endlinecolor": "#2a3f5f",
                          "gridcolor": "white",
                          "linecolor": "white",
                          "minorgridcolor": "white",
                          "startlinecolor": "#2a3f5f"
                        },
                        "type": "carpet"
                      }
                    ],
                    "choropleth": [
                      {
                        "colorbar": {
                          "outlinewidth": 0,
                          "ticks": ""
                        },
                        "type": "choropleth"
                      }
                    ],
                    "contour": [
                      {
                        "colorbar": {
                          "outlinewidth": 0,
                          "ticks": ""
                        },
                        "colorscale": [
                          [
                            0,
                            "#0d0887"
                          ],
                          [
                            0.1111111111111111,
                            "#46039f"
                          ],
                          [
                            0.2222222222222222,
                            "#7201a8"
                          ],
                          [
                            0.3333333333333333,
                            "#9c179e"
                          ],
                          [
                            0.4444444444444444,
                            "#bd3786"
                          ],
                          [
                            0.5555555555555556,
                            "#d8576b"
                          ],
                          [
                            0.6666666666666666,
                            "#ed7953"
                          ],
                          [
                            0.7777777777777778,
                            "#fb9f3a"
                          ],
                          [
                            0.8888888888888888,
                            "#fdca26"
                          ],
                          [
                            1,
                            "#f0f921"
                          ]
                        ],
                        "type": "contour"
                      }
                    ],
                    "contourcarpet": [
                      {
                        "colorbar": {
                          "outlinewidth": 0,
                          "ticks": ""
                        },
                        "type": "contourcarpet"
                      }
                    ],
                    "heatmap": [
                      {
                        "colorbar": {
                          "outlinewidth": 0,
                          "ticks": ""
                        },
                        "colorscale": [
                          [
                            0,
                            "#0d0887"
                          ],
                          [
                            0.1111111111111111,
                            "#46039f"
                          ],
                          [
                            0.2222222222222222,
                            "#7201a8"
                          ],
                          [
                            0.3333333333333333,
                            "#9c179e"
                          ],
                          [
                            0.4444444444444444,
                            "#bd3786"
                          ],
                          [
                            0.5555555555555556,
                            "#d8576b"
                          ],
                          [
                            0.6666666666666666,
                            "#ed7953"
                          ],
                          [
                            0.7777777777777778,
                            "#fb9f3a"
                          ],
                          [
                            0.8888888888888888,
                            "#fdca26"
                          ],
                          [
                            1,
                            "#f0f921"
                          ]
                        ],
                        "type": "heatmap"
                      }
                    ],
                    "heatmapgl": [
                      {
                        "colorbar": {
                          "outlinewidth": 0,
                          "ticks": ""
                        },
                        "colorscale": [
                          [
                            0,
                            "#0d0887"
                          ],
                          [
                            0.1111111111111111,
                            "#46039f"
                          ],
                          [
                            0.2222222222222222,
                            "#7201a8"
                          ],
                          [
                            0.3333333333333333,
                            "#9c179e"
                          ],
                          [
                            0.4444444444444444,
                            "#bd3786"
                          ],
                          [
                            0.5555555555555556,
                            "#d8576b"
                          ],
                          [
                            0.6666666666666666,
                            "#ed7953"
                          ],
                          [
                            0.7777777777777778,
                            "#fb9f3a"
                          ],
                          [
                            0.8888888888888888,
                            "#fdca26"
                          ],
                          [
                            1,
                            "#f0f921"
                          ]
                        ],
                        "type": "heatmapgl"
                      }
                    ],
                    "histogram": [
                      {
                        "marker": {
                          "pattern": {
                            "fillmode": "overlay",
                            "size": 10,
                            "solidity": 0.2
                          }
                        },
                        "type": "histogram"
                      }
                    ],
                    "histogram2d": [
                      {
                        "colorbar": {
                          "outlinewidth": 0,
                          "ticks": ""
                        },
                        "colorscale": [
                          [
                            0,
                            "#0d0887"
                          ],
                          [
                            0.1111111111111111,
                            "#46039f"
                          ],
                          [
                            0.2222222222222222,
                            "#7201a8"
                          ],
                          [
                            0.3333333333333333,
                            "#9c179e"
                          ],
                          [
                            0.4444444444444444,
                            "#bd3786"
                          ],
                          [
                            0.5555555555555556,
                            "#d8576b"
                          ],
                          [
                            0.6666666666666666,
                            "#ed7953"
                          ],
                          [
                            0.7777777777777778,
                            "#fb9f3a"
                          ],
                          [
                            0.8888888888888888,
                            "#fdca26"
                          ],
                          [
                            1,
                            "#f0f921"
                          ]
                        ],
                        "type": "histogram2d"
                      }
                    ],
                    "histogram2dcontour": [
                      {
                        "colorbar": {
                          "outlinewidth": 0,
                          "ticks": ""
                        },
                        "colorscale": [
                          [
                            0,
                            "#0d0887"
                          ],
                          [
                            0.1111111111111111,
                            "#46039f"
                          ],
                          [
                            0.2222222222222222,
                            "#7201a8"
                          ],
                          [
                            0.3333333333333333,
                            "#9c179e"
                          ],
                          [
                            0.4444444444444444,
                            "#bd3786"
                          ],
                          [
                            0.5555555555555556,
                            "#d8576b"
                          ],
                          [
                            0.6666666666666666,
                            "#ed7953"
                          ],
                          [
                            0.7777777777777778,
                            "#fb9f3a"
                          ],
                          [
                            0.8888888888888888,
                            "#fdca26"
                          ],
                          [
                            1,
                            "#f0f921"
                          ]
                        ],
                        "type": "histogram2dcontour"
                      }
                    ],
                    "mesh3d": [
                      {
                        "colorbar": {
                          "outlinewidth": 0,
                          "ticks": ""
                        },
                        "type": "mesh3d"
                      }
                    ],
                    "parcoords": [
                      {
                        "line": {
                          "colorbar": {
                            "outlinewidth": 0,
                            "ticks": ""
                          }
                        },
                        "type": "parcoords"
                      }
                    ],
                    "pie": [
                      {
                        "automargin": true,
                        "type": "pie"
                      }
                    ],
                    "scatter": [
                      {
                        "fillpattern": {
                          "fillmode": "overlay",
                          "size": 10,
                          "solidity": 0.2
                        },
                        "type": "scatter"
                      }
                    ],
                    "scatter3d": [
                      {
                        "line": {
                          "colorbar": {
                            "outlinewidth": 0,
                            "ticks": ""
                          }
                        },
                        "marker": {
                          "colorbar": {
                            "outlinewidth": 0,
                            "ticks": ""
                          }
                        },
                        "type": "scatter3d"
                      }
                    ],
                    "scattercarpet": [
                      {
                        "marker": {
                          "colorbar": {
                            "outlinewidth": 0,
                            "ticks": ""
                          }
                        },
                        "type": "scattercarpet"
                      }
                    ],
                    "scattergeo": [
                      {
                        "marker": {
                          "colorbar": {
                            "outlinewidth": 0,
                            "ticks": ""
                          }
                        },
                        "type": "scattergeo"
                      }
                    ],
                    "scattergl": [
                      {
                        "marker": {
                          "colorbar": {
                            "outlinewidth": 0,
                            "ticks": ""
                          }
                        },
                        "type": "scattergl"
                      }
                    ],
                    "scattermapbox": [
                      {
                        "marker": {
                          "colorbar": {
                            "outlinewidth": 0,
                            "ticks": ""
                          }
                        },
                        "type": "scattermapbox"
                      }
                    ],
                    "scatterpolar": [
                      {
                        "marker": {
                          "colorbar": {
                            "outlinewidth": 0,
                            "ticks": ""
                          }
                        },
                        "type": "scatterpolar"
                      }
                    ],
                    "scatterpolargl": [
                      {
                        "marker": {
                          "colorbar": {
                            "outlinewidth": 0,
                            "ticks": ""
                          }
                        },
                        "type": "scatterpolargl"
                      }
                    ],
                    "scatterternary": [
                      {
                        "marker": {
                          "colorbar": {
                            "outlinewidth": 0,
                            "ticks": ""
                          }
                        },
                        "type": "scatterternary"
                      }
                    ],
                    "surface": [
                      {
                        "colorbar": {
                          "outlinewidth": 0,
                          "ticks": ""
                        },
                        "colorscale": [
                          [
                            0,
                            "#0d0887"
                          ],
                          [
                            0.1111111111111111,
                            "#46039f"
                          ],
                          [
                            0.2222222222222222,
                            "#7201a8"
                          ],
                          [
                            0.3333333333333333,
                            "#9c179e"
                          ],
                          [
                            0.4444444444444444,
                            "#bd3786"
                          ],
                          [
                            0.5555555555555556,
                            "#d8576b"
                          ],
                          [
                            0.6666666666666666,
                            "#ed7953"
                          ],
                          [
                            0.7777777777777778,
                            "#fb9f3a"
                          ],
                          [
                            0.8888888888888888,
                            "#fdca26"
                          ],
                          [
                            1,
                            "#f0f921"
                          ]
                        ],
                        "type": "surface"
                      }
                    ],
                    "table": [
                      {
                        "cells": {
                          "fill": {
                            "color": "#EBF0F8"
                          },
                          "line": {
                            "color": "white"
                          }
                        },
                        "header": {
                          "fill": {
                            "color": "#C8D4E3"
                          },
                          "line": {
                            "color": "white"
                          }
                        },
                        "type": "table"
                      }
                    ]
                  },
                  "layout": {
                    "annotationdefaults": {
                      "arrowcolor": "#2a3f5f",
                      "arrowhead": 0,
                      "arrowwidth": 1
                    },
                    "autotypenumbers": "strict",
                    "coloraxis": {
                      "colorbar": {
                        "outlinewidth": 0,
                        "ticks": ""
                      }
                    },
                    "colorscale": {
                      "diverging": [
                        [
                          0,
                          "#8e0152"
                        ],
                        [
                          0.1,
                          "#c51b7d"
                        ],
                        [
                          0.2,
                          "#de77ae"
                        ],
                        [
                          0.3,
                          "#f1b6da"
                        ],
                        [
                          0.4,
                          "#fde0ef"
                        ],
                        [
                          0.5,
                          "#f7f7f7"
                        ],
                        [
                          0.6,
                          "#e6f5d0"
                        ],
                        [
                          0.7,
                          "#b8e186"
                        ],
                        [
                          0.8,
                          "#7fbc41"
                        ],
                        [
                          0.9,
                          "#4d9221"
                        ],
                        [
                          1,
                          "#276419"
                        ]
                      ],
                      "sequential": [
                        [
                          0,
                          "#0d0887"
                        ],
                        [
                          0.1111111111111111,
                          "#46039f"
                        ],
                        [
                          0.2222222222222222,
                          "#7201a8"
                        ],
                        [
                          0.3333333333333333,
                          "#9c179e"
                        ],
                        [
                          0.4444444444444444,
                          "#bd3786"
                        ],
                        [
                          0.5555555555555556,
                          "#d8576b"
                        ],
                        [
                          0.6666666666666666,
                          "#ed7953"
                        ],
                        [
                          0.7777777777777778,
                          "#fb9f3a"
                        ],
                        [
                          0.8888888888888888,
                          "#fdca26"
                        ],
                        [
                          1,
                          "#f0f921"
                        ]
                      ],
                      "sequentialminus": [
                        [
                          0,
                          "#0d0887"
                        ],
                        [
                          0.1111111111111111,
                          "#46039f"
                        ],
                        [
                          0.2222222222222222,
                          "#7201a8"
                        ],
                        [
                          0.3333333333333333,
                          "#9c179e"
                        ],
                        [
                          0.4444444444444444,
                          "#bd3786"
                        ],
                        [
                          0.5555555555555556,
                          "#d8576b"
                        ],
                        [
                          0.6666666666666666,
                          "#ed7953"
                        ],
                        [
                          0.7777777777777778,
                          "#fb9f3a"
                        ],
                        [
                          0.8888888888888888,
                          "#fdca26"
                        ],
                        [
                          1,
                          "#f0f921"
                        ]
                      ]
                    },
                    "colorway": [
                      "#636efa",
                      "#EF553B",
                      "#00cc96",
                      "#ab63fa",
                      "#FFA15A",
                      "#19d3f3",
                      "#FF6692",
                      "#B6E880",
                      "#FF97FF",
                      "#FECB52"
                    ],
                    "font": {
                      "color": "#2a3f5f"
                    },
                    "geo": {
                      "bgcolor": "white",
                      "lakecolor": "white",
                      "landcolor": "#E5ECF6",
                      "showlakes": true,
                      "showland": true,
                      "subunitcolor": "white"
                    },
                    "hoverlabel": {
                      "align": "left"
                    },
                    "hovermode": "closest",
                    "mapbox": {
                      "style": "light"
                    },
                    "paper_bgcolor": "white",
                    "plot_bgcolor": "#E5ECF6",
                    "polar": {
                      "angularaxis": {
                        "gridcolor": "white",
                        "linecolor": "white",
                        "ticks": ""
                      },
                      "bgcolor": "#E5ECF6",
                      "radialaxis": {
                        "gridcolor": "white",
                        "linecolor": "white",
                        "ticks": ""
                      }
                    },
                    "scene": {
                      "xaxis": {
                        "backgroundcolor": "#E5ECF6",
                        "gridcolor": "white",
                        "gridwidth": 2,
                        "linecolor": "white",
                        "showbackground": true,
                        "ticks": "",
                        "zerolinecolor": "white"
                      },
                      "yaxis": {
                        "backgroundcolor": "#E5ECF6",
                        "gridcolor": "white",
                        "gridwidth": 2,
                        "linecolor": "white",
                        "showbackground": true,
                        "ticks": "",
                        "zerolinecolor": "white"
                      },
                      "zaxis": {
                        "backgroundcolor": "#E5ECF6",
                        "gridcolor": "white",
                        "gridwidth": 2,
                        "linecolor": "white",
                        "showbackground": true,
                        "ticks": "",
                        "zerolinecolor": "white"
                      }
                    },
                    "shapedefaults": {
                      "line": {
                        "color": "#2a3f5f"
                      }
                    },
                    "ternary": {
                      "aaxis": {
                        "gridcolor": "white",
                        "linecolor": "white",
                        "ticks": ""
                      },
                      "baxis": {
                        "gridcolor": "white",
                        "linecolor": "white",
                        "ticks": ""
                      },
                      "bgcolor": "#E5ECF6",
                      "caxis": {
                        "gridcolor": "white",
                        "linecolor": "white",
                        "ticks": ""
                      }
                    },
                    "title": {
                      "x": 0.05
                    },
                    "xaxis": {
                      "automargin": true,
                      "gridcolor": "white",
                      "linecolor": "white",
                      "ticks": "",
                      "title": {
                        "standoff": 15
                      },
                      "zerolinecolor": "white",
                      "zerolinewidth": 2
                    },
                    "yaxis": {
                      "automargin": true,
                      "gridcolor": "white",
                      "linecolor": "white",
                      "ticks": "",
                      "title": {
                        "standoff": 15
                      },
                      "zerolinecolor": "white",
                      "zerolinewidth": 2
                    }
                  }
                },
                "title": {
                  "text": "Constituency wise all candidates"
                }
              }
            }
          },
          "metadata": {},
          "output_type": "display_data"
        }
      ],
      "source": [
        "# All constituencies at a glance \n",
        "fig = go.Figure()\n",
        "fig.add_traces(go.Bar(y=result['Constituency Name'], x=result['Total Votes'], customdata=result[['Abb','Candidate']],\n",
        "                      orientation='h', marker_color=result['Color'], hovertemplate='%{y}<br>%{customdata[1]}<br>%{customdata[0]} %{x} votes',\n",
        "                      hovertext=list(zip(result['Abb'],result['Candidate'])), name=''))\n",
        "fig.update_layout(title='Constituency wise all candidates', height=1500)"
      ]
    },
    {
      "cell_type": "code",
      "execution_count": 13,
      "metadata": {},
      "outputs": [
        {
          "data": {
            "application/vnd.plotly.v1+json": {
              "config": {
                "plotlyServerURL": "https://plot.ly"
              },
              "data": [
                {
                  "customdata": [
                    [
                      "BJP",
                      "SHAKTI RANI SHARMA"
                    ],
                    [
                      "INC",
                      "PARDEEP CHAUDHARY"
                    ],
                    [
                      "IND",
                      "GOPAL SUKHOMAJRI"
                    ],
                    [
                      "BSP",
                      "CHARAN SINGH"
                    ],
                    [
                      "AAP",
                      "OM PARKASH GUJJAR"
                    ],
                    [
                      "NOTA",
                      "NOTA"
                    ],
                    [
                      "IND",
                      "AMIT SHARMA"
                    ],
                    [
                      "IND",
                      "VISHAL"
                    ],
                    [
                      "INC",
                      "CHANDER MOHAN"
                    ],
                    [
                      "BJP",
                      "GIAN CHAND GUPTA"
                    ],
                    [
                      "AAP",
                      "PREM GARG"
                    ],
                    [
                      "INLD",
                      "DR KSHITIJ CHOUDHARY"
                    ],
                    [
                      "JJP",
                      "SUSHIL GARG"
                    ],
                    [
                      "NOTA",
                      "NOTA"
                    ],
                    [
                      "IND",
                      "M P SHARMA"
                    ],
                    [
                      "IND",
                      "NATASHA SOOD"
                    ],
                    [
                      "IND",
                      "SAROJ BALA"
                    ],
                    [
                      "RRP",
                      "KISHAN SINGH NEGI"
                    ],
                    [
                      "Other",
                      "BHARAT BHUSHAN GURJAR"
                    ],
                    [
                      "INC",
                      "SHALLEY CHAUDHARY"
                    ],
                    [
                      "BJP",
                      "DR. PAWAN SAINI"
                    ],
                    [
                      "BSP",
                      "HARBILAS SINGH"
                    ],
                    [
                      "AAP",
                      "GURPAL SINGH"
                    ],
                    [
                      "NOTA",
                      "NOTA"
                    ],
                    [
                      "IND",
                      "NEETU"
                    ],
                    [
                      "Other",
                      "SEEMA DEVI"
                    ],
                    [
                      "IND",
                      "DHARAMPAL"
                    ],
                    [
                      "BJP",
                      "ANIL VIJ"
                    ],
                    [
                      "IND",
                      "CHITRA SARWARA"
                    ],
                    [
                      "INC",
                      "PARVINDER PAL PARI"
                    ],
                    [
                      "INLD",
                      "ONKAR SINGH"
                    ],
                    [
                      "JJP",
                      "AVTAR SINGH"
                    ],
                    [
                      "IND",
                      "DHARMESH SOOD RINKU"
                    ],
                    [
                      "NOTA",
                      "NOTA"
                    ],
                    [
                      "AAP",
                      "RAJ KAUR GILL"
                    ],
                    [
                      "Other",
                      "NAVEEN KUMAR"
                    ],
                    [
                      "IND",
                      "NAVEEN BIDLA"
                    ],
                    [
                      "IND",
                      "JASWINDER GOLU"
                    ],
                    [
                      "IND",
                      "SUNIL VERMA"
                    ],
                    [
                      "INC",
                      "NIRMAL SINGH MOHRA"
                    ],
                    [
                      "BJP",
                      "ASEEM GOEL NANEOLA"
                    ],
                    [
                      "ASP(KR)",
                      "PARUL NAGPAL UDAIPURIA"
                    ],
                    [
                      "AAP",
                      "KETAN SHARMA"
                    ],
                    [
                      "NOTA",
                      "NOTA"
                    ],
                    [
                      "BSP",
                      "MALKIT SINGH BHANOKHERI"
                    ],
                    [
                      "IND",
                      "SATNAM SINGH"
                    ],
                    [
                      "IND",
                      "BHUPINDER"
                    ],
                    [
                      "IND",
                      "SUNIL DUTT"
                    ],
                    [
                      "IND",
                      "MAYUR NANDA"
                    ],
                    [
                      "IND",
                      "SACHIN KUMAR"
                    ],
                    [
                      "IND",
                      "LALIT WALIA"
                    ],
                    [
                      "INC",
                      "POOJA"
                    ],
                    [
                      "BJP",
                      "SANTOSH CHAUHAN SARWAN"
                    ],
                    [
                      "INLD",
                      "PRAKASH BHARTI"
                    ],
                    [
                      "JJP",
                      "DR RAVINDER DHEEN"
                    ],
                    [
                      "IND",
                      "DALIP SINGH"
                    ],
                    [
                      "AAP",
                      "GURTEJ SINGH"
                    ],
                    [
                      "IND",
                      "AJAIB SINGH SODHI"
                    ],
                    [
                      "Other",
                      "PRITAM SINGH"
                    ],
                    [
                      "NOTA",
                      "NOTA"
                    ],
                    [
                      "IND",
                      "HAVELI RAM"
                    ],
                    [
                      "IND",
                      "HARKESH KUMAR"
                    ],
                    [
                      "INC",
                      "RENU BALA"
                    ],
                    [
                      "BJP",
                      "BALWANT SINGH"
                    ],
                    [
                      "BSP",
                      "BRIJ PAL"
                    ],
                    [
                      "ASP(KR)",
                      "SOHIL"
                    ],
                    [
                      "AAP",
                      "RITA RANI"
                    ],
                    [
                      "NOTA",
                      "NOTA"
                    ],
                    [
                      "IND",
                      "BETA MAMCHAND RATTU"
                    ],
                    [
                      "Other",
                      "JAI PAL"
                    ],
                    [
                      "Other",
                      "JASBIR SINGH"
                    ],
                    [
                      "IND",
                      "POOJA NAGRA"
                    ],
                    [
                      "INC",
                      "AKRAM KHAN"
                    ],
                    [
                      "BJP",
                      "KANWAR PAL"
                    ],
                    [
                      "AAP",
                      "ADARSH PAL SINGH"
                    ],
                    [
                      "BSP",
                      "DARSHAN LAL"
                    ],
                    [
                      "ASP(KR)",
                      "ASHOK KUMAR"
                    ],
                    [
                      "NOTA",
                      "NOTA"
                    ],
                    [
                      "IND",
                      "YOGESH SETHI (YOGI)"
                    ],
                    [
                      "Other",
                      "DR. NITESH CHOPRA (HONEY)"
                    ],
                    [
                      "IND",
                      "YAJUVINDER SINGH"
                    ],
                    [
                      "IND",
                      "ADITYA KUMAR SHASTRI"
                    ],
                    [
                      "Other",
                      "SONI"
                    ],
                    [
                      "IND",
                      "GURDEV SINGH"
                    ],
                    [
                      "BJP",
                      "GHANSHYAM DASS"
                    ],
                    [
                      "INC",
                      "RAMAN TYAGI"
                    ],
                    [
                      "INLD",
                      "DILBAG SINGH"
                    ],
                    [
                      "AAP",
                      "LALIT KUMAR TYAGI"
                    ],
                    [
                      "NOTA",
                      "NOTA"
                    ],
                    [
                      "JJP",
                      "INTZAR ALI"
                    ],
                    [
                      "IND",
                      "KAPIL"
                    ],
                    [
                      "PPI(D)",
                      "MANGA RAM"
                    ],
                    [
                      "Other",
                      "NIRMALJEET KAUR"
                    ],
                    [
                      "IND",
                      "SUKHWINDER"
                    ],
                    [
                      "Other",
                      "KANCHAN SHARMA"
                    ],
                    [
                      "BJP",
                      "SHYAM SINGH RANA"
                    ],
                    [
                      "INC",
                      "DR. BISHAN LAL SAINI"
                    ],
                    [
                      "BSP",
                      "DHARAMPAL TIGRA"
                    ],
                    [
                      "AAP",
                      "BHIM SINGH RATHI"
                    ],
                    [
                      "ASP(KR)",
                      "MANDEEP TOPRA"
                    ],
                    [
                      "Other",
                      "DIWAN CHAND KAMBOJ"
                    ],
                    [
                      "NOTA",
                      "NOTA"
                    ],
                    [
                      "IND",
                      "JAI PARKASH SHARMA"
                    ],
                    [
                      "Other",
                      "DAYANAND"
                    ],
                    [
                      "IND",
                      "ANIL KUMAR BATTA"
                    ],
                    [
                      "IND",
                      "ASHOK KUMAR"
                    ],
                    [
                      "BJP",
                      "NAYAB SINGH"
                    ],
                    [
                      "INC",
                      "MEWA SINGH"
                    ],
                    [
                      "IND",
                      "VIKRAMJEET SINGH CHEEMA"
                    ],
                    [
                      "INLD",
                      "SAPNA BARSHAMI"
                    ],
                    [
                      "IND",
                      "SANDEEP GARG LADWA"
                    ],
                    [
                      "AAP",
                      "JOGA SINGH UMRI"
                    ],
                    [
                      "IND",
                      "KASHYAP RAM CHANDER"
                    ],
                    [
                      "IND",
                      "ASHOK SAINI HAMID PUR"
                    ],
                    [
                      "IND",
                      "BHAJAN SINGH"
                    ],
                    [
                      "NOTA",
                      "NOTA"
                    ],
                    [
                      "JJP",
                      "VINOD KUMAR SHARMA"
                    ],
                    [
                      "Other",
                      "VIKRAM SINGH SAINI"
                    ],
                    [
                      "PPI(D)",
                      "MAN SINGH BAPDA"
                    ],
                    [
                      "IND",
                      "RAJKUMAR"
                    ],
                    [
                      "Other",
                      "SATISH KUMAR"
                    ],
                    [
                      "Other",
                      "SUBHASH SAINI"
                    ],
                    [
                      "IND",
                      "PARVEEN KUMAR"
                    ],
                    [
                      "INC",
                      "RAM KARAN"
                    ],
                    [
                      "BJP",
                      "SUBHASH CHAND"
                    ],
                    [
                      "BSP",
                      "CHANDER BHAN CHAUHAN"
                    ],
                    [
                      "Other",
                      "KANTA AALLDIA"
                    ],
                    [
                      "AAP",
                      "ASHA RANI"
                    ],
                    [
                      "NOTA",
                      "NOTA"
                    ],
                    [
                      "JJP",
                      "RAJEETA SINGH"
                    ],
                    [
                      "IND",
                      "PAWAN KUMAR"
                    ],
                    [
                      "IND",
                      "RAJESH KANIPLA"
                    ],
                    [
                      "IND",
                      "SHIV NATH"
                    ],
                    [
                      "INC",
                      "ASHOK KUMAR ARORA"
                    ],
                    [
                      "BJP",
                      "SUBHASH SUDHA"
                    ],
                    [
                      "AAP",
                      "KRISHAN BAJAJ"
                    ],
                    [
                      "BSP",
                      "TANUJA"
                    ],
                    [
                      "NOTA",
                      "NOTA"
                    ],
                    [
                      "JJP",
                      "SURYA PARTAP SINGH RATHORE"
                    ],
                    [
                      "IND",
                      "ABHISHEK PUNIA"
                    ],
                    [
                      "Other",
                      "JAIVEER SINGH RANGA"
                    ],
                    [
                      "IND",
                      "MEHAR"
                    ],
                    [
                      "IND",
                      "ASHOK KUMAR"
                    ],
                    [
                      "INC",
                      "MANDEEP CHATHA"
                    ],
                    [
                      "BJP",
                      "JAI BHAGWAN SHARMA (DD)"
                    ],
                    [
                      "INLD",
                      "BALDEV SINGH WARAICH"
                    ],
                    [
                      "JJP",
                      "DR. SUKHWINDER KAUR"
                    ],
                    [
                      "Other",
                      "GURNAM SINGH"
                    ],
                    [
                      "AAP",
                      "GEHAL SINGH SANDHU"
                    ],
                    [
                      "IND",
                      "RAJAT SHARMA ISMAILABAD"
                    ],
                    [
                      "NOTA",
                      "NOTA"
                    ],
                    [
                      "IND",
                      "SHYAM LAL GUMTHALA GARHU"
                    ],
                    [
                      "Other",
                      "KULDEEP SINGH"
                    ],
                    [
                      "INC",
                      "DEVENDER HANS"
                    ],
                    [
                      "BJP",
                      "KULWANT RAM BAZIGAR"
                    ],
                    [
                      "IND",
                      "NARESH KUMAR"
                    ],
                    [
                      "JJP",
                      "KRISHAN KUMAR"
                    ],
                    [
                      "AAP",
                      "RAKESH KUMAR"
                    ],
                    [
                      "INLD",
                      "POONAM RANI"
                    ],
                    [
                      "IND",
                      "AMARJEET SINGH"
                    ],
                    [
                      "NOTA",
                      "NOTA"
                    ],
                    [
                      "Other",
                      "BHUPINDER SINGH"
                    ],
                    [
                      "Other",
                      "MANOJ KUMAR"
                    ],
                    [
                      "INC",
                      "VIKAS SAHARAN"
                    ],
                    [
                      "BJP",
                      "KAMLESH DHANDA"
                    ],
                    [
                      "IND",
                      "ANITA DHULL BADSIKRI"
                    ],
                    [
                      "INLD",
                      "RAMPAL MAJRA"
                    ],
                    [
                      "IND",
                      "VINOD NIRMAL"
                    ],
                    [
                      "IND",
                      "SATVINDER SINGH RANA"
                    ],
                    [
                      "AAP",
                      "ANURAG DHANDA"
                    ],
                    [
                      "IND",
                      "ASHISH RASILA"
                    ],
                    [
                      "JJP",
                      "PRITAM KOLEKHAN"
                    ],
                    [
                      "NOTA",
                      "NOTA"
                    ],
                    [
                      "IND",
                      "SANDEEP KOTRA ADVOCATE"
                    ],
                    [
                      "IND",
                      "RAJESH KUMAR"
                    ],
                    [
                      "IND",
                      "SALINDER KUMAR"
                    ],
                    [
                      "IND",
                      "JITENDER SINGH URF DHOLA"
                    ],
                    [
                      "IND",
                      "RAJENDER KUMAR"
                    ],
                    [
                      "INC",
                      "ADITYA SURJEWALA"
                    ],
                    [
                      "BJP",
                      "LEELA RAM"
                    ],
                    [
                      "BSP",
                      "ANIL TANWER"
                    ],
                    [
                      "JJP",
                      "SANDEEP GARHI"
                    ],
                    [
                      "AAP",
                      "SATBIR SINGH GOYAT"
                    ],
                    [
                      "NOTA",
                      "NOTA"
                    ],
                    [
                      "IND",
                      "FOUJI SURESH KUMAR"
                    ],
                    [
                      "IND",
                      "PATASHO DEVI"
                    ],
                    [
                      "IND",
                      "SATISH KUMAR"
                    ],
                    [
                      "IND",
                      "ASHWINI SHARMA HRITTWAL"
                    ],
                    [
                      "IND",
                      "BALRAJ SINGH"
                    ],
                    [
                      "IND",
                      "DR. MAHESH CHAND GAUR"
                    ],
                    [
                      "IND",
                      "CHAND KALYAN"
                    ],
                    [
                      "BJP",
                      "SATPAL JAMBA"
                    ],
                    [
                      "IND",
                      "SATBIR BHANA"
                    ],
                    [
                      "INC",
                      "SULTAN JADAULA"
                    ],
                    [
                      "IND",
                      "GURINDER SINGH HABRI"
                    ],
                    [
                      "IND",
                      "SAJJAN SINGH DHULL"
                    ],
                    [
                      "BSP",
                      "HISAM SINGH BHUKKAL"
                    ],
                    [
                      "IND",
                      "DINESH KAUSHIK"
                    ],
                    [
                      "AAP",
                      "NARENDER SHARMA"
                    ],
                    [
                      "IND",
                      "HARIPAL PAHALWAN"
                    ],
                    [
                      "IND",
                      "NARESH KUMAR PHARAL"
                    ],
                    [
                      "IND",
                      "ADVOCATE RAKESH SHARMA"
                    ],
                    [
                      "IND",
                      "PARMOD CHUHARMAJRA"
                    ],
                    [
                      "Other",
                      "BABU RAM"
                    ],
                    [
                      "NOTA",
                      "NOTA"
                    ],
                    [
                      "IND",
                      "AMIT KUMAR"
                    ],
                    [
                      "IND",
                      "DILBAG BHANA"
                    ],
                    [
                      "IND",
                      "SUNITA BATTAN"
                    ],
                    [
                      "PPI(D)",
                      "ENGINEER SURESH KUMAR"
                    ],
                    [
                      "IND",
                      "RANDHIR SINGH GOLLEN"
                    ],
                    [
                      "BJP",
                      "BHAGWAN DASS"
                    ],
                    [
                      "INC",
                      "DHARAM PAL"
                    ],
                    [
                      "IND",
                      "RAJ KUMAR"
                    ],
                    [
                      "INLD",
                      "BALWAN SINGH"
                    ],
                    [
                      "Other",
                      "GAURAV BAKHSHI"
                    ],
                    [
                      "AAP",
                      "AMAR SINGH"
                    ],
                    [
                      "IND",
                      "VED PARKASH"
                    ],
                    [
                      "ASP(KR)",
                      "KARAM SINGH"
                    ],
                    [
                      "NOTA",
                      "NOTA"
                    ],
                    [
                      "IND",
                      "DYAL SINGH"
                    ],
                    [
                      "IND",
                      "SUBHASH CHAND"
                    ],
                    [
                      "IND",
                      "SARITA"
                    ],
                    [
                      "IND",
                      "SUNDARI"
                    ],
                    [
                      "IND",
                      "NAVEEN KUMAR"
                    ],
                    [
                      "IND",
                      "RAJIV KUMAR"
                    ],
                    [
                      "Other",
                      "DEEPAK KUMAR"
                    ],
                    [
                      "BJP",
                      "RAM KUMAR KASHYAP"
                    ],
                    [
                      "INC",
                      "RAKESH KAMBOJ"
                    ],
                    [
                      "BSP",
                      "SURENDER UDANA"
                    ],
                    [
                      "AAP",
                      "HAWA SINGH"
                    ],
                    [
                      "JJP",
                      "KULDEEP SINGH MANDHAN"
                    ],
                    [
                      "NOTA",
                      "NOTA"
                    ],
                    [
                      "Other",
                      "SANJAY KUMAR"
                    ],
                    [
                      "BJP",
                      "JAGMOHAN ANAND"
                    ],
                    [
                      "INC",
                      "SUMITA VIRK"
                    ],
                    [
                      "AAP",
                      "SUNIL BINDAL"
                    ],
                    [
                      "INLD",
                      "SURJEET SINGH"
                    ],
                    [
                      "NOTA",
                      "NOTA"
                    ],
                    [
                      "JJP",
                      "JETENDER ROYAL"
                    ],
                    [
                      "IND",
                      "KAMAL"
                    ],
                    [
                      "IND",
                      "VARINDER KUMAR CHAWLA"
                    ],
                    [
                      "IND",
                      "NEERU BALA SAINI"
                    ],
                    [
                      "Other",
                      "ADVOCATE PARDEEP SAINI"
                    ],
                    [
                      "Other",
                      "HARDEEP SINGH"
                    ],
                    [
                      "IND",
                      "DHARMENDER"
                    ],
                    [
                      "IND",
                      "YASH DEV GOYAL"
                    ],
                    [
                      "BJP",
                      "HARVINDER KALYAN"
                    ],
                    [
                      "INC",
                      "VARINDER SINGH RATHORE"
                    ],
                    [
                      "INLD",
                      "KRISHAN SINGH ALIAS MANNU KASHYAP"
                    ],
                    [
                      "AAP",
                      "JAIPAL SHARMA"
                    ],
                    [
                      "Other",
                      "VICKY"
                    ],
                    [
                      "JJP",
                      "RAJPAL"
                    ],
                    [
                      "NOTA",
                      "NOTA"
                    ],
                    [
                      "IND",
                      "PARDEEP KASHYAP UPLI"
                    ],
                    [
                      "IND",
                      "BHUPINDER SINGH"
                    ],
                    [
                      "BJP",
                      "YOGINDER SINGH RANA"
                    ],
                    [
                      "INC",
                      "SHAMSHER SINGH GOGI"
                    ],
                    [
                      "BSP",
                      "GOPAL SINGH"
                    ],
                    [
                      "IND",
                      "ZILE RAM SHARMA"
                    ],
                    [
                      "AAP",
                      "AMANDEEP SINGH JUNDLA"
                    ],
                    [
                      "Other",
                      "MARATHA VIRENDER VERMA"
                    ],
                    [
                      "IND",
                      "REKHA"
                    ],
                    [
                      "IND",
                      "ADVOCATE SONIYA BOHAT"
                    ],
                    [
                      "IND",
                      "JAIPAL PUNIA"
                    ],
                    [
                      "Other",
                      "PREM CHAND"
                    ],
                    [
                      "Other",
                      "HARJEET SINGH"
                    ],
                    [
                      "NOTA",
                      "NOTA"
                    ],
                    [
                      "IND",
                      "RAMPHAL"
                    ],
                    [
                      "IND",
                      "BALJIT SINGH"
                    ],
                    [
                      "IND",
                      "PARDEEP"
                    ],
                    [
                      "BJP",
                      "MAHIPAL DHANDA"
                    ],
                    [
                      "INC",
                      "SACHIN KUNDU"
                    ],
                    [
                      "IND",
                      "VIJAY JAIN"
                    ],
                    [
                      "AAP",
                      "SUKHVIR MALIK"
                    ],
                    [
                      "BSP",
                      "RANBIR SINGH"
                    ],
                    [
                      "NOTA",
                      "NOTA"
                    ],
                    [
                      "Other",
                      "AMIT MAURYA"
                    ],
                    [
                      "JJP",
                      "RAGHUNATH TANWAR KASHYAP"
                    ],
                    [
                      "IND",
                      "RAMESH SINGLA"
                    ],
                    [
                      "IND",
                      "DEVENDER"
                    ],
                    [
                      "IND",
                      "MASTER KULDEEP REDHU"
                    ],
                    [
                      "IND",
                      "DIPTI"
                    ],
                    [
                      "BJP",
                      "PARMOD KUMAR VIJ"
                    ],
                    [
                      "INC",
                      "VARINDER KUMAR SHAH"
                    ],
                    [
                      "IND",
                      "ROHITA REWRI"
                    ],
                    [
                      "AAP",
                      "RITU ARORA"
                    ],
                    [
                      "NOTA",
                      "NOTA"
                    ],
                    [
                      "BSP",
                      "SAROJ BALA GUR"
                    ],
                    [
                      "IND",
                      "DILBAG SINGH KRANTIKARI"
                    ],
                    [
                      "IND",
                      "CA JAGDISH DHAMIJA"
                    ],
                    [
                      "IND",
                      "SAWAMI AGNIVESH"
                    ],
                    [
                      "IND",
                      "HIMANSHU SHARMA"
                    ],
                    [
                      "IND",
                      "RAMESH KUMAR CHAUDHARY"
                    ],
                    [
                      "Other",
                      "BHATERI DEVI"
                    ],
                    [
                      "BJP",
                      "KRISHAN LAL PANWAR"
                    ],
                    [
                      "INC",
                      "BALBIR SINGH BALMIKI"
                    ],
                    [
                      "IND",
                      "RAKESH SAROHA"
                    ],
                    [
                      "IND",
                      "SATYAWAN SHERA"
                    ],
                    [
                      "INLD",
                      "SURAJBHAN"
                    ],
                    [
                      "AAP",
                      "AMIT KUMAR"
                    ],
                    [
                      "JJP",
                      "SUNIL KUMAR"
                    ],
                    [
                      "NOTA",
                      "NOTA"
                    ],
                    [
                      "BJP",
                      "MANMOHAN BHADANA"
                    ],
                    [
                      "INC",
                      "DHARAM SINGH CHHOKER"
                    ],
                    [
                      "IND",
                      "RAVINDER MACHHRAULI"
                    ],
                    [
                      "INLD",
                      "RAJESH"
                    ],
                    [
                      "AAP",
                      "JAIKANWAR ALIAS BITTU PAHALWAN"
                    ],
                    [
                      "JJP",
                      "GANGARAM SWAMI"
                    ],
                    [
                      "NOTA",
                      "NOTA"
                    ],
                    [
                      "IND",
                      "SATISH KUMAR"
                    ],
                    [
                      "IND",
                      "DEVENDER KADYAN"
                    ],
                    [
                      "INC",
                      "KULDIP SHARMA"
                    ],
                    [
                      "BJP",
                      "DEVENDER KAUSHIK"
                    ],
                    [
                      "IND",
                      "KAVITA SHARMA"
                    ],
                    [
                      "BSP",
                      "NAR SINGH"
                    ],
                    [
                      "JJP",
                      "ANIL KUMAR TYAGI"
                    ],
                    [
                      "IND",
                      "TAKDEER"
                    ],
                    [
                      "IND",
                      "RAM KUMAR"
                    ],
                    [
                      "NOTA",
                      "NOTA"
                    ],
                    [
                      "AAP",
                      "SAROJ BALA"
                    ],
                    [
                      "IND",
                      "RAM MEHAR SINGH"
                    ],
                    [
                      "IND",
                      "ANKUR KAUSHIK"
                    ],
                    [
                      "BJP",
                      "KRISHNA GAHLAWAT"
                    ],
                    [
                      "INC",
                      "JAI BHAGWAN ANTIL"
                    ],
                    [
                      "IND",
                      "PRATEEK RAJKUMAR SHARMA"
                    ],
                    [
                      "INLD",
                      "PARMOD DAHIYA"
                    ],
                    [
                      "IND",
                      "RAHUL KIRORIWAL"
                    ],
                    [
                      "NOTA",
                      "NOTA"
                    ],
                    [
                      "IND",
                      "SITENDER"
                    ],
                    [
                      "JJP",
                      "BIJENDER"
                    ],
                    [
                      "AAP",
                      "RAJESH SAROHA"
                    ],
                    [
                      "Other",
                      "DEVENDER SINGH"
                    ],
                    [
                      "Other",
                      "SANT DHARAMVEER CHOTIVALA"
                    ],
                    [
                      "IND",
                      "SANDEEP KUMAR"
                    ],
                    [
                      "IND",
                      "BIJENDER KUMAR"
                    ],
                    [
                      "Other",
                      "MUKESH TAPSI"
                    ],
                    [
                      "IND",
                      "RAJESH KUMAR"
                    ],
                    [
                      "BJP",
                      "PAWAN KHARKHODA"
                    ],
                    [
                      "INC",
                      "JAIVEER SINGH"
                    ],
                    [
                      "INLD",
                      "PRITAM KHOKAR"
                    ],
                    [
                      "AAP",
                      "MANJEET FARMANA"
                    ],
                    [
                      "NOTA",
                      "NOTA"
                    ],
                    [
                      "JJP",
                      "RAMESH KHATAK"
                    ],
                    [
                      "Other",
                      "DR. PARVEEN KHARKHODA"
                    ],
                    [
                      "IND",
                      "M. GAJE SINGH ADVOCATE"
                    ],
                    [
                      "IND",
                      "SATNARAYAN"
                    ],
                    [
                      "Other",
                      "AMAR SINGH BALMIKI"
                    ],
                    [
                      "PPI(D)",
                      "RADHEY SHYAM"
                    ],
                    [
                      "BJP",
                      "NIKHIL MADAAN"
                    ],
                    [
                      "INC",
                      "SURENDER PANWAR"
                    ],
                    [
                      "AAP",
                      "DEVINDER GAUTAM"
                    ],
                    [
                      "INLD",
                      "SARDHARAM SINGH"
                    ],
                    [
                      "CPI",
                      "RAJIV VERMA"
                    ],
                    [
                      "NOTA",
                      "NOTA"
                    ],
                    [
                      "Other",
                      "ISHWAR SINGH RATHEE"
                    ],
                    [
                      "ASP(KR)",
                      "RAJESH"
                    ],
                    [
                      "IND",
                      "RAMESH KHATRI LAMBERDAR"
                    ],
                    [
                      "IND",
                      "DR. KAMLESH KUMAR SAINI"
                    ],
                    [
                      "Other",
                      "SUSHIL KUMAR MANAV"
                    ],
                    [
                      "Other",
                      "PAWAN SANATANI"
                    ],
                    [
                      "IND",
                      "DHARAMBIR FOJI"
                    ],
                    [
                      "BJP",
                      "ARVIND KUMAR SHARMA"
                    ],
                    [
                      "INC",
                      "JAGBIR SINGH MALIK"
                    ],
                    [
                      "IND",
                      "HARSH CHHIKARA"
                    ],
                    [
                      "IND",
                      "RAJVIR SINGH DAHIYA"
                    ],
                    [
                      "AAP",
                      "SHIV KUMAR RANGEELA"
                    ],
                    [
                      "BSP",
                      "DINESH KUMAR"
                    ],
                    [
                      "JJP",
                      "KULDEEP MALIK"
                    ],
                    [
                      "NOTA",
                      "NOTA"
                    ],
                    [
                      "IND",
                      "ARVIND"
                    ],
                    [
                      "IND",
                      "ARUN NINANIYA"
                    ],
                    [
                      "IND",
                      "SUNNY"
                    ],
                    [
                      "IND",
                      "RAJBIR"
                    ],
                    [
                      "INC",
                      "INDURAJ SINGH NARWAL"
                    ],
                    [
                      "IND",
                      "KAPOOR SINGH NARWAL"
                    ],
                    [
                      "BJP",
                      "PARDEEP SINGH SANGWAN"
                    ],
                    [
                      "BSP",
                      "DHARAM VIR"
                    ],
                    [
                      "AAP",
                      "SANDEEP MALIK"
                    ],
                    [
                      "JJP",
                      "DEEPAK MALIK"
                    ],
                    [
                      "NOTA",
                      "NOTA"
                    ],
                    [
                      "IND",
                      "DEVENDER KUMAR ALIAS NITU MOR"
                    ],
                    [
                      "INC",
                      "VINESH"
                    ],
                    [
                      "BJP",
                      "YOGESH KUMAR"
                    ],
                    [
                      "INLD",
                      "SURENDER LATHER"
                    ],
                    [
                      "JJP",
                      "AMARJEET DHANDA"
                    ],
                    [
                      "AAP",
                      "KAVITA RANI"
                    ],
                    [
                      "NOTA",
                      "NOTA"
                    ],
                    [
                      "IND",
                      "BIJENDER KUMAR"
                    ],
                    [
                      "IND",
                      "PREM"
                    ],
                    [
                      "IND",
                      "COACH JASVIR SINGH AHLAWAT"
                    ],
                    [
                      "IND",
                      "AMIT SHARMA"
                    ],
                    [
                      "IND",
                      "RAMRATTAN"
                    ],
                    [
                      "Other",
                      "JOGI SUNIL"
                    ],
                    [
                      "IND",
                      "INDERJEET"
                    ],
                    [
                      "BJP",
                      "RAM KUMAR GAUTAM"
                    ],
                    [
                      "INC",
                      "SUBHASH GANGOLI"
                    ],
                    [
                      "IND",
                      "JASBIR DESWAL"
                    ],
                    [
                      "IND",
                      "BACHAN SINGH ARYA"
                    ],
                    [
                      "BSP",
                      "PINKI KUNDU"
                    ],
                    [
                      "JJP",
                      "SUSHIL BAIRAGI"
                    ],
                    [
                      "IND",
                      "VIPUL"
                    ],
                    [
                      "Other",
                      "ADVOCATE RINKU MUANA"
                    ],
                    [
                      "IND",
                      "GURMEET"
                    ],
                    [
                      "IND",
                      "VIJAY PAL"
                    ],
                    [
                      "AAP",
                      "NISHA DESWAL"
                    ],
                    [
                      "IND",
                      "AJIT KUMAR"
                    ],
                    [
                      "NOTA",
                      "NOTA"
                    ],
                    [
                      "IND",
                      "SUYAG"
                    ],
                    [
                      "RRP",
                      "RAKESH KUMAR"
                    ],
                    [
                      "IND",
                      "SUBHASH SAINI"
                    ],
                    [
                      "IND",
                      "MONU LOHAN"
                    ],
                    [
                      "IND",
                      "SUSHIL KUMAR"
                    ],
                    [
                      "BJP",
                      "DR KRISHAN LAL MIDDHA"
                    ],
                    [
                      "INC",
                      "MAHAVIR GUPTA"
                    ],
                    [
                      "IND",
                      "PRADEEP SINGH"
                    ],
                    [
                      "AAP",
                      "WAZIR DHANDA"
                    ],
                    [
                      "INLD",
                      "NARENDER NATH SHARMA"
                    ],
                    [
                      "JJP",
                      "DHARAM PAL TANWAR"
                    ],
                    [
                      "NOTA",
                      "NOTA"
                    ],
                    [
                      "IND",
                      "RITU RAJ BAMNIYA"
                    ],
                    [
                      "IND",
                      "RITESH SANGWAN SANGU"
                    ],
                    [
                      "IND",
                      "VED PARKASH"
                    ],
                    [
                      "IND",
                      "ANKIT KUMAR"
                    ],
                    [
                      "IND",
                      "RAM PARKASH TAYAL"
                    ],
                    [
                      "IND",
                      "VIKAS"
                    ],
                    [
                      "IND",
                      "SURESH CHAND"
                    ],
                    [
                      "BJP",
                      "DEVENDER CHATAR BHUJ ATTRI"
                    ],
                    [
                      "INC",
                      "BRIJENDRA SINGH"
                    ],
                    [
                      "IND",
                      "VIRENDER GHOGHARIAN"
                    ],
                    [
                      "IND",
                      "VIKAS"
                    ],
                    [
                      "JJP",
                      "DUSHYANT CHAUTALA"
                    ],
                    [
                      "IND",
                      "DILBAG SANDIL"
                    ],
                    [
                      "INLD",
                      "VINOD PAL SINGH DULGANCH"
                    ],
                    [
                      "AAP",
                      "PAWAN FAUJI"
                    ],
                    [
                      "IND",
                      "BIJENDER"
                    ],
                    [
                      "Other",
                      "AMARJEET SINGH"
                    ],
                    [
                      "IND",
                      "ISHWAR KHATKAR FOUJI"
                    ],
                    [
                      "IND",
                      "DEVENDER"
                    ],
                    [
                      "IND",
                      "COMRADE PAL SINGH"
                    ],
                    [
                      "IND",
                      "BIJENDER SINGH"
                    ],
                    [
                      "Other",
                      "MASTER AJIT ARYA"
                    ],
                    [
                      "IND",
                      "DEVENDER SHEORAN"
                    ],
                    [
                      "NOTA",
                      "NOTA"
                    ],
                    [
                      "IND",
                      "VIRENDER PAL"
                    ],
                    [
                      "IND",
                      "JOGIENDER"
                    ],
                    [
                      "IND",
                      "COMRADE RAMESH KHATKAR"
                    ],
                    [
                      "IND",
                      "GURMAIL SINGH"
                    ],
                    [
                      "BJP",
                      "KRISHAN KUMAR"
                    ],
                    [
                      "INC",
                      "SATBIR DABLAIN"
                    ],
                    [
                      "INLD",
                      "VIDYA RANI DANODA"
                    ],
                    [
                      "AAP",
                      "ANIL RANGA"
                    ],
                    [
                      "JJP",
                      "SANTOSH DANODA"
                    ],
                    [
                      "CPI",
                      "MANIRAM"
                    ],
                    [
                      "IND",
                      "GURMAIL"
                    ],
                    [
                      "NOTA",
                      "NOTA"
                    ],
                    [
                      "IND",
                      "COMRADE SATYAVIR SINGH"
                    ],
                    [
                      "AJSP",
                      "RAM LAL KALYAN"
                    ],
                    [
                      "IND",
                      "KITABA"
                    ],
                    [
                      "INC",
                      "PARAMVIR SINGH"
                    ],
                    [
                      "BJP",
                      "DEVENDER SINGH BABLI"
                    ],
                    [
                      "INLD",
                      "KUNAL KARAN SINGH"
                    ],
                    [
                      "AAP",
                      "SUKHVINDER SINGH S/O AVTAR SINGH"
                    ],
                    [
                      "NOTA",
                      "NOTA"
                    ],
                    [
                      "JJP",
                      "HAWA SINGH KHOBRA"
                    ],
                    [
                      "IND",
                      "SUKHVINDER SINGH S/O BALDEV SINGH"
                    ],
                    [
                      "IND",
                      "RAMESHWAR LAL"
                    ],
                    [
                      "IND",
                      "RAY SINGH"
                    ],
                    [
                      "IND",
                      "KARAMBIR"
                    ],
                    [
                      "IND",
                      "NARENDER SIWACH TINU"
                    ],
                    [
                      "IND",
                      "DHARAMPAL SHERE GILL"
                    ],
                    [
                      "IND",
                      "NIKHIL KUMAR"
                    ],
                    [
                      "INC",
                      "BALWAN SINGH DOULATPURIA"
                    ],
                    [
                      "BJP",
                      "DURA RAM"
                    ],
                    [
                      "INLD",
                      "SUNAINA CHAUTALA"
                    ],
                    [
                      "IND",
                      "RAJENDER CHOUDHARY URF KAKA"
                    ],
                    [
                      "JJP",
                      "SUBHASH CHANDER GORCHHIA"
                    ],
                    [
                      "AAP",
                      "KAMAL BISLA"
                    ],
                    [
                      "NOTA",
                      "NOTA"
                    ],
                    [
                      "IND",
                      "VINOD KUMAR"
                    ],
                    [
                      "IND",
                      "SANJAY KUMAR"
                    ],
                    [
                      "IND",
                      "SUDHIR"
                    ],
                    [
                      "Other",
                      "VIKRAM JEET KARWASRA"
                    ],
                    [
                      "IND",
                      "VISHVAMITTR"
                    ],
                    [
                      "IND",
                      "DARBARA SINGH"
                    ],
                    [
                      "PPI(D)",
                      "BANTI BARETH"
                    ],
                    [
                      "IND",
                      "JAIBIR"
                    ],
                    [
                      "IND",
                      "SIMARJEET SINGH"
                    ],
                    [
                      "IND",
                      "RAMAN"
                    ],
                    [
                      "IND",
                      "MANDEEP KUMAR"
                    ],
                    [
                      "IND",
                      "TAHIR HUSAIN"
                    ],
                    [
                      "INC",
                      "JARNAIL SINGH"
                    ],
                    [
                      "BJP",
                      "SUNITA DUGGAL"
                    ],
                    [
                      "INLD",
                      "RAMSARUP RAMA"
                    ],
                    [
                      "AAP",
                      "MUKHTYAR SINGH BAZIGAR"
                    ],
                    [
                      "NOTA",
                      "NOTA"
                    ],
                    [
                      "JJP",
                      "RAMESH"
                    ],
                    [
                      "IND",
                      "TEJPAL"
                    ],
                    [
                      "PPI(D)",
                      "SURJIT SINGH PARDHAN"
                    ],
                    [
                      "IND",
                      "RAJ KUMAR"
                    ],
                    [
                      "IND",
                      "SURENDER KUMAR PHOOLAN"
                    ],
                    [
                      "IND",
                      "RAJBIR"
                    ],
                    [
                      "INC",
                      "SHISHPAL KEHARWALA"
                    ],
                    [
                      "BJP",
                      "RAJINDER SINGH DESUJODHA"
                    ],
                    [
                      "INLD",
                      "GURTEJ SINGH"
                    ],
                    [
                      "AAP",
                      "JASDEV SINGH"
                    ],
                    [
                      "JJP",
                      "GURJANT SINGH"
                    ],
                    [
                      "NOTA",
                      "NOTA"
                    ],
                    [
                      "INLD",
                      "ADITYA DEVILAL"
                    ],
                    [
                      "INC",
                      "AMIT SIHAG"
                    ],
                    [
                      "JJP",
                      "DIGVIJAY SINGH CHAUTALA"
                    ],
                    [
                      "BJP",
                      "BALDEV SINGH MANGIANA"
                    ],
                    [
                      "AAP",
                      "KULDEEP SINGH GADRANA"
                    ],
                    [
                      "NOTA",
                      "NOTA"
                    ],
                    [
                      "IND",
                      "RAJESH KUMAR"
                    ],
                    [
                      "IND",
                      "KHEM CHAND"
                    ],
                    [
                      "IND",
                      "GURVINDER SINGH"
                    ],
                    [
                      "IND",
                      "GULJARI LAL"
                    ],
                    [
                      "PPI(D)",
                      "KULVEER SHAANT INSAN"
                    ],
                    [
                      "Other",
                      "DANA RAM"
                    ],
                    [
                      "IND",
                      "ANKIT KUMAR"
                    ],
                    [
                      "INLD",
                      "ARJUN CHAUTALA"
                    ],
                    [
                      "INC",
                      "SARV MITTER"
                    ],
                    [
                      "IND",
                      "RANJIT SINGH"
                    ],
                    [
                      "BJP",
                      "SHEESHPAL KAMBOJ"
                    ],
                    [
                      "AAP",
                      "HARPINDER SINGH"
                    ],
                    [
                      "IND",
                      "GAGAN DEEP JALANDHRA"
                    ],
                    [
                      "NOTA",
                      "NOTA"
                    ],
                    [
                      "Other",
                      "SANJAY MALIK"
                    ],
                    [
                      "IND",
                      "VIKRAM KHARIAN"
                    ],
                    [
                      "IND",
                      "JOGINDER RAM"
                    ],
                    [
                      "IND",
                      "SATPAL VERMA"
                    ],
                    [
                      "IND",
                      "GOTTAM SAHARAN"
                    ],
                    [
                      "PPI(D)",
                      "DALBIR SINGH"
                    ],
                    [
                      "Other",
                      "LUCKY BALMIKI"
                    ],
                    [
                      "IND",
                      "ARJUN DASS"
                    ],
                    [
                      "INC",
                      "GOKUL SETIA"
                    ],
                    [
                      "Other",
                      "GOPAL KANDA"
                    ],
                    [
                      "JJP",
                      "PAWAN SHERPURA"
                    ],
                    [
                      "IND",
                      "CA DARVESH SWAMI"
                    ],
                    [
                      "NOTA",
                      "NOTA"
                    ],
                    [
                      "AAP",
                      "SHYAM SUNDER"
                    ],
                    [
                      "IND",
                      "BHARAT KUMAR GIRDHAR @ SUNNY SINGH"
                    ],
                    [
                      "IND",
                      "MADAN LAL"
                    ],
                    [
                      "IND",
                      "RAJBEER"
                    ],
                    [
                      "Other",
                      "JAIVEER SINGH"
                    ],
                    [
                      "Other",
                      "MANI RAM"
                    ],
                    [
                      "IND",
                      "YOGESH KANODIA"
                    ],
                    [
                      "Other",
                      "YOGESH ODD"
                    ],
                    [
                      "IND",
                      "OM PARKASH"
                    ],
                    [
                      "INC",
                      "BHARAT SINGH BENIWAL"
                    ],
                    [
                      "INLD",
                      "ABHAY SINGH CHAUTALA"
                    ],
                    [
                      "BJP",
                      "AMIR CHAND TALWARA"
                    ],
                    [
                      "JJP",
                      "ANJANI LADHA"
                    ],
                    [
                      "AAP",
                      "MANISH ARORA"
                    ],
                    [
                      "NOTA",
                      "NOTA"
                    ],
                    [
                      "IND",
                      "VIKRAM INDORA"
                    ],
                    [
                      "Other",
                      "NANAK SINGH"
                    ],
                    [
                      "IND",
                      "SURJEET SINGH"
                    ],
                    [
                      "IND",
                      "BALDEV KUMAR"
                    ],
                    [
                      "Other",
                      "MAYANK GIDRA"
                    ],
                    [
                      "INC",
                      "CHANDER PARKASH S/O ARJUN LAL"
                    ],
                    [
                      "BJP",
                      "BHAVYA BISHNOI"
                    ],
                    [
                      "INLD",
                      "RANDEEP CHOUDARYVAS"
                    ],
                    [
                      "AAP",
                      "BHUPENDER BENIWAL"
                    ],
                    [
                      "JJP",
                      "KRISHAN GANGWA PARJAPATI"
                    ],
                    [
                      "NOTA",
                      "NOTA"
                    ],
                    [
                      "IND",
                      "RAJESH KUMAR"
                    ],
                    [
                      "IND",
                      "RAMPHAL"
                    ],
                    [
                      "IND",
                      "RENU CHAHAL BALSAMAND"
                    ],
                    [
                      "IND",
                      "PARMOD BASWANA"
                    ],
                    [
                      "IND",
                      "CHANDER PARKASH S/O RAJA RAM"
                    ],
                    [
                      "Other",
                      "BALJEET SINGH"
                    ],
                    [
                      "IND",
                      "AMIT"
                    ],
                    [
                      "INC",
                      "NARESH SELWAL"
                    ],
                    [
                      "BJP",
                      "ANOOP DHANAK"
                    ],
                    [
                      "INLD",
                      "BALRAJ SINGH"
                    ],
                    [
                      "AAP",
                      "NARENDER KHANNA"
                    ],
                    [
                      "JJP",
                      "ROHTASH"
                    ],
                    [
                      "NOTA",
                      "NOTA"
                    ],
                    [
                      "Other",
                      "ANIL BITHMARA"
                    ],
                    [
                      "IND",
                      "BIRBAL SINGH"
                    ],
                    [
                      "INC",
                      "JASSI PETWAR"
                    ],
                    [
                      "BJP",
                      "CAPT. ABHIMANYU"
                    ],
                    [
                      "INLD",
                      "UMED SINGH LOHAN"
                    ],
                    [
                      "AAP",
                      "RANBIR SINGH LOHAN"
                    ],
                    [
                      "JJP",
                      "YOGESH GAUTAM"
                    ],
                    [
                      "NOTA",
                      "NOTA"
                    ],
                    [
                      "IND",
                      "DHARAMVIR SAROWA"
                    ],
                    [
                      "IND",
                      "RAVI KUMAR"
                    ],
                    [
                      "IND",
                      "JASSI JASBIR S/O BANI SINGH"
                    ],
                    [
                      "Other",
                      "KRISHAN MAJRA"
                    ],
                    [
                      "IND",
                      "SANDEEP KUMAR"
                    ],
                    [
                      "IND",
                      "AJAY CHAUDHARY"
                    ],
                    [
                      "IND",
                      "JAIBIR ALIAS JAI VIR"
                    ],
                    [
                      "AAPP",
                      "BHAI SATISH MASUDPUR"
                    ],
                    [
                      "IND",
                      "JAIBIR S/O CHANDER BHAN"
                    ],
                    [
                      "BJP",
                      "VINOD BHAYANA"
                    ],
                    [
                      "INC",
                      "RAHUL MAKKAR"
                    ],
                    [
                      "AAP",
                      "RAJENDER SINGH"
                    ],
                    [
                      "BSP",
                      "RAVINDER KUMAR"
                    ],
                    [
                      "JJP",
                      "SHAMSHER SINGH"
                    ],
                    [
                      "NOTA",
                      "NOTA"
                    ],
                    [
                      "IND",
                      "SUMAN KUMAR"
                    ],
                    [
                      "IND",
                      "HARISH VERMA"
                    ],
                    [
                      "IND",
                      "ROHIT"
                    ],
                    [
                      "IND",
                      "AMARJEET"
                    ],
                    [
                      "IND",
                      "KASHMIRI LAL GROVER"
                    ],
                    [
                      "AAPP",
                      "VEERBHAN"
                    ],
                    [
                      "IND",
                      "NAVIN"
                    ],
                    [
                      "IND",
                      "JAI PARKASH"
                    ],
                    [
                      "BJP",
                      "RANBIR GANGWA"
                    ],
                    [
                      "INC",
                      "RAMNIWAS GHORELA"
                    ],
                    [
                      "INLD",
                      "SANJANA SATROAD"
                    ],
                    [
                      "AAP",
                      "PROF. CHHATTAR PAL SINGH"
                    ],
                    [
                      "JJP",
                      "ANANT RAM"
                    ],
                    [
                      "NOTA",
                      "NOTA"
                    ],
                    [
                      "Other",
                      "RAJIV KHATAK"
                    ],
                    [
                      "IND",
                      "RENU DALJEET SINGH"
                    ],
                    [
                      "IND",
                      "BABA DARSHAN GIRI"
                    ],
                    [
                      "IND",
                      "SUMIT BLODA"
                    ],
                    [
                      "IND",
                      "SAVITRI JINDAL"
                    ],
                    [
                      "INC",
                      "RAM NIWAS RARA"
                    ],
                    [
                      "BJP",
                      "DR. KAMAL GUPTA"
                    ],
                    [
                      "IND",
                      "GAUTAM SARDANA"
                    ],
                    [
                      "IND",
                      "AMIT GROVER"
                    ],
                    [
                      "AAP",
                      "SANJAY SATRODIA"
                    ],
                    [
                      "IND",
                      "TARUN JAIN"
                    ],
                    [
                      "IND",
                      "SUNIL BANSAL"
                    ],
                    [
                      "INLD",
                      "SHYAM LAL"
                    ],
                    [
                      "JJP",
                      "RAVINDER RAVI AHUJA"
                    ],
                    [
                      "NOTA",
                      "NOTA"
                    ],
                    [
                      "IND",
                      "RAJENDER"
                    ],
                    [
                      "IND",
                      "ANIL KUMAR S/O JAGDISH CHANDER SHARMA"
                    ],
                    [
                      "IND",
                      "PRASHANT YADAV"
                    ],
                    [
                      "Other",
                      "NAND KISHOR CHAWLA"
                    ],
                    [
                      "IND",
                      "PARVEEN KUMAR"
                    ],
                    [
                      "IND",
                      "ANIL MAHLA"
                    ],
                    [
                      "IND",
                      "ANIL KUMAR S/O CHARANJIT LAL"
                    ],
                    [
                      "IND",
                      "MAHENDER"
                    ],
                    [
                      "IND",
                      "DINESH KUMAR SAINI"
                    ],
                    [
                      "Other",
                      "SUNIL"
                    ],
                    [
                      "IND",
                      "AJAY SAINI"
                    ],
                    [
                      "BJP",
                      "RANDHIR PANIHAR"
                    ],
                    [
                      "INC",
                      "ANIL MAAN"
                    ],
                    [
                      "JJP",
                      "VIRENDER CHAUDHARY"
                    ],
                    [
                      "BSP",
                      "SARWAN KUMAR VERMA"
                    ],
                    [
                      "AAP",
                      "UMESH SHARMA"
                    ],
                    [
                      "NOTA",
                      "NOTA"
                    ],
                    [
                      "IND",
                      "MAHABIR PRASAD"
                    ],
                    [
                      "IND",
                      "RAVINDER MANGALI"
                    ],
                    [
                      "IND",
                      "PARDUMAN JOSHILA"
                    ],
                    [
                      "IND",
                      "JAI PRAKASH"
                    ],
                    [
                      "IND",
                      "RAJENDER SINGH"
                    ],
                    [
                      "IND",
                      "ANIL KUMAR"
                    ],
                    [
                      "Other",
                      "RAJ KUMAR"
                    ],
                    [
                      "IND",
                      "ATAM PARKASH"
                    ],
                    [
                      "INC",
                      "RAJBIR FARTIA"
                    ],
                    [
                      "BJP",
                      "JAI PARKASH DALAL"
                    ],
                    [
                      "INLD",
                      "BHOOP SINGH SHEORAN"
                    ],
                    [
                      "JJP",
                      "ALKA ARYA"
                    ],
                    [
                      "AAP",
                      "GEETA BALA"
                    ],
                    [
                      "IND",
                      "SANDEEP SANJAY BALHARA"
                    ],
                    [
                      "IND",
                      "AMAR SINGH"
                    ],
                    [
                      "NOTA",
                      "NOTA"
                    ],
                    [
                      "IND",
                      "SANJAY"
                    ],
                    [
                      "IND",
                      "RAJBIR S/O MOOLA RAM"
                    ],
                    [
                      "IND",
                      "SAJJAN BHARDWAJ"
                    ],
                    [
                      "IND",
                      "RAJBIR S/O BEGRAJ"
                    ],
                    [
                      "IND",
                      "KRISHAN KUMAR"
                    ],
                    [
                      "IND",
                      "RAJBIR S/O BHARAT SINGH"
                    ],
                    [
                      "BJP",
                      "UMED SINGH"
                    ],
                    [
                      "INC",
                      "SOMVIR SINGH"
                    ],
                    [
                      "IND",
                      "SOMVEER GHASOLA"
                    ],
                    [
                      "INLD",
                      "VIJAY KUMAR"
                    ],
                    [
                      "JJP",
                      "YASHVIR"
                    ],
                    [
                      "AAP",
                      "RAKESH CHANDWAS"
                    ],
                    [
                      "NOTA",
                      "NOTA"
                    ],
                    [
                      "IND",
                      "AJIT"
                    ],
                    [
                      "IND",
                      "SANDEEP"
                    ],
                    [
                      "Other",
                      "MAHENDER JEVALI"
                    ],
                    [
                      "IND",
                      "VIKASH"
                    ],
                    [
                      "IND",
                      "JITENDER SINGH SHEORAIN"
                    ],
                    [
                      "IND",
                      "VIDY NAND"
                    ],
                    [
                      "IND",
                      "DINESH KUMAR"
                    ],
                    [
                      "IND",
                      "CHITAR SINGH"
                    ],
                    [
                      "IND",
                      "ASHOK"
                    ],
                    [
                      "BJP",
                      "SUNIL SATPAL SANGWAN"
                    ],
                    [
                      "INC",
                      "MANISHA SANGWAN"
                    ],
                    [
                      "IND",
                      "SANJAY CHHAPARIA"
                    ],
                    [
                      "IND",
                      "AJIT SINGH"
                    ],
                    [
                      "JJP",
                      "RAJDEEP SINGH"
                    ],
                    [
                      "AAP",
                      "DHAN RAJ SINGH"
                    ],
                    [
                      "BSP",
                      "ANAND SHEORAN"
                    ],
                    [
                      "NOTA",
                      "NOTA"
                    ],
                    [
                      "IND",
                      "NAVEEN YOGI"
                    ],
                    [
                      "IND",
                      "LALIT KUMAR"
                    ],
                    [
                      "Other",
                      "RAJPAL"
                    ],
                    [
                      "IND",
                      "SATENDER SINGH"
                    ],
                    [
                      "IND",
                      "MANJEET"
                    ],
                    [
                      "Other",
                      "VIKRAM SHARMA"
                    ],
                    [
                      "IND",
                      "SUNIL KUMAR"
                    ],
                    [
                      "IND",
                      "ANIL KUMAR"
                    ],
                    [
                      "IND",
                      "ARCHANA"
                    ],
                    [
                      "IND",
                      "HEMANT"
                    ],
                    [
                      "IND",
                      "RAMSHARAN PHOGAT"
                    ],
                    [
                      "BJP",
                      "GHANSHYAM SARAF"
                    ],
                    [
                      "CPI(M)",
                      "OM PRAKASH"
                    ],
                    [
                      "AAP",
                      "INDU"
                    ],
                    [
                      "IND",
                      "ABHIJEET LAL SINGH"
                    ],
                    [
                      "IND",
                      "PRIYA ASIJA"
                    ],
                    [
                      "IND",
                      "RAJEEV"
                    ],
                    [
                      "Other",
                      "PAWAN FOUJI"
                    ],
                    [
                      "INLD",
                      "KARAMBIR YADAV"
                    ],
                    [
                      "Other",
                      "COMRADE RAJ KUMAR"
                    ],
                    [
                      "NOTA",
                      "NOTA"
                    ],
                    [
                      "IND",
                      "SATISH KUMAR"
                    ],
                    [
                      "IND",
                      "RAM KUMAR"
                    ],
                    [
                      "IND",
                      "RAM AVTAR SHARMA"
                    ],
                    [
                      "IND",
                      "DR. PAWAN KUMAR SHARMA"
                    ],
                    [
                      "IND",
                      "MAHABIR BOHRA"
                    ],
                    [
                      "IND",
                      "ANAND KUMAR"
                    ],
                    [
                      "IND",
                      "JOGENDER"
                    ],
                    [
                      "IND",
                      "JAGAT SINGH"
                    ],
                    [
                      "IND",
                      "PANKAJ TAYAL"
                    ],
                    [
                      "BJP",
                      "SHRUTI CHOUDHRY"
                    ],
                    [
                      "INC",
                      "ANIRUDH CHAUDHARY"
                    ],
                    [
                      "IND",
                      "SHASHI RANJAN PARMAR"
                    ],
                    [
                      "JJP",
                      "RAJESH BHARDWAJ"
                    ],
                    [
                      "BSP",
                      "OM SINGH"
                    ],
                    [
                      "AAP",
                      "DALJEET SINGH"
                    ],
                    [
                      "NOTA",
                      "NOTA"
                    ],
                    [
                      "IND",
                      "PUSHPA DEVI"
                    ],
                    [
                      "IND",
                      "RAJNISH KUMAR"
                    ],
                    [
                      "Other",
                      "SUBHASH CHANDER"
                    ],
                    [
                      "Other",
                      "PARDEEP"
                    ],
                    [
                      "PPI(D)",
                      "BABA BALWAN NATH"
                    ],
                    [
                      "IND",
                      "KRISHAN KUMAR"
                    ],
                    [
                      "IND",
                      "BALWAN SINGH"
                    ],
                    [
                      "Other",
                      "VIJENDER SINGH"
                    ],
                    [
                      "IND",
                      "ANIL KUMAR"
                    ],
                    [
                      "BJP",
                      "KAPOOR SINGH"
                    ],
                    [
                      "INC",
                      "PRADEEP NARWAL"
                    ],
                    [
                      "IND",
                      "MASTER SATBIR RATERA"
                    ],
                    [
                      "BSP",
                      "SANDEEP SINGH JANAGAL"
                    ],
                    [
                      "JJP",
                      "GUDDI LANGYAN"
                    ],
                    [
                      "AAP",
                      "DHARAMBIR"
                    ],
                    [
                      "NOTA",
                      "NOTA"
                    ],
                    [
                      "IND",
                      "RAMESH KUMAR"
                    ],
                    [
                      "IND",
                      "RAVITA SATBIR RATERA"
                    ],
                    [
                      "AAPP",
                      "MANJU DHANAK"
                    ],
                    [
                      "Other",
                      "VIKAS"
                    ],
                    [
                      "INC",
                      "BALRAM DANGI"
                    ],
                    [
                      "Other",
                      "BALRAJ KUNDU"
                    ],
                    [
                      "IND",
                      "RADHA AHLAWAT"
                    ],
                    [
                      "BJP",
                      "DEEPAK HOODA"
                    ],
                    [
                      "AAP",
                      "VIKASH NEHRA"
                    ],
                    [
                      "IND",
                      "BALBIR SINGH"
                    ],
                    [
                      "BSP",
                      "HAWA SINGH"
                    ],
                    [
                      "NOTA",
                      "NOTA"
                    ],
                    [
                      "Other",
                      "VISHESH BAMEL"
                    ],
                    [
                      "IND",
                      "MUKESH KUMAR"
                    ],
                    [
                      "IND",
                      "NARESH"
                    ],
                    [
                      "AAPP",
                      "KRISHAN KUMAR"
                    ],
                    [
                      "IND",
                      "MAHENDER SINGH"
                    ],
                    [
                      "IND",
                      "VIKASH"
                    ],
                    [
                      "IND",
                      "JALKARAN BALHARA"
                    ],
                    [
                      "IND",
                      "RANBIR SINGH"
                    ],
                    [
                      "PPI(D)",
                      "KRISHAN"
                    ],
                    [
                      "IND",
                      "NEERAJ"
                    ],
                    [
                      "IND",
                      "KRISHAN"
                    ],
                    [
                      "IND",
                      "DAYA KRISHAN"
                    ],
                    [
                      "INC",
                      "BHUPINDER SINGH HOODA"
                    ],
                    [
                      "BJP",
                      "MANJU"
                    ],
                    [
                      "INLD",
                      "KRISHAN"
                    ],
                    [
                      "AAP",
                      "PARVEEN"
                    ],
                    [
                      "JJP",
                      "SUSHILA DEVI"
                    ],
                    [
                      "NOTA",
                      "NOTA"
                    ],
                    [
                      "IND",
                      "BIJENDER SINGH"
                    ],
                    [
                      "IND",
                      "MUKESH"
                    ],
                    [
                      "IND",
                      "SANJAY"
                    ],
                    [
                      "IND",
                      "AMIT HOODA"
                    ],
                    [
                      "INC",
                      "BHARAT BHUSHAN BATRA"
                    ],
                    [
                      "BJP",
                      "MANISH KUMAR GROVER"
                    ],
                    [
                      "AAP",
                      "BIJENDER HOODA"
                    ],
                    [
                      "NOTA",
                      "NOTA"
                    ],
                    [
                      "INLD",
                      "DILOUR MEHRA"
                    ],
                    [
                      "JJP",
                      "JITENDER BALHARA"
                    ],
                    [
                      "Other",
                      "PARVEEN KUMAR"
                    ],
                    [
                      "Other",
                      "MAHENDER BAGRI"
                    ],
                    [
                      "IND",
                      "BISHAMBER KUMAR"
                    ],
                    [
                      "IND",
                      "BHARAT BHUSHAN"
                    ],
                    [
                      "Other",
                      "MANISHA MOKHRA"
                    ],
                    [
                      "IND",
                      "ASHWANI MALIK"
                    ],
                    [
                      "IND",
                      "YASHPAL"
                    ],
                    [
                      "IND",
                      "ANAND KUMAR"
                    ],
                    [
                      "IND",
                      "NAVDEEP SINGH  RAMAN"
                    ],
                    [
                      "IND",
                      "SURENDER KUMAR"
                    ],
                    [
                      "INC",
                      "SHAKUNTLA KHATAK"
                    ],
                    [
                      "BJP",
                      "RENU DABLA"
                    ],
                    [
                      "IND",
                      "PREM PRADHAN"
                    ],
                    [
                      "BSP",
                      "POONAM NIGANA"
                    ],
                    [
                      "JJP",
                      "MAHENDER SUNDANA"
                    ],
                    [
                      "AAP",
                      "NARESH BAGRI"
                    ],
                    [
                      "NOTA",
                      "NOTA"
                    ],
                    [
                      "IND",
                      "DEEPAK SINGH"
                    ],
                    [
                      "Other",
                      "MANJEET"
                    ],
                    [
                      "IND",
                      "SNEH ARYA"
                    ],
                    [
                      "AAPP",
                      "BABA ISHWAR NATH"
                    ],
                    [
                      "PPI(D)",
                      "OM PARKASH"
                    ],
                    [
                      "IND",
                      "VINOD"
                    ],
                    [
                      "NCP",
                      "RANBIR"
                    ],
                    [
                      "IND",
                      "RAJESH JOON"
                    ],
                    [
                      "BJP",
                      "DINESH KAUSHIK"
                    ],
                    [
                      "INC",
                      "RAJINDER SINGH JOON"
                    ],
                    [
                      "INLD",
                      "SHEELA NAFE SINGH RATHEE"
                    ],
                    [
                      "IND",
                      "RAMESH DALAL"
                    ],
                    [
                      "AAP",
                      "KULDEEP SINGH CHHIKARA"
                    ],
                    [
                      "NOTA",
                      "NOTA"
                    ],
                    [
                      "IND",
                      "RAJESH KUMAR S/O CHATTAR SINGH"
                    ],
                    [
                      "IND",
                      "RAJESH KUMAR S/O RAMDIYA"
                    ],
                    [
                      "IND",
                      "ROHIT KUMAR"
                    ],
                    [
                      "IND",
                      "MAHENDER"
                    ],
                    [
                      "IND",
                      "SUNITA"
                    ],
                    [
                      "IND",
                      "PARVEEN KUMAR"
                    ],
                    [
                      "IND",
                      "ARUN GOYAL"
                    ],
                    [
                      "IND",
                      "CHESTA"
                    ],
                    [
                      "INC",
                      "KULDEEP VATS"
                    ],
                    [
                      "BJP",
                      "OMPRAKASH DHANKAR"
                    ],
                    [
                      "IND",
                      "AJIT GULIA JEETE"
                    ],
                    [
                      "AAP",
                      "HARPAL SINGH"
                    ],
                    [
                      "JJP",
                      "KRISHAN KUMAR"
                    ],
                    [
                      "NOTA",
                      "NOTA"
                    ],
                    [
                      "IND",
                      "SANDEEP"
                    ],
                    [
                      "IND",
                      "AMIT KUMAR"
                    ],
                    [
                      "IND",
                      "VIRENDER SINGH BILU"
                    ],
                    [
                      "IND",
                      "POONAM"
                    ],
                    [
                      "INC",
                      "GEETA BHUKKAL"
                    ],
                    [
                      "BJP",
                      "KAPTAN BIRDHANA"
                    ],
                    [
                      "JJP",
                      "NASEEB SONU"
                    ],
                    [
                      "BSP",
                      "DHARAMBIR SINGH"
                    ],
                    [
                      "AAP",
                      "MAHINDER DAHIYA"
                    ],
                    [
                      "NOTA",
                      "NOTA"
                    ],
                    [
                      "Other",
                      "JAIDEEP"
                    ],
                    [
                      "IND",
                      "SUNIL KUMAR"
                    ],
                    [
                      "IND",
                      "NARENDER SINGH FAUJI"
                    ],
                    [
                      "IND",
                      "RAJAL"
                    ],
                    [
                      "IND",
                      "SATBIR CHUMBAK ADVOCATE"
                    ],
                    [
                      "IND",
                      "SANJAY"
                    ],
                    [
                      "INC",
                      "RAGHUVIR SINGH KADIAN"
                    ],
                    [
                      "BJP",
                      "SANJAY KUMAR"
                    ],
                    [
                      "IND",
                      "AMIT KUMAR"
                    ],
                    [
                      "INLD",
                      "PERMOD"
                    ],
                    [
                      "IND",
                      "INDERJEET SUHAG"
                    ],
                    [
                      "AAP",
                      "SONU"
                    ],
                    [
                      "IND",
                      "GOWARDHAN SINGH"
                    ],
                    [
                      "JJP",
                      "SUNIL"
                    ],
                    [
                      "NOTA",
                      "NOTA"
                    ],
                    [
                      "BJP",
                      "ARTI SINGH RAO"
                    ],
                    [
                      "BSP",
                      "ATTAR LAL"
                    ],
                    [
                      "INC",
                      "ANITA YADAV"
                    ],
                    [
                      "JJP",
                      "AAYUSHI ABHIMANYU RAO"
                    ],
                    [
                      "NOTA",
                      "NOTA"
                    ],
                    [
                      "AAP",
                      "SUNEEL RAO"
                    ],
                    [
                      "Other",
                      "COMRADE OM PARKASH"
                    ],
                    [
                      "IND",
                      "JOGENDER FOUJI"
                    ],
                    [
                      "IND",
                      "SADHNA"
                    ],
                    [
                      "BJP",
                      "KANWAR SINGH"
                    ],
                    [
                      "INC",
                      "RAO DAN SINGH"
                    ],
                    [
                      "IND",
                      "SANDEEP SINGH"
                    ],
                    [
                      "INLD",
                      "SURENDER KAUSHIK"
                    ],
                    [
                      "AAP",
                      "DR. MANISH YADAV"
                    ],
                    [
                      "IND",
                      "BALWAN FAUJI"
                    ],
                    [
                      "IND",
                      "DR. BHUP SINGH YADAV"
                    ],
                    [
                      "Other",
                      "RAKESH SINGH"
                    ],
                    [
                      "ASP(KR)",
                      "SHASHI KUMAR"
                    ],
                    [
                      "NOTA",
                      "NOTA"
                    ],
                    [
                      "IND",
                      "VED PRAKASH"
                    ],
                    [
                      "Other",
                      "VISHNU YADAV"
                    ],
                    [
                      "IND",
                      "PUSHKAR RAJ GUPTA"
                    ],
                    [
                      "IND",
                      "NARENDER KUMAR"
                    ],
                    [
                      "BJP",
                      "OM PRAKASH YADAV"
                    ],
                    [
                      "INC",
                      "RAO NARENDER SINGH"
                    ],
                    [
                      "AAP",
                      "RAVINDER SINGH MATRU"
                    ],
                    [
                      "NOTA",
                      "NOTA"
                    ],
                    [
                      "INLD",
                      "NAR SINGH"
                    ],
                    [
                      "JJP",
                      "SURESH KUMAR SAINI"
                    ],
                    [
                      "IND",
                      "UMAKANT"
                    ],
                    [
                      "IND",
                      "KRISHAN KUMAR"
                    ],
                    [
                      "IND",
                      "KRISHAN KUMAR"
                    ],
                    [
                      "Other",
                      "TEJ PRAKASH"
                    ],
                    [
                      "RRP",
                      "VIKAS"
                    ],
                    [
                      "IND",
                      "SABHARAM"
                    ],
                    [
                      "INC",
                      "MANJU CHOUDHARY"
                    ],
                    [
                      "BJP",
                      "DR. ABHE SINGH YADAV"
                    ],
                    [
                      "JJP",
                      "RAO OM PRAKASH ENGINEER"
                    ],
                    [
                      "NOTA",
                      "NOTA"
                    ],
                    [
                      "Other",
                      "SAGAR CHAUHAN"
                    ],
                    [
                      "IND",
                      "KARTAR SINGH"
                    ],
                    [
                      "BJP",
                      "DR. KRISHAN KUMAR"
                    ],
                    [
                      "INC",
                      "DR. M.L. RANGA"
                    ],
                    [
                      "INLD",
                      "SAMPAT RAM DAHANWAL"
                    ],
                    [
                      "AAP",
                      "JAWAHAR LAL"
                    ],
                    [
                      "NOTA",
                      "NOTA"
                    ],
                    [
                      "IND",
                      "SUNIL KUMAR"
                    ],
                    [
                      "IND",
                      "RAJ NARAYAN"
                    ],
                    [
                      "IND",
                      "MANGAT RAM"
                    ],
                    [
                      "IND",
                      "BALJEET"
                    ],
                    [
                      "Other",
                      "DR. LEKHRAM MEHRA"
                    ],
                    [
                      "IND",
                      "INDER SINGH"
                    ],
                    [
                      "BJP",
                      "ANIL YADAV"
                    ],
                    [
                      "INC",
                      "JAGDISH YADAV"
                    ],
                    [
                      "IND",
                      "MANOJ KOSLIA"
                    ],
                    [
                      "NOTA",
                      "NOTA"
                    ],
                    [
                      "IND",
                      "HARIOM YADAV KOSLIA"
                    ],
                    [
                      "BSP",
                      "RAJ KUMAR"
                    ],
                    [
                      "JJP",
                      "LAVINDER SINGH"
                    ],
                    [
                      "IND",
                      "SANTOSH"
                    ],
                    [
                      "Other",
                      "COMRADE RAMKUMAR NIMOTH"
                    ],
                    [
                      "Other",
                      "SATYAVIR SINGH AMBEDKAR"
                    ],
                    [
                      "IND",
                      "MUKESH KUMAR"
                    ],
                    [
                      "IND",
                      "ARTI RAO"
                    ],
                    [
                      "Other",
                      "TEJPAL YADAV KOSLI"
                    ],
                    [
                      "IND",
                      "KARAMJEET"
                    ],
                    [
                      "IND",
                      "ANIL KUMAR"
                    ],
                    [
                      "RRP",
                      "NAVAL SINGH"
                    ],
                    [
                      "Other",
                      "BHAGIRATH DABLA BOHTWAS"
                    ],
                    [
                      "IND",
                      "INDERJEET"
                    ],
                    [
                      "BJP",
                      "LAXMAN SINGH YADAV"
                    ],
                    [
                      "INC",
                      "CHIRANJEEV RAO"
                    ],
                    [
                      "AAP",
                      "SATISH YADAV"
                    ],
                    [
                      "IND",
                      "PRASHANT SUNNY YADAV"
                    ],
                    [
                      "BSP",
                      "SOMANY VIJAY"
                    ],
                    [
                      "NOTA",
                      "NOTA"
                    ],
                    [
                      "IND",
                      "SHISHUPAL"
                    ],
                    [
                      "IND",
                      "SANJAY SHARMA"
                    ],
                    [
                      "ASP(KR)",
                      "MOKI DEVI"
                    ],
                    [
                      "Other",
                      "RANBIR SINGH"
                    ],
                    [
                      "PPI(D)",
                      "KARTAR SINGH THEKEDAR"
                    ],
                    [
                      "IND",
                      "RAO JITENDER KUMAR"
                    ],
                    [
                      "IND",
                      "OMDUTT YADAV"
                    ],
                    [
                      "BJP",
                      "BIMLA CHAUDHARY"
                    ],
                    [
                      "INC",
                      "PEARL CHOUDHARY"
                    ],
                    [
                      "INLD",
                      "PAWAN KUMAR BHORA"
                    ],
                    [
                      "AAP",
                      "PARDEEP JATAULI"
                    ],
                    [
                      "JJP",
                      "AMARNATH J. E."
                    ],
                    [
                      "NOTA",
                      "NOTA"
                    ],
                    [
                      "IND",
                      "GURDASS"
                    ],
                    [
                      "IND",
                      "SATYAVIR JANAULA"
                    ],
                    [
                      "BJP",
                      "RAO NARBIR SINGH"
                    ],
                    [
                      "INC",
                      "VARDHAN YADAV"
                    ],
                    [
                      "IND",
                      "KUMUDNI RAKESH DAULTABAD"
                    ],
                    [
                      "AAP",
                      "BIR SINGH BIRU SARPANCH"
                    ],
                    [
                      "Other",
                      "COMRADE BALWAN SINGH"
                    ],
                    [
                      "NOTA",
                      "NOTA"
                    ],
                    [
                      "BSP",
                      "JOGINDER SINGH"
                    ],
                    [
                      "JJP",
                      "SURENDER KUMAR"
                    ],
                    [
                      "IND",
                      "RAVINDER YADAV"
                    ],
                    [
                      "IND",
                      "SATISH"
                    ],
                    [
                      "IND",
                      "RAMBHAGAT YADAV"
                    ],
                    [
                      "IND",
                      "VINOD KUMAR"
                    ],
                    [
                      "IND",
                      "RAKESH BHARDWAJ"
                    ],
                    [
                      "Other",
                      "CHANDERPAL"
                    ],
                    [
                      "BJP",
                      "MUKESH SHARMA"
                    ],
                    [
                      "IND",
                      "NAVEEN GOYAL"
                    ],
                    [
                      "INC",
                      "MOHIT GROVER"
                    ],
                    [
                      "AAP",
                      "DR. NISHANT ANAND"
                    ],
                    [
                      "NOTA",
                      "NOTA"
                    ],
                    [
                      "Other",
                      "ANKIT ALAGH JAN SEWAK"
                    ],
                    [
                      "INLD",
                      "GAURAV BHATI"
                    ],
                    [
                      "IND",
                      "NARESH KUMAR BATRA"
                    ],
                    [
                      "IND",
                      "SUNIL"
                    ],
                    [
                      "IND",
                      "MUKESH SHARMA"
                    ],
                    [
                      "IND",
                      "SANJAY LAL"
                    ],
                    [
                      "JJP",
                      "ASHOK JANGRA"
                    ],
                    [
                      "IND",
                      "MAHABIR SINGH"
                    ],
                    [
                      "IND",
                      "NARENDER KUMAR"
                    ],
                    [
                      "IND",
                      "SOHAN LAL SHARMA"
                    ],
                    [
                      "Other",
                      "JAWAHAR LAL"
                    ],
                    [
                      "Other",
                      "RAJESH SHEORAN"
                    ],
                    [
                      "IND",
                      "AKSHAT GAIT"
                    ],
                    [
                      "BJP",
                      "TEJPAL TANWAR"
                    ],
                    [
                      "INC",
                      "ROHTAS SINGH"
                    ],
                    [
                      "IND",
                      "JAVED AHMED"
                    ],
                    [
                      "IND",
                      "KALYAN SINGH"
                    ],
                    [
                      "BSP",
                      "SUNDER BHADANA"
                    ],
                    [
                      "AAP",
                      "DHARMENDRA KHATANA"
                    ],
                    [
                      "ASP(KR)",
                      "VINESH GUJJAR GHATA"
                    ],
                    [
                      "NOTA",
                      "NOTA"
                    ],
                    [
                      "Other",
                      "ATAULLAH KHAN"
                    ],
                    [
                      "IND",
                      "DAYARAM"
                    ],
                    [
                      "IND",
                      "SUBHASH CHAND"
                    ],
                    [
                      "INC",
                      "AFTAB AHMED"
                    ],
                    [
                      "INLD",
                      "TAHIR HUSSAIN"
                    ],
                    [
                      "BJP",
                      "SANJAY SINGH"
                    ],
                    [
                      "JJP",
                      "BIRENDER"
                    ],
                    [
                      "NOTA",
                      "NOTA"
                    ],
                    [
                      "AAP",
                      "RABIA KIDWAI"
                    ],
                    [
                      "Other",
                      "ANWAR"
                    ],
                    [
                      "INC",
                      "MAMMAN KHAN"
                    ],
                    [
                      "BJP",
                      "NASEEM AHMED"
                    ],
                    [
                      "INLD",
                      "MOHAMMAD HABIB"
                    ],
                    [
                      "IND",
                      "MUMTAJ AHMED"
                    ],
                    [
                      "JJP",
                      "JAAN MOHAMMAD"
                    ],
                    [
                      "NOTA",
                      "NOTA"
                    ],
                    [
                      "IND",
                      "NARENDER KUMAR"
                    ],
                    [
                      "AAP",
                      "WASEEM ZAFFER"
                    ],
                    [
                      "IND",
                      "MOHD. HASHIM"
                    ],
                    [
                      "INC",
                      "MOHAMMAD ILYAS"
                    ],
                    [
                      "IND",
                      "RAHISH KHAN"
                    ],
                    [
                      "BJP",
                      "MOHD AIZAZ KHAN"
                    ],
                    [
                      "AAP",
                      "NAYAB HUSSAIN"
                    ],
                    [
                      "ASP(KR)",
                      "ATAULLAH"
                    ],
                    [
                      "NOTA",
                      "NOTA"
                    ],
                    [
                      "INLD",
                      "DAYA WATI"
                    ],
                    [
                      "IND",
                      "SAJID"
                    ],
                    [
                      "INC",
                      "MOHD ISRAIL"
                    ],
                    [
                      "BJP",
                      "MANOJ KUMAR"
                    ],
                    [
                      "INLD",
                      "TAYUB HUSAIN URF NAZIR AHMED"
                    ],
                    [
                      "IND",
                      "DHARMENDRA TEWATIA"
                    ],
                    [
                      "JJP",
                      "RAVINDER KUMAR"
                    ],
                    [
                      "IND",
                      "KEHAR SINGH"
                    ],
                    [
                      "AAP",
                      "RAJENDRA SINGH RAWAT"
                    ],
                    [
                      "NOTA",
                      "NOTA"
                    ],
                    [
                      "IND",
                      "PRADEEP KUMAR"
                    ],
                    [
                      "BJP",
                      "HARINDER SINGH"
                    ],
                    [
                      "INC",
                      "UDAI BHAN"
                    ],
                    [
                      "IND",
                      "NAVEEN ROHILA"
                    ],
                    [
                      "INLD",
                      "SUNIL KUMAR"
                    ],
                    [
                      "IND",
                      "SUNITA SOROUT"
                    ],
                    [
                      "NOTA",
                      "NOTA"
                    ],
                    [
                      "AAP",
                      "MANOHAR"
                    ],
                    [
                      "JJP",
                      "SATVEER"
                    ],
                    [
                      "IND",
                      "USHMA DEVI"
                    ],
                    [
                      "IND",
                      "NEERAJ SOUROT"
                    ],
                    [
                      "IND",
                      "YASHVEER"
                    ],
                    [
                      "IND",
                      "RAJNI"
                    ],
                    [
                      "IND",
                      "KULDEEP KUMAR"
                    ],
                    [
                      "BJP",
                      "GAURAV GAUTAM"
                    ],
                    [
                      "INC",
                      "KARAN SINGH DALAL"
                    ],
                    [
                      "ASP(KR)",
                      "HARIT KUMAR"
                    ],
                    [
                      "BSP",
                      "ABHISHEK DESHWAL"
                    ],
                    [
                      "IND",
                      "SHIV DUTT"
                    ],
                    [
                      "AAP",
                      "DHARMENDER SINGH"
                    ],
                    [
                      "NOTA",
                      "NOTA"
                    ],
                    [
                      "IND",
                      "SUNIL KUMAR"
                    ],
                    [
                      "IND",
                      "MAMTA SOLANKI"
                    ],
                    [
                      "IND",
                      "GIRRAJ"
                    ],
                    [
                      "ABSP",
                      "SATBIR SINGH"
                    ],
                    [
                      "Other",
                      "RAMPAL"
                    ],
                    [
                      "Other",
                      "GOPAL DUTT"
                    ],
                    [
                      "Other",
                      "PANCH LAL PRASAD"
                    ],
                    [
                      "INC",
                      "RAGHUBIR TEWATIA"
                    ],
                    [
                      "BJP",
                      "TEK CHAND SHARMA"
                    ],
                    [
                      "IND",
                      "NAYANPAL RAWAT"
                    ],
                    [
                      "IND",
                      "DEEPAK DAGAR"
                    ],
                    [
                      "BSP",
                      "SURENDER VASHISHT"
                    ],
                    [
                      "IND",
                      "ABDUT NATH"
                    ],
                    [
                      "IND",
                      "BIJENDER SINGH ADVOCATE"
                    ],
                    [
                      "AAP",
                      "KAUSHAL TATARPUR"
                    ],
                    [
                      "NOTA",
                      "NOTA"
                    ],
                    [
                      "IND",
                      "RAHUL"
                    ],
                    [
                      "Other",
                      "MUKESH"
                    ],
                    [
                      "IND",
                      "SAMEY SINGH"
                    ],
                    [
                      "ASP(KR)",
                      "GIRIRAJ JATOLA"
                    ],
                    [
                      "IND",
                      "JITENDER KUMAR"
                    ],
                    [
                      "BJP",
                      "SATISH KUMAR PHAGNA"
                    ],
                    [
                      "INC",
                      "NEERAJ SHARMA"
                    ],
                    [
                      "INLD",
                      "NAGENDER BHADANA"
                    ],
                    [
                      "JJP",
                      "HAJI KARAMAT ALI"
                    ],
                    [
                      "AAP",
                      "RAVI DAGAR"
                    ],
                    [
                      "NOTA",
                      "NOTA"
                    ],
                    [
                      "Other",
                      "DHEERAJ KUMAR"
                    ],
                    [
                      "IND",
                      "RAJKUMAR"
                    ],
                    [
                      "IND",
                      "JITENDER KUMAR"
                    ],
                    [
                      "Other",
                      "VINOD SINGH"
                    ],
                    [
                      "IND",
                      "RAVINDER GUPTA"
                    ],
                    [
                      "Other",
                      "MANISH"
                    ],
                    [
                      "IND",
                      "RANJOT"
                    ],
                    [
                      "Other",
                      "RAM PARTAP GAUR"
                    ],
                    [
                      "BJP",
                      "DHANESH ADLAKHA"
                    ],
                    [
                      "INC",
                      "VIJAY PRATAP SINGH"
                    ],
                    [
                      "BSP",
                      "MANOJ CHOUDHARY"
                    ],
                    [
                      "AAP",
                      "OM PRAKASH VERMA"
                    ],
                    [
                      "NOTA",
                      "NOTA"
                    ],
                    [
                      "JJP",
                      "PARVINDER SINGH"
                    ],
                    [
                      "Other",
                      "KAMAL BALI"
                    ],
                    [
                      "Other",
                      "PREM CHAND GAUR"
                    ],
                    [
                      "IND",
                      "BAKIL AKHTAR"
                    ],
                    [
                      "IND",
                      "AABID KHAN"
                    ],
                    [
                      "BJP",
                      "MOOL CHAND SHARMA"
                    ],
                    [
                      "IND",
                      "SHARDA RATHORE"
                    ],
                    [
                      "IND",
                      "RAO RAM KUMAR"
                    ],
                    [
                      "INC",
                      "SMT. PARAG SHARMA"
                    ],
                    [
                      "AAP",
                      "RAVINDRA FAUJDAR"
                    ],
                    [
                      "NOTA",
                      "NOTA"
                    ],
                    [
                      "IND",
                      "VANDANA SINGH"
                    ],
                    [
                      "IND",
                      "ADVOCATE BRAHMA PRAKASH"
                    ],
                    [
                      "Other",
                      "ATUL"
                    ],
                    [
                      "BJP",
                      "VIPUL GOEL"
                    ],
                    [
                      "INC",
                      "LAKHAN KUMAR SINGLA"
                    ],
                    [
                      "NOTA",
                      "NOTA"
                    ],
                    [
                      "AAP",
                      "PRAVESH MEHTA"
                    ],
                    [
                      "INLD",
                      "NARENDER PAL SINGH BAGHEL"
                    ],
                    [
                      "IND",
                      "VIJAY KRISHAN"
                    ],
                    [
                      "IND",
                      "ADARSH BALYAN"
                    ],
                    [
                      "IND",
                      "RAKESH KAPIL DAGAR"
                    ],
                    [
                      "IND",
                      "MANOJ DUREJA"
                    ],
                    [
                      "BJP",
                      "RAJESH NAGAR"
                    ],
                    [
                      "IND",
                      "LALIT NAGAR S/O LATE BHARAT SINGH NAGAR"
                    ],
                    [
                      "INC",
                      "ROHIT NAGAR"
                    ],
                    [
                      "IND",
                      "GIRRAJ SHARMA"
                    ],
                    [
                      "AAP",
                      "ABHASH CHANDELA"
                    ],
                    [
                      "Other",
                      "SHIV NARAYAN DUBEY"
                    ],
                    [
                      "BSP",
                      "LAL CHAND SHARMA"
                    ],
                    [
                      "NOTA",
                      "NOTA"
                    ],
                    [
                      "Other",
                      "SOMESHWAR SINGH"
                    ],
                    [
                      "IND",
                      "LALIT NAGAR S/O VIJAY PAL"
                    ],
                    [
                      "JJP",
                      "TIKA RAM"
                    ],
                    [
                      "IND",
                      "SANDEEP MEHTA"
                    ],
                    [
                      "Other",
                      "RAM BAHADUR"
                    ],
                    [
                      "IND",
                      "PUNDIT SUBHASH CHANDRA DUBEY GORAKHPURI"
                    ]
                  ],
                  "hovertemplate": "%{y}<br>%{customdata[1]}<br>%{customdata[0]} %{x} votes",
                  "hovertext": [
                    "('BJP', 'SHAKTI RANI SHARMA')",
                    "('INC', 'PARDEEP CHAUDHARY')",
                    "('IND', 'GOPAL SUKHOMAJRI')",
                    "('BSP', 'CHARAN SINGH')",
                    "('AAP', 'OM PARKASH GUJJAR')",
                    "('NOTA', 'NOTA')",
                    "('IND', 'AMIT SHARMA')",
                    "('IND', 'VISHAL')",
                    "('INC', 'CHANDER MOHAN')",
                    "('BJP', 'GIAN CHAND GUPTA')",
                    "('AAP', 'PREM GARG')",
                    "('INLD', 'DR KSHITIJ CHOUDHARY')",
                    "('JJP', 'SUSHIL GARG')",
                    "('NOTA', 'NOTA')",
                    "('IND', 'M P SHARMA')",
                    "('IND', 'NATASHA SOOD')",
                    "('IND', 'SAROJ BALA')",
                    "('RRP', 'KISHAN SINGH NEGI')",
                    "('Other', 'BHARAT BHUSHAN GURJAR')",
                    "('INC', 'SHALLEY CHAUDHARY')",
                    "('BJP', 'DR. PAWAN SAINI')",
                    "('BSP', 'HARBILAS SINGH')",
                    "('AAP', 'GURPAL SINGH')",
                    "('NOTA', 'NOTA')",
                    "('IND', 'NEETU')",
                    "('Other', 'SEEMA DEVI')",
                    "('IND', 'DHARAMPAL')",
                    "('BJP', 'ANIL VIJ')",
                    "('IND', 'CHITRA SARWARA')",
                    "('INC', 'PARVINDER PAL PARI')",
                    "('INLD', 'ONKAR SINGH')",
                    "('JJP', 'AVTAR SINGH')",
                    "('IND', 'DHARMESH SOOD RINKU')",
                    "('NOTA', 'NOTA')",
                    "('AAP', 'RAJ KAUR GILL')",
                    "('Other', 'NAVEEN KUMAR')",
                    "('IND', 'NAVEEN BIDLA')",
                    "('IND', 'JASWINDER GOLU')",
                    "('IND', 'SUNIL VERMA')",
                    "('INC', 'NIRMAL SINGH MOHRA')",
                    "('BJP', 'ASEEM GOEL NANEOLA')",
                    "('ASP(KR)', 'PARUL NAGPAL UDAIPURIA')",
                    "('AAP', 'KETAN SHARMA')",
                    "('NOTA', 'NOTA')",
                    "('BSP', 'MALKIT SINGH BHANOKHERI')",
                    "('IND', 'SATNAM SINGH')",
                    "('IND', 'BHUPINDER')",
                    "('IND', 'SUNIL DUTT')",
                    "('IND', 'MAYUR NANDA')",
                    "('IND', 'SACHIN KUMAR')",
                    "('IND', 'LALIT WALIA')",
                    "('INC', 'POOJA')",
                    "('BJP', 'SANTOSH CHAUHAN SARWAN')",
                    "('INLD', 'PRAKASH BHARTI')",
                    "('JJP', 'DR RAVINDER DHEEN')",
                    "('IND', 'DALIP SINGH')",
                    "('AAP', 'GURTEJ SINGH')",
                    "('IND', 'AJAIB SINGH SODHI')",
                    "('Other', 'PRITAM SINGH')",
                    "('NOTA', 'NOTA')",
                    "('IND', 'HAVELI RAM')",
                    "('IND', 'HARKESH KUMAR')",
                    "('INC', 'RENU BALA')",
                    "('BJP', 'BALWANT SINGH')",
                    "('BSP', 'BRIJ PAL')",
                    "('ASP(KR)', 'SOHIL')",
                    "('AAP', 'RITA RANI')",
                    "('NOTA', 'NOTA')",
                    "('IND', 'BETA MAMCHAND RATTU')",
                    "('Other', 'JAI PAL')",
                    "('Other', 'JASBIR SINGH')",
                    "('IND', 'POOJA NAGRA')",
                    "('INC', 'AKRAM KHAN')",
                    "('BJP', 'KANWAR PAL')",
                    "('AAP', 'ADARSH PAL SINGH')",
                    "('BSP', 'DARSHAN LAL')",
                    "('ASP(KR)', 'ASHOK KUMAR')",
                    "('NOTA', 'NOTA')",
                    "('IND', 'YOGESH SETHI (YOGI)')",
                    "('Other', 'DR. NITESH CHOPRA (HONEY)')",
                    "('IND', 'YAJUVINDER SINGH')",
                    "('IND', 'ADITYA KUMAR SHASTRI')",
                    "('Other', 'SONI')",
                    "('IND', 'GURDEV SINGH')",
                    "('BJP', 'GHANSHYAM DASS')",
                    "('INC', 'RAMAN TYAGI')",
                    "('INLD', 'DILBAG SINGH')",
                    "('AAP', 'LALIT KUMAR TYAGI')",
                    "('NOTA', 'NOTA')",
                    "('JJP', 'INTZAR ALI')",
                    "('IND', 'KAPIL')",
                    "('PPI(D)', 'MANGA RAM')",
                    "('Other', 'NIRMALJEET KAUR')",
                    "('IND', 'SUKHWINDER')",
                    "('Other', 'KANCHAN SHARMA')",
                    "('BJP', 'SHYAM SINGH RANA')",
                    "('INC', 'DR. BISHAN LAL SAINI')",
                    "('BSP', 'DHARAMPAL TIGRA')",
                    "('AAP', 'BHIM SINGH RATHI')",
                    "('ASP(KR)', 'MANDEEP TOPRA')",
                    "('Other', 'DIWAN CHAND KAMBOJ')",
                    "('NOTA', 'NOTA')",
                    "('IND', 'JAI PARKASH SHARMA')",
                    "('Other', 'DAYANAND')",
                    "('IND', 'ANIL KUMAR BATTA')",
                    "('IND', 'ASHOK KUMAR')",
                    "('BJP', 'NAYAB SINGH')",
                    "('INC', 'MEWA SINGH')",
                    "('IND', 'VIKRAMJEET SINGH CHEEMA')",
                    "('INLD', 'SAPNA BARSHAMI')",
                    "('IND', 'SANDEEP GARG LADWA')",
                    "('AAP', 'JOGA SINGH UMRI')",
                    "('IND', 'KASHYAP RAM CHANDER')",
                    "('IND', 'ASHOK SAINI HAMID PUR')",
                    "('IND', 'BHAJAN SINGH')",
                    "('NOTA', 'NOTA')",
                    "('JJP', 'VINOD KUMAR SHARMA')",
                    "('Other', 'VIKRAM SINGH SAINI')",
                    "('PPI(D)', 'MAN SINGH BAPDA')",
                    "('IND', 'RAJKUMAR')",
                    "('Other', 'SATISH KUMAR')",
                    "('Other', 'SUBHASH SAINI')",
                    "('IND', 'PARVEEN KUMAR')",
                    "('INC', 'RAM KARAN')",
                    "('BJP', 'SUBHASH CHAND')",
                    "('BSP', 'CHANDER BHAN CHAUHAN')",
                    "('Other', 'KANTA AALLDIA')",
                    "('AAP', 'ASHA RANI')",
                    "('NOTA', 'NOTA')",
                    "('JJP', 'RAJEETA SINGH')",
                    "('IND', 'PAWAN KUMAR')",
                    "('IND', 'RAJESH KANIPLA')",
                    "('IND', 'SHIV NATH')",
                    "('INC', 'ASHOK KUMAR ARORA')",
                    "('BJP', 'SUBHASH SUDHA')",
                    "('AAP', 'KRISHAN BAJAJ')",
                    "('BSP', 'TANUJA')",
                    "('NOTA', 'NOTA')",
                    "('JJP', 'SURYA PARTAP SINGH RATHORE')",
                    "('IND', 'ABHISHEK PUNIA')",
                    "('Other', 'JAIVEER SINGH RANGA')",
                    "('IND', 'MEHAR')",
                    "('IND', 'ASHOK KUMAR')",
                    "('INC', 'MANDEEP CHATHA')",
                    "('BJP', 'JAI BHAGWAN SHARMA (DD)')",
                    "('INLD', 'BALDEV SINGH WARAICH')",
                    "('JJP', 'DR. SUKHWINDER KAUR')",
                    "('Other', 'GURNAM SINGH')",
                    "('AAP', 'GEHAL SINGH SANDHU')",
                    "('IND', 'RAJAT SHARMA ISMAILABAD')",
                    "('NOTA', 'NOTA')",
                    "('IND', 'SHYAM LAL GUMTHALA GARHU')",
                    "('Other', 'KULDEEP SINGH')",
                    "('INC', 'DEVENDER HANS')",
                    "('BJP', 'KULWANT RAM BAZIGAR')",
                    "('IND', 'NARESH KUMAR')",
                    "('JJP', 'KRISHAN KUMAR')",
                    "('AAP', 'RAKESH KUMAR')",
                    "('INLD', 'POONAM RANI')",
                    "('IND', 'AMARJEET SINGH')",
                    "('NOTA', 'NOTA')",
                    "('Other', 'BHUPINDER SINGH')",
                    "('Other', 'MANOJ KUMAR')",
                    "('INC', 'VIKAS SAHARAN')",
                    "('BJP', 'KAMLESH DHANDA')",
                    "('IND', 'ANITA DHULL BADSIKRI')",
                    "('INLD', 'RAMPAL MAJRA')",
                    "('IND', 'VINOD NIRMAL')",
                    "('IND', 'SATVINDER SINGH RANA')",
                    "('AAP', 'ANURAG DHANDA')",
                    "('IND', 'ASHISH RASILA')",
                    "('JJP', 'PRITAM KOLEKHAN')",
                    "('NOTA', 'NOTA')",
                    "('IND', 'SANDEEP KOTRA ADVOCATE')",
                    "('IND', 'RAJESH KUMAR')",
                    "('IND', 'SALINDER KUMAR')",
                    "('IND', 'JITENDER SINGH URF DHOLA')",
                    "('IND', 'RAJENDER KUMAR')",
                    "('INC', 'ADITYA SURJEWALA')",
                    "('BJP', 'LEELA RAM')",
                    "('BSP', 'ANIL TANWER')",
                    "('JJP', 'SANDEEP GARHI')",
                    "('AAP', 'SATBIR SINGH GOYAT')",
                    "('NOTA', 'NOTA')",
                    "('IND', 'FOUJI SURESH KUMAR')",
                    "('IND', 'PATASHO DEVI')",
                    "('IND', 'SATISH KUMAR')",
                    "('IND', 'ASHWINI SHARMA HRITTWAL')",
                    "('IND', 'BALRAJ SINGH')",
                    "('IND', 'DR. MAHESH CHAND GAUR')",
                    "('IND', 'CHAND KALYAN')",
                    "('BJP', 'SATPAL JAMBA')",
                    "('IND', 'SATBIR BHANA')",
                    "('INC', 'SULTAN JADAULA')",
                    "('IND', 'GURINDER SINGH HABRI')",
                    "('IND', 'SAJJAN SINGH DHULL')",
                    "('BSP', 'HISAM SINGH BHUKKAL')",
                    "('IND', 'DINESH KAUSHIK')",
                    "('AAP', 'NARENDER SHARMA')",
                    "('IND', 'HARIPAL PAHALWAN')",
                    "('IND', 'NARESH KUMAR PHARAL')",
                    "('IND', 'ADVOCATE RAKESH SHARMA')",
                    "('IND', 'PARMOD CHUHARMAJRA')",
                    "('Other', 'BABU RAM')",
                    "('NOTA', 'NOTA')",
                    "('IND', 'AMIT KUMAR')",
                    "('IND', 'DILBAG BHANA')",
                    "('IND', 'SUNITA BATTAN')",
                    "('PPI(D)', 'ENGINEER SURESH KUMAR')",
                    "('IND', 'RANDHIR SINGH GOLLEN')",
                    "('BJP', 'BHAGWAN DASS')",
                    "('INC', 'DHARAM PAL')",
                    "('IND', 'RAJ KUMAR')",
                    "('INLD', 'BALWAN SINGH')",
                    "('Other', 'GAURAV BAKHSHI')",
                    "('AAP', 'AMAR SINGH')",
                    "('IND', 'VED PARKASH')",
                    "('ASP(KR)', 'KARAM SINGH')",
                    "('NOTA', 'NOTA')",
                    "('IND', 'DYAL SINGH')",
                    "('IND', 'SUBHASH CHAND')",
                    "('IND', 'SARITA')",
                    "('IND', 'SUNDARI')",
                    "('IND', 'NAVEEN KUMAR')",
                    "('IND', 'RAJIV KUMAR')",
                    "('Other', 'DEEPAK KUMAR')",
                    "('BJP', 'RAM KUMAR KASHYAP')",
                    "('INC', 'RAKESH KAMBOJ')",
                    "('BSP', 'SURENDER UDANA')",
                    "('AAP', 'HAWA SINGH')",
                    "('JJP', 'KULDEEP SINGH MANDHAN')",
                    "('NOTA', 'NOTA')",
                    "('Other', 'SANJAY KUMAR')",
                    "('BJP', 'JAGMOHAN ANAND')",
                    "('INC', 'SUMITA VIRK')",
                    "('AAP', 'SUNIL BINDAL')",
                    "('INLD', 'SURJEET SINGH')",
                    "('NOTA', 'NOTA')",
                    "('JJP', 'JETENDER ROYAL')",
                    "('IND', 'KAMAL')",
                    "('IND', 'VARINDER KUMAR CHAWLA')",
                    "('IND', 'NEERU BALA SAINI')",
                    "('Other', 'ADVOCATE PARDEEP SAINI')",
                    "('Other', 'HARDEEP SINGH')",
                    "('IND', 'DHARMENDER')",
                    "('IND', 'YASH DEV GOYAL')",
                    "('BJP', 'HARVINDER KALYAN')",
                    "('INC', 'VARINDER SINGH RATHORE')",
                    "('INLD', 'KRISHAN SINGH ALIAS MANNU KASHYAP')",
                    "('AAP', 'JAIPAL SHARMA')",
                    "('Other', 'VICKY')",
                    "('JJP', 'RAJPAL')",
                    "('NOTA', 'NOTA')",
                    "('IND', 'PARDEEP KASHYAP UPLI')",
                    "('IND', 'BHUPINDER SINGH')",
                    "('BJP', 'YOGINDER SINGH RANA')",
                    "('INC', 'SHAMSHER SINGH GOGI')",
                    "('BSP', 'GOPAL SINGH')",
                    "('IND', 'ZILE RAM SHARMA')",
                    "('AAP', 'AMANDEEP SINGH JUNDLA')",
                    "('Other', 'MARATHA VIRENDER VERMA')",
                    "('IND', 'REKHA')",
                    "('IND', 'ADVOCATE SONIYA BOHAT')",
                    "('IND', 'JAIPAL PUNIA')",
                    "('Other', 'PREM CHAND')",
                    "('Other', 'HARJEET SINGH')",
                    "('NOTA', 'NOTA')",
                    "('IND', 'RAMPHAL')",
                    "('IND', 'BALJIT SINGH')",
                    "('IND', 'PARDEEP')",
                    "('BJP', 'MAHIPAL DHANDA')",
                    "('INC', 'SACHIN KUNDU')",
                    "('IND', 'VIJAY JAIN')",
                    "('AAP', 'SUKHVIR MALIK')",
                    "('BSP', 'RANBIR SINGH')",
                    "('NOTA', 'NOTA')",
                    "('Other', 'AMIT MAURYA')",
                    "('JJP', 'RAGHUNATH TANWAR KASHYAP')",
                    "('IND', 'RAMESH SINGLA')",
                    "('IND', 'DEVENDER')",
                    "('IND', 'MASTER KULDEEP REDHU')",
                    "('IND', 'DIPTI')",
                    "('BJP', 'PARMOD KUMAR VIJ')",
                    "('INC', 'VARINDER KUMAR SHAH')",
                    "('IND', 'ROHITA REWRI')",
                    "('AAP', 'RITU ARORA')",
                    "('NOTA', 'NOTA')",
                    "('BSP', 'SAROJ BALA GUR')",
                    "('IND', 'DILBAG SINGH KRANTIKARI')",
                    "('IND', 'CA JAGDISH DHAMIJA')",
                    "('IND', 'SAWAMI AGNIVESH')",
                    "('IND', 'HIMANSHU SHARMA')",
                    "('IND', 'RAMESH KUMAR CHAUDHARY')",
                    "('Other', 'BHATERI DEVI')",
                    "('BJP', 'KRISHAN LAL PANWAR')",
                    "('INC', 'BALBIR SINGH BALMIKI')",
                    "('IND', 'RAKESH SAROHA')",
                    "('IND', 'SATYAWAN SHERA')",
                    "('INLD', 'SURAJBHAN')",
                    "('AAP', 'AMIT KUMAR')",
                    "('JJP', 'SUNIL KUMAR')",
                    "('NOTA', 'NOTA')",
                    "('BJP', 'MANMOHAN BHADANA')",
                    "('INC', 'DHARAM SINGH CHHOKER')",
                    "('IND', 'RAVINDER MACHHRAULI')",
                    "('INLD', 'RAJESH')",
                    "('AAP', 'JAIKANWAR ALIAS BITTU PAHALWAN')",
                    "('JJP', 'GANGARAM SWAMI')",
                    "('NOTA', 'NOTA')",
                    "('IND', 'SATISH KUMAR')",
                    "('IND', 'DEVENDER KADYAN')",
                    "('INC', 'KULDIP SHARMA')",
                    "('BJP', 'DEVENDER KAUSHIK')",
                    "('IND', 'KAVITA SHARMA')",
                    "('BSP', 'NAR SINGH')",
                    "('JJP', 'ANIL KUMAR TYAGI')",
                    "('IND', 'TAKDEER')",
                    "('IND', 'RAM KUMAR')",
                    "('NOTA', 'NOTA')",
                    "('AAP', 'SAROJ BALA')",
                    "('IND', 'RAM MEHAR SINGH')",
                    "('IND', 'ANKUR KAUSHIK')",
                    "('BJP', 'KRISHNA GAHLAWAT')",
                    "('INC', 'JAI BHAGWAN ANTIL')",
                    "('IND', 'PRATEEK RAJKUMAR SHARMA')",
                    "('INLD', 'PARMOD DAHIYA')",
                    "('IND', 'RAHUL KIRORIWAL')",
                    "('NOTA', 'NOTA')",
                    "('IND', 'SITENDER')",
                    "('JJP', 'BIJENDER')",
                    "('AAP', 'RAJESH SAROHA')",
                    "('Other', 'DEVENDER SINGH')",
                    "('Other', 'SANT DHARAMVEER CHOTIVALA')",
                    "('IND', 'SANDEEP KUMAR')",
                    "('IND', 'BIJENDER KUMAR')",
                    "('Other', 'MUKESH TAPSI')",
                    "('IND', 'RAJESH KUMAR')",
                    "('BJP', 'PAWAN KHARKHODA')",
                    "('INC', 'JAIVEER SINGH')",
                    "('INLD', 'PRITAM KHOKAR')",
                    "('AAP', 'MANJEET FARMANA')",
                    "('NOTA', 'NOTA')",
                    "('JJP', 'RAMESH KHATAK')",
                    "('Other', 'DR. PARVEEN KHARKHODA')",
                    "('IND', 'M. GAJE SINGH ADVOCATE')",
                    "('IND', 'SATNARAYAN')",
                    "('Other', 'AMAR SINGH BALMIKI')",
                    "('PPI(D)', 'RADHEY SHYAM')",
                    "('BJP', 'NIKHIL MADAAN')",
                    "('INC', 'SURENDER PANWAR')",
                    "('AAP', 'DEVINDER GAUTAM')",
                    "('INLD', 'SARDHARAM SINGH')",
                    "('CPI', 'RAJIV VERMA')",
                    "('NOTA', 'NOTA')",
                    "('Other', 'ISHWAR SINGH RATHEE')",
                    "('ASP(KR)', 'RAJESH')",
                    "('IND', 'RAMESH KHATRI LAMBERDAR')",
                    "('IND', 'DR. KAMLESH KUMAR SAINI')",
                    "('Other', 'SUSHIL KUMAR MANAV')",
                    "('Other', 'PAWAN SANATANI')",
                    "('IND', 'DHARAMBIR FOJI')",
                    "('BJP', 'ARVIND KUMAR SHARMA')",
                    "('INC', 'JAGBIR SINGH MALIK')",
                    "('IND', 'HARSH CHHIKARA')",
                    "('IND', 'RAJVIR SINGH DAHIYA')",
                    "('AAP', 'SHIV KUMAR RANGEELA')",
                    "('BSP', 'DINESH KUMAR')",
                    "('JJP', 'KULDEEP MALIK')",
                    "('NOTA', 'NOTA')",
                    "('IND', 'ARVIND')",
                    "('IND', 'ARUN NINANIYA')",
                    "('IND', 'SUNNY')",
                    "('IND', 'RAJBIR')",
                    "('INC', 'INDURAJ SINGH NARWAL')",
                    "('IND', 'KAPOOR SINGH NARWAL')",
                    "('BJP', 'PARDEEP SINGH SANGWAN')",
                    "('BSP', 'DHARAM VIR')",
                    "('AAP', 'SANDEEP MALIK')",
                    "('JJP', 'DEEPAK MALIK')",
                    "('NOTA', 'NOTA')",
                    "('IND', 'DEVENDER KUMAR ALIAS NITU MOR')",
                    "('INC', 'VINESH')",
                    "('BJP', 'YOGESH KUMAR')",
                    "('INLD', 'SURENDER LATHER')",
                    "('JJP', 'AMARJEET DHANDA')",
                    "('AAP', 'KAVITA RANI')",
                    "('NOTA', 'NOTA')",
                    "('IND', 'BIJENDER KUMAR')",
                    "('IND', 'PREM')",
                    "('IND', 'COACH JASVIR SINGH AHLAWAT')",
                    "('IND', 'AMIT SHARMA')",
                    "('IND', 'RAMRATTAN')",
                    "('Other', 'JOGI SUNIL')",
                    "('IND', 'INDERJEET')",
                    "('BJP', 'RAM KUMAR GAUTAM')",
                    "('INC', 'SUBHASH GANGOLI')",
                    "('IND', 'JASBIR DESWAL')",
                    "('IND', 'BACHAN SINGH ARYA')",
                    "('BSP', 'PINKI KUNDU')",
                    "('JJP', 'SUSHIL BAIRAGI')",
                    "('IND', 'VIPUL')",
                    "('Other', 'ADVOCATE RINKU MUANA')",
                    "('IND', 'GURMEET')",
                    "('IND', 'VIJAY PAL')",
                    "('AAP', 'NISHA DESWAL')",
                    "('IND', 'AJIT KUMAR')",
                    "('NOTA', 'NOTA')",
                    "('IND', 'SUYAG')",
                    "('RRP', 'RAKESH KUMAR')",
                    "('IND', 'SUBHASH SAINI')",
                    "('IND', 'MONU LOHAN')",
                    "('IND', 'SUSHIL KUMAR')",
                    "('BJP', 'DR KRISHAN LAL MIDDHA')",
                    "('INC', 'MAHAVIR GUPTA')",
                    "('IND', 'PRADEEP SINGH')",
                    "('AAP', 'WAZIR DHANDA')",
                    "('INLD', 'NARENDER NATH SHARMA')",
                    "('JJP', 'DHARAM PAL TANWAR')",
                    "('NOTA', 'NOTA')",
                    "('IND', 'RITU RAJ BAMNIYA')",
                    "('IND', 'RITESH SANGWAN SANGU')",
                    "('IND', 'VED PARKASH')",
                    "('IND', 'ANKIT KUMAR')",
                    "('IND', 'RAM PARKASH TAYAL')",
                    "('IND', 'VIKAS')",
                    "('IND', 'SURESH CHAND')",
                    "('BJP', 'DEVENDER CHATAR BHUJ ATTRI')",
                    "('INC', 'BRIJENDRA SINGH')",
                    "('IND', 'VIRENDER GHOGHARIAN')",
                    "('IND', 'VIKAS')",
                    "('JJP', 'DUSHYANT CHAUTALA')",
                    "('IND', 'DILBAG SANDIL')",
                    "('INLD', 'VINOD PAL SINGH DULGANCH')",
                    "('AAP', 'PAWAN FAUJI')",
                    "('IND', 'BIJENDER')",
                    "('Other', 'AMARJEET SINGH')",
                    "('IND', 'ISHWAR KHATKAR FOUJI')",
                    "('IND', 'DEVENDER')",
                    "('IND', 'COMRADE PAL SINGH')",
                    "('IND', 'BIJENDER SINGH')",
                    "('Other', 'MASTER AJIT ARYA')",
                    "('IND', 'DEVENDER SHEORAN')",
                    "('NOTA', 'NOTA')",
                    "('IND', 'VIRENDER PAL')",
                    "('IND', 'JOGIENDER')",
                    "('IND', 'COMRADE RAMESH KHATKAR')",
                    "('IND', 'GURMAIL SINGH')",
                    "('BJP', 'KRISHAN KUMAR')",
                    "('INC', 'SATBIR DABLAIN')",
                    "('INLD', 'VIDYA RANI DANODA')",
                    "('AAP', 'ANIL RANGA')",
                    "('JJP', 'SANTOSH DANODA')",
                    "('CPI', 'MANIRAM')",
                    "('IND', 'GURMAIL')",
                    "('NOTA', 'NOTA')",
                    "('IND', 'COMRADE SATYAVIR SINGH')",
                    "('AJSP', 'RAM LAL KALYAN')",
                    "('IND', 'KITABA')",
                    "('INC', 'PARAMVIR SINGH')",
                    "('BJP', 'DEVENDER SINGH BABLI')",
                    "('INLD', 'KUNAL KARAN SINGH')",
                    "('AAP', 'SUKHVINDER SINGH S/O AVTAR SINGH')",
                    "('NOTA', 'NOTA')",
                    "('JJP', 'HAWA SINGH KHOBRA')",
                    "('IND', 'SUKHVINDER SINGH S/O BALDEV SINGH')",
                    "('IND', 'RAMESHWAR LAL')",
                    "('IND', 'RAY SINGH')",
                    "('IND', 'KARAMBIR')",
                    "('IND', 'NARENDER SIWACH TINU')",
                    "('IND', 'DHARAMPAL SHERE GILL')",
                    "('IND', 'NIKHIL KUMAR')",
                    "('INC', 'BALWAN SINGH DOULATPURIA')",
                    "('BJP', 'DURA RAM')",
                    "('INLD', 'SUNAINA CHAUTALA')",
                    "('IND', 'RAJENDER CHOUDHARY URF KAKA')",
                    "('JJP', 'SUBHASH CHANDER GORCHHIA')",
                    "('AAP', 'KAMAL BISLA')",
                    "('NOTA', 'NOTA')",
                    "('IND', 'VINOD KUMAR')",
                    "('IND', 'SANJAY KUMAR')",
                    "('IND', 'SUDHIR')",
                    "('Other', 'VIKRAM JEET KARWASRA')",
                    "('IND', 'VISHVAMITTR')",
                    "('IND', 'DARBARA SINGH')",
                    "('PPI(D)', 'BANTI BARETH')",
                    "('IND', 'JAIBIR')",
                    "('IND', 'SIMARJEET SINGH')",
                    "('IND', 'RAMAN')",
                    "('IND', 'MANDEEP KUMAR')",
                    "('IND', 'TAHIR HUSAIN')",
                    "('INC', 'JARNAIL SINGH')",
                    "('BJP', 'SUNITA DUGGAL')",
                    "('INLD', 'RAMSARUP RAMA')",
                    "('AAP', 'MUKHTYAR SINGH BAZIGAR')",
                    "('NOTA', 'NOTA')",
                    "('JJP', 'RAMESH')",
                    "('IND', 'TEJPAL')",
                    "('PPI(D)', 'SURJIT SINGH PARDHAN')",
                    "('IND', 'RAJ KUMAR')",
                    "('IND', 'SURENDER KUMAR PHOOLAN')",
                    "('IND', 'RAJBIR')",
                    "('INC', 'SHISHPAL KEHARWALA')",
                    "('BJP', 'RAJINDER SINGH DESUJODHA')",
                    "('INLD', 'GURTEJ SINGH')",
                    "('AAP', 'JASDEV SINGH')",
                    "('JJP', 'GURJANT SINGH')",
                    "('NOTA', 'NOTA')",
                    "('INLD', 'ADITYA DEVILAL')",
                    "('INC', 'AMIT SIHAG')",
                    "('JJP', 'DIGVIJAY SINGH CHAUTALA')",
                    "('BJP', 'BALDEV SINGH MANGIANA')",
                    "('AAP', 'KULDEEP SINGH GADRANA')",
                    "('NOTA', 'NOTA')",
                    "('IND', 'RAJESH KUMAR')",
                    "('IND', 'KHEM CHAND')",
                    "('IND', 'GURVINDER SINGH')",
                    "('IND', 'GULJARI LAL')",
                    "('PPI(D)', 'KULVEER SHAANT INSAN')",
                    "('Other', 'DANA RAM')",
                    "('IND', 'ANKIT KUMAR')",
                    "('INLD', 'ARJUN CHAUTALA')",
                    "('INC', 'SARV MITTER')",
                    "('IND', 'RANJIT SINGH')",
                    "('BJP', 'SHEESHPAL KAMBOJ')",
                    "('AAP', 'HARPINDER SINGH')",
                    "('IND', 'GAGAN DEEP JALANDHRA')",
                    "('NOTA', 'NOTA')",
                    "('Other', 'SANJAY MALIK')",
                    "('IND', 'VIKRAM KHARIAN')",
                    "('IND', 'JOGINDER RAM')",
                    "('IND', 'SATPAL VERMA')",
                    "('IND', 'GOTTAM SAHARAN')",
                    "('PPI(D)', 'DALBIR SINGH')",
                    "('Other', 'LUCKY BALMIKI')",
                    "('IND', 'ARJUN DASS')",
                    "('INC', 'GOKUL SETIA')",
                    "('Other', 'GOPAL KANDA')",
                    "('JJP', 'PAWAN SHERPURA')",
                    "('IND', 'CA DARVESH SWAMI')",
                    "('NOTA', 'NOTA')",
                    "('AAP', 'SHYAM SUNDER')",
                    "('IND', 'BHARAT KUMAR GIRDHAR @ SUNNY SINGH')",
                    "('IND', 'MADAN LAL')",
                    "('IND', 'RAJBEER')",
                    "('Other', 'JAIVEER SINGH')",
                    "('Other', 'MANI RAM')",
                    "('IND', 'YOGESH KANODIA')",
                    "('Other', 'YOGESH ODD')",
                    "('IND', 'OM PARKASH')",
                    "('INC', 'BHARAT SINGH BENIWAL')",
                    "('INLD', 'ABHAY SINGH CHAUTALA')",
                    "('BJP', 'AMIR CHAND TALWARA')",
                    "('JJP', 'ANJANI LADHA')",
                    "('AAP', 'MANISH ARORA')",
                    "('NOTA', 'NOTA')",
                    "('IND', 'VIKRAM INDORA')",
                    "('Other', 'NANAK SINGH')",
                    "('IND', 'SURJEET SINGH')",
                    "('IND', 'BALDEV KUMAR')",
                    "('Other', 'MAYANK GIDRA')",
                    "('INC', 'CHANDER PARKASH S/O ARJUN LAL')",
                    "('BJP', 'BHAVYA BISHNOI')",
                    "('INLD', 'RANDEEP CHOUDARYVAS')",
                    "('AAP', 'BHUPENDER BENIWAL')",
                    "('JJP', 'KRISHAN GANGWA PARJAPATI')",
                    "('NOTA', 'NOTA')",
                    "('IND', 'RAJESH KUMAR')",
                    "('IND', 'RAMPHAL')",
                    "('IND', 'RENU CHAHAL BALSAMAND')",
                    "('IND', 'PARMOD BASWANA')",
                    "('IND', 'CHANDER PARKASH S/O RAJA RAM')",
                    "('Other', 'BALJEET SINGH')",
                    "('IND', 'AMIT')",
                    "('INC', 'NARESH SELWAL')",
                    "('BJP', 'ANOOP DHANAK')",
                    "('INLD', 'BALRAJ SINGH')",
                    "('AAP', 'NARENDER KHANNA')",
                    "('JJP', 'ROHTASH')",
                    "('NOTA', 'NOTA')",
                    "('Other', 'ANIL BITHMARA')",
                    "('IND', 'BIRBAL SINGH')",
                    "('INC', 'JASSI PETWAR')",
                    "('BJP', 'CAPT. ABHIMANYU')",
                    "('INLD', 'UMED SINGH LOHAN')",
                    "('AAP', 'RANBIR SINGH LOHAN')",
                    "('JJP', 'YOGESH GAUTAM')",
                    "('NOTA', 'NOTA')",
                    "('IND', 'DHARAMVIR SAROWA')",
                    "('IND', 'RAVI KUMAR')",
                    "('IND', 'JASSI JASBIR S/O BANI SINGH')",
                    "('Other', 'KRISHAN MAJRA')",
                    "('IND', 'SANDEEP KUMAR')",
                    "('IND', 'AJAY CHAUDHARY')",
                    "('IND', 'JAIBIR ALIAS JAI VIR')",
                    "('AAPP', 'BHAI SATISH MASUDPUR')",
                    "('IND', 'JAIBIR S/O CHANDER BHAN')",
                    "('BJP', 'VINOD BHAYANA')",
                    "('INC', 'RAHUL MAKKAR')",
                    "('AAP', 'RAJENDER SINGH')",
                    "('BSP', 'RAVINDER KUMAR')",
                    "('JJP', 'SHAMSHER SINGH')",
                    "('NOTA', 'NOTA')",
                    "('IND', 'SUMAN KUMAR')",
                    "('IND', 'HARISH VERMA')",
                    "('IND', 'ROHIT')",
                    "('IND', 'AMARJEET')",
                    "('IND', 'KASHMIRI LAL GROVER')",
                    "('AAPP', 'VEERBHAN')",
                    "('IND', 'NAVIN')",
                    "('IND', 'JAI PARKASH')",
                    "('BJP', 'RANBIR GANGWA')",
                    "('INC', 'RAMNIWAS GHORELA')",
                    "('INLD', 'SANJANA SATROAD')",
                    "('AAP', 'PROF. CHHATTAR PAL SINGH')",
                    "('JJP', 'ANANT RAM')",
                    "('NOTA', 'NOTA')",
                    "('Other', 'RAJIV KHATAK')",
                    "('IND', 'RENU DALJEET SINGH')",
                    "('IND', 'BABA DARSHAN GIRI')",
                    "('IND', 'SUMIT BLODA')",
                    "('IND', 'SAVITRI JINDAL')",
                    "('INC', 'RAM NIWAS RARA')",
                    "('BJP', 'DR. KAMAL GUPTA')",
                    "('IND', 'GAUTAM SARDANA')",
                    "('IND', 'AMIT GROVER')",
                    "('AAP', 'SANJAY SATRODIA')",
                    "('IND', 'TARUN JAIN')",
                    "('IND', 'SUNIL BANSAL')",
                    "('INLD', 'SHYAM LAL')",
                    "('JJP', 'RAVINDER RAVI AHUJA')",
                    "('NOTA', 'NOTA')",
                    "('IND', 'RAJENDER')",
                    "('IND', 'ANIL KUMAR S/O JAGDISH CHANDER SHARMA')",
                    "('IND', 'PRASHANT YADAV')",
                    "('Other', 'NAND KISHOR CHAWLA')",
                    "('IND', 'PARVEEN KUMAR')",
                    "('IND', 'ANIL MAHLA')",
                    "('IND', 'ANIL KUMAR S/O CHARANJIT LAL')",
                    "('IND', 'MAHENDER')",
                    "('IND', 'DINESH KUMAR SAINI')",
                    "('Other', 'SUNIL')",
                    "('IND', 'AJAY SAINI')",
                    "('BJP', 'RANDHIR PANIHAR')",
                    "('INC', 'ANIL MAAN')",
                    "('JJP', 'VIRENDER CHAUDHARY')",
                    "('BSP', 'SARWAN KUMAR VERMA')",
                    "('AAP', 'UMESH SHARMA')",
                    "('NOTA', 'NOTA')",
                    "('IND', 'MAHABIR PRASAD')",
                    "('IND', 'RAVINDER MANGALI')",
                    "('IND', 'PARDUMAN JOSHILA')",
                    "('IND', 'JAI PRAKASH')",
                    "('IND', 'RAJENDER SINGH')",
                    "('IND', 'ANIL KUMAR')",
                    "('Other', 'RAJ KUMAR')",
                    "('IND', 'ATAM PARKASH')",
                    "('INC', 'RAJBIR FARTIA')",
                    "('BJP', 'JAI PARKASH DALAL')",
                    "('INLD', 'BHOOP SINGH SHEORAN')",
                    "('JJP', 'ALKA ARYA')",
                    "('AAP', 'GEETA BALA')",
                    "('IND', 'SANDEEP SANJAY BALHARA')",
                    "('IND', 'AMAR SINGH')",
                    "('NOTA', 'NOTA')",
                    "('IND', 'SANJAY')",
                    "('IND', 'RAJBIR S/O MOOLA RAM')",
                    "('IND', 'SAJJAN BHARDWAJ')",
                    "('IND', 'RAJBIR S/O BEGRAJ')",
                    "('IND', 'KRISHAN KUMAR')",
                    "('IND', 'RAJBIR S/O BHARAT SINGH')",
                    "('BJP', 'UMED SINGH')",
                    "('INC', 'SOMVIR SINGH')",
                    "('IND', 'SOMVEER GHASOLA')",
                    "('INLD', 'VIJAY KUMAR')",
                    "('JJP', 'YASHVIR')",
                    "('AAP', 'RAKESH CHANDWAS')",
                    "('NOTA', 'NOTA')",
                    "('IND', 'AJIT')",
                    "('IND', 'SANDEEP')",
                    "('Other', 'MAHENDER JEVALI')",
                    "('IND', 'VIKASH')",
                    "('IND', 'JITENDER SINGH SHEORAIN')",
                    "('IND', 'VIDY NAND')",
                    "('IND', 'DINESH KUMAR')",
                    "('IND', 'CHITAR SINGH')",
                    "('IND', 'ASHOK')",
                    "('BJP', 'SUNIL SATPAL SANGWAN')",
                    "('INC', 'MANISHA SANGWAN')",
                    "('IND', 'SANJAY CHHAPARIA')",
                    "('IND', 'AJIT SINGH')",
                    "('JJP', 'RAJDEEP SINGH')",
                    "('AAP', 'DHAN RAJ SINGH')",
                    "('BSP', 'ANAND SHEORAN')",
                    "('NOTA', 'NOTA')",
                    "('IND', 'NAVEEN YOGI')",
                    "('IND', 'LALIT KUMAR')",
                    "('Other', 'RAJPAL')",
                    "('IND', 'SATENDER SINGH')",
                    "('IND', 'MANJEET')",
                    "('Other', 'VIKRAM SHARMA')",
                    "('IND', 'SUNIL KUMAR')",
                    "('IND', 'ANIL KUMAR')",
                    "('IND', 'ARCHANA')",
                    "('IND', 'HEMANT')",
                    "('IND', 'RAMSHARAN PHOGAT')",
                    "('BJP', 'GHANSHYAM SARAF')",
                    "('CPI(M)', 'OM PRAKASH')",
                    "('AAP', 'INDU')",
                    "('IND', 'ABHIJEET LAL SINGH')",
                    "('IND', 'PRIYA ASIJA')",
                    "('IND', 'RAJEEV')",
                    "('Other', 'PAWAN FOUJI')",
                    "('INLD', 'KARAMBIR YADAV')",
                    "('Other', 'COMRADE RAJ KUMAR')",
                    "('NOTA', 'NOTA')",
                    "('IND', 'SATISH KUMAR')",
                    "('IND', 'RAM KUMAR')",
                    "('IND', 'RAM AVTAR SHARMA')",
                    "('IND', 'DR. PAWAN KUMAR SHARMA')",
                    "('IND', 'MAHABIR BOHRA')",
                    "('IND', 'ANAND KUMAR')",
                    "('IND', 'JOGENDER')",
                    "('IND', 'JAGAT SINGH')",
                    "('IND', 'PANKAJ TAYAL')",
                    "('BJP', 'SHRUTI CHOUDHRY')",
                    "('INC', 'ANIRUDH CHAUDHARY')",
                    "('IND', 'SHASHI RANJAN PARMAR')",
                    "('JJP', 'RAJESH BHARDWAJ')",
                    "('BSP', 'OM SINGH')",
                    "('AAP', 'DALJEET SINGH')",
                    "('NOTA', 'NOTA')",
                    "('IND', 'PUSHPA DEVI')",
                    "('IND', 'RAJNISH KUMAR')",
                    "('Other', 'SUBHASH CHANDER')",
                    "('Other', 'PARDEEP')",
                    "('PPI(D)', 'BABA BALWAN NATH')",
                    "('IND', 'KRISHAN KUMAR')",
                    "('IND', 'BALWAN SINGH')",
                    "('Other', 'VIJENDER SINGH')",
                    "('IND', 'ANIL KUMAR')",
                    "('BJP', 'KAPOOR SINGH')",
                    "('INC', 'PRADEEP NARWAL')",
                    "('IND', 'MASTER SATBIR RATERA')",
                    "('BSP', 'SANDEEP SINGH JANAGAL')",
                    "('JJP', 'GUDDI LANGYAN')",
                    "('AAP', 'DHARAMBIR')",
                    "('NOTA', 'NOTA')",
                    "('IND', 'RAMESH KUMAR')",
                    "('IND', 'RAVITA SATBIR RATERA')",
                    "('AAPP', 'MANJU DHANAK')",
                    "('Other', 'VIKAS')",
                    "('INC', 'BALRAM DANGI')",
                    "('Other', 'BALRAJ KUNDU')",
                    "('IND', 'RADHA AHLAWAT')",
                    "('BJP', 'DEEPAK HOODA')",
                    "('AAP', 'VIKASH NEHRA')",
                    "('IND', 'BALBIR SINGH')",
                    "('BSP', 'HAWA SINGH')",
                    "('NOTA', 'NOTA')",
                    "('Other', 'VISHESH BAMEL')",
                    "('IND', 'MUKESH KUMAR')",
                    "('IND', 'NARESH')",
                    "('AAPP', 'KRISHAN KUMAR')",
                    "('IND', 'MAHENDER SINGH')",
                    "('IND', 'VIKASH')",
                    "('IND', 'JALKARAN BALHARA')",
                    "('IND', 'RANBIR SINGH')",
                    "('PPI(D)', 'KRISHAN')",
                    "('IND', 'NEERAJ')",
                    "('IND', 'KRISHAN')",
                    "('IND', 'DAYA KRISHAN')",
                    "('INC', 'BHUPINDER SINGH HOODA')",
                    "('BJP', 'MANJU')",
                    "('INLD', 'KRISHAN')",
                    "('AAP', 'PARVEEN')",
                    "('JJP', 'SUSHILA DEVI')",
                    "('NOTA', 'NOTA')",
                    "('IND', 'BIJENDER SINGH')",
                    "('IND', 'MUKESH')",
                    "('IND', 'SANJAY')",
                    "('IND', 'AMIT HOODA')",
                    "('INC', 'BHARAT BHUSHAN BATRA')",
                    "('BJP', 'MANISH KUMAR GROVER')",
                    "('AAP', 'BIJENDER HOODA')",
                    "('NOTA', 'NOTA')",
                    "('INLD', 'DILOUR MEHRA')",
                    "('JJP', 'JITENDER BALHARA')",
                    "('Other', 'PARVEEN KUMAR')",
                    "('Other', 'MAHENDER BAGRI')",
                    "('IND', 'BISHAMBER KUMAR')",
                    "('IND', 'BHARAT BHUSHAN')",
                    "('Other', 'MANISHA MOKHRA')",
                    "('IND', 'ASHWANI MALIK')",
                    "('IND', 'YASHPAL')",
                    "('IND', 'ANAND KUMAR')",
                    "('IND', 'NAVDEEP SINGH  RAMAN')",
                    "('IND', 'SURENDER KUMAR')",
                    "('INC', 'SHAKUNTLA KHATAK')",
                    "('BJP', 'RENU DABLA')",
                    "('IND', 'PREM PRADHAN')",
                    "('BSP', 'POONAM NIGANA')",
                    "('JJP', 'MAHENDER SUNDANA')",
                    "('AAP', 'NARESH BAGRI')",
                    "('NOTA', 'NOTA')",
                    "('IND', 'DEEPAK SINGH')",
                    "('Other', 'MANJEET')",
                    "('IND', 'SNEH ARYA')",
                    "('AAPP', 'BABA ISHWAR NATH')",
                    "('PPI(D)', 'OM PARKASH')",
                    "('IND', 'VINOD')",
                    "('NCP', 'RANBIR')",
                    "('IND', 'RAJESH JOON')",
                    "('BJP', 'DINESH KAUSHIK')",
                    "('INC', 'RAJINDER SINGH JOON')",
                    "('INLD', 'SHEELA NAFE SINGH RATHEE')",
                    "('IND', 'RAMESH DALAL')",
                    "('AAP', 'KULDEEP SINGH CHHIKARA')",
                    "('NOTA', 'NOTA')",
                    "('IND', 'RAJESH KUMAR S/O CHATTAR SINGH')",
                    "('IND', 'RAJESH KUMAR S/O RAMDIYA')",
                    "('IND', 'ROHIT KUMAR')",
                    "('IND', 'MAHENDER')",
                    "('IND', 'SUNITA')",
                    "('IND', 'PARVEEN KUMAR')",
                    "('IND', 'ARUN GOYAL')",
                    "('IND', 'CHESTA')",
                    "('INC', 'KULDEEP VATS')",
                    "('BJP', 'OMPRAKASH DHANKAR')",
                    "('IND', 'AJIT GULIA JEETE')",
                    "('AAP', 'HARPAL SINGH')",
                    "('JJP', 'KRISHAN KUMAR')",
                    "('NOTA', 'NOTA')",
                    "('IND', 'SANDEEP')",
                    "('IND', 'AMIT KUMAR')",
                    "('IND', 'VIRENDER SINGH BILU')",
                    "('IND', 'POONAM')",
                    "('INC', 'GEETA BHUKKAL')",
                    "('BJP', 'KAPTAN BIRDHANA')",
                    "('JJP', 'NASEEB SONU')",
                    "('BSP', 'DHARAMBIR SINGH')",
                    "('AAP', 'MAHINDER DAHIYA')",
                    "('NOTA', 'NOTA')",
                    "('Other', 'JAIDEEP')",
                    "('IND', 'SUNIL KUMAR')",
                    "('IND', 'NARENDER SINGH FAUJI')",
                    "('IND', 'RAJAL')",
                    "('IND', 'SATBIR CHUMBAK ADVOCATE')",
                    "('IND', 'SANJAY')",
                    "('INC', 'RAGHUVIR SINGH KADIAN')",
                    "('BJP', 'SANJAY KUMAR')",
                    "('IND', 'AMIT KUMAR')",
                    "('INLD', 'PERMOD')",
                    "('IND', 'INDERJEET SUHAG')",
                    "('AAP', 'SONU')",
                    "('IND', 'GOWARDHAN SINGH')",
                    "('JJP', 'SUNIL')",
                    "('NOTA', 'NOTA')",
                    "('BJP', 'ARTI SINGH RAO')",
                    "('BSP', 'ATTAR LAL')",
                    "('INC', 'ANITA YADAV')",
                    "('JJP', 'AAYUSHI ABHIMANYU RAO')",
                    "('NOTA', 'NOTA')",
                    "('AAP', 'SUNEEL RAO')",
                    "('Other', 'COMRADE OM PARKASH')",
                    "('IND', 'JOGENDER FOUJI')",
                    "('IND', 'SADHNA')",
                    "('BJP', 'KANWAR SINGH')",
                    "('INC', 'RAO DAN SINGH')",
                    "('IND', 'SANDEEP SINGH')",
                    "('INLD', 'SURENDER KAUSHIK')",
                    "('AAP', 'DR. MANISH YADAV')",
                    "('IND', 'BALWAN FAUJI')",
                    "('IND', 'DR. BHUP SINGH YADAV')",
                    "('Other', 'RAKESH SINGH')",
                    "('ASP(KR)', 'SHASHI KUMAR')",
                    "('NOTA', 'NOTA')",
                    "('IND', 'VED PRAKASH')",
                    "('Other', 'VISHNU YADAV')",
                    "('IND', 'PUSHKAR RAJ GUPTA')",
                    "('IND', 'NARENDER KUMAR')",
                    "('BJP', 'OM PRAKASH YADAV')",
                    "('INC', 'RAO NARENDER SINGH')",
                    "('AAP', 'RAVINDER SINGH MATRU')",
                    "('NOTA', 'NOTA')",
                    "('INLD', 'NAR SINGH')",
                    "('JJP', 'SURESH KUMAR SAINI')",
                    "('IND', 'UMAKANT')",
                    "('IND', 'KRISHAN KUMAR')",
                    "('IND', 'KRISHAN KUMAR')",
                    "('Other', 'TEJ PRAKASH')",
                    "('RRP', 'VIKAS')",
                    "('IND', 'SABHARAM')",
                    "('INC', 'MANJU CHOUDHARY')",
                    "('BJP', 'DR. ABHE SINGH YADAV')",
                    "('JJP', 'RAO OM PRAKASH ENGINEER')",
                    "('NOTA', 'NOTA')",
                    "('Other', 'SAGAR CHAUHAN')",
                    "('IND', 'KARTAR SINGH')",
                    "('BJP', 'DR. KRISHAN KUMAR')",
                    "('INC', 'DR. M.L. RANGA')",
                    "('INLD', 'SAMPAT RAM DAHANWAL')",
                    "('AAP', 'JAWAHAR LAL')",
                    "('NOTA', 'NOTA')",
                    "('IND', 'SUNIL KUMAR')",
                    "('IND', 'RAJ NARAYAN')",
                    "('IND', 'MANGAT RAM')",
                    "('IND', 'BALJEET')",
                    "('Other', 'DR. LEKHRAM MEHRA')",
                    "('IND', 'INDER SINGH')",
                    "('BJP', 'ANIL YADAV')",
                    "('INC', 'JAGDISH YADAV')",
                    "('IND', 'MANOJ KOSLIA')",
                    "('NOTA', 'NOTA')",
                    "('IND', 'HARIOM YADAV KOSLIA')",
                    "('BSP', 'RAJ KUMAR')",
                    "('JJP', 'LAVINDER SINGH')",
                    "('IND', 'SANTOSH')",
                    "('Other', 'COMRADE RAMKUMAR NIMOTH')",
                    "('Other', 'SATYAVIR SINGH AMBEDKAR')",
                    "('IND', 'MUKESH KUMAR')",
                    "('IND', 'ARTI RAO')",
                    "('Other', 'TEJPAL YADAV KOSLI')",
                    "('IND', 'KARAMJEET')",
                    "('IND', 'ANIL KUMAR')",
                    "('RRP', 'NAVAL SINGH')",
                    "('Other', 'BHAGIRATH DABLA BOHTWAS')",
                    "('IND', 'INDERJEET')",
                    "('BJP', 'LAXMAN SINGH YADAV')",
                    "('INC', 'CHIRANJEEV RAO')",
                    "('AAP', 'SATISH YADAV')",
                    "('IND', 'PRASHANT SUNNY YADAV')",
                    "('BSP', 'SOMANY VIJAY')",
                    "('NOTA', 'NOTA')",
                    "('IND', 'SHISHUPAL')",
                    "('IND', 'SANJAY SHARMA')",
                    "('ASP(KR)', 'MOKI DEVI')",
                    "('Other', 'RANBIR SINGH')",
                    "('PPI(D)', 'KARTAR SINGH THEKEDAR')",
                    "('IND', 'RAO JITENDER KUMAR')",
                    "('IND', 'OMDUTT YADAV')",
                    "('BJP', 'BIMLA CHAUDHARY')",
                    "('INC', 'PEARL CHOUDHARY')",
                    "('INLD', 'PAWAN KUMAR BHORA')",
                    "('AAP', 'PARDEEP JATAULI')",
                    "('JJP', 'AMARNATH J. E.')",
                    "('NOTA', 'NOTA')",
                    "('IND', 'GURDASS')",
                    "('IND', 'SATYAVIR JANAULA')",
                    "('BJP', 'RAO NARBIR SINGH')",
                    "('INC', 'VARDHAN YADAV')",
                    "('IND', 'KUMUDNI RAKESH DAULTABAD')",
                    "('AAP', 'BIR SINGH BIRU SARPANCH')",
                    "('Other', 'COMRADE BALWAN SINGH')",
                    "('NOTA', 'NOTA')",
                    "('BSP', 'JOGINDER SINGH')",
                    "('JJP', 'SURENDER KUMAR')",
                    "('IND', 'RAVINDER YADAV')",
                    "('IND', 'SATISH')",
                    "('IND', 'RAMBHAGAT YADAV')",
                    "('IND', 'VINOD KUMAR')",
                    "('IND', 'RAKESH BHARDWAJ')",
                    "('Other', 'CHANDERPAL')",
                    "('BJP', 'MUKESH SHARMA')",
                    "('IND', 'NAVEEN GOYAL')",
                    "('INC', 'MOHIT GROVER')",
                    "('AAP', 'DR. NISHANT ANAND')",
                    "('NOTA', 'NOTA')",
                    "('Other', 'ANKIT ALAGH JAN SEWAK')",
                    "('INLD', 'GAURAV BHATI')",
                    "('IND', 'NARESH KUMAR BATRA')",
                    "('IND', 'SUNIL')",
                    "('IND', 'MUKESH SHARMA')",
                    "('IND', 'SANJAY LAL')",
                    "('JJP', 'ASHOK JANGRA')",
                    "('IND', 'MAHABIR SINGH')",
                    "('IND', 'NARENDER KUMAR')",
                    "('IND', 'SOHAN LAL SHARMA')",
                    "('Other', 'JAWAHAR LAL')",
                    "('Other', 'RAJESH SHEORAN')",
                    "('IND', 'AKSHAT GAIT')",
                    "('BJP', 'TEJPAL TANWAR')",
                    "('INC', 'ROHTAS SINGH')",
                    "('IND', 'JAVED AHMED')",
                    "('IND', 'KALYAN SINGH')",
                    "('BSP', 'SUNDER BHADANA')",
                    "('AAP', 'DHARMENDRA KHATANA')",
                    "('ASP(KR)', 'VINESH GUJJAR GHATA')",
                    "('NOTA', 'NOTA')",
                    "('Other', 'ATAULLAH KHAN')",
                    "('IND', 'DAYARAM')",
                    "('IND', 'SUBHASH CHAND')",
                    "('INC', 'AFTAB AHMED')",
                    "('INLD', 'TAHIR HUSSAIN')",
                    "('BJP', 'SANJAY SINGH')",
                    "('JJP', 'BIRENDER')",
                    "('NOTA', 'NOTA')",
                    "('AAP', 'RABIA KIDWAI')",
                    "('Other', 'ANWAR')",
                    "('INC', 'MAMMAN KHAN')",
                    "('BJP', 'NASEEM AHMED')",
                    "('INLD', 'MOHAMMAD HABIB')",
                    "('IND', 'MUMTAJ AHMED')",
                    "('JJP', 'JAAN MOHAMMAD')",
                    "('NOTA', 'NOTA')",
                    "('IND', 'NARENDER KUMAR')",
                    "('AAP', 'WASEEM ZAFFER')",
                    "('IND', 'MOHD. HASHIM')",
                    "('INC', 'MOHAMMAD ILYAS')",
                    "('IND', 'RAHISH KHAN')",
                    "('BJP', 'MOHD AIZAZ KHAN')",
                    "('AAP', 'NAYAB HUSSAIN')",
                    "('ASP(KR)', 'ATAULLAH')",
                    "('NOTA', 'NOTA')",
                    "('INLD', 'DAYA WATI')",
                    "('IND', 'SAJID')",
                    "('INC', 'MOHD ISRAIL')",
                    "('BJP', 'MANOJ KUMAR')",
                    "('INLD', 'TAYUB HUSAIN URF NAZIR AHMED')",
                    "('IND', 'DHARMENDRA TEWATIA')",
                    "('JJP', 'RAVINDER KUMAR')",
                    "('IND', 'KEHAR SINGH')",
                    "('AAP', 'RAJENDRA SINGH RAWAT')",
                    "('NOTA', 'NOTA')",
                    "('IND', 'PRADEEP KUMAR')",
                    "('BJP', 'HARINDER SINGH')",
                    "('INC', 'UDAI BHAN')",
                    "('IND', 'NAVEEN ROHILA')",
                    "('INLD', 'SUNIL KUMAR')",
                    "('IND', 'SUNITA SOROUT')",
                    "('NOTA', 'NOTA')",
                    "('AAP', 'MANOHAR')",
                    "('JJP', 'SATVEER')",
                    "('IND', 'USHMA DEVI')",
                    "('IND', 'NEERAJ SOUROT')",
                    "('IND', 'YASHVEER')",
                    "('IND', 'RAJNI')",
                    "('IND', 'KULDEEP KUMAR')",
                    "('BJP', 'GAURAV GAUTAM')",
                    "('INC', 'KARAN SINGH DALAL')",
                    "('ASP(KR)', 'HARIT KUMAR')",
                    "('BSP', 'ABHISHEK DESHWAL')",
                    "('IND', 'SHIV DUTT')",
                    "('AAP', 'DHARMENDER SINGH')",
                    "('NOTA', 'NOTA')",
                    "('IND', 'SUNIL KUMAR')",
                    "('IND', 'MAMTA SOLANKI')",
                    "('IND', 'GIRRAJ')",
                    "('ABSP', 'SATBIR SINGH')",
                    "('Other', 'RAMPAL')",
                    "('Other', 'GOPAL DUTT')",
                    "('Other', 'PANCH LAL PRASAD')",
                    "('INC', 'RAGHUBIR TEWATIA')",
                    "('BJP', 'TEK CHAND SHARMA')",
                    "('IND', 'NAYANPAL RAWAT')",
                    "('IND', 'DEEPAK DAGAR')",
                    "('BSP', 'SURENDER VASHISHT')",
                    "('IND', 'ABDUT NATH')",
                    "('IND', 'BIJENDER SINGH ADVOCATE')",
                    "('AAP', 'KAUSHAL TATARPUR')",
                    "('NOTA', 'NOTA')",
                    "('IND', 'RAHUL')",
                    "('Other', 'MUKESH')",
                    "('IND', 'SAMEY SINGH')",
                    "('ASP(KR)', 'GIRIRAJ JATOLA')",
                    "('IND', 'JITENDER KUMAR')",
                    "('BJP', 'SATISH KUMAR PHAGNA')",
                    "('INC', 'NEERAJ SHARMA')",
                    "('INLD', 'NAGENDER BHADANA')",
                    "('JJP', 'HAJI KARAMAT ALI')",
                    "('AAP', 'RAVI DAGAR')",
                    "('NOTA', 'NOTA')",
                    "('Other', 'DHEERAJ KUMAR')",
                    "('IND', 'RAJKUMAR')",
                    "('IND', 'JITENDER KUMAR')",
                    "('Other', 'VINOD SINGH')",
                    "('IND', 'RAVINDER GUPTA')",
                    "('Other', 'MANISH')",
                    "('IND', 'RANJOT')",
                    "('Other', 'RAM PARTAP GAUR')",
                    "('BJP', 'DHANESH ADLAKHA')",
                    "('INC', 'VIJAY PRATAP SINGH')",
                    "('BSP', 'MANOJ CHOUDHARY')",
                    "('AAP', 'OM PRAKASH VERMA')",
                    "('NOTA', 'NOTA')",
                    "('JJP', 'PARVINDER SINGH')",
                    "('Other', 'KAMAL BALI')",
                    "('Other', 'PREM CHAND GAUR')",
                    "('IND', 'BAKIL AKHTAR')",
                    "('IND', 'AABID KHAN')",
                    "('BJP', 'MOOL CHAND SHARMA')",
                    "('IND', 'SHARDA RATHORE')",
                    "('IND', 'RAO RAM KUMAR')",
                    "('INC', 'SMT. PARAG SHARMA')",
                    "('AAP', 'RAVINDRA FAUJDAR')",
                    "('NOTA', 'NOTA')",
                    "('IND', 'VANDANA SINGH')",
                    "('IND', 'ADVOCATE BRAHMA PRAKASH')",
                    "('Other', 'ATUL')",
                    "('BJP', 'VIPUL GOEL')",
                    "('INC', 'LAKHAN KUMAR SINGLA')",
                    "('NOTA', 'NOTA')",
                    "('AAP', 'PRAVESH MEHTA')",
                    "('INLD', 'NARENDER PAL SINGH BAGHEL')",
                    "('IND', 'VIJAY KRISHAN')",
                    "('IND', 'ADARSH BALYAN')",
                    "('IND', 'RAKESH KAPIL DAGAR')",
                    "('IND', 'MANOJ DUREJA')",
                    "('BJP', 'RAJESH NAGAR')",
                    "('IND', 'LALIT NAGAR S/O LATE BHARAT SINGH NAGAR')",
                    "('INC', 'ROHIT NAGAR')",
                    "('IND', 'GIRRAJ SHARMA')",
                    "('AAP', 'ABHASH CHANDELA')",
                    "('Other', 'SHIV NARAYAN DUBEY')",
                    "('BSP', 'LAL CHAND SHARMA')",
                    "('NOTA', 'NOTA')",
                    "('Other', 'SOMESHWAR SINGH')",
                    "('IND', 'LALIT NAGAR S/O VIJAY PAL')",
                    "('JJP', 'TIKA RAM')",
                    "('IND', 'SANDEEP MEHTA')",
                    "('Other', 'RAM BAHADUR')",
                    "('IND', 'PUNDIT SUBHASH CHANDRA DUBEY GORAKHPURI')"
                  ],
                  "marker": {
                    "color": [
                      "#FF9933",
                      "#19AAED",
                      "#DCDCDC",
                      "#22409A",
                      "#0072B0",
                      "#FFFFFF",
                      "#DCDCDC",
                      "#DCDCDC",
                      "#19AAED",
                      "#FF9933",
                      "#0072B0",
                      "#336600",
                      "#026D37",
                      "#FFFFFF",
                      "#DCDCDC",
                      "#DCDCDC",
                      "#DCDCDC",
                      "#000000",
                      "#000000",
                      "#19AAED",
                      "#FF9933",
                      "#22409A",
                      "#0072B0",
                      "#FFFFFF",
                      "#DCDCDC",
                      "#000000",
                      "#DCDCDC",
                      "#FF9933",
                      "#DCDCDC",
                      "#19AAED",
                      "#336600",
                      "#026D37",
                      "#DCDCDC",
                      "#FFFFFF",
                      "#0072B0",
                      "#000000",
                      "#DCDCDC",
                      "#DCDCDC",
                      "#DCDCDC",
                      "#19AAED",
                      "#FF9933",
                      "#003597",
                      "#0072B0",
                      "#FFFFFF",
                      "#22409A",
                      "#DCDCDC",
                      "#DCDCDC",
                      "#DCDCDC",
                      "#DCDCDC",
                      "#DCDCDC",
                      "#DCDCDC",
                      "#19AAED",
                      "#FF9933",
                      "#336600",
                      "#026D37",
                      "#DCDCDC",
                      "#0072B0",
                      "#DCDCDC",
                      "#000000",
                      "#FFFFFF",
                      "#DCDCDC",
                      "#DCDCDC",
                      "#19AAED",
                      "#FF9933",
                      "#22409A",
                      "#003597",
                      "#0072B0",
                      "#FFFFFF",
                      "#DCDCDC",
                      "#000000",
                      "#000000",
                      "#DCDCDC",
                      "#19AAED",
                      "#FF9933",
                      "#0072B0",
                      "#22409A",
                      "#003597",
                      "#FFFFFF",
                      "#DCDCDC",
                      "#000000",
                      "#DCDCDC",
                      "#DCDCDC",
                      "#000000",
                      "#DCDCDC",
                      "#FF9933",
                      "#19AAED",
                      "#336600",
                      "#0072B0",
                      "#FFFFFF",
                      "#026D37",
                      "#DCDCDC",
                      "#000000",
                      "#000000",
                      "#DCDCDC",
                      "#000000",
                      "#FF9933",
                      "#19AAED",
                      "#22409A",
                      "#0072B0",
                      "#003597",
                      "#000000",
                      "#FFFFFF",
                      "#DCDCDC",
                      "#000000",
                      "#DCDCDC",
                      "#DCDCDC",
                      "#FF9933",
                      "#19AAED",
                      "#DCDCDC",
                      "#336600",
                      "#DCDCDC",
                      "#0072B0",
                      "#DCDCDC",
                      "#DCDCDC",
                      "#DCDCDC",
                      "#FFFFFF",
                      "#026D37",
                      "#000000",
                      "#000000",
                      "#DCDCDC",
                      "#000000",
                      "#000000",
                      "#DCDCDC",
                      "#19AAED",
                      "#FF9933",
                      "#22409A",
                      "#000000",
                      "#0072B0",
                      "#FFFFFF",
                      "#026D37",
                      "#DCDCDC",
                      "#DCDCDC",
                      "#DCDCDC",
                      "#19AAED",
                      "#FF9933",
                      "#0072B0",
                      "#22409A",
                      "#FFFFFF",
                      "#026D37",
                      "#DCDCDC",
                      "#000000",
                      "#DCDCDC",
                      "#DCDCDC",
                      "#19AAED",
                      "#FF9933",
                      "#336600",
                      "#026D37",
                      "#000000",
                      "#0072B0",
                      "#DCDCDC",
                      "#FFFFFF",
                      "#DCDCDC",
                      "#000000",
                      "#19AAED",
                      "#FF9933",
                      "#DCDCDC",
                      "#026D37",
                      "#0072B0",
                      "#336600",
                      "#DCDCDC",
                      "#FFFFFF",
                      "#000000",
                      "#000000",
                      "#19AAED",
                      "#FF9933",
                      "#DCDCDC",
                      "#336600",
                      "#DCDCDC",
                      "#DCDCDC",
                      "#0072B0",
                      "#DCDCDC",
                      "#026D37",
                      "#FFFFFF",
                      "#DCDCDC",
                      "#DCDCDC",
                      "#DCDCDC",
                      "#DCDCDC",
                      "#DCDCDC",
                      "#19AAED",
                      "#FF9933",
                      "#22409A",
                      "#026D37",
                      "#0072B0",
                      "#FFFFFF",
                      "#DCDCDC",
                      "#DCDCDC",
                      "#DCDCDC",
                      "#DCDCDC",
                      "#DCDCDC",
                      "#DCDCDC",
                      "#DCDCDC",
                      "#FF9933",
                      "#DCDCDC",
                      "#19AAED",
                      "#DCDCDC",
                      "#DCDCDC",
                      "#22409A",
                      "#DCDCDC",
                      "#0072B0",
                      "#DCDCDC",
                      "#DCDCDC",
                      "#DCDCDC",
                      "#DCDCDC",
                      "#000000",
                      "#FFFFFF",
                      "#DCDCDC",
                      "#DCDCDC",
                      "#DCDCDC",
                      "#000000",
                      "#DCDCDC",
                      "#FF9933",
                      "#19AAED",
                      "#DCDCDC",
                      "#336600",
                      "#000000",
                      "#0072B0",
                      "#DCDCDC",
                      "#003597",
                      "#FFFFFF",
                      "#DCDCDC",
                      "#DCDCDC",
                      "#DCDCDC",
                      "#DCDCDC",
                      "#DCDCDC",
                      "#DCDCDC",
                      "#000000",
                      "#FF9933",
                      "#19AAED",
                      "#22409A",
                      "#0072B0",
                      "#026D37",
                      "#FFFFFF",
                      "#000000",
                      "#FF9933",
                      "#19AAED",
                      "#0072B0",
                      "#336600",
                      "#FFFFFF",
                      "#026D37",
                      "#DCDCDC",
                      "#DCDCDC",
                      "#DCDCDC",
                      "#000000",
                      "#000000",
                      "#DCDCDC",
                      "#DCDCDC",
                      "#FF9933",
                      "#19AAED",
                      "#336600",
                      "#0072B0",
                      "#000000",
                      "#026D37",
                      "#FFFFFF",
                      "#DCDCDC",
                      "#DCDCDC",
                      "#FF9933",
                      "#19AAED",
                      "#22409A",
                      "#DCDCDC",
                      "#0072B0",
                      "#000000",
                      "#DCDCDC",
                      "#DCDCDC",
                      "#DCDCDC",
                      "#000000",
                      "#000000",
                      "#FFFFFF",
                      "#DCDCDC",
                      "#DCDCDC",
                      "#DCDCDC",
                      "#FF9933",
                      "#19AAED",
                      "#DCDCDC",
                      "#0072B0",
                      "#22409A",
                      "#FFFFFF",
                      "#000000",
                      "#026D37",
                      "#DCDCDC",
                      "#DCDCDC",
                      "#DCDCDC",
                      "#DCDCDC",
                      "#FF9933",
                      "#19AAED",
                      "#DCDCDC",
                      "#0072B0",
                      "#FFFFFF",
                      "#22409A",
                      "#DCDCDC",
                      "#DCDCDC",
                      "#DCDCDC",
                      "#DCDCDC",
                      "#DCDCDC",
                      "#000000",
                      "#FF9933",
                      "#19AAED",
                      "#DCDCDC",
                      "#DCDCDC",
                      "#336600",
                      "#0072B0",
                      "#026D37",
                      "#FFFFFF",
                      "#FF9933",
                      "#19AAED",
                      "#DCDCDC",
                      "#336600",
                      "#0072B0",
                      "#026D37",
                      "#FFFFFF",
                      "#DCDCDC",
                      "#DCDCDC",
                      "#19AAED",
                      "#FF9933",
                      "#DCDCDC",
                      "#22409A",
                      "#026D37",
                      "#DCDCDC",
                      "#DCDCDC",
                      "#FFFFFF",
                      "#0072B0",
                      "#DCDCDC",
                      "#DCDCDC",
                      "#FF9933",
                      "#19AAED",
                      "#DCDCDC",
                      "#336600",
                      "#DCDCDC",
                      "#FFFFFF",
                      "#DCDCDC",
                      "#026D37",
                      "#0072B0",
                      "#000000",
                      "#000000",
                      "#DCDCDC",
                      "#DCDCDC",
                      "#000000",
                      "#DCDCDC",
                      "#FF9933",
                      "#19AAED",
                      "#336600",
                      "#0072B0",
                      "#FFFFFF",
                      "#026D37",
                      "#000000",
                      "#DCDCDC",
                      "#DCDCDC",
                      "#000000",
                      "#000000",
                      "#FF9933",
                      "#19AAED",
                      "#0072B0",
                      "#336600",
                      "#CB0922",
                      "#FFFFFF",
                      "#000000",
                      "#003597",
                      "#DCDCDC",
                      "#DCDCDC",
                      "#000000",
                      "#000000",
                      "#DCDCDC",
                      "#FF9933",
                      "#19AAED",
                      "#DCDCDC",
                      "#DCDCDC",
                      "#0072B0",
                      "#22409A",
                      "#026D37",
                      "#FFFFFF",
                      "#DCDCDC",
                      "#DCDCDC",
                      "#DCDCDC",
                      "#DCDCDC",
                      "#19AAED",
                      "#DCDCDC",
                      "#FF9933",
                      "#22409A",
                      "#0072B0",
                      "#026D37",
                      "#FFFFFF",
                      "#DCDCDC",
                      "#19AAED",
                      "#FF9933",
                      "#336600",
                      "#026D37",
                      "#0072B0",
                      "#FFFFFF",
                      "#DCDCDC",
                      "#DCDCDC",
                      "#DCDCDC",
                      "#DCDCDC",
                      "#DCDCDC",
                      "#000000",
                      "#DCDCDC",
                      "#FF9933",
                      "#19AAED",
                      "#DCDCDC",
                      "#DCDCDC",
                      "#22409A",
                      "#026D37",
                      "#DCDCDC",
                      "#000000",
                      "#DCDCDC",
                      "#DCDCDC",
                      "#0072B0",
                      "#DCDCDC",
                      "#FFFFFF",
                      "#DCDCDC",
                      "#000000",
                      "#DCDCDC",
                      "#DCDCDC",
                      "#DCDCDC",
                      "#FF9933",
                      "#19AAED",
                      "#DCDCDC",
                      "#0072B0",
                      "#336600",
                      "#026D37",
                      "#FFFFFF",
                      "#DCDCDC",
                      "#DCDCDC",
                      "#DCDCDC",
                      "#DCDCDC",
                      "#DCDCDC",
                      "#DCDCDC",
                      "#DCDCDC",
                      "#FF9933",
                      "#19AAED",
                      "#DCDCDC",
                      "#DCDCDC",
                      "#026D37",
                      "#DCDCDC",
                      "#336600",
                      "#0072B0",
                      "#DCDCDC",
                      "#000000",
                      "#DCDCDC",
                      "#DCDCDC",
                      "#DCDCDC",
                      "#DCDCDC",
                      "#000000",
                      "#DCDCDC",
                      "#FFFFFF",
                      "#DCDCDC",
                      "#DCDCDC",
                      "#DCDCDC",
                      "#DCDCDC",
                      "#FF9933",
                      "#19AAED",
                      "#336600",
                      "#0072B0",
                      "#026D37",
                      "#CB0922",
                      "#DCDCDC",
                      "#FFFFFF",
                      "#DCDCDC",
                      "#000000",
                      "#DCDCDC",
                      "#19AAED",
                      "#FF9933",
                      "#336600",
                      "#0072B0",
                      "#FFFFFF",
                      "#026D37",
                      "#DCDCDC",
                      "#DCDCDC",
                      "#DCDCDC",
                      "#DCDCDC",
                      "#DCDCDC",
                      "#DCDCDC",
                      "#DCDCDC",
                      "#19AAED",
                      "#FF9933",
                      "#336600",
                      "#DCDCDC",
                      "#026D37",
                      "#0072B0",
                      "#FFFFFF",
                      "#DCDCDC",
                      "#DCDCDC",
                      "#DCDCDC",
                      "#000000",
                      "#DCDCDC",
                      "#DCDCDC",
                      "#000000",
                      "#DCDCDC",
                      "#DCDCDC",
                      "#DCDCDC",
                      "#DCDCDC",
                      "#DCDCDC",
                      "#19AAED",
                      "#FF9933",
                      "#336600",
                      "#0072B0",
                      "#FFFFFF",
                      "#026D37",
                      "#DCDCDC",
                      "#000000",
                      "#DCDCDC",
                      "#DCDCDC",
                      "#DCDCDC",
                      "#19AAED",
                      "#FF9933",
                      "#336600",
                      "#0072B0",
                      "#026D37",
                      "#FFFFFF",
                      "#336600",
                      "#19AAED",
                      "#026D37",
                      "#FF9933",
                      "#0072B0",
                      "#FFFFFF",
                      "#DCDCDC",
                      "#DCDCDC",
                      "#DCDCDC",
                      "#DCDCDC",
                      "#000000",
                      "#000000",
                      "#DCDCDC",
                      "#336600",
                      "#19AAED",
                      "#DCDCDC",
                      "#FF9933",
                      "#0072B0",
                      "#DCDCDC",
                      "#FFFFFF",
                      "#000000",
                      "#DCDCDC",
                      "#DCDCDC",
                      "#DCDCDC",
                      "#DCDCDC",
                      "#000000",
                      "#000000",
                      "#DCDCDC",
                      "#19AAED",
                      "#000000",
                      "#026D37",
                      "#DCDCDC",
                      "#FFFFFF",
                      "#0072B0",
                      "#DCDCDC",
                      "#DCDCDC",
                      "#DCDCDC",
                      "#000000",
                      "#000000",
                      "#DCDCDC",
                      "#000000",
                      "#DCDCDC",
                      "#19AAED",
                      "#336600",
                      "#FF9933",
                      "#026D37",
                      "#0072B0",
                      "#FFFFFF",
                      "#DCDCDC",
                      "#000000",
                      "#DCDCDC",
                      "#DCDCDC",
                      "#000000",
                      "#19AAED",
                      "#FF9933",
                      "#336600",
                      "#0072B0",
                      "#026D37",
                      "#FFFFFF",
                      "#DCDCDC",
                      "#DCDCDC",
                      "#DCDCDC",
                      "#DCDCDC",
                      "#DCDCDC",
                      "#000000",
                      "#DCDCDC",
                      "#19AAED",
                      "#FF9933",
                      "#336600",
                      "#0072B0",
                      "#026D37",
                      "#FFFFFF",
                      "#000000",
                      "#DCDCDC",
                      "#19AAED",
                      "#FF9933",
                      "#336600",
                      "#0072B0",
                      "#026D37",
                      "#FFFFFF",
                      "#DCDCDC",
                      "#DCDCDC",
                      "#DCDCDC",
                      "#000000",
                      "#DCDCDC",
                      "#DCDCDC",
                      "#DCDCDC",
                      "#000000",
                      "#DCDCDC",
                      "#FF9933",
                      "#19AAED",
                      "#0072B0",
                      "#22409A",
                      "#026D37",
                      "#FFFFFF",
                      "#DCDCDC",
                      "#DCDCDC",
                      "#DCDCDC",
                      "#DCDCDC",
                      "#DCDCDC",
                      "#000000",
                      "#DCDCDC",
                      "#DCDCDC",
                      "#FF9933",
                      "#19AAED",
                      "#336600",
                      "#0072B0",
                      "#026D37",
                      "#FFFFFF",
                      "#000000",
                      "#DCDCDC",
                      "#DCDCDC",
                      "#DCDCDC",
                      "#DCDCDC",
                      "#19AAED",
                      "#FF9933",
                      "#DCDCDC",
                      "#DCDCDC",
                      "#0072B0",
                      "#DCDCDC",
                      "#DCDCDC",
                      "#336600",
                      "#026D37",
                      "#FFFFFF",
                      "#DCDCDC",
                      "#DCDCDC",
                      "#DCDCDC",
                      "#000000",
                      "#DCDCDC",
                      "#DCDCDC",
                      "#DCDCDC",
                      "#DCDCDC",
                      "#DCDCDC",
                      "#000000",
                      "#DCDCDC",
                      "#FF9933",
                      "#19AAED",
                      "#026D37",
                      "#22409A",
                      "#0072B0",
                      "#FFFFFF",
                      "#DCDCDC",
                      "#DCDCDC",
                      "#DCDCDC",
                      "#DCDCDC",
                      "#DCDCDC",
                      "#DCDCDC",
                      "#000000",
                      "#DCDCDC",
                      "#19AAED",
                      "#FF9933",
                      "#336600",
                      "#026D37",
                      "#0072B0",
                      "#DCDCDC",
                      "#DCDCDC",
                      "#FFFFFF",
                      "#DCDCDC",
                      "#DCDCDC",
                      "#DCDCDC",
                      "#DCDCDC",
                      "#DCDCDC",
                      "#DCDCDC",
                      "#FF9933",
                      "#19AAED",
                      "#DCDCDC",
                      "#336600",
                      "#026D37",
                      "#0072B0",
                      "#FFFFFF",
                      "#DCDCDC",
                      "#DCDCDC",
                      "#000000",
                      "#DCDCDC",
                      "#DCDCDC",
                      "#DCDCDC",
                      "#DCDCDC",
                      "#DCDCDC",
                      "#DCDCDC",
                      "#FF9933",
                      "#19AAED",
                      "#DCDCDC",
                      "#DCDCDC",
                      "#026D37",
                      "#0072B0",
                      "#22409A",
                      "#FFFFFF",
                      "#DCDCDC",
                      "#DCDCDC",
                      "#000000",
                      "#DCDCDC",
                      "#DCDCDC",
                      "#000000",
                      "#DCDCDC",
                      "#DCDCDC",
                      "#DCDCDC",
                      "#DCDCDC",
                      "#DCDCDC",
                      "#FF9933",
                      "#CC0D0D",
                      "#0072B0",
                      "#DCDCDC",
                      "#DCDCDC",
                      "#DCDCDC",
                      "#000000",
                      "#336600",
                      "#000000",
                      "#FFFFFF",
                      "#DCDCDC",
                      "#DCDCDC",
                      "#DCDCDC",
                      "#DCDCDC",
                      "#DCDCDC",
                      "#DCDCDC",
                      "#DCDCDC",
                      "#DCDCDC",
                      "#DCDCDC",
                      "#FF9933",
                      "#19AAED",
                      "#DCDCDC",
                      "#026D37",
                      "#22409A",
                      "#0072B0",
                      "#FFFFFF",
                      "#DCDCDC",
                      "#DCDCDC",
                      "#000000",
                      "#000000",
                      "#000000",
                      "#DCDCDC",
                      "#DCDCDC",
                      "#000000",
                      "#DCDCDC",
                      "#FF9933",
                      "#19AAED",
                      "#DCDCDC",
                      "#22409A",
                      "#026D37",
                      "#0072B0",
                      "#FFFFFF",
                      "#DCDCDC",
                      "#DCDCDC",
                      "#000000",
                      "#000000",
                      "#19AAED",
                      "#000000",
                      "#DCDCDC",
                      "#FF9933",
                      "#0072B0",
                      "#DCDCDC",
                      "#22409A",
                      "#FFFFFF",
                      "#000000",
                      "#DCDCDC",
                      "#DCDCDC",
                      "#000000",
                      "#DCDCDC",
                      "#DCDCDC",
                      "#DCDCDC",
                      "#DCDCDC",
                      "#000000",
                      "#DCDCDC",
                      "#DCDCDC",
                      "#DCDCDC",
                      "#19AAED",
                      "#FF9933",
                      "#336600",
                      "#0072B0",
                      "#026D37",
                      "#FFFFFF",
                      "#DCDCDC",
                      "#DCDCDC",
                      "#DCDCDC",
                      "#DCDCDC",
                      "#19AAED",
                      "#FF9933",
                      "#0072B0",
                      "#FFFFFF",
                      "#336600",
                      "#026D37",
                      "#000000",
                      "#000000",
                      "#DCDCDC",
                      "#DCDCDC",
                      "#000000",
                      "#DCDCDC",
                      "#DCDCDC",
                      "#DCDCDC",
                      "#DCDCDC",
                      "#DCDCDC",
                      "#19AAED",
                      "#FF9933",
                      "#DCDCDC",
                      "#22409A",
                      "#026D37",
                      "#0072B0",
                      "#FFFFFF",
                      "#DCDCDC",
                      "#000000",
                      "#DCDCDC",
                      "#000000",
                      "#000000",
                      "#DCDCDC",
                      "#00B2B2",
                      "#DCDCDC",
                      "#FF9933",
                      "#19AAED",
                      "#336600",
                      "#DCDCDC",
                      "#0072B0",
                      "#FFFFFF",
                      "#DCDCDC",
                      "#DCDCDC",
                      "#DCDCDC",
                      "#DCDCDC",
                      "#DCDCDC",
                      "#DCDCDC",
                      "#DCDCDC",
                      "#DCDCDC",
                      "#19AAED",
                      "#FF9933",
                      "#DCDCDC",
                      "#0072B0",
                      "#026D37",
                      "#FFFFFF",
                      "#DCDCDC",
                      "#DCDCDC",
                      "#DCDCDC",
                      "#DCDCDC",
                      "#19AAED",
                      "#FF9933",
                      "#026D37",
                      "#22409A",
                      "#0072B0",
                      "#FFFFFF",
                      "#000000",
                      "#DCDCDC",
                      "#DCDCDC",
                      "#DCDCDC",
                      "#DCDCDC",
                      "#DCDCDC",
                      "#19AAED",
                      "#FF9933",
                      "#DCDCDC",
                      "#336600",
                      "#DCDCDC",
                      "#0072B0",
                      "#DCDCDC",
                      "#026D37",
                      "#FFFFFF",
                      "#FF9933",
                      "#22409A",
                      "#19AAED",
                      "#026D37",
                      "#FFFFFF",
                      "#0072B0",
                      "#000000",
                      "#DCDCDC",
                      "#DCDCDC",
                      "#FF9933",
                      "#19AAED",
                      "#DCDCDC",
                      "#336600",
                      "#0072B0",
                      "#DCDCDC",
                      "#DCDCDC",
                      "#000000",
                      "#003597",
                      "#FFFFFF",
                      "#DCDCDC",
                      "#000000",
                      "#DCDCDC",
                      "#DCDCDC",
                      "#FF9933",
                      "#19AAED",
                      "#0072B0",
                      "#FFFFFF",
                      "#336600",
                      "#026D37",
                      "#DCDCDC",
                      "#DCDCDC",
                      "#DCDCDC",
                      "#000000",
                      "#000000",
                      "#DCDCDC",
                      "#19AAED",
                      "#FF9933",
                      "#026D37",
                      "#FFFFFF",
                      "#000000",
                      "#DCDCDC",
                      "#FF9933",
                      "#19AAED",
                      "#336600",
                      "#0072B0",
                      "#FFFFFF",
                      "#DCDCDC",
                      "#DCDCDC",
                      "#DCDCDC",
                      "#DCDCDC",
                      "#000000",
                      "#DCDCDC",
                      "#FF9933",
                      "#19AAED",
                      "#DCDCDC",
                      "#FFFFFF",
                      "#DCDCDC",
                      "#22409A",
                      "#026D37",
                      "#DCDCDC",
                      "#000000",
                      "#000000",
                      "#DCDCDC",
                      "#DCDCDC",
                      "#000000",
                      "#DCDCDC",
                      "#DCDCDC",
                      "#000000",
                      "#000000",
                      "#DCDCDC",
                      "#FF9933",
                      "#19AAED",
                      "#0072B0",
                      "#DCDCDC",
                      "#22409A",
                      "#FFFFFF",
                      "#DCDCDC",
                      "#DCDCDC",
                      "#003597",
                      "#000000",
                      "#000000",
                      "#DCDCDC",
                      "#DCDCDC",
                      "#FF9933",
                      "#19AAED",
                      "#336600",
                      "#0072B0",
                      "#026D37",
                      "#FFFFFF",
                      "#DCDCDC",
                      "#DCDCDC",
                      "#FF9933",
                      "#19AAED",
                      "#DCDCDC",
                      "#0072B0",
                      "#000000",
                      "#FFFFFF",
                      "#22409A",
                      "#026D37",
                      "#DCDCDC",
                      "#DCDCDC",
                      "#DCDCDC",
                      "#DCDCDC",
                      "#DCDCDC",
                      "#000000",
                      "#FF9933",
                      "#DCDCDC",
                      "#19AAED",
                      "#0072B0",
                      "#FFFFFF",
                      "#000000",
                      "#336600",
                      "#DCDCDC",
                      "#DCDCDC",
                      "#DCDCDC",
                      "#DCDCDC",
                      "#026D37",
                      "#DCDCDC",
                      "#DCDCDC",
                      "#DCDCDC",
                      "#000000",
                      "#000000",
                      "#DCDCDC",
                      "#FF9933",
                      "#19AAED",
                      "#DCDCDC",
                      "#DCDCDC",
                      "#22409A",
                      "#0072B0",
                      "#003597",
                      "#FFFFFF",
                      "#000000",
                      "#DCDCDC",
                      "#DCDCDC",
                      "#19AAED",
                      "#336600",
                      "#FF9933",
                      "#026D37",
                      "#FFFFFF",
                      "#0072B0",
                      "#000000",
                      "#19AAED",
                      "#FF9933",
                      "#336600",
                      "#DCDCDC",
                      "#026D37",
                      "#FFFFFF",
                      "#DCDCDC",
                      "#0072B0",
                      "#DCDCDC",
                      "#19AAED",
                      "#DCDCDC",
                      "#FF9933",
                      "#0072B0",
                      "#003597",
                      "#FFFFFF",
                      "#336600",
                      "#DCDCDC",
                      "#19AAED",
                      "#FF9933",
                      "#336600",
                      "#DCDCDC",
                      "#026D37",
                      "#DCDCDC",
                      "#0072B0",
                      "#FFFFFF",
                      "#DCDCDC",
                      "#FF9933",
                      "#19AAED",
                      "#DCDCDC",
                      "#336600",
                      "#DCDCDC",
                      "#FFFFFF",
                      "#0072B0",
                      "#026D37",
                      "#DCDCDC",
                      "#DCDCDC",
                      "#DCDCDC",
                      "#DCDCDC",
                      "#DCDCDC",
                      "#FF9933",
                      "#19AAED",
                      "#003597",
                      "#22409A",
                      "#DCDCDC",
                      "#0072B0",
                      "#FFFFFF",
                      "#DCDCDC",
                      "#DCDCDC",
                      "#DCDCDC",
                      "#000000",
                      "#000000",
                      "#000000",
                      "#000000",
                      "#19AAED",
                      "#FF9933",
                      "#DCDCDC",
                      "#DCDCDC",
                      "#22409A",
                      "#DCDCDC",
                      "#DCDCDC",
                      "#0072B0",
                      "#FFFFFF",
                      "#DCDCDC",
                      "#000000",
                      "#DCDCDC",
                      "#003597",
                      "#DCDCDC",
                      "#FF9933",
                      "#19AAED",
                      "#336600",
                      "#026D37",
                      "#0072B0",
                      "#FFFFFF",
                      "#000000",
                      "#DCDCDC",
                      "#DCDCDC",
                      "#000000",
                      "#DCDCDC",
                      "#000000",
                      "#DCDCDC",
                      "#000000",
                      "#FF9933",
                      "#19AAED",
                      "#22409A",
                      "#0072B0",
                      "#FFFFFF",
                      "#026D37",
                      "#000000",
                      "#000000",
                      "#DCDCDC",
                      "#DCDCDC",
                      "#FF9933",
                      "#DCDCDC",
                      "#DCDCDC",
                      "#19AAED",
                      "#0072B0",
                      "#FFFFFF",
                      "#DCDCDC",
                      "#DCDCDC",
                      "#000000",
                      "#FF9933",
                      "#19AAED",
                      "#FFFFFF",
                      "#0072B0",
                      "#336600",
                      "#DCDCDC",
                      "#DCDCDC",
                      "#DCDCDC",
                      "#DCDCDC",
                      "#FF9933",
                      "#DCDCDC",
                      "#19AAED",
                      "#DCDCDC",
                      "#0072B0",
                      "#000000",
                      "#22409A",
                      "#FFFFFF",
                      "#000000",
                      "#DCDCDC",
                      "#026D37",
                      "#DCDCDC",
                      "#000000",
                      "#DCDCDC"
                    ]
                  },
                  "name": "",
                  "orientation": "h",
                  "type": "bar",
                  "x": [
                    115,
                    185,
                    23,
                    6,
                    4,
                    6,
                    0,
                    0,
                    144,
                    123,
                    3,
                    1,
                    0,
                    3,
                    0,
                    2,
                    0,
                    0,
                    0,
                    315,
                    154,
                    37,
                    17,
                    2,
                    6,
                    0,
                    0,
                    172,
                    143,
                    57,
                    6,
                    1,
                    0,
                    5,
                    4,
                    0,
                    0,
                    0,
                    0,
                    302,
                    140,
                    3,
                    8,
                    7,
                    3,
                    3,
                    5,
                    1,
                    3,
                    0,
                    0,
                    384,
                    193,
                    21,
                    10,
                    2,
                    8,
                    4,
                    2,
                    1,
                    0,
                    2,
                    286,
                    227,
                    108,
                    8,
                    5,
                    4,
                    0,
                    6,
                    1,
                    2,
                    309,
                    222,
                    111,
                    13,
                    1,
                    3,
                    0,
                    1,
                    0,
                    0,
                    2,
                    1,
                    218,
                    293,
                    86,
                    6,
                    5,
                    1,
                    0,
                    0,
                    3,
                    0,
                    1,
                    231,
                    348,
                    29,
                    12,
                    7,
                    5,
                    3,
                    0,
                    2,
                    1,
                    1,
                    312,
                    378,
                    16,
                    21,
                    4,
                    5,
                    0,
                    2,
                    3,
                    3,
                    1,
                    1,
                    0,
                    0,
                    0,
                    0,
                    0,
                    231,
                    171,
                    3,
                    0,
                    7,
                    1,
                    7,
                    0,
                    0,
                    0,
                    783,
                    383,
                    21,
                    19,
                    8,
                    4,
                    0,
                    0,
                    0,
                    0,
                    308,
                    163,
                    9,
                    7,
                    1,
                    6,
                    1,
                    1,
                    0,
                    1,
                    341,
                    159,
                    35,
                    15,
                    13,
                    16,
                    4,
                    0,
                    5,
                    1,
                    553,
                    239,
                    118,
                    144,
                    82,
                    47,
                    30,
                    4,
                    19,
                    4,
                    1,
                    1,
                    1,
                    0,
                    1,
                    900,
                    480,
                    26,
                    8,
                    6,
                    2,
                    1,
                    1,
                    1,
                    1,
                    1,
                    2,
                    0,
                    261,
                    228,
                    378,
                    37,
                    27,
                    24,
                    29,
                    22,
                    7,
                    3,
                    2,
                    0,
                    0,
                    3,
                    1,
                    1,
                    7,
                    2,
                    2,
                    245,
                    281,
                    9,
                    5,
                    3,
                    4,
                    3,
                    0,
                    2,
                    2,
                    0,
                    2,
                    2,
                    2,
                    3,
                    0,
                    267,
                    441,
                    17,
                    7,
                    7,
                    3,
                    0,
                    269,
                    281,
                    9,
                    6,
                    3,
                    0,
                    0,
                    0,
                    0,
                    0,
                    0,
                    0,
                    0,
                    220,
                    282,
                    4,
                    4,
                    0,
                    4,
                    2,
                    0,
                    1,
                    214,
                    275,
                    41,
                    69,
                    9,
                    12,
                    1,
                    1,
                    2,
                    0,
                    2,
                    1,
                    2,
                    0,
                    0,
                    198,
                    194,
                    79,
                    6,
                    8,
                    4,
                    0,
                    3,
                    0,
                    0,
                    0,
                    0,
                    144,
                    149,
                    18,
                    3,
                    1,
                    3,
                    0,
                    1,
                    0,
                    0,
                    0,
                    0,
                    361,
                    366,
                    15,
                    10,
                    8,
                    7,
                    1,
                    2,
                    343,
                    368,
                    66,
                    6,
                    12,
                    2,
                    5,
                    0,
                    299,
                    353,
                    82,
                    2,
                    5,
                    3,
                    0,
                    0,
                    1,
                    6,
                    0,
                    0,
                    136,
                    274,
                    19,
                    6,
                    1,
                    4,
                    0,
                    0,
                    1,
                    0,
                    0,
                    0,
                    1,
                    0,
                    0,
                    193,
                    393,
                    14,
                    6,
                    3,
                    3,
                    2,
                    1,
                    1,
                    0,
                    0,
                    252,
                    473,
                    7,
                    4,
                    2,
                    3,
                    0,
                    1,
                    0,
                    0,
                    0,
                    0,
                    0,
                    301,
                    578,
                    74,
                    20,
                    8,
                    5,
                    1,
                    3,
                    0,
                    3,
                    0,
                    0,
                    675,
                    235,
                    225,
                    14,
                    7,
                    8,
                    2,
                    2,
                    589,
                    337,
                    35,
                    11,
                    14,
                    1,
                    1,
                    0,
                    1,
                    2,
                    1,
                    1,
                    1,
                    284,
                    429,
                    48,
                    61,
                    16,
                    4,
                    0,
                    3,
                    0,
                    1,
                    8,
                    1,
                    3,
                    0,
                    2,
                    1,
                    0,
                    0,
                    350,
                    695,
                    38,
                    10,
                    12,
                    11,
                    5,
                    3,
                    1,
                    3,
                    0,
                    0,
                    1,
                    0,
                    247,
                    636,
                    131,
                    52,
                    36,
                    24,
                    12,
                    15,
                    0,
                    1,
                    3,
                    0,
                    0,
                    1,
                    0,
                    0,
                    4,
                    0,
                    0,
                    0,
                    0,
                    287,
                    530,
                    282,
                    5,
                    13,
                    1,
                    2,
                    4,
                    0,
                    0,
                    0,
                    630,
                    323,
                    43,
                    12,
                    7,
                    3,
                    0,
                    1,
                    0,
                    2,
                    0,
                    0,
                    1,
                    730,
                    403,
                    55,
                    15,
                    14,
                    25,
                    6,
                    1,
                    0,
                    0,
                    0,
                    0,
                    0,
                    0,
                    1,
                    0,
                    0,
                    0,
                    0,
                    543,
                    233,
                    38,
                    11,
                    3,
                    7,
                    1,
                    0,
                    0,
                    1,
                    1,
                    393,
                    146,
                    167,
                    17,
                    6,
                    5,
                    358,
                    509,
                    81,
                    88,
                    39,
                    4,
                    2,
                    1,
                    0,
                    2,
                    1,
                    0,
                    0,
                    195,
                    232,
                    88,
                    85,
                    17,
                    6,
                    1,
                    0,
                    3,
                    1,
                    0,
                    1,
                    0,
                    0,
                    0,
                    554,
                    220,
                    11,
                    15,
                    5,
                    7,
                    0,
                    2,
                    0,
                    0,
                    0,
                    0,
                    2,
                    4,
                    410,
                    271,
                    128,
                    5,
                    6,
                    8,
                    1,
                    1,
                    0,
                    0,
                    0,
                    416,
                    418,
                    16,
                    8,
                    9,
                    2,
                    0,
                    0,
                    2,
                    0,
                    0,
                    0,
                    0,
                    868,
                    287,
                    82,
                    10,
                    6,
                    8,
                    0,
                    2,
                    715,
                    387,
                    43,
                    7,
                    5,
                    3,
                    1,
                    1,
                    2,
                    0,
                    0,
                    0,
                    0,
                    1,
                    1,
                    412,
                    600,
                    8,
                    24,
                    4,
                    5,
                    1,
                    0,
                    0,
                    1,
                    0,
                    2,
                    0,
                    2,
                    297,
                    525,
                    119,
                    22,
                    4,
                    2,
                    0,
                    0,
                    1,
                    0,
                    195,
                    288,
                    88,
                    27,
                    6,
                    4,
                    5,
                    0,
                    3,
                    0,
                    6,
                    0,
                    0,
                    0,
                    0,
                    0,
                    0,
                    0,
                    0,
                    0,
                    0,
                    0,
                    440,
                    639,
                    13,
                    18,
                    7,
                    5,
                    0,
                    2,
                    2,
                    1,
                    1,
                    0,
                    1,
                    0,
                    806,
                    641,
                    8,
                    12,
                    14,
                    3,
                    0,
                    1,
                    0,
                    0,
                    1,
                    1,
                    0,
                    0,
                    710,
                    921,
                    160,
                    19,
                    17,
                    22,
                    6,
                    0,
                    2,
                    5,
                    0,
                    2,
                    3,
                    1,
                    3,
                    0,
                    633,
                    986,
                    28,
                    41,
                    33,
                    34,
                    12,
                    7,
                    3,
                    4,
                    0,
                    2,
                    0,
                    2,
                    1,
                    0,
                    3,
                    1,
                    1,
                    579,
                    598,
                    138,
                    73,
                    22,
                    13,
                    21,
                    29,
                    12,
                    11,
                    2,
                    0,
                    0,
                    1,
                    3,
                    1,
                    1,
                    0,
                    1,
                    686,
                    740,
                    83,
                    18,
                    22,
                    6,
                    4,
                    1,
                    0,
                    1,
                    1,
                    1,
                    0,
                    2,
                    0,
                    0,
                    644,
                    739,
                    66,
                    12,
                    11,
                    20,
                    11,
                    0,
                    5,
                    5,
                    0,
                    786,
                    200,
                    99,
                    162,
                    46,
                    17,
                    17,
                    7,
                    1,
                    0,
                    0,
                    0,
                    0,
                    0,
                    0,
                    0,
                    0,
                    0,
                    1,
                    0,
                    1019,
                    180,
                    13,
                    12,
                    3,
                    3,
                    0,
                    0,
                    1,
                    0,
                    589,
                    273,
                    8,
                    5,
                    5,
                    0,
                    1,
                    0,
                    0,
                    1,
                    0,
                    0,
                    0,
                    0,
                    0,
                    0,
                    531,
                    255,
                    73,
                    12,
                    10,
                    9,
                    4,
                    2,
                    1,
                    0,
                    2,
                    0,
                    0,
                    5,
                    104,
                    128,
                    220,
                    36,
                    19,
                    7,
                    1,
                    0,
                    0,
                    2,
                    1,
                    0,
                    1,
                    0,
                    0,
                    605,
                    288,
                    21,
                    6,
                    2,
                    4,
                    1,
                    1,
                    2,
                    3,
                    1020,
                    444,
                    10,
                    8,
                    8,
                    5,
                    0,
                    0,
                    8,
                    2,
                    0,
                    1,
                    674,
                    191,
                    80,
                    14,
                    8,
                    11,
                    2,
                    11,
                    7,
                    963,
                    378,
                    563,
                    20,
                    10,
                    11,
                    2,
                    13,
                    5,
                    1036,
                    1131,
                    183,
                    33,
                    38,
                    43,
                    17,
                    5,
                    9,
                    4,
                    0,
                    5,
                    1,
                    0,
                    788,
                    718,
                    40,
                    11,
                    11,
                    4,
                    6,
                    6,
                    4,
                    1,
                    0,
                    0,
                    752,
                    850,
                    8,
                    4,
                    0,
                    9,
                    739,
                    619,
                    13,
                    18,
                    8,
                    2,
                    3,
                    1,
                    3,
                    0,
                    3,
                    1297,
                    1232,
                    106,
                    20,
                    4,
                    12,
                    4,
                    1,
                    8,
                    7,
                    1,
                    20,
                    4,
                    8,
                    6,
                    1,
                    6,
                    2,
                    511,
                    613,
                    62,
                    56,
                    6,
                    4,
                    4,
                    2,
                    2,
                    0,
                    1,
                    2,
                    0,
                    474,
                    241,
                    20,
                    19,
                    11,
                    6,
                    3,
                    5,
                    255,
                    162,
                    52,
                    9,
                    0,
                    1,
                    0,
                    0,
                    0,
                    0,
                    0,
                    0,
                    0,
                    0,
                    314,
                    58,
                    163,
                    8,
                    5,
                    1,
                    1,
                    0,
                    0,
                    0,
                    0,
                    1,
                    1,
                    0,
                    0,
                    0,
                    0,
                    1,
                    249,
                    189,
                    39,
                    51,
                    22,
                    5,
                    3,
                    1,
                    2,
                    0,
                    0,
                    136,
                    44,
                    92,
                    5,
                    2,
                    10,
                    0,
                    211,
                    98,
                    13,
                    3,
                    1,
                    1,
                    1,
                    1,
                    0,
                    127,
                    57,
                    17,
                    2,
                    0,
                    0,
                    0,
                    2,
                    269,
                    405,
                    71,
                    34,
                    26,
                    30,
                    24,
                    2,
                    0,
                    168,
                    205,
                    1,
                    2,
                    1,
                    2,
                    8,
                    8,
                    1,
                    1,
                    0,
                    0,
                    0,
                    323,
                    387,
                    10,
                    4,
                    0,
                    9,
                    3,
                    1,
                    0,
                    0,
                    0,
                    3,
                    0,
                    3,
                    304,
                    142,
                    36,
                    27,
                    10,
                    2,
                    0,
                    3,
                    2,
                    0,
                    1,
                    1,
                    3,
                    1,
                    74,
                    89,
                    30,
                    6,
                    3,
                    1,
                    0,
                    0,
                    0,
                    1,
                    0,
                    0,
                    0,
                    0,
                    90,
                    98,
                    0,
                    2,
                    4,
                    2,
                    0,
                    2,
                    0,
                    0,
                    100,
                    84,
                    23,
                    47,
                    9,
                    0,
                    0,
                    0,
                    1,
                    130,
                    68,
                    3,
                    2,
                    1,
                    0,
                    2,
                    1,
                    0,
                    145,
                    99,
                    57,
                    6,
                    4,
                    0,
                    4,
                    4,
                    0,
                    3,
                    0,
                    1,
                    0,
                    0
                  ],
                  "y": [
                    "Kalka",
                    "Kalka",
                    "Kalka",
                    "Kalka",
                    "Kalka",
                    "Kalka",
                    "Kalka",
                    "Kalka",
                    "Panchkula",
                    "Panchkula",
                    "Panchkula",
                    "Panchkula",
                    "Panchkula",
                    "Panchkula",
                    "Panchkula",
                    "Panchkula",
                    "Panchkula",
                    "Panchkula",
                    "Panchkula",
                    "Naraingarh",
                    "Naraingarh",
                    "Naraingarh",
                    "Naraingarh",
                    "Naraingarh",
                    "Naraingarh",
                    "Naraingarh",
                    "Naraingarh",
                    "Ambala Cantonment",
                    "Ambala Cantonment",
                    "Ambala Cantonment",
                    "Ambala Cantonment",
                    "Ambala Cantonment",
                    "Ambala Cantonment",
                    "Ambala Cantonment",
                    "Ambala Cantonment",
                    "Ambala Cantonment",
                    "Ambala Cantonment",
                    "Ambala Cantonment",
                    "Ambala Cantonment",
                    "Ambala City",
                    "Ambala City",
                    "Ambala City",
                    "Ambala City",
                    "Ambala City",
                    "Ambala City",
                    "Ambala City",
                    "Ambala City",
                    "Ambala City",
                    "Ambala City",
                    "Ambala City",
                    "Ambala City",
                    "Mulana",
                    "Mulana",
                    "Mulana",
                    "Mulana",
                    "Mulana",
                    "Mulana",
                    "Mulana",
                    "Mulana",
                    "Mulana",
                    "Mulana",
                    "Mulana",
                    "Sadhaura",
                    "Sadhaura",
                    "Sadhaura",
                    "Sadhaura",
                    "Sadhaura",
                    "Sadhaura",
                    "Sadhaura",
                    "Sadhaura",
                    "Sadhaura",
                    "Sadhaura",
                    "Jagadhri",
                    "Jagadhri",
                    "Jagadhri",
                    "Jagadhri",
                    "Jagadhri",
                    "Jagadhri",
                    "Jagadhri",
                    "Jagadhri",
                    "Jagadhri",
                    "Jagadhri",
                    "Jagadhri",
                    "Jagadhri",
                    "Yamunanagar",
                    "Yamunanagar",
                    "Yamunanagar",
                    "Yamunanagar",
                    "Yamunanagar",
                    "Yamunanagar",
                    "Yamunanagar",
                    "Yamunanagar",
                    "Yamunanagar",
                    "Yamunanagar",
                    "Yamunanagar",
                    "Radaur",
                    "Radaur",
                    "Radaur",
                    "Radaur",
                    "Radaur",
                    "Radaur",
                    "Radaur",
                    "Radaur",
                    "Radaur",
                    "Radaur",
                    "Radaur",
                    "Ladwa",
                    "Ladwa",
                    "Ladwa",
                    "Ladwa",
                    "Ladwa",
                    "Ladwa",
                    "Ladwa",
                    "Ladwa",
                    "Ladwa",
                    "Ladwa",
                    "Ladwa",
                    "Ladwa",
                    "Ladwa",
                    "Ladwa",
                    "Ladwa",
                    "Ladwa",
                    "Ladwa",
                    "Shahbad",
                    "Shahbad",
                    "Shahbad",
                    "Shahbad",
                    "Shahbad",
                    "Shahbad",
                    "Shahbad",
                    "Shahbad",
                    "Shahbad",
                    "Shahbad",
                    "Thanesar",
                    "Thanesar",
                    "Thanesar",
                    "Thanesar",
                    "Thanesar",
                    "Thanesar",
                    "Thanesar",
                    "Thanesar",
                    "Thanesar",
                    "Thanesar",
                    "Pehowa",
                    "Pehowa",
                    "Pehowa",
                    "Pehowa",
                    "Pehowa",
                    "Pehowa",
                    "Pehowa",
                    "Pehowa",
                    "Pehowa",
                    "Pehowa",
                    "Guhla",
                    "Guhla",
                    "Guhla",
                    "Guhla",
                    "Guhla",
                    "Guhla",
                    "Guhla",
                    "Guhla",
                    "Guhla",
                    "Guhla",
                    "Kalayat",
                    "Kalayat",
                    "Kalayat",
                    "Kalayat",
                    "Kalayat",
                    "Kalayat",
                    "Kalayat",
                    "Kalayat",
                    "Kalayat",
                    "Kalayat",
                    "Kalayat",
                    "Kalayat",
                    "Kalayat",
                    "Kalayat",
                    "Kalayat",
                    "Kaithal",
                    "Kaithal",
                    "Kaithal",
                    "Kaithal",
                    "Kaithal",
                    "Kaithal",
                    "Kaithal",
                    "Kaithal",
                    "Kaithal",
                    "Kaithal",
                    "Kaithal",
                    "Kaithal",
                    "Kaithal",
                    "Pundri",
                    "Pundri",
                    "Pundri",
                    "Pundri",
                    "Pundri",
                    "Pundri",
                    "Pundri",
                    "Pundri",
                    "Pundri",
                    "Pundri",
                    "Pundri",
                    "Pundri",
                    "Pundri",
                    "Pundri",
                    "Pundri",
                    "Pundri",
                    "Pundri",
                    "Pundri",
                    "Pundri",
                    "Nilokheri",
                    "Nilokheri",
                    "Nilokheri",
                    "Nilokheri",
                    "Nilokheri",
                    "Nilokheri",
                    "Nilokheri",
                    "Nilokheri",
                    "Nilokheri",
                    "Nilokheri",
                    "Nilokheri",
                    "Nilokheri",
                    "Nilokheri",
                    "Nilokheri",
                    "Nilokheri",
                    "Nilokheri",
                    "Indri",
                    "Indri",
                    "Indri",
                    "Indri",
                    "Indri",
                    "Indri",
                    "Indri",
                    "Karnal",
                    "Karnal",
                    "Karnal",
                    "Karnal",
                    "Karnal",
                    "Karnal",
                    "Karnal",
                    "Karnal",
                    "Karnal",
                    "Karnal",
                    "Karnal",
                    "Karnal",
                    "Karnal",
                    "Gharaunda",
                    "Gharaunda",
                    "Gharaunda",
                    "Gharaunda",
                    "Gharaunda",
                    "Gharaunda",
                    "Gharaunda",
                    "Gharaunda",
                    "Gharaunda",
                    "Assandh",
                    "Assandh",
                    "Assandh",
                    "Assandh",
                    "Assandh",
                    "Assandh",
                    "Assandh",
                    "Assandh",
                    "Assandh",
                    "Assandh",
                    "Assandh",
                    "Assandh",
                    "Assandh",
                    "Assandh",
                    "Assandh",
                    "Panipat Rural",
                    "Panipat Rural",
                    "Panipat Rural",
                    "Panipat Rural",
                    "Panipat Rural",
                    "Panipat Rural",
                    "Panipat Rural",
                    "Panipat Rural",
                    "Panipat Rural",
                    "Panipat Rural",
                    "Panipat Rural",
                    "Panipat Rural",
                    "Panipat City",
                    "Panipat City",
                    "Panipat City",
                    "Panipat City",
                    "Panipat City",
                    "Panipat City",
                    "Panipat City",
                    "Panipat City",
                    "Panipat City",
                    "Panipat City",
                    "Panipat City",
                    "Panipat City",
                    "Israna",
                    "Israna",
                    "Israna",
                    "Israna",
                    "Israna",
                    "Israna",
                    "Israna",
                    "Israna",
                    "Samalkha",
                    "Samalkha",
                    "Samalkha",
                    "Samalkha",
                    "Samalkha",
                    "Samalkha",
                    "Samalkha",
                    "Samalkha",
                    "Ganaur",
                    "Ganaur",
                    "Ganaur",
                    "Ganaur",
                    "Ganaur",
                    "Ganaur",
                    "Ganaur",
                    "Ganaur",
                    "Ganaur",
                    "Ganaur",
                    "Ganaur",
                    "Ganaur",
                    "Rai",
                    "Rai",
                    "Rai",
                    "Rai",
                    "Rai",
                    "Rai",
                    "Rai",
                    "Rai",
                    "Rai",
                    "Rai",
                    "Rai",
                    "Rai",
                    "Rai",
                    "Rai",
                    "Rai",
                    "Kharkhauda",
                    "Kharkhauda",
                    "Kharkhauda",
                    "Kharkhauda",
                    "Kharkhauda",
                    "Kharkhauda",
                    "Kharkhauda",
                    "Kharkhauda",
                    "Kharkhauda",
                    "Kharkhauda",
                    "Kharkhauda",
                    "Sonipat",
                    "Sonipat",
                    "Sonipat",
                    "Sonipat",
                    "Sonipat",
                    "Sonipat",
                    "Sonipat",
                    "Sonipat",
                    "Sonipat",
                    "Sonipat",
                    "Sonipat",
                    "Sonipat",
                    "Sonipat",
                    "Gohana",
                    "Gohana",
                    "Gohana",
                    "Gohana",
                    "Gohana",
                    "Gohana",
                    "Gohana",
                    "Gohana",
                    "Gohana",
                    "Gohana",
                    "Gohana",
                    "Gohana",
                    "Baroda",
                    "Baroda",
                    "Baroda",
                    "Baroda",
                    "Baroda",
                    "Baroda",
                    "Baroda",
                    "Baroda",
                    "Julana",
                    "Julana",
                    "Julana",
                    "Julana",
                    "Julana",
                    "Julana",
                    "Julana",
                    "Julana",
                    "Julana",
                    "Julana",
                    "Julana",
                    "Julana",
                    "Julana",
                    "Safidon",
                    "Safidon",
                    "Safidon",
                    "Safidon",
                    "Safidon",
                    "Safidon",
                    "Safidon",
                    "Safidon",
                    "Safidon",
                    "Safidon",
                    "Safidon",
                    "Safidon",
                    "Safidon",
                    "Safidon",
                    "Safidon",
                    "Safidon",
                    "Safidon",
                    "Safidon",
                    "Jind",
                    "Jind",
                    "Jind",
                    "Jind",
                    "Jind",
                    "Jind",
                    "Jind",
                    "Jind",
                    "Jind",
                    "Jind",
                    "Jind",
                    "Jind",
                    "Jind",
                    "Jind",
                    "Uchana Kalan",
                    "Uchana Kalan",
                    "Uchana Kalan",
                    "Uchana Kalan",
                    "Uchana Kalan",
                    "Uchana Kalan",
                    "Uchana Kalan",
                    "Uchana Kalan",
                    "Uchana Kalan",
                    "Uchana Kalan",
                    "Uchana Kalan",
                    "Uchana Kalan",
                    "Uchana Kalan",
                    "Uchana Kalan",
                    "Uchana Kalan",
                    "Uchana Kalan",
                    "Uchana Kalan",
                    "Uchana Kalan",
                    "Uchana Kalan",
                    "Uchana Kalan",
                    "Uchana Kalan",
                    "Narwana",
                    "Narwana",
                    "Narwana",
                    "Narwana",
                    "Narwana",
                    "Narwana",
                    "Narwana",
                    "Narwana",
                    "Narwana",
                    "Narwana",
                    "Narwana",
                    "Tohana",
                    "Tohana",
                    "Tohana",
                    "Tohana",
                    "Tohana",
                    "Tohana",
                    "Tohana",
                    "Tohana",
                    "Tohana",
                    "Tohana",
                    "Tohana",
                    "Tohana",
                    "Tohana",
                    "Fatehabad",
                    "Fatehabad",
                    "Fatehabad",
                    "Fatehabad",
                    "Fatehabad",
                    "Fatehabad",
                    "Fatehabad",
                    "Fatehabad",
                    "Fatehabad",
                    "Fatehabad",
                    "Fatehabad",
                    "Fatehabad",
                    "Fatehabad",
                    "Fatehabad",
                    "Fatehabad",
                    "Fatehabad",
                    "Fatehabad",
                    "Fatehabad",
                    "Fatehabad",
                    "Ratia",
                    "Ratia",
                    "Ratia",
                    "Ratia",
                    "Ratia",
                    "Ratia",
                    "Ratia",
                    "Ratia",
                    "Ratia",
                    "Ratia",
                    "Ratia",
                    "Kalanwali",
                    "Kalanwali",
                    "Kalanwali",
                    "Kalanwali",
                    "Kalanwali",
                    "Kalanwali",
                    "Dabwali",
                    "Dabwali",
                    "Dabwali",
                    "Dabwali",
                    "Dabwali",
                    "Dabwali",
                    "Dabwali",
                    "Dabwali",
                    "Dabwali",
                    "Dabwali",
                    "Dabwali",
                    "Dabwali",
                    "Dabwali",
                    "Rania",
                    "Rania",
                    "Rania",
                    "Rania",
                    "Rania",
                    "Rania",
                    "Rania",
                    "Rania",
                    "Rania",
                    "Rania",
                    "Rania",
                    "Rania",
                    "Rania",
                    "Rania",
                    "Rania",
                    "Sirsa",
                    "Sirsa",
                    "Sirsa",
                    "Sirsa",
                    "Sirsa",
                    "Sirsa",
                    "Sirsa",
                    "Sirsa",
                    "Sirsa",
                    "Sirsa",
                    "Sirsa",
                    "Sirsa",
                    "Sirsa",
                    "Sirsa",
                    "Ellenabad",
                    "Ellenabad",
                    "Ellenabad",
                    "Ellenabad",
                    "Ellenabad",
                    "Ellenabad",
                    "Ellenabad",
                    "Ellenabad",
                    "Ellenabad",
                    "Ellenabad",
                    "Ellenabad",
                    "Adampur",
                    "Adampur",
                    "Adampur",
                    "Adampur",
                    "Adampur",
                    "Adampur",
                    "Adampur",
                    "Adampur",
                    "Adampur",
                    "Adampur",
                    "Adampur",
                    "Adampur",
                    "Adampur",
                    "Uklana",
                    "Uklana",
                    "Uklana",
                    "Uklana",
                    "Uklana",
                    "Uklana",
                    "Uklana",
                    "Uklana",
                    "Narnaund",
                    "Narnaund",
                    "Narnaund",
                    "Narnaund",
                    "Narnaund",
                    "Narnaund",
                    "Narnaund",
                    "Narnaund",
                    "Narnaund",
                    "Narnaund",
                    "Narnaund",
                    "Narnaund",
                    "Narnaund",
                    "Narnaund",
                    "Narnaund",
                    "Hansi",
                    "Hansi",
                    "Hansi",
                    "Hansi",
                    "Hansi",
                    "Hansi",
                    "Hansi",
                    "Hansi",
                    "Hansi",
                    "Hansi",
                    "Hansi",
                    "Hansi",
                    "Hansi",
                    "Hansi",
                    "Barwala",
                    "Barwala",
                    "Barwala",
                    "Barwala",
                    "Barwala",
                    "Barwala",
                    "Barwala",
                    "Barwala",
                    "Barwala",
                    "Barwala",
                    "Hisar",
                    "Hisar",
                    "Hisar",
                    "Hisar",
                    "Hisar",
                    "Hisar",
                    "Hisar",
                    "Hisar",
                    "Hisar",
                    "Hisar",
                    "Hisar",
                    "Hisar",
                    "Hisar",
                    "Hisar",
                    "Hisar",
                    "Hisar",
                    "Hisar",
                    "Hisar",
                    "Hisar",
                    "Hisar",
                    "Hisar",
                    "Hisar",
                    "Nalwa",
                    "Nalwa",
                    "Nalwa",
                    "Nalwa",
                    "Nalwa",
                    "Nalwa",
                    "Nalwa",
                    "Nalwa",
                    "Nalwa",
                    "Nalwa",
                    "Nalwa",
                    "Nalwa",
                    "Nalwa",
                    "Nalwa",
                    "Loharu",
                    "Loharu",
                    "Loharu",
                    "Loharu",
                    "Loharu",
                    "Loharu",
                    "Loharu",
                    "Loharu",
                    "Loharu",
                    "Loharu",
                    "Loharu",
                    "Loharu",
                    "Loharu",
                    "Loharu",
                    "Badhra",
                    "Badhra",
                    "Badhra",
                    "Badhra",
                    "Badhra",
                    "Badhra",
                    "Badhra",
                    "Badhra",
                    "Badhra",
                    "Badhra",
                    "Badhra",
                    "Badhra",
                    "Badhra",
                    "Badhra",
                    "Badhra",
                    "Badhra",
                    "Dadri",
                    "Dadri",
                    "Dadri",
                    "Dadri",
                    "Dadri",
                    "Dadri",
                    "Dadri",
                    "Dadri",
                    "Dadri",
                    "Dadri",
                    "Dadri",
                    "Dadri",
                    "Dadri",
                    "Dadri",
                    "Dadri",
                    "Dadri",
                    "Dadri",
                    "Dadri",
                    "Dadri",
                    "Bhiwani",
                    "Bhiwani",
                    "Bhiwani",
                    "Bhiwani",
                    "Bhiwani",
                    "Bhiwani",
                    "Bhiwani",
                    "Bhiwani",
                    "Bhiwani",
                    "Bhiwani",
                    "Bhiwani",
                    "Bhiwani",
                    "Bhiwani",
                    "Bhiwani",
                    "Bhiwani",
                    "Bhiwani",
                    "Bhiwani",
                    "Bhiwani",
                    "Bhiwani",
                    "Tosham",
                    "Tosham",
                    "Tosham",
                    "Tosham",
                    "Tosham",
                    "Tosham",
                    "Tosham",
                    "Tosham",
                    "Tosham",
                    "Tosham",
                    "Tosham",
                    "Tosham",
                    "Tosham",
                    "Tosham",
                    "Tosham",
                    "Tosham",
                    "Bawani Khera",
                    "Bawani Khera",
                    "Bawani Khera",
                    "Bawani Khera",
                    "Bawani Khera",
                    "Bawani Khera",
                    "Bawani Khera",
                    "Bawani Khera",
                    "Bawani Khera",
                    "Bawani Khera",
                    "Bawani Khera",
                    "Meham",
                    "Meham",
                    "Meham",
                    "Meham",
                    "Meham",
                    "Meham",
                    "Meham",
                    "Meham",
                    "Meham",
                    "Meham",
                    "Meham",
                    "Meham",
                    "Meham",
                    "Meham",
                    "Meham",
                    "Meham",
                    "Meham",
                    "Meham",
                    "Meham",
                    "Meham",
                    "Garhi Sampla-Kiloi",
                    "Garhi Sampla-Kiloi",
                    "Garhi Sampla-Kiloi",
                    "Garhi Sampla-Kiloi",
                    "Garhi Sampla-Kiloi",
                    "Garhi Sampla-Kiloi",
                    "Garhi Sampla-Kiloi",
                    "Garhi Sampla-Kiloi",
                    "Garhi Sampla-Kiloi",
                    "Garhi Sampla-Kiloi",
                    "Rohtak",
                    "Rohtak",
                    "Rohtak",
                    "Rohtak",
                    "Rohtak",
                    "Rohtak",
                    "Rohtak",
                    "Rohtak",
                    "Rohtak",
                    "Rohtak",
                    "Rohtak",
                    "Rohtak",
                    "Rohtak",
                    "Rohtak",
                    "Rohtak",
                    "Rohtak",
                    "Kalanaur",
                    "Kalanaur",
                    "Kalanaur",
                    "Kalanaur",
                    "Kalanaur",
                    "Kalanaur",
                    "Kalanaur",
                    "Kalanaur",
                    "Kalanaur",
                    "Kalanaur",
                    "Kalanaur",
                    "Kalanaur",
                    "Kalanaur",
                    "Kalanaur",
                    "Bahadurgarh",
                    "Bahadurgarh",
                    "Bahadurgarh",
                    "Bahadurgarh",
                    "Bahadurgarh",
                    "Bahadurgarh",
                    "Bahadurgarh",
                    "Bahadurgarh",
                    "Bahadurgarh",
                    "Bahadurgarh",
                    "Bahadurgarh",
                    "Bahadurgarh",
                    "Bahadurgarh",
                    "Bahadurgarh",
                    "Bahadurgarh",
                    "Badli",
                    "Badli",
                    "Badli",
                    "Badli",
                    "Badli",
                    "Badli",
                    "Badli",
                    "Badli",
                    "Badli",
                    "Badli",
                    "Jhajjar",
                    "Jhajjar",
                    "Jhajjar",
                    "Jhajjar",
                    "Jhajjar",
                    "Jhajjar",
                    "Jhajjar",
                    "Jhajjar",
                    "Jhajjar",
                    "Jhajjar",
                    "Jhajjar",
                    "Jhajjar",
                    "Beri",
                    "Beri",
                    "Beri",
                    "Beri",
                    "Beri",
                    "Beri",
                    "Beri",
                    "Beri",
                    "Beri",
                    "Ateli",
                    "Ateli",
                    "Ateli",
                    "Ateli",
                    "Ateli",
                    "Ateli",
                    "Ateli",
                    "Ateli",
                    "Ateli",
                    "Mahendragarh",
                    "Mahendragarh",
                    "Mahendragarh",
                    "Mahendragarh",
                    "Mahendragarh",
                    "Mahendragarh",
                    "Mahendragarh",
                    "Mahendragarh",
                    "Mahendragarh",
                    "Mahendragarh",
                    "Mahendragarh",
                    "Mahendragarh",
                    "Mahendragarh",
                    "Mahendragarh",
                    "Narnaul",
                    "Narnaul",
                    "Narnaul",
                    "Narnaul",
                    "Narnaul",
                    "Narnaul",
                    "Narnaul",
                    "Narnaul",
                    "Narnaul",
                    "Narnaul",
                    "Narnaul",
                    "Narnaul",
                    "Nangal Chaudhry",
                    "Nangal Chaudhry",
                    "Nangal Chaudhry",
                    "Nangal Chaudhry",
                    "Nangal Chaudhry",
                    "Nangal Chaudhry",
                    "Bawal",
                    "Bawal",
                    "Bawal",
                    "Bawal",
                    "Bawal",
                    "Bawal",
                    "Bawal",
                    "Bawal",
                    "Bawal",
                    "Bawal",
                    "Bawal",
                    "Kosli",
                    "Kosli",
                    "Kosli",
                    "Kosli",
                    "Kosli",
                    "Kosli",
                    "Kosli",
                    "Kosli",
                    "Kosli",
                    "Kosli",
                    "Kosli",
                    "Kosli",
                    "Kosli",
                    "Kosli",
                    "Kosli",
                    "Kosli",
                    "Kosli",
                    "Kosli",
                    "Rewari",
                    "Rewari",
                    "Rewari",
                    "Rewari",
                    "Rewari",
                    "Rewari",
                    "Rewari",
                    "Rewari",
                    "Rewari",
                    "Rewari",
                    "Rewari",
                    "Rewari",
                    "Rewari",
                    "Pataudi",
                    "Pataudi",
                    "Pataudi",
                    "Pataudi",
                    "Pataudi",
                    "Pataudi",
                    "Pataudi",
                    "Pataudi",
                    "Badshahpur",
                    "Badshahpur",
                    "Badshahpur",
                    "Badshahpur",
                    "Badshahpur",
                    "Badshahpur",
                    "Badshahpur",
                    "Badshahpur",
                    "Badshahpur",
                    "Badshahpur",
                    "Badshahpur",
                    "Badshahpur",
                    "Badshahpur",
                    "Badshahpur",
                    "Gurgaon",
                    "Gurgaon",
                    "Gurgaon",
                    "Gurgaon",
                    "Gurgaon",
                    "Gurgaon",
                    "Gurgaon",
                    "Gurgaon",
                    "Gurgaon",
                    "Gurgaon",
                    "Gurgaon",
                    "Gurgaon",
                    "Gurgaon",
                    "Gurgaon",
                    "Gurgaon",
                    "Gurgaon",
                    "Gurgaon",
                    "Gurgaon",
                    "Sohna",
                    "Sohna",
                    "Sohna",
                    "Sohna",
                    "Sohna",
                    "Sohna",
                    "Sohna",
                    "Sohna",
                    "Sohna",
                    "Sohna",
                    "Sohna",
                    "Nuh",
                    "Nuh",
                    "Nuh",
                    "Nuh",
                    "Nuh",
                    "Nuh",
                    "Nuh",
                    "Ferozepur Jhirka",
                    "Ferozepur Jhirka",
                    "Ferozepur Jhirka",
                    "Ferozepur Jhirka",
                    "Ferozepur Jhirka",
                    "Ferozepur Jhirka",
                    "Ferozepur Jhirka",
                    "Ferozepur Jhirka",
                    "Ferozepur Jhirka",
                    "Punahana",
                    "Punahana",
                    "Punahana",
                    "Punahana",
                    "Punahana",
                    "Punahana",
                    "Punahana",
                    "Punahana",
                    "Hathin",
                    "Hathin",
                    "Hathin",
                    "Hathin",
                    "Hathin",
                    "Hathin",
                    "Hathin",
                    "Hathin",
                    "Hathin",
                    "Hodal",
                    "Hodal",
                    "Hodal",
                    "Hodal",
                    "Hodal",
                    "Hodal",
                    "Hodal",
                    "Hodal",
                    "Hodal",
                    "Hodal",
                    "Hodal",
                    "Hodal",
                    "Hodal",
                    "Palwal",
                    "Palwal",
                    "Palwal",
                    "Palwal",
                    "Palwal",
                    "Palwal",
                    "Palwal",
                    "Palwal",
                    "Palwal",
                    "Palwal",
                    "Palwal",
                    "Palwal",
                    "Palwal",
                    "Palwal",
                    "Prithla",
                    "Prithla",
                    "Prithla",
                    "Prithla",
                    "Prithla",
                    "Prithla",
                    "Prithla",
                    "Prithla",
                    "Prithla",
                    "Prithla",
                    "Prithla",
                    "Prithla",
                    "Prithla",
                    "Prithla",
                    "Faridabad NIT",
                    "Faridabad NIT",
                    "Faridabad NIT",
                    "Faridabad NIT",
                    "Faridabad NIT",
                    "Faridabad NIT",
                    "Faridabad NIT",
                    "Faridabad NIT",
                    "Faridabad NIT",
                    "Faridabad NIT",
                    "Faridabad NIT",
                    "Faridabad NIT",
                    "Faridabad NIT",
                    "Faridabad NIT",
                    "Badkhal",
                    "Badkhal",
                    "Badkhal",
                    "Badkhal",
                    "Badkhal",
                    "Badkhal",
                    "Badkhal",
                    "Badkhal",
                    "Badkhal",
                    "Badkhal",
                    "Ballabgarh",
                    "Ballabgarh",
                    "Ballabgarh",
                    "Ballabgarh",
                    "Ballabgarh",
                    "Ballabgarh",
                    "Ballabgarh",
                    "Ballabgarh",
                    "Ballabgarh",
                    "Faridabad",
                    "Faridabad",
                    "Faridabad",
                    "Faridabad",
                    "Faridabad",
                    "Faridabad",
                    "Faridabad",
                    "Faridabad",
                    "Faridabad",
                    "Tigaon",
                    "Tigaon",
                    "Tigaon",
                    "Tigaon",
                    "Tigaon",
                    "Tigaon",
                    "Tigaon",
                    "Tigaon",
                    "Tigaon",
                    "Tigaon",
                    "Tigaon",
                    "Tigaon",
                    "Tigaon",
                    "Tigaon"
                  ]
                }
              ],
              "layout": {
                "height": 1500,
                "template": {
                  "data": {
                    "bar": [
                      {
                        "error_x": {
                          "color": "#2a3f5f"
                        },
                        "error_y": {
                          "color": "#2a3f5f"
                        },
                        "marker": {
                          "line": {
                            "color": "#E5ECF6",
                            "width": 0.5
                          },
                          "pattern": {
                            "fillmode": "overlay",
                            "size": 10,
                            "solidity": 0.2
                          }
                        },
                        "type": "bar"
                      }
                    ],
                    "barpolar": [
                      {
                        "marker": {
                          "line": {
                            "color": "#E5ECF6",
                            "width": 0.5
                          },
                          "pattern": {
                            "fillmode": "overlay",
                            "size": 10,
                            "solidity": 0.2
                          }
                        },
                        "type": "barpolar"
                      }
                    ],
                    "carpet": [
                      {
                        "aaxis": {
                          "endlinecolor": "#2a3f5f",
                          "gridcolor": "white",
                          "linecolor": "white",
                          "minorgridcolor": "white",
                          "startlinecolor": "#2a3f5f"
                        },
                        "baxis": {
                          "endlinecolor": "#2a3f5f",
                          "gridcolor": "white",
                          "linecolor": "white",
                          "minorgridcolor": "white",
                          "startlinecolor": "#2a3f5f"
                        },
                        "type": "carpet"
                      }
                    ],
                    "choropleth": [
                      {
                        "colorbar": {
                          "outlinewidth": 0,
                          "ticks": ""
                        },
                        "type": "choropleth"
                      }
                    ],
                    "contour": [
                      {
                        "colorbar": {
                          "outlinewidth": 0,
                          "ticks": ""
                        },
                        "colorscale": [
                          [
                            0,
                            "#0d0887"
                          ],
                          [
                            0.1111111111111111,
                            "#46039f"
                          ],
                          [
                            0.2222222222222222,
                            "#7201a8"
                          ],
                          [
                            0.3333333333333333,
                            "#9c179e"
                          ],
                          [
                            0.4444444444444444,
                            "#bd3786"
                          ],
                          [
                            0.5555555555555556,
                            "#d8576b"
                          ],
                          [
                            0.6666666666666666,
                            "#ed7953"
                          ],
                          [
                            0.7777777777777778,
                            "#fb9f3a"
                          ],
                          [
                            0.8888888888888888,
                            "#fdca26"
                          ],
                          [
                            1,
                            "#f0f921"
                          ]
                        ],
                        "type": "contour"
                      }
                    ],
                    "contourcarpet": [
                      {
                        "colorbar": {
                          "outlinewidth": 0,
                          "ticks": ""
                        },
                        "type": "contourcarpet"
                      }
                    ],
                    "heatmap": [
                      {
                        "colorbar": {
                          "outlinewidth": 0,
                          "ticks": ""
                        },
                        "colorscale": [
                          [
                            0,
                            "#0d0887"
                          ],
                          [
                            0.1111111111111111,
                            "#46039f"
                          ],
                          [
                            0.2222222222222222,
                            "#7201a8"
                          ],
                          [
                            0.3333333333333333,
                            "#9c179e"
                          ],
                          [
                            0.4444444444444444,
                            "#bd3786"
                          ],
                          [
                            0.5555555555555556,
                            "#d8576b"
                          ],
                          [
                            0.6666666666666666,
                            "#ed7953"
                          ],
                          [
                            0.7777777777777778,
                            "#fb9f3a"
                          ],
                          [
                            0.8888888888888888,
                            "#fdca26"
                          ],
                          [
                            1,
                            "#f0f921"
                          ]
                        ],
                        "type": "heatmap"
                      }
                    ],
                    "heatmapgl": [
                      {
                        "colorbar": {
                          "outlinewidth": 0,
                          "ticks": ""
                        },
                        "colorscale": [
                          [
                            0,
                            "#0d0887"
                          ],
                          [
                            0.1111111111111111,
                            "#46039f"
                          ],
                          [
                            0.2222222222222222,
                            "#7201a8"
                          ],
                          [
                            0.3333333333333333,
                            "#9c179e"
                          ],
                          [
                            0.4444444444444444,
                            "#bd3786"
                          ],
                          [
                            0.5555555555555556,
                            "#d8576b"
                          ],
                          [
                            0.6666666666666666,
                            "#ed7953"
                          ],
                          [
                            0.7777777777777778,
                            "#fb9f3a"
                          ],
                          [
                            0.8888888888888888,
                            "#fdca26"
                          ],
                          [
                            1,
                            "#f0f921"
                          ]
                        ],
                        "type": "heatmapgl"
                      }
                    ],
                    "histogram": [
                      {
                        "marker": {
                          "pattern": {
                            "fillmode": "overlay",
                            "size": 10,
                            "solidity": 0.2
                          }
                        },
                        "type": "histogram"
                      }
                    ],
                    "histogram2d": [
                      {
                        "colorbar": {
                          "outlinewidth": 0,
                          "ticks": ""
                        },
                        "colorscale": [
                          [
                            0,
                            "#0d0887"
                          ],
                          [
                            0.1111111111111111,
                            "#46039f"
                          ],
                          [
                            0.2222222222222222,
                            "#7201a8"
                          ],
                          [
                            0.3333333333333333,
                            "#9c179e"
                          ],
                          [
                            0.4444444444444444,
                            "#bd3786"
                          ],
                          [
                            0.5555555555555556,
                            "#d8576b"
                          ],
                          [
                            0.6666666666666666,
                            "#ed7953"
                          ],
                          [
                            0.7777777777777778,
                            "#fb9f3a"
                          ],
                          [
                            0.8888888888888888,
                            "#fdca26"
                          ],
                          [
                            1,
                            "#f0f921"
                          ]
                        ],
                        "type": "histogram2d"
                      }
                    ],
                    "histogram2dcontour": [
                      {
                        "colorbar": {
                          "outlinewidth": 0,
                          "ticks": ""
                        },
                        "colorscale": [
                          [
                            0,
                            "#0d0887"
                          ],
                          [
                            0.1111111111111111,
                            "#46039f"
                          ],
                          [
                            0.2222222222222222,
                            "#7201a8"
                          ],
                          [
                            0.3333333333333333,
                            "#9c179e"
                          ],
                          [
                            0.4444444444444444,
                            "#bd3786"
                          ],
                          [
                            0.5555555555555556,
                            "#d8576b"
                          ],
                          [
                            0.6666666666666666,
                            "#ed7953"
                          ],
                          [
                            0.7777777777777778,
                            "#fb9f3a"
                          ],
                          [
                            0.8888888888888888,
                            "#fdca26"
                          ],
                          [
                            1,
                            "#f0f921"
                          ]
                        ],
                        "type": "histogram2dcontour"
                      }
                    ],
                    "mesh3d": [
                      {
                        "colorbar": {
                          "outlinewidth": 0,
                          "ticks": ""
                        },
                        "type": "mesh3d"
                      }
                    ],
                    "parcoords": [
                      {
                        "line": {
                          "colorbar": {
                            "outlinewidth": 0,
                            "ticks": ""
                          }
                        },
                        "type": "parcoords"
                      }
                    ],
                    "pie": [
                      {
                        "automargin": true,
                        "type": "pie"
                      }
                    ],
                    "scatter": [
                      {
                        "fillpattern": {
                          "fillmode": "overlay",
                          "size": 10,
                          "solidity": 0.2
                        },
                        "type": "scatter"
                      }
                    ],
                    "scatter3d": [
                      {
                        "line": {
                          "colorbar": {
                            "outlinewidth": 0,
                            "ticks": ""
                          }
                        },
                        "marker": {
                          "colorbar": {
                            "outlinewidth": 0,
                            "ticks": ""
                          }
                        },
                        "type": "scatter3d"
                      }
                    ],
                    "scattercarpet": [
                      {
                        "marker": {
                          "colorbar": {
                            "outlinewidth": 0,
                            "ticks": ""
                          }
                        },
                        "type": "scattercarpet"
                      }
                    ],
                    "scattergeo": [
                      {
                        "marker": {
                          "colorbar": {
                            "outlinewidth": 0,
                            "ticks": ""
                          }
                        },
                        "type": "scattergeo"
                      }
                    ],
                    "scattergl": [
                      {
                        "marker": {
                          "colorbar": {
                            "outlinewidth": 0,
                            "ticks": ""
                          }
                        },
                        "type": "scattergl"
                      }
                    ],
                    "scattermapbox": [
                      {
                        "marker": {
                          "colorbar": {
                            "outlinewidth": 0,
                            "ticks": ""
                          }
                        },
                        "type": "scattermapbox"
                      }
                    ],
                    "scatterpolar": [
                      {
                        "marker": {
                          "colorbar": {
                            "outlinewidth": 0,
                            "ticks": ""
                          }
                        },
                        "type": "scatterpolar"
                      }
                    ],
                    "scatterpolargl": [
                      {
                        "marker": {
                          "colorbar": {
                            "outlinewidth": 0,
                            "ticks": ""
                          }
                        },
                        "type": "scatterpolargl"
                      }
                    ],
                    "scatterternary": [
                      {
                        "marker": {
                          "colorbar": {
                            "outlinewidth": 0,
                            "ticks": ""
                          }
                        },
                        "type": "scatterternary"
                      }
                    ],
                    "surface": [
                      {
                        "colorbar": {
                          "outlinewidth": 0,
                          "ticks": ""
                        },
                        "colorscale": [
                          [
                            0,
                            "#0d0887"
                          ],
                          [
                            0.1111111111111111,
                            "#46039f"
                          ],
                          [
                            0.2222222222222222,
                            "#7201a8"
                          ],
                          [
                            0.3333333333333333,
                            "#9c179e"
                          ],
                          [
                            0.4444444444444444,
                            "#bd3786"
                          ],
                          [
                            0.5555555555555556,
                            "#d8576b"
                          ],
                          [
                            0.6666666666666666,
                            "#ed7953"
                          ],
                          [
                            0.7777777777777778,
                            "#fb9f3a"
                          ],
                          [
                            0.8888888888888888,
                            "#fdca26"
                          ],
                          [
                            1,
                            "#f0f921"
                          ]
                        ],
                        "type": "surface"
                      }
                    ],
                    "table": [
                      {
                        "cells": {
                          "fill": {
                            "color": "#EBF0F8"
                          },
                          "line": {
                            "color": "white"
                          }
                        },
                        "header": {
                          "fill": {
                            "color": "#C8D4E3"
                          },
                          "line": {
                            "color": "white"
                          }
                        },
                        "type": "table"
                      }
                    ]
                  },
                  "layout": {
                    "annotationdefaults": {
                      "arrowcolor": "#2a3f5f",
                      "arrowhead": 0,
                      "arrowwidth": 1
                    },
                    "autotypenumbers": "strict",
                    "coloraxis": {
                      "colorbar": {
                        "outlinewidth": 0,
                        "ticks": ""
                      }
                    },
                    "colorscale": {
                      "diverging": [
                        [
                          0,
                          "#8e0152"
                        ],
                        [
                          0.1,
                          "#c51b7d"
                        ],
                        [
                          0.2,
                          "#de77ae"
                        ],
                        [
                          0.3,
                          "#f1b6da"
                        ],
                        [
                          0.4,
                          "#fde0ef"
                        ],
                        [
                          0.5,
                          "#f7f7f7"
                        ],
                        [
                          0.6,
                          "#e6f5d0"
                        ],
                        [
                          0.7,
                          "#b8e186"
                        ],
                        [
                          0.8,
                          "#7fbc41"
                        ],
                        [
                          0.9,
                          "#4d9221"
                        ],
                        [
                          1,
                          "#276419"
                        ]
                      ],
                      "sequential": [
                        [
                          0,
                          "#0d0887"
                        ],
                        [
                          0.1111111111111111,
                          "#46039f"
                        ],
                        [
                          0.2222222222222222,
                          "#7201a8"
                        ],
                        [
                          0.3333333333333333,
                          "#9c179e"
                        ],
                        [
                          0.4444444444444444,
                          "#bd3786"
                        ],
                        [
                          0.5555555555555556,
                          "#d8576b"
                        ],
                        [
                          0.6666666666666666,
                          "#ed7953"
                        ],
                        [
                          0.7777777777777778,
                          "#fb9f3a"
                        ],
                        [
                          0.8888888888888888,
                          "#fdca26"
                        ],
                        [
                          1,
                          "#f0f921"
                        ]
                      ],
                      "sequentialminus": [
                        [
                          0,
                          "#0d0887"
                        ],
                        [
                          0.1111111111111111,
                          "#46039f"
                        ],
                        [
                          0.2222222222222222,
                          "#7201a8"
                        ],
                        [
                          0.3333333333333333,
                          "#9c179e"
                        ],
                        [
                          0.4444444444444444,
                          "#bd3786"
                        ],
                        [
                          0.5555555555555556,
                          "#d8576b"
                        ],
                        [
                          0.6666666666666666,
                          "#ed7953"
                        ],
                        [
                          0.7777777777777778,
                          "#fb9f3a"
                        ],
                        [
                          0.8888888888888888,
                          "#fdca26"
                        ],
                        [
                          1,
                          "#f0f921"
                        ]
                      ]
                    },
                    "colorway": [
                      "#636efa",
                      "#EF553B",
                      "#00cc96",
                      "#ab63fa",
                      "#FFA15A",
                      "#19d3f3",
                      "#FF6692",
                      "#B6E880",
                      "#FF97FF",
                      "#FECB52"
                    ],
                    "font": {
                      "color": "#2a3f5f"
                    },
                    "geo": {
                      "bgcolor": "white",
                      "lakecolor": "white",
                      "landcolor": "#E5ECF6",
                      "showlakes": true,
                      "showland": true,
                      "subunitcolor": "white"
                    },
                    "hoverlabel": {
                      "align": "left"
                    },
                    "hovermode": "closest",
                    "mapbox": {
                      "style": "light"
                    },
                    "paper_bgcolor": "white",
                    "plot_bgcolor": "#E5ECF6",
                    "polar": {
                      "angularaxis": {
                        "gridcolor": "white",
                        "linecolor": "white",
                        "ticks": ""
                      },
                      "bgcolor": "#E5ECF6",
                      "radialaxis": {
                        "gridcolor": "white",
                        "linecolor": "white",
                        "ticks": ""
                      }
                    },
                    "scene": {
                      "xaxis": {
                        "backgroundcolor": "#E5ECF6",
                        "gridcolor": "white",
                        "gridwidth": 2,
                        "linecolor": "white",
                        "showbackground": true,
                        "ticks": "",
                        "zerolinecolor": "white"
                      },
                      "yaxis": {
                        "backgroundcolor": "#E5ECF6",
                        "gridcolor": "white",
                        "gridwidth": 2,
                        "linecolor": "white",
                        "showbackground": true,
                        "ticks": "",
                        "zerolinecolor": "white"
                      },
                      "zaxis": {
                        "backgroundcolor": "#E5ECF6",
                        "gridcolor": "white",
                        "gridwidth": 2,
                        "linecolor": "white",
                        "showbackground": true,
                        "ticks": "",
                        "zerolinecolor": "white"
                      }
                    },
                    "shapedefaults": {
                      "line": {
                        "color": "#2a3f5f"
                      }
                    },
                    "ternary": {
                      "aaxis": {
                        "gridcolor": "white",
                        "linecolor": "white",
                        "ticks": ""
                      },
                      "baxis": {
                        "gridcolor": "white",
                        "linecolor": "white",
                        "ticks": ""
                      },
                      "bgcolor": "#E5ECF6",
                      "caxis": {
                        "gridcolor": "white",
                        "linecolor": "white",
                        "ticks": ""
                      }
                    },
                    "title": {
                      "x": 0.05
                    },
                    "xaxis": {
                      "automargin": true,
                      "gridcolor": "white",
                      "linecolor": "white",
                      "ticks": "",
                      "title": {
                        "standoff": 15
                      },
                      "zerolinecolor": "white",
                      "zerolinewidth": 2
                    },
                    "yaxis": {
                      "automargin": true,
                      "gridcolor": "white",
                      "linecolor": "white",
                      "ticks": "",
                      "title": {
                        "standoff": 15
                      },
                      "zerolinecolor": "white",
                      "zerolinewidth": 2
                    }
                  }
                },
                "title": {
                  "text": "Constituency wise Postal Ballot votes"
                }
              }
            }
          },
          "metadata": {},
          "output_type": "display_data"
        }
      ],
      "source": [
        "# Postal ballot at a glance \n",
        "fig = go.Figure()\n",
        "fig.add_traces(go.Bar(y=result['Constituency Name'], x=result['Postal Votes'], customdata=result[['Abb','Candidate']],\n",
        "                      orientation='h', marker_color=result['Color'], hovertemplate='%{y}<br>%{customdata[1]}<br>%{customdata[0]} %{x} votes',\n",
        "                      hovertext=list(zip(result['Abb'],result['Candidate'])), name=''))\n",
        "fig.update_layout(title='Constituency wise Postal Ballot votes', height=1500)"
      ]
    },
    {
      "cell_type": "code",
      "execution_count": 14,
      "metadata": {},
      "outputs": [
        {
          "data": {
            "application/vnd.plotly.v1+json": {
              "config": {
                "plotlyServerURL": "https://plot.ly"
              },
              "data": [
                {
                  "marker": {
                    "color": [
                      "#19AAED",
                      "#19AAED",
                      "#FF9933",
                      "#FF9933",
                      "#FF9933",
                      "#FF9933",
                      "#19AAED",
                      "#FF9933",
                      "#DCDCDC",
                      "#FF9933",
                      "#FF9933",
                      "#19AAED",
                      "#DCDCDC",
                      "#FF9933",
                      "#FF9933",
                      "#FF9933",
                      "#FF9933",
                      "#19AAED",
                      "#19AAED",
                      "#FF9933",
                      "#FF9933",
                      "#19AAED",
                      "#FF9933",
                      "#19AAED",
                      "#19AAED",
                      "#FF9933",
                      "#FF9933",
                      "#FF9933",
                      "#19AAED",
                      "#19AAED",
                      "#FF9933",
                      "#FF9933",
                      "#DCDCDC",
                      "#FF9933",
                      "#19AAED",
                      "#FF9933",
                      "#FF9933",
                      "#FF9933",
                      "#19AAED",
                      "#FF9933",
                      "#FF9933",
                      "#FF9933",
                      "#19AAED",
                      "#19AAED",
                      "#FF9933",
                      "#FF9933",
                      "#19AAED",
                      "#19AAED",
                      "#FF9933",
                      "#19AAED",
                      "#19AAED",
                      "#19AAED",
                      "#FF9933",
                      "#FF9933",
                      "#FF9933",
                      "#19AAED",
                      "#FF9933",
                      "#19AAED",
                      "#FF9933",
                      "#19AAED",
                      "#FF9933",
                      "#FF9933",
                      "#19AAED",
                      "#19AAED",
                      "#19AAED",
                      "#19AAED",
                      "#19AAED",
                      "#FF9933",
                      "#19AAED",
                      "#19AAED",
                      "#FF9933",
                      "#FF9933",
                      "#FF9933",
                      "#336600",
                      "#FF9933",
                      "#19AAED",
                      "#FF9933",
                      "#FF9933",
                      "#FF9933",
                      "#FF9933",
                      "#19AAED",
                      "#FF9933",
                      "#19AAED",
                      "#FF9933",
                      "#19AAED",
                      "#19AAED",
                      "#19AAED",
                      "#19AAED",
                      "#336600",
                      "#FF9933"
                    ]
                  },
                  "orientation": "h",
                  "text": [
                    [
                      "INC",
                      "MAMMAN KHAN"
                    ],
                    [
                      "INC",
                      "BHUPINDER SINGH HOODA"
                    ],
                    [
                      "BJP",
                      "MUKESH SHARMA"
                    ],
                    [
                      "BJP",
                      "RAO NARBIR SINGH"
                    ],
                    [
                      "BJP",
                      "MAHIPAL DHANDA"
                    ],
                    [
                      "BJP",
                      "VIPUL GOEL"
                    ],
                    [
                      "INC",
                      "AFTAB AHMED"
                    ],
                    [
                      "BJP",
                      "BIMLA CHAUDHARY"
                    ],
                    [
                      "IND",
                      "RAJESH JOON"
                    ],
                    [
                      "BJP",
                      "RAJESH NAGAR"
                    ],
                    [
                      "BJP",
                      "PARMOD KUMAR VIJ"
                    ],
                    [
                      "INC",
                      "RAGHUVIR SINGH KADIAN"
                    ],
                    [
                      "IND",
                      "DEVENDER KADYAN"
                    ],
                    [
                      "BJP",
                      "JAGMOHAN ANAND"
                    ],
                    [
                      "BJP",
                      "GAURAV GAUTAM"
                    ],
                    [
                      "BJP",
                      "SATISH KUMAR PHAGNA"
                    ],
                    [
                      "BJP",
                      "GHANSHYAM SARAF"
                    ],
                    [
                      "INC",
                      "MOHD ISRAIL"
                    ],
                    [
                      "INC",
                      "MOHAMMAD ILYAS"
                    ],
                    [
                      "BJP",
                      "NIKHIL MADAAN"
                    ],
                    [
                      "BJP",
                      "LAXMAN SINGH YADAV"
                    ],
                    [
                      "INC",
                      "NARESH SELWAL"
                    ],
                    [
                      "BJP",
                      "RANBIR GANGWA"
                    ],
                    [
                      "INC",
                      "SHISHPAL KEHARWALA"
                    ],
                    [
                      "INC",
                      "DEVENDER HANS"
                    ],
                    [
                      "BJP",
                      "GHANSHYAM DASS"
                    ],
                    [
                      "BJP",
                      "KAPOOR SINGH"
                    ],
                    [
                      "BJP",
                      "VINOD BHAYANA"
                    ],
                    [
                      "INC",
                      "JARNAIL SINGH"
                    ],
                    [
                      "INC",
                      "RAGHUBIR TEWATIA"
                    ],
                    [
                      "BJP",
                      "DR. KRISHAN KUMAR"
                    ],
                    [
                      "BJP",
                      "MANMOHAN BHADANA"
                    ],
                    [
                      "IND",
                      "SAVITRI JINDAL"
                    ],
                    [
                      "BJP",
                      "BHAGWAN DASS"
                    ],
                    [
                      "INC",
                      "BALRAM DANGI"
                    ],
                    [
                      "BJP",
                      "MOOL CHAND SHARMA"
                    ],
                    [
                      "BJP",
                      "ANIL YADAV"
                    ],
                    [
                      "BJP",
                      "OM PRAKASH YADAV"
                    ],
                    [
                      "INC",
                      "KULDEEP VATS"
                    ],
                    [
                      "BJP",
                      "NAYAB SINGH"
                    ],
                    [
                      "BJP",
                      "DR KRISHAN LAL MIDDHA"
                    ],
                    [
                      "BJP",
                      "RAM KUMAR KASHYAP"
                    ],
                    [
                      "INC",
                      "SHALLEY CHAUDHARY"
                    ],
                    [
                      "INC",
                      "BHARAT SINGH BENIWAL"
                    ],
                    [
                      "BJP",
                      "SHRUTI CHOUDHRY"
                    ],
                    [
                      "BJP",
                      "KRISHAN LAL PANWAR"
                    ],
                    [
                      "INC",
                      "GEETA BHUKKAL"
                    ],
                    [
                      "INC",
                      "VIKAS SAHARAN"
                    ],
                    [
                      "BJP",
                      "SHYAM SINGH RANA"
                    ],
                    [
                      "INC",
                      "POOJA"
                    ],
                    [
                      "INC",
                      "JASSI PETWAR"
                    ],
                    [
                      "INC",
                      "SHAKUNTLA KHATAK"
                    ],
                    [
                      "BJP",
                      "RANDHIR PANIHAR"
                    ],
                    [
                      "BJP",
                      "TEJPAL TANWAR"
                    ],
                    [
                      "BJP",
                      "KRISHAN KUMAR"
                    ],
                    [
                      "INC",
                      "NIRMAL SINGH MOHRA"
                    ],
                    [
                      "BJP",
                      "SHAKTI RANI SHARMA"
                    ],
                    [
                      "INC",
                      "PARAMVIR SINGH"
                    ],
                    [
                      "BJP",
                      "ARVIND KUMAR SHARMA"
                    ],
                    [
                      "INC",
                      "ADITYA SURJEWALA"
                    ],
                    [
                      "BJP",
                      "UMED SINGH"
                    ],
                    [
                      "BJP",
                      "ANIL VIJ"
                    ],
                    [
                      "INC",
                      "GOKUL SETIA"
                    ],
                    [
                      "INC",
                      "MANJU CHOUDHARY"
                    ],
                    [
                      "INC",
                      "AKRAM KHAN"
                    ],
                    [
                      "INC",
                      "MANDEEP CHATHA"
                    ],
                    [
                      "INC",
                      "RAM KARAN"
                    ],
                    [
                      "BJP",
                      "DHANESH ADLAKHA"
                    ],
                    [
                      "INC",
                      "VINESH"
                    ],
                    [
                      "INC",
                      "INDURAJ SINGH NARWAL"
                    ],
                    [
                      "BJP",
                      "PAWAN KHARKHODA"
                    ],
                    [
                      "BJP",
                      "KRISHNA GAHLAWAT"
                    ],
                    [
                      "BJP",
                      "HARVINDER KALYAN"
                    ],
                    [
                      "INLD",
                      "ARJUN CHAUTALA"
                    ],
                    [
                      "BJP",
                      "RAM KUMAR GAUTAM"
                    ],
                    [
                      "INC",
                      "ASHOK KUMAR ARORA"
                    ],
                    [
                      "BJP",
                      "ARTI SINGH RAO"
                    ],
                    [
                      "BJP",
                      "KANWAR SINGH"
                    ],
                    [
                      "BJP",
                      "HARINDER SINGH"
                    ],
                    [
                      "BJP",
                      "YOGINDER SINGH RANA"
                    ],
                    [
                      "INC",
                      "BALWAN SINGH DOULATPURIA"
                    ],
                    [
                      "BJP",
                      "SATPAL JAMBA"
                    ],
                    [
                      "INC",
                      "CHANDER MOHAN"
                    ],
                    [
                      "BJP",
                      "SUNIL SATPAL SANGWAN"
                    ],
                    [
                      "INC",
                      "RENU BALA"
                    ],
                    [
                      "INC",
                      "BHARAT BHUSHAN BATRA"
                    ],
                    [
                      "INC",
                      "CHANDER PARKASH S/O ARJUN LAL"
                    ],
                    [
                      "INC",
                      "RAJBIR FARTIA"
                    ],
                    [
                      "INLD",
                      "ADITYA DEVILAL"
                    ],
                    [
                      "BJP",
                      "DEVENDER CHATAR BHUJ ATTRI"
                    ]
                  ],
                  "textposition": "outside",
                  "texttemplate": "%{text[0]}, %{x}",
                  "type": "bar",
                  "x": [
                    98441,
                    71465,
                    68045,
                    60705,
                    50212,
                    48388,
                    46963,
                    46530,
                    41999,
                    37401,
                    35672,
                    35470,
                    35209,
                    33652,
                    33605,
                    33217,
                    32714,
                    32396,
                    31916,
                    29627,
                    28769,
                    28092,
                    26942,
                    22959,
                    22880,
                    22437,
                    21779,
                    21460,
                    21442,
                    20541,
                    20011,
                    19315,
                    18941,
                    18845,
                    18060,
                    17730,
                    17209,
                    17171,
                    16820,
                    16054,
                    15860,
                    15149,
                    15094,
                    15000,
                    14257,
                    13895,
                    13555,
                    13419,
                    13132,
                    12865,
                    12578,
                    12232,
                    12144,
                    11877,
                    11499,
                    11131,
                    10883,
                    10836,
                    10429,
                    8124,
                    7585,
                    7277,
                    7234,
                    6930,
                    6868,
                    6553,
                    6441,
                    6181,
                    6015,
                    5642,
                    5635,
                    4673,
                    4531,
                    4191,
                    4037,
                    3243,
                    3085,
                    2648,
                    2595,
                    2306,
                    2252,
                    2197,
                    1997,
                    1957,
                    1699,
                    1341,
                    1268,
                    792,
                    610,
                    32
                  ],
                  "y": [
                    "Ferozepur Jhirka",
                    "Garhi Sampla-Kiloi",
                    "Gurgaon",
                    "Badshahpur",
                    "Panipat Rural",
                    "Faridabad",
                    "Nuh",
                    "Pataudi",
                    "Bahadurgarh",
                    "Tigaon",
                    "Panipat City",
                    "Beri",
                    "Ganaur",
                    "Karnal",
                    "Palwal",
                    "Faridabad NIT",
                    "Bhiwani",
                    "Hathin",
                    "Punahana",
                    "Sonipat",
                    "Rewari",
                    "Uklana",
                    "Barwala",
                    "Kalanwali",
                    "Guhla",
                    "Yamunanagar",
                    "Bawani Khera",
                    "Hansi",
                    "Ratia",
                    "Prithla",
                    "Bawal",
                    "Samalkha",
                    "Hisar",
                    "Nilokheri",
                    "Meham",
                    "Ballabgarh",
                    "Kosli",
                    "Narnaul",
                    "Badli",
                    "Ladwa",
                    "Jind",
                    "Indri",
                    "Naraingarh",
                    "Ellenabad",
                    "Tosham",
                    "Israna",
                    "Jhajjar",
                    "Kalayat",
                    "Radaur",
                    "Mulana",
                    "Narnaund",
                    "Kalanaur",
                    "Nalwa",
                    "Sohna",
                    "Narwana",
                    "Ambala City",
                    "Kalka",
                    "Tohana",
                    "Gohana",
                    "Kaithal",
                    "Badhra",
                    "Ambala Cantonment",
                    "Sirsa",
                    "Nangal Chaudhry",
                    "Jagadhri",
                    "Pehowa",
                    "Shahbad",
                    "Badkhal",
                    "Julana",
                    "Baroda",
                    "Kharkhauda",
                    "Rai",
                    "Gharaunda",
                    "Rania",
                    "Safidon",
                    "Thanesar",
                    "Ateli",
                    "Mahendragarh",
                    "Hodal",
                    "Assandh",
                    "Fatehabad",
                    "Pundri",
                    "Panchkula",
                    "Dadri",
                    "Sadhaura",
                    "Rohtak",
                    "Adampur",
                    "Loharu",
                    "Dabwali",
                    "Uchana Kalan"
                  ]
                }
              ],
              "layout": {
                "height": 1500,
                "template": {
                  "data": {
                    "bar": [
                      {
                        "error_x": {
                          "color": "#2a3f5f"
                        },
                        "error_y": {
                          "color": "#2a3f5f"
                        },
                        "marker": {
                          "line": {
                            "color": "#E5ECF6",
                            "width": 0.5
                          },
                          "pattern": {
                            "fillmode": "overlay",
                            "size": 10,
                            "solidity": 0.2
                          }
                        },
                        "type": "bar"
                      }
                    ],
                    "barpolar": [
                      {
                        "marker": {
                          "line": {
                            "color": "#E5ECF6",
                            "width": 0.5
                          },
                          "pattern": {
                            "fillmode": "overlay",
                            "size": 10,
                            "solidity": 0.2
                          }
                        },
                        "type": "barpolar"
                      }
                    ],
                    "carpet": [
                      {
                        "aaxis": {
                          "endlinecolor": "#2a3f5f",
                          "gridcolor": "white",
                          "linecolor": "white",
                          "minorgridcolor": "white",
                          "startlinecolor": "#2a3f5f"
                        },
                        "baxis": {
                          "endlinecolor": "#2a3f5f",
                          "gridcolor": "white",
                          "linecolor": "white",
                          "minorgridcolor": "white",
                          "startlinecolor": "#2a3f5f"
                        },
                        "type": "carpet"
                      }
                    ],
                    "choropleth": [
                      {
                        "colorbar": {
                          "outlinewidth": 0,
                          "ticks": ""
                        },
                        "type": "choropleth"
                      }
                    ],
                    "contour": [
                      {
                        "colorbar": {
                          "outlinewidth": 0,
                          "ticks": ""
                        },
                        "colorscale": [
                          [
                            0,
                            "#0d0887"
                          ],
                          [
                            0.1111111111111111,
                            "#46039f"
                          ],
                          [
                            0.2222222222222222,
                            "#7201a8"
                          ],
                          [
                            0.3333333333333333,
                            "#9c179e"
                          ],
                          [
                            0.4444444444444444,
                            "#bd3786"
                          ],
                          [
                            0.5555555555555556,
                            "#d8576b"
                          ],
                          [
                            0.6666666666666666,
                            "#ed7953"
                          ],
                          [
                            0.7777777777777778,
                            "#fb9f3a"
                          ],
                          [
                            0.8888888888888888,
                            "#fdca26"
                          ],
                          [
                            1,
                            "#f0f921"
                          ]
                        ],
                        "type": "contour"
                      }
                    ],
                    "contourcarpet": [
                      {
                        "colorbar": {
                          "outlinewidth": 0,
                          "ticks": ""
                        },
                        "type": "contourcarpet"
                      }
                    ],
                    "heatmap": [
                      {
                        "colorbar": {
                          "outlinewidth": 0,
                          "ticks": ""
                        },
                        "colorscale": [
                          [
                            0,
                            "#0d0887"
                          ],
                          [
                            0.1111111111111111,
                            "#46039f"
                          ],
                          [
                            0.2222222222222222,
                            "#7201a8"
                          ],
                          [
                            0.3333333333333333,
                            "#9c179e"
                          ],
                          [
                            0.4444444444444444,
                            "#bd3786"
                          ],
                          [
                            0.5555555555555556,
                            "#d8576b"
                          ],
                          [
                            0.6666666666666666,
                            "#ed7953"
                          ],
                          [
                            0.7777777777777778,
                            "#fb9f3a"
                          ],
                          [
                            0.8888888888888888,
                            "#fdca26"
                          ],
                          [
                            1,
                            "#f0f921"
                          ]
                        ],
                        "type": "heatmap"
                      }
                    ],
                    "heatmapgl": [
                      {
                        "colorbar": {
                          "outlinewidth": 0,
                          "ticks": ""
                        },
                        "colorscale": [
                          [
                            0,
                            "#0d0887"
                          ],
                          [
                            0.1111111111111111,
                            "#46039f"
                          ],
                          [
                            0.2222222222222222,
                            "#7201a8"
                          ],
                          [
                            0.3333333333333333,
                            "#9c179e"
                          ],
                          [
                            0.4444444444444444,
                            "#bd3786"
                          ],
                          [
                            0.5555555555555556,
                            "#d8576b"
                          ],
                          [
                            0.6666666666666666,
                            "#ed7953"
                          ],
                          [
                            0.7777777777777778,
                            "#fb9f3a"
                          ],
                          [
                            0.8888888888888888,
                            "#fdca26"
                          ],
                          [
                            1,
                            "#f0f921"
                          ]
                        ],
                        "type": "heatmapgl"
                      }
                    ],
                    "histogram": [
                      {
                        "marker": {
                          "pattern": {
                            "fillmode": "overlay",
                            "size": 10,
                            "solidity": 0.2
                          }
                        },
                        "type": "histogram"
                      }
                    ],
                    "histogram2d": [
                      {
                        "colorbar": {
                          "outlinewidth": 0,
                          "ticks": ""
                        },
                        "colorscale": [
                          [
                            0,
                            "#0d0887"
                          ],
                          [
                            0.1111111111111111,
                            "#46039f"
                          ],
                          [
                            0.2222222222222222,
                            "#7201a8"
                          ],
                          [
                            0.3333333333333333,
                            "#9c179e"
                          ],
                          [
                            0.4444444444444444,
                            "#bd3786"
                          ],
                          [
                            0.5555555555555556,
                            "#d8576b"
                          ],
                          [
                            0.6666666666666666,
                            "#ed7953"
                          ],
                          [
                            0.7777777777777778,
                            "#fb9f3a"
                          ],
                          [
                            0.8888888888888888,
                            "#fdca26"
                          ],
                          [
                            1,
                            "#f0f921"
                          ]
                        ],
                        "type": "histogram2d"
                      }
                    ],
                    "histogram2dcontour": [
                      {
                        "colorbar": {
                          "outlinewidth": 0,
                          "ticks": ""
                        },
                        "colorscale": [
                          [
                            0,
                            "#0d0887"
                          ],
                          [
                            0.1111111111111111,
                            "#46039f"
                          ],
                          [
                            0.2222222222222222,
                            "#7201a8"
                          ],
                          [
                            0.3333333333333333,
                            "#9c179e"
                          ],
                          [
                            0.4444444444444444,
                            "#bd3786"
                          ],
                          [
                            0.5555555555555556,
                            "#d8576b"
                          ],
                          [
                            0.6666666666666666,
                            "#ed7953"
                          ],
                          [
                            0.7777777777777778,
                            "#fb9f3a"
                          ],
                          [
                            0.8888888888888888,
                            "#fdca26"
                          ],
                          [
                            1,
                            "#f0f921"
                          ]
                        ],
                        "type": "histogram2dcontour"
                      }
                    ],
                    "mesh3d": [
                      {
                        "colorbar": {
                          "outlinewidth": 0,
                          "ticks": ""
                        },
                        "type": "mesh3d"
                      }
                    ],
                    "parcoords": [
                      {
                        "line": {
                          "colorbar": {
                            "outlinewidth": 0,
                            "ticks": ""
                          }
                        },
                        "type": "parcoords"
                      }
                    ],
                    "pie": [
                      {
                        "automargin": true,
                        "type": "pie"
                      }
                    ],
                    "scatter": [
                      {
                        "fillpattern": {
                          "fillmode": "overlay",
                          "size": 10,
                          "solidity": 0.2
                        },
                        "type": "scatter"
                      }
                    ],
                    "scatter3d": [
                      {
                        "line": {
                          "colorbar": {
                            "outlinewidth": 0,
                            "ticks": ""
                          }
                        },
                        "marker": {
                          "colorbar": {
                            "outlinewidth": 0,
                            "ticks": ""
                          }
                        },
                        "type": "scatter3d"
                      }
                    ],
                    "scattercarpet": [
                      {
                        "marker": {
                          "colorbar": {
                            "outlinewidth": 0,
                            "ticks": ""
                          }
                        },
                        "type": "scattercarpet"
                      }
                    ],
                    "scattergeo": [
                      {
                        "marker": {
                          "colorbar": {
                            "outlinewidth": 0,
                            "ticks": ""
                          }
                        },
                        "type": "scattergeo"
                      }
                    ],
                    "scattergl": [
                      {
                        "marker": {
                          "colorbar": {
                            "outlinewidth": 0,
                            "ticks": ""
                          }
                        },
                        "type": "scattergl"
                      }
                    ],
                    "scattermapbox": [
                      {
                        "marker": {
                          "colorbar": {
                            "outlinewidth": 0,
                            "ticks": ""
                          }
                        },
                        "type": "scattermapbox"
                      }
                    ],
                    "scatterpolar": [
                      {
                        "marker": {
                          "colorbar": {
                            "outlinewidth": 0,
                            "ticks": ""
                          }
                        },
                        "type": "scatterpolar"
                      }
                    ],
                    "scatterpolargl": [
                      {
                        "marker": {
                          "colorbar": {
                            "outlinewidth": 0,
                            "ticks": ""
                          }
                        },
                        "type": "scatterpolargl"
                      }
                    ],
                    "scatterternary": [
                      {
                        "marker": {
                          "colorbar": {
                            "outlinewidth": 0,
                            "ticks": ""
                          }
                        },
                        "type": "scatterternary"
                      }
                    ],
                    "surface": [
                      {
                        "colorbar": {
                          "outlinewidth": 0,
                          "ticks": ""
                        },
                        "colorscale": [
                          [
                            0,
                            "#0d0887"
                          ],
                          [
                            0.1111111111111111,
                            "#46039f"
                          ],
                          [
                            0.2222222222222222,
                            "#7201a8"
                          ],
                          [
                            0.3333333333333333,
                            "#9c179e"
                          ],
                          [
                            0.4444444444444444,
                            "#bd3786"
                          ],
                          [
                            0.5555555555555556,
                            "#d8576b"
                          ],
                          [
                            0.6666666666666666,
                            "#ed7953"
                          ],
                          [
                            0.7777777777777778,
                            "#fb9f3a"
                          ],
                          [
                            0.8888888888888888,
                            "#fdca26"
                          ],
                          [
                            1,
                            "#f0f921"
                          ]
                        ],
                        "type": "surface"
                      }
                    ],
                    "table": [
                      {
                        "cells": {
                          "fill": {
                            "color": "#EBF0F8"
                          },
                          "line": {
                            "color": "white"
                          }
                        },
                        "header": {
                          "fill": {
                            "color": "#C8D4E3"
                          },
                          "line": {
                            "color": "white"
                          }
                        },
                        "type": "table"
                      }
                    ]
                  },
                  "layout": {
                    "annotationdefaults": {
                      "arrowcolor": "#2a3f5f",
                      "arrowhead": 0,
                      "arrowwidth": 1
                    },
                    "autotypenumbers": "strict",
                    "coloraxis": {
                      "colorbar": {
                        "outlinewidth": 0,
                        "ticks": ""
                      }
                    },
                    "colorscale": {
                      "diverging": [
                        [
                          0,
                          "#8e0152"
                        ],
                        [
                          0.1,
                          "#c51b7d"
                        ],
                        [
                          0.2,
                          "#de77ae"
                        ],
                        [
                          0.3,
                          "#f1b6da"
                        ],
                        [
                          0.4,
                          "#fde0ef"
                        ],
                        [
                          0.5,
                          "#f7f7f7"
                        ],
                        [
                          0.6,
                          "#e6f5d0"
                        ],
                        [
                          0.7,
                          "#b8e186"
                        ],
                        [
                          0.8,
                          "#7fbc41"
                        ],
                        [
                          0.9,
                          "#4d9221"
                        ],
                        [
                          1,
                          "#276419"
                        ]
                      ],
                      "sequential": [
                        [
                          0,
                          "#0d0887"
                        ],
                        [
                          0.1111111111111111,
                          "#46039f"
                        ],
                        [
                          0.2222222222222222,
                          "#7201a8"
                        ],
                        [
                          0.3333333333333333,
                          "#9c179e"
                        ],
                        [
                          0.4444444444444444,
                          "#bd3786"
                        ],
                        [
                          0.5555555555555556,
                          "#d8576b"
                        ],
                        [
                          0.6666666666666666,
                          "#ed7953"
                        ],
                        [
                          0.7777777777777778,
                          "#fb9f3a"
                        ],
                        [
                          0.8888888888888888,
                          "#fdca26"
                        ],
                        [
                          1,
                          "#f0f921"
                        ]
                      ],
                      "sequentialminus": [
                        [
                          0,
                          "#0d0887"
                        ],
                        [
                          0.1111111111111111,
                          "#46039f"
                        ],
                        [
                          0.2222222222222222,
                          "#7201a8"
                        ],
                        [
                          0.3333333333333333,
                          "#9c179e"
                        ],
                        [
                          0.4444444444444444,
                          "#bd3786"
                        ],
                        [
                          0.5555555555555556,
                          "#d8576b"
                        ],
                        [
                          0.6666666666666666,
                          "#ed7953"
                        ],
                        [
                          0.7777777777777778,
                          "#fb9f3a"
                        ],
                        [
                          0.8888888888888888,
                          "#fdca26"
                        ],
                        [
                          1,
                          "#f0f921"
                        ]
                      ]
                    },
                    "colorway": [
                      "#636efa",
                      "#EF553B",
                      "#00cc96",
                      "#ab63fa",
                      "#FFA15A",
                      "#19d3f3",
                      "#FF6692",
                      "#B6E880",
                      "#FF97FF",
                      "#FECB52"
                    ],
                    "font": {
                      "color": "#2a3f5f"
                    },
                    "geo": {
                      "bgcolor": "white",
                      "lakecolor": "white",
                      "landcolor": "#E5ECF6",
                      "showlakes": true,
                      "showland": true,
                      "subunitcolor": "white"
                    },
                    "hoverlabel": {
                      "align": "left"
                    },
                    "hovermode": "closest",
                    "mapbox": {
                      "style": "light"
                    },
                    "paper_bgcolor": "white",
                    "plot_bgcolor": "#E5ECF6",
                    "polar": {
                      "angularaxis": {
                        "gridcolor": "white",
                        "linecolor": "white",
                        "ticks": ""
                      },
                      "bgcolor": "#E5ECF6",
                      "radialaxis": {
                        "gridcolor": "white",
                        "linecolor": "white",
                        "ticks": ""
                      }
                    },
                    "scene": {
                      "xaxis": {
                        "backgroundcolor": "#E5ECF6",
                        "gridcolor": "white",
                        "gridwidth": 2,
                        "linecolor": "white",
                        "showbackground": true,
                        "ticks": "",
                        "zerolinecolor": "white"
                      },
                      "yaxis": {
                        "backgroundcolor": "#E5ECF6",
                        "gridcolor": "white",
                        "gridwidth": 2,
                        "linecolor": "white",
                        "showbackground": true,
                        "ticks": "",
                        "zerolinecolor": "white"
                      },
                      "zaxis": {
                        "backgroundcolor": "#E5ECF6",
                        "gridcolor": "white",
                        "gridwidth": 2,
                        "linecolor": "white",
                        "showbackground": true,
                        "ticks": "",
                        "zerolinecolor": "white"
                      }
                    },
                    "shapedefaults": {
                      "line": {
                        "color": "#2a3f5f"
                      }
                    },
                    "ternary": {
                      "aaxis": {
                        "gridcolor": "white",
                        "linecolor": "white",
                        "ticks": ""
                      },
                      "baxis": {
                        "gridcolor": "white",
                        "linecolor": "white",
                        "ticks": ""
                      },
                      "bgcolor": "#E5ECF6",
                      "caxis": {
                        "gridcolor": "white",
                        "linecolor": "white",
                        "ticks": ""
                      }
                    },
                    "title": {
                      "x": 0.05
                    },
                    "xaxis": {
                      "automargin": true,
                      "gridcolor": "white",
                      "linecolor": "white",
                      "ticks": "",
                      "title": {
                        "standoff": 15
                      },
                      "zerolinecolor": "white",
                      "zerolinewidth": 2
                    },
                    "yaxis": {
                      "automargin": true,
                      "gridcolor": "white",
                      "linecolor": "white",
                      "ticks": "",
                      "title": {
                        "standoff": 15
                      },
                      "zerolinecolor": "white",
                      "zerolinewidth": 2
                    }
                  }
                },
                "title": {
                  "text": "Constituency wise Winning Margin"
                }
              }
            }
          },
          "metadata": {},
          "output_type": "display_data"
        }
      ],
      "source": [
        "winner = result[result.Rank==1].sort_values(by='Margin', ascending=False)\n",
        "\n",
        "fig = go.Figure()\n",
        "fig.add_trace(go.Bar(x=winner['Margin'], y=winner['Constituency Name'],\n",
        "                     orientation='h', marker_color=winner.Color,\n",
        "                     text=winner[['Abb','Candidate']],texttemplate='%{text[0]}, %{x}', textposition='outside'))\n",
        "fig.update_layout(title='Constituency wise Winning Margin', height=1500)"
      ]
    },
    {
      "cell_type": "code",
      "execution_count": 15,
      "metadata": {},
      "outputs": [
        {
          "name": "stdout",
          "output_type": "stream",
          "text": [
            "\tTest statistic confidence 99% (Significance level 0.01)\n",
            "\tFail to reject the null hypothesis There is no relation between seat category and party\n"
          ]
        },
        {
          "data": {
            "application/vnd.plotly.v1+json": {
              "config": {
                "plotlyServerURL": "https://plot.ly"
              },
              "data": [
                {
                  "marker": {
                    "color": [
                      "#19AAED",
                      "#FF9933",
                      "#FF9933",
                      "#19AAED",
                      "#FF9933",
                      "#19AAED",
                      "#19AAED",
                      "#19AAED",
                      "#FF9933",
                      "#FF9933",
                      "#FF9933",
                      "#19AAED",
                      "#FF9933",
                      "#19AAED",
                      "#19AAED",
                      "#19AAED",
                      "#FF9933"
                    ]
                  },
                  "type": "bar",
                  "x": [
                    "Sadhaura",
                    "Hodal",
                    "Kharkhauda",
                    "Shahbad",
                    "Narwana",
                    "Kalanaur",
                    "Mulana",
                    "Jhajjar",
                    "Israna",
                    "Nilokheri",
                    "Bawal",
                    "Ratia",
                    "Bawani Khera",
                    "Guhla",
                    "Kalanwali",
                    "Uklana",
                    "Pataudi"
                  ],
                  "y": [
                    1699,
                    2595,
                    5635,
                    6441,
                    11499,
                    12232,
                    12865,
                    13555,
                    13895,
                    18845,
                    20011,
                    21442,
                    21779,
                    22880,
                    22959,
                    28092,
                    46530
                  ]
                }
              ],
              "layout": {
                "template": {
                  "data": {
                    "bar": [
                      {
                        "error_x": {
                          "color": "#2a3f5f"
                        },
                        "error_y": {
                          "color": "#2a3f5f"
                        },
                        "marker": {
                          "line": {
                            "color": "#E5ECF6",
                            "width": 0.5
                          },
                          "pattern": {
                            "fillmode": "overlay",
                            "size": 10,
                            "solidity": 0.2
                          }
                        },
                        "type": "bar"
                      }
                    ],
                    "barpolar": [
                      {
                        "marker": {
                          "line": {
                            "color": "#E5ECF6",
                            "width": 0.5
                          },
                          "pattern": {
                            "fillmode": "overlay",
                            "size": 10,
                            "solidity": 0.2
                          }
                        },
                        "type": "barpolar"
                      }
                    ],
                    "carpet": [
                      {
                        "aaxis": {
                          "endlinecolor": "#2a3f5f",
                          "gridcolor": "white",
                          "linecolor": "white",
                          "minorgridcolor": "white",
                          "startlinecolor": "#2a3f5f"
                        },
                        "baxis": {
                          "endlinecolor": "#2a3f5f",
                          "gridcolor": "white",
                          "linecolor": "white",
                          "minorgridcolor": "white",
                          "startlinecolor": "#2a3f5f"
                        },
                        "type": "carpet"
                      }
                    ],
                    "choropleth": [
                      {
                        "colorbar": {
                          "outlinewidth": 0,
                          "ticks": ""
                        },
                        "type": "choropleth"
                      }
                    ],
                    "contour": [
                      {
                        "colorbar": {
                          "outlinewidth": 0,
                          "ticks": ""
                        },
                        "colorscale": [
                          [
                            0,
                            "#0d0887"
                          ],
                          [
                            0.1111111111111111,
                            "#46039f"
                          ],
                          [
                            0.2222222222222222,
                            "#7201a8"
                          ],
                          [
                            0.3333333333333333,
                            "#9c179e"
                          ],
                          [
                            0.4444444444444444,
                            "#bd3786"
                          ],
                          [
                            0.5555555555555556,
                            "#d8576b"
                          ],
                          [
                            0.6666666666666666,
                            "#ed7953"
                          ],
                          [
                            0.7777777777777778,
                            "#fb9f3a"
                          ],
                          [
                            0.8888888888888888,
                            "#fdca26"
                          ],
                          [
                            1,
                            "#f0f921"
                          ]
                        ],
                        "type": "contour"
                      }
                    ],
                    "contourcarpet": [
                      {
                        "colorbar": {
                          "outlinewidth": 0,
                          "ticks": ""
                        },
                        "type": "contourcarpet"
                      }
                    ],
                    "heatmap": [
                      {
                        "colorbar": {
                          "outlinewidth": 0,
                          "ticks": ""
                        },
                        "colorscale": [
                          [
                            0,
                            "#0d0887"
                          ],
                          [
                            0.1111111111111111,
                            "#46039f"
                          ],
                          [
                            0.2222222222222222,
                            "#7201a8"
                          ],
                          [
                            0.3333333333333333,
                            "#9c179e"
                          ],
                          [
                            0.4444444444444444,
                            "#bd3786"
                          ],
                          [
                            0.5555555555555556,
                            "#d8576b"
                          ],
                          [
                            0.6666666666666666,
                            "#ed7953"
                          ],
                          [
                            0.7777777777777778,
                            "#fb9f3a"
                          ],
                          [
                            0.8888888888888888,
                            "#fdca26"
                          ],
                          [
                            1,
                            "#f0f921"
                          ]
                        ],
                        "type": "heatmap"
                      }
                    ],
                    "heatmapgl": [
                      {
                        "colorbar": {
                          "outlinewidth": 0,
                          "ticks": ""
                        },
                        "colorscale": [
                          [
                            0,
                            "#0d0887"
                          ],
                          [
                            0.1111111111111111,
                            "#46039f"
                          ],
                          [
                            0.2222222222222222,
                            "#7201a8"
                          ],
                          [
                            0.3333333333333333,
                            "#9c179e"
                          ],
                          [
                            0.4444444444444444,
                            "#bd3786"
                          ],
                          [
                            0.5555555555555556,
                            "#d8576b"
                          ],
                          [
                            0.6666666666666666,
                            "#ed7953"
                          ],
                          [
                            0.7777777777777778,
                            "#fb9f3a"
                          ],
                          [
                            0.8888888888888888,
                            "#fdca26"
                          ],
                          [
                            1,
                            "#f0f921"
                          ]
                        ],
                        "type": "heatmapgl"
                      }
                    ],
                    "histogram": [
                      {
                        "marker": {
                          "pattern": {
                            "fillmode": "overlay",
                            "size": 10,
                            "solidity": 0.2
                          }
                        },
                        "type": "histogram"
                      }
                    ],
                    "histogram2d": [
                      {
                        "colorbar": {
                          "outlinewidth": 0,
                          "ticks": ""
                        },
                        "colorscale": [
                          [
                            0,
                            "#0d0887"
                          ],
                          [
                            0.1111111111111111,
                            "#46039f"
                          ],
                          [
                            0.2222222222222222,
                            "#7201a8"
                          ],
                          [
                            0.3333333333333333,
                            "#9c179e"
                          ],
                          [
                            0.4444444444444444,
                            "#bd3786"
                          ],
                          [
                            0.5555555555555556,
                            "#d8576b"
                          ],
                          [
                            0.6666666666666666,
                            "#ed7953"
                          ],
                          [
                            0.7777777777777778,
                            "#fb9f3a"
                          ],
                          [
                            0.8888888888888888,
                            "#fdca26"
                          ],
                          [
                            1,
                            "#f0f921"
                          ]
                        ],
                        "type": "histogram2d"
                      }
                    ],
                    "histogram2dcontour": [
                      {
                        "colorbar": {
                          "outlinewidth": 0,
                          "ticks": ""
                        },
                        "colorscale": [
                          [
                            0,
                            "#0d0887"
                          ],
                          [
                            0.1111111111111111,
                            "#46039f"
                          ],
                          [
                            0.2222222222222222,
                            "#7201a8"
                          ],
                          [
                            0.3333333333333333,
                            "#9c179e"
                          ],
                          [
                            0.4444444444444444,
                            "#bd3786"
                          ],
                          [
                            0.5555555555555556,
                            "#d8576b"
                          ],
                          [
                            0.6666666666666666,
                            "#ed7953"
                          ],
                          [
                            0.7777777777777778,
                            "#fb9f3a"
                          ],
                          [
                            0.8888888888888888,
                            "#fdca26"
                          ],
                          [
                            1,
                            "#f0f921"
                          ]
                        ],
                        "type": "histogram2dcontour"
                      }
                    ],
                    "mesh3d": [
                      {
                        "colorbar": {
                          "outlinewidth": 0,
                          "ticks": ""
                        },
                        "type": "mesh3d"
                      }
                    ],
                    "parcoords": [
                      {
                        "line": {
                          "colorbar": {
                            "outlinewidth": 0,
                            "ticks": ""
                          }
                        },
                        "type": "parcoords"
                      }
                    ],
                    "pie": [
                      {
                        "automargin": true,
                        "type": "pie"
                      }
                    ],
                    "scatter": [
                      {
                        "fillpattern": {
                          "fillmode": "overlay",
                          "size": 10,
                          "solidity": 0.2
                        },
                        "type": "scatter"
                      }
                    ],
                    "scatter3d": [
                      {
                        "line": {
                          "colorbar": {
                            "outlinewidth": 0,
                            "ticks": ""
                          }
                        },
                        "marker": {
                          "colorbar": {
                            "outlinewidth": 0,
                            "ticks": ""
                          }
                        },
                        "type": "scatter3d"
                      }
                    ],
                    "scattercarpet": [
                      {
                        "marker": {
                          "colorbar": {
                            "outlinewidth": 0,
                            "ticks": ""
                          }
                        },
                        "type": "scattercarpet"
                      }
                    ],
                    "scattergeo": [
                      {
                        "marker": {
                          "colorbar": {
                            "outlinewidth": 0,
                            "ticks": ""
                          }
                        },
                        "type": "scattergeo"
                      }
                    ],
                    "scattergl": [
                      {
                        "marker": {
                          "colorbar": {
                            "outlinewidth": 0,
                            "ticks": ""
                          }
                        },
                        "type": "scattergl"
                      }
                    ],
                    "scattermapbox": [
                      {
                        "marker": {
                          "colorbar": {
                            "outlinewidth": 0,
                            "ticks": ""
                          }
                        },
                        "type": "scattermapbox"
                      }
                    ],
                    "scatterpolar": [
                      {
                        "marker": {
                          "colorbar": {
                            "outlinewidth": 0,
                            "ticks": ""
                          }
                        },
                        "type": "scatterpolar"
                      }
                    ],
                    "scatterpolargl": [
                      {
                        "marker": {
                          "colorbar": {
                            "outlinewidth": 0,
                            "ticks": ""
                          }
                        },
                        "type": "scatterpolargl"
                      }
                    ],
                    "scatterternary": [
                      {
                        "marker": {
                          "colorbar": {
                            "outlinewidth": 0,
                            "ticks": ""
                          }
                        },
                        "type": "scatterternary"
                      }
                    ],
                    "surface": [
                      {
                        "colorbar": {
                          "outlinewidth": 0,
                          "ticks": ""
                        },
                        "colorscale": [
                          [
                            0,
                            "#0d0887"
                          ],
                          [
                            0.1111111111111111,
                            "#46039f"
                          ],
                          [
                            0.2222222222222222,
                            "#7201a8"
                          ],
                          [
                            0.3333333333333333,
                            "#9c179e"
                          ],
                          [
                            0.4444444444444444,
                            "#bd3786"
                          ],
                          [
                            0.5555555555555556,
                            "#d8576b"
                          ],
                          [
                            0.6666666666666666,
                            "#ed7953"
                          ],
                          [
                            0.7777777777777778,
                            "#fb9f3a"
                          ],
                          [
                            0.8888888888888888,
                            "#fdca26"
                          ],
                          [
                            1,
                            "#f0f921"
                          ]
                        ],
                        "type": "surface"
                      }
                    ],
                    "table": [
                      {
                        "cells": {
                          "fill": {
                            "color": "#EBF0F8"
                          },
                          "line": {
                            "color": "white"
                          }
                        },
                        "header": {
                          "fill": {
                            "color": "#C8D4E3"
                          },
                          "line": {
                            "color": "white"
                          }
                        },
                        "type": "table"
                      }
                    ]
                  },
                  "layout": {
                    "annotationdefaults": {
                      "arrowcolor": "#2a3f5f",
                      "arrowhead": 0,
                      "arrowwidth": 1
                    },
                    "autotypenumbers": "strict",
                    "coloraxis": {
                      "colorbar": {
                        "outlinewidth": 0,
                        "ticks": ""
                      }
                    },
                    "colorscale": {
                      "diverging": [
                        [
                          0,
                          "#8e0152"
                        ],
                        [
                          0.1,
                          "#c51b7d"
                        ],
                        [
                          0.2,
                          "#de77ae"
                        ],
                        [
                          0.3,
                          "#f1b6da"
                        ],
                        [
                          0.4,
                          "#fde0ef"
                        ],
                        [
                          0.5,
                          "#f7f7f7"
                        ],
                        [
                          0.6,
                          "#e6f5d0"
                        ],
                        [
                          0.7,
                          "#b8e186"
                        ],
                        [
                          0.8,
                          "#7fbc41"
                        ],
                        [
                          0.9,
                          "#4d9221"
                        ],
                        [
                          1,
                          "#276419"
                        ]
                      ],
                      "sequential": [
                        [
                          0,
                          "#0d0887"
                        ],
                        [
                          0.1111111111111111,
                          "#46039f"
                        ],
                        [
                          0.2222222222222222,
                          "#7201a8"
                        ],
                        [
                          0.3333333333333333,
                          "#9c179e"
                        ],
                        [
                          0.4444444444444444,
                          "#bd3786"
                        ],
                        [
                          0.5555555555555556,
                          "#d8576b"
                        ],
                        [
                          0.6666666666666666,
                          "#ed7953"
                        ],
                        [
                          0.7777777777777778,
                          "#fb9f3a"
                        ],
                        [
                          0.8888888888888888,
                          "#fdca26"
                        ],
                        [
                          1,
                          "#f0f921"
                        ]
                      ],
                      "sequentialminus": [
                        [
                          0,
                          "#0d0887"
                        ],
                        [
                          0.1111111111111111,
                          "#46039f"
                        ],
                        [
                          0.2222222222222222,
                          "#7201a8"
                        ],
                        [
                          0.3333333333333333,
                          "#9c179e"
                        ],
                        [
                          0.4444444444444444,
                          "#bd3786"
                        ],
                        [
                          0.5555555555555556,
                          "#d8576b"
                        ],
                        [
                          0.6666666666666666,
                          "#ed7953"
                        ],
                        [
                          0.7777777777777778,
                          "#fb9f3a"
                        ],
                        [
                          0.8888888888888888,
                          "#fdca26"
                        ],
                        [
                          1,
                          "#f0f921"
                        ]
                      ]
                    },
                    "colorway": [
                      "#636efa",
                      "#EF553B",
                      "#00cc96",
                      "#ab63fa",
                      "#FFA15A",
                      "#19d3f3",
                      "#FF6692",
                      "#B6E880",
                      "#FF97FF",
                      "#FECB52"
                    ],
                    "font": {
                      "color": "#2a3f5f"
                    },
                    "geo": {
                      "bgcolor": "white",
                      "lakecolor": "white",
                      "landcolor": "#E5ECF6",
                      "showlakes": true,
                      "showland": true,
                      "subunitcolor": "white"
                    },
                    "hoverlabel": {
                      "align": "left"
                    },
                    "hovermode": "closest",
                    "mapbox": {
                      "style": "light"
                    },
                    "paper_bgcolor": "white",
                    "plot_bgcolor": "#E5ECF6",
                    "polar": {
                      "angularaxis": {
                        "gridcolor": "white",
                        "linecolor": "white",
                        "ticks": ""
                      },
                      "bgcolor": "#E5ECF6",
                      "radialaxis": {
                        "gridcolor": "white",
                        "linecolor": "white",
                        "ticks": ""
                      }
                    },
                    "scene": {
                      "xaxis": {
                        "backgroundcolor": "#E5ECF6",
                        "gridcolor": "white",
                        "gridwidth": 2,
                        "linecolor": "white",
                        "showbackground": true,
                        "ticks": "",
                        "zerolinecolor": "white"
                      },
                      "yaxis": {
                        "backgroundcolor": "#E5ECF6",
                        "gridcolor": "white",
                        "gridwidth": 2,
                        "linecolor": "white",
                        "showbackground": true,
                        "ticks": "",
                        "zerolinecolor": "white"
                      },
                      "zaxis": {
                        "backgroundcolor": "#E5ECF6",
                        "gridcolor": "white",
                        "gridwidth": 2,
                        "linecolor": "white",
                        "showbackground": true,
                        "ticks": "",
                        "zerolinecolor": "white"
                      }
                    },
                    "shapedefaults": {
                      "line": {
                        "color": "#2a3f5f"
                      }
                    },
                    "ternary": {
                      "aaxis": {
                        "gridcolor": "white",
                        "linecolor": "white",
                        "ticks": ""
                      },
                      "baxis": {
                        "gridcolor": "white",
                        "linecolor": "white",
                        "ticks": ""
                      },
                      "bgcolor": "#E5ECF6",
                      "caxis": {
                        "gridcolor": "white",
                        "linecolor": "white",
                        "ticks": ""
                      }
                    },
                    "title": {
                      "x": 0.05
                    },
                    "xaxis": {
                      "automargin": true,
                      "gridcolor": "white",
                      "linecolor": "white",
                      "ticks": "",
                      "title": {
                        "standoff": 15
                      },
                      "zerolinecolor": "white",
                      "zerolinewidth": 2
                    },
                    "yaxis": {
                      "automargin": true,
                      "gridcolor": "white",
                      "linecolor": "white",
                      "ticks": "",
                      "title": {
                        "standoff": 15
                      },
                      "zerolinecolor": "white",
                      "zerolinewidth": 2
                    }
                  }
                },
                "title": {
                  "text": "Winning Margin for SC seats"
                },
                "xaxis": {
                  "title": {
                    "text": "Constituency Name"
                  }
                },
                "yaxis": {
                  "title": {
                    "text": "Margin"
                  }
                }
              }
            }
          },
          "metadata": {},
          "output_type": "display_data"
        }
      ],
      "source": [
        "from scipy.stats import chi2_contingency\n",
        "\n",
        "H0 = 'There is no relation between seat category and party'\n",
        "H1 = 'Seat category and party are dependent'\n",
        "\n",
        "winner = result[result.Rank==1]\n",
        "test_table = pd.crosstab(index=winner['Abb'], columns=winner['Constituency Category'], values=winner['Rank'], aggfunc='count')\n",
        "statistic, pvalue, dof, expected_freq = chi2_contingency(test_table)\n",
        "\n",
        "print('\\tTest statistic confidence 99% (Significance level 0.01)')\n",
        "if pvalue < 0.01:\n",
        "    print('\\tReject the null hypothesis', H1)\n",
        "else:\n",
        "    print('\\tFail to reject the null hypothesis', H0)\n",
        "\n",
        "\n",
        "sc_seats = result[(result['Constituency Category']!='GEN') & (result['Rank']==1)].sort_values(by='Margin')\n",
        "fig = go.Figure()\n",
        "fig.add_trace(go.Bar(x=sc_seats['Constituency Name'], y=sc_seats['Margin'],\n",
        "                     marker_color=sc_seats['Color']))\n",
        "fig.update_layout(title='Winning Margin for SC seats', xaxis_title='Constituency Name', yaxis_title='Margin')"
      ]
    },
    {
      "cell_type": "markdown",
      "metadata": {},
      "source": [
        "# Second runner-up impact on winning candidate"
      ]
    },
    {
      "cell_type": "code",
      "execution_count": 16,
      "metadata": {},
      "outputs": [
        {
          "name": "stdout",
          "output_type": "stream",
          "text": [
            "<class 'pandas.core.frame.DataFrame'>\n",
            "RangeIndex: 90 entries, 0 to 89\n",
            "Data columns (total 14 columns):\n",
            " #   Column             Non-Null Count  Dtype \n",
            "---  ------             --------------  ----- \n",
            " 0   Constituency       90 non-null     int64 \n",
            " 1   Constituency Name  90 non-null     object\n",
            " 2   Abb_1              90 non-null     object\n",
            " 3   Abb_2              90 non-null     object\n",
            " 4   Abb_3              90 non-null     object\n",
            " 5   Total Votes_1      90 non-null     int64 \n",
            " 6   Total Votes_2      90 non-null     int64 \n",
            " 7   Total Votes_3      90 non-null     int64 \n",
            " 8   Margin_1           90 non-null     int64 \n",
            " 9   Margin_2           90 non-null     int64 \n",
            " 10  Margin_3           90 non-null     int64 \n",
            " 11  VoterTurnout_1     90 non-null     object\n",
            " 12  VoterTurnout_2     90 non-null     object\n",
            " 13  VoterTurnout_3     90 non-null     object\n",
            "dtypes: int64(7), object(7)\n",
            "memory usage: 10.0+ KB\n"
          ]
        }
      ],
      "source": [
        "positions = result[result.Rank.isin([1,2,3])].pivot(index=['Constituency', 'Constituency Name'], columns='Rank',\n",
        "                                                    values=['Abb','Total Votes','Margin','VoterTurnout'])\n",
        "positions.columns = [f\"{col[0]}_{int(col[1])}\" for col in positions.columns]\n",
        "positions.reset_index(inplace=True)\n",
        "positions[['Total Votes_1','Total Votes_2','Total Votes_3','Margin_1','Margin_2','Margin_3']]=positions[['Total Votes_1','Total Votes_2','Total Votes_3','Margin_1','Margin_2','Margin_3']].astype(int)\n",
        "positions.info()"
      ]
    },
    {
      "cell_type": "code",
      "execution_count": 17,
      "metadata": {},
      "outputs": [
        {
          "name": "stdout",
          "output_type": "stream",
          "text": [
            "\u001b[33mCorrelation: 0.11, p-value: 0.29\n",
            "\u001b[31mFail to reject the null hypothesis.\n",
            "There is a no significant correlation between second runner-up vote share and winner candidate margin.\n"
          ]
        }
      ],
      "source": [
        "from scipy.stats import shapiro, pearsonr, spearmanr\n",
        "\n",
        "alpha = 0.01\n",
        "\n",
        "# Check if data is normal or not\n",
        "_, margin_p = shapiro(positions['Margin_1'])\n",
        "_, votes_p = shapiro(positions['Total Votes_3'])\n",
        "\n",
        "if (margin_p > alpha) and (votes_p > alpha):\n",
        "    # If data is normal, use Pearson's correlation\n",
        "    corr, p = pearsonr(positions['Margin_1'], positions['Total Votes_3'])\n",
        "else:\n",
        "    # If data is not normal, use Spearman's correlation\n",
        "    corr, p = spearmanr(positions['Margin_1'], positions['Total Votes_3'])\n",
        "\n",
        "print(f\"{yellow_text}Correlation: {corr:.2f}, p-value: {p:.2f}\")\n",
        "if p < alpha:\n",
        "    print(f\"{green_text}Reject the null hypothesis.\\nThere is a significant correlation between second runner-up vote share and winner candidate margin.\")\n",
        "else:\n",
        "    print(f\"{red_text}Fail to reject the null hypothesis.\\nThere is a no significant correlation between second runner-up vote share and winner candidate margin.\")\n"
      ]
    }
  ],
  "metadata": {
    "colab": {
      "provenance": []
    },
    "kernelspec": {
      "display_name": "Python 3",
      "name": "python3"
    },
    "language_info": {
      "codemirror_mode": {
        "name": "ipython",
        "version": 3
      },
      "file_extension": ".py",
      "mimetype": "text/x-python",
      "name": "python",
      "nbconvert_exporter": "python",
      "pygments_lexer": "ipython3",
      "version": "3.13.0"
    }
  },
  "nbformat": 4,
  "nbformat_minor": 0
}
